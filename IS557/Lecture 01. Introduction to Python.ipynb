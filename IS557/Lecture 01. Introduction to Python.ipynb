{
 "cells": [
  {
   "cell_type": "markdown",
   "id": "f8abc131",
   "metadata": {},
   "source": [
    "# Welcome to the Python Course!\n",
    "\n",
    "Hello and welcome to this Python programming course. We will start by familiarizing ourselves with Jupyter notebooks and then dive into some basic Python programming concepts.\n",
    "\n",
    "## Jupyter Notebooks\n",
    "\n",
    "Jupyter notebooks are interactive documents that contain both code and rich text elements like paragraphs, equations, figures, links, etc. There are two types of cells in a Jupyter notebook:\n",
    "\n",
    "1. **Text Cells**: These cells are used for writing text, equations, creating tables, etc. You can format the text in these cells using Markdown syntax. For example, you can make text bold by enclosing it in double asterisks (`**bold text**`). Double click on this cell to edit its content and see the markdown used.\n",
    "\n",
    "2. **Code Cells**: These cells contain Python code. You can execute the code in these cells by pressing the `Run` button in the toolbar at the top or by pressing `Shift + Enter`.\n",
    "\n",
    "Let's try executing the following code cell:"
   ]
  },
  {
   "cell_type": "code",
   "execution_count": null,
   "id": "87a77931",
   "metadata": {},
   "outputs": [],
   "source": [
    "print(\"Hello, World!\")"
   ]
  },
  {
   "cell_type": "markdown",
   "id": "9f53384d",
   "metadata": {},
   "source": [
    "You can see the output of the code right below the code cell. This combination of text, code, and code output makes Jupyter notebooks a convenient environment for teaching and scientific programming."
   ]
  },
  {
   "cell_type": "markdown",
   "id": "ef3c245e",
   "metadata": {},
   "source": [
    "## Keyboard Shortcuts\n",
    "\n",
    "There are many useful keyboard shortcuts in Jupyter notebooks. You can view the full list by pressing `H` (you need to press `Esc` first if you are editing a cell). Some of the most important ones for us are:\n",
    "\n",
    "- `Shift`+`Enter`: Run the current cell and select the next one.\n",
    "- `B`: Insert a new cell below the current one.\n",
    "- `A`: Insert a new cell above the current one.\n"
   ]
  },
  {
   "cell_type": "markdown",
   "id": "e034b486",
   "metadata": {},
   "source": [
    "## Implicit Output\n",
    "\n",
    "Jupyter notebooks automatically display the value of the last expression in a code cell, so you don't always have to use the print function:"
   ]
  },
  {
   "cell_type": "code",
   "execution_count": null,
   "id": "35f9db51",
   "metadata": {},
   "outputs": [],
   "source": [
    "\"Hello\""
   ]
  },
  {
   "cell_type": "code",
   "execution_count": null,
   "id": "94eea7b6",
   "metadata": {},
   "outputs": [],
   "source": [
    "2 + 2"
   ]
  },
  {
   "cell_type": "code",
   "execution_count": null,
   "id": "15a952cf",
   "metadata": {},
   "outputs": [],
   "source": [
    "\"Hello\"\n",
    "2 + 2"
   ]
  },
  {
   "cell_type": "markdown",
   "id": "a478e450",
   "metadata": {},
   "source": [
    "In the cell above, the value of the last expression, `2 + 2`, is displayed as the output. However, if you want to display the output of multiple expressions in a single cell or format the output, you should use the `print` function:"
   ]
  },
  {
   "cell_type": "code",
   "execution_count": null,
   "id": "740c8576",
   "metadata": {},
   "outputs": [],
   "source": [
    "print(\"Hello\")\n",
    "2 + 2"
   ]
  },
  {
   "cell_type": "markdown",
   "id": "ce9c619d",
   "metadata": {},
   "source": [
    "## Using Python as a Calculator\n",
    "Python can be used as a powerful calculator. You can perform basic arithmetic operations like addition, subtraction, multiplication, and division:"
   ]
  },
  {
   "cell_type": "code",
   "execution_count": null,
   "id": "46692d49",
   "metadata": {},
   "outputs": [],
   "source": [
    "2 + 3 * (4 - 1)"
   ]
  },
  {
   "cell_type": "markdown",
   "id": "c536fb30",
   "metadata": {},
   "source": [
    "## Arithmetic Operators\n",
    "Here are some common arithmetic operators in Python:\n",
    "\n",
    "| Symbol | Task Performed |\n",
    "|----|---|\n",
    "| +  | Addition |\n",
    "| -  | Subtraction |\n",
    "| /  | Division |\n",
    "| //  | Integer Division |\n",
    "| *  | Multiplication |\n",
    "| **  | Exponentiation |\n",
    "| % | Modulus |"
   ]
  },
  {
   "cell_type": "markdown",
   "id": "ab66374e",
   "metadata": {},
   "source": [
    "Let's try using some of these operators:"
   ]
  },
  {
   "cell_type": "code",
   "execution_count": null,
   "id": "5a16e904",
   "metadata": {},
   "outputs": [],
   "source": [
    "2 ** 10"
   ]
  },
  {
   "cell_type": "code",
   "execution_count": null,
   "id": "19f42277",
   "metadata": {},
   "outputs": [],
   "source": [
    "21 / 5"
   ]
  },
  {
   "cell_type": "code",
   "execution_count": null,
   "id": "8de5a8bc",
   "metadata": {},
   "outputs": [],
   "source": [
    "21 // 5"
   ]
  },
  {
   "cell_type": "code",
   "execution_count": null,
   "id": "edcd5495",
   "metadata": {},
   "outputs": [],
   "source": [
    "21 % 5"
   ]
  },
  {
   "cell_type": "markdown",
   "id": "c9a7357c",
   "metadata": {},
   "source": [
    "### Variables\n",
    "\n",
    "Such capabilities won't be very useful if we cannot store the results of these operation.\n",
    "\n",
    "In computer programming, a variable is a storage location paired with an associated symbolic name, which contains some quantity of information referred to as a value. The variable name is the usual way to reference the stored value.\n",
    "\n",
    "Here's how you can assign values to variables and use them in calculations:"
   ]
  },
  {
   "cell_type": "code",
   "execution_count": null,
   "id": "e5fd3e64",
   "metadata": {},
   "outputs": [],
   "source": [
    "x = 2"
   ]
  },
  {
   "cell_type": "code",
   "execution_count": null,
   "id": "58c396a6",
   "metadata": {},
   "outputs": [],
   "source": [
    "my_variable = 12 * 2"
   ]
  },
  {
   "cell_type": "code",
   "execution_count": null,
   "id": "220ec6f5",
   "metadata": {},
   "outputs": [],
   "source": [
    "x = my_variable + 4"
   ]
  },
  {
   "cell_type": "code",
   "execution_count": null,
   "id": "bbc963bf",
   "metadata": {},
   "outputs": [],
   "source": [
    "x = x + 1"
   ]
  },
  {
   "cell_type": "markdown",
   "id": "0919ccb0",
   "metadata": {},
   "source": [
    "## Order of Execution\n",
    "\n",
    "Note that cells in a Jupyter notebook can be executed in any order, and the state is preserved between executions. You have to be careful with this because it might be impossible to predict the output of a cell without knowing the order of cell execution. Try, for example, running the first cell, then the second, and compare it with running the third and then the second:"
   ]
  },
  {
   "cell_type": "code",
   "execution_count": null,
   "id": "ee75dba8",
   "metadata": {},
   "outputs": [],
   "source": [
    "x = 1"
   ]
  },
  {
   "cell_type": "code",
   "execution_count": null,
   "id": "a3debaa2",
   "metadata": {},
   "outputs": [],
   "source": [
    "print(x)"
   ]
  },
  {
   "cell_type": "code",
   "execution_count": null,
   "id": "c3b9995e",
   "metadata": {},
   "outputs": [],
   "source": [
    "x = 2"
   ]
  },
  {
   "cell_type": "markdown",
   "id": "6c8f827f",
   "metadata": {},
   "source": [
    "Things can get even more complicated because you can run the same cell multiple times. Try running the next cell multiple times and then the second cell:"
   ]
  },
  {
   "cell_type": "code",
   "execution_count": null,
   "id": "f1172971",
   "metadata": {},
   "outputs": [],
   "source": [
    "x = x + 1"
   ]
  },
  {
   "cell_type": "code",
   "execution_count": null,
   "id": "4fc96adc",
   "metadata": {},
   "outputs": [],
   "source": [
    "print(x)"
   ]
  },
  {
   "cell_type": "markdown",
   "id": "5c776ab3",
   "metadata": {},
   "source": [
    "## Relational Operators\n",
    "Relational operators are used to compare values. Here are some common relational operators in Python:\n",
    "\n",
    "| Symbol | Task Performed |\n",
    "|----|---|\n",
    "| == | True, if both sides are equal |\n",
    "| !=  | True, if both sides are not equal |\n",
    "| < |True, if the left side is smaller |\n",
    "| > | True, if the left side is greater |\n",
    "| <=  | True, if the left side is smaller or equal to the right side |\n",
    "| >=  | True, if the left side is greater or equal to the right side |"
   ]
  },
  {
   "cell_type": "markdown",
   "id": "e1d4b4fd",
   "metadata": {},
   "source": [
    "Let's try using some of these operators:"
   ]
  },
  {
   "cell_type": "code",
   "execution_count": null,
   "id": "a39cdcaa",
   "metadata": {},
   "outputs": [],
   "source": [
    "5 != 3"
   ]
  },
  {
   "cell_type": "code",
   "execution_count": null,
   "id": "6d4a58c1",
   "metadata": {},
   "outputs": [],
   "source": [
    "x > 5"
   ]
  },
  {
   "cell_type": "code",
   "execution_count": null,
   "id": "20a5bcd9",
   "metadata": {},
   "outputs": [],
   "source": [
    "x = 2\n",
    "y = 3\n",
    "x != y"
   ]
  },
  {
   "cell_type": "markdown",
   "id": "580d4a4a",
   "metadata": {},
   "source": [
    "## Simple Function Calls"
   ]
  },
  {
   "cell_type": "markdown",
   "id": "283c4755",
   "metadata": {},
   "source": [
    "We have already seen an example of a function call when we used the print function:"
   ]
  },
  {
   "cell_type": "code",
   "execution_count": null,
   "id": "53263b23",
   "metadata": {},
   "outputs": [],
   "source": [
    "print(\"Hello World\")"
   ]
  },
  {
   "cell_type": "markdown",
   "id": "052d9f3c",
   "metadata": {},
   "source": [
    "To call a function, we use its name followed by parentheses `()` containing the function's parameters (if any). Some functions take only one argument, others might take zero arguments, or an arbitrary large number of arguments."
   ]
  },
  {
   "cell_type": "markdown",
   "id": "1f5e9a86",
   "metadata": {},
   "source": [
    "There are several built-in functions in Python that you can always call. See the [Python documentation](https://docs.python.org/3/library/functions.html) for a full list. We will discuss several of these functions throughout the course. Let's try calling some built-in functions:"
   ]
  },
  {
   "cell_type": "code",
   "execution_count": null,
   "id": "2cc9f5ab",
   "metadata": {},
   "outputs": [],
   "source": [
    "abs(-5)"
   ]
  },
  {
   "cell_type": "code",
   "execution_count": null,
   "id": "de3ba0c7",
   "metadata": {},
   "outputs": [],
   "source": [
    "max(3, 5)"
   ]
  },
  {
   "cell_type": "code",
   "execution_count": null,
   "id": "d45dcddc",
   "metadata": {},
   "outputs": [],
   "source": [
    "x = 6\n",
    "max(6, 0)"
   ]
  },
  {
   "cell_type": "code",
   "execution_count": null,
   "id": "afaf29fa",
   "metadata": {},
   "outputs": [],
   "source": [
    "print(max(x, 5), max(1, 3))"
   ]
  },
  {
   "cell_type": "markdown",
   "id": "6b17d8cc",
   "metadata": {},
   "source": [
    "The same function can be applied to text:"
   ]
  },
  {
   "cell_type": "code",
   "execution_count": null,
   "id": "1595d79c",
   "metadata": {},
   "outputs": [],
   "source": [
    "print(max('abc', 'abcd'))"
   ]
  },
  {
   "cell_type": "markdown",
   "id": "8861054f",
   "metadata": {},
   "source": [
    "## Data types\n",
    "\n",
    "We have already used numbers and strings and have seen a boolean value. Generally, there are four most important basic data types in Python:"
   ]
  },
  {
   "cell_type": "markdown",
   "id": "26ad421f",
   "metadata": {},
   "source": [
    "| type | description |\n",
    "|----|---|\n",
    "| int | integer number |\n",
    "| float  | floating point number |\n",
    "| bool | True or False |\n",
    "| string | text |\n",
    "\n",
    "We can check the type of a variable with the \"type\" function."
   ]
  },
  {
   "cell_type": "code",
   "execution_count": null,
   "id": "b722bb99",
   "metadata": {},
   "outputs": [],
   "source": [
    "print(type(5))\n",
    "print(type(5.0))\n",
    "print(type(\"Hello World\"))\n",
    "print(type('Hello World')) # \" \" and ' ' can be used equivalently\n",
    "print(type(True))\n",
    "print(type(5 > 3))"
   ]
  },
  {
   "cell_type": "markdown",
   "id": "0ef5609f",
   "metadata": {},
   "source": [
    "You can convert between these types by casting:"
   ]
  },
  {
   "cell_type": "code",
   "execution_count": null,
   "id": "1dd76fee",
   "metadata": {},
   "outputs": [],
   "source": [
    "x_as_int = 10\n",
    "print(type(x_as_int))\n",
    "\n",
    "x_as_string = str(x_as_int)\n",
    "print(type(x_as_string))\n",
    "\n",
    "print(len(x_as_string))"
   ]
  },
  {
   "cell_type": "markdown",
   "id": "979fc883",
   "metadata": {},
   "source": [
    "Some operations in Python are defined for multiple data types, but their behavior varies depending on the data type of the values involved:"
   ]
  },
  {
   "cell_type": "code",
   "execution_count": null,
   "id": "a52b5e6d",
   "metadata": {},
   "outputs": [],
   "source": [
    "print(\"Hello \" + \"World\" + \"!\")\n",
    "print(\"Is 'A' alphabetically before 'B'?\")\n",
    "print('A' < 'B')"
   ]
  },
  {
   "cell_type": "markdown",
   "id": "1fb81a18",
   "metadata": {},
   "source": [
    "Typically, Python does not allow operations that involve different data types in one expression, as it can lead to ambiguity or unexpected results. For example, trying to concatenate a string and an integer using the + operator will result in a TypeError because Python cannot implicitly convert one type to the other:"
   ]
  },
  {
   "cell_type": "code",
   "execution_count": null,
   "id": "f5524ab6",
   "metadata": {
    "scrolled": true
   },
   "outputs": [],
   "source": [
    "\"Hello\" + 5"
   ]
  },
  {
   "cell_type": "markdown",
   "id": "19b0bb4a",
   "metadata": {},
   "source": [
    "We could, however, explicitly convert types:"
   ]
  },
  {
   "cell_type": "code",
   "execution_count": null,
   "id": "95083457",
   "metadata": {},
   "outputs": [],
   "source": [
    "\"Hello\" + str(5)"
   ]
  },
  {
   "cell_type": "markdown",
   "id": "2eafb5dd",
   "metadata": {},
   "source": [
    "However, there are exceptions to this rule. For example, some types are automatically converted. This occurs in a way that is generally expected or intuitive. For instance, an integer would be automatically converted to its equivalent float value:"
   ]
  },
  {
   "cell_type": "code",
   "execution_count": null,
   "id": "152d5b9c",
   "metadata": {},
   "outputs": [],
   "source": [
    "4.5 + 5"
   ]
  },
  {
   "cell_type": "markdown",
   "id": "8d4b0f36",
   "metadata": {},
   "source": [
    "And some operations exhibit different behaviors when applied to different data types. For example, when the `*` operator, typically used for multiplication, is used with a string and an integer, instead of multiplication, which is not defined for strings, the * operator repeats the string the specified number of times."
   ]
  },
  {
   "cell_type": "code",
   "execution_count": null,
   "id": "50bd1fa2",
   "metadata": {
    "scrolled": true
   },
   "outputs": [],
   "source": [
    "print(\"Hello\" * 4)"
   ]
  },
  {
   "cell_type": "markdown",
   "id": "f6737b4d",
   "metadata": {},
   "source": [
    "But of course, different data types allow for different functions:"
   ]
  },
  {
   "cell_type": "code",
   "execution_count": null,
   "id": "9ec47869",
   "metadata": {},
   "outputs": [],
   "source": [
    "len(\"How long is this string?\")"
   ]
  },
  {
   "cell_type": "code",
   "execution_count": null,
   "id": "bc5c3ea6",
   "metadata": {},
   "outputs": [],
   "source": [
    "x = 10\n",
    "len(x)"
   ]
  },
  {
   "cell_type": "markdown",
   "id": "672fed16",
   "metadata": {},
   "source": [
    "## String Functions and Methods\n",
    "A string in Python is a sequence of characters enclosed within single, double, or triple quotes. It is used to store text data"
   ]
  },
  {
   "cell_type": "code",
   "execution_count": null,
   "id": "0451ab3c",
   "metadata": {},
   "outputs": [],
   "source": [
    "s = \"Python is my new favorite language\"\n",
    "len(s)"
   ]
  },
  {
   "cell_type": "markdown",
   "id": "05dff88c",
   "metadata": {},
   "source": [
    "Python provides a variety of built-in functions and methods specifically designed for string manipulation.\n",
    "\n",
    "A method is a function that belongs to a certain type and is associated with an object, in this case, a string. While the distinction between functions and methods is important and will be discussed in detail later, for now, it is important to understand how they are called differently:"
   ]
  },
  {
   "cell_type": "code",
   "execution_count": null,
   "id": "f9243b31",
   "metadata": {},
   "outputs": [],
   "source": [
    "s.lower()"
   ]
  },
  {
   "cell_type": "markdown",
   "id": "75d1578d",
   "metadata": {},
   "source": [
    "In principle this is equivalent to the following function, although in practice such function calls are never used"
   ]
  },
  {
   "cell_type": "code",
   "execution_count": null,
   "id": "9213b03b",
   "metadata": {},
   "outputs": [],
   "source": [
    "str.lower('Hello')"
   ]
  },
  {
   "cell_type": "markdown",
   "id": "eaba1f5d",
   "metadata": {},
   "source": [
    "Let's consider the most commonly used string methods:"
   ]
  },
  {
   "cell_type": "code",
   "execution_count": null,
   "id": "d0b30b71",
   "metadata": {},
   "outputs": [],
   "source": [
    "s.upper()"
   ]
  },
  {
   "cell_type": "code",
   "execution_count": null,
   "id": "b9c398d6",
   "metadata": {},
   "outputs": [],
   "source": [
    "s.startswith('P')"
   ]
  },
  {
   "cell_type": "code",
   "execution_count": null,
   "id": "fa92e925",
   "metadata": {},
   "outputs": [],
   "source": [
    "s.startswith('p') # Be careful, its case sensitive"
   ]
  },
  {
   "cell_type": "code",
   "execution_count": null,
   "id": "61861d7f",
   "metadata": {},
   "outputs": [],
   "source": [
    "s.replace(\"my\", \"your\")"
   ]
  },
  {
   "cell_type": "code",
   "execution_count": null,
   "id": "d6a6e94a",
   "metadata": {},
   "outputs": [],
   "source": [
    "s.replace(\"a\", \"4\") # replaces all occurences"
   ]
  },
  {
   "cell_type": "code",
   "execution_count": null,
   "id": "56a35bb3",
   "metadata": {},
   "outputs": [],
   "source": [
    "s"
   ]
  },
  {
   "cell_type": "code",
   "execution_count": null,
   "id": "4a5259f1",
   "metadata": {},
   "outputs": [],
   "source": [
    "# be careful: replace() does not change the string, it returns a new string!\n",
    "s.replace(\"a\", \"4\")\n",
    "s.replace(\"o\", \"0\") "
   ]
  },
  {
   "cell_type": "code",
   "execution_count": null,
   "id": "63aad9b9",
   "metadata": {},
   "outputs": [],
   "source": [
    "s.replace(\"a\", \"4\").replace(\"o\", \"0\").replace(\"e\", \"3\").replace(\"i\", \"1\")"
   ]
  },
  {
   "cell_type": "code",
   "execution_count": null,
   "id": "d24ce54a",
   "metadata": {},
   "outputs": [],
   "source": [
    "s.split(\" \")"
   ]
  }
 ],
 "metadata": {
  "kernelspec": {
   "display_name": "Python 3 (ipykernel)",
   "language": "python",
   "name": "python3"
  },
  "language_info": {
   "codemirror_mode": {
    "name": "ipython",
    "version": 3
   },
   "file_extension": ".py",
   "mimetype": "text/x-python",
   "name": "python",
   "nbconvert_exporter": "python",
   "pygments_lexer": "ipython3",
   "version": "3.11.3"
  }
 },
 "nbformat": 4,
 "nbformat_minor": 5
}
