{
  "nbformat": 4,
  "nbformat_minor": 0,
  "metadata": {
    "colab": {
      "provenance": [],
      "authorship_tag": "ABX9TyMEE3a1CorQgwudj26RkaMV",
      "include_colab_link": true
    },
    "kernelspec": {
      "name": "python3",
      "display_name": "Python 3"
    },
    "language_info": {
      "name": "python"
    }
  },
  "cells": [
    {
      "cell_type": "markdown",
      "metadata": {
        "id": "view-in-github",
        "colab_type": "text"
      },
      "source": [
        "<a href=\"https://colab.research.google.com/github/andy7622y/myfb/blob/main/IS557/1for_exam.ipynb\" target=\"_parent\"><img src=\"https://colab.research.google.com/assets/colab-badge.svg\" alt=\"Open In Colab\"/></a>"
      ]
    },
    {
      "cell_type": "code",
      "execution_count": 25,
      "metadata": {
        "colab": {
          "base_uri": "https://localhost:8080/"
        },
        "id": "C23wP83BKNsD",
        "outputId": "9b79dec7-be9b-40c2-c727-55bc04dac6c3"
      },
      "outputs": [
        {
          "output_type": "execute_result",
          "data": {
            "text/plain": [
              "[9887, 9901, 9907, 9923, 9929, 9931, 9941, 9949, 9967, 9973]"
            ]
          },
          "metadata": {},
          "execution_count": 25
        }
      ],
      "source": [
        "n = 10000\n",
        "sieve = [x for x in range(2, n)]\n",
        "for i in range(2, int(n ** 0.5) + 1):\n",
        "  if i in sieve:\n",
        "\n",
        "    for j in range(i ** 2, n + 1, i):\n",
        "      if j in sieve:\n",
        "        sieve.remove(j)\n",
        "\n",
        "sieve[-10:]\n",
        ""
      ]
    },
    {
      "cell_type": "code",
      "source": [
        "list1 = [1,2,3,4]\n",
        "list1.remove(2)\n",
        "list1"
      ],
      "metadata": {
        "colab": {
          "base_uri": "https://localhost:8080/"
        },
        "id": "f0aJ2IsPMSfd",
        "outputId": "b84260e6-abe9-4e77-efe5-ee3d750f4e12"
      },
      "execution_count": 6,
      "outputs": [
        {
          "output_type": "execute_result",
          "data": {
            "text/plain": [
              "[1, 3, 4]"
            ]
          },
          "metadata": {},
          "execution_count": 6
        }
      ]
    },
    {
      "cell_type": "code",
      "source": [
        "item_list = ['item', 5, 'foo', 3.14, True]\n",
        "item_list = [e for e in item_list if e not in ('item', 5)]\n",
        "item_list"
      ],
      "metadata": {
        "colab": {
          "base_uri": "https://localhost:8080/"
        },
        "id": "tQKf2-NfQi2f",
        "outputId": "c74dced0-0859-45da-a677-2bc512a2024d"
      },
      "execution_count": 27,
      "outputs": [
        {
          "output_type": "execute_result",
          "data": {
            "text/plain": [
              "['foo', 3.14, True]"
            ]
          },
          "metadata": {},
          "execution_count": 27
        }
      ]
    },
    {
      "cell_type": "code",
      "source": [
        "item_list = ['item', 5, 'foo', 5, 3.14, True]\n",
        "item_list = [e for e in item_list if e not in ['item', 5]]\n",
        "item_list"
      ],
      "metadata": {
        "colab": {
          "base_uri": "https://localhost:8080/"
        },
        "id": "X_GGUSibQmyo",
        "outputId": "c06f94f8-6740-4418-a8b0-65b0bce76e82"
      },
      "execution_count": 29,
      "outputs": [
        {
          "output_type": "execute_result",
          "data": {
            "text/plain": [
              "['foo', 3.14, True]"
            ]
          },
          "metadata": {},
          "execution_count": 29
        }
      ]
    }
  ]
}