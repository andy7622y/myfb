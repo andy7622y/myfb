{
  "cells": [
    {
      "cell_type": "markdown",
      "id": "65932f35",
      "metadata": {
        "id": "65932f35"
      },
      "source": [
        "### Write a function that takes 3 input parameters and returns product of these values\n",
        "Example:\n",
        "    \n",
        "Input: 2,3,5\n",
        "\n",
        "Return: 30"
      ]
    },
    {
      "cell_type": "code",
      "execution_count": 3,
      "id": "7069c313",
      "metadata": {
        "id": "7069c313",
        "outputId": "229226f1-8223-4c8e-8af7-5f3e8ccd11bf",
        "colab": {
          "base_uri": "https://localhost:8080/"
        }
      },
      "outputs": [
        {
          "output_type": "execute_result",
          "data": {
            "text/plain": [
              "4000"
            ]
          },
          "metadata": {},
          "execution_count": 3
        }
      ],
      "source": [
        "def products(x, y, z):\n",
        "  return x*y*z\n",
        "\n",
        "products(20, 20, 10)"
      ]
    },
    {
      "cell_type": "markdown",
      "id": "ab8f8eee",
      "metadata": {
        "id": "ab8f8eee"
      },
      "source": [
        "### Modify your function such that it can take an arbitrary number of input parameters, which all get multiplied with each other"
      ]
    },
    {
      "cell_type": "code",
      "execution_count": null,
      "id": "83d25692",
      "metadata": {
        "id": "83d25692"
      },
      "outputs": [],
      "source": [
        "def products(*kwargs):\n",
        "  res = 1\n",
        "  for i in kwargs:\n",
        "    res *= i\n",
        "  return res\n",
        "\n",
        "products(20, 20, 10)"
      ]
    },
    {
      "cell_type": "markdown",
      "id": "13b341ea",
      "metadata": {
        "id": "13b341ea"
      },
      "source": [
        "### Write a Python function to check if the input variable is an integer.\n",
        "should return True, if the input x is an integer, False otherwise"
      ]
    },
    {
      "cell_type": "code",
      "execution_count": 8,
      "id": "35c305c5",
      "metadata": {
        "id": "35c305c5",
        "outputId": "07413e27-e839-4f6f-f98a-9f365780dfc4",
        "colab": {
          "base_uri": "https://localhost:8080/"
        }
      },
      "outputs": [
        {
          "output_type": "execute_result",
          "data": {
            "text/plain": [
              "True"
            ]
          },
          "metadata": {},
          "execution_count": 8
        }
      ],
      "source": [
        "def integercheck(n):\n",
        "  if type(n) is int:\n",
        "    return True\n",
        "  else:\n",
        "    return False\n",
        "\n",
        "integercheck(20)"
      ]
    },
    {
      "cell_type": "markdown",
      "id": "7119adab",
      "metadata": {
        "id": "7119adab"
      },
      "source": [
        "### Write a Python function that takes an int as a parameter and checks if the number is prime or not.\n"
      ]
    },
    {
      "cell_type": "code",
      "execution_count": null,
      "id": "9feaea1c",
      "metadata": {
        "id": "9feaea1c"
      },
      "outputs": [],
      "source": [
        "def primecheck(n: int):\n",
        "  i= int(n)\n",
        "  if i % 2"
      ]
    },
    {
      "cell_type": "markdown",
      "id": "fe071088",
      "metadata": {
        "id": "fe071088"
      },
      "source": [
        "### Use your function to create a list that contains all primes up to a given integer\n"
      ]
    },
    {
      "cell_type": "code",
      "execution_count": null,
      "id": "423986ea",
      "metadata": {
        "id": "423986ea"
      },
      "outputs": [],
      "source": []
    },
    {
      "cell_type": "markdown",
      "id": "0a044f29",
      "metadata": {
        "id": "0a044f29"
      },
      "source": [
        "### Write a function that gets an integer as input and returns its cross sum\n",
        "\n",
        "cross sum of 1864 = 1+8+6+4 = 19"
      ]
    },
    {
      "cell_type": "code",
      "execution_count": 18,
      "id": "4043d8bd",
      "metadata": {
        "id": "4043d8bd",
        "outputId": "47138810-d9b7-492d-a0ee-8e0e88884282",
        "colab": {
          "base_uri": "https://localhost:8080/",
          "height": 106
        }
      },
      "outputs": [
        {
          "output_type": "error",
          "ename": "SyntaxError",
          "evalue": "invalid syntax (<ipython-input-18-ef2308d376ab>, line 4)",
          "traceback": [
            "\u001b[0;36m  File \u001b[0;32m\"<ipython-input-18-ef2308d376ab>\"\u001b[0;36m, line \u001b[0;32m4\u001b[0m\n\u001b[0;31m    d = int(x) for x in list(i)\u001b[0m\n\u001b[0m               ^\u001b[0m\n\u001b[0;31mSyntaxError\u001b[0m\u001b[0;31m:\u001b[0m invalid syntax\n"
          ]
        }
      ],
      "source": [
        "def cross_sum(n):\n",
        "  i = int(n)\n",
        "  res = 0\n",
        "  d = int(x) for x in list(i)\n",
        "  print(d)\n",
        "  #return res\n",
        "\n",
        "cross_sum(1247)"
      ]
    },
    {
      "cell_type": "code",
      "source": [
        "n = 12354\n",
        "str(n)"
      ],
      "metadata": {
        "id": "PuIDqa0IdmB-",
        "outputId": "c748a101-8916-419d-9020-0d0f2910895e",
        "colab": {
          "base_uri": "https://localhost:8080/",
          "height": 35
        }
      },
      "id": "PuIDqa0IdmB-",
      "execution_count": 14,
      "outputs": [
        {
          "output_type": "execute_result",
          "data": {
            "text/plain": [
              "'12354'"
            ],
            "application/vnd.google.colaboratory.intrinsic+json": {
              "type": "string"
            }
          },
          "metadata": {},
          "execution_count": 14
        }
      ]
    },
    {
      "cell_type": "markdown",
      "id": "5cebfcf8",
      "metadata": {
        "id": "5cebfcf8"
      },
      "source": [
        "### Write a function that simulates dice rolls (6-sided dices)\n",
        "- Write a function that has the number of dice rolls as the input parameter\n",
        "- The output is a map (dictionary) with the counts how often each result of a roll (1-6) occurred\n",
        "- You will need the randint() function from the random package for that task, see example usage below\n"
      ]
    },
    {
      "cell_type": "code",
      "execution_count": null,
      "id": "42bb670d",
      "metadata": {
        "id": "42bb670d"
      },
      "outputs": [],
      "source": [
        "# Try to run this code multiple times\n",
        "import random\n",
        "print(random.randint(1, 6))"
      ]
    },
    {
      "cell_type": "code",
      "execution_count": null,
      "id": "b7ccf35d",
      "metadata": {
        "id": "b7ccf35d"
      },
      "outputs": [],
      "source": []
    }
  ],
  "metadata": {
    "kernelspec": {
      "display_name": "Python 3 (ipykernel)",
      "language": "python",
      "name": "python3"
    },
    "language_info": {
      "codemirror_mode": {
        "name": "ipython",
        "version": 3
      },
      "file_extension": ".py",
      "mimetype": "text/x-python",
      "name": "python",
      "nbconvert_exporter": "python",
      "pygments_lexer": "ipython3",
      "version": "3.11.5"
    },
    "colab": {
      "provenance": []
    }
  },
  "nbformat": 4,
  "nbformat_minor": 5
}