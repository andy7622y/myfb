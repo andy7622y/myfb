{
  "cells": [
    {
      "cell_type": "markdown",
      "id": "65932f35",
      "metadata": {
        "id": "65932f35"
      },
      "source": [
        "### Write a function that takes 3 input parameters and returns product of these values\n",
        "Example:\n",
        "    \n",
        "Input: 2,3,5\n",
        "\n",
        "Return: 30"
      ]
    },
    {
      "cell_type": "code",
      "execution_count": 3,
      "id": "7069c313",
      "metadata": {
        "colab": {
          "base_uri": "https://localhost:8080/"
        },
        "id": "7069c313",
        "outputId": "229226f1-8223-4c8e-8af7-5f3e8ccd11bf"
      },
      "outputs": [
        {
          "output_type": "execute_result",
          "data": {
            "text/plain": [
              "4000"
            ]
          },
          "metadata": {},
          "execution_count": 3
        }
      ],
      "source": [
        "def products(x, y, z):\n",
        "  return x*y*z\n",
        "\n",
        "products(20, 20, 10)"
      ]
    },
    {
      "cell_type": "markdown",
      "id": "ab8f8eee",
      "metadata": {
        "id": "ab8f8eee"
      },
      "source": [
        "### Modify your function such that it can take an arbitrary number of input parameters, which all get multiplied with each other"
      ]
    },
    {
      "cell_type": "code",
      "execution_count": null,
      "id": "83d25692",
      "metadata": {
        "id": "83d25692"
      },
      "outputs": [],
      "source": [
        "def products(*kwargs):\n",
        "  res = 1\n",
        "  for i in kwargs:\n",
        "    res *= i\n",
        "  return res\n",
        "\n",
        "products(20, 20, 10)"
      ]
    },
    {
      "cell_type": "markdown",
      "id": "13b341ea",
      "metadata": {
        "id": "13b341ea"
      },
      "source": [
        "### Write a Python function to check if the input variable is an integer.\n",
        "should return True, if the input x is an integer, False otherwise"
      ]
    },
    {
      "cell_type": "code",
      "execution_count": 8,
      "id": "35c305c5",
      "metadata": {
        "colab": {
          "base_uri": "https://localhost:8080/"
        },
        "id": "35c305c5",
        "outputId": "07413e27-e839-4f6f-f98a-9f365780dfc4"
      },
      "outputs": [
        {
          "output_type": "execute_result",
          "data": {
            "text/plain": [
              "True"
            ]
          },
          "metadata": {},
          "execution_count": 8
        }
      ],
      "source": [
        "def integercheck(n):\n",
        "  if type(n) is int:\n",
        "    return True\n",
        "  else:\n",
        "    return False\n",
        "\n",
        "integercheck(20)"
      ]
    },
    {
      "cell_type": "markdown",
      "id": "7119adab",
      "metadata": {
        "id": "7119adab"
      },
      "source": [
        "### Write a Python function that takes an int as a parameter and checks if the number is prime or not.\n"
      ]
    },
    {
      "cell_type": "code",
      "execution_count": 79,
      "id": "9feaea1c",
      "metadata": {
        "colab": {
          "base_uri": "https://localhost:8080/"
        },
        "id": "9feaea1c",
        "outputId": "f2b190f1-c0da-44d1-f852-f1f170cfed59"
      },
      "outputs": [
        {
          "output_type": "stream",
          "name": "stdout",
          "text": [
            "is prime\n"
          ]
        }
      ],
      "source": [
        "def primecheck(n: int):\n",
        "  for i in range(2,n):\n",
        "    if n % i == 0:\n",
        "      print('not prime')\n",
        "      break\n",
        "  else:\n",
        "    print('is prime')  # must aligned with 'for' because need wait the whole loop completed\n",
        "\n",
        "primecheck(29)"
      ]
    },
    {
      "cell_type": "code",
      "source": [
        "24 % 3"
      ],
      "metadata": {
        "id": "TiQqQhw7rsvE",
        "outputId": "1cd8155d-b8d6-4cdc-86d4-a6f8d3640d1b",
        "colab": {
          "base_uri": "https://localhost:8080/"
        }
      },
      "id": "TiQqQhw7rsvE",
      "execution_count": 71,
      "outputs": [
        {
          "output_type": "execute_result",
          "data": {
            "text/plain": [
              "0"
            ]
          },
          "metadata": {},
          "execution_count": 71
        }
      ]
    },
    {
      "cell_type": "markdown",
      "id": "fe071088",
      "metadata": {
        "id": "fe071088"
      },
      "source": [
        "### Use your function to create a list that contains all primes up to a given integer\n"
      ]
    },
    {
      "cell_type": "code",
      "execution_count": 96,
      "id": "423986ea",
      "metadata": {
        "colab": {
          "base_uri": "https://localhost:8080/"
        },
        "collapsed": true,
        "id": "423986ea",
        "outputId": "6d39b6ce-3aab-4655-da6e-b5b5a7463f6b"
      },
      "outputs": [
        {
          "output_type": "stream",
          "name": "stdout",
          "text": [
            "2\n",
            "3\n",
            "5\n",
            "7\n"
          ]
        }
      ],
      "source": [
        "def primeprint(n: int):\n",
        "  for x in range(2, n+1):\n",
        "    for i in range(2,x):\n",
        "      if x % i == 0:\n",
        "        break\n",
        "    else:\n",
        "      print(x)\n",
        "\n",
        "\n",
        "primeprint(10)"
      ]
    },
    {
      "cell_type": "code",
      "source": [],
      "metadata": {
        "id": "gAKAjuCL0Qzu"
      },
      "id": "gAKAjuCL0Qzu",
      "execution_count": null,
      "outputs": []
    },
    {
      "cell_type": "markdown",
      "id": "0a044f29",
      "metadata": {
        "id": "0a044f29"
      },
      "source": [
        "### Write a function that gets an integer as input and returns its cross sum\n",
        "\n",
        "cross sum of 1864 = 1+8+6+4 = 19"
      ]
    },
    {
      "cell_type": "code",
      "execution_count": 16,
      "id": "4043d8bd",
      "metadata": {
        "colab": {
          "base_uri": "https://localhost:8080/"
        },
        "id": "4043d8bd",
        "outputId": "e7a1ded7-4832-45b1-d02e-826523676f05"
      },
      "outputs": [
        {
          "output_type": "execute_result",
          "data": {
            "text/plain": [
              "25"
            ]
          },
          "metadata": {},
          "execution_count": 16
        }
      ],
      "source": [
        "def cross_sum(n):\n",
        "  res = 0\n",
        "  ls = list(str(n))\n",
        "  for x in ls:\n",
        "    d = int(x)\n",
        "    res += d\n",
        "  return res\n",
        "\n",
        "cross_sum(124567)"
      ]
    },
    {
      "cell_type": "markdown",
      "id": "5cebfcf8",
      "metadata": {
        "id": "5cebfcf8"
      },
      "source": [
        "### Write a function that simulates dice rolls (6-sided dices)\n",
        "- Write a function that has the number of dice rolls as the input parameter\n",
        "- The output is a map (dictionary) with the counts how often each result of a roll (1-6) occurred\n",
        "- You will need the randint() function from the random package for that task, see example usage below\n"
      ]
    },
    {
      "cell_type": "code",
      "execution_count": 18,
      "id": "42bb670d",
      "metadata": {
        "colab": {
          "base_uri": "https://localhost:8080/"
        },
        "id": "42bb670d",
        "outputId": "665a0d26-c506-487f-9eff-95e87b802ed0"
      },
      "outputs": [
        {
          "output_type": "stream",
          "name": "stdout",
          "text": [
            "6\n"
          ]
        }
      ],
      "source": [
        "# Try to run this code multiple times\n",
        "import random\n",
        "print(random.randint(1, 6))"
      ]
    },
    {
      "cell_type": "code",
      "execution_count": 62,
      "id": "b7ccf35d",
      "metadata": {
        "colab": {
          "base_uri": "https://localhost:8080/"
        },
        "id": "b7ccf35d",
        "outputId": "7b841605-6bf4-43f6-fc9c-55ceaa030d6d"
      },
      "outputs": [
        {
          "output_type": "execute_result",
          "data": {
            "text/plain": [
              "{3: 2, 1: 1, 6: 1}"
            ]
          },
          "metadata": {},
          "execution_count": 62
        }
      ],
      "source": [
        "def dice_amount(n):\n",
        "  res_dice = {}\n",
        "  for i in range(n):\n",
        "    k = random.randint(1,6)\n",
        "    if k in res_dice:\n",
        "      res_dice[k] += 1\n",
        "    else:\n",
        "      res_dice[k] = 1\n",
        "  return res_dice\n",
        "\n",
        "dice_amount(4)"
      ]
    },
    {
      "cell_type": "code",
      "source": [
        "for i in range(5):\n",
        "  print(i)"
      ],
      "metadata": {
        "id": "OX0qrU2Eq5FI",
        "outputId": "80fc69ba-86ac-428f-fe14-964fbfc92d98",
        "colab": {
          "base_uri": "https://localhost:8080/"
        }
      },
      "id": "OX0qrU2Eq5FI",
      "execution_count": 63,
      "outputs": [
        {
          "output_type": "stream",
          "name": "stdout",
          "text": [
            "0\n",
            "1\n",
            "2\n",
            "3\n",
            "4\n"
          ]
        }
      ]
    },
    {
      "cell_type": "code",
      "source": [
        "k = random.randint(1,6)\n",
        "print(k)\n",
        "res1 = {1:2, 2:4}\n",
        "print(bool(k in res1))\n",
        "if k in res:\n",
        "  res[k] += 1\n",
        "  print('in res1')\n",
        "else:\n",
        "  res[k] = 1\n",
        "  print('new in res1')\n",
        "res1"
      ],
      "metadata": {
        "id": "QDuR5XVck4M9",
        "outputId": "f75fbc61-bb1b-4675-b6ec-7886209b1f01",
        "colab": {
          "base_uri": "https://localhost:8080/"
        }
      },
      "id": "QDuR5XVck4M9",
      "execution_count": 40,
      "outputs": [
        {
          "output_type": "stream",
          "name": "stdout",
          "text": [
            "1\n",
            "True\n",
            "new in res1\n"
          ]
        },
        {
          "output_type": "execute_result",
          "data": {
            "text/plain": [
              "{1: 2, 2: 4}"
            ]
          },
          "metadata": {},
          "execution_count": 40
        }
      ]
    },
    {
      "cell_type": "code",
      "source": [
        "res = {}\n",
        "res[a] = 23\n",
        "res[a] += 1\n",
        "res"
      ],
      "metadata": {
        "id": "MXSC9H0YlDpo",
        "outputId": "3239eb41-6eaf-4cb1-b367-94fd85a08c72",
        "colab": {
          "base_uri": "https://localhost:8080/"
        }
      },
      "id": "MXSC9H0YlDpo",
      "execution_count": 43,
      "outputs": [
        {
          "output_type": "execute_result",
          "data": {
            "text/plain": [
              "{4: 24}"
            ]
          },
          "metadata": {},
          "execution_count": 43
        }
      ]
    }
  ],
  "metadata": {
    "kernelspec": {
      "display_name": "Python 3 (ipykernel)",
      "language": "python",
      "name": "python3"
    },
    "language_info": {
      "codemirror_mode": {
        "name": "ipython",
        "version": 3
      },
      "file_extension": ".py",
      "mimetype": "text/x-python",
      "name": "python",
      "nbconvert_exporter": "python",
      "pygments_lexer": "ipython3",
      "version": "3.11.5"
    },
    "colab": {
      "provenance": []
    }
  },
  "nbformat": 4,
  "nbformat_minor": 5
}