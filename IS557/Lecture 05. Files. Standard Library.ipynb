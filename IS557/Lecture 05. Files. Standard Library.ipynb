{
  "cells": [
    {
      "cell_type": "markdown",
      "id": "bff5ec27",
      "metadata": {
        "id": "bff5ec27"
      },
      "source": [
        "# Working with files"
      ]
    },
    {
      "cell_type": "markdown",
      "id": "ab76fb30",
      "metadata": {
        "id": "ab76fb30"
      },
      "source": [
        "To open a file, you can use the built-in `open` function. The `open` function requires the name of the file you want to open, and the mode in which you want to open the file, e.g., 'r' for reading."
      ]
    },
    {
      "cell_type": "code",
      "execution_count": 1,
      "id": "8db93b76",
      "metadata": {
        "id": "8db93b76",
        "outputId": "55e5922e-4618-400e-e2e1-80f0013facc3",
        "colab": {
          "base_uri": "https://localhost:8080/"
        }
      },
      "outputs": [
        {
          "output_type": "stream",
          "name": "stdout",
          "text": [
            "Help on built-in function open in module io:\n",
            "\n",
            "open(file, mode='r', buffering=-1, encoding=None, errors=None, newline=None, closefd=True, opener=None)\n",
            "    Open file and return a stream.  Raise OSError upon failure.\n",
            "    \n",
            "    file is either a text or byte string giving the name (and the path\n",
            "    if the file isn't in the current working directory) of the file to\n",
            "    be opened or an integer file descriptor of the file to be\n",
            "    wrapped. (If a file descriptor is given, it is closed when the\n",
            "    returned I/O object is closed, unless closefd is set to False.)\n",
            "    \n",
            "    mode is an optional string that specifies the mode in which the file\n",
            "    is opened. It defaults to 'r' which means open for reading in text\n",
            "    mode.  Other common values are 'w' for writing (truncating the file if\n",
            "    it already exists), 'x' for creating and writing to a new file, and\n",
            "    'a' for appending (which on some Unix systems, means that all writes\n",
            "    append to the end of the file regardless of the current seek position).\n",
            "    In text mode, if encoding is not specified the encoding used is platform\n",
            "    dependent: locale.getpreferredencoding(False) is called to get the\n",
            "    current locale encoding. (For reading and writing raw bytes use binary\n",
            "    mode and leave encoding unspecified.) The available modes are:\n",
            "    \n",
            "    ========= ===============================================================\n",
            "    Character Meaning\n",
            "    --------- ---------------------------------------------------------------\n",
            "    'r'       open for reading (default)\n",
            "    'w'       open for writing, truncating the file first\n",
            "    'x'       create a new file and open it for writing\n",
            "    'a'       open for writing, appending to the end of the file if it exists\n",
            "    'b'       binary mode\n",
            "    't'       text mode (default)\n",
            "    '+'       open a disk file for updating (reading and writing)\n",
            "    'U'       universal newline mode (deprecated)\n",
            "    ========= ===============================================================\n",
            "    \n",
            "    The default mode is 'rt' (open for reading text). For binary random\n",
            "    access, the mode 'w+b' opens and truncates the file to 0 bytes, while\n",
            "    'r+b' opens the file without truncation. The 'x' mode implies 'w' and\n",
            "    raises an `FileExistsError` if the file already exists.\n",
            "    \n",
            "    Python distinguishes between files opened in binary and text modes,\n",
            "    even when the underlying operating system doesn't. Files opened in\n",
            "    binary mode (appending 'b' to the mode argument) return contents as\n",
            "    bytes objects without any decoding. In text mode (the default, or when\n",
            "    't' is appended to the mode argument), the contents of the file are\n",
            "    returned as strings, the bytes having been first decoded using a\n",
            "    platform-dependent encoding or using the specified encoding if given.\n",
            "    \n",
            "    'U' mode is deprecated and will raise an exception in future versions\n",
            "    of Python.  It has no effect in Python 3.  Use newline to control\n",
            "    universal newlines mode.\n",
            "    \n",
            "    buffering is an optional integer used to set the buffering policy.\n",
            "    Pass 0 to switch buffering off (only allowed in binary mode), 1 to select\n",
            "    line buffering (only usable in text mode), and an integer > 1 to indicate\n",
            "    the size of a fixed-size chunk buffer.  When no buffering argument is\n",
            "    given, the default buffering policy works as follows:\n",
            "    \n",
            "    * Binary files are buffered in fixed-size chunks; the size of the buffer\n",
            "      is chosen using a heuristic trying to determine the underlying device's\n",
            "      \"block size\" and falling back on `io.DEFAULT_BUFFER_SIZE`.\n",
            "      On many systems, the buffer will typically be 4096 or 8192 bytes long.\n",
            "    \n",
            "    * \"Interactive\" text files (files for which isatty() returns True)\n",
            "      use line buffering.  Other text files use the policy described above\n",
            "      for binary files.\n",
            "    \n",
            "    encoding is the name of the encoding used to decode or encode the\n",
            "    file. This should only be used in text mode. The default encoding is\n",
            "    platform dependent, but any encoding supported by Python can be\n",
            "    passed.  See the codecs module for the list of supported encodings.\n",
            "    \n",
            "    errors is an optional string that specifies how encoding errors are to\n",
            "    be handled---this argument should not be used in binary mode. Pass\n",
            "    'strict' to raise a ValueError exception if there is an encoding error\n",
            "    (the default of None has the same effect), or pass 'ignore' to ignore\n",
            "    errors. (Note that ignoring encoding errors can lead to data loss.)\n",
            "    See the documentation for codecs.register or run 'help(codecs.Codec)'\n",
            "    for a list of the permitted encoding error strings.\n",
            "    \n",
            "    newline controls how universal newlines works (it only applies to text\n",
            "    mode). It can be None, '', '\\n', '\\r', and '\\r\\n'.  It works as\n",
            "    follows:\n",
            "    \n",
            "    * On input, if newline is None, universal newlines mode is\n",
            "      enabled. Lines in the input can end in '\\n', '\\r', or '\\r\\n', and\n",
            "      these are translated into '\\n' before being returned to the\n",
            "      caller. If it is '', universal newline mode is enabled, but line\n",
            "      endings are returned to the caller untranslated. If it has any of\n",
            "      the other legal values, input lines are only terminated by the given\n",
            "      string, and the line ending is returned to the caller untranslated.\n",
            "    \n",
            "    * On output, if newline is None, any '\\n' characters written are\n",
            "      translated to the system default line separator, os.linesep. If\n",
            "      newline is '' or '\\n', no translation takes place. If newline is any\n",
            "      of the other legal values, any '\\n' characters written are translated\n",
            "      to the given string.\n",
            "    \n",
            "    If closefd is False, the underlying file descriptor will be kept open\n",
            "    when the file is closed. This does not work when a file name is given\n",
            "    and must be True in that case.\n",
            "    \n",
            "    A custom opener can be used by passing a callable as *opener*. The\n",
            "    underlying file descriptor for the file object is then obtained by\n",
            "    calling *opener* with (*file*, *flags*). *opener* must return an open\n",
            "    file descriptor (passing os.open as *opener* results in functionality\n",
            "    similar to passing None).\n",
            "    \n",
            "    open() returns a file object whose type depends on the mode, and\n",
            "    through which the standard file operations such as reading and writing\n",
            "    are performed. When open() is used to open a file in a text mode ('w',\n",
            "    'r', 'wt', 'rt', etc.), it returns a TextIOWrapper. When used to open\n",
            "    a file in a binary mode, the returned class varies: in read binary\n",
            "    mode, it returns a BufferedReader; in write binary and append binary\n",
            "    modes, it returns a BufferedWriter, and in read/write mode, it returns\n",
            "    a BufferedRandom.\n",
            "    \n",
            "    It is also possible to use a string or bytearray as a file for both\n",
            "    reading and writing. For strings StringIO can be used like a file\n",
            "    opened in a text mode, and for bytes a BytesIO can be used like a file\n",
            "    opened in a binary mode.\n",
            "\n"
          ]
        }
      ],
      "source": [
        "help(open)"
      ]
    },
    {
      "cell_type": "code",
      "execution_count": 23,
      "id": "27761c3e",
      "metadata": {
        "scrolled": true,
        "id": "27761c3e",
        "outputId": "689540e1-876d-4868-a693-60cebc457947",
        "colab": {
          "base_uri": "https://localhost:8080/"
        }
      },
      "outputs": [
        {
          "output_type": "stream",
          "name": "stdout",
          "text": [
            "<_io.TextIOWrapper name='textfile.txt' mode='r' encoding='UTF-8'>\n"
          ]
        },
        {
          "output_type": "execute_result",
          "data": {
            "text/plain": [
              "_io.TextIOWrapper"
            ]
          },
          "metadata": {},
          "execution_count": 23
        }
      ],
      "source": [
        "f = open('textfile.txt', 'r')\n",
        "print(f)\n",
        "type(f)"
      ]
    },
    {
      "cell_type": "markdown",
      "id": "a2e70d24",
      "metadata": {
        "id": "a2e70d24"
      },
      "source": [
        "Once the file is opened, you can read its content into a variable using the `read` method."
      ]
    },
    {
      "cell_type": "code",
      "execution_count": 24,
      "id": "e9ccde24",
      "metadata": {
        "id": "e9ccde24",
        "outputId": "08d9039d-1461-4ebf-b59b-e4d9628a67d9",
        "colab": {
          "base_uri": "https://localhost:8080/"
        }
      },
      "outputs": [
        {
          "output_type": "execute_result",
          "data": {
            "text/plain": [
              "1645"
            ]
          },
          "metadata": {},
          "execution_count": 24
        }
      ],
      "source": [
        "x = f.read()\n",
        "len(x)"
      ]
    },
    {
      "cell_type": "code",
      "execution_count": 25,
      "id": "d1d3a0d0",
      "metadata": {
        "id": "d1d3a0d0",
        "outputId": "d853516a-a93d-4e3f-8902-aa18614c1a36",
        "colab": {
          "base_uri": "https://localhost:8080/",
          "height": 139
        }
      },
      "outputs": [
        {
          "output_type": "execute_result",
          "data": {
            "text/plain": [
              "'THE WINDOW\\n\\n\\n1\\n\\n\\n\"Yes, of course, if it\\'s fine tomorrow,\" said Mrs. Ramsay. \"But you\\'ll\\nhave to be up with the lark,\" she added.\\n\\nTo her son these words conveyed an extraordinary joy, as if it were\\nsettled, the expedition were bound to take place, and the wonder to which\\nhe had looked forward, for years and years it seemed, was, after a night\\'s\\ndarkness and a day\\'s sail, within touch. Since he belonged, even at the\\nage of six, to that great clan which cannot keep this feeling separate\\nfrom that, but must let future prospects, with their joys and sorrows,\\ncloud what is actually at hand, since to such people even in earliest\\nchildhood any turn in the wheel of sensation has the power to crystallise\\nand transfix the moment upon which its gloom or radiance rests, James\\nRamsay, sitting on the floor cutting out pictures from the illustrated\\ncatalogue of the Army and Navy stores, endowed the picture of a\\nrefrigerator, as his mother spoke, with heavenly bliss. It was fringed\\nwith joy. The wheelbarrow, the lawnmower, the sound of poplar trees,\\nleaves whitening before rain, rooks cawing, brooms knocking, dresses\\nrustling--all these were so coloured and distinguished in his mind that he\\nhad already his private code, his secret language, though he appeared the\\nimage of stark and uncompromising severity, with his high forehead and his\\nfierce blue eyes, impeccably candid and pure, frowning slightly at the\\nsight of human frailty, so that his mother, watching him guide his\\nscissors neatly round the refrigerator, imagined him all red and ermine on\\nthe Bench or directing a stern and momentous enterprise in some crisis of\\npublic affairs.'"
            ],
            "application/vnd.google.colaboratory.intrinsic+json": {
              "type": "string"
            }
          },
          "metadata": {},
          "execution_count": 25
        }
      ],
      "source": [
        "x"
      ]
    },
    {
      "cell_type": "markdown",
      "id": "c7c3aec2",
      "metadata": {
        "id": "c7c3aec2"
      },
      "source": [
        "It is important to close a file after you are done with it to free up the resources that were tied with the file. You can use the `close` method to close a file."
      ]
    },
    {
      "cell_type": "code",
      "execution_count": 26,
      "id": "61f77b66",
      "metadata": {
        "id": "61f77b66"
      },
      "outputs": [],
      "source": [
        "f.close()"
      ]
    },
    {
      "cell_type": "markdown",
      "id": "25f6887b",
      "metadata": {
        "id": "25f6887b"
      },
      "source": [
        "It is preferred to use the `with` statement for opening files. This ensures that the file is closed automatically even if an error occurs inside the `with` block.\n",
        "\n",
        "For larger files, reading the entire content of the file into memory using the `read` method might not be efficient due to memory constraints. Instead, it is preferred to read the file line by line using a loop."
      ]
    },
    {
      "cell_type": "code",
      "execution_count": 32,
      "id": "ae8628ce",
      "metadata": {
        "collapsed": true,
        "id": "ae8628ce",
        "outputId": "59d4e8d6-5591-4d34-c29c-44d0e8280f56",
        "colab": {
          "base_uri": "https://localhost:8080/"
        }
      },
      "outputs": [
        {
          "output_type": "stream",
          "name": "stdout",
          "text": [
            "THE WINDOW\n",
            "\n",
            "\n",
            "1\n",
            "\n",
            "\n",
            "\"Yes, of course, if it's fine tomorrow,\" said Mrs. Ramsay. \"But you'll\n",
            "have to be up with the lark,\" she added.\n",
            "\n",
            "To her son these words conveyed an extraordinary joy, as if it were\n",
            "settled, the expedition were bound to take place, and the wonder to which\n",
            "he had looked forward, for years and years it seemed, was, after a night's\n",
            "darkness and a day's sail, within touch. Since he belonged, even at the\n",
            "age of six, to that great clan which cannot keep this feeling separate\n",
            "from that, but must let future prospects, with their joys and sorrows,\n",
            "cloud what is actually at hand, since to such people even in earliest\n",
            "childhood any turn in the wheel of sensation has the power to crystallise\n",
            "and transfix the moment upon which its gloom or radiance rests, James\n",
            "Ramsay, sitting on the floor cutting out pictures from the illustrated\n",
            "catalogue of the Army and Navy stores, endowed the picture of a\n",
            "refrigerator, as his mother spoke, with heavenly bliss. It was fringed\n",
            "with joy. The wheelbarrow, the lawnmower, the sound of poplar trees,\n",
            "leaves whitening before rain, rooks cawing, brooms knocking, dresses\n",
            "rustling--all these were so coloured and distinguished in his mind that he\n",
            "had already his private code, his secret language, though he appeared the\n",
            "image of stark and uncompromising severity, with his high forehead and his\n",
            "fierce blue eyes, impeccably candid and pure, frowning slightly at the\n",
            "sight of human frailty, so that his mother, watching him guide his\n",
            "scissors neatly round the refrigerator, imagined him all red and ermine on\n",
            "the Bench or directing a stern and momentous enterprise in some crisis of\n",
            "public affairs.\n"
          ]
        }
      ],
      "source": [
        "with open('textfile.txt','r') as fs:\n",
        "    for li in fs:\n",
        "       print(li.strip())  # remove all the extra empty line and space"
      ]
    },
    {
      "cell_type": "code",
      "execution_count": 28,
      "id": "24aa6039",
      "metadata": {
        "id": "24aa6039",
        "outputId": "2f24ec93-fde2-4194-bb3c-3b4fe911422d",
        "colab": {
          "base_uri": "https://localhost:8080/"
        }
      },
      "outputs": [
        {
          "output_type": "stream",
          "name": "stdout",
          "text": [
            "---\n",
            "   this is a string\n",
            "with multiple lines\n",
            "\n",
            "---\n",
            "this is a string\n",
            "with multiple lines\n",
            "---\n"
          ]
        }
      ],
      "source": [
        "s = '   this is a string\\nwith multiple lines\\n'\n",
        "print('---')\n",
        "print(s)\n",
        "print('---')\n",
        "print(s.strip())  # strip() removes leading and trailing whitespace\n",
        "print('---')"
      ]
    },
    {
      "cell_type": "markdown",
      "id": "5aebd196",
      "metadata": {
        "id": "5aebd196"
      },
      "source": [
        "You can write content to files using the `write` method. To write multiple lines, you can use the `write` method with newline characters."
      ]
    },
    {
      "cell_type": "code",
      "execution_count": 37,
      "id": "6293f8a3",
      "metadata": {
        "id": "6293f8a3"
      },
      "outputs": [],
      "source": [
        "s = [\"this is a test file\", \"this is the second line of the test file.\", \"this is the third line.\"]\n",
        "\n",
        "with open('textfile3.txt','w') as fs:\n",
        "    for line in s:\n",
        "        fs.write(\"123\\n\"+line)"
      ]
    },
    {
      "cell_type": "code",
      "execution_count": 38,
      "id": "99d96bdb",
      "metadata": {
        "id": "99d96bdb",
        "outputId": "f588a084-8af3-4b7b-f504-1545867ed493",
        "colab": {
          "base_uri": "https://localhost:8080/"
        }
      },
      "outputs": [
        {
          "output_type": "stream",
          "name": "stdout",
          "text": [
            "123\n",
            "this is a test file123\n",
            "this is the second line of the test file.123\n",
            "this is the third line.\n"
          ]
        }
      ],
      "source": [
        "with open('textfile3.txt','r') as fs:\n",
        "    for line in fs:\n",
        "        print(line.strip())"
      ]
    },
    {
      "cell_type": "markdown",
      "id": "61fb0a78",
      "metadata": {
        "id": "61fb0a78"
      },
      "source": [
        "Note that `w` mode will overwrite the file if it already exists or create a new one if it doesn't."
      ]
    },
    {
      "cell_type": "markdown",
      "id": "814d331b",
      "metadata": {
        "id": "814d331b"
      },
      "source": [
        "To add content at the end of an existing file, you can open the file in 'a' mode and then use the `write` method."
      ]
    },
    {
      "cell_type": "code",
      "execution_count": 44,
      "id": "705bccf4",
      "metadata": {
        "id": "705bccf4"
      },
      "outputs": [],
      "source": [
        "with open('textfile3.txt','a') as fs:\n",
        "    fs.write(\"Add another line here!\\n\")"
      ]
    },
    {
      "cell_type": "code",
      "execution_count": 47,
      "id": "2760c41f",
      "metadata": {
        "id": "2760c41f",
        "outputId": "b8bb2535-3992-4c3b-d9ac-a4f7f29b5a18",
        "colab": {
          "base_uri": "https://localhost:8080/"
        }
      },
      "outputs": [
        {
          "output_type": "stream",
          "name": "stdout",
          "text": [
            "123\n",
            "this is a test file123\n",
            "this is the second line of the test file.123\n",
            "this is the third line.Add another line here!\n",
            "Add another line here!\n",
            "Add another line here!\n",
            "Add another line here!\n"
          ]
        }
      ],
      "source": [
        "with open('textfile3.txt','r') as fs:\n",
        "    for line in fs:\n",
        "        print(line.strip())"
      ]
    },
    {
      "cell_type": "code",
      "source": [
        "b = open('textfile3.txt','a')\n",
        "b.write('Add one\\n')\n",
        "c = open('textfile3.txt','r')\n",
        "print(c.read())"
      ],
      "metadata": {
        "id": "Rdr-PaV7KBCk",
        "outputId": "ca95f237-a87b-4dc1-8189-29def577a92d",
        "colab": {
          "base_uri": "https://localhost:8080/"
        }
      },
      "id": "Rdr-PaV7KBCk",
      "execution_count": 49,
      "outputs": [
        {
          "output_type": "stream",
          "name": "stdout",
          "text": [
            "123\n",
            "this is a test file123\n",
            "this is the second line of the test file.123\n",
            "this is the third line.Add another line here!\n",
            "Add another line here!\n",
            "Add another line here!\n",
            "Add another line here!\n",
            "Add one\n",
            "\n"
          ]
        }
      ]
    },
    {
      "cell_type": "markdown",
      "id": "349a764f",
      "metadata": {
        "id": "349a764f"
      },
      "source": [
        "Note that this is a very basic way of reading from and writing to files. Most of the time when we want to load data from a file for analysis, we would use dedicated methods that are provided by modules such as Pandas instead. These dedicated methods will know how to handle different file types beyond plain text files (e.g., Excel, CSV, JSON,… files) and will be covered in lecture 8."
      ]
    },
    {
      "cell_type": "markdown",
      "id": "5eb14439",
      "metadata": {
        "id": "5eb14439"
      },
      "source": [
        "# Standard library"
      ]
    },
    {
      "cell_type": "markdown",
      "id": "51d4ebca",
      "metadata": {
        "id": "51d4ebca"
      },
      "source": [
        "The Python standard library is included in the Python distribution and provides functionalities for a wide range of useful tasks"
      ]
    },
    {
      "cell_type": "markdown",
      "id": "02ab4cf9",
      "metadata": {
        "id": "02ab4cf9"
      },
      "source": [
        "### Random Module\n",
        "The `random` module provides functions for generating random numbers.\n"
      ]
    },
    {
      "cell_type": "code",
      "execution_count": 56,
      "id": "29369ff6",
      "metadata": {
        "id": "29369ff6",
        "outputId": "ba18da28-1e42-4854-bc32-3de2aa6537be",
        "colab": {
          "base_uri": "https://localhost:8080/"
        }
      },
      "outputs": [
        {
          "output_type": "stream",
          "name": "stdout",
          "text": [
            "17!93!25!35!57!2!29!80!59!"
          ]
        }
      ],
      "source": [
        "import random\n",
        "\n",
        "for i in range(1, 10):\n",
        "    print(random.randint(1, 100), end = '!')"
      ]
    },
    {
      "cell_type": "markdown",
      "id": "1e45a3ab",
      "metadata": {
        "id": "1e45a3ab"
      },
      "source": [
        "Sometimes it is useful to get the same \"random\" sequence if we run code multiple times. This can be achieved by setting a seed value using the `seed` method."
      ]
    },
    {
      "cell_type": "code",
      "execution_count": 55,
      "id": "99608e26",
      "metadata": {
        "scrolled": true,
        "id": "99608e26",
        "outputId": "e762c917-e47f-4061-b951-c69a8d6f5510",
        "colab": {
          "base_uri": "https://localhost:8080/"
        }
      },
      "outputs": [
        {
          "output_type": "stream",
          "name": "stdout",
          "text": [
            "100 38 11 3 76 40 55 49 68 46 "
          ]
        }
      ],
      "source": [
        "import random\n",
        "random.seed(23)\n",
        "\n",
        "for i in range(1, 11):\n",
        "    print(random.randint(1, 100), end = ' ')"
      ]
    },
    {
      "cell_type": "markdown",
      "id": "e9a8951d",
      "metadata": {
        "id": "e9a8951d"
      },
      "source": [
        "If we want to get random numbers without [repetitions], we can use the `sample` method."
      ]
    },
    {
      "cell_type": "code",
      "execution_count": 70,
      "id": "b7c551e1",
      "metadata": {
        "id": "b7c551e1",
        "outputId": "9a534d52-490c-4a1a-f458-44acb67bf6b8",
        "colab": {
          "base_uri": "https://localhost:8080/"
        }
      },
      "outputs": [
        {
          "output_type": "execute_result",
          "data": {
            "text/plain": [
              "[100, 66, 15, 80, 93, 27, 75, 46, 26, 61]"
            ]
          },
          "metadata": {},
          "execution_count": 70
        }
      ],
      "source": [
        "x = [i for i in range(1, 101)]\n",
        "y = random.sample(x, 10)\n",
        "y"
      ]
    },
    {
      "cell_type": "markdown",
      "id": "02f7e128",
      "metadata": {
        "id": "02f7e128"
      },
      "source": [
        "Or using the `shuffle` method to randomly rearrange the elements of a list."
      ]
    },
    {
      "cell_type": "code",
      "execution_count": 71,
      "id": "17346ce6",
      "metadata": {
        "id": "17346ce6",
        "outputId": "6744a454-1f01-4de9-c318-f50548cd8bf1",
        "colab": {
          "base_uri": "https://localhost:8080/"
        }
      },
      "outputs": [
        {
          "output_type": "stream",
          "name": "stdout",
          "text": [
            "[93, 100, 80, 75, 46, 66, 15, 27, 26, 61]\n"
          ]
        }
      ],
      "source": [
        "random.shuffle(y)\n",
        "print(y)"
      ]
    },
    {
      "cell_type": "markdown",
      "id": "7a0c55ef",
      "metadata": {
        "id": "7a0c55ef"
      },
      "source": [
        "### Statistics Module\n",
        "The `statistics` module provides functions for calculating mathematical statistics of numeric data."
      ]
    },
    {
      "cell_type": "code",
      "execution_count": 72,
      "id": "211ce9b6",
      "metadata": {
        "id": "211ce9b6"
      },
      "outputs": [],
      "source": [
        "women = [168, 165, 162, 154, 172, 170, 160, 152, 167, 171, 159, 165, 161, 163, 166, 173, 164, 168, 167, 162]\n",
        "men = [166, 168, 179, 164, 167, 181, 188, 183, 169, 179, 179, 182, 180, 175, 177, 180, 178, 168, 173, 181]"
      ]
    },
    {
      "cell_type": "code",
      "execution_count": 73,
      "id": "4724bd57",
      "metadata": {
        "id": "4724bd57"
      },
      "outputs": [],
      "source": [
        "import statistics as ss"
      ]
    },
    {
      "cell_type": "code",
      "execution_count": 74,
      "id": "8d6b1687",
      "metadata": {
        "id": "8d6b1687",
        "outputId": "eab15ea6-9e71-4ed1-aacd-8344967958c6",
        "colab": {
          "base_uri": "https://localhost:8080/"
        }
      },
      "outputs": [
        {
          "output_type": "execute_result",
          "data": {
            "text/plain": [
              "(175.85, 6.706438383335351, 164.45, 5.548589199541011)"
            ]
          },
          "metadata": {},
          "execution_count": 74
        }
      ],
      "source": [
        "ss.mean(men), ss.stdev(men), ss.mean(women), ss.stdev(women)"
      ]
    },
    {
      "cell_type": "code",
      "source": [
        "help(ss)"
      ],
      "metadata": {
        "id": "2DQ7AWz8OBFp",
        "outputId": "6d3b3da3-1daa-47a8-e73e-8cd03dd0c0fc",
        "colab": {
          "base_uri": "https://localhost:8080/"
        }
      },
      "id": "2DQ7AWz8OBFp",
      "execution_count": 77,
      "outputs": [
        {
          "output_type": "stream",
          "name": "stdout",
          "text": [
            "Help on module statistics:\n",
            "\n",
            "NAME\n",
            "    statistics - Basic statistics module.\n",
            "\n",
            "MODULE REFERENCE\n",
            "    https://docs.python.org/3.10/library/statistics.html\n",
            "    \n",
            "    The following documentation is automatically generated from the Python\n",
            "    source files.  It may be incomplete, incorrect or include features that\n",
            "    are considered implementation detail and may vary between Python\n",
            "    implementations.  When in doubt, consult the module reference at the\n",
            "    location listed above.\n",
            "\n",
            "DESCRIPTION\n",
            "    This module provides functions for calculating statistics of data, including\n",
            "    averages, variance, and standard deviation.\n",
            "    \n",
            "    Calculating averages\n",
            "    --------------------\n",
            "    \n",
            "    ==================  ==================================================\n",
            "    Function            Description\n",
            "    ==================  ==================================================\n",
            "    mean                Arithmetic mean (average) of data.\n",
            "    fmean               Fast, floating point arithmetic mean.\n",
            "    geometric_mean      Geometric mean of data.\n",
            "    harmonic_mean       Harmonic mean of data.\n",
            "    median              Median (middle value) of data.\n",
            "    median_low          Low median of data.\n",
            "    median_high         High median of data.\n",
            "    median_grouped      Median, or 50th percentile, of grouped data.\n",
            "    mode                Mode (most common value) of data.\n",
            "    multimode           List of modes (most common values of data).\n",
            "    quantiles           Divide data into intervals with equal probability.\n",
            "    ==================  ==================================================\n",
            "    \n",
            "    Calculate the arithmetic mean (\"the average\") of data:\n",
            "    \n",
            "    >>> mean([-1.0, 2.5, 3.25, 5.75])\n",
            "    2.625\n",
            "    \n",
            "    \n",
            "    Calculate the standard median of discrete data:\n",
            "    \n",
            "    >>> median([2, 3, 4, 5])\n",
            "    3.5\n",
            "    \n",
            "    \n",
            "    Calculate the median, or 50th percentile, of data grouped into class intervals\n",
            "    centred on the data values provided. E.g. if your data points are rounded to\n",
            "    the nearest whole number:\n",
            "    \n",
            "    >>> median_grouped([2, 2, 3, 3, 3, 4])  #doctest: +ELLIPSIS\n",
            "    2.8333333333...\n",
            "    \n",
            "    This should be interpreted in this way: you have two data points in the class\n",
            "    interval 1.5-2.5, three data points in the class interval 2.5-3.5, and one in\n",
            "    the class interval 3.5-4.5. The median of these data points is 2.8333...\n",
            "    \n",
            "    \n",
            "    Calculating variability or spread\n",
            "    ---------------------------------\n",
            "    \n",
            "    ==================  =============================================\n",
            "    Function            Description\n",
            "    ==================  =============================================\n",
            "    pvariance           Population variance of data.\n",
            "    variance            Sample variance of data.\n",
            "    pstdev              Population standard deviation of data.\n",
            "    stdev               Sample standard deviation of data.\n",
            "    ==================  =============================================\n",
            "    \n",
            "    Calculate the standard deviation of sample data:\n",
            "    \n",
            "    >>> stdev([2.5, 3.25, 5.5, 11.25, 11.75])  #doctest: +ELLIPSIS\n",
            "    4.38961843444...\n",
            "    \n",
            "    If you have previously calculated the mean, you can pass it as the optional\n",
            "    second argument to the four \"spread\" functions to avoid recalculating it:\n",
            "    \n",
            "    >>> data = [1, 2, 2, 4, 4, 4, 5, 6]\n",
            "    >>> mu = mean(data)\n",
            "    >>> pvariance(data, mu)\n",
            "    2.5\n",
            "    \n",
            "    \n",
            "    Statistics for relations between two inputs\n",
            "    -------------------------------------------\n",
            "    \n",
            "    ==================  ====================================================\n",
            "    Function            Description\n",
            "    ==================  ====================================================\n",
            "    covariance          Sample covariance for two variables.\n",
            "    correlation         Pearson's correlation coefficient for two variables.\n",
            "    linear_regression   Intercept and slope for simple linear regression.\n",
            "    ==================  ====================================================\n",
            "    \n",
            "    Calculate covariance, Pearson's correlation, and simple linear regression\n",
            "    for two inputs:\n",
            "    \n",
            "    >>> x = [1, 2, 3, 4, 5, 6, 7, 8, 9]\n",
            "    >>> y = [1, 2, 3, 1, 2, 3, 1, 2, 3]\n",
            "    >>> covariance(x, y)\n",
            "    0.75\n",
            "    >>> correlation(x, y)  #doctest: +ELLIPSIS\n",
            "    0.31622776601...\n",
            "    >>> linear_regression(x, y)  #doctest:\n",
            "    LinearRegression(slope=0.1, intercept=1.5)\n",
            "    \n",
            "    \n",
            "    Exceptions\n",
            "    ----------\n",
            "    \n",
            "    A single exception is defined: StatisticsError is a subclass of ValueError.\n",
            "\n",
            "CLASSES\n",
            "    builtins.ValueError(builtins.Exception)\n",
            "        StatisticsError\n",
            "    builtins.object\n",
            "        NormalDist\n",
            "    \n",
            "    class NormalDist(builtins.object)\n",
            "     |  NormalDist(mu=0.0, sigma=1.0)\n",
            "     |  \n",
            "     |  Normal distribution of a random variable\n",
            "     |  \n",
            "     |  Methods defined here:\n",
            "     |  \n",
            "     |  __add__(x1, x2)\n",
            "     |      Add a constant or another NormalDist instance.\n",
            "     |      \n",
            "     |      If *other* is a constant, translate mu by the constant,\n",
            "     |      leaving sigma unchanged.\n",
            "     |      \n",
            "     |      If *other* is a NormalDist, add both the means and the variances.\n",
            "     |      Mathematically, this works only if the two distributions are\n",
            "     |      independent or if they are jointly normally distributed.\n",
            "     |  \n",
            "     |  __eq__(x1, x2)\n",
            "     |      Two NormalDist objects are equal if their mu and sigma are both equal.\n",
            "     |  \n",
            "     |  __getstate__(self)\n",
            "     |  \n",
            "     |  __hash__(self)\n",
            "     |      NormalDist objects hash equal if their mu and sigma are both equal.\n",
            "     |  \n",
            "     |  __init__(self, mu=0.0, sigma=1.0)\n",
            "     |      NormalDist where mu is the mean and sigma is the standard deviation.\n",
            "     |  \n",
            "     |  __mul__(x1, x2)\n",
            "     |      Multiply both mu and sigma by a constant.\n",
            "     |      \n",
            "     |      Used for rescaling, perhaps to change measurement units.\n",
            "     |      Sigma is scaled with the absolute value of the constant.\n",
            "     |  \n",
            "     |  __neg__(x1)\n",
            "     |      Negates mu while keeping sigma the same.\n",
            "     |  \n",
            "     |  __pos__(x1)\n",
            "     |      Return a copy of the instance.\n",
            "     |  \n",
            "     |  __radd__ = __add__(x1, x2)\n",
            "     |  \n",
            "     |  __repr__(self)\n",
            "     |      Return repr(self).\n",
            "     |  \n",
            "     |  __rmul__ = __mul__(x1, x2)\n",
            "     |  \n",
            "     |  __rsub__(x1, x2)\n",
            "     |      Subtract a NormalDist from a constant or another NormalDist.\n",
            "     |  \n",
            "     |  __setstate__(self, state)\n",
            "     |  \n",
            "     |  __sub__(x1, x2)\n",
            "     |      Subtract a constant or another NormalDist instance.\n",
            "     |      \n",
            "     |      If *other* is a constant, translate by the constant mu,\n",
            "     |      leaving sigma unchanged.\n",
            "     |      \n",
            "     |      If *other* is a NormalDist, subtract the means and add the variances.\n",
            "     |      Mathematically, this works only if the two distributions are\n",
            "     |      independent or if they are jointly normally distributed.\n",
            "     |  \n",
            "     |  __truediv__(x1, x2)\n",
            "     |      Divide both mu and sigma by a constant.\n",
            "     |      \n",
            "     |      Used for rescaling, perhaps to change measurement units.\n",
            "     |      Sigma is scaled with the absolute value of the constant.\n",
            "     |  \n",
            "     |  cdf(self, x)\n",
            "     |      Cumulative distribution function.  P(X <= x)\n",
            "     |  \n",
            "     |  inv_cdf(self, p)\n",
            "     |      Inverse cumulative distribution function.  x : P(X <= x) = p\n",
            "     |      \n",
            "     |      Finds the value of the random variable such that the probability of\n",
            "     |      the variable being less than or equal to that value equals the given\n",
            "     |      probability.\n",
            "     |      \n",
            "     |      This function is also called the percent point function or quantile\n",
            "     |      function.\n",
            "     |  \n",
            "     |  overlap(self, other)\n",
            "     |      Compute the overlapping coefficient (OVL) between two normal distributions.\n",
            "     |      \n",
            "     |      Measures the agreement between two normal probability distributions.\n",
            "     |      Returns a value between 0.0 and 1.0 giving the overlapping area in\n",
            "     |      the two underlying probability density functions.\n",
            "     |      \n",
            "     |          >>> N1 = NormalDist(2.4, 1.6)\n",
            "     |          >>> N2 = NormalDist(3.2, 2.0)\n",
            "     |          >>> N1.overlap(N2)\n",
            "     |          0.8035050657330205\n",
            "     |  \n",
            "     |  pdf(self, x)\n",
            "     |      Probability density function.  P(x <= X < x+dx) / dx\n",
            "     |  \n",
            "     |  quantiles(self, n=4)\n",
            "     |      Divide into *n* continuous intervals with equal probability.\n",
            "     |      \n",
            "     |      Returns a list of (n - 1) cut points separating the intervals.\n",
            "     |      \n",
            "     |      Set *n* to 4 for quartiles (the default).  Set *n* to 10 for deciles.\n",
            "     |      Set *n* to 100 for percentiles which gives the 99 cuts points that\n",
            "     |      separate the normal distribution in to 100 equal sized groups.\n",
            "     |  \n",
            "     |  samples(self, n, *, seed=None)\n",
            "     |      Generate *n* samples for a given mean and standard deviation.\n",
            "     |  \n",
            "     |  zscore(self, x)\n",
            "     |      Compute the Standard Score.  (x - mean) / stdev\n",
            "     |      \n",
            "     |      Describes *x* in terms of the number of standard deviations\n",
            "     |      above or below the mean of the normal distribution.\n",
            "     |  \n",
            "     |  ----------------------------------------------------------------------\n",
            "     |  Class methods defined here:\n",
            "     |  \n",
            "     |  from_samples(data) from builtins.type\n",
            "     |      Make a normal distribution instance from sample data.\n",
            "     |  \n",
            "     |  ----------------------------------------------------------------------\n",
            "     |  Readonly properties defined here:\n",
            "     |  \n",
            "     |  mean\n",
            "     |      Arithmetic mean of the normal distribution.\n",
            "     |  \n",
            "     |  median\n",
            "     |      Return the median of the normal distribution\n",
            "     |  \n",
            "     |  mode\n",
            "     |      Return the mode of the normal distribution\n",
            "     |      \n",
            "     |      The mode is the value x where which the probability density\n",
            "     |      function (pdf) takes its maximum value.\n",
            "     |  \n",
            "     |  stdev\n",
            "     |      Standard deviation of the normal distribution.\n",
            "     |  \n",
            "     |  variance\n",
            "     |      Square of the standard deviation.\n",
            "    \n",
            "    class StatisticsError(builtins.ValueError)\n",
            "     |  Method resolution order:\n",
            "     |      StatisticsError\n",
            "     |      builtins.ValueError\n",
            "     |      builtins.Exception\n",
            "     |      builtins.BaseException\n",
            "     |      builtins.object\n",
            "     |  \n",
            "     |  Data descriptors defined here:\n",
            "     |  \n",
            "     |  __weakref__\n",
            "     |      list of weak references to the object (if defined)\n",
            "     |  \n",
            "     |  ----------------------------------------------------------------------\n",
            "     |  Methods inherited from builtins.ValueError:\n",
            "     |  \n",
            "     |  __init__(self, /, *args, **kwargs)\n",
            "     |      Initialize self.  See help(type(self)) for accurate signature.\n",
            "     |  \n",
            "     |  ----------------------------------------------------------------------\n",
            "     |  Static methods inherited from builtins.ValueError:\n",
            "     |  \n",
            "     |  __new__(*args, **kwargs) from builtins.type\n",
            "     |      Create and return a new object.  See help(type) for accurate signature.\n",
            "     |  \n",
            "     |  ----------------------------------------------------------------------\n",
            "     |  Methods inherited from builtins.BaseException:\n",
            "     |  \n",
            "     |  __delattr__(self, name, /)\n",
            "     |      Implement delattr(self, name).\n",
            "     |  \n",
            "     |  __getattribute__(self, name, /)\n",
            "     |      Return getattr(self, name).\n",
            "     |  \n",
            "     |  __reduce__(...)\n",
            "     |      Helper for pickle.\n",
            "     |  \n",
            "     |  __repr__(self, /)\n",
            "     |      Return repr(self).\n",
            "     |  \n",
            "     |  __setattr__(self, name, value, /)\n",
            "     |      Implement setattr(self, name, value).\n",
            "     |  \n",
            "     |  __setstate__(...)\n",
            "     |  \n",
            "     |  __str__(self, /)\n",
            "     |      Return str(self).\n",
            "     |  \n",
            "     |  with_traceback(...)\n",
            "     |      Exception.with_traceback(tb) --\n",
            "     |      set self.__traceback__ to tb and return self.\n",
            "     |  \n",
            "     |  ----------------------------------------------------------------------\n",
            "     |  Data descriptors inherited from builtins.BaseException:\n",
            "     |  \n",
            "     |  __cause__\n",
            "     |      exception cause\n",
            "     |  \n",
            "     |  __context__\n",
            "     |      exception context\n",
            "     |  \n",
            "     |  __dict__\n",
            "     |  \n",
            "     |  __suppress_context__\n",
            "     |  \n",
            "     |  __traceback__\n",
            "     |  \n",
            "     |  args\n",
            "\n",
            "FUNCTIONS\n",
            "    correlation(x, y, /)\n",
            "        Pearson's correlation coefficient\n",
            "        \n",
            "        Return the Pearson's correlation coefficient for two inputs. Pearson's\n",
            "        correlation coefficient *r* takes values between -1 and +1. It measures the\n",
            "        strength and direction of the linear relationship, where +1 means very\n",
            "        strong, positive linear relationship, -1 very strong, negative linear\n",
            "        relationship, and 0 no linear relationship.\n",
            "        \n",
            "        >>> x = [1, 2, 3, 4, 5, 6, 7, 8, 9]\n",
            "        >>> y = [9, 8, 7, 6, 5, 4, 3, 2, 1]\n",
            "        >>> correlation(x, x)\n",
            "        1.0\n",
            "        >>> correlation(x, y)\n",
            "        -1.0\n",
            "    \n",
            "    covariance(x, y, /)\n",
            "        Covariance\n",
            "        \n",
            "        Return the sample covariance of two inputs *x* and *y*. Covariance\n",
            "        is a measure of the joint variability of two inputs.\n",
            "        \n",
            "        >>> x = [1, 2, 3, 4, 5, 6, 7, 8, 9]\n",
            "        >>> y = [1, 2, 3, 1, 2, 3, 1, 2, 3]\n",
            "        >>> covariance(x, y)\n",
            "        0.75\n",
            "        >>> z = [9, 8, 7, 6, 5, 4, 3, 2, 1]\n",
            "        >>> covariance(x, z)\n",
            "        -7.5\n",
            "        >>> covariance(z, x)\n",
            "        -7.5\n",
            "    \n",
            "    fmean(data)\n",
            "        Convert data to floats and compute the arithmetic mean.\n",
            "        \n",
            "        This runs faster than the mean() function and it always returns a float.\n",
            "        If the input dataset is empty, it raises a StatisticsError.\n",
            "        \n",
            "        >>> fmean([3.5, 4.0, 5.25])\n",
            "        4.25\n",
            "    \n",
            "    geometric_mean(data)\n",
            "        Convert data to floats and compute the geometric mean.\n",
            "        \n",
            "        Raises a StatisticsError if the input dataset is empty,\n",
            "        if it contains a zero, or if it contains a negative value.\n",
            "        \n",
            "        No special efforts are made to achieve exact results.\n",
            "        (However, this may change in the future.)\n",
            "        \n",
            "        >>> round(geometric_mean([54, 24, 36]), 9)\n",
            "        36.0\n",
            "    \n",
            "    harmonic_mean(data, weights=None)\n",
            "        Return the harmonic mean of data.\n",
            "        \n",
            "        The harmonic mean is the reciprocal of the arithmetic mean of the\n",
            "        reciprocals of the data.  It can be used for averaging ratios or\n",
            "        rates, for example speeds.\n",
            "        \n",
            "        Suppose a car travels 40 km/hr for 5 km and then speeds-up to\n",
            "        60 km/hr for another 5 km. What is the average speed?\n",
            "        \n",
            "            >>> harmonic_mean([40, 60])\n",
            "            48.0\n",
            "        \n",
            "        Suppose a car travels 40 km/hr for 5 km, and when traffic clears,\n",
            "        speeds-up to 60 km/hr for the remaining 30 km of the journey. What\n",
            "        is the average speed?\n",
            "        \n",
            "            >>> harmonic_mean([40, 60], weights=[5, 30])\n",
            "            56.0\n",
            "        \n",
            "        If ``data`` is empty, or any element is less than zero,\n",
            "        ``harmonic_mean`` will raise ``StatisticsError``.\n",
            "    \n",
            "    linear_regression(x, y, /)\n",
            "        Slope and intercept for simple linear regression.\n",
            "        \n",
            "        Return the slope and intercept of simple linear regression\n",
            "        parameters estimated using ordinary least squares. Simple linear\n",
            "        regression describes relationship between an independent variable\n",
            "        *x* and a dependent variable *y* in terms of linear function:\n",
            "        \n",
            "            y = slope * x + intercept + noise\n",
            "        \n",
            "        where *slope* and *intercept* are the regression parameters that are\n",
            "        estimated, and noise represents the variability of the data that was\n",
            "        not explained by the linear regression (it is equal to the\n",
            "        difference between predicted and actual values of the dependent\n",
            "        variable).\n",
            "        \n",
            "        The parameters are returned as a named tuple.\n",
            "        \n",
            "        >>> x = [1, 2, 3, 4, 5]\n",
            "        >>> noise = NormalDist().samples(5, seed=42)\n",
            "        >>> y = [3 * x[i] + 2 + noise[i] for i in range(5)]\n",
            "        >>> linear_regression(x, y)  #doctest: +ELLIPSIS\n",
            "        LinearRegression(slope=3.09078914170..., intercept=1.75684970486...)\n",
            "    \n",
            "    mean(data)\n",
            "        Return the sample arithmetic mean of data.\n",
            "        \n",
            "        >>> mean([1, 2, 3, 4, 4])\n",
            "        2.8\n",
            "        \n",
            "        >>> from fractions import Fraction as F\n",
            "        >>> mean([F(3, 7), F(1, 21), F(5, 3), F(1, 3)])\n",
            "        Fraction(13, 21)\n",
            "        \n",
            "        >>> from decimal import Decimal as D\n",
            "        >>> mean([D(\"0.5\"), D(\"0.75\"), D(\"0.625\"), D(\"0.375\")])\n",
            "        Decimal('0.5625')\n",
            "        \n",
            "        If ``data`` is empty, StatisticsError will be raised.\n",
            "    \n",
            "    median(data)\n",
            "        Return the median (middle value) of numeric data.\n",
            "        \n",
            "        When the number of data points is odd, return the middle data point.\n",
            "        When the number of data points is even, the median is interpolated by\n",
            "        taking the average of the two middle values:\n",
            "        \n",
            "        >>> median([1, 3, 5])\n",
            "        3\n",
            "        >>> median([1, 3, 5, 7])\n",
            "        4.0\n",
            "    \n",
            "    median_grouped(data, interval=1)\n",
            "        Return the 50th percentile (median) of grouped continuous data.\n",
            "        \n",
            "        >>> median_grouped([1, 2, 2, 3, 4, 4, 4, 4, 4, 5])\n",
            "        3.7\n",
            "        >>> median_grouped([52, 52, 53, 54])\n",
            "        52.5\n",
            "        \n",
            "        This calculates the median as the 50th percentile, and should be\n",
            "        used when your data is continuous and grouped. In the above example,\n",
            "        the values 1, 2, 3, etc. actually represent the midpoint of classes\n",
            "        0.5-1.5, 1.5-2.5, 2.5-3.5, etc. The middle value falls somewhere in\n",
            "        class 3.5-4.5, and interpolation is used to estimate it.\n",
            "        \n",
            "        Optional argument ``interval`` represents the class interval, and\n",
            "        defaults to 1. Changing the class interval naturally will change the\n",
            "        interpolated 50th percentile value:\n",
            "        \n",
            "        >>> median_grouped([1, 3, 3, 5, 7], interval=1)\n",
            "        3.25\n",
            "        >>> median_grouped([1, 3, 3, 5, 7], interval=2)\n",
            "        3.5\n",
            "        \n",
            "        This function does not check whether the data points are at least\n",
            "        ``interval`` apart.\n",
            "    \n",
            "    median_high(data)\n",
            "        Return the high median of data.\n",
            "        \n",
            "        When the number of data points is odd, the middle value is returned.\n",
            "        When it is even, the larger of the two middle values is returned.\n",
            "        \n",
            "        >>> median_high([1, 3, 5])\n",
            "        3\n",
            "        >>> median_high([1, 3, 5, 7])\n",
            "        5\n",
            "    \n",
            "    median_low(data)\n",
            "        Return the low median of numeric data.\n",
            "        \n",
            "        When the number of data points is odd, the middle value is returned.\n",
            "        When it is even, the smaller of the two middle values is returned.\n",
            "        \n",
            "        >>> median_low([1, 3, 5])\n",
            "        3\n",
            "        >>> median_low([1, 3, 5, 7])\n",
            "        3\n",
            "    \n",
            "    mode(data)\n",
            "        Return the most common data point from discrete or nominal data.\n",
            "        \n",
            "        ``mode`` assumes discrete data, and returns a single value. This is the\n",
            "        standard treatment of the mode as commonly taught in schools:\n",
            "        \n",
            "            >>> mode([1, 1, 2, 3, 3, 3, 3, 4])\n",
            "            3\n",
            "        \n",
            "        This also works with nominal (non-numeric) data:\n",
            "        \n",
            "            >>> mode([\"red\", \"blue\", \"blue\", \"red\", \"green\", \"red\", \"red\"])\n",
            "            'red'\n",
            "        \n",
            "        If there are multiple modes with same frequency, return the first one\n",
            "        encountered:\n",
            "        \n",
            "            >>> mode(['red', 'red', 'green', 'blue', 'blue'])\n",
            "            'red'\n",
            "        \n",
            "        If *data* is empty, ``mode``, raises StatisticsError.\n",
            "    \n",
            "    multimode(data)\n",
            "        Return a list of the most frequently occurring values.\n",
            "        \n",
            "        Will return more than one result if there are multiple modes\n",
            "        or an empty list if *data* is empty.\n",
            "        \n",
            "        >>> multimode('aabbbbbbbbcc')\n",
            "        ['b']\n",
            "        >>> multimode('aabbbbccddddeeffffgg')\n",
            "        ['b', 'd', 'f']\n",
            "        >>> multimode('')\n",
            "        []\n",
            "    \n",
            "    pstdev(data, mu=None)\n",
            "        Return the square root of the population variance.\n",
            "        \n",
            "        See ``pvariance`` for arguments and other details.\n",
            "        \n",
            "        >>> pstdev([1.5, 2.5, 2.5, 2.75, 3.25, 4.75])\n",
            "        0.986893273527251\n",
            "    \n",
            "    pvariance(data, mu=None)\n",
            "        Return the population variance of ``data``.\n",
            "        \n",
            "        data should be a sequence or iterable of Real-valued numbers, with at least one\n",
            "        value. The optional argument mu, if given, should be the mean of\n",
            "        the data. If it is missing or None, the mean is automatically calculated.\n",
            "        \n",
            "        Use this function to calculate the variance from the entire population.\n",
            "        To estimate the variance from a sample, the ``variance`` function is\n",
            "        usually a better choice.\n",
            "        \n",
            "        Examples:\n",
            "        \n",
            "        >>> data = [0.0, 0.25, 0.25, 1.25, 1.5, 1.75, 2.75, 3.25]\n",
            "        >>> pvariance(data)\n",
            "        1.25\n",
            "        \n",
            "        If you have already calculated the mean of the data, you can pass it as\n",
            "        the optional second argument to avoid recalculating it:\n",
            "        \n",
            "        >>> mu = mean(data)\n",
            "        >>> pvariance(data, mu)\n",
            "        1.25\n",
            "        \n",
            "        Decimals and Fractions are supported:\n",
            "        \n",
            "        >>> from decimal import Decimal as D\n",
            "        >>> pvariance([D(\"27.5\"), D(\"30.25\"), D(\"30.25\"), D(\"34.5\"), D(\"41.75\")])\n",
            "        Decimal('24.815')\n",
            "        \n",
            "        >>> from fractions import Fraction as F\n",
            "        >>> pvariance([F(1, 4), F(5, 4), F(1, 2)])\n",
            "        Fraction(13, 72)\n",
            "    \n",
            "    quantiles(data, *, n=4, method='exclusive')\n",
            "        Divide *data* into *n* continuous intervals with equal probability.\n",
            "        \n",
            "        Returns a list of (n - 1) cut points separating the intervals.\n",
            "        \n",
            "        Set *n* to 4 for quartiles (the default).  Set *n* to 10 for deciles.\n",
            "        Set *n* to 100 for percentiles which gives the 99 cuts points that\n",
            "        separate *data* in to 100 equal sized groups.\n",
            "        \n",
            "        The *data* can be any iterable containing sample.\n",
            "        The cut points are linearly interpolated between data points.\n",
            "        \n",
            "        If *method* is set to *inclusive*, *data* is treated as population\n",
            "        data.  The minimum value is treated as the 0th percentile and the\n",
            "        maximum value is treated as the 100th percentile.\n",
            "    \n",
            "    stdev(data, xbar=None)\n",
            "        Return the square root of the sample variance.\n",
            "        \n",
            "        See ``variance`` for arguments and other details.\n",
            "        \n",
            "        >>> stdev([1.5, 2.5, 2.5, 2.75, 3.25, 4.75])\n",
            "        1.0810874155219827\n",
            "    \n",
            "    variance(data, xbar=None)\n",
            "        Return the sample variance of data.\n",
            "        \n",
            "        data should be an iterable of Real-valued numbers, with at least two\n",
            "        values. The optional argument xbar, if given, should be the mean of\n",
            "        the data. If it is missing or None, the mean is automatically calculated.\n",
            "        \n",
            "        Use this function when your data is a sample from a population. To\n",
            "        calculate the variance from the entire population, see ``pvariance``.\n",
            "        \n",
            "        Examples:\n",
            "        \n",
            "        >>> data = [2.75, 1.75, 1.25, 0.25, 0.5, 1.25, 3.5]\n",
            "        >>> variance(data)\n",
            "        1.3720238095238095\n",
            "        \n",
            "        If you have already calculated the mean of your data, you can pass it as\n",
            "        the optional second argument ``xbar`` to avoid recalculating it:\n",
            "        \n",
            "        >>> m = mean(data)\n",
            "        >>> variance(data, m)\n",
            "        1.3720238095238095\n",
            "        \n",
            "        This function does not check that ``xbar`` is actually the mean of\n",
            "        ``data``. Giving arbitrary values for ``xbar`` may lead to invalid or\n",
            "        impossible results.\n",
            "        \n",
            "        Decimals and Fractions are supported:\n",
            "        \n",
            "        >>> from decimal import Decimal as D\n",
            "        >>> variance([D(\"27.5\"), D(\"30.25\"), D(\"30.25\"), D(\"34.5\"), D(\"41.75\")])\n",
            "        Decimal('31.01875')\n",
            "        \n",
            "        >>> from fractions import Fraction as F\n",
            "        >>> variance([F(1, 6), F(1, 2), F(5, 3)])\n",
            "        Fraction(67, 108)\n",
            "\n",
            "DATA\n",
            "    __all__ = ['NormalDist', 'StatisticsError', 'correlation', 'covariance...\n",
            "\n",
            "FILE\n",
            "    /usr/lib/python3.10/statistics.py\n",
            "\n",
            "\n"
          ]
        }
      ]
    },
    {
      "cell_type": "markdown",
      "id": "8cb4b0f3",
      "metadata": {
        "id": "8cb4b0f3"
      },
      "source": [
        "### SciPy Module (not part of the Standard Library)\n",
        "The `scipy` module provides functions for scientific computing, including statistical hypothesis testing"
      ]
    },
    {
      "cell_type": "code",
      "execution_count": 75,
      "id": "7d2e46ca",
      "metadata": {
        "id": "7d2e46ca",
        "outputId": "c34a34b8-20dc-4662-8f01-366ab055449b",
        "colab": {
          "base_uri": "https://localhost:8080/"
        }
      },
      "outputs": [
        {
          "output_type": "execute_result",
          "data": {
            "text/plain": [
              "TtestResult(statistic=5.857210267889033, pvalue=8.937958782868781e-07, df=38.0)"
            ]
          },
          "metadata": {},
          "execution_count": 75
        }
      ],
      "source": [
        "from scipy import stats\n",
        "stats.ttest_ind(men, women)"
      ]
    },
    {
      "cell_type": "markdown",
      "id": "f3803d29",
      "metadata": {
        "id": "f3803d29"
      },
      "source": [
        "### Pickle Module\n",
        "The `pickle` module is used to serialize (convert to bytes) and deserialize (convert from bytes) Python objects. In a simpler words, it allows saving (and loading) arbitrarty Pythons  data structures."
      ]
    },
    {
      "cell_type": "code",
      "execution_count": 81,
      "id": "9ae7d9f0",
      "metadata": {
        "id": "9ae7d9f0"
      },
      "outputs": [],
      "source": [
        "import pickle\n",
        "\n",
        "data = {'x' : 13, 'y': 50}\n",
        "\n",
        "pickle.dump(data, open('data.save', 'wb'))"
      ]
    },
    {
      "cell_type": "code",
      "execution_count": 82,
      "id": "5f22d392",
      "metadata": {
        "id": "5f22d392",
        "outputId": "05975ec2-ea2c-4588-c93b-72c90991f496",
        "colab": {
          "base_uri": "https://localhost:8080/"
        }
      },
      "outputs": [
        {
          "output_type": "stream",
          "name": "stdout",
          "text": [
            "{'x': 13, 'y': 50}\n"
          ]
        }
      ],
      "source": [
        "data2 = pickle.load(open('data.save', 'rb'))\n",
        "print(data2)"
      ]
    },
    {
      "cell_type": "markdown",
      "id": "bafadd44",
      "metadata": {
        "id": "bafadd44"
      },
      "source": [
        "**Be careful with pickle files that you obtain from an untrusted source!** They can contain malicious code, so do not simply load any pickle that you found somewhere on the internet. For an explanation of why pickle files are dangerous, see for instance: https://huggingface.co/docs/hub/security-pickle#why-is-it-dangerous"
      ]
    },
    {
      "cell_type": "markdown",
      "id": "c4785800",
      "metadata": {
        "id": "c4785800"
      },
      "source": [
        "### Date and Time"
      ]
    },
    {
      "cell_type": "markdown",
      "id": "61c73107",
      "metadata": {
        "id": "61c73107"
      },
      "source": [
        "The `datetime` module provides classes to work with dates and times."
      ]
    },
    {
      "cell_type": "markdown",
      "id": "3271ee46",
      "metadata": {
        "id": "3271ee46"
      },
      "source": [
        "There are several classes within the module that you can use to work with dates and times, such as `datetime.date` for dates, `datetime.time` for times, and `datetime.datetime` for both dates and times."
      ]
    },
    {
      "cell_type": "markdown",
      "id": "8539656d",
      "metadata": {
        "id": "8539656d"
      },
      "source": [
        "`datetime.date` class is used for working with dates (year, month, and day)."
      ]
    },
    {
      "cell_type": "code",
      "execution_count": 84,
      "id": "47e90a05",
      "metadata": {
        "scrolled": true,
        "id": "47e90a05",
        "outputId": "4424b536-47ee-4abe-ae8e-055fe61a093e",
        "colab": {
          "base_uri": "https://localhost:8080/"
        }
      },
      "outputs": [
        {
          "output_type": "execute_result",
          "data": {
            "text/plain": [
              "datetime.date"
            ]
          },
          "metadata": {},
          "execution_count": 84
        }
      ],
      "source": [
        "import datetime\n",
        "\n",
        "new_year = datetime.date(2023,1,1)\n",
        "type(new_year)"
      ]
    },
    {
      "cell_type": "markdown",
      "id": "65d73fd0",
      "metadata": {
        "id": "65d73fd0"
      },
      "source": [
        "Let's create a `datetime.date` object for January 1, 2023:"
      ]
    },
    {
      "cell_type": "code",
      "execution_count": 85,
      "id": "d9cdc2c9",
      "metadata": {
        "id": "d9cdc2c9",
        "outputId": "f5bcca2a-ca5b-4cb1-84d0-0d154ac8205d",
        "colab": {
          "base_uri": "https://localhost:8080/"
        }
      },
      "outputs": [
        {
          "output_type": "execute_result",
          "data": {
            "text/plain": [
              "datetime.date(2023, 1, 1)"
            ]
          },
          "metadata": {},
          "execution_count": 85
        }
      ],
      "source": [
        "new_year"
      ]
    },
    {
      "cell_type": "code",
      "execution_count": 86,
      "id": "f70010f4",
      "metadata": {
        "id": "f70010f4",
        "outputId": "be98c84c-7366-424d-987d-258aede58d95",
        "colab": {
          "base_uri": "https://localhost:8080/"
        }
      },
      "outputs": [
        {
          "output_type": "stream",
          "name": "stdout",
          "text": [
            "2023-01-01\n"
          ]
        }
      ],
      "source": [
        "print(new_year)"
      ]
    },
    {
      "cell_type": "markdown",
      "id": "cbe021b8",
      "metadata": {
        "id": "cbe021b8"
      },
      "source": [
        "We can get the current date using the `today` method:"
      ]
    },
    {
      "cell_type": "code",
      "execution_count": 87,
      "id": "e24673dd",
      "metadata": {
        "id": "e24673dd",
        "outputId": "584577e8-8739-49c1-b046-8f0928cf36b2",
        "colab": {
          "base_uri": "https://localhost:8080/"
        }
      },
      "outputs": [
        {
          "output_type": "stream",
          "name": "stdout",
          "text": [
            "2024-10-07\n"
          ]
        }
      ],
      "source": [
        "today = datetime.date.today()\n",
        "print(today)"
      ]
    },
    {
      "cell_type": "markdown",
      "id": "340fb2f1",
      "metadata": {
        "id": "340fb2f1"
      },
      "source": [
        "`datetime.timedelta` is used for working with differences in time. This allows adding or subtracting a specific amount of time from a date."
      ]
    },
    {
      "cell_type": "code",
      "execution_count": 88,
      "id": "c3e4c2db",
      "metadata": {
        "id": "c3e4c2db",
        "outputId": "af3dbcbb-4f2e-45e7-ec9f-e7ab8243b729",
        "colab": {
          "base_uri": "https://localhost:8080/"
        }
      },
      "outputs": [
        {
          "output_type": "execute_result",
          "data": {
            "text/plain": [
              "datetime.timedelta(days=7)"
            ]
          },
          "metadata": {},
          "execution_count": 88
        }
      ],
      "source": [
        "week = datetime.timedelta(days = 7)\n",
        "week"
      ]
    },
    {
      "cell_type": "code",
      "source": [
        "weekday = datetime.timedelta(days = 5)"
      ],
      "metadata": {
        "id": "ngv4PwFeQ8bD"
      },
      "id": "ngv4PwFeQ8bD",
      "execution_count": 90,
      "outputs": []
    },
    {
      "cell_type": "code",
      "execution_count": 92,
      "id": "e3e05da3",
      "metadata": {
        "id": "e3e05da3",
        "outputId": "66388f33-9783-4d15-b5cd-919fd6c5881b",
        "colab": {
          "base_uri": "https://localhost:8080/"
        }
      },
      "outputs": [
        {
          "output_type": "stream",
          "name": "stdout",
          "text": [
            "2024-10-14 2024-09-30\n"
          ]
        }
      ],
      "source": [
        "print(today + week, today - week)"
      ]
    },
    {
      "cell_type": "code",
      "execution_count": 93,
      "id": "2abe03fa",
      "metadata": {
        "id": "2abe03fa",
        "outputId": "6e9096df-28a3-4123-b755-0246ae2f20bf",
        "colab": {
          "base_uri": "https://localhost:8080/"
        }
      },
      "outputs": [
        {
          "output_type": "stream",
          "name": "stdout",
          "text": [
            "645 days, 0:00:00\n"
          ]
        }
      ],
      "source": [
        "since_new_year = today - new_year\n",
        "print(since_new_year)"
      ]
    },
    {
      "cell_type": "markdown",
      "id": "fde62933",
      "metadata": {
        "id": "fde62933"
      },
      "source": [
        "We can use multiplication for timedelta"
      ]
    },
    {
      "cell_type": "code",
      "execution_count": 96,
      "id": "f4da0f42",
      "metadata": {
        "id": "f4da0f42",
        "outputId": "8062fab0-8438-4fad-a594-ee9d0d06d072",
        "colab": {
          "base_uri": "https://localhost:8080/"
        }
      },
      "outputs": [
        {
          "output_type": "stream",
          "name": "stdout",
          "text": [
            "2040-08-29\n"
          ]
        }
      ],
      "source": [
        "print(today + since_new_year * 9)"
      ]
    },
    {
      "cell_type": "markdown",
      "id": "bcaf7cef",
      "metadata": {
        "id": "bcaf7cef"
      },
      "source": [
        "We can also compare dates"
      ]
    },
    {
      "cell_type": "code",
      "execution_count": 97,
      "id": "dc7280fc",
      "metadata": {
        "id": "dc7280fc",
        "outputId": "57c7e255-8618-4446-d5e1-910018de51ff",
        "colab": {
          "base_uri": "https://localhost:8080/"
        }
      },
      "outputs": [
        {
          "output_type": "stream",
          "name": "stdout",
          "text": [
            "False\n"
          ]
        },
        {
          "output_type": "execute_result",
          "data": {
            "text/plain": [
              "True"
            ]
          },
          "metadata": {},
          "execution_count": 97
        }
      ],
      "source": [
        "print(today < new_year)\n",
        "date_in_future = datetime.date(2024,1,1)\n",
        "date_in_future > new_year"
      ]
    },
    {
      "cell_type": "code",
      "execution_count": 98,
      "id": "d4cf94a6",
      "metadata": {
        "id": "d4cf94a6",
        "outputId": "b9cae53a-369d-4bad-c4fe-cafc56e84c89",
        "colab": {
          "base_uri": "https://localhost:8080/"
        }
      },
      "outputs": [
        {
          "output_type": "execute_result",
          "data": {
            "text/plain": [
              "6"
            ]
          },
          "metadata": {},
          "execution_count": 98
        }
      ],
      "source": [
        "new_year.weekday()"
      ]
    },
    {
      "cell_type": "markdown",
      "id": "5b2c33d3",
      "metadata": {
        "id": "5b2c33d3"
      },
      "source": [
        "The `strftime` method allows you to format `datetime` objects as strings. You can find the [full list](https://docs.python.org/3/library/datetime.html#strftime-strptime-behavior) of available directives in the official documentation.\n"
      ]
    },
    {
      "cell_type": "code",
      "execution_count": 102,
      "id": "9d5c3c71",
      "metadata": {
        "scrolled": true,
        "id": "9d5c3c71",
        "outputId": "a4820313-74ac-4b84-de0c-20278ed6ca98",
        "colab": {
          "base_uri": "https://localhost:8080/",
          "height": 35
        }
      },
      "outputs": [
        {
          "output_type": "execute_result",
          "data": {
            "text/plain": [
              "'07~10~24'"
            ],
            "application/vnd.google.colaboratory.intrinsic+json": {
              "type": "string"
            }
          },
          "metadata": {},
          "execution_count": 102
        }
      ],
      "source": [
        "today.strftime(\"%d~%m~%y\")"
      ]
    },
    {
      "cell_type": "code",
      "execution_count": 106,
      "id": "bb67b250",
      "metadata": {
        "id": "bb67b250",
        "outputId": "33390503-bf77-43ad-c714-48fe9b268218",
        "colab": {
          "base_uri": "https://localhost:8080/",
          "height": 35
        }
      },
      "outputs": [
        {
          "output_type": "execute_result",
          "data": {
            "text/plain": [
              "'Hello, the date is: Monday October, 00:00:00 AM 24'"
            ],
            "application/vnd.google.colaboratory.intrinsic+json": {
              "type": "string"
            }
          },
          "metadata": {},
          "execution_count": 106
        }
      ],
      "source": [
        "today.strftime('Hello, the date is: %A %B, %H:%M:%S %p %y')"
      ]
    },
    {
      "cell_type": "markdown",
      "id": "49cd35f4",
      "metadata": {
        "id": "49cd35f4"
      },
      "source": [
        "Python 3.6 introduced so-called `f-strings` that you can use to directly format dates and other data types to include them into strings."
      ]
    },
    {
      "cell_type": "code",
      "execution_count": 104,
      "id": "763d86b6",
      "metadata": {
        "id": "763d86b6",
        "outputId": "e103a3e4-78cb-49b6-a316-1c4fa024eb44",
        "colab": {
          "base_uri": "https://localhost:8080/",
          "height": 35
        }
      },
      "outputs": [
        {
          "output_type": "execute_result",
          "data": {
            "text/plain": [
              "'Today is 07.10.2024.'"
            ],
            "application/vnd.google.colaboratory.intrinsic+json": {
              "type": "string"
            }
          },
          "metadata": {},
          "execution_count": 104
        }
      ],
      "source": [
        "f'Today is {today:%d.%m.%Y}.'"
      ]
    },
    {
      "cell_type": "markdown",
      "id": "7f30d608",
      "metadata": {
        "id": "7f30d608"
      },
      "source": [
        "Another class ```datetime.datetime``` is used for working with both dates and times."
      ]
    },
    {
      "cell_type": "code",
      "execution_count": 107,
      "id": "f39bec6f",
      "metadata": {
        "id": "f39bec6f",
        "outputId": "a071da59-3e08-421d-c44d-6d29edbfad85",
        "colab": {
          "base_uri": "https://localhost:8080/"
        }
      },
      "outputs": [
        {
          "output_type": "execute_result",
          "data": {
            "text/plain": [
              "datetime.datetime"
            ]
          },
          "metadata": {},
          "execution_count": 107
        }
      ],
      "source": [
        "now = datetime.datetime.now()\n",
        "type(now)"
      ]
    },
    {
      "cell_type": "code",
      "execution_count": 108,
      "id": "4cb7c3ac",
      "metadata": {
        "id": "4cb7c3ac",
        "outputId": "f82ec305-8de0-416b-de82-adcf95444e88",
        "colab": {
          "base_uri": "https://localhost:8080/"
        }
      },
      "outputs": [
        {
          "output_type": "stream",
          "name": "stdout",
          "text": [
            "2024-10-07 09:28:27.916944\n"
          ]
        }
      ],
      "source": [
        "print(now)"
      ]
    },
    {
      "cell_type": "markdown",
      "id": "012858d5",
      "metadata": {
        "id": "012858d5"
      },
      "source": [
        "We can use `datetime.timedelta` objects with `datetime.datetime` objects as well."
      ]
    },
    {
      "cell_type": "code",
      "execution_count": 110,
      "id": "9865af0e",
      "metadata": {
        "id": "9865af0e",
        "outputId": "152dc038-1811-49de-ae0a-0736b7fee1f2",
        "colab": {
          "base_uri": "https://localhost:8080/"
        }
      },
      "outputs": [
        {
          "output_type": "stream",
          "name": "stdout",
          "text": [
            "2024-10-07 09:38:37.916944\n"
          ]
        }
      ],
      "source": [
        "time_delta = datetime.timedelta(minutes = 10, seconds = 10)\n",
        "print(now + time_delta)"
      ]
    },
    {
      "cell_type": "markdown",
      "id": "bfc8655f",
      "metadata": {
        "id": "bfc8655f"
      },
      "source": [
        "The advantage of working with datetime.datetime objects is that they could be made aware of time zones which allows for easy conversion between time zones."
      ]
    },
    {
      "cell_type": "code",
      "execution_count": 122,
      "id": "2b20f6c5",
      "metadata": {
        "scrolled": true,
        "id": "2b20f6c5",
        "outputId": "dccccf5a-a3ac-49e3-9037-ebc042c0fb69",
        "colab": {
          "base_uri": "https://localhost:8080/"
        }
      },
      "outputs": [
        {
          "output_type": "stream",
          "name": "stdout",
          "text": [
            "2024-10-07 09:36:45.503081+00:00\n"
          ]
        }
      ],
      "source": [
        "now = datetime.datetime.now(tz = datetime.timezone.utc)\n",
        "print(now)"
      ]
    },
    {
      "cell_type": "code",
      "execution_count": 115,
      "id": "cb074bf9",
      "metadata": {
        "id": "cb074bf9",
        "outputId": "878b18d3-720b-4f80-d41e-9244b3eaa977",
        "colab": {
          "base_uri": "https://localhost:8080/"
        }
      },
      "outputs": [
        {
          "output_type": "stream",
          "name": "stdout",
          "text": [
            "2024-10-07 17:33:08.589002+08:00 --- 2024-10-07 11:33:08.589002+02:00\n"
          ]
        }
      ],
      "source": [
        "beijing_time = datetime.timezone(datetime.timedelta(hours = 8))\n",
        "berlin_time = datetime.timezone(datetime.timedelta(hours = 2))\n",
        "print(now.astimezone(beijing_time), '---', now.astimezone(berlin_time))"
      ]
    },
    {
      "cell_type": "markdown",
      "id": "ff21452a",
      "metadata": {
        "id": "ff21452a"
      },
      "source": [
        "Instead of manually defining the time zone by specifying the difference with UTC, we could use one of the real time zones. These would be aware of daylight saving time."
      ]
    },
    {
      "cell_type": "code",
      "execution_count": 120,
      "id": "07b116ba",
      "metadata": {
        "id": "07b116ba",
        "outputId": "05437646-b63a-443a-cd82-aa9cb6eb6ef4",
        "colab": {
          "base_uri": "https://localhost:8080/"
        }
      },
      "outputs": [
        {
          "output_type": "stream",
          "name": "stdout",
          "text": [
            "UCT\n",
            "US/Alaska\n",
            "US/Aleutian\n",
            "US/Arizona\n",
            "US/Central\n",
            "US/East-Indiana\n",
            "US/Eastern\n",
            "US/Hawaii\n",
            "US/Indiana-Starke\n",
            "US/Michigan\n",
            "US/Mountain\n",
            "US/Pacific\n",
            "US/Samoa\n",
            "UTC\n",
            "Universal\n",
            "W-SU\n",
            "WET\n",
            "Zulu\n"
          ]
        }
      ],
      "source": [
        "import pytz\n",
        "for tz in pytz.all_timezones[-18:]:\n",
        "    print(tz)"
      ]
    },
    {
      "cell_type": "code",
      "execution_count": 123,
      "id": "97f3f3c8",
      "metadata": {
        "scrolled": true,
        "id": "97f3f3c8",
        "outputId": "e243ccf9-84bc-412e-8c3f-11598752dd1b",
        "colab": {
          "base_uri": "https://localhost:8080/"
        }
      },
      "outputs": [
        {
          "output_type": "stream",
          "name": "stdout",
          "text": [
            "2024-10-07 17:36:45.503081+08:00 --- 2024-10-07 11:36:45.503081+02:00\n"
          ]
        }
      ],
      "source": [
        "mt = pytz.timezone('Asia/Shanghai')\n",
        "bt = pytz.timezone('Europe/Berlin')\n",
        "\n",
        "print(now.astimezone(mt), '---', now.astimezone(bt))"
      ]
    },
    {
      "cell_type": "markdown",
      "id": "b05c8017",
      "metadata": {
        "id": "b05c8017"
      },
      "source": [
        "A timestamp is a number that represents a specific moment in time. It is the number of seconds that have passed since a certain point in the past"
      ]
    },
    {
      "cell_type": "code",
      "execution_count": 124,
      "id": "d4446d01",
      "metadata": {
        "id": "d4446d01",
        "outputId": "9a0a36f3-23c1-4972-af1e-a3ef88dffe8e",
        "colab": {
          "base_uri": "https://localhost:8080/"
        }
      },
      "outputs": [
        {
          "output_type": "stream",
          "name": "stdout",
          "text": [
            "1728293805.503081\n"
          ]
        }
      ],
      "source": [
        "ts = now.timestamp()\n",
        "print(ts)"
      ]
    },
    {
      "cell_type": "code",
      "execution_count": 125,
      "id": "bdf8e818",
      "metadata": {
        "id": "bdf8e818",
        "outputId": "f11e591c-d792-4d92-cf22-e4a135b3a354",
        "colab": {
          "base_uri": "https://localhost:8080/"
        }
      },
      "outputs": [
        {
          "output_type": "execute_result",
          "data": {
            "text/plain": [
              "54.80383705933159"
            ]
          },
          "metadata": {},
          "execution_count": 125
        }
      ],
      "source": [
        "year_in_seconds = 60 * 60 * 24 * 365\n",
        "ts / year_in_seconds  # seconds since timestamp 0"
      ]
    },
    {
      "cell_type": "markdown",
      "id": "a0f0e66d",
      "metadata": {
        "id": "a0f0e66d"
      },
      "source": [
        "So it is actually January 1, 1970, 00:00:00 (UTC)."
      ]
    },
    {
      "cell_type": "code",
      "execution_count": 138,
      "id": "9cc61ac9",
      "metadata": {
        "id": "9cc61ac9",
        "outputId": "3406600e-c559-4ae4-8761-029df7de92f1",
        "colab": {
          "base_uri": "https://localhost:8080/"
        }
      },
      "outputs": [
        {
          "output_type": "stream",
          "name": "stdout",
          "text": [
            "0.3535439968109131\n"
          ]
        }
      ],
      "source": [
        "# let's use timestamps to measure how long an operation takes\n",
        "ts = datetime.datetime.now().timestamp()\n",
        "for i in range(1, 10000000):\n",
        "    x = 1\n",
        "print(datetime.datetime.now().timestamp() - ts)"
      ]
    },
    {
      "cell_type": "code",
      "execution_count": 139,
      "id": "895aaab1",
      "metadata": {
        "id": "895aaab1",
        "outputId": "e2ea585d-04ab-4218-8a51-b7daeb3b28b0",
        "colab": {
          "base_uri": "https://localhost:8080/",
          "height": 35
        }
      },
      "outputs": [
        {
          "output_type": "execute_result",
          "data": {
            "text/plain": [
              "'09:44:38 07.10.2024'"
            ],
            "application/vnd.google.colaboratory.intrinsic+json": {
              "type": "string"
            }
          },
          "metadata": {},
          "execution_count": 139
        }
      ],
      "source": [
        "new_current_time = datetime.datetime.fromtimestamp(ts)  # convert timestamp to datetime\n",
        "new_current_time.strftime(\"%H:%M:%S %d.%m.%Y\")"
      ]
    },
    {
      "cell_type": "markdown",
      "id": "1ecbe5f5",
      "metadata": {
        "id": "1ecbe5f5"
      },
      "source": [
        "# pprint – \"pretty-print\""
      ]
    },
    {
      "cell_type": "code",
      "execution_count": 140,
      "id": "008c8b2c",
      "metadata": {
        "id": "008c8b2c",
        "outputId": "137ec857-905c-4008-ba74-8f3a72d18f74",
        "colab": {
          "base_uri": "https://localhost:8080/"
        }
      },
      "outputs": [
        {
          "output_type": "stream",
          "name": "stdout",
          "text": [
            "[{'id': 731128, 'first_name': 'Lukas', 'last_name': 'Strohmaier', 'age': 25, 'friends': [483198, 239570, 793005, 661742, 366391, 615506, 938483, 873528, 763436, 927225, 225686, 460894, 674641], 'papers': [{'journal': 'PNAS', 'title': 'Estimating educational outcomes from students’ short texts on social media'}]}, {'id': 610278, 'first_name': 'Sofia', 'last_name': 'Schneider', 'age': 21, 'friends': [340424, 118896, 728115, 732455, 685114, 237262], 'papers': [{'journal': 'PNAS', 'title': 'Schools are segregated by educational outcomes in the digital space'}]}, {'id': 226486, 'first_name': 'Ivan', 'last_name': 'Schmidt', 'age': 22, 'friends': [840459, 849913, 550089], 'papers': [{'journal': 'Nature', 'title': 'Parents mention sons more often than daughters on social media'}, {'journal': 'Science', 'title': 'The digital flynn effect: Complexity of posts on social media increases over time'}]}, {'id': 468537, 'first_name': 'Lukas', 'last_name': 'Lemmerich', 'age': 73, 'friends': [636316], 'papers': [{'journal': 'PNAS', 'title': 'Estimating educational outcomes from students’ short texts on social media'}, {'journal': 'PLOS One', 'title': 'Predicting PISA scores from students’ digital traces'}]}, {'id': 257556, 'first_name': 'Anna', 'last_name': 'Müller', 'age': 92, 'friends': [227376, 706211, 876261, 388121, 368097, 790177, 551119, 622808, 204274, 606230, 737488, 874988], 'papers': [{'journal': 'Science', 'title': 'Estimating educational outcomes from students’ short texts on social media'}]}]\n"
          ]
        }
      ],
      "source": [
        "data = [\n",
        " {'id': 731128,\n",
        "  'first_name': 'Lukas',\n",
        "  'last_name': 'Strohmaier',\n",
        "  'age': 25,\n",
        "  'friends': [483198,239570,793005,661742,366391,615506,938483,873528,763436,927225,225686,460894,674641],\n",
        "  'papers': [{'journal': 'PNAS', 'title': 'Estimating educational outcomes from students’ short texts on social media'}]},\n",
        " {'id': 610278,\n",
        "  'first_name': 'Sofia',\n",
        "  'last_name': 'Schneider',\n",
        "  'age': 21,\n",
        "  'friends': [340424, 118896, 728115, 732455, 685114, 237262],\n",
        "  'papers': [{'journal': 'PNAS','title': 'Schools are segregated by educational outcomes in the digital space'}]},\n",
        " {'id': 226486,\n",
        "  'first_name': 'Ivan',\n",
        "  'last_name': 'Schmidt',\n",
        "  'age': 22,\n",
        "  'friends': [840459, 849913, 550089],\n",
        "  'papers': [{'journal': 'Nature', 'title': 'Parents mention sons more often than daughters on social media'},\n",
        "             {'journal': 'Science', 'title': 'The digital flynn effect: Complexity of posts on social media increases over time'}]},\n",
        " {'id': 468537,\n",
        "  'first_name': 'Lukas',\n",
        "  'last_name': 'Lemmerich',\n",
        "  'age': 73,\n",
        "  'friends': [636316],\n",
        "  'papers': [{'journal': 'PNAS', 'title': 'Estimating educational outcomes from students’ short texts on social media'},\n",
        "             {'journal': 'PLOS One', 'title': 'Predicting PISA scores from students’ digital traces'}]},\n",
        " {'id': 257556,\n",
        "  'first_name': 'Anna',\n",
        "  'last_name': 'Müller',\n",
        "  'age': 92,\n",
        "  'friends': [227376, 706211, 876261, 388121, 368097, 790177, 551119, 622808, 204274, 606230, 737488, 874988],\n",
        "  'papers': [{'journal': 'Science', 'title': 'Estimating educational outcomes from students’ short texts on social media'}]}\n",
        "]\n",
        "\n",
        "print(data) # this is almost unreadable"
      ]
    },
    {
      "cell_type": "code",
      "execution_count": null,
      "id": "af420820",
      "metadata": {
        "id": "af420820",
        "outputId": "279278df-b628-4962-e940-6ccac410de90"
      },
      "outputs": [
        {
          "name": "stdout",
          "output_type": "stream",
          "text": [
            "[{'age': 25,\n",
            "  'first_name': 'Lukas',\n",
            "  'friends': [483198,\n",
            "              239570,\n",
            "              793005,\n",
            "              661742,\n",
            "              366391,\n",
            "              615506,\n",
            "              938483,\n",
            "              873528,\n",
            "              763436,\n",
            "              927225,\n",
            "              225686,\n",
            "              460894,\n",
            "              674641],\n",
            "  'id': 731128,\n",
            "  'last_name': 'Strohmaier',\n",
            "  'papers': [{'journal': 'PNAS',\n",
            "              'title': 'Estimating educational outcomes from students’ short '\n",
            "                       'texts on social media'}]},\n",
            " {'age': 21,\n",
            "  'first_name': 'Sofia',\n",
            "  'friends': [340424, 118896, 728115, 732455, 685114, 237262],\n",
            "  'id': 610278,\n",
            "  'last_name': 'Schneider',\n",
            "  'papers': [{'journal': 'PNAS',\n",
            "              'title': 'Schools are segregated by educational outcomes in the '\n",
            "                       'digital space'}]},\n",
            " {'age': 22,\n",
            "  'first_name': 'Ivan',\n",
            "  'friends': [840459, 849913, 550089],\n",
            "  'id': 226486,\n",
            "  'last_name': 'Schmidt',\n",
            "  'papers': [{'journal': 'Nature',\n",
            "              'title': 'Parents mention sons more often than daughters on '\n",
            "                       'social media'},\n",
            "             {'journal': 'Science',\n",
            "              'title': 'The digital flynn effect: Complexity of posts on '\n",
            "                       'social media increases over time'}]},\n",
            " {'age': 73,\n",
            "  'first_name': 'Lukas',\n",
            "  'friends': [636316],\n",
            "  'id': 468537,\n",
            "  'last_name': 'Lemmerich',\n",
            "  'papers': [{'journal': 'PNAS',\n",
            "              'title': 'Estimating educational outcomes from students’ short '\n",
            "                       'texts on social media'},\n",
            "             {'journal': 'PLOS One',\n",
            "              'title': 'Predicting PISA scores from students’ digital '\n",
            "                       'traces'}]},\n",
            " {'age': 92,\n",
            "  'first_name': 'Anna',\n",
            "  'friends': [227376,\n",
            "              706211,\n",
            "              876261,\n",
            "              388121,\n",
            "              368097,\n",
            "              790177,\n",
            "              551119,\n",
            "              622808,\n",
            "              204274,\n",
            "              606230,\n",
            "              737488,\n",
            "              874988],\n",
            "  'id': 257556,\n",
            "  'last_name': 'Müller',\n",
            "  'papers': [{'journal': 'Science',\n",
            "              'title': 'Estimating educational outcomes from students’ short '\n",
            "                       'texts on social media'}]}]\n"
          ]
        }
      ],
      "source": [
        "from pprint import pprint, pformat\n",
        "\n",
        "pprint(data)"
      ]
    },
    {
      "cell_type": "code",
      "execution_count": null,
      "id": "e6572121",
      "metadata": {
        "id": "e6572121",
        "outputId": "493e6fc2-c1c5-4786-d9f8-cd7263321bcf"
      },
      "outputs": [
        {
          "name": "stdout",
          "output_type": "stream",
          "text": [
            "Help on function pprint in module pprint:\n",
            "\n",
            "pprint(object, stream=None, indent=1, width=80, depth=None, *, compact=False, sort_dicts=True, underscore_numbers=False)\n",
            "    Pretty-print a Python object to a stream [default is sys.stdout].\n",
            "\n"
          ]
        }
      ],
      "source": [
        "help(pprint)"
      ]
    },
    {
      "cell_type": "code",
      "execution_count": null,
      "id": "7f66921a",
      "metadata": {
        "id": "7f66921a",
        "outputId": "c8578d6f-4665-4a73-e92d-f8b92f8f6b9c"
      },
      "outputs": [
        {
          "name": "stdout",
          "output_type": "stream",
          "text": [
            "[{'id': 731128,\n",
            "  'first_name': 'Lukas',\n",
            "  'last_name': 'Strohmaier',\n",
            "  'age': 25,\n",
            "  'friends': [483198, 239570, 793005, 661742, 366391, 615506, 938483, 873528,\n",
            "              763436, 927225, 225686, 460894, 674641],\n",
            "  'papers': [{'journal': 'PNAS',\n",
            "              'title': 'Estimating educational outcomes from students’ short '\n",
            "                       'texts on social media'}]},\n",
            " {'id': 610278,\n",
            "  'first_name': 'Sofia',\n",
            "  'last_name': 'Schneider',\n",
            "  'age': 21,\n",
            "  'friends': [340424, 118896, 728115, 732455, 685114, 237262],\n",
            "  'papers': [{'journal': 'PNAS',\n",
            "              'title': 'Schools are segregated by educational outcomes in the '\n",
            "                       'digital space'}]},\n",
            " {'id': 226486,\n",
            "  'first_name': 'Ivan',\n",
            "  'last_name': 'Schmidt',\n",
            "  'age': 22,\n",
            "  'friends': [840459, 849913, 550089],\n",
            "  'papers': [{'journal': 'Nature',\n",
            "              'title': 'Parents mention sons more often than daughters on '\n",
            "                       'social media'},\n",
            "             {'journal': 'Science',\n",
            "              'title': 'The digital flynn effect: Complexity of posts on '\n",
            "                       'social media increases over time'}]},\n",
            " {'id': 468537,\n",
            "  'first_name': 'Lukas',\n",
            "  'last_name': 'Lemmerich',\n",
            "  'age': 73,\n",
            "  'friends': [636316],\n",
            "  'papers': [{'journal': 'PNAS',\n",
            "              'title': 'Estimating educational outcomes from students’ short '\n",
            "                       'texts on social media'},\n",
            "             {'journal': 'PLOS One',\n",
            "              'title': 'Predicting PISA scores from students’ digital '\n",
            "                       'traces'}]},\n",
            " {'id': 257556,\n",
            "  'first_name': 'Anna',\n",
            "  'last_name': 'Müller',\n",
            "  'age': 92,\n",
            "  'friends': [227376, 706211, 876261, 388121, 368097, 790177, 551119, 622808,\n",
            "              204274, 606230, 737488, 874988],\n",
            "  'papers': [{'journal': 'Science',\n",
            "              'title': 'Estimating educational outcomes from students’ short '\n",
            "                       'texts on social media'}]}]\n"
          ]
        }
      ],
      "source": [
        "pprint(data, compact = True, width = 80, sort_dicts = False, indent = 1)"
      ]
    },
    {
      "cell_type": "code",
      "execution_count": null,
      "id": "47c25784",
      "metadata": {
        "id": "47c25784",
        "outputId": "d2bccf16-9ccb-4180-84b1-7d089258efb9"
      },
      "outputs": [
        {
          "name": "stdout",
          "output_type": "stream",
          "text": [
            "[{'age': 25,\n",
            "  'first_name': 'Lukas',\n",
            "  'friends': [483198,\n",
            "              239570,\n",
            "              793005,\n",
            "              661742,\n",
            "              366391,\n",
            "              615506,\n",
            "              938483,\n",
            "              873528,\n",
            "              763436,\n",
            "              927225,\n",
            "              225686,\n",
            "              460894,\n",
            "              674641],\n",
            "  'id': 731128,\n",
            "  'last_name': 'Strohmaier',\n",
            "  'papers': [{'journal': 'PNAS',\n",
            "              'title': 'Estimating educational outcomes from students’ short '\n",
            "                       'texts on social media'}]},\n",
            " {'age': 21,\n",
            "  'first_name': 'Sofia',\n",
            "  'friends': [340424, 118896, 728115, 732455, 685114, 237262],\n",
            "  'id': 610278,\n",
            "  'last_name': 'Schneider',\n",
            "  'papers': [{'journal': 'PNAS',\n",
            "              'title': 'Schools are segregated by educational outcomes in the '\n",
            "                       'digital space'}]},\n",
            " {'age': 22,\n",
            "  'first_name': 'Ivan',\n",
            "  'friends': [840459, 849913, 550089],\n",
            "  'id': 226486,\n",
            "  'last_name': 'Schmidt',\n",
            "  'papers': [{'journal': 'Nature',\n",
            "              'title': 'Parents mention sons more often than daughters on '\n",
            "                       'social media'},\n",
            "             {'journal': 'Science',\n",
            "              'title': 'The digital flynn effect: Complexity of posts on '\n",
            "                       'social media increases over time'}]},\n",
            " {'age': 73,\n",
            "  'first_name': 'Lukas',\n",
            "  'friends': [636316],\n",
            "  'id': 468537,\n",
            "  'last_name': 'Lemmerich',\n",
            "  'papers': [{'journal': 'PNAS',\n",
            "              'title': 'Estimating educational outcomes from students’ short '\n",
            "                       'texts on social media'},\n",
            "             {'journal': 'PLOS One',\n",
            "              'title': 'Predicting PISA scores from students’ digital '\n",
            "                       'traces'}]},\n",
            " {'age': 92,\n",
            "  'first_name': 'Anna',\n",
            "  'friends': [227376,\n",
            "              706211,\n",
            "              876261,\n",
            "              388121,\n",
            "              368097,\n",
            "              790177,\n",
            "              551119,\n",
            "              622808,\n",
            "              204274,\n",
            "              606230,\n",
            "              737488,\n",
            "              874988],\n",
            "  'id': 257556,\n",
            "  'last_name': 'Müller',\n",
            "  'papers': [{'journal': 'Science',\n",
            "              'title': 'Estimating educational outcomes from students’ short '\n",
            "                       'texts on social media'}]}]\n"
          ]
        }
      ],
      "source": [
        "s = pformat(data)  # convert to a pretty format and store into string\n",
        "print(s)"
      ]
    }
  ],
  "metadata": {
    "kernelspec": {
      "display_name": "Python 3 (ipykernel)",
      "language": "python",
      "name": "python3"
    },
    "language_info": {
      "codemirror_mode": {
        "name": "ipython",
        "version": 3
      },
      "file_extension": ".py",
      "mimetype": "text/x-python",
      "name": "python",
      "nbconvert_exporter": "python",
      "pygments_lexer": "ipython3",
      "version": "3.11.5"
    },
    "colab": {
      "provenance": []
    }
  },
  "nbformat": 4,
  "nbformat_minor": 5
}