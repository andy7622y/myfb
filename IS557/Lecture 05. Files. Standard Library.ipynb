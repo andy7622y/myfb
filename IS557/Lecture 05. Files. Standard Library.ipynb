{
 "cells": [
  {
   "cell_type": "markdown",
   "id": "bff5ec27",
   "metadata": {},
   "source": [
    "# Working with files"
   ]
  },
  {
   "cell_type": "markdown",
   "id": "ab76fb30",
   "metadata": {},
   "source": [
    "To open a file, you can use the built-in `open` function. The `open` function requires the name of the file you want to open, and the mode in which you want to open the file, e.g., 'r' for reading."
   ]
  },
  {
   "cell_type": "code",
   "execution_count": null,
   "id": "8db93b76",
   "metadata": {},
   "outputs": [],
   "source": [
    "help(open)"
   ]
  },
  {
   "cell_type": "code",
   "execution_count": 21,
   "id": "27761c3e",
   "metadata": {
    "scrolled": true
   },
   "outputs": [
    {
     "name": "stdout",
     "output_type": "stream",
     "text": [
      "<_io.TextIOWrapper name='textfile.txt' mode='r' encoding='UTF-8'>\n"
     ]
    },
    {
     "data": {
      "text/plain": [
       "_io.TextIOWrapper"
      ]
     },
     "execution_count": 21,
     "metadata": {},
     "output_type": "execute_result"
    }
   ],
   "source": [
    "f = open('textfile.txt', 'r')\n",
    "print(f)\n",
    "type(f)"
   ]
  },
  {
   "cell_type": "markdown",
   "id": "a2e70d24",
   "metadata": {},
   "source": [
    "Once the file is opened, you can read its content into a variable using the `read` method."
   ]
  },
  {
   "cell_type": "code",
   "execution_count": 22,
   "id": "e9ccde24",
   "metadata": {},
   "outputs": [
    {
     "data": {
      "text/plain": [
       "14"
      ]
     },
     "execution_count": 22,
     "metadata": {},
     "output_type": "execute_result"
    }
   ],
   "source": [
    "x = f.read()\n",
    "len(x)"
   ]
  },
  {
   "cell_type": "code",
   "execution_count": 24,
   "id": "d1d3a0d0",
   "metadata": {},
   "outputs": [
    {
     "data": {
      "text/plain": [
       "'Hello World\\n42'"
      ]
     },
     "execution_count": 24,
     "metadata": {},
     "output_type": "execute_result"
    }
   ],
   "source": [
    "x"
   ]
  },
  {
   "cell_type": "markdown",
   "id": "c7c3aec2",
   "metadata": {},
   "source": [
    "It is important to close a file after you are done with it to free up the resources that were tied with the file. You can use the `close` method to close a file."
   ]
  },
  {
   "cell_type": "code",
   "execution_count": 12,
   "id": "61f77b66",
   "metadata": {},
   "outputs": [],
   "source": [
    "f.close()"
   ]
  },
  {
   "cell_type": "markdown",
   "id": "25f6887b",
   "metadata": {},
   "source": [
    "It is preferred to use the `with` statement for opening files. This ensures that the file is closed automatically even if an error occurs inside the `with` block.\n",
    "\n",
    "For larger files, reading the entire content of the file into memory using the `read` method might not be efficient due to memory constraints. Instead, it is preferred to read the file line by line using a loop."
   ]
  },
  {
   "cell_type": "code",
   "execution_count": 14,
   "id": "ae8628ce",
   "metadata": {},
   "outputs": [
    {
     "name": "stdout",
     "output_type": "stream",
     "text": [
      "Hello World\n",
      "42\n"
     ]
    }
   ],
   "source": [
    "with open('textfile.txt','r') as fs:\n",
    "    for line in fs:\n",
    "        print(line.strip())"
   ]
  },
  {
   "cell_type": "code",
   "execution_count": 105,
   "id": "24aa6039",
   "metadata": {},
   "outputs": [
    {
     "name": "stdout",
     "output_type": "stream",
     "text": [
      "---\n",
      "   this is a string\n",
      "with multiple lines\n",
      "\n",
      "---\n",
      "this is a string\n",
      "with multiple lines\n",
      "---\n"
     ]
    }
   ],
   "source": [
    "s = '   this is a string\\nwith multiple lines\\n'\n",
    "print('---')\n",
    "print(s)\n",
    "print('---')\n",
    "print(s.strip())  # strip() removes leading and trailing whitespace\n",
    "print('---')"
   ]
  },
  {
   "cell_type": "markdown",
   "id": "5aebd196",
   "metadata": {},
   "source": [
    "You can write content to files using the `write` method. To write multiple lines, you can use the `write` method with newline characters."
   ]
  },
  {
   "cell_type": "code",
   "execution_count": 25,
   "id": "6293f8a3",
   "metadata": {},
   "outputs": [],
   "source": [
    "s = [\"this is a test file\", \"this is the second line of the test file.\", \"this is the third line.\"]\n",
    "\n",
    "with open('textfile3.txt','w') as fs:\n",
    "    for line in s:\n",
    "        fs.write(line + \"\\n\")"
   ]
  },
  {
   "cell_type": "code",
   "execution_count": 26,
   "id": "99d96bdb",
   "metadata": {},
   "outputs": [
    {
     "name": "stdout",
     "output_type": "stream",
     "text": [
      "this is a test file\n",
      "this is the second line of the test file.\n",
      "this is the third line.\n"
     ]
    }
   ],
   "source": [
    "with open('textfile3.txt','r') as fs:\n",
    "    for line in fs:\n",
    "        print(line.strip())"
   ]
  },
  {
   "cell_type": "markdown",
   "id": "61fb0a78",
   "metadata": {},
   "source": [
    "Note that `w` mode will overwrite the file if it already exists or create a new one if it doesn't."
   ]
  },
  {
   "cell_type": "markdown",
   "id": "814d331b",
   "metadata": {},
   "source": [
    "To add content at the end of an existing file, you can open the file in 'a' mode and then use the `write` method."
   ]
  },
  {
   "cell_type": "code",
   "execution_count": 27,
   "id": "705bccf4",
   "metadata": {},
   "outputs": [],
   "source": [
    "with open('textfile3.txt','a') as fs:\n",
    "    fs.write(\"Add another line here!\\n\")"
   ]
  },
  {
   "cell_type": "code",
   "execution_count": 28,
   "id": "2760c41f",
   "metadata": {},
   "outputs": [
    {
     "name": "stdout",
     "output_type": "stream",
     "text": [
      "this is a test file\n",
      "this is the second line of the test file.\n",
      "this is the third line.\n",
      "Add another line here!\n"
     ]
    }
   ],
   "source": [
    "with open('textfile3.txt','r') as fs:\n",
    "    for line in fs:\n",
    "        print(line.strip())"
   ]
  },
  {
   "cell_type": "markdown",
   "id": "349a764f",
   "metadata": {},
   "source": [
    "Note that this is a very basic way of reading from and writing to files. Most of the time when we want to load data from a file for analysis, we would use dedicated methods that are provided by modules such as Pandas instead. These dedicated methods will know how to handle different file types beyond plain text files (e.g., Excel, CSV, JSON,… files) and will be covered in lecture 8."
   ]
  },
  {
   "cell_type": "markdown",
   "id": "5eb14439",
   "metadata": {},
   "source": [
    "# Standard library"
   ]
  },
  {
   "cell_type": "markdown",
   "id": "51d4ebca",
   "metadata": {},
   "source": [
    "The Python standard library is included in the Python distribution and provides functionalities for a wide range of useful tasks"
   ]
  },
  {
   "cell_type": "markdown",
   "id": "02ab4cf9",
   "metadata": {},
   "source": [
    "### Random Module\n",
    "The `random` module provides functions for generating random numbers.\n"
   ]
  },
  {
   "cell_type": "code",
   "execution_count": 29,
   "id": "29369ff6",
   "metadata": {},
   "outputs": [
    {
     "name": "stdout",
     "output_type": "stream",
     "text": [
      "89 24 41 69 70 76 7 64 62 "
     ]
    }
   ],
   "source": [
    "import random\n",
    "\n",
    "for i in range(1, 10):\n",
    "    print(random.randint(1, 100), end = ' ')"
   ]
  },
  {
   "cell_type": "markdown",
   "id": "1e45a3ab",
   "metadata": {},
   "source": [
    "Sometimes it is useful to get the same \"random\" sequence if we run code multiple times. This can be achieved by setting a seed value using the `seed` method."
   ]
  },
  {
   "cell_type": "code",
   "execution_count": 31,
   "id": "99608e26",
   "metadata": {
    "scrolled": true
   },
   "outputs": [
    {
     "name": "stdout",
     "output_type": "stream",
     "text": [
      "18 73 98 9 33 16 64 98 58 61 "
     ]
    }
   ],
   "source": [
    "import random\n",
    "random.seed(1)\n",
    "\n",
    "for i in range(1, 11):\n",
    "    print(random.randint(1, 100), end = ' ')"
   ]
  },
  {
   "cell_type": "markdown",
   "id": "e9a8951d",
   "metadata": {},
   "source": [
    "If we want to get random numbers without repetitions, we can use the `sample` method."
   ]
  },
  {
   "cell_type": "code",
   "execution_count": 32,
   "id": "b7c551e1",
   "metadata": {},
   "outputs": [
    {
     "data": {
      "text/plain": [
       "[84, 49, 27, 13, 63, 4, 50, 56, 78, 98]"
      ]
     },
     "execution_count": 32,
     "metadata": {},
     "output_type": "execute_result"
    }
   ],
   "source": [
    "x = [i for i in range(1, 101)]\n",
    "random.sample(x, 10)"
   ]
  },
  {
   "cell_type": "markdown",
   "id": "02f7e128",
   "metadata": {},
   "source": [
    "Or using the `shuffle` method to randomly rearrange the elements of a list."
   ]
  },
  {
   "cell_type": "code",
   "execution_count": 35,
   "id": "17346ce6",
   "metadata": {},
   "outputs": [
    {
     "name": "stdout",
     "output_type": "stream",
     "text": [
      "[60, 90, 87, 2, 55, 99, 74, 23, 14, 28]\n"
     ]
    }
   ],
   "source": [
    "random.shuffle(x)\n",
    "print(x[:10])"
   ]
  },
  {
   "cell_type": "markdown",
   "id": "7a0c55ef",
   "metadata": {},
   "source": [
    "### Statistics Module\n",
    "The `statistics` module provides functions for calculating mathematical statistics of numeric data."
   ]
  },
  {
   "cell_type": "code",
   "execution_count": 36,
   "id": "211ce9b6",
   "metadata": {},
   "outputs": [],
   "source": [
    "women = [168, 165, 162, 154, 172, 170, 160, 152, 167, 171, 159, 165, 161, 163, 166, 173, 164, 168, 167, 162]\n",
    "men = [166, 168, 179, 164, 167, 181, 188, 183, 169, 179, 179, 182, 180, 175, 177, 180, 178, 168, 173, 181]"
   ]
  },
  {
   "cell_type": "code",
   "execution_count": 37,
   "id": "4724bd57",
   "metadata": {},
   "outputs": [],
   "source": [
    "import statistics as ss"
   ]
  },
  {
   "cell_type": "code",
   "execution_count": 38,
   "id": "8d6b1687",
   "metadata": {},
   "outputs": [
    {
     "data": {
      "text/plain": [
       "(175.85, 6.706438383335351, 164.45, 5.548589199541011)"
      ]
     },
     "execution_count": 38,
     "metadata": {},
     "output_type": "execute_result"
    }
   ],
   "source": [
    "ss.mean(men), ss.stdev(men), ss.mean(women), ss.stdev(women)"
   ]
  },
  {
   "cell_type": "markdown",
   "id": "8cb4b0f3",
   "metadata": {},
   "source": [
    "### SciPy Module (not part of the Standard Library)\n",
    "The `scipy` module provides functions for scientific computing, including statistical hypothesis testing"
   ]
  },
  {
   "cell_type": "code",
   "execution_count": 39,
   "id": "7d2e46ca",
   "metadata": {},
   "outputs": [
    {
     "data": {
      "text/plain": [
       "TtestResult(statistic=5.857210267889033, pvalue=8.937958782868781e-07, df=38.0)"
      ]
     },
     "execution_count": 39,
     "metadata": {},
     "output_type": "execute_result"
    }
   ],
   "source": [
    "from scipy import stats\n",
    "stats.ttest_ind(men, women)"
   ]
  },
  {
   "cell_type": "markdown",
   "id": "f3803d29",
   "metadata": {},
   "source": [
    "### Pickle Module\n",
    "The `pickle` module is used to serialize (convert to bytes) and deserialize (convert from bytes) Python objects. In a simpler words, it allows saving (and loading) arbitrarty Pythons  data structures."
   ]
  },
  {
   "cell_type": "code",
   "execution_count": 40,
   "id": "9ae7d9f0",
   "metadata": {},
   "outputs": [],
   "source": [
    "import pickle\n",
    "\n",
    "data = {'x' : 13, 'y': 50}\n",
    "\n",
    "pickle.dump(data, open('data.save', 'wb'))"
   ]
  },
  {
   "cell_type": "code",
   "execution_count": 41,
   "id": "5f22d392",
   "metadata": {},
   "outputs": [
    {
     "name": "stdout",
     "output_type": "stream",
     "text": [
      "{'x': 13, 'y': 50}\n"
     ]
    }
   ],
   "source": [
    "data2 = pickle.load(open('data.save', 'rb'))\n",
    "print(data2)"
   ]
  },
  {
   "cell_type": "markdown",
   "id": "bafadd44",
   "metadata": {},
   "source": [
    "**Be careful with pickle files that you obtain from an untrusted source!** They can contain malicious code, so do not simply load any pickle that you found somewhere on the internet. For an explanation of why pickle files are dangerous, see for instance: https://huggingface.co/docs/hub/security-pickle#why-is-it-dangerous"
   ]
  },
  {
   "cell_type": "markdown",
   "id": "c4785800",
   "metadata": {},
   "source": [
    "### Date and Time"
   ]
  },
  {
   "cell_type": "markdown",
   "id": "61c73107",
   "metadata": {},
   "source": [
    "The `datetime` module provides classes to work with dates and times."
   ]
  },
  {
   "cell_type": "markdown",
   "id": "3271ee46",
   "metadata": {},
   "source": [
    "There are several classes within the module that you can use to work with dates and times, such as `datetime.date` for dates, `datetime.time` for times, and `datetime.datetime` for both dates and times."
   ]
  },
  {
   "cell_type": "markdown",
   "id": "8539656d",
   "metadata": {},
   "source": [
    "`datetime.date` class is used for working with dates (year, month, and day)."
   ]
  },
  {
   "cell_type": "code",
   "execution_count": 42,
   "id": "47e90a05",
   "metadata": {
    "scrolled": true
   },
   "outputs": [
    {
     "data": {
      "text/plain": [
       "datetime.date"
      ]
     },
     "execution_count": 42,
     "metadata": {},
     "output_type": "execute_result"
    }
   ],
   "source": [
    "import datetime\n",
    "\n",
    "new_year = datetime.date(2023,1,1)\n",
    "type(new_year)"
   ]
  },
  {
   "cell_type": "markdown",
   "id": "65d73fd0",
   "metadata": {},
   "source": [
    "Let's create a `datetime.date` object for January 1, 2023:"
   ]
  },
  {
   "cell_type": "code",
   "execution_count": 43,
   "id": "d9cdc2c9",
   "metadata": {},
   "outputs": [
    {
     "data": {
      "text/plain": [
       "datetime.date(2023, 1, 1)"
      ]
     },
     "execution_count": 43,
     "metadata": {},
     "output_type": "execute_result"
    }
   ],
   "source": [
    "new_year"
   ]
  },
  {
   "cell_type": "code",
   "execution_count": 44,
   "id": "f70010f4",
   "metadata": {},
   "outputs": [
    {
     "name": "stdout",
     "output_type": "stream",
     "text": [
      "2023-01-01\n"
     ]
    }
   ],
   "source": [
    "print(new_year)"
   ]
  },
  {
   "cell_type": "markdown",
   "id": "cbe021b8",
   "metadata": {},
   "source": [
    "We can get the current date using the `today` method:"
   ]
  },
  {
   "cell_type": "code",
   "execution_count": 45,
   "id": "e24673dd",
   "metadata": {},
   "outputs": [
    {
     "name": "stdout",
     "output_type": "stream",
     "text": [
      "2024-03-13\n"
     ]
    }
   ],
   "source": [
    "today = datetime.date.today()\n",
    "print(today)"
   ]
  },
  {
   "cell_type": "markdown",
   "id": "340fb2f1",
   "metadata": {},
   "source": [
    "`datetime.timedelta` is used for working with differences in time. This allows adding or subtracting a specific amount of time from a date."
   ]
  },
  {
   "cell_type": "code",
   "execution_count": 46,
   "id": "c3e4c2db",
   "metadata": {},
   "outputs": [
    {
     "data": {
      "text/plain": [
       "datetime.timedelta(days=7)"
      ]
     },
     "execution_count": 46,
     "metadata": {},
     "output_type": "execute_result"
    }
   ],
   "source": [
    "week = datetime.timedelta(days = 7)\n",
    "week"
   ]
  },
  {
   "cell_type": "code",
   "execution_count": 47,
   "id": "e3e05da3",
   "metadata": {},
   "outputs": [
    {
     "name": "stdout",
     "output_type": "stream",
     "text": [
      "2024-03-20 2024-03-06\n"
     ]
    }
   ],
   "source": [
    "print(today + week, today - week)"
   ]
  },
  {
   "cell_type": "code",
   "execution_count": 48,
   "id": "2abe03fa",
   "metadata": {},
   "outputs": [
    {
     "name": "stdout",
     "output_type": "stream",
     "text": [
      "437 days, 0:00:00\n"
     ]
    }
   ],
   "source": [
    "since_new_year = today - new_year\n",
    "print(since_new_year)"
   ]
  },
  {
   "cell_type": "markdown",
   "id": "fde62933",
   "metadata": {},
   "source": [
    "We can use multiplication for timedelta"
   ]
  },
  {
   "cell_type": "code",
   "execution_count": 49,
   "id": "f4da0f42",
   "metadata": {},
   "outputs": [
    {
     "name": "stdout",
     "output_type": "stream",
     "text": [
      "2034-12-19\n"
     ]
    }
   ],
   "source": [
    "print(today + since_new_year * 9)"
   ]
  },
  {
   "cell_type": "markdown",
   "id": "bcaf7cef",
   "metadata": {},
   "source": [
    "We can also compare dates"
   ]
  },
  {
   "cell_type": "code",
   "execution_count": 50,
   "id": "dc7280fc",
   "metadata": {},
   "outputs": [
    {
     "name": "stdout",
     "output_type": "stream",
     "text": [
      "False\n"
     ]
    },
    {
     "data": {
      "text/plain": [
       "True"
      ]
     },
     "execution_count": 50,
     "metadata": {},
     "output_type": "execute_result"
    }
   ],
   "source": [
    "print(today < new_year)\n",
    "date_in_future = datetime.date(2024,1,1)\n",
    "date_in_future > new_year"
   ]
  },
  {
   "cell_type": "code",
   "execution_count": 51,
   "id": "d4cf94a6",
   "metadata": {},
   "outputs": [
    {
     "data": {
      "text/plain": [
       "6"
      ]
     },
     "execution_count": 51,
     "metadata": {},
     "output_type": "execute_result"
    }
   ],
   "source": [
    "new_year.weekday()"
   ]
  },
  {
   "cell_type": "markdown",
   "id": "5b2c33d3",
   "metadata": {},
   "source": [
    "The `strftime` method allows you to format `datetime` objects as strings. You can find the [full list](https://docs.python.org/3/library/datetime.html#strftime-strptime-behavior) of available directives in the official documentation.\n"
   ]
  },
  {
   "cell_type": "code",
   "execution_count": 52,
   "id": "9d5c3c71",
   "metadata": {
    "scrolled": true
   },
   "outputs": [
    {
     "data": {
      "text/plain": [
       "'13.03.24'"
      ]
     },
     "execution_count": 52,
     "metadata": {},
     "output_type": "execute_result"
    }
   ],
   "source": [
    "today.strftime(\"%d.%m.%y\")"
   ]
  },
  {
   "cell_type": "code",
   "execution_count": 55,
   "id": "bb67b250",
   "metadata": {},
   "outputs": [
    {
     "data": {
      "text/plain": [
       "'Hello, the date is: Wed Mar, 00:00:00 AM 24'"
      ]
     },
     "execution_count": 55,
     "metadata": {},
     "output_type": "execute_result"
    }
   ],
   "source": [
    "today.strftime('Hello, the date is: %a %b, %H:%M:%S %p %y')"
   ]
  },
  {
   "cell_type": "markdown",
   "id": "49cd35f4",
   "metadata": {},
   "source": [
    "Python 3.6 introduced so-called `f-strings` that you can use to directly format dates and other data types to include them into strings."
   ]
  },
  {
   "cell_type": "code",
   "execution_count": 61,
   "id": "763d86b6",
   "metadata": {},
   "outputs": [
    {
     "data": {
      "text/plain": [
       "'Today is 13.03.2024.'"
      ]
     },
     "execution_count": 61,
     "metadata": {},
     "output_type": "execute_result"
    }
   ],
   "source": [
    "f'Today is {today:%d.%m.%Y}.'"
   ]
  },
  {
   "cell_type": "markdown",
   "id": "7f30d608",
   "metadata": {},
   "source": [
    "Another class ```datetime.datetime``` is used for working with both dates and times."
   ]
  },
  {
   "cell_type": "code",
   "execution_count": 62,
   "id": "f39bec6f",
   "metadata": {},
   "outputs": [
    {
     "data": {
      "text/plain": [
       "datetime.datetime"
      ]
     },
     "execution_count": 62,
     "metadata": {},
     "output_type": "execute_result"
    }
   ],
   "source": [
    "now = datetime.datetime.now()\n",
    "type(now)"
   ]
  },
  {
   "cell_type": "code",
   "execution_count": 63,
   "id": "4cb7c3ac",
   "metadata": {},
   "outputs": [
    {
     "name": "stdout",
     "output_type": "stream",
     "text": [
      "2024-03-13 11:04:41.293187\n"
     ]
    }
   ],
   "source": [
    "print(now)"
   ]
  },
  {
   "cell_type": "markdown",
   "id": "012858d5",
   "metadata": {},
   "source": [
    "We can use `datetime.timedelta` objects with `datetime.datetime` objects as well."
   ]
  },
  {
   "cell_type": "code",
   "execution_count": 64,
   "id": "9865af0e",
   "metadata": {},
   "outputs": [
    {
     "name": "stdout",
     "output_type": "stream",
     "text": [
      "2024-03-13 11:14:51.293187\n"
     ]
    }
   ],
   "source": [
    "time_delta = datetime.timedelta(minutes = 10, seconds = 10)\n",
    "print(now + time_delta)"
   ]
  },
  {
   "cell_type": "markdown",
   "id": "bfc8655f",
   "metadata": {},
   "source": [
    "The advantage of working with datetime.datetime objects is that they could be made aware of time zones which allows for easy conversion between time zones."
   ]
  },
  {
   "cell_type": "code",
   "execution_count": 72,
   "id": "2b20f6c5",
   "metadata": {
    "scrolled": true
   },
   "outputs": [
    {
     "name": "stdout",
     "output_type": "stream",
     "text": [
      "2024-03-13 10:06:54.896572+00:00\n"
     ]
    }
   ],
   "source": [
    "now = datetime.datetime.now(tz = datetime.timezone.utc)\n",
    "print(now)"
   ]
  },
  {
   "cell_type": "code",
   "execution_count": 73,
   "id": "cb074bf9",
   "metadata": {},
   "outputs": [
    {
     "name": "stdout",
     "output_type": "stream",
     "text": [
      "2024-03-13 18:06:54.896572+08:00 --- 2024-03-13 11:06:54.896572+01:00\n"
     ]
    }
   ],
   "source": [
    "beijing_time = datetime.timezone(datetime.timedelta(hours = 8))\n",
    "berlin_time = datetime.timezone(datetime.timedelta(hours = 1))\n",
    "print(now.astimezone(beijing_time), '---', now.astimezone(berlin_time))"
   ]
  },
  {
   "cell_type": "markdown",
   "id": "ff21452a",
   "metadata": {},
   "source": [
    "Instead of manually defining the time zone by specifying the difference with UTC, we could use one of the real time zones. These would be aware of daylight saving time."
   ]
  },
  {
   "cell_type": "code",
   "execution_count": 80,
   "id": "07b116ba",
   "metadata": {},
   "outputs": [
    {
     "name": "stdout",
     "output_type": "stream",
     "text": [
      "Africa/Abidjan\n",
      "Africa/Accra\n",
      "Africa/Addis_Ababa\n",
      "Africa/Algiers\n",
      "Africa/Asmara\n",
      "Africa/Asmera\n",
      "Africa/Bamako\n",
      "Africa/Bangui\n",
      "Africa/Banjul\n",
      "Africa/Bissau\n"
     ]
    }
   ],
   "source": [
    "import pytz\n",
    "for tz in pytz.all_timezones[:10]:\n",
    "    print(tz)"
   ]
  },
  {
   "cell_type": "code",
   "execution_count": 82,
   "id": "97f3f3c8",
   "metadata": {
    "scrolled": true
   },
   "outputs": [
    {
     "name": "stdout",
     "output_type": "stream",
     "text": [
      "2024-03-13 18:06:54.896572+08:00 --- 2024-03-13 11:06:54.896572+01:00\n"
     ]
    }
   ],
   "source": [
    "mt = pytz.timezone('Asia/Shanghai')\n",
    "bt = pytz.timezone('Europe/Berlin')\n",
    "\n",
    "print(now.astimezone(mt), '---', now.astimezone(bt))"
   ]
  },
  {
   "cell_type": "markdown",
   "id": "b05c8017",
   "metadata": {},
   "source": [
    "A timestamp is a number that represents a specific moment in time. It is the number of seconds that have passed since a certain point in the past"
   ]
  },
  {
   "cell_type": "code",
   "execution_count": 83,
   "id": "d4446d01",
   "metadata": {},
   "outputs": [
    {
     "name": "stdout",
     "output_type": "stream",
     "text": [
      "1710324414.896572\n"
     ]
    }
   ],
   "source": [
    "ts = now.timestamp()\n",
    "print(ts)"
   ]
  },
  {
   "cell_type": "code",
   "execution_count": 85,
   "id": "bdf8e818",
   "metadata": {},
   "outputs": [
    {
     "data": {
      "text/plain": [
       "54.23403142112418"
      ]
     },
     "execution_count": 85,
     "metadata": {},
     "output_type": "execute_result"
    }
   ],
   "source": [
    "year_in_seconds = 60 * 60 * 24 * 365\n",
    "ts / year_in_seconds  # seconds since timestamp 0"
   ]
  },
  {
   "cell_type": "markdown",
   "id": "a0f0e66d",
   "metadata": {},
   "source": [
    "So it is actually January 1, 1970, 00:00:00 (UTC)."
   ]
  },
  {
   "cell_type": "code",
   "execution_count": 88,
   "id": "9cc61ac9",
   "metadata": {},
   "outputs": [
    {
     "name": "stdout",
     "output_type": "stream",
     "text": [
      "2.1089348793029785\n"
     ]
    }
   ],
   "source": [
    "# let's use timestamps to measure how long an operation takes\n",
    "ts = datetime.datetime.now().timestamp()\n",
    "for i in range(1, 100000000):\n",
    "    x = 1\n",
    "print(datetime.datetime.now().timestamp() - ts)"
   ]
  },
  {
   "cell_type": "code",
   "execution_count": 90,
   "id": "895aaab1",
   "metadata": {},
   "outputs": [
    {
     "data": {
      "text/plain": [
       "'11:10:51 13.03.2024'"
      ]
     },
     "execution_count": 90,
     "metadata": {},
     "output_type": "execute_result"
    }
   ],
   "source": [
    "new_current_time = datetime.datetime.fromtimestamp(ts)  # convert timestamp to datetime\n",
    "new_current_time.strftime(\"%H:%M:%S %d.%m.%Y\")"
   ]
  },
  {
   "cell_type": "markdown",
   "id": "1ecbe5f5",
   "metadata": {},
   "source": [
    "# pprint – \"pretty-print\""
   ]
  },
  {
   "cell_type": "code",
   "execution_count": 93,
   "id": "008c8b2c",
   "metadata": {},
   "outputs": [
    {
     "name": "stdout",
     "output_type": "stream",
     "text": [
      "[{'id': 731128, 'first_name': 'Lukas', 'last_name': 'Strohmaier', 'age': 25, 'friends': [483198, 239570, 793005, 661742, 366391, 615506, 938483, 873528, 763436, 927225, 225686, 460894, 674641], 'papers': [{'journal': 'PNAS', 'title': 'Estimating educational outcomes from students’ short texts on social media'}]}, {'id': 610278, 'first_name': 'Sofia', 'last_name': 'Schneider', 'age': 21, 'friends': [340424, 118896, 728115, 732455, 685114, 237262], 'papers': [{'journal': 'PNAS', 'title': 'Schools are segregated by educational outcomes in the digital space'}]}, {'id': 226486, 'first_name': 'Ivan', 'last_name': 'Schmidt', 'age': 22, 'friends': [840459, 849913, 550089], 'papers': [{'journal': 'Nature', 'title': 'Parents mention sons more often than daughters on social media'}, {'journal': 'Science', 'title': 'The digital flynn effect: Complexity of posts on social media increases over time'}]}, {'id': 468537, 'first_name': 'Lukas', 'last_name': 'Lemmerich', 'age': 73, 'friends': [636316], 'papers': [{'journal': 'PNAS', 'title': 'Estimating educational outcomes from students’ short texts on social media'}, {'journal': 'PLOS One', 'title': 'Predicting PISA scores from students’ digital traces'}]}, {'id': 257556, 'first_name': 'Anna', 'last_name': 'Müller', 'age': 92, 'friends': [227376, 706211, 876261, 388121, 368097, 790177, 551119, 622808, 204274, 606230, 737488, 874988], 'papers': [{'journal': 'Science', 'title': 'Estimating educational outcomes from students’ short texts on social media'}]}]\n"
     ]
    }
   ],
   "source": [
    "data = [\n",
    " {'id': 731128,\n",
    "  'first_name': 'Lukas',\n",
    "  'last_name': 'Strohmaier',\n",
    "  'age': 25,\n",
    "  'friends': [483198,239570,793005,661742,366391,615506,938483,873528,763436,927225,225686,460894,674641],\n",
    "  'papers': [{'journal': 'PNAS', 'title': 'Estimating educational outcomes from students’ short texts on social media'}]},\n",
    " {'id': 610278,\n",
    "  'first_name': 'Sofia',\n",
    "  'last_name': 'Schneider',\n",
    "  'age': 21,\n",
    "  'friends': [340424, 118896, 728115, 732455, 685114, 237262],\n",
    "  'papers': [{'journal': 'PNAS','title': 'Schools are segregated by educational outcomes in the digital space'}]},\n",
    " {'id': 226486,\n",
    "  'first_name': 'Ivan',\n",
    "  'last_name': 'Schmidt',\n",
    "  'age': 22,\n",
    "  'friends': [840459, 849913, 550089],\n",
    "  'papers': [{'journal': 'Nature', 'title': 'Parents mention sons more often than daughters on social media'},\n",
    "             {'journal': 'Science', 'title': 'The digital flynn effect: Complexity of posts on social media increases over time'}]},\n",
    " {'id': 468537,\n",
    "  'first_name': 'Lukas',\n",
    "  'last_name': 'Lemmerich',\n",
    "  'age': 73,\n",
    "  'friends': [636316],\n",
    "  'papers': [{'journal': 'PNAS', 'title': 'Estimating educational outcomes from students’ short texts on social media'},\n",
    "             {'journal': 'PLOS One', 'title': 'Predicting PISA scores from students’ digital traces'}]},\n",
    " {'id': 257556,\n",
    "  'first_name': 'Anna',\n",
    "  'last_name': 'Müller',\n",
    "  'age': 92,\n",
    "  'friends': [227376, 706211, 876261, 388121, 368097, 790177, 551119, 622808, 204274, 606230, 737488, 874988],\n",
    "  'papers': [{'journal': 'Science', 'title': 'Estimating educational outcomes from students’ short texts on social media'}]}\n",
    "]\n",
    "\n",
    "print(data) # this is almost unreadable"
   ]
  },
  {
   "cell_type": "code",
   "execution_count": 94,
   "id": "af420820",
   "metadata": {},
   "outputs": [
    {
     "name": "stdout",
     "output_type": "stream",
     "text": [
      "[{'age': 25,\n",
      "  'first_name': 'Lukas',\n",
      "  'friends': [483198,\n",
      "              239570,\n",
      "              793005,\n",
      "              661742,\n",
      "              366391,\n",
      "              615506,\n",
      "              938483,\n",
      "              873528,\n",
      "              763436,\n",
      "              927225,\n",
      "              225686,\n",
      "              460894,\n",
      "              674641],\n",
      "  'id': 731128,\n",
      "  'last_name': 'Strohmaier',\n",
      "  'papers': [{'journal': 'PNAS',\n",
      "              'title': 'Estimating educational outcomes from students’ short '\n",
      "                       'texts on social media'}]},\n",
      " {'age': 21,\n",
      "  'first_name': 'Sofia',\n",
      "  'friends': [340424, 118896, 728115, 732455, 685114, 237262],\n",
      "  'id': 610278,\n",
      "  'last_name': 'Schneider',\n",
      "  'papers': [{'journal': 'PNAS',\n",
      "              'title': 'Schools are segregated by educational outcomes in the '\n",
      "                       'digital space'}]},\n",
      " {'age': 22,\n",
      "  'first_name': 'Ivan',\n",
      "  'friends': [840459, 849913, 550089],\n",
      "  'id': 226486,\n",
      "  'last_name': 'Schmidt',\n",
      "  'papers': [{'journal': 'Nature',\n",
      "              'title': 'Parents mention sons more often than daughters on '\n",
      "                       'social media'},\n",
      "             {'journal': 'Science',\n",
      "              'title': 'The digital flynn effect: Complexity of posts on '\n",
      "                       'social media increases over time'}]},\n",
      " {'age': 73,\n",
      "  'first_name': 'Lukas',\n",
      "  'friends': [636316],\n",
      "  'id': 468537,\n",
      "  'last_name': 'Lemmerich',\n",
      "  'papers': [{'journal': 'PNAS',\n",
      "              'title': 'Estimating educational outcomes from students’ short '\n",
      "                       'texts on social media'},\n",
      "             {'journal': 'PLOS One',\n",
      "              'title': 'Predicting PISA scores from students’ digital '\n",
      "                       'traces'}]},\n",
      " {'age': 92,\n",
      "  'first_name': 'Anna',\n",
      "  'friends': [227376,\n",
      "              706211,\n",
      "              876261,\n",
      "              388121,\n",
      "              368097,\n",
      "              790177,\n",
      "              551119,\n",
      "              622808,\n",
      "              204274,\n",
      "              606230,\n",
      "              737488,\n",
      "              874988],\n",
      "  'id': 257556,\n",
      "  'last_name': 'Müller',\n",
      "  'papers': [{'journal': 'Science',\n",
      "              'title': 'Estimating educational outcomes from students’ short '\n",
      "                       'texts on social media'}]}]\n"
     ]
    }
   ],
   "source": [
    "from pprint import pprint, pformat\n",
    "\n",
    "pprint(data)"
   ]
  },
  {
   "cell_type": "code",
   "execution_count": 95,
   "id": "e6572121",
   "metadata": {},
   "outputs": [
    {
     "name": "stdout",
     "output_type": "stream",
     "text": [
      "Help on function pprint in module pprint:\n",
      "\n",
      "pprint(object, stream=None, indent=1, width=80, depth=None, *, compact=False, sort_dicts=True, underscore_numbers=False)\n",
      "    Pretty-print a Python object to a stream [default is sys.stdout].\n",
      "\n"
     ]
    }
   ],
   "source": [
    "help(pprint)"
   ]
  },
  {
   "cell_type": "code",
   "execution_count": 96,
   "id": "7f66921a",
   "metadata": {},
   "outputs": [
    {
     "name": "stdout",
     "output_type": "stream",
     "text": [
      "[{'id': 731128,\n",
      "  'first_name': 'Lukas',\n",
      "  'last_name': 'Strohmaier',\n",
      "  'age': 25,\n",
      "  'friends': [483198, 239570, 793005, 661742, 366391, 615506, 938483, 873528,\n",
      "              763436, 927225, 225686, 460894, 674641],\n",
      "  'papers': [{'journal': 'PNAS',\n",
      "              'title': 'Estimating educational outcomes from students’ short '\n",
      "                       'texts on social media'}]},\n",
      " {'id': 610278,\n",
      "  'first_name': 'Sofia',\n",
      "  'last_name': 'Schneider',\n",
      "  'age': 21,\n",
      "  'friends': [340424, 118896, 728115, 732455, 685114, 237262],\n",
      "  'papers': [{'journal': 'PNAS',\n",
      "              'title': 'Schools are segregated by educational outcomes in the '\n",
      "                       'digital space'}]},\n",
      " {'id': 226486,\n",
      "  'first_name': 'Ivan',\n",
      "  'last_name': 'Schmidt',\n",
      "  'age': 22,\n",
      "  'friends': [840459, 849913, 550089],\n",
      "  'papers': [{'journal': 'Nature',\n",
      "              'title': 'Parents mention sons more often than daughters on '\n",
      "                       'social media'},\n",
      "             {'journal': 'Science',\n",
      "              'title': 'The digital flynn effect: Complexity of posts on '\n",
      "                       'social media increases over time'}]},\n",
      " {'id': 468537,\n",
      "  'first_name': 'Lukas',\n",
      "  'last_name': 'Lemmerich',\n",
      "  'age': 73,\n",
      "  'friends': [636316],\n",
      "  'papers': [{'journal': 'PNAS',\n",
      "              'title': 'Estimating educational outcomes from students’ short '\n",
      "                       'texts on social media'},\n",
      "             {'journal': 'PLOS One',\n",
      "              'title': 'Predicting PISA scores from students’ digital '\n",
      "                       'traces'}]},\n",
      " {'id': 257556,\n",
      "  'first_name': 'Anna',\n",
      "  'last_name': 'Müller',\n",
      "  'age': 92,\n",
      "  'friends': [227376, 706211, 876261, 388121, 368097, 790177, 551119, 622808,\n",
      "              204274, 606230, 737488, 874988],\n",
      "  'papers': [{'journal': 'Science',\n",
      "              'title': 'Estimating educational outcomes from students’ short '\n",
      "                       'texts on social media'}]}]\n"
     ]
    }
   ],
   "source": [
    "pprint(data, compact = True, width = 80, sort_dicts = False, indent = 1)"
   ]
  },
  {
   "cell_type": "code",
   "execution_count": 99,
   "id": "47c25784",
   "metadata": {},
   "outputs": [
    {
     "name": "stdout",
     "output_type": "stream",
     "text": [
      "[{'age': 25,\n",
      "  'first_name': 'Lukas',\n",
      "  'friends': [483198,\n",
      "              239570,\n",
      "              793005,\n",
      "              661742,\n",
      "              366391,\n",
      "              615506,\n",
      "              938483,\n",
      "              873528,\n",
      "              763436,\n",
      "              927225,\n",
      "              225686,\n",
      "              460894,\n",
      "              674641],\n",
      "  'id': 731128,\n",
      "  'last_name': 'Strohmaier',\n",
      "  'papers': [{'journal': 'PNAS',\n",
      "              'title': 'Estimating educational outcomes from students’ short '\n",
      "                       'texts on social media'}]},\n",
      " {'age': 21,\n",
      "  'first_name': 'Sofia',\n",
      "  'friends': [340424, 118896, 728115, 732455, 685114, 237262],\n",
      "  'id': 610278,\n",
      "  'last_name': 'Schneider',\n",
      "  'papers': [{'journal': 'PNAS',\n",
      "              'title': 'Schools are segregated by educational outcomes in the '\n",
      "                       'digital space'}]},\n",
      " {'age': 22,\n",
      "  'first_name': 'Ivan',\n",
      "  'friends': [840459, 849913, 550089],\n",
      "  'id': 226486,\n",
      "  'last_name': 'Schmidt',\n",
      "  'papers': [{'journal': 'Nature',\n",
      "              'title': 'Parents mention sons more often than daughters on '\n",
      "                       'social media'},\n",
      "             {'journal': 'Science',\n",
      "              'title': 'The digital flynn effect: Complexity of posts on '\n",
      "                       'social media increases over time'}]},\n",
      " {'age': 73,\n",
      "  'first_name': 'Lukas',\n",
      "  'friends': [636316],\n",
      "  'id': 468537,\n",
      "  'last_name': 'Lemmerich',\n",
      "  'papers': [{'journal': 'PNAS',\n",
      "              'title': 'Estimating educational outcomes from students’ short '\n",
      "                       'texts on social media'},\n",
      "             {'journal': 'PLOS One',\n",
      "              'title': 'Predicting PISA scores from students’ digital '\n",
      "                       'traces'}]},\n",
      " {'age': 92,\n",
      "  'first_name': 'Anna',\n",
      "  'friends': [227376,\n",
      "              706211,\n",
      "              876261,\n",
      "              388121,\n",
      "              368097,\n",
      "              790177,\n",
      "              551119,\n",
      "              622808,\n",
      "              204274,\n",
      "              606230,\n",
      "              737488,\n",
      "              874988],\n",
      "  'id': 257556,\n",
      "  'last_name': 'Müller',\n",
      "  'papers': [{'journal': 'Science',\n",
      "              'title': 'Estimating educational outcomes from students’ short '\n",
      "                       'texts on social media'}]}]\n"
     ]
    }
   ],
   "source": [
    "s = pformat(data)  # convert to a pretty format and store into string\n",
    "print(s)"
   ]
  }
 ],
 "metadata": {
  "kernelspec": {
   "display_name": "Python 3 (ipykernel)",
   "language": "python",
   "name": "python3"
  },
  "language_info": {
   "codemirror_mode": {
    "name": "ipython",
    "version": 3
   },
   "file_extension": ".py",
   "mimetype": "text/x-python",
   "name": "python",
   "nbconvert_exporter": "python",
   "pygments_lexer": "ipython3",
   "version": "3.11.5"
  }
 },
 "nbformat": 4,
 "nbformat_minor": 5
}
