{
 "cells": [
  {
   "cell_type": "markdown",
   "id": "111f0c0e",
   "metadata": {},
   "source": [
    "### Vocabulary\n",
    "**Class** is a category of objects. The class defines all the common properties of the different objects that belong to it.\n",
    "\n",
    "There are predefined classes in python (**types**) to work with numbers (```int```, ```float```), strings (```string```), or more complicated data (```lists```, ```dictrionaries```)\n",
    "Classes are basically user defined types.\n",
    "\n",
    "Class defines operations that can be done with objects that belong to it. These are implemented as functions.\n",
    "Unlike normal functions these belong to the class. Such functions are also called **methods**. E.g. ```\"hello\".upper()``` where upper is a **method** of **class** ```string```.\n",
    "\n",
    "**Objects** are self-contained entities that belongs to a certain **class**. They contain data. E.g. ```\"hello\"``` is an object of class string, ```[1, 2]``` is an object of calss list. Objects are also called **instances**."
   ]
  },
  {
   "cell_type": "markdown",
   "id": "4f65b3f6",
   "metadata": {},
   "source": [
    "### Create a class 'Book' which should include the following attributes: name, author_name, price, and publisher. Create two instances of the class."
   ]
  },
  {
   "cell_type": "code",
   "execution_count": 1,
   "id": "fd4a2b16",
   "metadata": {},
   "outputs": [],
   "source": [
    "class Book:\n",
    "    def __init__(self, name, author_name, price, publisher):\n",
    "        self.name = name\n",
    "        self.author_name = author_name\n",
    "        self.price = price\n",
    "        self.publisher = publisher"
   ]
  },
  {
   "cell_type": "code",
   "execution_count": 1,
   "id": "f049e7d0",
   "metadata": {},
   "outputs": [
    {
     "ename": "NameError",
     "evalue": "name 'Book' is not defined",
     "output_type": "error",
     "traceback": [
      "\u001b[0;31m---------------------------------------------------------------------------\u001b[0m",
      "\u001b[0;31mNameError\u001b[0m                                 Traceback (most recent call last)",
      "Cell \u001b[0;32mIn[1], line 1\u001b[0m\n\u001b[0;32m----> 1\u001b[0m b1 \u001b[38;5;241m=\u001b[39m Book(\u001b[38;5;124m'\u001b[39m\u001b[38;5;124mTo the Lighthouse\u001b[39m\u001b[38;5;124m'\u001b[39m, \u001b[38;5;124m'\u001b[39m\u001b[38;5;124mVirginia Woolf\u001b[39m\u001b[38;5;124m'\u001b[39m, \u001b[38;5;241m13.8\u001b[39m, \u001b[38;5;124m'\u001b[39m\u001b[38;5;124mWisehouse Classics\u001b[39m\u001b[38;5;124m'\u001b[39m)\n\u001b[1;32m      2\u001b[0m b2 \u001b[38;5;241m=\u001b[39m Book(\u001b[38;5;124m'\u001b[39m\u001b[38;5;124mThe Sound And The Fury\u001b[39m\u001b[38;5;124m'\u001b[39m, \u001b[38;5;124m'\u001b[39m\u001b[38;5;124mWilliam Faulkner\u001b[39m\u001b[38;5;124m'\u001b[39m, \u001b[38;5;241m15.5\u001b[39m, \u001b[38;5;124m'\u001b[39m\u001b[38;5;124mEveryman\u001b[39m\u001b[38;5;124m'\u001b[39m)\n",
      "\u001b[0;31mNameError\u001b[0m: name 'Book' is not defined"
     ]
    }
   ],
   "source": [
    "b1 = Book('To the Lighthouse', 'Virginia Woolf', 13.8, 'Wisehouse Classics')\n",
    "b2 = Book('The Sound And The Fury', 'William Faulkner', 15.5, 'Everyman')"
   ]
  },
  {
   "cell_type": "code",
   "execution_count": 3,
   "id": "40ccecb3",
   "metadata": {},
   "outputs": [
    {
     "data": {
      "text/plain": [
       "'To the Lighthouse'"
      ]
     },
     "execution_count": 3,
     "metadata": {},
     "output_type": "execute_result"
    }
   ],
   "source": [
    "b1.name"
   ]
  },
  {
   "cell_type": "markdown",
   "id": "d4d6caf9",
   "metadata": {},
   "source": [
    "### Define an method to obtain the url of a book. The url should be in this form http://publisher.com/author_name/book_name"
   ]
  },
  {
   "cell_type": "code",
   "execution_count": 4,
   "id": "9ff1397f",
   "metadata": {},
   "outputs": [],
   "source": [
    "class Book:\n",
    "    def __init__(self, name, author_name, price, publisher):\n",
    "        self.name = name\n",
    "        self.author_name = author_name\n",
    "        self.price = price\n",
    "        self.publisher = publisher\n",
    "    \n",
    "    def getUrl(self):\n",
    "        return 'http://' + self.publisher + '.com/' + self.author_name + '/' + self.name\n",
    "    \n",
    "    \n",
    "    "
   ]
  },
  {
   "cell_type": "code",
   "execution_count": 5,
   "id": "46f51e4e",
   "metadata": {},
   "outputs": [
    {
     "data": {
      "text/plain": [
       "'http://Wisehouse Classics.com/Virginia Woolf/To the Lighthouse'"
      ]
     },
     "execution_count": 5,
     "metadata": {},
     "output_type": "execute_result"
    }
   ],
   "source": [
    "b1 = Book('To the Lighthouse', 'Virginia Woolf', 13.8, 'Wisehouse Classics')\n",
    "b2 = Book('The Sound And The Fury', 'William Faulkner', 15.5, 'Everyman')\n",
    "b1.getUrl()"
   ]
  },
  {
   "cell_type": "code",
   "execution_count": 6,
   "id": "f12e2ba6",
   "metadata": {},
   "outputs": [],
   "source": [
    "def to_url(string):\n",
    "     return string.lower().replace(' ', '_')\n",
    "\n",
    "class Book:\n",
    "    def __init__(self, name, author_name, price, publisher):\n",
    "        self.name = name\n",
    "        self.author_name = author_name\n",
    "        self.price = price\n",
    "        self.publisher = publisher\n",
    "    \n",
    "    def getUrl(self):\n",
    "        return 'http://' + to_url(self.publisher) + '.com/' + to_url(self.author_name) + '/' + to_url(self.name)"
   ]
  },
  {
   "cell_type": "code",
   "execution_count": 7,
   "id": "b078b383",
   "metadata": {},
   "outputs": [
    {
     "data": {
      "text/plain": [
       "'http://wisehouse_classics.com/virginia_woolf/to_the_lighthouse'"
      ]
     },
     "execution_count": 7,
     "metadata": {},
     "output_type": "execute_result"
    }
   ],
   "source": [
    "b1 = Book('To the Lighthouse', 'Virginia Woolf', 13.8, 'Wisehouse Classics')\n",
    "b1.getUrl()"
   ]
  },
  {
   "cell_type": "code",
   "execution_count": 8,
   "id": "7bc20e9c",
   "metadata": {},
   "outputs": [
    {
     "data": {
      "text/plain": [
       "<__main__.Book at 0x105345a90>"
      ]
     },
     "execution_count": 8,
     "metadata": {},
     "output_type": "execute_result"
    }
   ],
   "source": [
    "b1"
   ]
  },
  {
   "cell_type": "markdown",
   "id": "3c728b8c",
   "metadata": {},
   "source": [
    "### Overwrite magic methods:\n",
    "1. Modify ```__str__``` method to display all the attributes of the book. \n",
    "2. Modify the ```__add__``` method to add the price of two books.  \n",
    "3. Modify the ```__eq__``` method to determine whether the name, author_name, publisher of two books are same\n",
    "4. Modify the ```__gt__``` method to determine whether price of one book is greater than the other"
   ]
  },
  {
   "cell_type": "code",
   "execution_count": 9,
   "id": "4b4e94d6",
   "metadata": {},
   "outputs": [],
   "source": [
    "class Book:\n",
    "    def __init__(self, name, author_name, price, publisher):\n",
    "        self.name = name\n",
    "        self.author_name = author_name\n",
    "        self.price = price\n",
    "        self.publisher = publisher\n",
    "    \n",
    "    def getUrl(self):\n",
    "        return 'http://' + to_url(self.publisher) + '/' + to_url(self.author_name) + '/' + to_url(self.name)\n",
    "    \n",
    "    def __str__(self):\n",
    "        return self.name + '-' + self.author_name + '-' +  str(self.price) + '-' + self.publisher\n",
    "    \n",
    "    def __repr__(self):\n",
    "        return self.__str__()\n",
    "    \n",
    "    def __add__(self, other):\n",
    "        return self.price + other.price\n",
    "    \n",
    "    def __gt__(self,other):\n",
    "        if self.price > other.price:\n",
    "            return True\n",
    "        return False\n",
    "    \n",
    "    def __eq__(self, other):\n",
    "        if self.name == other.name and self.author_name == other.author_name and self.publisher == other.publisher:\n",
    "            return True\n",
    "        return False"
   ]
  },
  {
   "cell_type": "code",
   "execution_count": 10,
   "id": "0053c67c",
   "metadata": {},
   "outputs": [
    {
     "name": "stdout",
     "output_type": "stream",
     "text": [
      "To the Lighthouse-Virginia Woolf-13.8-Wisehouse Classics\n"
     ]
    }
   ],
   "source": [
    "b1 = Book('To the Lighthouse', 'Virginia Woolf', 13.8, 'Wisehouse Classics')\n",
    "b2 = Book('The Sound And The Fury', 'William Faulkner', 15.5, 'Everyman')\n",
    "b3 = Book('To the Lighthouse', 'Virginia Woolf', 16.8, 'Wisehouse Classics')\n",
    "\n",
    "print(b1)"
   ]
  },
  {
   "cell_type": "code",
   "execution_count": 11,
   "id": "12094c0a",
   "metadata": {},
   "outputs": [
    {
     "data": {
      "text/plain": [
       "29.3"
      ]
     },
     "execution_count": 11,
     "metadata": {},
     "output_type": "execute_result"
    }
   ],
   "source": [
    "b1 + b2"
   ]
  },
  {
   "cell_type": "code",
   "execution_count": 12,
   "id": "af35ed76",
   "metadata": {},
   "outputs": [
    {
     "data": {
      "text/plain": [
       "True"
      ]
     },
     "execution_count": 12,
     "metadata": {},
     "output_type": "execute_result"
    }
   ],
   "source": [
    "b1 == b3"
   ]
  },
  {
   "cell_type": "code",
   "execution_count": 13,
   "id": "76a74255",
   "metadata": {},
   "outputs": [
    {
     "data": {
      "text/plain": [
       "False"
      ]
     },
     "execution_count": 13,
     "metadata": {},
     "output_type": "execute_result"
    }
   ],
   "source": [
    "b1 == b2"
   ]
  },
  {
   "cell_type": "code",
   "execution_count": 14,
   "id": "fefc75db",
   "metadata": {},
   "outputs": [
    {
     "data": {
      "text/plain": [
       "True"
      ]
     },
     "execution_count": 14,
     "metadata": {},
     "output_type": "execute_result"
    }
   ],
   "source": [
    "b3 > b1"
   ]
  },
  {
   "cell_type": "code",
   "execution_count": 15,
   "id": "89914336",
   "metadata": {},
   "outputs": [
    {
     "data": {
      "text/plain": [
       "False"
      ]
     },
     "execution_count": 15,
     "metadata": {},
     "output_type": "execute_result"
    }
   ],
   "source": [
    "b1 > b2"
   ]
  },
  {
   "cell_type": "markdown",
   "id": "ed8b6efd",
   "metadata": {},
   "source": [
    "### Define a class 'Course' with attributes name, duration and a list of lectures. Create an istance of the course."
   ]
  },
  {
   "cell_type": "code",
   "execution_count": 16,
   "id": "412122c1",
   "metadata": {},
   "outputs": [],
   "source": [
    "class Course:\n",
    "    def __init__(self, name, duration, lectures = []):\n",
    "        self.name = name\n",
    "        self.duration = duration\n",
    "        self.lectures = lectures"
   ]
  },
  {
   "cell_type": "code",
   "execution_count": 17,
   "id": "9b07ca90",
   "metadata": {},
   "outputs": [],
   "source": [
    "course = Course('Defence against the Dark Arts', 4, ['Dark creatures', 'Curses', 'Duelling'])"
   ]
  },
  {
   "cell_type": "markdown",
   "id": "7d70431e",
   "metadata": {},
   "source": [
    "### Define a class 'Student' with attributes name, email, age and course (include the course instance you created previously, the student only has one course). Write a function to add an attribute grade (use a dictionary and initialize them to 0) for each lecture in the course. Write a function to add grades to the lectures for a student instance. "
   ]
  },
  {
   "cell_type": "code",
   "execution_count": 18,
   "id": "101b2b96",
   "metadata": {},
   "outputs": [],
   "source": [
    "class Student:\n",
    "    def __init__(self, name, email, age, course):\n",
    "        self.name = name\n",
    "        self.email = email\n",
    "        self.age = age\n",
    "        self.course = course\n",
    "    \n",
    "    def addGradebook(self):\n",
    "        self.gradebook = {}\n",
    "        for l in self.course.lectures:\n",
    "            self.gradebook[l] = 0\n",
    "    \n",
    "    #def addGrade(self):\n",
    "    #    for l in self.gradebook:\n",
    "    #        x = input('Enter grade for ' + l + ' ')\n",
    "    #        self.gradebook[l] = x\n",
    "            \n",
    "    def addGrade(self, grades_list):\n",
    "        i = 0\n",
    "        for l in self.gradebook:\n",
    "            self.gradebook[l] = grades_list[i]\n",
    "            i += 1"
   ]
  },
  {
   "cell_type": "code",
   "execution_count": 19,
   "id": "f2e62f24",
   "metadata": {},
   "outputs": [],
   "source": [
    "s1 = Student('Hermione Granger','hermione.granger@hogwarts.edu', 14, course)\n",
    "s1.addGradebook()"
   ]
  },
  {
   "cell_type": "code",
   "execution_count": 20,
   "id": "a7412503",
   "metadata": {},
   "outputs": [
    {
     "data": {
      "text/plain": [
       "{'Dark creatures': 0, 'Curses': 0, 'Duelling': 0}"
      ]
     },
     "execution_count": 20,
     "metadata": {},
     "output_type": "execute_result"
    }
   ],
   "source": [
    "s1.gradebook"
   ]
  },
  {
   "cell_type": "code",
   "execution_count": 21,
   "id": "f1e8bb1d",
   "metadata": {},
   "outputs": [],
   "source": [
    "s1.addGrade(['O', 'O', 'EE'])"
   ]
  },
  {
   "cell_type": "code",
   "execution_count": 22,
   "id": "4c26be65",
   "metadata": {},
   "outputs": [
    {
     "data": {
      "text/plain": [
       "{'Dark creatures': 'O', 'Curses': 'O', 'Duelling': 'EE'}"
      ]
     },
     "execution_count": 22,
     "metadata": {},
     "output_type": "execute_result"
    }
   ],
   "source": [
    "s1.gradebook"
   ]
  },
  {
   "cell_type": "markdown",
   "id": "db898623",
   "metadata": {},
   "source": [
    "### Create a class Clock with attributes hour, minute and second. Write a function to assign a current time. Write a function Tick to increment the clock by 1 second.*\n",
    "hint: use the now function of the datetime library!"
   ]
  },
  {
   "cell_type": "code",
   "execution_count": 23,
   "id": "b76ffefa",
   "metadata": {},
   "outputs": [],
   "source": [
    "import datetime\n",
    "import time\n",
    "\n",
    "class Clock:\n",
    "    def __init__(self):\n",
    "        self.hour = 0\n",
    "        self.minute = 0\n",
    "        self.second = 0\n",
    "        \n",
    "    def __str__(self):\n",
    "        return str(self.hour) + ':' + str(self.minute) + ':' + str(self.second)\n",
    "    \n",
    "    def set_time(self):\n",
    "        now = datetime.datetime.now()\n",
    "        self.hour = now.hour\n",
    "        self.minute = now.minute\n",
    "        self.second = now.second\n",
    "        \n",
    "    def tick(self):\n",
    "        time.sleep(1)\n",
    "        self.second = (self.second + 1) % 60\n",
    "        if self.second == 0:\n",
    "            self.minute = (self.minute + 1) % 60\n",
    "            if self.minute == 0:\n",
    "                self.hour = (self.hour + 1) % 24"
   ]
  },
  {
   "cell_type": "code",
   "execution_count": 24,
   "id": "c01660f2",
   "metadata": {},
   "outputs": [
    {
     "name": "stdout",
     "output_type": "stream",
     "text": [
      "0:0:0\n",
      "0:0:1\n",
      "0:0:2\n"
     ]
    }
   ],
   "source": [
    "c = Clock()\n",
    "print(c)\n",
    "c.tick()\n",
    "print(c)\n",
    "c.tick()\n",
    "print(c)"
   ]
  },
  {
   "cell_type": "code",
   "execution_count": 25,
   "id": "f1c81aba",
   "metadata": {},
   "outputs": [
    {
     "name": "stdout",
     "output_type": "stream",
     "text": [
      "9:39:4\n",
      "9:39:5\n",
      "9:39:6\n"
     ]
    }
   ],
   "source": [
    "c.set_time()\n",
    "print(c)\n",
    "c.tick()\n",
    "print(c)\n",
    "c.tick()\n",
    "print(c)"
   ]
  },
  {
   "cell_type": "code",
   "execution_count": 27,
   "id": "b50df4bb",
   "metadata": {},
   "outputs": [
    {
     "name": "stdout",
     "output_type": "stream",
     "text": [
      "9:43:56\n",
      "9:43:57\n",
      "9:43:58\n",
      "9:43:59\n",
      "9:44:0\n",
      "9:44:1\n",
      "9:44:2\n",
      "9:44:3\n",
      "9:44:4\n",
      "9:44:5\n"
     ]
    }
   ],
   "source": [
    "c = Clock()\n",
    "c.set_time()\n",
    "for i in range(10):\n",
    "    c.tick()\n",
    "    print(c)"
   ]
  },
  {
   "cell_type": "code",
   "execution_count": 28,
   "id": "3177038a",
   "metadata": {},
   "outputs": [],
   "source": [
    "class Clock:\n",
    "    def __init__(self):\n",
    "        now = datetime.datetime.now()\n",
    "        self.time = (now.hour, now.minute, now.second)\n",
    "    \n",
    "    def __str__(self):\n",
    "        return \"{:02d}:{:02d}:{:02d}\".format(self.time[0], self.time[1], self.time[2])\n",
    "        \n",
    "    # an endlessly running clock\n",
    "    def run(self):\n",
    "        print(self, end = '\\r') # return to the leftmost stop and overwrite the output next time\n",
    "        while True:\n",
    "            now = datetime.datetime.now()\n",
    "            new_time = (now.hour, now.minute, now.second)\n",
    "            if new_time != self.time:\n",
    "                self.time = new_time\n",
    "                print(self, end = '\\r')\n",
    "            "
   ]
  },
  {
   "cell_type": "code",
   "execution_count": null,
   "id": "6f83c0b5",
   "metadata": {},
   "outputs": [],
   "source": [
    "c = Clock()\n",
    "c.run()"
   ]
  }
 ],
 "metadata": {
  "kernelspec": {
   "display_name": "Python 3 (ipykernel)",
   "language": "python",
   "name": "python3"
  },
  "language_info": {
   "codemirror_mode": {
    "name": "ipython",
    "version": 3
   },
   "file_extension": ".py",
   "mimetype": "text/x-python",
   "name": "python",
   "nbconvert_exporter": "python",
   "pygments_lexer": "ipython3",
   "version": "3.11.5"
  }
 },
 "nbformat": 4,
 "nbformat_minor": 5
}
