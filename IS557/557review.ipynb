{
  "nbformat": 4,
  "nbformat_minor": 0,
  "metadata": {
    "colab": {
      "provenance": [],
      "authorship_tag": "ABX9TyMBNG2ol6ljeS6rJJSxR4oG",
      "include_colab_link": true
    },
    "kernelspec": {
      "name": "python3",
      "display_name": "Python 3"
    },
    "language_info": {
      "name": "python"
    }
  },
  "cells": [
    {
      "cell_type": "markdown",
      "metadata": {
        "id": "view-in-github",
        "colab_type": "text"
      },
      "source": [
        "<a href=\"https://colab.research.google.com/github/andy7622y/myfb/blob/main/IS557/557review.ipynb\" target=\"_parent\"><img src=\"https://colab.research.google.com/assets/colab-badge.svg\" alt=\"Open In Colab\"/></a>"
      ]
    },
    {
      "cell_type": "code",
      "source": [
        "7//3, 23 % 9"
      ],
      "metadata": {
        "colab": {
          "base_uri": "https://localhost:8080/"
        },
        "id": "ZJ3XgTZ2smfM",
        "outputId": "d203c6d3-f4c6-411e-bd51-dfb0f6b0fa59"
      },
      "execution_count": null,
      "outputs": [
        {
          "output_type": "execute_result",
          "data": {
            "text/plain": [
              "(2, 5)"
            ]
          },
          "metadata": {},
          "execution_count": 1
        }
      ]
    },
    {
      "cell_type": "code",
      "source": [
        "b = 3.0\n",
        "bb = 3\n",
        "print(b//2)\n",
        "print(type(b//2))\n",
        "print(bb//2)\n",
        "print(type(bb//2))"
      ],
      "metadata": {
        "colab": {
          "base_uri": "https://localhost:8080/"
        },
        "id": "Cgizqa4gu2hR",
        "outputId": "d6340b58-99d2-4015-a77e-11ccd5b9db4b"
      },
      "execution_count": null,
      "outputs": [
        {
          "output_type": "stream",
          "name": "stdout",
          "text": [
            "1.0\n",
            "<class 'float'>\n",
            "1\n",
            "<class 'int'>\n"
          ]
        }
      ]
    },
    {
      "cell_type": "code",
      "source": [
        "3 + False, 4 + True"
      ],
      "metadata": {
        "colab": {
          "base_uri": "https://localhost:8080/"
        },
        "id": "jjfc_lCKu6yH",
        "outputId": "26f93e4d-d17c-4473-f6a5-1247f28eebd6"
      },
      "execution_count": null,
      "outputs": [
        {
          "output_type": "execute_result",
          "data": {
            "text/plain": [
              "(3, 5)"
            ]
          },
          "metadata": {},
          "execution_count": 3
        }
      ]
    },
    {
      "cell_type": "markdown",
      "source": [
        "List"
      ],
      "metadata": {
        "id": "P8jtJDdT2gP1"
      }
    },
    {
      "cell_type": "code",
      "source": [
        "type(range(4))"
      ],
      "metadata": {
        "colab": {
          "base_uri": "https://localhost:8080/"
        },
        "id": "vSviNvc8x9O-",
        "outputId": "70bf2b16-5756-4d75-a109-84e666eaa1a3"
      },
      "execution_count": null,
      "outputs": [
        {
          "output_type": "execute_result",
          "data": {
            "text/plain": [
              "range"
            ]
          },
          "metadata": {},
          "execution_count": 5
        }
      ]
    },
    {
      "cell_type": "code",
      "source": [
        "# Lists of Lists\n",
        "l = [[1,2],[3,4]]\n",
        "l[:][:-1]"
      ],
      "metadata": {
        "colab": {
          "base_uri": "https://localhost:8080/"
        },
        "id": "98b2kN7h3-Q9",
        "outputId": "7e3c9f47-993f-4176-f6f0-3cf8ffc456d3"
      },
      "execution_count": null,
      "outputs": [
        {
          "output_type": "execute_result",
          "data": {
            "text/plain": [
              "[[1, 2]]"
            ]
          },
          "metadata": {},
          "execution_count": 12
        }
      ]
    },
    {
      "cell_type": "code",
      "execution_count": null,
      "metadata": {
        "id": "QOtNl9Qx2fY4"
      },
      "outputs": [],
      "source": [
        "mylist = ['alpha', 'beta', 'gamma', 'delta', 'epsilon']\n",
        "mylist.insert (1, \"new_element\") # Inserts an element at a given position\n",
        "mylist.remove('delta')"
      ]
    },
    {
      "cell_type": "code",
      "source": [
        "mylist[1:3] # [1,2]"
      ],
      "metadata": {
        "colab": {
          "base_uri": "https://localhost:8080/"
        },
        "id": "24jzeLu02lAH",
        "outputId": "1b210591-6d77-492e-a142-83e86df6db3d"
      },
      "execution_count": null,
      "outputs": [
        {
          "output_type": "execute_result",
          "data": {
            "text/plain": [
              "['beta', 'gamma']"
            ]
          },
          "metadata": {},
          "execution_count": 15
        }
      ]
    },
    {
      "cell_type": "code",
      "source": [
        "mylist[:-1]"
      ],
      "metadata": {
        "colab": {
          "base_uri": "https://localhost:8080/"
        },
        "id": "3Wy47Ljz3F-L",
        "outputId": "eb5dc080-b015-48bd-f2cf-84ca2c01899d"
      },
      "execution_count": null,
      "outputs": [
        {
          "output_type": "execute_result",
          "data": {
            "text/plain": [
              "['alpha', 'beta', 'gamma', 'delta']"
            ]
          },
          "metadata": {},
          "execution_count": 16
        }
      ]
    },
    {
      "cell_type": "code",
      "source": [
        "mylist = [1, 2, 3, 0, 1, 5, 4, 3, 5, 5, 2]\n",
        "\n",
        "print(mylist.count(5)) # How often does the value 5 appear?\n",
        "print(mylist.index(0)) # At which position does the value 0 appear for the first time?"
      ],
      "metadata": {
        "id": "UlA-AUrA4Z89"
      },
      "execution_count": null,
      "outputs": []
    },
    {
      "cell_type": "code",
      "source": [
        "mylist = ['a', 'b', 'c', 'd'] # returns the last value and removes it from the list\n",
        "x = mylist.pop()\n",
        "print(mylist)\n",
        "print(x)"
      ],
      "metadata": {
        "id": "FXcJf7xq_fkx"
      },
      "execution_count": null,
      "outputs": []
    },
    {
      "cell_type": "code",
      "source": [
        "mylist1 = [2, 1, 4, 3, 6, 5, 8, 7]\n",
        "mylist1.reverse()\n",
        "mylist1"
      ],
      "metadata": {
        "id": "qCMSE0fz_j7M"
      },
      "execution_count": null,
      "outputs": []
    },
    {
      "cell_type": "code",
      "source": [
        "mylist = [2,1,4,3,6,5,8,7]\n",
        "mylist.sort()\n",
        "mylist"
      ],
      "metadata": {
        "id": "VqjN8C26_mI8"
      },
      "execution_count": null,
      "outputs": []
    },
    {
      "cell_type": "code",
      "source": [
        "mylist.extend(mylist1)\n"
      ],
      "metadata": {
        "id": "oJMofOMy_uRQ"
      },
      "execution_count": null,
      "outputs": []
    },
    {
      "cell_type": "markdown",
      "source": [
        "string"
      ],
      "metadata": {
        "id": "ScOO9pzD3OX-"
      }
    },
    {
      "cell_type": "code",
      "source": [
        "a = \"Hello\"\n",
        "a.startswith('e'), a.split('l'), [c*2 for c in a]\n",
        "# Bool, '' between two 'l', each part has ''"
      ],
      "metadata": {
        "colab": {
          "base_uri": "https://localhost:8080/"
        },
        "id": "BRIkXnNNvgiL",
        "outputId": "9589360e-6a5a-4746-8a48-bb1c0c12fddf"
      },
      "execution_count": null,
      "outputs": [
        {
          "output_type": "execute_result",
          "data": {
            "text/plain": [
              "(False, ['He', '', 'o'], ['HH', 'ee', 'll', 'll', 'oo'])"
            ]
          },
          "metadata": {},
          "execution_count": 4
        }
      ]
    },
    {
      "cell_type": "code",
      "source": [
        "s = \"This is just our first exercise\"\n",
        "s.split(' ')"
      ],
      "metadata": {
        "colab": {
          "base_uri": "https://localhost:8080/"
        },
        "id": "Pp6GD9_63PRL",
        "outputId": "f739fdc7-a3df-4874-e063-cf42f9c8d0f5"
      },
      "execution_count": null,
      "outputs": [
        {
          "output_type": "execute_result",
          "data": {
            "text/plain": [
              "['This', 'is', 'just', 'our', 'first', 'exercise']"
            ]
          },
          "metadata": {},
          "execution_count": 7
        }
      ]
    },
    {
      "cell_type": "code",
      "source": [
        "s.upper()\n",
        "print(s)\n",
        "# .upper() does not save in it"
      ],
      "metadata": {
        "colab": {
          "base_uri": "https://localhost:8080/"
        },
        "id": "Uy8eRA4_z0qX",
        "outputId": "9b1f2c98-5229-4a67-d228-35eb1234fb0e"
      },
      "execution_count": null,
      "outputs": [
        {
          "output_type": "stream",
          "name": "stdout",
          "text": [
            "This is just our first exercise\n"
          ]
        }
      ]
    },
    {
      "cell_type": "code",
      "source": [
        "s2 = s.replace(' ', '')\n",
        "s2"
      ],
      "metadata": {
        "colab": {
          "base_uri": "https://localhost:8080/",
          "height": 35
        },
        "id": "XCbU6d133XMc",
        "outputId": "aa9e789c-c94a-41ff-8853-473fd1c6f0f2"
      },
      "execution_count": null,
      "outputs": [
        {
          "output_type": "execute_result",
          "data": {
            "text/plain": [
              "'Thisisjustourfirstexercise'"
            ],
            "application/vnd.google.colaboratory.intrinsic+json": {
              "type": "string"
            }
          },
          "metadata": {},
          "execution_count": 6
        }
      ]
    },
    {
      "cell_type": "code",
      "source": [
        "s.count(' ')"
      ],
      "metadata": {
        "colab": {
          "base_uri": "https://localhost:8080/"
        },
        "id": "h7yum2g-3d_t",
        "outputId": "aa78f4ee-9e6c-4091-9820-f90d3996825f"
      },
      "execution_count": null,
      "outputs": [
        {
          "output_type": "execute_result",
          "data": {
            "text/plain": [
              "5"
            ]
          },
          "metadata": {},
          "execution_count": 7
        }
      ]
    },
    {
      "cell_type": "code",
      "source": [
        "mylist_1 = sorted(s.split(), key=str.lower) # only sort using the str.lower function\n",
        "print(mylist_1)"
      ],
      "metadata": {
        "colab": {
          "base_uri": "https://localhost:8080/"
        },
        "id": "l5EpB7Vm3oJ_",
        "outputId": "ed336932-03b4-4ab5-fa9a-4044cf8d254c"
      },
      "execution_count": null,
      "outputs": [
        {
          "output_type": "stream",
          "name": "stdout",
          "text": [
            "['exercise', 'first', 'is', 'just', 'our', 'This']\n"
          ]
        }
      ]
    },
    {
      "cell_type": "code",
      "source": [
        "s1.intersection(s2) # another way to find the duplicates"
      ],
      "metadata": {
        "id": "hNa1eWb26HbC"
      },
      "execution_count": null,
      "outputs": []
    },
    {
      "cell_type": "markdown",
      "source": [
        "tuples"
      ],
      "metadata": {
        "id": "Lg79gCJQ6Jwb"
      }
    },
    {
      "cell_type": "code",
      "source": [
        "lst = [1, 3, 2, 4, 5, 3, 6, 1]\n",
        "set(lst)\n",
        "# also rank"
      ],
      "metadata": {
        "colab": {
          "base_uri": "https://localhost:8080/"
        },
        "id": "06mDllkb1uyU",
        "outputId": "3500f482-7e13-42b1-d944-620fad1c59f2"
      },
      "execution_count": null,
      "outputs": [
        {
          "output_type": "execute_result",
          "data": {
            "text/plain": [
              "{1, 2, 3, 4, 5, 6}"
            ]
          },
          "metadata": {},
          "execution_count": 9
        }
      ]
    },
    {
      "cell_type": "code",
      "source": [
        "t = (1, 2, 3, 4, 5)\n",
        "t[2] = t[2] - sum(t)\n",
        "print(t)"
      ],
      "metadata": {
        "colab": {
          "base_uri": "https://localhost:8080/",
          "height": 176
        },
        "id": "eA2W2yh81w_C",
        "outputId": "ebf506e8-1124-41b7-870f-4a758d21d501"
      },
      "execution_count": null,
      "outputs": [
        {
          "output_type": "error",
          "ename": "TypeError",
          "evalue": "'tuple' object does not support item assignment",
          "traceback": [
            "\u001b[0;31m---------------------------------------------------------------------------\u001b[0m",
            "\u001b[0;31mTypeError\u001b[0m                                 Traceback (most recent call last)",
            "\u001b[0;32m<ipython-input-10-1f8b06c5ebe2>\u001b[0m in \u001b[0;36m<cell line: 2>\u001b[0;34m()\u001b[0m\n\u001b[1;32m      1\u001b[0m \u001b[0mt\u001b[0m \u001b[0;34m=\u001b[0m \u001b[0;34m(\u001b[0m\u001b[0;36m1\u001b[0m\u001b[0;34m,\u001b[0m \u001b[0;36m2\u001b[0m\u001b[0;34m,\u001b[0m \u001b[0;36m3\u001b[0m\u001b[0;34m,\u001b[0m \u001b[0;36m4\u001b[0m\u001b[0;34m,\u001b[0m \u001b[0;36m5\u001b[0m\u001b[0;34m)\u001b[0m\u001b[0;34m\u001b[0m\u001b[0;34m\u001b[0m\u001b[0m\n\u001b[0;32m----> 2\u001b[0;31m \u001b[0mt\u001b[0m\u001b[0;34m[\u001b[0m\u001b[0;36m2\u001b[0m\u001b[0;34m]\u001b[0m \u001b[0;34m=\u001b[0m \u001b[0mt\u001b[0m\u001b[0;34m[\u001b[0m\u001b[0;36m2\u001b[0m\u001b[0;34m]\u001b[0m \u001b[0;34m-\u001b[0m \u001b[0msum\u001b[0m\u001b[0;34m(\u001b[0m\u001b[0mt\u001b[0m\u001b[0;34m)\u001b[0m\u001b[0;34m\u001b[0m\u001b[0;34m\u001b[0m\u001b[0m\n\u001b[0m\u001b[1;32m      3\u001b[0m \u001b[0mprint\u001b[0m\u001b[0;34m(\u001b[0m\u001b[0mt\u001b[0m\u001b[0;34m)\u001b[0m\u001b[0;34m\u001b[0m\u001b[0;34m\u001b[0m\u001b[0m\n",
            "\u001b[0;31mTypeError\u001b[0m: 'tuple' object does not support item assignment"
          ]
        }
      ]
    },
    {
      "cell_type": "code",
      "source": [
        "tup = (1, 2, 3, 4)\n",
        "sum(tup)"
      ],
      "metadata": {
        "colab": {
          "base_uri": "https://localhost:8080/"
        },
        "id": "vHZOm3vx6MST",
        "outputId": "7b88aa18-54a7-4ffe-94a4-6913f74eb13b"
      },
      "execution_count": null,
      "outputs": [
        {
          "output_type": "execute_result",
          "data": {
            "text/plain": [
              "10"
            ]
          },
          "metadata": {},
          "execution_count": 10
        }
      ]
    },
    {
      "cell_type": "code",
      "source": [
        "# Tuples\n",
        "t = (5, 2)\n",
        "t1 = (1,) # a tuple with only one element\n",
        "x, y = t\n",
        "#t[0] = 1 would fail because tuples do not support item assignment\n",
        "len(t), x, y, type(t1), t*2\n"
      ],
      "metadata": {
        "colab": {
          "base_uri": "https://localhost:8080/"
        },
        "id": "zZwwzA072z7Q",
        "outputId": "b31fe68f-8494-4501-bcef-11118c07c283"
      },
      "execution_count": null,
      "outputs": [
        {
          "output_type": "execute_result",
          "data": {
            "text/plain": [
              "(2, 5, 2, tuple, (5, 2, 5, 2))"
            ]
          },
          "metadata": {},
          "execution_count": 11
        }
      ]
    },
    {
      "cell_type": "code",
      "source": [
        "# Sets\n",
        "s = {5, 2, 2}\n",
        "# s[0] = 1 would fail because tuples do not support item assignment\n",
        "s.add(3)\n",
        "len(s), s, {i*2 for i in s}\n",
        "# for sets, also cannot repetition"
      ],
      "metadata": {
        "id": "bSyTIUST4b5M",
        "outputId": "9add3bab-293e-4bfc-846b-b3ae46920a65",
        "colab": {
          "base_uri": "https://localhost:8080/"
        }
      },
      "execution_count": null,
      "outputs": [
        {
          "output_type": "execute_result",
          "data": {
            "text/plain": [
              "(3, {2, 3, 5}, {4, 6, 10})"
            ]
          },
          "metadata": {},
          "execution_count": 17
        }
      ]
    },
    {
      "cell_type": "markdown",
      "source": [
        "loop for/while"
      ],
      "metadata": {
        "id": "j_HSjakV9fRx"
      }
    },
    {
      "cell_type": "code",
      "source": [
        "year = 2000\n",
        "if (year % 4 == 0) and (year % 100 != 0 or year % 400 == 0):\n",
        "    print('leap year')\n",
        "else:\n",
        "    print('normal year')"
      ],
      "metadata": {
        "colab": {
          "base_uri": "https://localhost:8080/"
        },
        "id": "0ibkIGfe9epQ",
        "outputId": "1baa06af-873c-4017-e5b2-605c46eea461"
      },
      "execution_count": null,
      "outputs": [
        {
          "output_type": "stream",
          "name": "stdout",
          "text": [
            "leap year\n"
          ]
        }
      ]
    },
    {
      "cell_type": "markdown",
      "source": [
        "object/class"
      ],
      "metadata": {
        "id": "KwDKh37hBeis"
      }
    },
    {
      "cell_type": "code",
      "source": [
        "x = 2233\n",
        "x.bit_length()\n",
        "\n",
        "#how many bits needed to store it"
      ],
      "metadata": {
        "id": "xGL4_BZRBgGn"
      },
      "execution_count": null,
      "outputs": []
    },
    {
      "cell_type": "code",
      "source": [
        "x = [4, 5]\n",
        "y = [4, 5]\n",
        "x == y, x is y, x is x, id(y), id(x)\n",
        "# x.copy() / x[:] not mean x == y"
      ],
      "metadata": {
        "id": "JVR90T5rBoJN"
      },
      "execution_count": null,
      "outputs": []
    },
    {
      "cell_type": "code",
      "source": [
        "class Coordinate:\n",
        "    def __init__(self, x, y):\n",
        "        self.x = x\n",
        "        self.y = y\n",
        "\n",
        "    def __str__(self):\n",
        "        return 'x: ' + str(self.x) + ', y: ' + str(self.y)\n",
        "\n",
        "    def length(self):\n",
        "        return (self.x ** 2 + self.y ** 2) ** 0.5\n",
        "\n",
        "    def __ge__(self, other):\n",
        "        return self.length() >= other.length()\n",
        "\n",
        "    def __neg__(self):\n",
        "        return Coordinate(-self.x, -self.y)\n",
        "\n",
        "    def __repr__(self):\n",
        "        return self.__str__()\n",
        "\n",
        "    def __eq__(self, other):\n",
        "        return self.x == other.x and self.y == other.y"
      ],
      "metadata": {
        "id": "5P-QSmOtELxb"
      },
      "execution_count": null,
      "outputs": []
    },
    {
      "cell_type": "code",
      "source": [
        "c1 = Coordinate(3, 4)\n",
        "c1.length()"
      ],
      "metadata": {
        "id": "cUIWEtXuEOy1"
      },
      "execution_count": null,
      "outputs": []
    },
    {
      "cell_type": "code",
      "source": [
        "c1"
      ],
      "metadata": {
        "id": "ejaHN2NgEQzC"
      },
      "execution_count": null,
      "outputs": []
    },
    {
      "cell_type": "code",
      "source": [
        "c2 = Coordinate(-2, -3)"
      ],
      "metadata": {
        "id": "27Py-QcCESZZ"
      },
      "execution_count": null,
      "outputs": []
    },
    {
      "cell_type": "code",
      "source": [
        "c1 >= c2  # __ge__"
      ],
      "metadata": {
        "id": "VTfG8WPWEUEU"
      },
      "execution_count": null,
      "outputs": []
    },
    {
      "cell_type": "markdown",
      "source": [
        "NUMPY"
      ],
      "metadata": {
        "id": "hAtBnyAtHUx6"
      }
    },
    {
      "cell_type": "code",
      "source": [
        "# Element-Wise Operations\n",
        "np.array([2,3]*2), np.array([2,3])*2"
      ],
      "metadata": {
        "id": "_8NFN7kmHVkr"
      },
      "execution_count": null,
      "outputs": []
    },
    {
      "cell_type": "code",
      "source": [
        "# Initializing Arrays\n",
        "np.empty((2, 3)), np.zeros(2), np.ones(3), np.arange(1,8,2), np.linspace(1,10,11)"
      ],
      "metadata": {
        "id": "QlHShhiaHed4"
      },
      "execution_count": null,
      "outputs": []
    }
  ]
}