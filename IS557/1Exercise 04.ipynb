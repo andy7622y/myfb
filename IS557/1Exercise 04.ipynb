{
  "cells": [
    {
      "cell_type": "markdown",
      "id": "111f0c0e",
      "metadata": {
        "id": "111f0c0e"
      },
      "source": [
        "### Vocabulary\n",
        "**Class** is a category of objects. The class defines all the common properties of the different objects that belong to it.\n",
        "\n",
        "There are predefined classes in python (**types**) to work with numbers (```int```, ```float```), strings (```string```), or more complicated data (```lists```, ```dictrionaries```)\n",
        "Classes are basically user defined types.\n",
        "\n",
        "Class defines operations that can be done with objects that belong to it. These are implemented as functions.\n",
        "Unlike normal functions these belong to the class. Such functions are also called **methods**. E.g. ```\"hello\".upper()``` where upper is a **method** of **class** ```string```.\n",
        "\n",
        "**Objects** are self-contained entities that belongs to a certain **class**. They contain data. E.g. ```\"hello\"``` is an object of class string, ```[1, 2]``` is an object of class list. Objects are also called **instances**."
      ]
    },
    {
      "cell_type": "markdown",
      "id": "4f65b3f6",
      "metadata": {
        "id": "4f65b3f6"
      },
      "source": [
        "### Create a class 'Book' which should include the following attributes: name, author_name, price, and publisher. Create two instances of the class."
      ]
    },
    {
      "cell_type": "code",
      "execution_count": 1,
      "id": "334f026d",
      "metadata": {
        "id": "334f026d"
      },
      "outputs": [],
      "source": [
        "class Book:\n",
        "  def __init__(self, name, author_name, price, publisher):\n",
        "    self.name = name\n",
        "    self.author_name = author_name\n",
        "    self.price = price\n",
        "    self.publisher = publisher"
      ]
    },
    {
      "cell_type": "code",
      "source": [
        "Book1 = Book('The Great Gatsby', 'F.Scott Fitzgerald', 14, 'Charles Scribner\"s Sons')\n",
        "Book2 = Book('The Catcher In The Rye', 'J.D.Salinger', 12, 'Little, Brown and Company')"
      ],
      "metadata": {
        "id": "C41RP41GYQoI"
      },
      "id": "C41RP41GYQoI",
      "execution_count": 11,
      "outputs": []
    },
    {
      "cell_type": "code",
      "source": [
        "Book1.price"
      ],
      "metadata": {
        "id": "96d5s75TZlSd",
        "outputId": "f7cecf75-dc55-46b8-93f3-c6228c351c5f",
        "colab": {
          "base_uri": "https://localhost:8080/"
        }
      },
      "id": "96d5s75TZlSd",
      "execution_count": 5,
      "outputs": [
        {
          "output_type": "execute_result",
          "data": {
            "text/plain": [
              "14"
            ]
          },
          "metadata": {},
          "execution_count": 5
        }
      ]
    },
    {
      "cell_type": "markdown",
      "id": "d4d6caf9",
      "metadata": {
        "id": "d4d6caf9"
      },
      "source": [
        "### Define an method to obtain the url of a book. The url should be in this form `http://publisher.com/author_name/book_name`"
      ]
    },
    {
      "cell_type": "code",
      "execution_count": 21,
      "id": "dde840ec",
      "metadata": {
        "id": "dde840ec"
      },
      "outputs": [],
      "source": [
        "class Book:\n",
        "  def __init__(self, name, author_name, price, publisher):\n",
        "    self.name = name\n",
        "    self.author_name = author_name\n",
        "    self.price = price\n",
        "    self.publisher = publisher\n",
        "  def get_url(self, name, author_name, publisher):\n",
        "    return 'http://' + self.publisher + '.com/' + self.author_name + '/' + self.name\n",
        "\n",
        "Book1 = Book('The Great Gatsby', 'F.Scott Fitzgerald', 14, 'Charles Scribner\"s Sons')\n",
        "Book2 = Book('The Catcher In The Rye', 'J.D.Salinger', 12, 'Little, Brown and Company')\n"
      ]
    },
    {
      "cell_type": "code",
      "execution_count": 23,
      "id": "754b2626",
      "metadata": {
        "id": "754b2626",
        "outputId": "17d46e2d-81d5-47e6-e828-21b68fccce7e",
        "colab": {
          "base_uri": "https://localhost:8080/",
          "height": 52
        }
      },
      "outputs": [
        {
          "output_type": "stream",
          "name": "stdout",
          "text": [
            "14\n"
          ]
        },
        {
          "output_type": "execute_result",
          "data": {
            "text/plain": [
              "'http://Charles Scribner\"s Sons.com/F.Scott Fitzgerald/The Great Gatsby'"
            ],
            "application/vnd.google.colaboratory.intrinsic+json": {
              "type": "string"
            }
          },
          "metadata": {},
          "execution_count": 23
        }
      ],
      "source": [
        "print(Book1.price)\n",
        "Book1.get_url()"
      ]
    },
    {
      "cell_type": "markdown",
      "id": "3c728b8c",
      "metadata": {
        "id": "3c728b8c"
      },
      "source": [
        "### Overwrite magic methods:\n",
        "1. Modify ```__str__``` method to display all the attributes of the book.\n",
        "2. Modify the ```__add__``` method to add the price of two books.  \n",
        "3. Modify the ```__eq__``` method to determine whether the name, author_name, publisher of two books are same\n",
        "4. Modify the ```__gt__``` method to determine whether price of one book is greater than the other"
      ]
    },
    {
      "cell_type": "code",
      "execution_count": 24,
      "id": "21a011b3",
      "metadata": {
        "id": "21a011b3"
      },
      "outputs": [],
      "source": [
        "class Book:\n",
        "  def __init__(self, name, author_name, price, publisher):\n",
        "    self.name = name\n",
        "    self.author_name = author_name\n",
        "    self.price = price\n",
        "    self.publisher = publisher\n",
        "  def get_url(self, name, author_name, publisher):\n",
        "    return 'http://' + self.publisher + '.com/' + self.author_name + '/' + self.name\n",
        "  def __str__(self):\n",
        "    return f'Book name:{self.name}\\nAuthor name:{self.author_name}\\nPrice:{self.price}\\nPublisher:{self.publisher}'\n",
        "  def __add__(self, other):\n",
        "    return self.price + other.price\n",
        "  def __eq__(self, other):\n",
        "    return self.name == other.name and self.author_name == other.author_name and self.publisher == other.publisher\n",
        "  def __gt__(self, other):\n",
        "    return self.price > other.price\n",
        "\n",
        "Book1 = Book('The Great Gatsby', 'F.Scott Fitzgerald', 14, 'Charles Scribner\"s Sons')\n",
        "Book2 = Book('The Catcher In The Rye', 'J.D.Salinger', 12, 'Little, Brown and Company')\n"
      ]
    },
    {
      "cell_type": "code",
      "execution_count": 28,
      "id": "6a6874c9",
      "metadata": {
        "id": "6a6874c9",
        "outputId": "5a303636-e0da-4b97-d713-06d35aa7b3f5",
        "colab": {
          "base_uri": "https://localhost:8080/"
        }
      },
      "outputs": [
        {
          "output_type": "stream",
          "name": "stdout",
          "text": [
            "Book name:The Great Gatsby\n",
            "Author name:F.Scott Fitzgerald\n",
            "Price:14\n",
            "Publisher:Charles Scribner\"s Sons\n",
            "False\n",
            "True\n",
            "26\n"
          ]
        }
      ],
      "source": [
        "print(Book1)\n",
        "print(Book1 == Book2)\n",
        "print(Book1 > Book2)\n",
        "print(Book1 + Book2)"
      ]
    },
    {
      "cell_type": "code",
      "source": [],
      "metadata": {
        "id": "GlZtAD3DfDMV"
      },
      "id": "GlZtAD3DfDMV",
      "execution_count": null,
      "outputs": []
    },
    {
      "cell_type": "markdown",
      "id": "ed8b6efd",
      "metadata": {
        "id": "ed8b6efd"
      },
      "source": [
        "### Define a class 'Course' with attributes name, duration and a list of lectures. Create an istance of the course."
      ]
    },
    {
      "cell_type": "code",
      "execution_count": 40,
      "id": "a0d05cf9",
      "metadata": {
        "id": "a0d05cf9"
      },
      "outputs": [],
      "source": [
        "class Course:\n",
        "  def __init__(self, attributes_name, duration, lectures):\n",
        "    self.attributes_name = attributes_name\n",
        "    self.duration = duration\n",
        "    self.lectures = lectures\n"
      ]
    },
    {
      "cell_type": "code",
      "source": [
        "Course1 = Course('MMM', '1 semester', ['Introduction to Scientific Programming with Python', 'BE2'])"
      ],
      "metadata": {
        "id": "HP_3yBO4kRYC"
      },
      "id": "HP_3yBO4kRYC",
      "execution_count": 43,
      "outputs": []
    },
    {
      "cell_type": "markdown",
      "id": "7d70431e",
      "metadata": {
        "id": "7d70431e"
      },
      "source": [
        "### Define a class 'Student' with attributes name, email, age and course (include the course instance you created previously, the student only has one course). Write a function to add an attribute grade (use a dictionary and initialize them to 0) for each lecture in the course. Write a function to add grades to the lectures for a student instance."
      ]
    },
    {
      "cell_type": "code",
      "execution_count": 50,
      "id": "e813ed49",
      "metadata": {
        "id": "e813ed49"
      },
      "outputs": [],
      "source": [
        "class Student:\n",
        "  def __init__(self, attributes_name, email, age, course):\n",
        "    self.attributes_name = attributes_name\n",
        "    self.email = email\n",
        "    self.age = age\n",
        "    self.course = course\n",
        "    self.grades = {lecture: 0 for lecture in course.lectures}  # build a dictionary named 'self.grades' and 'lecture' is key\n",
        "  def add_grades(self, lecture, grade):\n",
        "    self.grades[lecture] = grade  # 'grade' is the value\n",
        "\n",
        "Student1 = Student('Annes', 'Annes.Stroh@mannheim.de', 23, Course1)\n"
      ]
    },
    {
      "cell_type": "code",
      "execution_count": 54,
      "id": "33db3adf",
      "metadata": {
        "id": "33db3adf",
        "outputId": "3b4477e9-f066-4699-ee35-f50519710695",
        "colab": {
          "base_uri": "https://localhost:8080/"
        }
      },
      "outputs": [
        {
          "output_type": "stream",
          "name": "stdout",
          "text": [
            "{'Introduction to Scientific Programming with Python': 2.3, 'BE2': 2}\n"
          ]
        }
      ],
      "source": [
        "Student1.add_grades('Introduction to Scientific Programming with Python', 2.3)\n",
        "Student1.add_grades('BE2', 2)\n",
        "\n",
        "print(Student1.grades)"
      ]
    },
    {
      "cell_type": "markdown",
      "id": "db898623",
      "metadata": {
        "id": "db898623"
      },
      "source": [
        "### Create a class Clock with attributes hour, minute and second. Write a function to assign a current time. Write a function Tick to increment the clock by 1 second.\n",
        "hint: use the now function of the datetime library!"
      ]
    },
    {
      "cell_type": "code",
      "source": [
        "from datetime import datetime, timedelta"
      ],
      "metadata": {
        "id": "odNsv6qQnWCP"
      },
      "id": "odNsv6qQnWCP",
      "execution_count": 55,
      "outputs": []
    },
    {
      "cell_type": "code",
      "execution_count": 68,
      "id": "6ccb8a8f",
      "metadata": {
        "id": "6ccb8a8f"
      },
      "outputs": [],
      "source": [
        "class Clock:\n",
        "  def __init__(self):\n",
        "    self.current_time()\n",
        "  def current_time(self):\n",
        "    now = datetime.now()\n",
        "    self.hour = now.hour\n",
        "    self.minute = now.minute\n",
        "    self.second = now.second\n",
        "  def tick(self):\n",
        "    a_time = datetime(2024, 10, 8, self.hour, self.minute, self.second) + timedelta(seconds = 1)\n",
        "    #current_time = datetime.combine(self.date, datetime(self.date.year, self.hour, self.minute, self.second).time())\n",
        "    #new_time = current_time + timedelta(seconds=1)\n",
        "\n",
        "    self.hour = a_time.hour\n",
        "    self.minute = a_time.minute\n",
        "    self.second = a_time.second\n",
        "  def __str__(self):\n",
        "    return f'{self.hour:02}:{self.minute:02}:{self.second:02}\"'\n",
        "    # 0: if number is a single digit (like 5), it will be displayed as 05;\n",
        "    # 2: two digits\n"
      ]
    },
    {
      "cell_type": "code",
      "source": [
        "clock1 = Clock()\n",
        "print(clock1)\n",
        "clock1.tick()\n",
        "print(clock1)"
      ],
      "metadata": {
        "id": "qnxERdwLlQwW",
        "outputId": "df738539-2e88-4f53-de1c-8efe695ecc3a",
        "colab": {
          "base_uri": "https://localhost:8080/"
        }
      },
      "id": "qnxERdwLlQwW",
      "execution_count": 69,
      "outputs": [
        {
          "output_type": "stream",
          "name": "stdout",
          "text": [
            "19:51:05\"\n",
            "19:51:06\"\n"
          ]
        }
      ]
    },
    {
      "cell_type": "code",
      "execution_count": null,
      "id": "3177038a",
      "metadata": {
        "id": "3177038a"
      },
      "outputs": [],
      "source": []
    }
  ],
  "metadata": {
    "kernelspec": {
      "display_name": "Python 3 (ipykernel)",
      "language": "python",
      "name": "python3"
    },
    "language_info": {
      "codemirror_mode": {
        "name": "ipython",
        "version": 3
      },
      "file_extension": ".py",
      "mimetype": "text/x-python",
      "name": "python",
      "nbconvert_exporter": "python",
      "pygments_lexer": "ipython3",
      "version": "3.11.5"
    },
    "colab": {
      "provenance": []
    }
  },
  "nbformat": 4,
  "nbformat_minor": 5
}