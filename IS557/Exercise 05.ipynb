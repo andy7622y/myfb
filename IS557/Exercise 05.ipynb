{
 "cells": [
  {
   "cell_type": "markdown",
   "id": "f6cccd81",
   "metadata": {},
   "source": [
    "## Working with files"
   ]
  },
  {
   "cell_type": "markdown",
   "id": "4410af2b",
   "metadata": {},
   "source": [
    "Create a function called copy_file that takes two arguments: the source file path and the destination file path. The function should read the content of the source file line by line and write it to the destination file."
   ]
  },
  {
   "cell_type": "code",
   "execution_count": null,
   "id": "50ab4d99",
   "metadata": {},
   "outputs": [],
   "source": []
  },
  {
   "cell_type": "code",
   "execution_count": null,
   "id": "6383d608",
   "metadata": {},
   "outputs": [],
   "source": []
  },
  {
   "cell_type": "markdown",
   "id": "669dcb7d",
   "metadata": {},
   "source": [
    "Read the contents of a text file into a string and store the string with pickle. Compare the file sizes of the pickle file with the original text."
   ]
  },
  {
   "cell_type": "code",
   "execution_count": null,
   "id": "60f927c6",
   "metadata": {},
   "outputs": [],
   "source": []
  },
  {
   "cell_type": "code",
   "execution_count": null,
   "id": "d74ab864",
   "metadata": {},
   "outputs": [],
   "source": []
  },
  {
   "cell_type": "markdown",
   "id": "927a66ec",
   "metadata": {},
   "source": [
    "Write a function that reads the content of a text file, encrypts it using a simple Caesar cipher with a user-specified shift value, and saves the encrypted content to a new file. Write another function that reads the encrypted file, decrypts the content using the shift value, and prints the decrypted content.\n",
    "\n",
    "*Caesar cipher — is a type of substitution cipher in which each letter in the plaintext is replaced by a letter some fixed number of positions down the alphabet. For example, with a shift value of 3, A would be replaced by D, B would become E, and so on.*"
   ]
  },
  {
   "cell_type": "code",
   "execution_count": null,
   "id": "ec28575d",
   "metadata": {},
   "outputs": [],
   "source": []
  },
  {
   "cell_type": "code",
   "execution_count": null,
   "id": "90aa6ae2",
   "metadata": {},
   "outputs": [],
   "source": []
  },
  {
   "cell_type": "markdown",
   "id": "dae0bbbc",
   "metadata": {},
   "source": [
    "# Datetime\n",
    "Write a function to determine the time difference between two timezones."
   ]
  },
  {
   "cell_type": "code",
   "execution_count": null,
   "id": "002bbf98",
   "metadata": {},
   "outputs": [],
   "source": []
  },
  {
   "cell_type": "code",
   "execution_count": null,
   "id": "872186b7",
   "metadata": {},
   "outputs": [],
   "source": []
  },
  {
   "cell_type": "markdown",
   "id": "9b17b34c",
   "metadata": {},
   "source": [
    "Write a function to determine the number of days between today and your next birthday"
   ]
  },
  {
   "cell_type": "code",
   "execution_count": null,
   "id": "a8fbb228",
   "metadata": {},
   "outputs": [],
   "source": []
  },
  {
   "cell_type": "code",
   "execution_count": null,
   "id": "51df206d",
   "metadata": {},
   "outputs": [],
   "source": []
  },
  {
   "cell_type": "markdown",
   "id": "d45dd7f4",
   "metadata": {},
   "source": [
    "Write a function that lists the dates of all Sundays of a given year"
   ]
  },
  {
   "cell_type": "code",
   "execution_count": null,
   "id": "34a7691a",
   "metadata": {},
   "outputs": [],
   "source": []
  },
  {
   "cell_type": "code",
   "execution_count": null,
   "id": "78b5e70f",
   "metadata": {},
   "outputs": [],
   "source": []
  },
  {
   "cell_type": "markdown",
   "id": "08af2ced",
   "metadata": {},
   "source": [
    "Write a Python function to count the number of times Friday was the 13st day of the month in a given year"
   ]
  },
  {
   "cell_type": "code",
   "execution_count": null,
   "id": "fe60ca1d",
   "metadata": {},
   "outputs": [],
   "source": []
  },
  {
   "cell_type": "code",
   "execution_count": null,
   "id": "d6601997",
   "metadata": {},
   "outputs": [],
   "source": []
  },
  {
   "cell_type": "markdown",
   "id": "06e7e292",
   "metadata": {},
   "source": [
    "## Random numbers"
   ]
  },
  {
   "cell_type": "markdown",
   "id": "b4894df6",
   "metadata": {},
   "source": [
    "Write a function that generates a random password with a user-specified length. The password should contain a mix of uppercase letters, lowercase letters, digits, and special characters. Ensure that the generated password contains at least one character from each category.\n",
    "\n",
    "*Hint: you might want to use [string](https://docs.python.org/3/library/string.html) module*"
   ]
  },
  {
   "cell_type": "code",
   "execution_count": null,
   "id": "f2ca0361",
   "metadata": {},
   "outputs": [],
   "source": []
  },
  {
   "cell_type": "code",
   "execution_count": null,
   "id": "d12739e9",
   "metadata": {},
   "outputs": [],
   "source": []
  }
 ],
 "metadata": {
  "kernelspec": {
   "display_name": "Python 3 (ipykernel)",
   "language": "python",
   "name": "python3"
  },
  "language_info": {
   "codemirror_mode": {
    "name": "ipython",
    "version": 3
   },
   "file_extension": ".py",
   "mimetype": "text/x-python",
   "name": "python",
   "nbconvert_exporter": "python",
   "pygments_lexer": "ipython3",
   "version": "3.11.5"
  }
 },
 "nbformat": 4,
 "nbformat_minor": 5
}
