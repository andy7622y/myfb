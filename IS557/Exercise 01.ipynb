{
  "cells": [
    {
      "cell_type": "markdown",
      "metadata": {
        "id": "rSkl0qozGSFV"
      },
      "source": [
        "# Note on Exercises\n",
        "Some exercises may involve concepts that have not been covered in the class. This is intentional and infrequent. In such cases, you are encouraged to use the internet to find solutions. Being able to research and find solutions online is a crucial skill for any programmer."
      ]
    },
    {
      "cell_type": "markdown",
      "metadata": {
        "id": "xwDEV0m0GSFY"
      },
      "source": [
        "## Use Python as a calculator\n"
      ]
    },
    {
      "cell_type": "markdown",
      "metadata": {
        "id": "B-eQ4QsuGSFY"
      },
      "source": [
        "### What is 100 divided by 7?"
      ]
    },
    {
      "cell_type": "code",
      "execution_count": 1,
      "metadata": {
        "id": "iU0zdEjeGSFY",
        "outputId": "7e2dc5cf-e2e6-4939-f526-e4d85ea4ac8f",
        "colab": {
          "base_uri": "https://localhost:8080/"
        }
      },
      "outputs": [
        {
          "output_type": "execute_result",
          "data": {
            "text/plain": [
              "14.29"
            ]
          },
          "metadata": {},
          "execution_count": 1
        }
      ],
      "source": [
        "round(100/7, 2)"
      ]
    },
    {
      "cell_type": "markdown",
      "metadata": {
        "id": "04-GKFPIGSFa"
      },
      "source": [
        "### Is it correct that 5124 divided by 21 is greater than 5 by the power of 3?"
      ]
    },
    {
      "cell_type": "code",
      "execution_count": 2,
      "metadata": {
        "id": "QQwqYnTJGSFb",
        "outputId": "e617f770-ab48-4a3e-93d9-11bfc1c82e31",
        "colab": {
          "base_uri": "https://localhost:8080/"
        }
      },
      "outputs": [
        {
          "output_type": "execute_result",
          "data": {
            "text/plain": [
              "True"
            ]
          },
          "metadata": {},
          "execution_count": 2
        }
      ],
      "source": [
        "5124 / 21 > 5 ** 3"
      ]
    },
    {
      "cell_type": "markdown",
      "metadata": {
        "id": "RfcfG8MTGSFc"
      },
      "source": [
        "### What is the **maximum** of the values (55 divided by 9), (12 multiplied by 3), and (5 multiplied by 5)?"
      ]
    },
    {
      "cell_type": "code",
      "execution_count": 5,
      "metadata": {
        "id": "hpbmvwbWGSFd",
        "outputId": "7b95abb3-7ce3-496f-8341-3e6dd2dce0b3",
        "colab": {
          "base_uri": "https://localhost:8080/"
        }
      },
      "outputs": [
        {
          "output_type": "execute_result",
          "data": {
            "text/plain": [
              "36"
            ]
          },
          "metadata": {},
          "execution_count": 5
        }
      ],
      "source": [
        "a = 55/9\n",
        "b = 12*3\n",
        "c = 5*5\n",
        "max(a, b, c)\n"
      ]
    },
    {
      "cell_type": "markdown",
      "metadata": {
        "id": "QzFILsJMGSFd"
      },
      "source": [
        "### Compute the sum of 0.1 and 0.2! Try and explain what happened?"
      ]
    },
    {
      "cell_type": "code",
      "execution_count": null,
      "metadata": {
        "id": "7dJnHu7LGSFd",
        "outputId": "9931faa4-78e4-408d-9d57-8f22d5dfee6a"
      },
      "outputs": [
        {
          "data": {
            "text/plain": [
              "0.30000000000000004"
            ]
          },
          "execution_count": 6,
          "metadata": {},
          "output_type": "execute_result"
        }
      ],
      "source": [
        "0.1 + 0.2"
      ]
    },
    {
      "cell_type": "markdown",
      "metadata": {
        "id": "yU8VBdYpGSFe"
      },
      "source": [
        "### Find another computation with a similar effect\n"
      ]
    },
    {
      "cell_type": "code",
      "source": [
        "0.2 * 0.7"
      ],
      "metadata": {
        "id": "bct7jXcTKBXF",
        "outputId": "d9f7caa6-ab9d-4df2-abe5-27e8d4d3c64e",
        "colab": {
          "base_uri": "https://localhost:8080/"
        }
      },
      "execution_count": 6,
      "outputs": [
        {
          "output_type": "execute_result",
          "data": {
            "text/plain": [
              "0.13999999999999999"
            ]
          },
          "metadata": {},
          "execution_count": 6
        }
      ]
    },
    {
      "cell_type": "code",
      "execution_count": null,
      "metadata": {
        "id": "1PfuyIUhGSFe",
        "outputId": "5130fef9-5a0a-4fc6-b904-6f518e820810"
      },
      "outputs": [
        {
          "data": {
            "text/plain": [
              "0.3"
            ]
          },
          "execution_count": 35,
          "metadata": {},
          "output_type": "execute_result"
        }
      ],
      "source": [
        "round(0.1 + 0.2, 1)"
      ]
    },
    {
      "cell_type": "markdown",
      "metadata": {
        "id": "bmSaqwhlGSFe"
      },
      "source": [
        "## Working with Strings"
      ]
    },
    {
      "cell_type": "code",
      "execution_count": null,
      "metadata": {
        "collapsed": true,
        "id": "J-7J5ikpGSFf"
      },
      "outputs": [],
      "source": []
    },
    {
      "cell_type": "markdown",
      "metadata": {
        "id": "G3la1LEGGSFf"
      },
      "source": [
        "### Put \"Hello\" in a variable and print it"
      ]
    },
    {
      "cell_type": "code",
      "execution_count": 7,
      "metadata": {
        "id": "lPMYsaHvGSFf",
        "outputId": "d6dea62c-01a4-4afa-dbe0-74d639f5f4f4",
        "colab": {
          "base_uri": "https://localhost:8080/",
          "height": 52
        }
      },
      "outputs": [
        {
          "output_type": "stream",
          "name": "stdout",
          "text": [
            "Hello\n"
          ]
        },
        {
          "output_type": "execute_result",
          "data": {
            "text/plain": [
              "'Hello'"
            ],
            "application/vnd.google.colaboratory.intrinsic+json": {
              "type": "string"
            }
          },
          "metadata": {},
          "execution_count": 7
        }
      ],
      "source": [
        "s = \"Hello\"\n",
        "print(s)\n",
        "s"
      ]
    },
    {
      "cell_type": "markdown",
      "metadata": {
        "id": "U_xMb5kQGSFf"
      },
      "source": [
        "### Put \"World!\" in another variable. Concatenate both strings and print them"
      ]
    },
    {
      "cell_type": "code",
      "execution_count": 8,
      "metadata": {
        "id": "qkCySWPMGSFf",
        "outputId": "3258a4d4-69b7-437f-d039-d9e3a69cbce2",
        "colab": {
          "base_uri": "https://localhost:8080/"
        }
      },
      "outputs": [
        {
          "output_type": "stream",
          "name": "stdout",
          "text": [
            "Hello World!\n"
          ]
        }
      ],
      "source": [
        "w = \"World!\"\n",
        "print(s + \" \" + w)"
      ]
    },
    {
      "cell_type": "markdown",
      "metadata": {
        "id": "r1jIz902GSFf"
      },
      "source": [
        "### Print the string 'Don't try this at home!' in capital letters"
      ]
    },
    {
      "cell_type": "code",
      "execution_count": 9,
      "metadata": {
        "id": "XTGl64j8GSFf",
        "outputId": "0b715bac-0d04-4961-a184-4b453e74cbe1",
        "colab": {
          "base_uri": "https://localhost:8080/",
          "height": 35
        }
      },
      "outputs": [
        {
          "output_type": "execute_result",
          "data": {
            "text/plain": [
              "\"Don'T Try This At Home!\""
            ],
            "application/vnd.google.colaboratory.intrinsic+json": {
              "type": "string"
            }
          },
          "metadata": {},
          "execution_count": 9
        }
      ],
      "source": [
        "string1 =  \"Don't try this at home!\"\n",
        "string1.upper()\n",
        "string1.title()"
      ]
    },
    {
      "cell_type": "code",
      "source": [
        "string11 =  \"Don\\\"t try this at home!\"\n",
        "string11.upper()"
      ],
      "metadata": {
        "id": "Fs2cLsXoMjx2",
        "outputId": "79a1f18a-4197-4455-b714-a1cc352a3cca",
        "colab": {
          "base_uri": "https://localhost:8080/",
          "height": 35
        }
      },
      "execution_count": 11,
      "outputs": [
        {
          "output_type": "execute_result",
          "data": {
            "text/plain": [
              "'DON\"T TRY THIS AT HOME!'"
            ],
            "application/vnd.google.colaboratory.intrinsic+json": {
              "type": "string"
            }
          },
          "metadata": {},
          "execution_count": 11
        }
      ]
    },
    {
      "cell_type": "markdown",
      "source": [
        "# **do not need print cuz it didn't modify the orginal string?**"
      ],
      "metadata": {
        "id": "YpxF2rmiL4hO"
      }
    },
    {
      "cell_type": "markdown",
      "metadata": {
        "id": "D2rpu2xmGSFg"
      },
      "source": [
        "### Convert the string 'Mannheimer Schloss' to the following list of strings: ['Ma', '', 'hei', 'er Schloss']"
      ]
    },
    {
      "cell_type": "code",
      "source": [
        "import re"
      ],
      "metadata": {
        "id": "yEx1su1ANy3u"
      },
      "execution_count": 15,
      "outputs": []
    },
    {
      "cell_type": "code",
      "execution_count": 16,
      "metadata": {
        "scrolled": true,
        "id": "sXyb5C7iGSFg",
        "outputId": "a2a3e6a6-146c-499c-bb24-43d66c08859e",
        "colab": {
          "base_uri": "https://localhost:8080/"
        }
      },
      "outputs": [
        {
          "output_type": "execute_result",
          "data": {
            "text/plain": [
              "['Ma', '', 'hei', 'er Schloss']"
            ]
          },
          "metadata": {},
          "execution_count": 16
        }
      ],
      "source": [
        "a = \"Mannheimer Schloss\"\n",
        "result = re.split(r\"[nm]\", a)\n",
        "result"
      ]
    },
    {
      "cell_type": "code",
      "source": [
        "a = \"Mannheimer Schloss\"\n",
        "\n",
        "a.replace(\"n\", \"m\").split(\"m\") # replace n with m then split with m"
      ],
      "metadata": {
        "id": "-S7lvW77NTeq",
        "outputId": "1b8602c8-df32-400e-f97e-b050eeba4d07",
        "colab": {
          "base_uri": "https://localhost:8080/"
        }
      },
      "execution_count": 17,
      "outputs": [
        {
          "output_type": "execute_result",
          "data": {
            "text/plain": [
              "['Ma', '', 'hei', 'er Schloss']"
            ]
          },
          "metadata": {},
          "execution_count": 17
        }
      ]
    },
    {
      "cell_type": "markdown",
      "metadata": {
        "id": "Xu5DhUhXGSFg"
      },
      "source": [
        "### How many characters does the string \"This is our first exercise!\" have?"
      ]
    },
    {
      "cell_type": "code",
      "execution_count": null,
      "metadata": {
        "id": "HBrp2D_DGSFg",
        "outputId": "a96756c0-bfc4-49b7-d498-ea75a022efca"
      },
      "outputs": [
        {
          "data": {
            "text/plain": [
              "27"
            ]
          },
          "execution_count": 31,
          "metadata": {},
          "output_type": "execute_result"
        }
      ],
      "source": [
        "len(\"This is our first exercise!\")"
      ]
    },
    {
      "cell_type": "markdown",
      "metadata": {
        "id": "SKifjBp1GSFg"
      },
      "source": [
        "### How many digits has the number 1238970981237235679?"
      ]
    },
    {
      "cell_type": "code",
      "execution_count": 20,
      "metadata": {
        "id": "zx2G9k85GSFg",
        "outputId": "59fb3c90-5788-401c-da0a-39441aee5677",
        "colab": {
          "base_uri": "https://localhost:8080/"
        }
      },
      "outputs": [
        {
          "output_type": "execute_result",
          "data": {
            "text/plain": [
              "2"
            ]
          },
          "metadata": {},
          "execution_count": 20
        }
      ],
      "source": [
        "len(str(1238970981237235679))  # len(string/list)\n",
        "len([234,55])"
      ]
    },
    {
      "cell_type": "code",
      "source": [
        "len(str(1234)*2)"
      ],
      "metadata": {
        "id": "huQ-BnBdOxTk",
        "outputId": "646ff942-7d70-4d33-b7ec-9451994a7af4",
        "colab": {
          "base_uri": "https://localhost:8080/"
        }
      },
      "execution_count": 24,
      "outputs": [
        {
          "output_type": "execute_result",
          "data": {
            "text/plain": [
              "8"
            ]
          },
          "metadata": {},
          "execution_count": 24
        }
      ]
    },
    {
      "cell_type": "markdown",
      "metadata": {
        "id": "tHpn11tNGSFh"
      },
      "source": [
        "### Store a string with multiple line breaks in a variable and print it"
      ]
    },
    {
      "cell_type": "code",
      "execution_count": null,
      "metadata": {
        "id": "LOsKHRvbGSFh",
        "outputId": "88eea001-b1f6-4964-b5f7-42c367d8da54"
      },
      "outputs": [
        {
          "data": {
            "text/plain": [
              "'this is line1,\\nthis is line2,\\nthis is line3'"
            ]
          },
          "execution_count": 37,
          "metadata": {},
          "output_type": "execute_result"
        }
      ],
      "source": [
        "ms = \"\"\"this is line1,\n",
        "this is line2,\n",
        "this is line3\"\"\"\n",
        "ms"
      ]
    },
    {
      "cell_type": "code",
      "execution_count": 27,
      "metadata": {
        "id": "Hb7--3e8GSFh",
        "outputId": "561997aa-e28a-4304-c4d2-60c15ae40a0a",
        "colab": {
          "base_uri": "https://localhost:8080/"
        }
      },
      "outputs": [
        {
          "output_type": "stream",
          "name": "stdout",
          "text": [
            "1,\n",
            "2,\n",
            "3,\n",
            "4\n"
          ]
        }
      ],
      "source": [
        "ad = \"\"\"1,\n",
        "2,\n",
        "3,\n",
        "4\"\"\"\n",
        "print(ad)"
      ]
    },
    {
      "cell_type": "code",
      "source": [
        "ada = \"the line \\\n",
        "and it\"\n",
        "print(ada)  # \"\\\" to connect the next line"
      ],
      "metadata": {
        "id": "DmlyQ-mpP842",
        "outputId": "bc6f692a-f771-41f5-cd7d-8b07bde66c47",
        "colab": {
          "base_uri": "https://localhost:8080/"
        }
      },
      "execution_count": 31,
      "outputs": [
        {
          "output_type": "stream",
          "name": "stdout",
          "text": [
            "the line and it\n"
          ]
        }
      ]
    }
  ],
  "metadata": {
    "kernelspec": {
      "display_name": "Python 3",
      "language": "python",
      "name": "python3"
    },
    "language_info": {
      "codemirror_mode": {
        "name": "ipython",
        "version": 3
      },
      "file_extension": ".py",
      "mimetype": "text/x-python",
      "name": "python",
      "nbconvert_exporter": "python",
      "pygments_lexer": "ipython3",
      "version": "3.8.8"
    },
    "toc": {
      "colors": {
        "hover_highlight": "#DAA520",
        "navigate_num": "#000000",
        "navigate_text": "#333333",
        "running_highlight": "#FF0000",
        "selected_highlight": "#FFD700",
        "sidebar_border": "#EEEEEE",
        "wrapper_background": "#FFFFFF"
      },
      "moveMenuLeft": true,
      "nav_menu": {
        "height": "281px",
        "width": "252px"
      },
      "navigate_menu": true,
      "number_sections": true,
      "sideBar": true,
      "threshold": 4,
      "toc_cell": false,
      "toc_section_display": "block",
      "toc_window_display": false,
      "widenNotebook": false
    },
    "varInspector": {
      "cols": {
        "lenName": 16,
        "lenType": 16,
        "lenVar": 40
      },
      "kernels_config": {
        "python": {
          "delete_cmd_postfix": "",
          "delete_cmd_prefix": "del ",
          "library": "var_list.py",
          "varRefreshCmd": "print(var_dic_list())"
        },
        "r": {
          "delete_cmd_postfix": ") ",
          "delete_cmd_prefix": "rm(",
          "library": "var_list.r",
          "varRefreshCmd": "cat(var_dic_list()) "
        }
      },
      "types_to_exclude": [
        "module",
        "function",
        "builtin_function_or_method",
        "instance",
        "_Feature"
      ],
      "window_display": false
    },
    "colab": {
      "provenance": []
    }
  },
  "nbformat": 4,
  "nbformat_minor": 0
}