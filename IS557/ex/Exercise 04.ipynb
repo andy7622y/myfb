{
 "cells": [
  {
   "cell_type": "markdown",
   "id": "111f0c0e",
   "metadata": {},
   "source": [
    "### Vocabulary\n",
    "**Class** is a category of objects. The class defines all the common properties of the different objects that belong to it.\n",
    "\n",
    "There are predefined classes in python (**types**) to work with numbers (```int```, ```float```), strings (```string```), or more complicated data (```lists```, ```dictrionaries```)\n",
    "Classes are basically user defined types.\n",
    "\n",
    "Class defines operations that can be done with objects that belong to it. These are implemented as functions.\n",
    "Unlike normal functions these belong to the class. Such functions are also called **methods**. E.g. ```\"hello\".upper()``` where upper is a **method** of **class** ```string```.\n",
    "\n",
    "**Objects** are self-contained entities that belongs to a certain **class**. They contain data. E.g. ```\"hello\"``` is an object of class string, ```[1, 2]``` is an object of class list. Objects are also called **instances**."
   ]
  },
  {
   "cell_type": "markdown",
   "id": "4f65b3f6",
   "metadata": {},
   "source": [
    "### Create a class 'Book' which should include the following attributes: name, author_name, price, and publisher. Create two instances of the class."
   ]
  },
  {
   "cell_type": "code",
   "execution_count": null,
   "id": "334f026d",
   "metadata": {},
   "outputs": [],
   "source": []
  },
  {
   "cell_type": "markdown",
   "id": "d4d6caf9",
   "metadata": {},
   "source": [
    "### Define an method to obtain the url of a book. The url should be in this form `http://publisher.com/author_name/book_name`"
   ]
  },
  {
   "cell_type": "code",
   "execution_count": null,
   "id": "dde840ec",
   "metadata": {},
   "outputs": [],
   "source": []
  },
  {
   "cell_type": "code",
   "execution_count": null,
   "id": "754b2626",
   "metadata": {},
   "outputs": [],
   "source": []
  },
  {
   "cell_type": "markdown",
   "id": "3c728b8c",
   "metadata": {},
   "source": [
    "### Overwrite magic methods:\n",
    "1. Modify ```__str__``` method to display all the attributes of the book. \n",
    "2. Modify the ```__add__``` method to add the price of two books.  \n",
    "3. Modify the ```__eq__``` method to determine whether the name, author_name, publisher of two books are same\n",
    "4. Modify the ```__gt__``` method to determine whether price of one book is greater than the other"
   ]
  },
  {
   "cell_type": "code",
   "execution_count": null,
   "id": "21a011b3",
   "metadata": {},
   "outputs": [],
   "source": []
  },
  {
   "cell_type": "code",
   "execution_count": null,
   "id": "6a6874c9",
   "metadata": {},
   "outputs": [],
   "source": []
  },
  {
   "cell_type": "markdown",
   "id": "ed8b6efd",
   "metadata": {},
   "source": [
    "### Define a class 'Course' with attributes name, duration and a list of lectures. Create an istance of the course."
   ]
  },
  {
   "cell_type": "code",
   "execution_count": null,
   "id": "a0d05cf9",
   "metadata": {},
   "outputs": [],
   "source": []
  },
  {
   "cell_type": "code",
   "execution_count": null,
   "id": "54ce5354",
   "metadata": {},
   "outputs": [],
   "source": []
  },
  {
   "cell_type": "markdown",
   "id": "7d70431e",
   "metadata": {},
   "source": [
    "### Define a class 'Student' with attributes name, email, age and course (include the course instance you created previously, the student only has one course). Write a function to add an attribute grade (use a dictionary and initialize them to 0) for each lecture in the course. Write a function to add grades to the lectures for a student instance. "
   ]
  },
  {
   "cell_type": "code",
   "execution_count": null,
   "id": "e813ed49",
   "metadata": {},
   "outputs": [],
   "source": []
  },
  {
   "cell_type": "code",
   "execution_count": null,
   "id": "17a37279",
   "metadata": {},
   "outputs": [],
   "source": []
  },
  {
   "cell_type": "code",
   "execution_count": null,
   "id": "33db3adf",
   "metadata": {},
   "outputs": [],
   "source": []
  },
  {
   "cell_type": "markdown",
   "id": "db898623",
   "metadata": {},
   "source": [
    "### Create a class Clock with attributes hour, minute and second. Write a function to assign a current time. Write a function Tick to increment the clock by 1 second.\n",
    "hint: use the now function of the datetime library!"
   ]
  },
  {
   "cell_type": "code",
   "execution_count": null,
   "id": "6ccb8a8f",
   "metadata": {},
   "outputs": [],
   "source": []
  },
  {
   "cell_type": "code",
   "execution_count": null,
   "id": "3177038a",
   "metadata": {},
   "outputs": [],
   "source": []
  }
 ],
 "metadata": {
  "kernelspec": {
   "display_name": "Python 3 (ipykernel)",
   "language": "python",
   "name": "python3"
  },
  "language_info": {
   "codemirror_mode": {
    "name": "ipython",
    "version": 3
   },
   "file_extension": ".py",
   "mimetype": "text/x-python",
   "name": "python",
   "nbconvert_exporter": "python",
   "pygments_lexer": "ipython3",
   "version": "3.11.5"
  }
 },
 "nbformat": 4,
 "nbformat_minor": 5
}
