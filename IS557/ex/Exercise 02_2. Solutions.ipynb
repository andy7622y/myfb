{
 "cells": [
  {
   "cell_type": "markdown",
   "metadata": {},
   "source": [
    "## Dictionaries"
   ]
  },
  {
   "cell_type": "markdown",
   "metadata": {},
   "source": [
    "### Obtaining Data for this Exercise\n",
    "\n",
    "1. Go to https://query.wikidata.org/ and open the example \"Mayors that are any kind of domesticated animal\"\n",
    "2. Run this query – it will give you a list of all entities on Wikipedia that match the description\n",
    "3. Download the data and save the JSON file in the same folder as this Jupyter Notebook\n",
    "4. Run the following cell to load the data:"
   ]
  },
  {
   "cell_type": "code",
   "execution_count": 2,
   "metadata": {},
   "outputs": [
    {
     "data": {
      "text/plain": [
       "{'head': {'vars': ['image', 'speciesLabel', 'mayorLabel', 'placeLabel']},\n",
       " 'results': {'bindings': [{'speciesLabel': {'xml:lang': 'en',\n",
       "     'type': 'literal',\n",
       "     'value': 'dog'},\n",
       "    'mayorLabel': {'xml:lang': 'en',\n",
       "     'type': 'literal',\n",
       "     'value': 'Mayor Max III'},\n",
       "    'placeLabel': {'xml:lang': 'en',\n",
       "     'type': 'literal',\n",
       "     'value': 'Idyllwild-Pine Cove'}},\n",
       "   {'speciesLabel': {'xml:lang': 'en', 'type': 'literal', 'value': 'dog'},\n",
       "    'mayorLabel': {'xml:lang': 'en',\n",
       "     'type': 'literal',\n",
       "     'value': 'Bosco the dog'},\n",
       "    'placeLabel': {'xml:lang': 'en', 'type': 'literal', 'value': 'Sunol'}},\n",
       "   {'speciesLabel': {'xml:lang': 'en', 'type': 'literal', 'value': 'dog'},\n",
       "    'mayorLabel': {'xml:lang': 'en',\n",
       "     'type': 'literal',\n",
       "     'value': 'Duke the Dog'},\n",
       "    'placeLabel': {'xml:lang': 'en',\n",
       "     'type': 'literal',\n",
       "     'value': 'Cormorant Township'}}]}}"
      ]
     },
     "execution_count": 2,
     "metadata": {},
     "output_type": "execute_result"
    }
   ],
   "source": [
    "import json\n",
    "\n",
    "with open('query.json') as fp:\n",
    "    mydict = json.load(fp)\n",
    "mydict"
   ]
  },
  {
   "cell_type": "markdown",
   "metadata": {},
   "source": [
    "#### For the following tasks, use the dictionary that you just loaded."
   ]
  },
  {
   "cell_type": "markdown",
   "metadata": {},
   "source": [
    "### Print the list of variables contained in your result"
   ]
  },
  {
   "cell_type": "code",
   "execution_count": 3,
   "metadata": {},
   "outputs": [
    {
     "data": {
      "text/plain": [
       "['image', 'speciesLabel', 'mayorLabel', 'placeLabel']"
      ]
     },
     "execution_count": 3,
     "metadata": {},
     "output_type": "execute_result"
    }
   ],
   "source": [
    "mydict['head']['vars']"
   ]
  },
  {
   "cell_type": "markdown",
   "metadata": {},
   "source": [
    "### Print the number of results that you obtained"
   ]
  },
  {
   "cell_type": "code",
   "execution_count": 5,
   "metadata": {},
   "outputs": [
    {
     "data": {
      "text/plain": [
       "3"
      ]
     },
     "execution_count": 5,
     "metadata": {},
     "output_type": "execute_result"
    }
   ],
   "source": [
    "len(mydict['results']['bindings'])"
   ]
  },
  {
   "cell_type": "markdown",
   "metadata": {},
   "source": [
    "### Print all places contained in your result"
   ]
  },
  {
   "cell_type": "code",
   "execution_count": 6,
   "metadata": {},
   "outputs": [
    {
     "name": "stdout",
     "output_type": "stream",
     "text": [
      "Idyllwild-Pine Cove\n",
      "Sunol\n",
      "Cormorant Township\n"
     ]
    }
   ],
   "source": [
    "for result in mydict['results']['bindings']:\n",
    "    print(result['placeLabel']['value'])"
   ]
  },
  {
   "cell_type": "markdown",
   "metadata": {},
   "source": [
    "### Write a script that tests whether each mayor is a dog"
   ]
  },
  {
   "cell_type": "code",
   "execution_count": 7,
   "metadata": {},
   "outputs": [
    {
     "name": "stdout",
     "output_type": "stream",
     "text": [
      "True\n",
      "True\n",
      "True\n"
     ]
    }
   ],
   "source": [
    "for result in mydict['results']['bindings']:\n",
    "    print(result['speciesLabel']['value'] == 'dog')"
   ]
  },
  {
   "cell_type": "markdown",
   "metadata": {},
   "source": [
    "### Print all mayors that are not called \"… the dog\" or \"… the Dog\""
   ]
  },
  {
   "cell_type": "code",
   "execution_count": 11,
   "metadata": {},
   "outputs": [
    {
     "name": "stdout",
     "output_type": "stream",
     "text": [
      "Mayor Max III\n"
     ]
    }
   ],
   "source": [
    "for result in mydict['results']['bindings']:\n",
    "    suffix = result['mayorLabel']['value'][-7:]\n",
    "    if not suffix == 'the dog' and not suffix == 'the Dog':\n",
    "        print(result['mayorLabel']['value'])"
   ]
  },
  {
   "cell_type": "code",
   "execution_count": 3,
   "metadata": {},
   "outputs": [
    {
     "name": "stdout",
     "output_type": "stream",
     "text": [
      "Mayor Max III\n"
     ]
    }
   ],
   "source": [
    "for result in mydict['results']['bindings']:\n",
    "    label = result['mayorLabel']['value']\n",
    "    if not 'the dog' in label and not 'the Dog' in label:\n",
    "        print(result['mayorLabel']['value'])"
   ]
  },
  {
   "cell_type": "markdown",
   "metadata": {},
   "source": [
    "### Try out other examples on https://query.wikidata.org/ and see what kind of data you can extract from the dictionaries"
   ]
  },
  {
   "cell_type": "code",
   "execution_count": null,
   "metadata": {},
   "outputs": [],
   "source": []
  },
  {
   "cell_type": "code",
   "execution_count": null,
   "metadata": {},
   "outputs": [],
   "source": []
  },
  {
   "cell_type": "code",
   "execution_count": null,
   "metadata": {},
   "outputs": [],
   "source": []
  }
 ],
 "metadata": {
  "kernelspec": {
   "display_name": "Python 3 (ipykernel)",
   "language": "python",
   "name": "python3"
  },
  "language_info": {
   "codemirror_mode": {
    "name": "ipython",
    "version": 3
   },
   "file_extension": ".py",
   "mimetype": "text/x-python",
   "name": "python",
   "nbconvert_exporter": "python",
   "pygments_lexer": "ipython3",
   "version": "3.11.5"
  }
 },
 "nbformat": 4,
 "nbformat_minor": 4
}
