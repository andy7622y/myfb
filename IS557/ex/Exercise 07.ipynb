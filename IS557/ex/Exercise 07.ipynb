{
 "cells": [
  {
   "cell_type": "markdown",
   "id": "bbe2ee56",
   "metadata": {},
   "source": [
    "# For these tasks try to make your code as concise as possible. Try to avoid using for loops"
   ]
  },
  {
   "cell_type": "markdown",
   "id": "2b0bfd45",
   "metadata": {},
   "source": [
    "## Create an numpy array of length 100 with 0s on all even position and 3s on all odd positions"
   ]
  },
  {
   "cell_type": "code",
   "execution_count": null,
   "id": "fe30382a",
   "metadata": {},
   "outputs": [],
   "source": []
  },
  {
   "cell_type": "markdown",
   "id": "0a870d1c",
   "metadata": {},
   "source": [
    "## Create a numpy array containing number from 100 to 200\n",
    "Hint: there is a special function for that similar to range for lists"
   ]
  },
  {
   "cell_type": "code",
   "execution_count": null,
   "id": "934be0f0",
   "metadata": {},
   "outputs": [],
   "source": []
  },
  {
   "cell_type": "code",
   "execution_count": null,
   "id": "d56d33ea",
   "metadata": {},
   "outputs": [],
   "source": []
  },
  {
   "cell_type": "markdown",
   "id": "8a299314",
   "metadata": {},
   "source": [
    "## Compute a Euclidean distance between two points represented by numpy arrays"
   ]
  },
  {
   "cell_type": "code",
   "execution_count": null,
   "id": "7891c703",
   "metadata": {},
   "outputs": [],
   "source": []
  },
  {
   "cell_type": "code",
   "execution_count": null,
   "id": "00f9d07c",
   "metadata": {},
   "outputs": [],
   "source": []
  },
  {
   "cell_type": "markdown",
   "id": "412b77f6",
   "metadata": {},
   "source": [
    "## Create a 4x6 array containing 1s on the borders and 0s inside"
   ]
  },
  {
   "cell_type": "code",
   "execution_count": null,
   "id": "7f04c387",
   "metadata": {},
   "outputs": [],
   "source": []
  },
  {
   "cell_type": "code",
   "execution_count": null,
   "id": "ccf61aa8",
   "metadata": {},
   "outputs": [],
   "source": []
  },
  {
   "cell_type": "code",
   "execution_count": null,
   "id": "4b009fbd",
   "metadata": {},
   "outputs": [],
   "source": []
  },
  {
   "cell_type": "markdown",
   "id": "2e29914a",
   "metadata": {},
   "source": [
    "## Swap the first and the third rows of this array"
   ]
  },
  {
   "cell_type": "code",
   "execution_count": null,
   "id": "8815415d",
   "metadata": {},
   "outputs": [],
   "source": []
  },
  {
   "cell_type": "code",
   "execution_count": null,
   "id": "07c75cd0",
   "metadata": {},
   "outputs": [],
   "source": []
  },
  {
   "cell_type": "code",
   "execution_count": null,
   "id": "8417a476",
   "metadata": {},
   "outputs": [],
   "source": []
  },
  {
   "cell_type": "markdown",
   "id": "f2c67328",
   "metadata": {},
   "source": [
    "## Create a 8x8 array to represent a chess board, such as that 0s correspond to white squares and 1s to black squares"
   ]
  },
  {
   "cell_type": "code",
   "execution_count": null,
   "id": "7da3014c",
   "metadata": {},
   "outputs": [],
   "source": []
  },
  {
   "cell_type": "code",
   "execution_count": null,
   "id": "e310c1cf",
   "metadata": {},
   "outputs": [],
   "source": []
  },
  {
   "cell_type": "markdown",
   "id": "2cae4daa",
   "metadata": {},
   "source": [
    "## Ploting trajectory\n",
    "If an object is thrown into the air with a velocity $v$ and angle $\\alpha$ from horizontal then its trajectory can be computed using the following formula:\n",
    "\n",
    "$y = x\\tan\\alpha - \\frac{gx^2}{2v^2\\cos^2\\alpha}$.\n",
    "\n",
    "Plot the trajectory of an object for a specified $v$ and $\\alpha$, experiment with different values of $\\alpha$ by ploting multiple trajectories on the same plot.\n",
    "\n",
    "Hint: np.linspace(start, end, N) function creates a numpy array with N numbers equally spaced between start and end"
   ]
  },
  {
   "cell_type": "code",
   "execution_count": null,
   "id": "ca216505",
   "metadata": {},
   "outputs": [],
   "source": []
  },
  {
   "cell_type": "code",
   "execution_count": null,
   "id": "25299d9e",
   "metadata": {},
   "outputs": [],
   "source": []
  }
 ],
 "metadata": {
  "kernelspec": {
   "display_name": "Python 3 (ipykernel)",
   "language": "python",
   "name": "python3"
  },
  "language_info": {
   "codemirror_mode": {
    "name": "ipython",
    "version": 3
   },
   "file_extension": ".py",
   "mimetype": "text/x-python",
   "name": "python",
   "nbconvert_exporter": "python",
   "pygments_lexer": "ipython3",
   "version": "3.11.5"
  }
 },
 "nbformat": 4,
 "nbformat_minor": 5
}
