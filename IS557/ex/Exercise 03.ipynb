{
 "cells": [
  {
   "cell_type": "markdown",
   "id": "65932f35",
   "metadata": {},
   "source": [
    "### Write a function that takes 3 input parameters and returns product of these values\n",
    "Example:\n",
    "    \n",
    "Input: 2,3,5\n",
    "\n",
    "Return: 30"
   ]
  },
  {
   "cell_type": "code",
   "execution_count": null,
   "id": "7069c313",
   "metadata": {},
   "outputs": [],
   "source": []
  },
  {
   "cell_type": "markdown",
   "id": "ab8f8eee",
   "metadata": {},
   "source": [
    "### Modify your function such that it can take an arbitrary number of input parameters, which all get multiplied with each other"
   ]
  },
  {
   "cell_type": "code",
   "execution_count": null,
   "id": "83d25692",
   "metadata": {},
   "outputs": [],
   "source": []
  },
  {
   "cell_type": "markdown",
   "id": "13b341ea",
   "metadata": {},
   "source": [
    "### Write a Python function to check if the input variable is an integer.\n",
    "should return True, if the input x is an integer, False otherwise"
   ]
  },
  {
   "cell_type": "code",
   "execution_count": null,
   "id": "35c305c5",
   "metadata": {},
   "outputs": [],
   "source": []
  },
  {
   "cell_type": "markdown",
   "id": "7119adab",
   "metadata": {},
   "source": [
    "### Write a Python function that takes an int as a parameter and checks if the number is prime or not.\n"
   ]
  },
  {
   "cell_type": "code",
   "execution_count": null,
   "id": "9feaea1c",
   "metadata": {},
   "outputs": [],
   "source": []
  },
  {
   "cell_type": "markdown",
   "id": "fe071088",
   "metadata": {},
   "source": [
    "### Use your function to create a list that contains all primes up to a given integer\n"
   ]
  },
  {
   "cell_type": "code",
   "execution_count": null,
   "id": "423986ea",
   "metadata": {},
   "outputs": [],
   "source": []
  },
  {
   "cell_type": "markdown",
   "id": "0a044f29",
   "metadata": {},
   "source": [
    "### Write a function that gets an integer as input and returns its cross sum\n",
    "\n",
    "cross sum of 1864 = 1+8+6+4 = 19"
   ]
  },
  {
   "cell_type": "code",
   "execution_count": null,
   "id": "4043d8bd",
   "metadata": {},
   "outputs": [],
   "source": []
  },
  {
   "cell_type": "markdown",
   "id": "5cebfcf8",
   "metadata": {},
   "source": [
    "### Write a function that simulates dice rolls (6-sided dices)\n",
    "- Write a function that has the number of dice rolls as the input parameter\n",
    "- The output is a map (dictionary) with the counts how often each result of a roll (1-6) occurred\n",
    "- You will need the randint() function from the random package for that task, see example usage below\n"
   ]
  },
  {
   "cell_type": "code",
   "execution_count": null,
   "id": "42bb670d",
   "metadata": {},
   "outputs": [],
   "source": [
    "# Try to run this code multiple times\n",
    "import random\n",
    "print(random.randint(1, 6))"
   ]
  },
  {
   "cell_type": "code",
   "execution_count": null,
   "id": "b7ccf35d",
   "metadata": {},
   "outputs": [],
   "source": []
  }
 ],
 "metadata": {
  "kernelspec": {
   "display_name": "Python 3 (ipykernel)",
   "language": "python",
   "name": "python3"
  },
  "language_info": {
   "codemirror_mode": {
    "name": "ipython",
    "version": 3
   },
   "file_extension": ".py",
   "mimetype": "text/x-python",
   "name": "python",
   "nbconvert_exporter": "python",
   "pygments_lexer": "ipython3",
   "version": "3.11.5"
  }
 },
 "nbformat": 4,
 "nbformat_minor": 5
}
