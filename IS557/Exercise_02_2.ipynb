{
  "cells": [
    {
      "cell_type": "markdown",
      "metadata": {
        "id": "view-in-github",
        "colab_type": "text"
      },
      "source": [
        "<a href=\"https://colab.research.google.com/github/andy7622y/myfb/blob/main/Exercise_02_2.ipynb\" target=\"_parent\"><img src=\"https://colab.research.google.com/assets/colab-badge.svg\" alt=\"Open In Colab\"/></a>"
      ]
    },
    {
      "cell_type": "markdown",
      "metadata": {
        "id": "3CR00j4OQ7Kb"
      },
      "source": [
        "## Dictionaries"
      ]
    },
    {
      "cell_type": "markdown",
      "metadata": {
        "id": "JGHK-v8yQ7Ke"
      },
      "source": [
        "### Obtaining Data for this Exercise\n",
        "\n",
        "1. Go to https://query.wikidata.org/ and open the example \"Mayors that are any kind of domesticated animal\"\n",
        "2. Run this query – it will give you a list of all entities on Wikipedia that match the description\n",
        "3. Download the data and save the JSON file in the same folder as this Jupyter Notebook\n",
        "4. Run the following cell to load the data:"
      ]
    },
    {
      "cell_type": "code",
      "execution_count": 2,
      "metadata": {
        "id": "1C_2R44rQ7Kg",
        "outputId": "8df1857a-9f8b-4283-86b6-d40aa246ebb9",
        "colab": {
          "base_uri": "https://localhost:8080/"
        }
      },
      "outputs": [
        {
          "output_type": "execute_result",
          "data": {
            "text/plain": [
              "[{'speciesLabel': 'dog', 'mayorLabel': 'Bosco the dog', 'placeLabel': 'Sunol'},\n",
              " {'speciesLabel': 'dog',\n",
              "  'mayorLabel': 'Duke the Dog',\n",
              "  'placeLabel': 'Cormorant Township'},\n",
              " {'speciesLabel': 'dog',\n",
              "  'mayorLabel': 'Mayor Max III',\n",
              "  'placeLabel': 'Idyllwild-Pine Cove'}]"
            ]
          },
          "metadata": {},
          "execution_count": 2
        }
      ],
      "source": [
        "import json\n",
        "\n",
        "with open('query.json') as fp:\n",
        "    mydict = json.load(fp)\n",
        "mydict"
      ]
    },
    {
      "cell_type": "markdown",
      "metadata": {
        "id": "j2ik_IVkQ7Kh"
      },
      "source": [
        "#### For the following tasks, use the dictionary that you just loaded."
      ]
    },
    {
      "cell_type": "markdown",
      "metadata": {
        "id": "jh603e5WQ7Ki"
      },
      "source": [
        "### Print the list of variables contained in your result"
      ]
    },
    {
      "cell_type": "code",
      "execution_count": 33,
      "metadata": {
        "id": "HhVfzIjRQ7Ki",
        "colab": {
          "base_uri": "https://localhost:8080/"
        },
        "outputId": "ed4477af-3cc9-4ca8-edbd-5e12232978df"
      },
      "outputs": [
        {
          "output_type": "stream",
          "name": "stdout",
          "text": [
            "dict_items([('speciesLabel', 'dog'), ('mayorLabel', 'Bosco the dog'), ('placeLabel', 'Sunol')])\n"
          ]
        }
      ],
      "source": [
        "allkeys = mydict[0].items()\n",
        "print(allkeys)"
      ]
    },
    {
      "cell_type": "code",
      "source": [
        "for i in mydict:\n",
        "  res = i.values()\n",
        "  print(res)"
      ],
      "metadata": {
        "colab": {
          "base_uri": "https://localhost:8080/"
        },
        "id": "Sm3mxdaxXInj",
        "outputId": "8854dde0-d99c-4274-c7e5-84cc2f58f7c1"
      },
      "execution_count": 38,
      "outputs": [
        {
          "output_type": "stream",
          "name": "stdout",
          "text": [
            "dict_values(['dog', 'Bosco the dog', 'Sunol'])\n",
            "dict_values(['dog', 'Duke the Dog', 'Cormorant Township'])\n",
            "dict_values(['dog', 'Mayor Max III', 'Idyllwild-Pine Cove'])\n"
          ]
        }
      ]
    },
    {
      "cell_type": "markdown",
      "metadata": {
        "id": "H6Hhy5SDQ7Ki"
      },
      "source": [
        "### Print the number of results that you obtained"
      ]
    },
    {
      "cell_type": "code",
      "execution_count": 37,
      "metadata": {
        "id": "g7BwFU-LQ7Kj",
        "colab": {
          "base_uri": "https://localhost:8080/"
        },
        "outputId": "d95e000a-d7e2-4b3c-c884-182a3c11c421"
      },
      "outputs": [
        {
          "output_type": "execute_result",
          "data": {
            "text/plain": [
              "3"
            ]
          },
          "metadata": {},
          "execution_count": 37
        }
      ],
      "source": [
        "len(res)"
      ]
    },
    {
      "cell_type": "markdown",
      "metadata": {
        "id": "fN4sB3LmQ7Kj"
      },
      "source": [
        "### Print all places contained in your result"
      ]
    },
    {
      "cell_type": "code",
      "execution_count": 40,
      "metadata": {
        "id": "JbEBhuVwQ7Kj",
        "colab": {
          "base_uri": "https://localhost:8080/"
        },
        "outputId": "b569ae65-24ba-49f9-ec3c-abf67901eec6"
      },
      "outputs": [
        {
          "output_type": "stream",
          "name": "stdout",
          "text": [
            "Sunol\n",
            "Cormorant Township\n",
            "Idyllwild-Pine Cove\n"
          ]
        }
      ],
      "source": [
        "for i in mydict:\n",
        "  if 'placeLabel' in i:\n",
        "    print(i['placeLabel'])\n"
      ]
    },
    {
      "cell_type": "markdown",
      "metadata": {
        "id": "c1Iimv0rQ7Kk"
      },
      "source": [
        "### Write a script that tests whether each mayor is a dog"
      ]
    },
    {
      "cell_type": "code",
      "execution_count": 47,
      "metadata": {
        "id": "2Pt-hrIUQ7Kk",
        "colab": {
          "base_uri": "https://localhost:8080/"
        },
        "outputId": "64a5103f-75f2-4aa0-975a-3b07e142d68d"
      },
      "outputs": [
        {
          "output_type": "stream",
          "name": "stdout",
          "text": [
            "dog\n",
            "dog\n",
            "not dog\n"
          ]
        }
      ],
      "source": [
        "for i in mydict:\n",
        "  if 'mayorLabel' in i:\n",
        "    if 'dog' in i['mayorLabel']:\n",
        "      print('dog')\n",
        "    elif 'Dog' in i['mayorLabel']:\n",
        "      print('dog')\n",
        "    else:\n",
        "      print('not dog')"
      ]
    },
    {
      "cell_type": "code",
      "source": [
        "for i in mydict:\n",
        "  if 'mayorLabel' in i:\n",
        "    print(i['mayorLabel'])\n",
        "    if 'dog' in i['mayorLabel'] or 'Dog' in i['mayorLabel']:\n",
        "      print('dog')\n",
        "    else:\n",
        "      print('not dog')"
      ],
      "metadata": {
        "colab": {
          "base_uri": "https://localhost:8080/"
        },
        "id": "fR4x3Nc4aqXj",
        "outputId": "a92e2535-89a4-4ca3-a143-0df875241f02"
      },
      "execution_count": 49,
      "outputs": [
        {
          "output_type": "stream",
          "name": "stdout",
          "text": [
            "Bosco the dog\n",
            "dog\n",
            "Duke the Dog\n",
            "dog\n",
            "Mayor Max III\n",
            "not dog\n"
          ]
        }
      ]
    },
    {
      "cell_type": "markdown",
      "metadata": {
        "id": "ZUPE5vonQ7Kk"
      },
      "source": [
        "### Print all mayors that are not called \"… the dog\" or \"… the Dog\""
      ]
    },
    {
      "cell_type": "code",
      "execution_count": null,
      "metadata": {
        "id": "QL39z7KfQ7Kl"
      },
      "outputs": [],
      "source": []
    },
    {
      "cell_type": "markdown",
      "metadata": {
        "id": "tRmNGkywQ7Kl"
      },
      "source": [
        "### Try out other examples on https://query.wikidata.org/ and see what kind of data you can extract from the dictionaries"
      ]
    },
    {
      "cell_type": "code",
      "execution_count": null,
      "metadata": {
        "id": "kjqqwZqLQ7Kl"
      },
      "outputs": [],
      "source": []
    }
  ],
  "metadata": {
    "kernelspec": {
      "display_name": "base",
      "language": "python",
      "name": "python3"
    },
    "language_info": {
      "codemirror_mode": {
        "name": "ipython",
        "version": 3
      },
      "file_extension": ".py",
      "mimetype": "text/x-python",
      "name": "python",
      "nbconvert_exporter": "python",
      "pygments_lexer": "ipython3",
      "version": "3.11.5"
    },
    "colab": {
      "provenance": [],
      "include_colab_link": true
    }
  },
  "nbformat": 4,
  "nbformat_minor": 0
}
