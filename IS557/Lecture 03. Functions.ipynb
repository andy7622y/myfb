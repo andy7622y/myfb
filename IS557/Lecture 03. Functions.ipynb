{
 "cells": [
  {
   "cell_type": "markdown",
   "id": "63850ca4",
   "metadata": {},
   "source": [
    "### List comprehension\n",
    "List comprehensions are a unique feature of Python that allows you to create new lists in a very concise and readable manner. It is a way of defining and constructing lists in just one line of code. Suppose you want to create a list that contains the squares of elements from another list. You might initially think to do it in the following way:"
   ]
  },
  {
   "cell_type": "code",
   "execution_count": null,
   "id": "7a78713e",
   "metadata": {},
   "outputs": [],
   "source": [
    "my_list = [2, 6, 5, 4, 66, 9, 100, 55, 4, 6, 4, 2]"
   ]
  },
  {
   "cell_type": "code",
   "execution_count": null,
   "id": "ca4ea500",
   "metadata": {},
   "outputs": [],
   "source": [
    "new_list = []\n",
    "for x in my_list:\n",
    "    new_list.append(x ** 2)\n",
    "new_list"
   ]
  },
  {
   "cell_type": "markdown",
   "id": "c6159be0",
   "metadata": {},
   "source": [
    "However, this approach is not very concise or Pythonic. Python provides an alternative, more efficient way of achieving the same result:"
   ]
  },
  {
   "cell_type": "code",
   "execution_count": null,
   "id": "e2c5b7f4",
   "metadata": {},
   "outputs": [],
   "source": [
    "new_list = [x ** 2 for x in my_list]\n",
    "new_list"
   ]
  },
  {
   "cell_type": "markdown",
   "id": "096de0f6",
   "metadata": {},
   "source": [
    "Moreover, you can also incorporate a condition to filter the items from the original list that you want to include in the new list:"
   ]
  },
  {
   "cell_type": "code",
   "execution_count": null,
   "id": "573562d1",
   "metadata": {},
   "outputs": [],
   "source": [
    "new_list = [x ** 2 for x in my_list if x > 10]\n",
    "new_list"
   ]
  },
  {
   "cell_type": "markdown",
   "id": "be765fe2",
   "metadata": {},
   "source": [
    "Here are a few more examples:"
   ]
  },
  {
   "cell_type": "code",
   "execution_count": null,
   "id": "3562e9a7",
   "metadata": {},
   "outputs": [],
   "source": [
    "[c.upper() for c in 'Python']"
   ]
  },
  {
   "cell_type": "code",
   "execution_count": null,
   "id": "d0a2c813",
   "metadata": {},
   "outputs": [],
   "source": [
    "y = 3\n",
    "[y * i + 4 for i in range(10)]"
   ]
  },
  {
   "cell_type": "markdown",
   "id": "55e29d31",
   "metadata": {},
   "source": [
    "In addition to list comprehensions, Python also supports dictionary comprehensions. They are constructed in a similar manner to list comprehensions, but result in a dictionary instead of a list:"
   ]
  },
  {
   "cell_type": "code",
   "execution_count": null,
   "id": "f87d384a",
   "metadata": {},
   "outputs": [],
   "source": [
    "d = {x: x**2 for x in my_list}\n",
    "d"
   ]
  },
  {
   "cell_type": "markdown",
   "id": "b3b8e9bb",
   "metadata": {},
   "source": [
    "Just like with list comprehensions, you can also apply filters to dictionary comprehensions to include only the key-value pairs that meet a certain condition:"
   ]
  },
  {
   "cell_type": "code",
   "execution_count": null,
   "id": "cb997190",
   "metadata": {},
   "outputs": [],
   "source": [
    "d = {x: x**2 for x in my_list if x > 10}\n",
    "d"
   ]
  },
  {
   "cell_type": "markdown",
   "id": "28c4e7d2",
   "metadata": {},
   "source": [
    "# Functions\n",
    "A function in Python is a block of organized, reusable code that is used to perform a single, related action.\n",
    "\n",
    "A function can be defined as follows:\n",
    "\n",
    "- **Name**: Every function has a name by which it can be called. The name of the function should be meaningful, describing what the function does.\n",
    "- **Input Parameters**: These are the values that a function takes in order to perform its operation. They are optional; a function can have no parameters.\n",
    "- **Return Value**: This is the output of the function. A function can return a value which can then be used as an input for another function or assigned to a variable."
   ]
  },
  {
   "cell_type": "markdown",
   "id": "9b490988",
   "metadata": {},
   "source": [
    "Python provides many built-in functions like `print()`"
   ]
  },
  {
   "cell_type": "code",
   "execution_count": null,
   "id": "99471bc0",
   "metadata": {},
   "outputs": [],
   "source": [
    "print(\"Hello\")\n",
    "print(\"World\")"
   ]
  },
  {
   "cell_type": "markdown",
   "id": "0e5d81c4",
   "metadata": {},
   "source": [
    "Some parameters of a function might have default values; in that case, it is not necessary to specify them:"
   ]
  },
  {
   "cell_type": "code",
   "execution_count": null,
   "id": "e4a31793",
   "metadata": {},
   "outputs": [],
   "source": [
    "print (\"Hello\", end = \"\")\n",
    "print (\"World\", end = \"\")"
   ]
  },
  {
   "cell_type": "markdown",
   "id": "824bfd34",
   "metadata": {},
   "source": [
    "One can use the help function to easily access Python documentation:"
   ]
  },
  {
   "cell_type": "code",
   "execution_count": null,
   "id": "5b5d97b8",
   "metadata": {},
   "outputs": [],
   "source": [
    "help(print)"
   ]
  },
  {
   "cell_type": "markdown",
   "id": "c82928eb",
   "metadata": {},
   "source": [
    "From that, we can learn that there is a sep parameter with a default value equal to space:"
   ]
  },
  {
   "cell_type": "code",
   "execution_count": null,
   "id": "4395f7e0",
   "metadata": {},
   "outputs": [],
   "source": [
    "print('Hello', 'World')"
   ]
  },
  {
   "cell_type": "code",
   "execution_count": null,
   "id": "587e86eb",
   "metadata": {},
   "outputs": [],
   "source": [
    "print('Hello', 'World', sep = ',')"
   ]
  },
  {
   "cell_type": "markdown",
   "id": "7c809e2c",
   "metadata": {},
   "source": [
    "Let's consider another example:"
   ]
  },
  {
   "cell_type": "code",
   "execution_count": null,
   "id": "b53db49c",
   "metadata": {},
   "outputs": [],
   "source": [
    "x = 2.75123\n",
    "round(x)"
   ]
  },
  {
   "cell_type": "code",
   "execution_count": null,
   "id": "5cf56ac3",
   "metadata": {},
   "outputs": [],
   "source": [
    "x = 2.75123\n",
    "round(x, 2)"
   ]
  },
  {
   "cell_type": "markdown",
   "id": "7ae30ffd",
   "metadata": {},
   "source": [
    "An essential element for solving more complex problems is the ability to define your own functions. This practice encapsulates code, making it reusable and more organized."
   ]
  },
  {
   "cell_type": "code",
   "execution_count": null,
   "id": "76a659de",
   "metadata": {},
   "outputs": [],
   "source": [
    "def increment_function(x):\n",
    "    x = x + 1\n",
    "    return x"
   ]
  },
  {
   "cell_type": "markdown",
   "id": "9638d864",
   "metadata": {},
   "source": [
    "Once defined, custom functions can be invoked in the same manner as built-in functions that already exist in Python."
   ]
  },
  {
   "cell_type": "code",
   "execution_count": null,
   "id": "b1030556",
   "metadata": {},
   "outputs": [],
   "source": [
    "y = increment_function(2)\n",
    "y"
   ]
  },
  {
   "cell_type": "code",
   "execution_count": null,
   "id": "dca77164",
   "metadata": {},
   "outputs": [],
   "source": [
    "def increment_and_print_function(x):\n",
    "    x = x + 1\n",
    "    print (x)\n",
    "    return x"
   ]
  },
  {
   "cell_type": "code",
   "execution_count": null,
   "id": "f020735a",
   "metadata": {},
   "outputs": [],
   "source": [
    "y = increment_and_print_function(5)"
   ]
  },
  {
   "cell_type": "markdown",
   "id": "011a97f9",
   "metadata": {},
   "source": [
    "It is also possible to define functions that do not have any input parameters or do not return any values."
   ]
  },
  {
   "cell_type": "code",
   "execution_count": null,
   "id": "801abb36",
   "metadata": {},
   "outputs": [],
   "source": [
    "def print_full_address():\n",
    "    print (\"Max Mustermann\")\n",
    "    print (\"C3 6\")\n",
    "    print (\"68159 Mannheim\")"
   ]
  },
  {
   "cell_type": "code",
   "execution_count": null,
   "id": "0fa9c5c4",
   "metadata": {},
   "outputs": [],
   "source": [
    "print_full_address()"
   ]
  },
  {
   "cell_type": "markdown",
   "id": "81683e70",
   "metadata": {},
   "source": [
    "If a function does not specify a return value, it implicitly returns a special object called \"None\". This is Python's way of representing the absence of a value or a null value."
   ]
  },
  {
   "cell_type": "code",
   "execution_count": null,
   "id": "ee8462ef",
   "metadata": {},
   "outputs": [],
   "source": [
    "x = print_full_address()\n",
    "print(\"______\")\n",
    "print(x)"
   ]
  },
  {
   "cell_type": "markdown",
   "id": "3f16286f",
   "metadata": {},
   "source": [
    "### Using default values and specifying parameters by name"
   ]
  },
  {
   "cell_type": "markdown",
   "id": "c6a9b75a",
   "metadata": {},
   "source": [
    "Default values for parameters make it optional to provide values during a function call. If a value for a parameter is not provided, the default value specified in the function definition will be used."
   ]
  },
  {
   "cell_type": "code",
   "execution_count": null,
   "id": "a047291a",
   "metadata": {},
   "outputs": [],
   "source": [
    "# Of course, a function can have multiple parameters (practically no limit on the number)\n",
    "def my_division (nominator, denominator):\n",
    "    return nominator / denominator\n",
    "\n",
    "my_division(12, 4)"
   ]
  },
  {
   "cell_type": "code",
   "execution_count": null,
   "id": "5a00eb16",
   "metadata": {},
   "outputs": [],
   "source": [
    "my_division(denominator = 10, nominator = 5)"
   ]
  },
  {
   "cell_type": "code",
   "execution_count": null,
   "id": "b10bec2d",
   "metadata": {},
   "outputs": [],
   "source": [
    "def division_default(nominator, denominator = 2):\n",
    "    return nominator / denominator"
   ]
  },
  {
   "cell_type": "code",
   "execution_count": null,
   "id": "f24ebd66",
   "metadata": {},
   "outputs": [],
   "source": [
    "division_default (10)"
   ]
  },
  {
   "cell_type": "code",
   "execution_count": null,
   "id": "2de3a901",
   "metadata": {},
   "outputs": [],
   "source": [
    "division_default(10,5)"
   ]
  },
  {
   "cell_type": "markdown",
   "id": "a400df8b",
   "metadata": {},
   "source": [
    "## Unpacking Arguments"
   ]
  },
  {
   "cell_type": "markdown",
   "id": "b34a2ec4",
   "metadata": {},
   "source": [
    "The * operator can be used to unpack an arbitrary number of objects from an iterable"
   ]
  },
  {
   "cell_type": "code",
   "execution_count": null,
   "id": "18d86c22",
   "metadata": {},
   "outputs": [],
   "source": [
    "def my_sum(*args):\n",
    "    result = 0\n",
    "    for element in args:\n",
    "        result += element\n",
    "    return result"
   ]
  },
  {
   "cell_type": "code",
   "execution_count": null,
   "id": "f0df898f",
   "metadata": {},
   "outputs": [],
   "source": [
    "my_sum(2,2,3,4,1)"
   ]
  },
  {
   "cell_type": "markdown",
   "id": "2c15668c",
   "metadata": {},
   "source": [
    "This functionality is also supported by the built-in print function!"
   ]
  },
  {
   "cell_type": "code",
   "execution_count": null,
   "id": "23a9b5ed",
   "metadata": {
    "scrolled": true
   },
   "outputs": [],
   "source": [
    "print(\"Hello\", \"World\", 1, \"!\")"
   ]
  },
  {
   "cell_type": "markdown",
   "id": "41e631d0",
   "metadata": {},
   "source": [
    "Additionally, keyword arguments can be used to pass any additional parameters to a function. This allows you to specify the values for some parameters by name, making the code more readable and allowing you to skip providing values for parameters with default values that you do not need to change."
   ]
  },
  {
   "cell_type": "code",
   "execution_count": null,
   "id": "e8015e3c",
   "metadata": {},
   "outputs": [],
   "source": [
    "def weird_function (x, y, **kwargs):\n",
    "    for key in kwargs:\n",
    "        print (\"Another parameter:\", key)\n",
    "        print (\"the value of this parameter is\", kwargs[key])\n",
    "    return x + y"
   ]
  },
  {
   "cell_type": "code",
   "execution_count": null,
   "id": "8e715ad0",
   "metadata": {
    "scrolled": true
   },
   "outputs": [],
   "source": [
    "weird_function (10, 5, another_param = 5, yet_another_param = 10)"
   ]
  },
  {
   "cell_type": "markdown",
   "id": "7e65d55a",
   "metadata": {},
   "source": [
    "## Scope of Variables"
   ]
  },
  {
   "cell_type": "markdown",
   "id": "3b865b03",
   "metadata": {},
   "source": [
    "The scope of a variable refers to the regions of the code where the variable is accessible or visible. Variables defined inside a function have a local scope, meaning they are only accessible within that function."
   ]
  },
  {
   "cell_type": "code",
   "execution_count": null,
   "id": "438e424b",
   "metadata": {},
   "outputs": [],
   "source": [
    "x = 2\n",
    "def increment_value(x):\n",
    "    y = x + 1\n",
    "    return y\n",
    "y"
   ]
  },
  {
   "cell_type": "markdown",
   "id": "7bd2b752",
   "metadata": {},
   "source": [
    "If a variable is assigned a new value inside a function, that new value is only recognized within the function. Outside the function, the variable retains its original value."
   ]
  },
  {
   "cell_type": "code",
   "execution_count": null,
   "id": "54d994e7",
   "metadata": {},
   "outputs": [],
   "source": [
    "x = 2\n",
    "def increment_value(x):\n",
    "    x = x + 1\n",
    "    return x\n",
    "\n",
    "y = increment_value(x)\n",
    "print (\"x:\", x)\n",
    "print (\"y:\", y)"
   ]
  },
  {
   "cell_type": "markdown",
   "id": "8b766a13",
   "metadata": {},
   "source": [
    "## Lambda Functions\n",
    "Lambda functions are a way to create small anonymous functions, i.e., functions without a name. They are a concise way to define a function in Python:"
   ]
  },
  {
   "cell_type": "code",
   "execution_count": null,
   "id": "b3a9f412",
   "metadata": {},
   "outputs": [],
   "source": [
    "f = lambda x: x * 5 + 1"
   ]
  },
  {
   "cell_type": "code",
   "execution_count": null,
   "id": "43aa83fd",
   "metadata": {
    "scrolled": true
   },
   "outputs": [],
   "source": [
    "f(2)"
   ]
  },
  {
   "cell_type": "markdown",
   "id": "e9408441",
   "metadata": {},
   "source": [
    "Lambda functions are often used as arguments to higher-order functions, i.e., functions that take other functions as parameters."
   ]
  },
  {
   "cell_type": "markdown",
   "id": "2ead38d8",
   "metadata": {},
   "source": [
    "[How to sort a dictionary by value](https://stackoverflow.com/questions/613183/how-do-i-sort-a-dictionary-by-value)"
   ]
  },
  {
   "cell_type": "code",
   "execution_count": null,
   "id": "84be26e0",
   "metadata": {},
   "outputs": [],
   "source": [
    "x = {'a': 2, 'b': 4, 'c': 3, 'd': 1, 'e': 0}\n",
    "sorted(x.items(), key = lambda item: item[1])"
   ]
  },
  {
   "cell_type": "markdown",
   "id": "e85ebc31",
   "metadata": {},
   "source": [
    "## Recursive Functions\n",
    "\n",
    "You can also call a function from within itself. This will results in a recursion for which you'd usually also need to define a stopping criterium."
   ]
  },
  {
   "cell_type": "code",
   "execution_count": 2,
   "id": "39a53945",
   "metadata": {},
   "outputs": [
    {
     "name": "stdout",
     "output_type": "stream",
     "text": [
      "5\n",
      "4\n",
      "3\n",
      "2\n",
      "1\n",
      "reached zero\n"
     ]
    }
   ],
   "source": [
    "def recursive_function(number):\n",
    "    if number == 0:\n",
    "        print(\"reached zero\")\n",
    "    else:\n",
    "        print(number)\n",
    "        recursive_function(number-1)  # beware that Python (and computers in general) have a maximum recursion depth\n",
    "\n",
    "recursive_function(5)"
   ]
  },
  {
   "cell_type": "markdown",
   "id": "2a6fb4c1",
   "metadata": {},
   "source": [
    "## Type Hints & Docstrings\n",
    "\n",
    "While parameters do not have strict types in Python, you can use type hints to suggest a datatype you would expect. Docstrings at the beginning of the function can be used for documentation and follow some (non-standardized) format as well."
   ]
  },
  {
   "cell_type": "code",
   "execution_count": 4,
   "id": "78bee55b",
   "metadata": {},
   "outputs": [],
   "source": [
    "def my_function(param1: int, param2: float = 0.3) -> int:\n",
    "    \"\"\"A function with type hints and docstrings.\n",
    "\n",
    "    Params\n",
    "    ------\n",
    "    - param1: a parameter of type int\n",
    "    - param2: a parameter of type float\n",
    "\n",
    "    Returns\n",
    "    ------\n",
    "    - sum of the parameters\n",
    "    \"\"\"\n",
    "    return param1 + int(param2)"
   ]
  },
  {
   "cell_type": "code",
   "execution_count": null,
   "id": "7f75f1c6",
   "metadata": {},
   "outputs": [],
   "source": [
    "my_function"
   ]
  }
 ],
 "metadata": {
  "kernelspec": {
   "display_name": "Python 3 (ipykernel)",
   "language": "python",
   "name": "python3"
  },
  "language_info": {
   "codemirror_mode": {
    "name": "ipython",
    "version": 3
   },
   "file_extension": ".py",
   "mimetype": "text/x-python",
   "name": "python",
   "nbconvert_exporter": "python",
   "pygments_lexer": "ipython3",
   "version": "3.11.5"
  }
 },
 "nbformat": 4,
 "nbformat_minor": 5
}
