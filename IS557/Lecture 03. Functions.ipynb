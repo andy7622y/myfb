{
  "cells": [
    {
      "cell_type": "markdown",
      "id": "63850ca4",
      "metadata": {
        "id": "63850ca4"
      },
      "source": [
        "### List comprehension\n",
        "List comprehensions are a unique feature of Python that allows you to create new lists in a very concise and readable manner. It is a way of defining and constructing lists in just one line of code. Suppose you want to create a list that contains the squares of elements from another list. You might initially think to do it in the following way:"
      ]
    },
    {
      "cell_type": "code",
      "execution_count": 1,
      "id": "7a78713e",
      "metadata": {
        "id": "7a78713e"
      },
      "outputs": [],
      "source": [
        "my_list = [2, 6, 5, 4, 66, 9, 100, 55, 4, 6, 4, 2]"
      ]
    },
    {
      "cell_type": "code",
      "execution_count": 6,
      "id": "ca4ea500",
      "metadata": {
        "id": "ca4ea500",
        "outputId": "320e8a5b-8c43-4e56-9b7e-83dbb2e5633c",
        "colab": {
          "base_uri": "https://localhost:8080/"
        }
      },
      "outputs": [
        {
          "output_type": "execute_result",
          "data": {
            "text/plain": [
              "[4, 36, 25, 16, 4356, 81, 10000, 3025, 16, 36, 16, 4]"
            ]
          },
          "metadata": {},
          "execution_count": 6
        }
      ],
      "source": [
        "new_list = []\n",
        "for x in my_list:\n",
        "    new_list.append(x ** 2)\n",
        "new_list"
      ]
    },
    {
      "cell_type": "markdown",
      "id": "c6159be0",
      "metadata": {
        "id": "c6159be0"
      },
      "source": [
        "However, this approach is not very concise or Pythonic. Python provides an alternative, more efficient way of achieving the same result:"
      ]
    },
    {
      "cell_type": "code",
      "execution_count": 5,
      "id": "e2c5b7f4",
      "metadata": {
        "id": "e2c5b7f4",
        "outputId": "1d61d713-cfe3-4e90-bb6f-5ed9a7bdd151",
        "colab": {
          "base_uri": "https://localhost:8080/"
        }
      },
      "outputs": [
        {
          "output_type": "execute_result",
          "data": {
            "text/plain": [
              "[4, 36, 25, 16, 4356, 81, 10000, 3025, 16, 36, 16, 4]"
            ]
          },
          "metadata": {},
          "execution_count": 5
        }
      ],
      "source": [
        "new_list = [x ** 2 for x in my_list]\n",
        "new_list"
      ]
    },
    {
      "cell_type": "markdown",
      "id": "096de0f6",
      "metadata": {
        "id": "096de0f6"
      },
      "source": [
        "Moreover, you can also incorporate a condition to filter the items from the original list that you want to include in the new list:"
      ]
    },
    {
      "cell_type": "code",
      "execution_count": 8,
      "id": "573562d1",
      "metadata": {
        "id": "573562d1",
        "outputId": "3c8d729d-db19-4347-b44f-ff6179dace76",
        "colab": {
          "base_uri": "https://localhost:8080/"
        }
      },
      "outputs": [
        {
          "output_type": "execute_result",
          "data": {
            "text/plain": [
              "[4356, 10000, 3025]"
            ]
          },
          "metadata": {},
          "execution_count": 8
        }
      ],
      "source": [
        "new_list = [x ** 2 for x in my_list if x > 10]\n",
        "new_list"
      ]
    },
    {
      "cell_type": "markdown",
      "id": "be765fe2",
      "metadata": {
        "id": "be765fe2"
      },
      "source": [
        "Here are a few more examples:"
      ]
    },
    {
      "cell_type": "code",
      "execution_count": 9,
      "id": "3562e9a7",
      "metadata": {
        "id": "3562e9a7",
        "outputId": "c285291b-32a0-447f-fecf-b1905818ba2c",
        "colab": {
          "base_uri": "https://localhost:8080/"
        }
      },
      "outputs": [
        {
          "output_type": "execute_result",
          "data": {
            "text/plain": [
              "['P', 'Y', 'T', 'H', 'O', 'N']"
            ]
          },
          "metadata": {},
          "execution_count": 9
        }
      ],
      "source": [
        "[c.upper() for c in 'Python']"
      ]
    },
    {
      "cell_type": "code",
      "source": [
        "[c for c in my_list]"
      ],
      "metadata": {
        "id": "0bN_zdAu-5nD",
        "outputId": "68acdf56-7fdf-4f03-bb72-f7bfa0325e11",
        "colab": {
          "base_uri": "https://localhost:8080/"
        }
      },
      "id": "0bN_zdAu-5nD",
      "execution_count": 13,
      "outputs": [
        {
          "output_type": "execute_result",
          "data": {
            "text/plain": [
              "[2, 6, 5, 4, 66, 9, 100, 55, 4, 6, 4, 2]"
            ]
          },
          "metadata": {},
          "execution_count": 13
        }
      ]
    },
    {
      "cell_type": "code",
      "execution_count": 10,
      "id": "d0a2c813",
      "metadata": {
        "id": "d0a2c813",
        "outputId": "bac24fe7-d8dd-4ba4-cf83-66195bb9996f",
        "colab": {
          "base_uri": "https://localhost:8080/"
        }
      },
      "outputs": [
        {
          "output_type": "execute_result",
          "data": {
            "text/plain": [
              "[4, 7, 10, 13, 16, 19, 22, 25, 28, 31]"
            ]
          },
          "metadata": {},
          "execution_count": 10
        }
      ],
      "source": [
        "y = 3\n",
        "[y * i + 4 for i in range(10)]"
      ]
    },
    {
      "cell_type": "markdown",
      "id": "55e29d31",
      "metadata": {
        "id": "55e29d31"
      },
      "source": [
        "In addition to list comprehensions, Python also supports dictionary comprehensions. They are constructed in a similar manner to list comprehensions, but result in a dictionary instead of a list:"
      ]
    },
    {
      "cell_type": "code",
      "execution_count": 11,
      "id": "f87d384a",
      "metadata": {
        "id": "f87d384a",
        "outputId": "689f3184-c126-4b0e-edb0-aa0c47c7a720",
        "colab": {
          "base_uri": "https://localhost:8080/"
        }
      },
      "outputs": [
        {
          "output_type": "execute_result",
          "data": {
            "text/plain": [
              "{2: 4, 6: 36, 5: 25, 4: 16, 66: 4356, 9: 81, 100: 10000, 55: 3025}"
            ]
          },
          "metadata": {},
          "execution_count": 11
        }
      ],
      "source": [
        "d = {x: x**2 for x in my_list}\n",
        "d"
      ]
    },
    {
      "cell_type": "markdown",
      "id": "b3b8e9bb",
      "metadata": {
        "id": "b3b8e9bb"
      },
      "source": [
        "Just like with list comprehensions, you can also apply filters to dictionary comprehensions to include only the key-value pairs that meet a certain condition:"
      ]
    },
    {
      "cell_type": "code",
      "execution_count": 14,
      "id": "cb997190",
      "metadata": {
        "id": "cb997190",
        "outputId": "c1ec9241-db2a-43e7-f3d7-6039ff834f36",
        "colab": {
          "base_uri": "https://localhost:8080/"
        }
      },
      "outputs": [
        {
          "output_type": "execute_result",
          "data": {
            "text/plain": [
              "{66: 4356, 100: 10000, 55: 3025}"
            ]
          },
          "metadata": {},
          "execution_count": 14
        }
      ],
      "source": [
        "d = {x: x**2 for x in my_list if x > 10}\n",
        "d"
      ]
    },
    {
      "cell_type": "code",
      "source": [
        "my_dict = {'1':23, '2':34}\n",
        "my_dict\n",
        "{k: v + 1 for k,v in my_dict.items()}\n",
        "\n",
        "# not 'in my_dict' but 'in my_dict.items'"
      ],
      "metadata": {
        "id": "jNroxAeR_2Gf",
        "outputId": "0c023925-a24a-4010-d97f-0f1e149d4bf2",
        "colab": {
          "base_uri": "https://localhost:8080/"
        }
      },
      "id": "jNroxAeR_2Gf",
      "execution_count": 27,
      "outputs": [
        {
          "output_type": "execute_result",
          "data": {
            "text/plain": [
              "{'1': 24, '2': 35}"
            ]
          },
          "metadata": {},
          "execution_count": 27
        }
      ]
    },
    {
      "cell_type": "code",
      "source": [
        "{k:v ** 2 for k,v in my_dict.items() if v > 30}"
      ],
      "metadata": {
        "id": "H9GGbCNPBI65",
        "outputId": "04c70ed7-2500-4cb8-e39d-9b99f38d5394",
        "colab": {
          "base_uri": "https://localhost:8080/"
        }
      },
      "id": "H9GGbCNPBI65",
      "execution_count": 28,
      "outputs": [
        {
          "output_type": "execute_result",
          "data": {
            "text/plain": [
              "{'2': 1156}"
            ]
          },
          "metadata": {},
          "execution_count": 28
        }
      ]
    },
    {
      "cell_type": "markdown",
      "id": "28c4e7d2",
      "metadata": {
        "id": "28c4e7d2"
      },
      "source": [
        "# Functions\n",
        "A function in Python is a block of organized, reusable code that is used to perform a single, related action.\n",
        "\n",
        "A function can be defined as follows:\n",
        "\n",
        "- **Name**: Every function has a name by which it can be called. The name of the function should be meaningful, describing what the function does.\n",
        "- **Input Parameters**: These are the values that a function takes in order to perform its operation. They are optional; a function can have no parameters.\n",
        "- **Return Value**: This is the output of the function. A function can return a value which can then be used as an input for another function or assigned to a variable."
      ]
    },
    {
      "cell_type": "markdown",
      "id": "9b490988",
      "metadata": {
        "id": "9b490988"
      },
      "source": [
        "Python provides many built-in functions like `print()`"
      ]
    },
    {
      "cell_type": "code",
      "execution_count": 29,
      "id": "99471bc0",
      "metadata": {
        "id": "99471bc0",
        "outputId": "1231d711-db5d-417f-fe05-7b3d2e8d5fbd",
        "colab": {
          "base_uri": "https://localhost:8080/"
        }
      },
      "outputs": [
        {
          "output_type": "stream",
          "name": "stdout",
          "text": [
            "Hello\n",
            "World\n"
          ]
        }
      ],
      "source": [
        "print(\"Hello\")\n",
        "print(\"World\")"
      ]
    },
    {
      "cell_type": "code",
      "source": [
        "x = print('Hello')\n",
        "print(x)\n",
        "\n",
        "# print(x) returns None"
      ],
      "metadata": {
        "id": "-aIkUW64CMfS",
        "outputId": "b8811e1a-e95d-4e73-c5a0-d2f03b18d491",
        "colab": {
          "base_uri": "https://localhost:8080/"
        }
      },
      "id": "-aIkUW64CMfS",
      "execution_count": 33,
      "outputs": [
        {
          "output_type": "stream",
          "name": "stdout",
          "text": [
            "Hello\n",
            "None\n"
          ]
        }
      ]
    },
    {
      "cell_type": "markdown",
      "id": "0e5d81c4",
      "metadata": {
        "id": "0e5d81c4"
      },
      "source": [
        "Some parameters of a function might have default values; in that case, it is not necessary to specify them:"
      ]
    },
    {
      "cell_type": "code",
      "execution_count": 30,
      "id": "e4a31793",
      "metadata": {
        "id": "e4a31793",
        "outputId": "f1def5f3-7f4b-4cbc-c0aa-8022a85f87ef",
        "colab": {
          "base_uri": "https://localhost:8080/"
        }
      },
      "outputs": [
        {
          "output_type": "stream",
          "name": "stdout",
          "text": [
            "HelloWorld"
          ]
        }
      ],
      "source": [
        "print (\"Hello\", end = \"\")\n",
        "print (\"World\", end = \"\")"
      ]
    },
    {
      "cell_type": "markdown",
      "id": "824bfd34",
      "metadata": {
        "id": "824bfd34"
      },
      "source": [
        "One can use the help function to easily access Python documentation:"
      ]
    },
    {
      "cell_type": "code",
      "execution_count": 31,
      "id": "5b5d97b8",
      "metadata": {
        "id": "5b5d97b8",
        "outputId": "2b1d272d-99b4-425a-c3b8-27de5b3191a5",
        "colab": {
          "base_uri": "https://localhost:8080/"
        }
      },
      "outputs": [
        {
          "output_type": "stream",
          "name": "stdout",
          "text": [
            "Help on built-in function print in module builtins:\n",
            "\n",
            "print(...)\n",
            "    print(value, ..., sep=' ', end='\\n', file=sys.stdout, flush=False)\n",
            "    \n",
            "    Prints the values to a stream, or to sys.stdout by default.\n",
            "    Optional keyword arguments:\n",
            "    file:  a file-like object (stream); defaults to the current sys.stdout.\n",
            "    sep:   string inserted between values, default a space.\n",
            "    end:   string appended after the last value, default a newline.\n",
            "    flush: whether to forcibly flush the stream.\n",
            "\n"
          ]
        }
      ],
      "source": [
        "help(print)"
      ]
    },
    {
      "cell_type": "markdown",
      "id": "c82928eb",
      "metadata": {
        "id": "c82928eb"
      },
      "source": [
        "From that, we can learn that there is a sep parameter with a default value equal to space:"
      ]
    },
    {
      "cell_type": "code",
      "execution_count": 35,
      "id": "4395f7e0",
      "metadata": {
        "id": "4395f7e0",
        "outputId": "cbab5ed6-8f5e-4cb2-f3ea-e65cbdf13326",
        "colab": {
          "base_uri": "https://localhost:8080/"
        }
      },
      "outputs": [
        {
          "output_type": "stream",
          "name": "stdout",
          "text": [
            "Hello World\n"
          ]
        }
      ],
      "source": [
        "print('Hello', 'World')"
      ]
    },
    {
      "cell_type": "code",
      "execution_count": 34,
      "id": "587e86eb",
      "metadata": {
        "id": "587e86eb",
        "outputId": "56850a8f-8654-4ed9-f24b-b3687a158f8b",
        "colab": {
          "base_uri": "https://localhost:8080/"
        }
      },
      "outputs": [
        {
          "output_type": "stream",
          "name": "stdout",
          "text": [
            "Hello,World\n"
          ]
        }
      ],
      "source": [
        "print('Hello', 'World', sep = ',')"
      ]
    },
    {
      "cell_type": "markdown",
      "id": "7c809e2c",
      "metadata": {
        "id": "7c809e2c"
      },
      "source": [
        "Let's consider another example:"
      ]
    },
    {
      "cell_type": "code",
      "execution_count": 36,
      "id": "b53db49c",
      "metadata": {
        "id": "b53db49c",
        "outputId": "5226e581-567d-4e6c-defb-a8e6cccb62f9",
        "colab": {
          "base_uri": "https://localhost:8080/"
        }
      },
      "outputs": [
        {
          "output_type": "execute_result",
          "data": {
            "text/plain": [
              "3"
            ]
          },
          "metadata": {},
          "execution_count": 36
        }
      ],
      "source": [
        "x = 2.75123\n",
        "round(x)"
      ]
    },
    {
      "cell_type": "code",
      "execution_count": 37,
      "id": "5cf56ac3",
      "metadata": {
        "id": "5cf56ac3",
        "outputId": "e5bc24b8-7a8d-4f24-be19-f15616453755",
        "colab": {
          "base_uri": "https://localhost:8080/"
        }
      },
      "outputs": [
        {
          "output_type": "execute_result",
          "data": {
            "text/plain": [
              "2.75"
            ]
          },
          "metadata": {},
          "execution_count": 37
        }
      ],
      "source": [
        "x = 2.75123\n",
        "round(x, 2)"
      ]
    },
    {
      "cell_type": "markdown",
      "id": "7ae30ffd",
      "metadata": {
        "id": "7ae30ffd"
      },
      "source": [
        "An essential element for solving more complex problems is the ability to define your own functions. This practice encapsulates code, making it reusable and more organized."
      ]
    },
    {
      "cell_type": "code",
      "execution_count": 38,
      "id": "76a659de",
      "metadata": {
        "id": "76a659de"
      },
      "outputs": [],
      "source": [
        "def increment_function(x):\n",
        "    x = x + 1\n",
        "    return x"
      ]
    },
    {
      "cell_type": "markdown",
      "id": "9638d864",
      "metadata": {
        "id": "9638d864"
      },
      "source": [
        "Once defined, custom functions can be invoked in the same manner as built-in functions that already exist in Python."
      ]
    },
    {
      "cell_type": "code",
      "execution_count": 39,
      "id": "b1030556",
      "metadata": {
        "id": "b1030556",
        "outputId": "fbde2658-2a3d-4543-99be-91aedac65bf0",
        "colab": {
          "base_uri": "https://localhost:8080/"
        }
      },
      "outputs": [
        {
          "output_type": "execute_result",
          "data": {
            "text/plain": [
              "3"
            ]
          },
          "metadata": {},
          "execution_count": 39
        }
      ],
      "source": [
        "y = increment_function(2)\n",
        "y"
      ]
    },
    {
      "cell_type": "code",
      "execution_count": 41,
      "id": "dca77164",
      "metadata": {
        "id": "dca77164"
      },
      "outputs": [],
      "source": [
        "def increment_and_print_function(x):\n",
        "    x = x + 1\n",
        "    print (x)\n",
        "    return x"
      ]
    },
    {
      "cell_type": "code",
      "execution_count": 47,
      "id": "f020735a",
      "metadata": {
        "id": "f020735a",
        "outputId": "dc659ae9-b350-4b6a-ffa2-84425bd6d9e1",
        "colab": {
          "base_uri": "https://localhost:8080/"
        }
      },
      "outputs": [
        {
          "output_type": "stream",
          "name": "stdout",
          "text": [
            "6\n"
          ]
        }
      ],
      "source": [
        "y = increment_and_print_function(5)"
      ]
    },
    {
      "cell_type": "markdown",
      "id": "011a97f9",
      "metadata": {
        "id": "011a97f9"
      },
      "source": [
        "It is also possible to define functions that do not have any input parameters or do not return any values."
      ]
    },
    {
      "cell_type": "code",
      "execution_count": 43,
      "id": "801abb36",
      "metadata": {
        "id": "801abb36"
      },
      "outputs": [],
      "source": [
        "def print_full_address():\n",
        "    print (\"Max Mustermann\")\n",
        "    print (\"C3 6\")\n",
        "    print (\"68159 Mannheim\")"
      ]
    },
    {
      "cell_type": "code",
      "execution_count": 44,
      "id": "0fa9c5c4",
      "metadata": {
        "id": "0fa9c5c4",
        "outputId": "e2c827be-2b19-41ed-c921-f42bbdab2bc4",
        "colab": {
          "base_uri": "https://localhost:8080/"
        }
      },
      "outputs": [
        {
          "output_type": "stream",
          "name": "stdout",
          "text": [
            "Max Mustermann\n",
            "C3 6\n",
            "68159 Mannheim\n"
          ]
        }
      ],
      "source": [
        "print_full_address()"
      ]
    },
    {
      "cell_type": "markdown",
      "id": "81683e70",
      "metadata": {
        "id": "81683e70"
      },
      "source": [
        "If a function does not specify a return value, it implicitly returns a special object called \"None\". This is Python's way of representing the absence of a value or a null value."
      ]
    },
    {
      "cell_type": "code",
      "execution_count": 45,
      "id": "ee8462ef",
      "metadata": {
        "id": "ee8462ef",
        "outputId": "a6633d61-1e1c-43c6-f19f-bb6435cfc743",
        "colab": {
          "base_uri": "https://localhost:8080/"
        }
      },
      "outputs": [
        {
          "output_type": "stream",
          "name": "stdout",
          "text": [
            "Max Mustermann\n",
            "C3 6\n",
            "68159 Mannheim\n",
            "______\n",
            "None\n"
          ]
        }
      ],
      "source": [
        "x = print_full_address()\n",
        "print(\"______\")\n",
        "print(x)"
      ]
    },
    {
      "cell_type": "markdown",
      "id": "3f16286f",
      "metadata": {
        "id": "3f16286f"
      },
      "source": [
        "### Using default values and specifying parameters by name"
      ]
    },
    {
      "cell_type": "markdown",
      "id": "c6a9b75a",
      "metadata": {
        "id": "c6a9b75a"
      },
      "source": [
        "Default values for parameters make it optional to provide values during a function call. If a value for a parameter is not provided, the default value specified in the function definition will be used."
      ]
    },
    {
      "cell_type": "code",
      "execution_count": 48,
      "id": "a047291a",
      "metadata": {
        "id": "a047291a",
        "outputId": "1a6d5fea-d9c9-41f7-a25d-36ed4127fa65",
        "colab": {
          "base_uri": "https://localhost:8080/"
        }
      },
      "outputs": [
        {
          "output_type": "execute_result",
          "data": {
            "text/plain": [
              "3.0"
            ]
          },
          "metadata": {},
          "execution_count": 48
        }
      ],
      "source": [
        "# Of course, a function can have multiple parameters (practically no limit on the number)\n",
        "def my_division (nominator, denominator):\n",
        "    return nominator / denominator\n",
        "\n",
        "my_division(12, 4)"
      ]
    },
    {
      "cell_type": "code",
      "execution_count": 49,
      "id": "5a00eb16",
      "metadata": {
        "id": "5a00eb16",
        "outputId": "645fe2be-59c5-45c0-c245-1a5fd73800bc",
        "colab": {
          "base_uri": "https://localhost:8080/"
        }
      },
      "outputs": [
        {
          "output_type": "execute_result",
          "data": {
            "text/plain": [
              "0.5"
            ]
          },
          "metadata": {},
          "execution_count": 49
        }
      ],
      "source": [
        "my_division(denominator = 10, nominator = 5)"
      ]
    },
    {
      "cell_type": "code",
      "source": [
        "my_division(3,1)"
      ],
      "metadata": {
        "id": "ZlVV3nZQFZcU",
        "outputId": "82b8cac0-8faa-4392-daff-b267168a6003",
        "colab": {
          "base_uri": "https://localhost:8080/"
        }
      },
      "id": "ZlVV3nZQFZcU",
      "execution_count": 50,
      "outputs": [
        {
          "output_type": "execute_result",
          "data": {
            "text/plain": [
              "3.0"
            ]
          },
          "metadata": {},
          "execution_count": 50
        }
      ]
    },
    {
      "cell_type": "code",
      "execution_count": 51,
      "id": "b10bec2d",
      "metadata": {
        "id": "b10bec2d"
      },
      "outputs": [],
      "source": [
        "def division_default(nominator, denominator = 2):\n",
        "    return nominator / denominator"
      ]
    },
    {
      "cell_type": "code",
      "execution_count": 52,
      "id": "f24ebd66",
      "metadata": {
        "id": "f24ebd66",
        "outputId": "728f3fba-8dac-40b5-bb16-3611fd56dc3f",
        "colab": {
          "base_uri": "https://localhost:8080/"
        }
      },
      "outputs": [
        {
          "output_type": "execute_result",
          "data": {
            "text/plain": [
              "5.0"
            ]
          },
          "metadata": {},
          "execution_count": 52
        }
      ],
      "source": [
        "division_default (10)"
      ]
    },
    {
      "cell_type": "code",
      "execution_count": 54,
      "id": "2de3a901",
      "metadata": {
        "id": "2de3a901",
        "outputId": "67b44403-c1f8-4067-eed6-a7264297cb7e",
        "colab": {
          "base_uri": "https://localhost:8080/"
        }
      },
      "outputs": [
        {
          "output_type": "execute_result",
          "data": {
            "text/plain": [
              "2.0"
            ]
          },
          "metadata": {},
          "execution_count": 54
        }
      ],
      "source": [
        "division_default(10,5)\n",
        "\n",
        "# not error"
      ]
    },
    {
      "cell_type": "markdown",
      "id": "a400df8b",
      "metadata": {
        "id": "a400df8b"
      },
      "source": [
        "## Unpacking Arguments"
      ]
    },
    {
      "cell_type": "markdown",
      "id": "b34a2ec4",
      "metadata": {
        "id": "b34a2ec4"
      },
      "source": [
        "The * operator can be used to unpack an arbitrary number of objects from an iterable"
      ]
    },
    {
      "cell_type": "code",
      "execution_count": 55,
      "id": "18d86c22",
      "metadata": {
        "id": "18d86c22"
      },
      "outputs": [],
      "source": [
        "def my_sum(*args):\n",
        "    result = 0\n",
        "    for element in args:\n",
        "        result += element\n",
        "    return result"
      ]
    },
    {
      "cell_type": "code",
      "execution_count": 56,
      "id": "f0df898f",
      "metadata": {
        "id": "f0df898f",
        "outputId": "a6b9f3fd-4375-464d-e42d-008fb3333d6d",
        "colab": {
          "base_uri": "https://localhost:8080/"
        }
      },
      "outputs": [
        {
          "output_type": "execute_result",
          "data": {
            "text/plain": [
              "12"
            ]
          },
          "metadata": {},
          "execution_count": 56
        }
      ],
      "source": [
        "my_sum(2,2,3,4,1)"
      ]
    },
    {
      "cell_type": "markdown",
      "id": "2c15668c",
      "metadata": {
        "id": "2c15668c"
      },
      "source": [
        "This functionality is also supported by the built-in print function!"
      ]
    },
    {
      "cell_type": "code",
      "execution_count": 57,
      "id": "23a9b5ed",
      "metadata": {
        "scrolled": true,
        "id": "23a9b5ed",
        "outputId": "9cc9d075-ca8c-4b02-b18d-657f7ebd20eb",
        "colab": {
          "base_uri": "https://localhost:8080/"
        }
      },
      "outputs": [
        {
          "output_type": "stream",
          "name": "stdout",
          "text": [
            "Hello World 1 !\n"
          ]
        }
      ],
      "source": [
        "print(\"Hello\", \"World\", 1, \"!\")"
      ]
    },
    {
      "cell_type": "markdown",
      "id": "41e631d0",
      "metadata": {
        "id": "41e631d0"
      },
      "source": [
        "Additionally, keyword arguments can be used to pass any additional parameters to a function. This allows you to specify the values for some parameters by name, making the code more readable and allowing you to skip providing values for parameters with default values that you do not need to change."
      ]
    },
    {
      "cell_type": "code",
      "execution_count": 58,
      "id": "e8015e3c",
      "metadata": {
        "id": "e8015e3c"
      },
      "outputs": [],
      "source": [
        "def weird_function (x, y, **kwargs):\n",
        "    for key in kwargs:\n",
        "        print (\"Another parameter:\", key)\n",
        "        print (\"the value of this parameter is\", kwargs[key])\n",
        "    return x + y"
      ]
    },
    {
      "cell_type": "code",
      "source": [
        "def weird_function1(**kwargs):\n",
        "  for k, v in kwargs.items():\n",
        "    print('doule:', k)\n",
        "    print('origin:', v * 2)\n",
        "\n",
        "weird_function1(i = 6, x = 3)"
      ],
      "metadata": {
        "collapsed": true,
        "id": "49sbMgizHRAi",
        "outputId": "c00fb73d-7405-4c30-b506-a3ba9e77a57f",
        "colab": {
          "base_uri": "https://localhost:8080/"
        }
      },
      "id": "49sbMgizHRAi",
      "execution_count": 70,
      "outputs": [
        {
          "output_type": "stream",
          "name": "stdout",
          "text": [
            "doule: i\n",
            "origin: 12\n",
            "doule: x\n",
            "origin: 6\n"
          ]
        }
      ]
    },
    {
      "cell_type": "code",
      "source": [
        " def weird_function2(**kwargs):\n",
        "    for key in kwargs:\n",
        "        print (\"Another parameter:\", key)\n",
        "        print (\"the value:\", kwargs[key] * 2)\n",
        "\n",
        " weird_function2(i = 6, x = 3)"
      ],
      "metadata": {
        "id": "87C12futHy86",
        "outputId": "1410816f-3bf8-4527-e71c-ad07c2a047ec",
        "colab": {
          "base_uri": "https://localhost:8080/"
        }
      },
      "id": "87C12futHy86",
      "execution_count": 71,
      "outputs": [
        {
          "output_type": "stream",
          "name": "stdout",
          "text": [
            "Another parameter: i\n",
            "the value: 12\n",
            "Another parameter: x\n",
            "the value: 6\n"
          ]
        }
      ]
    },
    {
      "cell_type": "code",
      "execution_count": 59,
      "id": "8e715ad0",
      "metadata": {
        "scrolled": true,
        "id": "8e715ad0",
        "outputId": "f5b087f6-733d-4ce6-b0b2-de869fbbd0df",
        "colab": {
          "base_uri": "https://localhost:8080/"
        }
      },
      "outputs": [
        {
          "output_type": "stream",
          "name": "stdout",
          "text": [
            "Another parameter: another_param\n",
            "the value of this parameter is 5\n",
            "Another parameter: yet_another_param\n",
            "the value of this parameter is 10\n"
          ]
        },
        {
          "output_type": "execute_result",
          "data": {
            "text/plain": [
              "15"
            ]
          },
          "metadata": {},
          "execution_count": 59
        }
      ],
      "source": [
        "weird_function (10, 5, another_param = 5, yet_another_param = 10)"
      ]
    },
    {
      "cell_type": "code",
      "source": [
        "weird_function(2, 6, a = 1, b = 2)"
      ],
      "metadata": {
        "id": "ToL9BcNDHFF3",
        "outputId": "2a8a29a3-8d23-47d8-a92a-7baafddced1b",
        "colab": {
          "base_uri": "https://localhost:8080/"
        }
      },
      "id": "ToL9BcNDHFF3",
      "execution_count": 60,
      "outputs": [
        {
          "output_type": "stream",
          "name": "stdout",
          "text": [
            "Another parameter: a\n",
            "the value of this parameter is 1\n",
            "Another parameter: b\n",
            "the value of this parameter is 2\n"
          ]
        },
        {
          "output_type": "execute_result",
          "data": {
            "text/plain": [
              "8"
            ]
          },
          "metadata": {},
          "execution_count": 60
        }
      ]
    },
    {
      "cell_type": "markdown",
      "id": "7e65d55a",
      "metadata": {
        "id": "7e65d55a"
      },
      "source": [
        "## Scope of Variables"
      ]
    },
    {
      "cell_type": "markdown",
      "id": "3b865b03",
      "metadata": {
        "id": "3b865b03"
      },
      "source": [
        "The scope of a variable refers to the regions of the code where the variable is accessible or visible. Variables defined inside a function have a local scope, meaning they are only accessible within that function."
      ]
    },
    {
      "cell_type": "code",
      "execution_count": 72,
      "id": "438e424b",
      "metadata": {
        "id": "438e424b",
        "outputId": "947af526-006d-4ac0-c52f-b5361851a9eb",
        "colab": {
          "base_uri": "https://localhost:8080/"
        }
      },
      "outputs": [
        {
          "output_type": "execute_result",
          "data": {
            "text/plain": [
              "6"
            ]
          },
          "metadata": {},
          "execution_count": 72
        }
      ],
      "source": [
        "x = 2\n",
        "def increment_value(x):\n",
        "    y = x + 1\n",
        "    return y\n",
        "y"
      ]
    },
    {
      "cell_type": "markdown",
      "id": "7bd2b752",
      "metadata": {
        "id": "7bd2b752"
      },
      "source": [
        "If a variable is assigned a new value inside a function, that new value is only recognized within the function. Outside the function, the variable retains its original value."
      ]
    },
    {
      "cell_type": "code",
      "source": [
        "x = 2"
      ],
      "metadata": {
        "id": "XcNxwSGWJQYP"
      },
      "id": "XcNxwSGWJQYP",
      "execution_count": 76,
      "outputs": []
    },
    {
      "cell_type": "code",
      "execution_count": 80,
      "id": "54d994e7",
      "metadata": {
        "id": "54d994e7",
        "outputId": "2c3754c4-96b5-4c24-b03c-3c8e85a34ec0",
        "colab": {
          "base_uri": "https://localhost:8080/"
        }
      },
      "outputs": [
        {
          "output_type": "stream",
          "name": "stdout",
          "text": [
            "x: 2\n",
            "y: 3\n"
          ]
        }
      ],
      "source": [
        "def increment_value(x):\n",
        "    x = x + 1\n",
        "    return x\n",
        "\n",
        "y = increment_value(x)\n",
        "print (\"x:\", x)\n",
        "print (\"y:\", y)"
      ]
    },
    {
      "cell_type": "code",
      "source": [
        "increment_value(x)\n",
        "x"
      ],
      "metadata": {
        "id": "VYYI8GOeJeWB",
        "outputId": "86073d51-e067-4e4a-9830-dac16c9a8925",
        "colab": {
          "base_uri": "https://localhost:8080/"
        }
      },
      "id": "VYYI8GOeJeWB",
      "execution_count": 84,
      "outputs": [
        {
          "output_type": "execute_result",
          "data": {
            "text/plain": [
              "2"
            ]
          },
          "metadata": {},
          "execution_count": 84
        }
      ]
    },
    {
      "cell_type": "code",
      "source": [
        "x = 2\n",
        "for x in range(10):\n",
        "  if x > 5:\n",
        "    x *= 2\n",
        "    print(x)"
      ],
      "metadata": {
        "id": "psb29llFJpFd",
        "outputId": "93b72a31-bc5e-4748-a049-31c8918787aa",
        "colab": {
          "base_uri": "https://localhost:8080/"
        }
      },
      "id": "psb29llFJpFd",
      "execution_count": 96,
      "outputs": [
        {
          "output_type": "stream",
          "name": "stdout",
          "text": [
            "12\n",
            "14\n",
            "16\n",
            "18\n"
          ]
        }
      ]
    },
    {
      "cell_type": "markdown",
      "id": "8b766a13",
      "metadata": {
        "id": "8b766a13"
      },
      "source": [
        "## Lambda Functions\n",
        "Lambda functions are a way to create small anonymous functions, i.e., functions without a name. They are a concise way to define a function in Python:"
      ]
    },
    {
      "cell_type": "code",
      "execution_count": 97,
      "id": "b3a9f412",
      "metadata": {
        "id": "b3a9f412"
      },
      "outputs": [],
      "source": [
        "f = lambda x: x * 5 + 1"
      ]
    },
    {
      "cell_type": "code",
      "execution_count": 98,
      "id": "43aa83fd",
      "metadata": {
        "scrolled": true,
        "id": "43aa83fd",
        "outputId": "25033369-1dd5-4d3a-eb51-3db57f991b87",
        "colab": {
          "base_uri": "https://localhost:8080/"
        }
      },
      "outputs": [
        {
          "output_type": "execute_result",
          "data": {
            "text/plain": [
              "11"
            ]
          },
          "metadata": {},
          "execution_count": 98
        }
      ],
      "source": [
        "f(2)"
      ]
    },
    {
      "cell_type": "markdown",
      "id": "e9408441",
      "metadata": {
        "id": "e9408441"
      },
      "source": [
        "Lambda functions are often used as arguments to higher-order functions, i.e., functions that take other functions as parameters."
      ]
    },
    {
      "cell_type": "markdown",
      "id": "2ead38d8",
      "metadata": {
        "id": "2ead38d8"
      },
      "source": [
        "[How to sort a dictionary by value](https://stackoverflow.com/questions/613183/how-do-i-sort-a-dictionary-by-value)"
      ]
    },
    {
      "cell_type": "code",
      "execution_count": 99,
      "id": "84be26e0",
      "metadata": {
        "id": "84be26e0",
        "outputId": "1c52b25c-2c7c-4e89-b655-3705e57acc90",
        "colab": {
          "base_uri": "https://localhost:8080/"
        }
      },
      "outputs": [
        {
          "output_type": "execute_result",
          "data": {
            "text/plain": [
              "[('e', 0), ('d', 1), ('a', 2), ('c', 3), ('b', 4)]"
            ]
          },
          "metadata": {},
          "execution_count": 99
        }
      ],
      "source": [
        "x = {'a': 2, 'b': 4, 'c': 3, 'd': 1, 'e': 0}\n",
        "sorted(x.items(), key = lambda item: item[1])"
      ]
    },
    {
      "cell_type": "markdown",
      "id": "e85ebc31",
      "metadata": {
        "id": "e85ebc31"
      },
      "source": [
        "## Recursive Functions\n",
        "\n",
        "You can also call a function from within itself. This will results in a recursion for which you'd usually also need to define a stopping criterium."
      ]
    },
    {
      "cell_type": "code",
      "execution_count": 102,
      "id": "39a53945",
      "metadata": {
        "id": "39a53945",
        "outputId": "41e0bbdd-ea7b-41f9-a5dc-3670a9bbf81f",
        "colab": {
          "base_uri": "https://localhost:8080/"
        }
      },
      "outputs": [
        {
          "output_type": "stream",
          "name": "stdout",
          "text": [
            "5\n",
            "4\n",
            "3\n",
            "2\n",
            "1\n",
            "reached zero\n"
          ]
        }
      ],
      "source": [
        "def recursive_function(n):\n",
        "    if n == 0:\n",
        "        print(\"reached zero\")\n",
        "    else:\n",
        "        print(n)\n",
        "        recursive_function(n-1)  # beware that Python (and computers in general) have a maximum recursion depth\n",
        "\n",
        "recursive_function(5)"
      ]
    },
    {
      "cell_type": "markdown",
      "id": "2a6fb4c1",
      "metadata": {
        "id": "2a6fb4c1"
      },
      "source": [
        "## Type Hints & Docstrings\n",
        "\n",
        "While parameters do not have strict types in Python, you can use type hints to suggest a datatype you would expect. Docstrings at the beginning of the function can be used for documentation and follow some (non-standardized) format as well."
      ]
    },
    {
      "cell_type": "code",
      "execution_count": 111,
      "id": "78bee55b",
      "metadata": {
        "id": "78bee55b"
      },
      "outputs": [],
      "source": [
        "def my_function(param1: int, param2: float = 0.3) -> int:\n",
        "    \"\"\"A function with type hints and docstrings.\n",
        "\n",
        "    Params\n",
        "    ------\n",
        "    - param1: a parameter of type int\n",
        "    - param2: a parameter of type float\n",
        "\n",
        "    Returns\n",
        "    ------\n",
        "    - sum of the parameters\n",
        "    \"\"\"\n",
        "    return param1 + int(param2)"
      ]
    },
    {
      "cell_type": "code",
      "execution_count": 110,
      "id": "7f75f1c6",
      "metadata": {
        "id": "7f75f1c6",
        "outputId": "abc92b53-fad6-4c13-9395-afbd437e6f2e",
        "colab": {
          "base_uri": "https://localhost:8080/"
        }
      },
      "outputs": [
        {
          "output_type": "execute_result",
          "data": {
            "text/plain": [
              "6"
            ]
          },
          "metadata": {},
          "execution_count": 110
        }
      ],
      "source": [
        "my_function(3, 3)"
      ]
    }
  ],
  "metadata": {
    "kernelspec": {
      "display_name": "Python 3 (ipykernel)",
      "language": "python",
      "name": "python3"
    },
    "language_info": {
      "codemirror_mode": {
        "name": "ipython",
        "version": 3
      },
      "file_extension": ".py",
      "mimetype": "text/x-python",
      "name": "python",
      "nbconvert_exporter": "python",
      "pygments_lexer": "ipython3",
      "version": "3.11.5"
    },
    "colab": {
      "provenance": []
    }
  },
  "nbformat": 4,
  "nbformat_minor": 5
}