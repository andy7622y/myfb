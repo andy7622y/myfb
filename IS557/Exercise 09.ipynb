{
 "cells": [
  {
   "cell_type": "markdown",
   "id": "e9928b5f",
   "metadata": {},
   "source": [
    "# Pandas"
   ]
  },
  {
   "cell_type": "markdown",
   "id": "dbff3667",
   "metadata": {},
   "source": [
    "## Open file adult.csv as Pandas' DataFrame. Specify that missing values are denoted by '?'\n",
    "\n",
    "The file is available in the ILIAS folder.\n",
    "\n",
    "You can learn a bit more about this dataset [here](https://archive.ics.uci.edu/ml/datasets/adult)"
   ]
  },
  {
   "cell_type": "code",
   "execution_count": null,
   "id": "cf5801d9",
   "metadata": {},
   "outputs": [],
   "source": []
  },
  {
   "cell_type": "markdown",
   "id": "343cedb7",
   "metadata": {},
   "source": [
    "## What are all the different values for the attribute education?"
   ]
  },
  {
   "cell_type": "code",
   "execution_count": null,
   "id": "cb59741e",
   "metadata": {},
   "outputs": [],
   "source": []
  },
  {
   "cell_type": "markdown",
   "id": "71be78c5",
   "metadata": {},
   "source": [
    "## List all persons with a Bachelor degree as their highest degree sorted by their capital-loss in descending order"
   ]
  },
  {
   "cell_type": "code",
   "execution_count": null,
   "id": "10d6979f",
   "metadata": {},
   "outputs": [],
   "source": []
  },
  {
   "cell_type": "markdown",
   "id": "3ddfc04b",
   "metadata": {},
   "source": [
    "## What is the sum of capital-loss for these persons?"
   ]
  },
  {
   "cell_type": "code",
   "execution_count": null,
   "id": "4f1bed32",
   "metadata": {},
   "outputs": [],
   "source": []
  },
  {
   "cell_type": "markdown",
   "id": "f127625d",
   "metadata": {},
   "source": [
    "## How many males have a bachelor degree as their highest degree?\n"
   ]
  },
  {
   "cell_type": "code",
   "execution_count": null,
   "id": "c3550300",
   "metadata": {},
   "outputs": [],
   "source": []
  },
  {
   "cell_type": "markdown",
   "id": "e44b2e48",
   "metadata": {},
   "source": [
    "## List the 10 youngest persons with a bachelor degree or higher"
   ]
  },
  {
   "cell_type": "code",
   "execution_count": null,
   "id": "f0a43e5b",
   "metadata": {},
   "outputs": [],
   "source": []
  },
  {
   "cell_type": "markdown",
   "id": "e958171a",
   "metadata": {},
   "source": [
    "# Quality of Government Dataset"
   ]
  },
  {
   "cell_type": "code",
   "execution_count": null,
   "id": "633a8cd5",
   "metadata": {},
   "outputs": [],
   "source": [
    "# read the data directly online:\n",
    "df=pd.read_csv(\"http://www.qogdata.pol.gu.se/data/qog_std_cs_jan22.csv\")"
   ]
  },
  {
   "cell_type": "markdown",
   "id": "1236fd91",
   "metadata": {},
   "source": [
    "## How many rows does this dataset have?"
   ]
  },
  {
   "cell_type": "code",
   "execution_count": null,
   "id": "d9114442",
   "metadata": {},
   "outputs": [],
   "source": []
  },
  {
   "cell_type": "markdown",
   "id": "09801d23",
   "metadata": {},
   "source": [
    "## How many columns does this dataset have?"
   ]
  },
  {
   "cell_type": "code",
   "execution_count": null,
   "id": "2f9bfd81",
   "metadata": {},
   "outputs": [],
   "source": []
  },
  {
   "cell_type": "markdown",
   "id": "32034853",
   "metadata": {},
   "source": [
    "## For the following tasks, select these columns from the dataset: \n",
    "\n",
    "\"cname\", \"wdi_pop\", \"wdi_popgr\", \"wdi_gdpcapcur\", \"wdi_gdpcapgr\", \"wdi_area\", \"wdi_broadb\", \"ht_region\""
   ]
  },
  {
   "cell_type": "code",
   "execution_count": null,
   "id": "948e91ac",
   "metadata": {},
   "outputs": [],
   "source": []
  },
  {
   "cell_type": "markdown",
   "id": "d4e5753c",
   "metadata": {},
   "source": [
    "## Rename these columns to: \"country\", \"population\",\"population_growth\", \"gdp_per_capita\", \"gdp_growth\", \"area\", \"internet\", \"region\""
   ]
  },
  {
   "cell_type": "code",
   "execution_count": null,
   "id": "3ad9c54d",
   "metadata": {},
   "outputs": [],
   "source": []
  },
  {
   "cell_type": "markdown",
   "id": "25ea6d81",
   "metadata": {},
   "source": [
    "## Create a categorical column from the region codes\n",
    "the codes (in order correspond to the regions as follows):\n",
    "\"Eastern Europe\", \"Latin America\", \"North Africa & Middle East\", \"Sub-Saharan Africa\", \"Western Europe and North America\", \"East Asia\",\"South-East Asia\", \"South Asia\", \"Pacific\", \"Caribbean\""
   ]
  },
  {
   "cell_type": "code",
   "execution_count": null,
   "id": "2ac3d889",
   "metadata": {},
   "outputs": [],
   "source": []
  },
  {
   "cell_type": "markdown",
   "id": "a7a8a509",
   "metadata": {},
   "source": [
    "## Select the five countries with the highest population"
   ]
  },
  {
   "cell_type": "code",
   "execution_count": null,
   "id": "ac88ffbc",
   "metadata": {},
   "outputs": [],
   "source": []
  },
  {
   "cell_type": "markdown",
   "id": "3a9b48e5",
   "metadata": {},
   "source": [
    "## What are the mean values for each attribute?"
   ]
  },
  {
   "cell_type": "code",
   "execution_count": null,
   "id": "c62dbd47",
   "metadata": {},
   "outputs": [],
   "source": []
  },
  {
   "cell_type": "markdown",
   "id": "569cd759",
   "metadata": {
    "collapsed": true
   },
   "source": [
    "## Which country has the highest population in the region \"South-East Asia\"?"
   ]
  },
  {
   "cell_type": "code",
   "execution_count": null,
   "id": "9640e671",
   "metadata": {},
   "outputs": [],
   "source": []
  },
  {
   "cell_type": "markdown",
   "id": "ab7101f1",
   "metadata": {},
   "source": [
    "## Create a new column \"population_density\""
   ]
  },
  {
   "cell_type": "code",
   "execution_count": null,
   "id": "681656d4",
   "metadata": {},
   "outputs": [],
   "source": []
  },
  {
   "cell_type": "markdown",
   "id": "95f62799",
   "metadata": {},
   "source": [
    "## (Optional) What is the per country mean population density for each region\n",
    "(= sum of densities for each country / number of countries)\n",
    "\n",
    "Hint: you might want to use [groupby](https://pandas.pydata.org/pandas-docs/stable/reference/api/pandas.DataFrame.groupby.html) method"
   ]
  },
  {
   "cell_type": "code",
   "execution_count": null,
   "id": "75431728",
   "metadata": {},
   "outputs": [],
   "source": []
  },
  {
   "cell_type": "markdown",
   "id": "36e3849d",
   "metadata": {},
   "source": [
    "## (Optional) What is the actual population density in each region\n",
    "\n",
    "(= sum of population in the region / sum of areas in the region)\n",
    "\n",
    "Hint: Compute first the population sum and the area sum for each region\n"
   ]
  },
  {
   "cell_type": "code",
   "execution_count": null,
   "id": "e8deb048",
   "metadata": {},
   "outputs": [],
   "source": []
  }
 ],
 "metadata": {
  "kernelspec": {
   "display_name": "Python 3 (ipykernel)",
   "language": "python",
   "name": "python3"
  },
  "language_info": {
   "codemirror_mode": {
    "name": "ipython",
    "version": 3
   },
   "file_extension": ".py",
   "mimetype": "text/x-python",
   "name": "python",
   "nbconvert_exporter": "python",
   "pygments_lexer": "ipython3",
   "version": "3.11.5"
  }
 },
 "nbformat": 4,
 "nbformat_minor": 5
}
