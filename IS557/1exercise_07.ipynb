{
  "cells": [
    {
      "cell_type": "markdown",
      "metadata": {
        "id": "view-in-github",
        "colab_type": "text"
      },
      "source": [
        "<a href=\"https://colab.research.google.com/github/andy7622y/myfb/blob/main/IS557/1exercise_07.ipynb\" target=\"_parent\"><img src=\"https://colab.research.google.com/assets/colab-badge.svg\" alt=\"Open In Colab\"/></a>"
      ]
    },
    {
      "cell_type": "markdown",
      "id": "bbe2ee56",
      "metadata": {
        "id": "bbe2ee56"
      },
      "source": [
        "# For these tasks try to make your code as concise as possible. Try to avoid using for loops"
      ]
    },
    {
      "cell_type": "markdown",
      "id": "2b0bfd45",
      "metadata": {
        "id": "2b0bfd45"
      },
      "source": [
        "## Create an numpy array of length 100 with 0s on all even position and 3s on all odd positions"
      ]
    },
    {
      "cell_type": "code",
      "execution_count": null,
      "id": "fe30382a",
      "metadata": {
        "id": "fe30382a"
      },
      "outputs": [],
      "source": [
        "import numpy as np"
      ]
    },
    {
      "cell_type": "code",
      "source": [
        "a = np.zeros(100,dtype = int)\n",
        "a[::2] = 3\n",
        "a"
      ],
      "metadata": {
        "colab": {
          "base_uri": "https://localhost:8080/"
        },
        "id": "-nFMaB_VuFV3",
        "outputId": "b2120848-97d1-4156-c621-69070a7b2151"
      },
      "id": "-nFMaB_VuFV3",
      "execution_count": null,
      "outputs": [
        {
          "output_type": "execute_result",
          "data": {
            "text/plain": [
              "array([3, 0, 3, 0, 3, 0, 3, 0, 3, 0, 3, 0, 3, 0, 3, 0, 3, 0, 3, 0, 3, 0,\n",
              "       3, 0, 3, 0, 3, 0, 3, 0, 3, 0, 3, 0, 3, 0, 3, 0, 3, 0, 3, 0, 3, 0,\n",
              "       3, 0, 3, 0, 3, 0, 3, 0, 3, 0, 3, 0, 3, 0, 3, 0, 3, 0, 3, 0, 3, 0,\n",
              "       3, 0, 3, 0, 3, 0, 3, 0, 3, 0, 3, 0, 3, 0, 3, 0, 3, 0, 3, 0, 3, 0,\n",
              "       3, 0, 3, 0, 3, 0, 3, 0, 3, 0, 3, 0])"
            ]
          },
          "metadata": {},
          "execution_count": 11
        }
      ]
    },
    {
      "cell_type": "markdown",
      "id": "0a870d1c",
      "metadata": {
        "id": "0a870d1c"
      },
      "source": [
        "## Create a numpy array containing number from 100 to 200\n",
        "Hint: there is a special function for that similar to range for lists"
      ]
    },
    {
      "cell_type": "code",
      "execution_count": null,
      "id": "934be0f0",
      "metadata": {
        "colab": {
          "base_uri": "https://localhost:8080/"
        },
        "id": "934be0f0",
        "outputId": "208e6734-17ac-4897-85dd-64b13e225fc8"
      },
      "outputs": [
        {
          "output_type": "execute_result",
          "data": {
            "text/plain": [
              "array([100, 101, 102, 103, 104, 105, 106, 107, 108, 109, 110, 111, 112,\n",
              "       113, 114, 115, 116, 117, 118, 119, 120, 121, 122, 123, 124, 125,\n",
              "       126, 127, 128, 129, 130, 131, 132, 133, 134, 135, 136, 137, 138,\n",
              "       139, 140, 141, 142, 143, 144, 145, 146, 147, 148, 149, 150, 151,\n",
              "       152, 153, 154, 155, 156, 157, 158, 159, 160, 161, 162, 163, 164,\n",
              "       165, 166, 167, 168, 169, 170, 171, 172, 173, 174, 175, 176, 177,\n",
              "       178, 179, 180, 181, 182, 183, 184, 185, 186, 187, 188, 189, 190,\n",
              "       191, 192, 193, 194, 195, 196, 197, 198, 199, 200])"
            ]
          },
          "metadata": {},
          "execution_count": 3
        }
      ],
      "source": [
        "np.arange(100,201)"
      ]
    },
    {
      "cell_type": "code",
      "execution_count": null,
      "id": "d56d33ea",
      "metadata": {
        "id": "d56d33ea"
      },
      "outputs": [],
      "source": []
    },
    {
      "cell_type": "markdown",
      "id": "8a299314",
      "metadata": {
        "id": "8a299314"
      },
      "source": [
        "## Compute a Euclidean distance between two points represented by numpy arrays"
      ]
    },
    {
      "cell_type": "code",
      "execution_count": null,
      "id": "7891c703",
      "metadata": {
        "colab": {
          "base_uri": "https://localhost:8080/"
        },
        "id": "7891c703",
        "outputId": "b130573d-e57b-4fb9-b16f-800eae306db1"
      },
      "outputs": [
        {
          "output_type": "execute_result",
          "data": {
            "text/plain": [
              "2.23606797749979"
            ]
          },
          "metadata": {},
          "execution_count": 20
        }
      ],
      "source": [
        "a = np.array((3,4))\n",
        "b = np.array((2,2))\n",
        "dist = np.linalg.norm(a-b)\n",
        "dist"
      ]
    },
    {
      "cell_type": "markdown",
      "id": "412b77f6",
      "metadata": {
        "id": "412b77f6"
      },
      "source": [
        "## Create a 4x6 array containing 1s on the borders and 0s inside"
      ]
    },
    {
      "cell_type": "code",
      "execution_count": null,
      "id": "7f04c387",
      "metadata": {
        "colab": {
          "base_uri": "https://localhost:8080/"
        },
        "id": "7f04c387",
        "outputId": "73067f19-e7dc-4d8f-a062-1e75c0951646"
      },
      "outputs": [
        {
          "output_type": "execute_result",
          "data": {
            "text/plain": [
              "array([[1, 1, 1, 1, 1, 1],\n",
              "       [1, 0, 0, 0, 0, 1],\n",
              "       [1, 0, 0, 0, 0, 1],\n",
              "       [1, 0, 0, 0, 0, 1],\n",
              "       [1, 0, 0, 0, 0, 1],\n",
              "       [1, 0, 0, 0, 0, 1],\n",
              "       [1, 1, 1, 1, 1, 1]])"
            ]
          },
          "metadata": {},
          "execution_count": 44
        }
      ],
      "source": [
        "I = 7\n",
        "J = 6\n",
        "b = np.zeros((I,J),dtype = int)\n",
        "for i in range(I):\n",
        "  if i == 0 or i == I-1:\n",
        "    for j in range(J):\n",
        "      b[i][j] = 1\n",
        "  else:\n",
        "      b[i][0] = 1\n",
        "      b[i][-1] = 1\n",
        "\n",
        "b"
      ]
    },
    {
      "cell_type": "markdown",
      "id": "2e29914a",
      "metadata": {
        "id": "2e29914a"
      },
      "source": [
        "## Swap the first and the third rows of this array"
      ]
    },
    {
      "cell_type": "code",
      "execution_count": null,
      "id": "8815415d",
      "metadata": {
        "id": "8815415d"
      },
      "outputs": [],
      "source": []
    },
    {
      "cell_type": "code",
      "execution_count": null,
      "id": "07c75cd0",
      "metadata": {
        "id": "07c75cd0"
      },
      "outputs": [],
      "source": []
    },
    {
      "cell_type": "code",
      "execution_count": null,
      "id": "8417a476",
      "metadata": {
        "id": "8417a476"
      },
      "outputs": [],
      "source": []
    },
    {
      "cell_type": "markdown",
      "id": "f2c67328",
      "metadata": {
        "id": "f2c67328"
      },
      "source": [
        "## Create a 8x8 array to represent a chess board, such as that 0s correspond to white squares and 1s to black squares"
      ]
    },
    {
      "cell_type": "code",
      "execution_count": null,
      "id": "7da3014c",
      "metadata": {
        "id": "7da3014c"
      },
      "outputs": [],
      "source": []
    },
    {
      "cell_type": "code",
      "execution_count": null,
      "id": "e310c1cf",
      "metadata": {
        "id": "e310c1cf"
      },
      "outputs": [],
      "source": []
    },
    {
      "cell_type": "markdown",
      "id": "2cae4daa",
      "metadata": {
        "id": "2cae4daa"
      },
      "source": [
        "## Ploting trajectory\n",
        "If an object is thrown into the air with a velocity $v$ and angle $\\alpha$ from horizontal then its trajectory can be computed using the following formula:\n",
        "\n",
        "$y = x\\tan\\alpha - \\frac{gx^2}{2v^2\\cos^2\\alpha}$.\n",
        "\n",
        "Plot the trajectory of an object for a specified $v$ and $\\alpha$, experiment with different values of $\\alpha$ by ploting multiple trajectories on the same plot.\n",
        "\n",
        "Hint: np.linspace(start, end, N) function creates a numpy array with N numbers equally spaced between start and end"
      ]
    },
    {
      "cell_type": "code",
      "execution_count": null,
      "id": "ca216505",
      "metadata": {
        "id": "ca216505"
      },
      "outputs": [],
      "source": []
    },
    {
      "cell_type": "code",
      "execution_count": null,
      "id": "25299d9e",
      "metadata": {
        "id": "25299d9e"
      },
      "outputs": [],
      "source": []
    }
  ],
  "metadata": {
    "kernelspec": {
      "display_name": "Python 3 (ipykernel)",
      "language": "python",
      "name": "python3"
    },
    "language_info": {
      "codemirror_mode": {
        "name": "ipython",
        "version": 3
      },
      "file_extension": ".py",
      "mimetype": "text/x-python",
      "name": "python",
      "nbconvert_exporter": "python",
      "pygments_lexer": "ipython3",
      "version": "3.11.5"
    },
    "colab": {
      "provenance": [],
      "include_colab_link": true
    }
  },
  "nbformat": 4,
  "nbformat_minor": 5
}