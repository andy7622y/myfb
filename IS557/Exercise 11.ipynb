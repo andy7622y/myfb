{
 "cells": [
  {
   "cell_type": "markdown",
   "id": "5fcb91d5",
   "metadata": {},
   "source": [
    "## Write a function that gets the titles of pages that are linked in one Wikipedia article.\n",
    "\n",
    "Hints: \n",
    "- Use Wikipedia API https://www.mediawiki.org/wiki/API:Main_page, see  https://www.mediawiki.org/wiki/API:Properties, https://www.mediawiki.org/wiki/API:Links#Sample_code for further info\n",
    "- use requests library by specifying url and params parameters, e.g. ```requests.get(url = api_url, params = params)```\n",
    "- use the `pllimit` to increase the number of links\n",
    "\n",
    "As an example consider the wikipedia page \"University_of_Mannheim\"."
   ]
  },
  {
   "cell_type": "code",
   "execution_count": null,
   "id": "08934aca",
   "metadata": {
    "collapsed": true
   },
   "outputs": [],
   "source": []
  },
  {
   "cell_type": "code",
   "execution_count": null,
   "id": "e7e93093",
   "metadata": {},
   "outputs": [],
   "source": []
  },
  {
   "cell_type": "code",
   "execution_count": null,
   "id": "2170e85d",
   "metadata": {},
   "outputs": [],
   "source": []
  },
  {
   "cell_type": "markdown",
   "id": "66939dbd",
   "metadata": {},
   "source": [
    "## Get the extract of a Wikipedia page"
   ]
  },
  {
   "cell_type": "markdown",
   "id": "fccbffab",
   "metadata": {},
   "source": [
    "Hint: for that you would need to use a property called 'extracts'. You would also like to set additional parameters ```exintro``` and ```explaintext``` to be ```True```"
   ]
  },
  {
   "cell_type": "code",
   "execution_count": null,
   "id": "f1295520",
   "metadata": {},
   "outputs": [],
   "source": []
  },
  {
   "cell_type": "code",
   "execution_count": null,
   "id": "92321ed0",
   "metadata": {},
   "outputs": [],
   "source": []
  },
  {
   "cell_type": "code",
   "execution_count": null,
   "id": "304ac8e7",
   "metadata": {},
   "outputs": [],
   "source": []
  },
  {
   "cell_type": "markdown",
   "id": "078c7765",
   "metadata": {},
   "source": [
    "## Create a recipe shopping list"
   ]
  },
  {
   "cell_type": "markdown",
   "id": "fdf3bfb8",
   "metadata": {},
   "source": [
    "Assume that you want to prepare several meals, e.g. [Spaghetti Bolognese](https://www.chefkoch.de/rezepte/1618631269095146/Spaghetti-Bolognese.html) and [Yvonnes Wikingertopf](https://www.chefkoch.de/rezepte/1738671282836420/Yvonnes-Wikingertopf.html). Use Chefkoch API to create a shopping list of ingridients that you will need given a list of recipe IDs (aggregate multiple occurences of the same ingredient into one). You can use Chefkoch API by calling https://api.chefkoch.de/v2/recipes/ID, where ID is a corresponding ID, e.g. 1618631269095146"
   ]
  },
  {
   "cell_type": "code",
   "execution_count": null,
   "id": "4eb07e2c",
   "metadata": {},
   "outputs": [],
   "source": []
  },
  {
   "cell_type": "code",
   "execution_count": null,
   "id": "2c02543a",
   "metadata": {},
   "outputs": [],
   "source": []
  },
  {
   "cell_type": "code",
   "execution_count": null,
   "id": "56ab5dde",
   "metadata": {},
   "outputs": [],
   "source": []
  },
  {
   "cell_type": "markdown",
   "id": "733248ab",
   "metadata": {},
   "source": [
    "## List Uni Mannheim's research affiliations\n",
    "\n",
    "Create a Pandas DataFrame that contains all research centers listed here: https://www.uni-mannheim.de/en/research/our-research/research-institutions/ with name and URL."
   ]
  },
  {
   "cell_type": "code",
   "execution_count": null,
   "id": "186495c4",
   "metadata": {},
   "outputs": [],
   "source": []
  },
  {
   "cell_type": "code",
   "execution_count": null,
   "id": "da0e90dc",
   "metadata": {},
   "outputs": [],
   "source": []
  },
  {
   "cell_type": "code",
   "execution_count": null,
   "id": "64ab55c1",
   "metadata": {},
   "outputs": [],
   "source": []
  },
  {
   "cell_type": "markdown",
   "id": "fae36f5d",
   "metadata": {},
   "source": [
    "## Extract the table of soccer results (Bundesliga) from the \"sportschau\" website https://www.sportschau.de/live-und-ergebnisse/fussball/deutschland-bundesliga/tabelle/"
   ]
  },
  {
   "cell_type": "code",
   "execution_count": null,
   "id": "4211fa1f",
   "metadata": {},
   "outputs": [],
   "source": []
  },
  {
   "cell_type": "code",
   "execution_count": null,
   "id": "6ecb1510",
   "metadata": {},
   "outputs": [],
   "source": []
  },
  {
   "cell_type": "code",
   "execution_count": null,
   "id": "d2ba9614",
   "metadata": {},
   "outputs": [],
   "source": []
  }
 ],
 "metadata": {
  "kernelspec": {
   "display_name": "Python 3 (ipykernel)",
   "language": "python",
   "name": "python3"
  },
  "language_info": {
   "codemirror_mode": {
    "name": "ipython",
    "version": 3
   },
   "file_extension": ".py",
   "mimetype": "text/x-python",
   "name": "python",
   "nbconvert_exporter": "python",
   "pygments_lexer": "ipython3",
   "version": "3.8.8"
  }
 },
 "nbformat": 4,
 "nbformat_minor": 5
}
