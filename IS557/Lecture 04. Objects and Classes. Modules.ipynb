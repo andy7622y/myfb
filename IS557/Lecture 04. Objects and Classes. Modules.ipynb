{
  "cells": [
    {
      "cell_type": "markdown",
      "id": "8e4ea7ca",
      "metadata": {
        "id": "8e4ea7ca"
      },
      "source": [
        "# Objects and classes"
      ]
    },
    {
      "cell_type": "markdown",
      "id": "c8772e9a",
      "metadata": {
        "id": "c8772e9a"
      },
      "source": [
        "[Data model](https://docs.python.org/dev/reference/datamodel.html)\n",
        "\n",
        "Objects are Python’s abstraction for data. All data in a Python program is represented by objects."
      ]
    },
    {
      "cell_type": "markdown",
      "id": "603c2da1",
      "metadata": {
        "id": "603c2da1"
      },
      "source": [
        "Each object in Python has identity, type, and value."
      ]
    },
    {
      "cell_type": "markdown",
      "id": "0aafd28c",
      "metadata": {
        "id": "0aafd28c"
      },
      "source": [
        "The type of an object determines the operations it supports (e.g., \"does it have a length?\") and also defines the possible values for objects of that type."
      ]
    },
    {
      "cell_type": "markdown",
      "id": "dacc72d2",
      "metadata": {
        "id": "dacc72d2"
      },
      "source": [
        "This is true for types that we have already considered, e.g. strings, lists, and integers. In the following example, `s` would store (or more precisely refer to) an object of type ```str``` with a value ```string```"
      ]
    },
    {
      "cell_type": "code",
      "execution_count": 1,
      "id": "2a1df672",
      "metadata": {
        "id": "2a1df672",
        "outputId": "4d8f37c1-3876-41e2-e4ef-9cc1d5c38177",
        "colab": {
          "base_uri": "https://localhost:8080/"
        }
      },
      "outputs": [
        {
          "output_type": "execute_result",
          "data": {
            "text/plain": [
              "str"
            ]
          },
          "metadata": {},
          "execution_count": 1
        }
      ],
      "source": [
        "s = \"string\"\n",
        "type(s)"
      ]
    },
    {
      "cell_type": "markdown",
      "id": "a45a4c1a",
      "metadata": {
        "id": "a45a4c1a"
      },
      "source": [
        "Because `s` refers to an object of type `str`, we can use operations specified for this type:"
      ]
    },
    {
      "cell_type": "code",
      "execution_count": null,
      "id": "b1b884e4",
      "metadata": {
        "id": "b1b884e4",
        "outputId": "41fb5009-b8b0-41f7-8b8b-669e7e7e1590",
        "colab": {
          "base_uri": "https://localhost:8080/",
          "height": 35
        }
      },
      "outputs": [
        {
          "output_type": "execute_result",
          "data": {
            "text/plain": [
              "'STRING'"
            ],
            "application/vnd.google.colaboratory.intrinsic+json": {
              "type": "string"
            }
          },
          "metadata": {},
          "execution_count": 2
        }
      ],
      "source": [
        "s.upper()"
      ]
    },
    {
      "cell_type": "markdown",
      "id": "51bf2286",
      "metadata": {
        "id": "51bf2286"
      },
      "source": [
        "This is also true for lists:"
      ]
    },
    {
      "cell_type": "code",
      "execution_count": null,
      "id": "8277b774",
      "metadata": {
        "id": "8277b774",
        "outputId": "e5cd02f7-f8b1-4d27-cfbc-5e32c20446e3",
        "colab": {
          "base_uri": "https://localhost:8080/"
        }
      },
      "outputs": [
        {
          "output_type": "execute_result",
          "data": {
            "text/plain": [
              "list"
            ]
          },
          "metadata": {},
          "execution_count": 3
        }
      ],
      "source": [
        "x = [4, 5]\n",
        "type(x)"
      ]
    },
    {
      "cell_type": "code",
      "execution_count": null,
      "id": "7b7f9500",
      "metadata": {
        "id": "7b7f9500",
        "outputId": "364365df-4602-4e38-d748-65702c746e49",
        "colab": {
          "base_uri": "https://localhost:8080/"
        }
      },
      "outputs": [
        {
          "output_type": "execute_result",
          "data": {
            "text/plain": [
              "[4, 5, 3]"
            ]
          },
          "metadata": {},
          "execution_count": 4
        }
      ],
      "source": [
        "x.append(3)\n",
        "x"
      ]
    },
    {
      "cell_type": "code",
      "execution_count": null,
      "id": "a4ece3f6",
      "metadata": {
        "collapsed": true,
        "id": "a4ece3f6",
        "outputId": "05f89ff8-5f8b-4022-d26d-22a3c5d23e1a",
        "colab": {
          "base_uri": "https://localhost:8080/"
        }
      },
      "outputs": [
        {
          "output_type": "stream",
          "name": "stdout",
          "text": [
            "Help on class list in module builtins:\n",
            "\n",
            "class list(object)\n",
            " |  list(iterable=(), /)\n",
            " |  \n",
            " |  Built-in mutable sequence.\n",
            " |  \n",
            " |  If no argument is given, the constructor creates a new empty list.\n",
            " |  The argument must be an iterable if specified.\n",
            " |  \n",
            " |  Methods defined here:\n",
            " |  \n",
            " |  __add__(self, value, /)\n",
            " |      Return self+value.\n",
            " |  \n",
            " |  __contains__(self, key, /)\n",
            " |      Return key in self.\n",
            " |  \n",
            " |  __delitem__(self, key, /)\n",
            " |      Delete self[key].\n",
            " |  \n",
            " |  __eq__(self, value, /)\n",
            " |      Return self==value.\n",
            " |  \n",
            " |  __ge__(self, value, /)\n",
            " |      Return self>=value.\n",
            " |  \n",
            " |  __getattribute__(self, name, /)\n",
            " |      Return getattr(self, name).\n",
            " |  \n",
            " |  __getitem__(...)\n",
            " |      x.__getitem__(y) <==> x[y]\n",
            " |  \n",
            " |  __gt__(self, value, /)\n",
            " |      Return self>value.\n",
            " |  \n",
            " |  __iadd__(self, value, /)\n",
            " |      Implement self+=value.\n",
            " |  \n",
            " |  __imul__(self, value, /)\n",
            " |      Implement self*=value.\n",
            " |  \n",
            " |  __init__(self, /, *args, **kwargs)\n",
            " |      Initialize self.  See help(type(self)) for accurate signature.\n",
            " |  \n",
            " |  __iter__(self, /)\n",
            " |      Implement iter(self).\n",
            " |  \n",
            " |  __le__(self, value, /)\n",
            " |      Return self<=value.\n",
            " |  \n",
            " |  __len__(self, /)\n",
            " |      Return len(self).\n",
            " |  \n",
            " |  __lt__(self, value, /)\n",
            " |      Return self<value.\n",
            " |  \n",
            " |  __mul__(self, value, /)\n",
            " |      Return self*value.\n",
            " |  \n",
            " |  __ne__(self, value, /)\n",
            " |      Return self!=value.\n",
            " |  \n",
            " |  __repr__(self, /)\n",
            " |      Return repr(self).\n",
            " |  \n",
            " |  __reversed__(self, /)\n",
            " |      Return a reverse iterator over the list.\n",
            " |  \n",
            " |  __rmul__(self, value, /)\n",
            " |      Return value*self.\n",
            " |  \n",
            " |  __setitem__(self, key, value, /)\n",
            " |      Set self[key] to value.\n",
            " |  \n",
            " |  __sizeof__(self, /)\n",
            " |      Return the size of the list in memory, in bytes.\n",
            " |  \n",
            " |  append(self, object, /)\n",
            " |      Append object to the end of the list.\n",
            " |  \n",
            " |  clear(self, /)\n",
            " |      Remove all items from list.\n",
            " |  \n",
            " |  copy(self, /)\n",
            " |      Return a shallow copy of the list.\n",
            " |  \n",
            " |  count(self, value, /)\n",
            " |      Return number of occurrences of value.\n",
            " |  \n",
            " |  extend(self, iterable, /)\n",
            " |      Extend list by appending elements from the iterable.\n",
            " |  \n",
            " |  index(self, value, start=0, stop=9223372036854775807, /)\n",
            " |      Return first index of value.\n",
            " |      \n",
            " |      Raises ValueError if the value is not present.\n",
            " |  \n",
            " |  insert(self, index, object, /)\n",
            " |      Insert object before index.\n",
            " |  \n",
            " |  pop(self, index=-1, /)\n",
            " |      Remove and return item at index (default last).\n",
            " |      \n",
            " |      Raises IndexError if list is empty or index is out of range.\n",
            " |  \n",
            " |  remove(self, value, /)\n",
            " |      Remove first occurrence of value.\n",
            " |      \n",
            " |      Raises ValueError if the value is not present.\n",
            " |  \n",
            " |  reverse(self, /)\n",
            " |      Reverse *IN PLACE*.\n",
            " |  \n",
            " |  sort(self, /, *, key=None, reverse=False)\n",
            " |      Sort the list in ascending order and return None.\n",
            " |      \n",
            " |      The sort is in-place (i.e. the list itself is modified) and stable (i.e. the\n",
            " |      order of two equal elements is maintained).\n",
            " |      \n",
            " |      If a key function is given, apply it once to each list item and sort them,\n",
            " |      ascending or descending, according to their function values.\n",
            " |      \n",
            " |      The reverse flag can be set to sort in descending order.\n",
            " |  \n",
            " |  ----------------------------------------------------------------------\n",
            " |  Class methods defined here:\n",
            " |  \n",
            " |  __class_getitem__(...) from builtins.type\n",
            " |      See PEP 585\n",
            " |  \n",
            " |  ----------------------------------------------------------------------\n",
            " |  Static methods defined here:\n",
            " |  \n",
            " |  __new__(*args, **kwargs) from builtins.type\n",
            " |      Create and return a new object.  See help(type) for accurate signature.\n",
            " |  \n",
            " |  ----------------------------------------------------------------------\n",
            " |  Data and other attributes defined here:\n",
            " |  \n",
            " |  __hash__ = None\n",
            "\n"
          ]
        }
      ],
      "source": [
        "help(list)"
      ]
    },
    {
      "cell_type": "markdown",
      "id": "dd130614",
      "metadata": {
        "id": "dd130614"
      },
      "source": [
        "And even for numbers:"
      ]
    },
    {
      "cell_type": "code",
      "execution_count": null,
      "id": "f4cb3111",
      "metadata": {
        "id": "f4cb3111",
        "outputId": "96dca450-bc2d-4c88-bad1-43712a23f9e5",
        "colab": {
          "base_uri": "https://localhost:8080/"
        }
      },
      "outputs": [
        {
          "output_type": "execute_result",
          "data": {
            "text/plain": [
              "int"
            ]
          },
          "metadata": {},
          "execution_count": 6
        }
      ],
      "source": [
        "type(2)"
      ]
    },
    {
      "cell_type": "code",
      "execution_count": null,
      "id": "a8cdf709",
      "metadata": {
        "scrolled": false,
        "collapsed": true,
        "id": "a8cdf709",
        "outputId": "4c9d456a-2199-4f6d-ee26-cfe3b01a2968"
      },
      "outputs": [
        {
          "name": "stdout",
          "output_type": "stream",
          "text": [
            "Help on class int in module builtins:\n",
            "\n",
            "class int(object)\n",
            " |  int([x]) -> integer\n",
            " |  int(x, base=10) -> integer\n",
            " |  \n",
            " |  Convert a number or string to an integer, or return 0 if no arguments\n",
            " |  are given.  If x is a number, return x.__int__().  For floating point\n",
            " |  numbers, this truncates towards zero.\n",
            " |  \n",
            " |  If x is not a number or if base is given, then x must be a string,\n",
            " |  bytes, or bytearray instance representing an integer literal in the\n",
            " |  given base.  The literal can be preceded by '+' or '-' and be surrounded\n",
            " |  by whitespace.  The base defaults to 10.  Valid bases are 0 and 2-36.\n",
            " |  Base 0 means to interpret the base from the string as an integer literal.\n",
            " |  >>> int('0b100', base=0)\n",
            " |  4\n",
            " |  \n",
            " |  Built-in subclasses:\n",
            " |      bool\n",
            " |  \n",
            " |  Methods defined here:\n",
            " |  \n",
            " |  __abs__(self, /)\n",
            " |      abs(self)\n",
            " |  \n",
            " |  __add__(self, value, /)\n",
            " |      Return self+value.\n",
            " |  \n",
            " |  __and__(self, value, /)\n",
            " |      Return self&value.\n",
            " |  \n",
            " |  __bool__(self, /)\n",
            " |      True if self else False\n",
            " |  \n",
            " |  __ceil__(...)\n",
            " |      Ceiling of an Integral returns itself.\n",
            " |  \n",
            " |  __divmod__(self, value, /)\n",
            " |      Return divmod(self, value).\n",
            " |  \n",
            " |  __eq__(self, value, /)\n",
            " |      Return self==value.\n",
            " |  \n",
            " |  __float__(self, /)\n",
            " |      float(self)\n",
            " |  \n",
            " |  __floor__(...)\n",
            " |      Flooring an Integral returns itself.\n",
            " |  \n",
            " |  __floordiv__(self, value, /)\n",
            " |      Return self//value.\n",
            " |  \n",
            " |  __format__(self, format_spec, /)\n",
            " |      Default object formatter.\n",
            " |  \n",
            " |  __ge__(self, value, /)\n",
            " |      Return self>=value.\n",
            " |  \n",
            " |  __getattribute__(self, name, /)\n",
            " |      Return getattr(self, name).\n",
            " |  \n",
            " |  __getnewargs__(self, /)\n",
            " |  \n",
            " |  __gt__(self, value, /)\n",
            " |      Return self>value.\n",
            " |  \n",
            " |  __hash__(self, /)\n",
            " |      Return hash(self).\n",
            " |  \n",
            " |  __index__(self, /)\n",
            " |      Return self converted to an integer, if self is suitable for use as an index into a list.\n",
            " |  \n",
            " |  __int__(self, /)\n",
            " |      int(self)\n",
            " |  \n",
            " |  __invert__(self, /)\n",
            " |      ~self\n",
            " |  \n",
            " |  __le__(self, value, /)\n",
            " |      Return self<=value.\n",
            " |  \n",
            " |  __lshift__(self, value, /)\n",
            " |      Return self<<value.\n",
            " |  \n",
            " |  __lt__(self, value, /)\n",
            " |      Return self<value.\n",
            " |  \n",
            " |  __mod__(self, value, /)\n",
            " |      Return self%value.\n",
            " |  \n",
            " |  __mul__(self, value, /)\n",
            " |      Return self*value.\n",
            " |  \n",
            " |  __ne__(self, value, /)\n",
            " |      Return self!=value.\n",
            " |  \n",
            " |  __neg__(self, /)\n",
            " |      -self\n",
            " |  \n",
            " |  __or__(self, value, /)\n",
            " |      Return self|value.\n",
            " |  \n",
            " |  __pos__(self, /)\n",
            " |      +self\n",
            " |  \n",
            " |  __pow__(self, value, mod=None, /)\n",
            " |      Return pow(self, value, mod).\n",
            " |  \n",
            " |  __radd__(self, value, /)\n",
            " |      Return value+self.\n",
            " |  \n",
            " |  __rand__(self, value, /)\n",
            " |      Return value&self.\n",
            " |  \n",
            " |  __rdivmod__(self, value, /)\n",
            " |      Return divmod(value, self).\n",
            " |  \n",
            " |  __repr__(self, /)\n",
            " |      Return repr(self).\n",
            " |  \n",
            " |  __rfloordiv__(self, value, /)\n",
            " |      Return value//self.\n",
            " |  \n",
            " |  __rlshift__(self, value, /)\n",
            " |      Return value<<self.\n",
            " |  \n",
            " |  __rmod__(self, value, /)\n",
            " |      Return value%self.\n",
            " |  \n",
            " |  __rmul__(self, value, /)\n",
            " |      Return value*self.\n",
            " |  \n",
            " |  __ror__(self, value, /)\n",
            " |      Return value|self.\n",
            " |  \n",
            " |  __round__(...)\n",
            " |      Rounding an Integral returns itself.\n",
            " |      \n",
            " |      Rounding with an ndigits argument also returns an integer.\n",
            " |  \n",
            " |  __rpow__(self, value, mod=None, /)\n",
            " |      Return pow(value, self, mod).\n",
            " |  \n",
            " |  __rrshift__(self, value, /)\n",
            " |      Return value>>self.\n",
            " |  \n",
            " |  __rshift__(self, value, /)\n",
            " |      Return self>>value.\n",
            " |  \n",
            " |  __rsub__(self, value, /)\n",
            " |      Return value-self.\n",
            " |  \n",
            " |  __rtruediv__(self, value, /)\n",
            " |      Return value/self.\n",
            " |  \n",
            " |  __rxor__(self, value, /)\n",
            " |      Return value^self.\n",
            " |  \n",
            " |  __sizeof__(self, /)\n",
            " |      Returns size in memory, in bytes.\n",
            " |  \n",
            " |  __sub__(self, value, /)\n",
            " |      Return self-value.\n",
            " |  \n",
            " |  __truediv__(self, value, /)\n",
            " |      Return self/value.\n",
            " |  \n",
            " |  __trunc__(...)\n",
            " |      Truncating an Integral returns itself.\n",
            " |  \n",
            " |  __xor__(self, value, /)\n",
            " |      Return self^value.\n",
            " |  \n",
            " |  as_integer_ratio(self, /)\n",
            " |      Return integer ratio.\n",
            " |      \n",
            " |      Return a pair of integers, whose ratio is exactly equal to the original int\n",
            " |      and with a positive denominator.\n",
            " |      \n",
            " |      >>> (10).as_integer_ratio()\n",
            " |      (10, 1)\n",
            " |      >>> (-10).as_integer_ratio()\n",
            " |      (-10, 1)\n",
            " |      >>> (0).as_integer_ratio()\n",
            " |      (0, 1)\n",
            " |  \n",
            " |  bit_count(self, /)\n",
            " |      Number of ones in the binary representation of the absolute value of self.\n",
            " |      \n",
            " |      Also known as the population count.\n",
            " |      \n",
            " |      >>> bin(13)\n",
            " |      '0b1101'\n",
            " |      >>> (13).bit_count()\n",
            " |      3\n",
            " |  \n",
            " |  bit_length(self, /)\n",
            " |      Number of bits necessary to represent self in binary.\n",
            " |      \n",
            " |      >>> bin(37)\n",
            " |      '0b100101'\n",
            " |      >>> (37).bit_length()\n",
            " |      6\n",
            " |  \n",
            " |  conjugate(...)\n",
            " |      Returns self, the complex conjugate of any int.\n",
            " |  \n",
            " |  to_bytes(self, /, length=1, byteorder='big', *, signed=False)\n",
            " |      Return an array of bytes representing an integer.\n",
            " |      \n",
            " |      length\n",
            " |        Length of bytes object to use.  An OverflowError is raised if the\n",
            " |        integer is not representable with the given number of bytes.  Default\n",
            " |        is length 1.\n",
            " |      byteorder\n",
            " |        The byte order used to represent the integer.  If byteorder is 'big',\n",
            " |        the most significant byte is at the beginning of the byte array.  If\n",
            " |        byteorder is 'little', the most significant byte is at the end of the\n",
            " |        byte array.  To request the native byte order of the host system, use\n",
            " |        `sys.byteorder' as the byte order value.  Default is to use 'big'.\n",
            " |      signed\n",
            " |        Determines whether two's complement is used to represent the integer.\n",
            " |        If signed is False and a negative integer is given, an OverflowError\n",
            " |        is raised.\n",
            " |  \n",
            " |  ----------------------------------------------------------------------\n",
            " |  Class methods defined here:\n",
            " |  \n",
            " |  from_bytes(bytes, byteorder='big', *, signed=False) from builtins.type\n",
            " |      Return the integer represented by the given array of bytes.\n",
            " |      \n",
            " |      bytes\n",
            " |        Holds the array of bytes to convert.  The argument must either\n",
            " |        support the buffer protocol or be an iterable object producing bytes.\n",
            " |        Bytes and bytearray are examples of built-in objects that support the\n",
            " |        buffer protocol.\n",
            " |      byteorder\n",
            " |        The byte order used to represent the integer.  If byteorder is 'big',\n",
            " |        the most significant byte is at the beginning of the byte array.  If\n",
            " |        byteorder is 'little', the most significant byte is at the end of the\n",
            " |        byte array.  To request the native byte order of the host system, use\n",
            " |        `sys.byteorder' as the byte order value.  Default is to use 'big'.\n",
            " |      signed\n",
            " |        Indicates whether two's complement is used to represent the integer.\n",
            " |  \n",
            " |  ----------------------------------------------------------------------\n",
            " |  Static methods defined here:\n",
            " |  \n",
            " |  __new__(*args, **kwargs) from builtins.type\n",
            " |      Create and return a new object.  See help(type) for accurate signature.\n",
            " |  \n",
            " |  ----------------------------------------------------------------------\n",
            " |  Data descriptors defined here:\n",
            " |  \n",
            " |  denominator\n",
            " |      the denominator of a rational number in lowest terms\n",
            " |  \n",
            " |  imag\n",
            " |      the imaginary part of a complex number\n",
            " |  \n",
            " |  numerator\n",
            " |      the numerator of a rational number in lowest terms\n",
            " |  \n",
            " |  real\n",
            " |      the real part of a complex number\n",
            "\n"
          ]
        }
      ],
      "source": [
        "help(int)"
      ]
    },
    {
      "cell_type": "markdown",
      "id": "550832a5",
      "metadata": {
        "id": "550832a5"
      },
      "source": [
        "Although it is rarely used in practice, numbers are objects like everything else in Python, and we can call their methods."
      ]
    },
    {
      "cell_type": "code",
      "execution_count": null,
      "id": "fe13247c",
      "metadata": {
        "id": "fe13247c",
        "outputId": "c031ee8c-63f4-4e78-fd4f-7220dfa38c9c",
        "colab": {
          "base_uri": "https://localhost:8080/"
        }
      },
      "outputs": [
        {
          "output_type": "execute_result",
          "data": {
            "text/plain": [
              "12"
            ]
          },
          "metadata": {},
          "execution_count": 10
        }
      ],
      "source": [
        "x = 2233\n",
        "x.bit_length()\n",
        "\n",
        "#how many bits needed to store it"
      ]
    },
    {
      "cell_type": "markdown",
      "id": "28dfe371",
      "metadata": {
        "id": "28dfe371"
      },
      "source": [
        "It is important not to confuse the value of an object with its identity. An object’s identity never changes once it has been created; you may think of it as the object’s address in memory. The ‘is’ operator compares the identity of two objects; the id() function returns an integer representing its identity."
      ]
    },
    {
      "cell_type": "code",
      "execution_count": null,
      "id": "52288cd3",
      "metadata": {
        "id": "52288cd3"
      },
      "outputs": [],
      "source": [
        "x = [4, 5]\n",
        "y = [4, 5]"
      ]
    },
    {
      "cell_type": "code",
      "execution_count": null,
      "id": "f850976a",
      "metadata": {
        "id": "f850976a",
        "outputId": "62e015d9-776c-44a5-c526-e0e255b621bd",
        "colab": {
          "base_uri": "https://localhost:8080/"
        }
      },
      "outputs": [
        {
          "output_type": "execute_result",
          "data": {
            "text/plain": [
              "True"
            ]
          },
          "metadata": {},
          "execution_count": 12
        }
      ],
      "source": [
        "x == y"
      ]
    },
    {
      "cell_type": "code",
      "execution_count": null,
      "id": "4c6f9fc4",
      "metadata": {
        "id": "4c6f9fc4",
        "outputId": "561fde68-aa93-44c7-e8ac-11f89e541e27",
        "colab": {
          "base_uri": "https://localhost:8080/"
        }
      },
      "outputs": [
        {
          "output_type": "execute_result",
          "data": {
            "text/plain": [
              "False"
            ]
          },
          "metadata": {},
          "execution_count": 13
        }
      ],
      "source": [
        "x is y"
      ]
    },
    {
      "cell_type": "code",
      "source": [
        "x is x"
      ],
      "metadata": {
        "id": "rJBaWs4IQEFp",
        "outputId": "c976e092-bf77-40aa-e05f-5272b62e8861",
        "colab": {
          "base_uri": "https://localhost:8080/"
        }
      },
      "id": "rJBaWs4IQEFp",
      "execution_count": null,
      "outputs": [
        {
          "output_type": "execute_result",
          "data": {
            "text/plain": [
              "True"
            ]
          },
          "metadata": {},
          "execution_count": 15
        }
      ]
    },
    {
      "cell_type": "code",
      "execution_count": null,
      "id": "9edffce3",
      "metadata": {
        "id": "9edffce3",
        "outputId": "aaf5d9d1-109f-454e-d7fc-f83120214d55",
        "colab": {
          "base_uri": "https://localhost:8080/"
        }
      },
      "outputs": [
        {
          "output_type": "execute_result",
          "data": {
            "text/plain": [
              "(139244438418240, 139243824200448)"
            ]
          },
          "metadata": {},
          "execution_count": 14
        }
      ],
      "source": [
        "id(y), id(x)"
      ]
    },
    {
      "cell_type": "code",
      "execution_count": null,
      "id": "c8ebc6c7",
      "metadata": {
        "id": "c8ebc6c7"
      },
      "outputs": [],
      "source": [
        "x = [1, 2]\n",
        "y = x"
      ]
    },
    {
      "cell_type": "code",
      "execution_count": null,
      "id": "96a1e202",
      "metadata": {
        "id": "96a1e202",
        "outputId": "1dde7c84-d1d6-42b9-fa61-379d85b7dabe",
        "colab": {
          "base_uri": "https://localhost:8080/"
        }
      },
      "outputs": [
        {
          "output_type": "execute_result",
          "data": {
            "text/plain": [
              "True"
            ]
          },
          "metadata": {},
          "execution_count": 17
        }
      ],
      "source": [
        "x is y"
      ]
    },
    {
      "cell_type": "code",
      "source": [
        "a = [1, 2]\n",
        "b = a.copy()\n",
        "a is b"
      ],
      "metadata": {
        "id": "6zLKdRb6Q1TR",
        "outputId": "0478eeb6-afcf-428e-a5f4-61483a4fcf5d",
        "colab": {
          "base_uri": "https://localhost:8080/"
        }
      },
      "id": "6zLKdRb6Q1TR",
      "execution_count": null,
      "outputs": [
        {
          "output_type": "execute_result",
          "data": {
            "text/plain": [
              "False"
            ]
          },
          "metadata": {},
          "execution_count": 22
        }
      ]
    },
    {
      "cell_type": "code",
      "execution_count": null,
      "id": "da4a72e8",
      "metadata": {
        "id": "da4a72e8",
        "outputId": "7244555d-2713-48d9-f22a-4f80b54e8477",
        "colab": {
          "base_uri": "https://localhost:8080/"
        }
      },
      "outputs": [
        {
          "output_type": "execute_result",
          "data": {
            "text/plain": [
              "(139244846080128, 139244440445568)"
            ]
          },
          "metadata": {},
          "execution_count": 21
        }
      ],
      "source": [
        "id(x), id(y)"
      ]
    },
    {
      "cell_type": "markdown",
      "id": "d0aa965d",
      "metadata": {
        "id": "d0aa965d"
      },
      "source": [
        "As we have discussed, sometimes we want to create a copy of an object, not just another reference to it:"
      ]
    },
    {
      "cell_type": "code",
      "execution_count": null,
      "id": "32d04ec9",
      "metadata": {
        "id": "32d04ec9",
        "outputId": "1cefd681-74f3-4aae-da29-369c389a3c6d",
        "colab": {
          "base_uri": "https://localhost:8080/"
        }
      },
      "outputs": [
        {
          "output_type": "stream",
          "name": "stdout",
          "text": [
            "[1, 2] [1, 2]\n"
          ]
        },
        {
          "output_type": "execute_result",
          "data": {
            "text/plain": [
              "False"
            ]
          },
          "metadata": {},
          "execution_count": 20
        }
      ],
      "source": [
        "x = [1, 2]\n",
        "y = x[:]\n",
        "print(x, y)\n",
        "x is y"
      ]
    },
    {
      "cell_type": "code",
      "execution_count": null,
      "id": "48a77556",
      "metadata": {
        "id": "48a77556",
        "outputId": "e6a611d5-d4cd-462e-deb2-e6443ef18228"
      },
      "outputs": [
        {
          "name": "stdout",
          "output_type": "stream",
          "text": [
            "[1, 2] [1, 2]\n"
          ]
        },
        {
          "data": {
            "text/plain": [
              "False"
            ]
          },
          "execution_count": 17,
          "metadata": {},
          "output_type": "execute_result"
        }
      ],
      "source": [
        "x = [1, 2]\n",
        "y = x.copy()\n",
        "print(x, y)\n",
        "x is y"
      ]
    },
    {
      "cell_type": "code",
      "execution_count": null,
      "id": "1f2e442a",
      "metadata": {
        "id": "1f2e442a",
        "outputId": "24411dbd-8336-48d4-ec93-61d2aaa35256"
      },
      "outputs": [
        {
          "data": {
            "text/plain": [
              "(4400187072, 4400086976)"
            ]
          },
          "execution_count": 18,
          "metadata": {},
          "output_type": "execute_result"
        }
      ],
      "source": [
        "id(x), id(y)"
      ]
    },
    {
      "cell_type": "markdown",
      "id": "76d700a3",
      "metadata": {
        "id": "76d700a3"
      },
      "source": [
        "The value of some objects can change. Objects whose value can change are said to be mutable; objects whose value is unchangeable once they are created are called immutable. Changing the value doesn't change the identity of an object"
      ]
    },
    {
      "cell_type": "code",
      "execution_count": null,
      "id": "6c9c539f",
      "metadata": {
        "id": "6c9c539f",
        "outputId": "c561601e-650b-4575-b81f-3277fe1890d0"
      },
      "outputs": [
        {
          "data": {
            "text/plain": [
              "(4400187072, [1, 2, 10])"
            ]
          },
          "execution_count": 19,
          "metadata": {},
          "output_type": "execute_result"
        }
      ],
      "source": [
        "x.append(10)\n",
        "id(x), x"
      ]
    },
    {
      "cell_type": "markdown",
      "id": "67a40359",
      "metadata": {
        "id": "67a40359"
      },
      "source": [
        "### Classes: User-Defined Types\n",
        "Objects created from classes are often referred to as instances. A class can be thought of as a blueprint for creating these instances.\n",
        "\n",
        "For example, let's create a class to store coordinates:"
      ]
    },
    {
      "cell_type": "code",
      "execution_count": 2,
      "id": "5b8a17c1",
      "metadata": {
        "id": "5b8a17c1"
      },
      "outputs": [],
      "source": [
        "class Coordinate:  # no ()\n",
        "    pass"
      ]
    },
    {
      "cell_type": "code",
      "execution_count": 4,
      "id": "dd8df648",
      "metadata": {
        "id": "dd8df648"
      },
      "outputs": [],
      "source": [
        "c = Coordinate()"
      ]
    },
    {
      "cell_type": "code",
      "execution_count": 5,
      "id": "680ec0cf",
      "metadata": {
        "id": "680ec0cf"
      },
      "outputs": [],
      "source": [
        "c.x = 1\n",
        "c.y = 2"
      ]
    },
    {
      "cell_type": "code",
      "execution_count": 6,
      "id": "ec9b93e6",
      "metadata": {
        "id": "ec9b93e6",
        "outputId": "57a9366a-bf4d-4b6c-c980-ba5e497174c9",
        "colab": {
          "base_uri": "https://localhost:8080/"
        }
      },
      "outputs": [
        {
          "output_type": "stream",
          "name": "stdout",
          "text": [
            "<__main__.Coordinate object at 0x7e34f4670400>\n"
          ]
        }
      ],
      "source": [
        "print(c)"
      ]
    },
    {
      "cell_type": "code",
      "source": [
        "class Co:\n",
        "  def __init__(self,i, j):\n",
        "    self.i = i+1\n",
        "    self.j = j+1\n",
        "\n",
        "test = Co(4,4)\n",
        "print(test.i)\n",
        "print(test.j)"
      ],
      "metadata": {
        "id": "LUOvvt0UGnlN",
        "outputId": "7c2106a6-9980-4090-f956-8c46a42d89f6",
        "colab": {
          "base_uri": "https://localhost:8080/"
        }
      },
      "id": "LUOvvt0UGnlN",
      "execution_count": 23,
      "outputs": [
        {
          "output_type": "stream",
          "name": "stdout",
          "text": [
            "5\n",
            "5\n"
          ]
        }
      ]
    },
    {
      "cell_type": "markdown",
      "id": "b9e899b1",
      "metadata": {
        "id": "b9e899b1"
      },
      "source": [
        "The ```__init__``` method is called every time an object is created. This method is used to initialize the object to a specific initial state, and it is roughly equivalent to a \"constructor\" in some other programming languages."
      ]
    },
    {
      "cell_type": "code",
      "execution_count": 7,
      "id": "9d9aeccd",
      "metadata": {
        "id": "9d9aeccd"
      },
      "outputs": [],
      "source": [
        "class Coordinate:\n",
        "    def __init__(self, x, y):\n",
        "        self.x = x\n",
        "        self.y = y"
      ]
    },
    {
      "cell_type": "code",
      "execution_count": 8,
      "id": "d1ff9272",
      "metadata": {
        "id": "d1ff9272"
      },
      "outputs": [],
      "source": [
        "c_1 = Coordinate(1, 2)"
      ]
    },
    {
      "cell_type": "code",
      "execution_count": 9,
      "id": "03d51c2b",
      "metadata": {
        "id": "03d51c2b",
        "outputId": "2b2a30b7-e4d1-4155-f79a-0540ce933348",
        "colab": {
          "base_uri": "https://localhost:8080/"
        }
      },
      "outputs": [
        {
          "output_type": "execute_result",
          "data": {
            "text/plain": [
              "(1, 2)"
            ]
          },
          "metadata": {},
          "execution_count": 9
        }
      ],
      "source": [
        "c_1.x, c_1.y"
      ]
    },
    {
      "cell_type": "markdown",
      "id": "90b52fb2",
      "metadata": {
        "id": "90b52fb2"
      },
      "source": [
        "Let's consider another example:"
      ]
    },
    {
      "cell_type": "code",
      "execution_count": 25,
      "id": "36565a75",
      "metadata": {
        "id": "36565a75"
      },
      "outputs": [],
      "source": [
        "class Employee:\n",
        "    def __init__(self, first_name, last_name, age, salary):\n",
        "        self.first_name = first_name\n",
        "        self.last_name = last_name\n",
        "        self.age = age\n",
        "        self.salary = salary"
      ]
    },
    {
      "cell_type": "code",
      "source": [
        "class New:\n",
        "  def __init__(self, x, y):\n",
        "    self.x = x\n",
        "    self.y = y"
      ],
      "metadata": {
        "id": "mRg8cQcbIhUo"
      },
      "id": "mRg8cQcbIhUo",
      "execution_count": 20,
      "outputs": []
    },
    {
      "cell_type": "code",
      "source": [
        "new1 = New(2,3)\n",
        "print(new1.x)"
      ],
      "metadata": {
        "id": "_IPu4NrKIqWE",
        "outputId": "490ae127-2545-422a-95f9-372ca3c3fe60",
        "colab": {
          "base_uri": "https://localhost:8080/"
        }
      },
      "id": "_IPu4NrKIqWE",
      "execution_count": 22,
      "outputs": [
        {
          "output_type": "stream",
          "name": "stdout",
          "text": [
            "2\n"
          ]
        }
      ]
    },
    {
      "cell_type": "code",
      "execution_count": 26,
      "id": "122068b9",
      "metadata": {
        "id": "122068b9"
      },
      "outputs": [],
      "source": [
        "emp1 = Employee('Angelina', 'Schmidt', 30, 2500)\n",
        "emp2 = Employee('Thomas', 'Wagner,', 28, 2000)"
      ]
    },
    {
      "cell_type": "code",
      "execution_count": 27,
      "id": "108d899b",
      "metadata": {
        "id": "108d899b",
        "outputId": "31b43fce-8702-4e86-cef9-456251ef1498",
        "colab": {
          "base_uri": "https://localhost:8080/",
          "height": 35
        }
      },
      "outputs": [
        {
          "output_type": "execute_result",
          "data": {
            "text/plain": [
              "'Angelina'"
            ],
            "application/vnd.google.colaboratory.intrinsic+json": {
              "type": "string"
            }
          },
          "metadata": {},
          "execution_count": 27
        }
      ],
      "source": [
        "emp1.first_name"
      ]
    },
    {
      "cell_type": "markdown",
      "id": "0859a3c0",
      "metadata": {
        "id": "0859a3c0"
      },
      "source": [
        "So far, we have used classes only to store data, but we could also implement additional functionality"
      ]
    },
    {
      "cell_type": "code",
      "execution_count": 28,
      "id": "ad313b82",
      "metadata": {
        "id": "ad313b82"
      },
      "outputs": [],
      "source": [
        "class Employee:\n",
        "    def __init__(self, first_name, last_name, age, salary):\n",
        "        self.first_name = first_name\n",
        "        self.last_name = last_name\n",
        "        self.age = age\n",
        "        self.salary = salary\n",
        "\n",
        "    def fullname(self):\n",
        "        return self.first_name + ' ' + self.last_name"
      ]
    },
    {
      "cell_type": "code",
      "execution_count": null,
      "id": "dfd3b983",
      "metadata": {
        "id": "dfd3b983"
      },
      "outputs": [],
      "source": [
        "emp1 = Employee('Angelina', 'Schmidt', 30, 2500)"
      ]
    },
    {
      "cell_type": "code",
      "execution_count": null,
      "id": "35e1ddfe",
      "metadata": {
        "id": "35e1ddfe",
        "outputId": "ed026361-517b-4ec3-ff49-f084a52db31b"
      },
      "outputs": [
        {
          "data": {
            "text/plain": [
              "'Angelina Schmidt'"
            ]
          },
          "execution_count": 35,
          "metadata": {},
          "output_type": "execute_result"
        }
      ],
      "source": [
        "emp1.fullname()"
      ]
    },
    {
      "cell_type": "code",
      "execution_count": null,
      "id": "32d0b782",
      "metadata": {
        "id": "32d0b782",
        "outputId": "2d75eb89-f5c3-4af3-e6e0-e6a9ec33ed95"
      },
      "outputs": [
        {
          "name": "stdout",
          "output_type": "stream",
          "text": [
            "<__main__.Employee object at 0x106486a90>\n"
          ]
        }
      ],
      "source": [
        "print(emp1)"
      ]
    },
    {
      "cell_type": "markdown",
      "id": "bc42b9e3",
      "metadata": {
        "id": "bc42b9e3"
      },
      "source": [
        "The ```__str__``` method can be used to implement string representation for better print output"
      ]
    },
    {
      "cell_type": "code",
      "execution_count": 30,
      "id": "d47e6cb3",
      "metadata": {
        "id": "d47e6cb3"
      },
      "outputs": [],
      "source": [
        "class Employee:\n",
        "    def __init__(self, first_name, last_name, age, salary):\n",
        "        self.first_name = first_name\n",
        "        self.last_name = last_name\n",
        "        self.age = age\n",
        "        self.salary = salary\n",
        "\n",
        "    def fullname(self):\n",
        "        return self.first_name + ' ' + self.last_name\n",
        "\n",
        "    def __str__(self):\n",
        "        return self.first_name + ' ' + self.last_name + ' (' + str(self.age) + ')'"
      ]
    },
    {
      "cell_type": "code",
      "execution_count": 31,
      "id": "309f1464",
      "metadata": {
        "id": "309f1464",
        "outputId": "9f48e2a2-975e-4bc6-a442-e2ebccde03f6",
        "colab": {
          "base_uri": "https://localhost:8080/"
        }
      },
      "outputs": [
        {
          "output_type": "stream",
          "name": "stdout",
          "text": [
            "Angelina Schmidt (30)\n"
          ]
        }
      ],
      "source": [
        "emp1 = Employee('Angelina', 'Schmidt', 30, 2500)  # always run this since we change the class\n",
        "print(emp1)"
      ]
    },
    {
      "cell_type": "code",
      "execution_count": 32,
      "id": "90f069ef",
      "metadata": {
        "id": "90f069ef",
        "outputId": "5728d77c-88c2-41dd-8859-4bb90d0c608d",
        "colab": {
          "base_uri": "https://localhost:8080/"
        }
      },
      "outputs": [
        {
          "output_type": "execute_result",
          "data": {
            "text/plain": [
              "<__main__.Employee at 0x7e34f4670fa0>"
            ]
          },
          "metadata": {},
          "execution_count": 32
        }
      ],
      "source": [
        "emp1"
      ]
    },
    {
      "cell_type": "markdown",
      "id": "dd3f16d3",
      "metadata": {
        "id": "dd3f16d3"
      },
      "source": [
        "The ```__repr__``` method is used by Jupyter notebooks for display"
      ]
    },
    {
      "cell_type": "code",
      "execution_count": 33,
      "id": "dcfd36b7",
      "metadata": {
        "id": "dcfd36b7"
      },
      "outputs": [],
      "source": [
        "class Employee:\n",
        "    def __init__(self, first_name, last_name, age, salary):\n",
        "        self.first_name = first_name\n",
        "        self.last_name = last_name\n",
        "        self.age = age\n",
        "        self.salary = salary\n",
        "\n",
        "    def fullname(self):\n",
        "        return self.first_name + ' ' + self.last_name\n",
        "\n",
        "    def __str__(self):\n",
        "        return self.first_name + ' ' + self.last_name + ' (' + str(self.age) + ')'\n",
        "\n",
        "    def __repr__(self):\n",
        "        return self.__str__()"
      ]
    },
    {
      "cell_type": "code",
      "source": [
        "class New:\n",
        "  def __init__(self, x, y):\n",
        "    self.x = x\n",
        "    self.y = y\n",
        "  def __str__(self):\n",
        "    return f'{self.first_name} {self.last_name} ({self.age})'"
      ],
      "metadata": {
        "id": "KurhtzO9KT5-"
      },
      "id": "KurhtzO9KT5-",
      "execution_count": null,
      "outputs": []
    },
    {
      "cell_type": "code",
      "execution_count": 34,
      "id": "44e3055a",
      "metadata": {
        "id": "44e3055a",
        "outputId": "709d1f6e-e8d1-4eff-f453-436c410cb604",
        "colab": {
          "base_uri": "https://localhost:8080/"
        }
      },
      "outputs": [
        {
          "output_type": "execute_result",
          "data": {
            "text/plain": [
              "Angelina Schmidt (30)"
            ]
          },
          "metadata": {},
          "execution_count": 34
        }
      ],
      "source": [
        "emp1 = Employee('Angelina', 'Schmidt', 30, 2500)\n",
        "emp1"
      ]
    },
    {
      "cell_type": "markdown",
      "id": "eef6f7a8",
      "metadata": {
        "id": "eef6f7a8"
      },
      "source": [
        "There are other useful magic methods as well. For example, you might remember that s1 + s2 or l1 + l2 has a specific meaning for strings and lists, respectively. Let's assume that we want to be able to add coordinates."
      ]
    },
    {
      "cell_type": "code",
      "execution_count": null,
      "id": "6ebcf762",
      "metadata": {
        "id": "6ebcf762"
      },
      "outputs": [],
      "source": [
        "c_2 = Coordinate(2, 5)"
      ]
    },
    {
      "cell_type": "code",
      "execution_count": null,
      "id": "5daa609c",
      "metadata": {
        "id": "5daa609c",
        "outputId": "483c6be4-fe52-4e69-d31a-ef44fe01c2c5"
      },
      "outputs": [
        {
          "ename": "TypeError",
          "evalue": "unsupported operand type(s) for +: 'Coordinate' and 'Coordinate'",
          "output_type": "error",
          "traceback": [
            "\u001b[0;31m---------------------------------------------------------------------------\u001b[0m",
            "\u001b[0;31mTypeError\u001b[0m                                 Traceback (most recent call last)",
            "Cell \u001b[0;32mIn[43], line 1\u001b[0m\n\u001b[0;32m----> 1\u001b[0m c_1 \u001b[38;5;241m+\u001b[39m c_2\n",
            "\u001b[0;31mTypeError\u001b[0m: unsupported operand type(s) for +: 'Coordinate' and 'Coordinate'"
          ]
        }
      ],
      "source": [
        "c_1 + c_2"
      ]
    },
    {
      "cell_type": "markdown",
      "id": "c95dab95",
      "metadata": {
        "id": "c95dab95"
      },
      "source": [
        "Let's implement ```__add__``` method:"
      ]
    },
    {
      "cell_type": "code",
      "execution_count": 35,
      "id": "27824440",
      "metadata": {
        "id": "27824440"
      },
      "outputs": [],
      "source": [
        "class Coordinate:\n",
        "    def __init__(self, x, y):\n",
        "        self.x = x\n",
        "        self.y = y\n",
        "\n",
        "    def __str__(self):\n",
        "        return 'x: ' + str(self.x) + ', y: ' + str(self.y)\n",
        "\n",
        "    def __add__(a, b):\n",
        "        return Coordinate(a.x + b.x, a.y + b.y)"
      ]
    },
    {
      "cell_type": "code",
      "source": [
        "class Coordinate:\n",
        "    def __init__(self, x, y):\n",
        "        self.x = x\n",
        "        self.y = y\n",
        "\n",
        "    def __str__(self):\n",
        "        return f'x:{self.x}, y:{self.y}'\n",
        "\n",
        "    def __add__(self, other):\n",
        "      return Coordinate(self.x + other.x, self.y + other.y)\n",
        "\n",
        "    def __repr__(self):\n",
        "      return self.__str__()"
      ],
      "metadata": {
        "id": "JKaZLezBMQ06"
      },
      "id": "JKaZLezBMQ06",
      "execution_count": 47,
      "outputs": []
    },
    {
      "cell_type": "code",
      "execution_count": 48,
      "id": "8a59dd89",
      "metadata": {
        "id": "8a59dd89",
        "outputId": "442f1322-7a78-41a6-e073-a60b7d3cad19",
        "colab": {
          "base_uri": "https://localhost:8080/"
        }
      },
      "outputs": [
        {
          "output_type": "execute_result",
          "data": {
            "text/plain": [
              "x:3, y:4"
            ]
          },
          "metadata": {},
          "execution_count": 48
        }
      ],
      "source": [
        "c_1 = Coordinate(1, 5)\n",
        "c_2 = Coordinate(2, -1)\n",
        "c_1 + c_2"
      ]
    },
    {
      "cell_type": "code",
      "execution_count": 37,
      "id": "0819fd59",
      "metadata": {
        "id": "0819fd59",
        "outputId": "c1cbf658-52d4-4b29-8904-1f1379ad952f",
        "colab": {
          "base_uri": "https://localhost:8080/"
        }
      },
      "outputs": [
        {
          "output_type": "stream",
          "name": "stdout",
          "text": [
            "x: 1, y: 5\n"
          ]
        }
      ],
      "source": [
        "print(c_1)"
      ]
    },
    {
      "cell_type": "code",
      "execution_count": 41,
      "id": "67840535",
      "metadata": {
        "id": "67840535",
        "outputId": "4945bb54-c027-4afc-e94e-8526f2c2b1d2",
        "colab": {
          "base_uri": "https://localhost:8080/",
          "height": 228
        }
      },
      "outputs": [
        {
          "output_type": "error",
          "ename": "TypeError",
          "evalue": "Coordinate.__init__() missing 1 required positional argument: 'y'",
          "traceback": [
            "\u001b[0;31m---------------------------------------------------------------------------\u001b[0m",
            "\u001b[0;31mTypeError\u001b[0m                                 Traceback (most recent call last)",
            "\u001b[0;32m<ipython-input-41-f33d9756c09a>\u001b[0m in \u001b[0;36m<cell line: 1>\u001b[0;34m()\u001b[0m\n\u001b[0;32m----> 1\u001b[0;31m \u001b[0mprint\u001b[0m\u001b[0;34m(\u001b[0m\u001b[0mc_1\u001b[0m \u001b[0;34m+\u001b[0m \u001b[0mc_2\u001b[0m\u001b[0;34m)\u001b[0m\u001b[0;34m\u001b[0m\u001b[0;34m\u001b[0m\u001b[0m\n\u001b[0m",
            "\u001b[0;32m<ipython-input-39-75b77e08053a>\u001b[0m in \u001b[0;36m__add__\u001b[0;34m(self, other)\u001b[0m\n\u001b[1;32m      8\u001b[0m \u001b[0;34m\u001b[0m\u001b[0m\n\u001b[1;32m      9\u001b[0m     \u001b[0;32mdef\u001b[0m \u001b[0m__add__\u001b[0m\u001b[0;34m(\u001b[0m\u001b[0mself\u001b[0m\u001b[0;34m,\u001b[0m \u001b[0mother\u001b[0m\u001b[0;34m)\u001b[0m\u001b[0;34m:\u001b[0m\u001b[0;34m\u001b[0m\u001b[0;34m\u001b[0m\u001b[0m\n\u001b[0;32m---> 10\u001b[0;31m       \u001b[0;32mreturn\u001b[0m \u001b[0mCoordinate\u001b[0m\u001b[0;34m(\u001b[0m\u001b[0mself\u001b[0m\u001b[0;34m.\u001b[0m\u001b[0mx\u001b[0m \u001b[0;34m+\u001b[0m \u001b[0mother\u001b[0m\u001b[0;34m.\u001b[0m\u001b[0mx\u001b[0m \u001b[0;34m+\u001b[0m\u001b[0mother\u001b[0m\u001b[0;34m.\u001b[0m\u001b[0my\u001b[0m\u001b[0;34m)\u001b[0m\u001b[0;34m\u001b[0m\u001b[0;34m\u001b[0m\u001b[0m\n\u001b[0m",
            "\u001b[0;31mTypeError\u001b[0m: Coordinate.__init__() missing 1 required positional argument: 'y'"
          ]
        }
      ],
      "source": [
        "print(c_1 + c_2)"
      ]
    },
    {
      "cell_type": "markdown",
      "id": "c3753e75",
      "metadata": {
        "id": "c3753e75"
      },
      "source": [
        "Now, let's also implement the ```__ge__``` (greater than or equal to), ```__neg__``` (negation), and ```__eq__``` (equal to) methods:"
      ]
    },
    {
      "cell_type": "code",
      "execution_count": 49,
      "id": "e1a32a47",
      "metadata": {
        "id": "e1a32a47"
      },
      "outputs": [],
      "source": [
        "class Coordinate:\n",
        "    def __init__(self, x, y):\n",
        "        self.x = x\n",
        "        self.y = y\n",
        "\n",
        "    def __str__(self):\n",
        "        return 'x: ' + str(self.x) + ', y: ' + str(self.y)\n",
        "\n",
        "    def length(self):\n",
        "        return (self.x ** 2 + self.y ** 2) ** 0.5\n",
        "\n",
        "    def __ge__(self, other):\n",
        "        return self.length() >= other.length()\n",
        "\n",
        "    def __neg__(self):\n",
        "        return Coordinate(-self.x, -self.y)\n",
        "\n",
        "    def __repr__(self):\n",
        "        return self.__str__()\n",
        "\n",
        "    def __eq__(self, other):\n",
        "        return self.x == other.x and self.y == other.y"
      ]
    },
    {
      "cell_type": "code",
      "execution_count": 50,
      "id": "e019551a",
      "metadata": {
        "id": "e019551a",
        "outputId": "d5eb2958-e7eb-49cb-f037-1e962ae9ca2a",
        "colab": {
          "base_uri": "https://localhost:8080/"
        }
      },
      "outputs": [
        {
          "output_type": "execute_result",
          "data": {
            "text/plain": [
              "5.0"
            ]
          },
          "metadata": {},
          "execution_count": 50
        }
      ],
      "source": [
        "c1 = Coordinate(3, 4)\n",
        "c1.length()"
      ]
    },
    {
      "cell_type": "code",
      "execution_count": null,
      "id": "04efe563",
      "metadata": {
        "id": "04efe563",
        "outputId": "2fbae31b-bcdc-4a81-ca20-4167c51921d9"
      },
      "outputs": [
        {
          "data": {
            "text/plain": [
              "x: 3, y: 4"
            ]
          },
          "execution_count": 58,
          "metadata": {},
          "output_type": "execute_result"
        }
      ],
      "source": [
        "c1"
      ]
    },
    {
      "cell_type": "code",
      "execution_count": 53,
      "id": "b7673e64",
      "metadata": {
        "id": "b7673e64"
      },
      "outputs": [],
      "source": [
        "c2 = Coordinate(-2, -3)"
      ]
    },
    {
      "cell_type": "code",
      "execution_count": 56,
      "id": "cf67303e",
      "metadata": {
        "id": "cf67303e",
        "outputId": "b0127269-7dd5-4a17-f48d-5c5c778b91d6",
        "colab": {
          "base_uri": "https://localhost:8080/"
        }
      },
      "outputs": [
        {
          "output_type": "execute_result",
          "data": {
            "text/plain": [
              "True"
            ]
          },
          "metadata": {},
          "execution_count": 56
        }
      ],
      "source": [
        "c1 >= c2  # __ge__"
      ]
    },
    {
      "cell_type": "code",
      "execution_count": 55,
      "id": "8fb42f6e",
      "metadata": {
        "scrolled": true,
        "id": "8fb42f6e",
        "outputId": "40b699a8-7596-4a9a-d479-6234e42342a4",
        "colab": {
          "base_uri": "https://localhost:8080/"
        }
      },
      "outputs": [
        {
          "output_type": "execute_result",
          "data": {
            "text/plain": [
              "False"
            ]
          },
          "metadata": {},
          "execution_count": 55
        }
      ],
      "source": [
        "c1 == c2"
      ]
    },
    {
      "cell_type": "code",
      "execution_count": null,
      "id": "d7c49137",
      "metadata": {
        "id": "d7c49137"
      },
      "outputs": [],
      "source": [
        "class Cat:\n",
        "    def talk(self):\n",
        "        print('Meow')\n",
        "\n",
        "class Dog:\n",
        "    def talk(self):\n",
        "        print('Woof')\n",
        "\n",
        "class Cow:\n",
        "    def talk(self):\n",
        "        print('Moo')"
      ]
    },
    {
      "cell_type": "code",
      "execution_count": null,
      "id": "4e07732c",
      "metadata": {
        "id": "4e07732c",
        "outputId": "2b4008a4-ef38-406d-c882-2ae1ab5cb833"
      },
      "outputs": [
        {
          "name": "stdout",
          "output_type": "stream",
          "text": [
            "Meow\n",
            "Woof\n",
            "Woof\n",
            "Moo\n"
          ]
        }
      ],
      "source": [
        "murzik = Cat()\n",
        "sharik = Dog()\n",
        "bobik = Dog()\n",
        "zorka = Cow()\n",
        "\n",
        "animals = [murzik, sharik, bobik, zorka]\n",
        "\n",
        "for animal in animals:\n",
        "    animal.talk()"
      ]
    },
    {
      "cell_type": "code",
      "execution_count": 64,
      "id": "f05ad50c",
      "metadata": {
        "id": "f05ad50c"
      },
      "outputs": [],
      "source": [
        "class Dog:\n",
        "    def __init__(self, name):\n",
        "        self.health = 10\n",
        "        self.name = name\n",
        "\n",
        "    def talk(self):\n",
        "        print('Woof')\n",
        "\n",
        "    def bite(self, other):\n",
        "        self.health += 1\n",
        "        other.health -= 2\n",
        "\n",
        "    def hill(self):\n",
        "        self.health += 5\n",
        "\n",
        "    def hill_for_other(self, other):\n",
        "        self.health += 1\n",
        "        other.health += 2\n",
        "\n",
        "    def __str__(self):\n",
        "        return self.name + ' ' + str(self.health)\n"
      ]
    },
    {
      "cell_type": "code",
      "execution_count": 66,
      "id": "7473cece",
      "metadata": {
        "id": "7473cece",
        "outputId": "dee74fd3-cec2-4dec-f634-08e5e3eecd2a",
        "colab": {
          "base_uri": "https://localhost:8080/"
        }
      },
      "outputs": [
        {
          "output_type": "stream",
          "name": "stdout",
          "text": [
            "Шарик 10 Бобик 10 w 10\n",
            "Шарик 11 Бобик 8 w 10\n",
            "Шарик 11 Бобик 13 w 10\n",
            "Шарик 9 Бобик 14 w 10\n",
            "Шарик 11 Бобик 14 w 11\n"
          ]
        }
      ],
      "source": [
        "dog1 = Dog('Шарик') # a dog named Sharik\n",
        "dog2 = Dog('Бобик') # a dog named Bobik\n",
        "dog3 = Dog('w')\n",
        "dog4 = Dog('6')\n",
        "\n",
        "print(dog1, dog2, dog3)\n",
        "dog1.bite(dog2)\n",
        "print(dog1, dog2, dog3)\n",
        "dog2.hill()\n",
        "print(dog1, dog2, dog3)\n",
        "dog2.bite(dog1)\n",
        "print(dog1, dog2, dog3)\n",
        "dog3.hill_for_other(dog1)\n",
        "print(dog1, dog2, dog3)"
      ]
    },
    {
      "cell_type": "markdown",
      "id": "dc7dfd2a",
      "metadata": {
        "id": "dc7dfd2a"
      },
      "source": [
        "In machine learning, models we train are often instances of a prototypical model class. We would then train ('fit') the model and predict values using methods we call on the instance we created."
      ]
    },
    {
      "cell_type": "code",
      "execution_count": 68,
      "id": "99cc7658",
      "metadata": {
        "id": "99cc7658",
        "outputId": "3977fa71-5610-435c-e3ce-5edfbb5a45f7",
        "colab": {
          "base_uri": "https://localhost:8080/",
          "height": 193
        }
      },
      "outputs": [
        {
          "output_type": "error",
          "ename": "NameError",
          "evalue": "name 'X' is not defined",
          "traceback": [
            "\u001b[0;31m---------------------------------------------------------------------------\u001b[0m",
            "\u001b[0;31mNameError\u001b[0m                                 Traceback (most recent call last)",
            "\u001b[0;32m<ipython-input-68-1780e5e3f46d>\u001b[0m in \u001b[0;36m<cell line: 3>\u001b[0;34m()\u001b[0m\n\u001b[1;32m      1\u001b[0m \u001b[0;32mfrom\u001b[0m \u001b[0msklearn\u001b[0m\u001b[0;34m.\u001b[0m\u001b[0mlinear_model\u001b[0m \u001b[0;32mimport\u001b[0m \u001b[0mLinearRegression\u001b[0m  \u001b[0;31m# LinearRegression: class\u001b[0m\u001b[0;34m\u001b[0m\u001b[0;34m\u001b[0m\u001b[0m\n\u001b[1;32m      2\u001b[0m \u001b[0mmodel\u001b[0m \u001b[0;34m=\u001b[0m \u001b[0mLinearRegression\u001b[0m\u001b[0;34m(\u001b[0m\u001b[0;34m)\u001b[0m\u001b[0;34m\u001b[0m\u001b[0;34m\u001b[0m\u001b[0m\n\u001b[0;32m----> 3\u001b[0;31m \u001b[0mmodel\u001b[0m\u001b[0;34m.\u001b[0m\u001b[0mfit\u001b[0m\u001b[0;34m(\u001b[0m\u001b[0mX\u001b[0m\u001b[0;34m,\u001b[0m \u001b[0my\u001b[0m\u001b[0;34m)\u001b[0m\u001b[0;34m\u001b[0m\u001b[0;34m\u001b[0m\u001b[0m\n\u001b[0m\u001b[1;32m      4\u001b[0m \u001b[0mmodel\u001b[0m\u001b[0;34m.\u001b[0m\u001b[0mpredict\u001b[0m\u001b[0;34m(\u001b[0m\u001b[0mX2\u001b[0m\u001b[0;34m)\u001b[0m\u001b[0;34m\u001b[0m\u001b[0;34m\u001b[0m\u001b[0m\n",
            "\u001b[0;31mNameError\u001b[0m: name 'X' is not defined"
          ]
        }
      ],
      "source": [
        "from sklearn.linear_model import LinearRegression  # LinearRegression: class\n",
        "model = LinearRegression()\n",
        "model.fit(X, y)\n",
        "model.predict(X2)"
      ]
    },
    {
      "cell_type": "markdown",
      "id": "f1115eea",
      "metadata": {
        "id": "f1115eea"
      },
      "source": [
        "# Modules"
      ]
    },
    {
      "cell_type": "markdown",
      "id": "58b15377",
      "metadata": {
        "id": "58b15377"
      },
      "source": [
        "Python comes with a vast collection of modules that are included with its standard library. For example, the `math` module includes a variety of mathematical functions and constants.\n",
        "\n",
        "To access the functions and variables in a module, you need to import it. Here's how you can import the log function from the math module:"
      ]
    },
    {
      "cell_type": "code",
      "execution_count": 69,
      "id": "df3571f7",
      "metadata": {
        "id": "df3571f7"
      },
      "outputs": [],
      "source": [
        "from math import log"
      ]
    },
    {
      "cell_type": "code",
      "execution_count": 70,
      "id": "8aa553b0",
      "metadata": {
        "id": "8aa553b0",
        "outputId": "1d4d01bc-6ed6-4c4b-e0bf-a1f655b94eee",
        "colab": {
          "base_uri": "https://localhost:8080/"
        }
      },
      "outputs": [
        {
          "output_type": "execute_result",
          "data": {
            "text/plain": [
              "1.3862943611198906"
            ]
          },
          "metadata": {},
          "execution_count": 70
        }
      ],
      "source": [
        "log(4) # the natural logarithm"
      ]
    },
    {
      "cell_type": "markdown",
      "id": "7739cd99",
      "metadata": {
        "id": "7739cd99"
      },
      "source": [
        "Using the help() function, you can access the documentation of the module and its functions:"
      ]
    },
    {
      "cell_type": "code",
      "execution_count": 71,
      "id": "8479f512",
      "metadata": {
        "scrolled": true,
        "id": "8479f512",
        "outputId": "6cb80a2c-6d6b-4373-88d3-69fc532def34",
        "colab": {
          "base_uri": "https://localhost:8080/"
        }
      },
      "outputs": [
        {
          "output_type": "stream",
          "name": "stdout",
          "text": [
            "Help on built-in function log in module math:\n",
            "\n",
            "log(...)\n",
            "    log(x, [base=math.e])\n",
            "    Return the logarithm of x to the given base.\n",
            "    \n",
            "    If the base not specified, returns the natural logarithm (base e) of x.\n",
            "\n"
          ]
        }
      ],
      "source": [
        "help(log)"
      ]
    },
    {
      "cell_type": "markdown",
      "id": "908b322a",
      "metadata": {
        "id": "908b322a"
      },
      "source": [
        "This, however, could be problematic if you have defined `log` function yourself or imported it from another module. That is why the usual way of importing module is:"
      ]
    },
    {
      "cell_type": "code",
      "execution_count": 72,
      "id": "d5ceb2f7",
      "metadata": {
        "id": "d5ceb2f7"
      },
      "outputs": [],
      "source": [
        "import math"
      ]
    },
    {
      "cell_type": "code",
      "execution_count": 73,
      "id": "2d0d1c02",
      "metadata": {
        "id": "2d0d1c02",
        "outputId": "431aae80-0b27-4b27-d683-a11d9fc2df88",
        "colab": {
          "base_uri": "https://localhost:8080/"
        }
      },
      "outputs": [
        {
          "output_type": "stream",
          "name": "stdout",
          "text": [
            "Help on built-in module math:\n",
            "\n",
            "NAME\n",
            "    math\n",
            "\n",
            "DESCRIPTION\n",
            "    This module provides access to the mathematical functions\n",
            "    defined by the C standard.\n",
            "\n",
            "FUNCTIONS\n",
            "    acos(x, /)\n",
            "        Return the arc cosine (measured in radians) of x.\n",
            "        \n",
            "        The result is between 0 and pi.\n",
            "    \n",
            "    acosh(x, /)\n",
            "        Return the inverse hyperbolic cosine of x.\n",
            "    \n",
            "    asin(x, /)\n",
            "        Return the arc sine (measured in radians) of x.\n",
            "        \n",
            "        The result is between -pi/2 and pi/2.\n",
            "    \n",
            "    asinh(x, /)\n",
            "        Return the inverse hyperbolic sine of x.\n",
            "    \n",
            "    atan(x, /)\n",
            "        Return the arc tangent (measured in radians) of x.\n",
            "        \n",
            "        The result is between -pi/2 and pi/2.\n",
            "    \n",
            "    atan2(y, x, /)\n",
            "        Return the arc tangent (measured in radians) of y/x.\n",
            "        \n",
            "        Unlike atan(y/x), the signs of both x and y are considered.\n",
            "    \n",
            "    atanh(x, /)\n",
            "        Return the inverse hyperbolic tangent of x.\n",
            "    \n",
            "    ceil(x, /)\n",
            "        Return the ceiling of x as an Integral.\n",
            "        \n",
            "        This is the smallest integer >= x.\n",
            "    \n",
            "    comb(n, k, /)\n",
            "        Number of ways to choose k items from n items without repetition and without order.\n",
            "        \n",
            "        Evaluates to n! / (k! * (n - k)!) when k <= n and evaluates\n",
            "        to zero when k > n.\n",
            "        \n",
            "        Also called the binomial coefficient because it is equivalent\n",
            "        to the coefficient of k-th term in polynomial expansion of the\n",
            "        expression (1 + x)**n.\n",
            "        \n",
            "        Raises TypeError if either of the arguments are not integers.\n",
            "        Raises ValueError if either of the arguments are negative.\n",
            "    \n",
            "    copysign(x, y, /)\n",
            "        Return a float with the magnitude (absolute value) of x but the sign of y.\n",
            "        \n",
            "        On platforms that support signed zeros, copysign(1.0, -0.0)\n",
            "        returns -1.0.\n",
            "    \n",
            "    cos(x, /)\n",
            "        Return the cosine of x (measured in radians).\n",
            "    \n",
            "    cosh(x, /)\n",
            "        Return the hyperbolic cosine of x.\n",
            "    \n",
            "    degrees(x, /)\n",
            "        Convert angle x from radians to degrees.\n",
            "    \n",
            "    dist(p, q, /)\n",
            "        Return the Euclidean distance between two points p and q.\n",
            "        \n",
            "        The points should be specified as sequences (or iterables) of\n",
            "        coordinates.  Both inputs must have the same dimension.\n",
            "        \n",
            "        Roughly equivalent to:\n",
            "            sqrt(sum((px - qx) ** 2.0 for px, qx in zip(p, q)))\n",
            "    \n",
            "    erf(x, /)\n",
            "        Error function at x.\n",
            "    \n",
            "    erfc(x, /)\n",
            "        Complementary error function at x.\n",
            "    \n",
            "    exp(x, /)\n",
            "        Return e raised to the power of x.\n",
            "    \n",
            "    expm1(x, /)\n",
            "        Return exp(x)-1.\n",
            "        \n",
            "        This function avoids the loss of precision involved in the direct evaluation of exp(x)-1 for small x.\n",
            "    \n",
            "    fabs(x, /)\n",
            "        Return the absolute value of the float x.\n",
            "    \n",
            "    factorial(x, /)\n",
            "        Find x!.\n",
            "        \n",
            "        Raise a ValueError if x is negative or non-integral.\n",
            "    \n",
            "    floor(x, /)\n",
            "        Return the floor of x as an Integral.\n",
            "        \n",
            "        This is the largest integer <= x.\n",
            "    \n",
            "    fmod(x, y, /)\n",
            "        Return fmod(x, y), according to platform C.\n",
            "        \n",
            "        x % y may differ.\n",
            "    \n",
            "    frexp(x, /)\n",
            "        Return the mantissa and exponent of x, as pair (m, e).\n",
            "        \n",
            "        m is a float and e is an int, such that x = m * 2.**e.\n",
            "        If x is 0, m and e are both 0.  Else 0.5 <= abs(m) < 1.0.\n",
            "    \n",
            "    fsum(seq, /)\n",
            "        Return an accurate floating point sum of values in the iterable seq.\n",
            "        \n",
            "        Assumes IEEE-754 floating point arithmetic.\n",
            "    \n",
            "    gamma(x, /)\n",
            "        Gamma function at x.\n",
            "    \n",
            "    gcd(*integers)\n",
            "        Greatest Common Divisor.\n",
            "    \n",
            "    hypot(...)\n",
            "        hypot(*coordinates) -> value\n",
            "        \n",
            "        Multidimensional Euclidean distance from the origin to a point.\n",
            "        \n",
            "        Roughly equivalent to:\n",
            "            sqrt(sum(x**2 for x in coordinates))\n",
            "        \n",
            "        For a two dimensional point (x, y), gives the hypotenuse\n",
            "        using the Pythagorean theorem:  sqrt(x*x + y*y).\n",
            "        \n",
            "        For example, the hypotenuse of a 3/4/5 right triangle is:\n",
            "        \n",
            "            >>> hypot(3.0, 4.0)\n",
            "            5.0\n",
            "    \n",
            "    isclose(a, b, *, rel_tol=1e-09, abs_tol=0.0)\n",
            "        Determine whether two floating point numbers are close in value.\n",
            "        \n",
            "          rel_tol\n",
            "            maximum difference for being considered \"close\", relative to the\n",
            "            magnitude of the input values\n",
            "          abs_tol\n",
            "            maximum difference for being considered \"close\", regardless of the\n",
            "            magnitude of the input values\n",
            "        \n",
            "        Return True if a is close in value to b, and False otherwise.\n",
            "        \n",
            "        For the values to be considered close, the difference between them\n",
            "        must be smaller than at least one of the tolerances.\n",
            "        \n",
            "        -inf, inf and NaN behave similarly to the IEEE 754 Standard.  That\n",
            "        is, NaN is not close to anything, even itself.  inf and -inf are\n",
            "        only close to themselves.\n",
            "    \n",
            "    isfinite(x, /)\n",
            "        Return True if x is neither an infinity nor a NaN, and False otherwise.\n",
            "    \n",
            "    isinf(x, /)\n",
            "        Return True if x is a positive or negative infinity, and False otherwise.\n",
            "    \n",
            "    isnan(x, /)\n",
            "        Return True if x is a NaN (not a number), and False otherwise.\n",
            "    \n",
            "    isqrt(n, /)\n",
            "        Return the integer part of the square root of the input.\n",
            "    \n",
            "    lcm(*integers)\n",
            "        Least Common Multiple.\n",
            "    \n",
            "    ldexp(x, i, /)\n",
            "        Return x * (2**i).\n",
            "        \n",
            "        This is essentially the inverse of frexp().\n",
            "    \n",
            "    lgamma(x, /)\n",
            "        Natural logarithm of absolute value of Gamma function at x.\n",
            "    \n",
            "    log(...)\n",
            "        log(x, [base=math.e])\n",
            "        Return the logarithm of x to the given base.\n",
            "        \n",
            "        If the base not specified, returns the natural logarithm (base e) of x.\n",
            "    \n",
            "    log10(x, /)\n",
            "        Return the base 10 logarithm of x.\n",
            "    \n",
            "    log1p(x, /)\n",
            "        Return the natural logarithm of 1+x (base e).\n",
            "        \n",
            "        The result is computed in a way which is accurate for x near zero.\n",
            "    \n",
            "    log2(x, /)\n",
            "        Return the base 2 logarithm of x.\n",
            "    \n",
            "    modf(x, /)\n",
            "        Return the fractional and integer parts of x.\n",
            "        \n",
            "        Both results carry the sign of x and are floats.\n",
            "    \n",
            "    nextafter(x, y, /)\n",
            "        Return the next floating-point value after x towards y.\n",
            "    \n",
            "    perm(n, k=None, /)\n",
            "        Number of ways to choose k items from n items without repetition and with order.\n",
            "        \n",
            "        Evaluates to n! / (n - k)! when k <= n and evaluates\n",
            "        to zero when k > n.\n",
            "        \n",
            "        If k is not specified or is None, then k defaults to n\n",
            "        and the function returns n!.\n",
            "        \n",
            "        Raises TypeError if either of the arguments are not integers.\n",
            "        Raises ValueError if either of the arguments are negative.\n",
            "    \n",
            "    pow(x, y, /)\n",
            "        Return x**y (x to the power of y).\n",
            "    \n",
            "    prod(iterable, /, *, start=1)\n",
            "        Calculate the product of all the elements in the input iterable.\n",
            "        \n",
            "        The default start value for the product is 1.\n",
            "        \n",
            "        When the iterable is empty, return the start value.  This function is\n",
            "        intended specifically for use with numeric values and may reject\n",
            "        non-numeric types.\n",
            "    \n",
            "    radians(x, /)\n",
            "        Convert angle x from degrees to radians.\n",
            "    \n",
            "    remainder(x, y, /)\n",
            "        Difference between x and the closest integer multiple of y.\n",
            "        \n",
            "        Return x - n*y where n*y is the closest integer multiple of y.\n",
            "        In the case where x is exactly halfway between two multiples of\n",
            "        y, the nearest even value of n is used. The result is always exact.\n",
            "    \n",
            "    sin(x, /)\n",
            "        Return the sine of x (measured in radians).\n",
            "    \n",
            "    sinh(x, /)\n",
            "        Return the hyperbolic sine of x.\n",
            "    \n",
            "    sqrt(x, /)\n",
            "        Return the square root of x.\n",
            "    \n",
            "    tan(x, /)\n",
            "        Return the tangent of x (measured in radians).\n",
            "    \n",
            "    tanh(x, /)\n",
            "        Return the hyperbolic tangent of x.\n",
            "    \n",
            "    trunc(x, /)\n",
            "        Truncates the Real x to the nearest Integral toward 0.\n",
            "        \n",
            "        Uses the __trunc__ magic method.\n",
            "    \n",
            "    ulp(x, /)\n",
            "        Return the value of the least significant bit of the float x.\n",
            "\n",
            "DATA\n",
            "    e = 2.718281828459045\n",
            "    inf = inf\n",
            "    nan = nan\n",
            "    pi = 3.141592653589793\n",
            "    tau = 6.283185307179586\n",
            "\n",
            "FILE\n",
            "    (built-in)\n",
            "\n",
            "\n"
          ]
        }
      ],
      "source": [
        "help(math)"
      ]
    },
    {
      "cell_type": "code",
      "execution_count": 74,
      "id": "1e16ebf2",
      "metadata": {
        "id": "1e16ebf2",
        "outputId": "1fbd4df5-4932-43ec-877e-5c7d2280028b",
        "colab": {
          "base_uri": "https://localhost:8080/"
        }
      },
      "outputs": [
        {
          "output_type": "execute_result",
          "data": {
            "text/plain": [
              "2.0"
            ]
          },
          "metadata": {},
          "execution_count": 74
        }
      ],
      "source": [
        "math.log(4, 2)"
      ]
    },
    {
      "cell_type": "code",
      "execution_count": 75,
      "id": "076282af",
      "metadata": {
        "id": "076282af",
        "outputId": "aa58eec3-4830-4854-f84c-948d695ae70a",
        "colab": {
          "base_uri": "https://localhost:8080/"
        }
      },
      "outputs": [
        {
          "output_type": "execute_result",
          "data": {
            "text/plain": [
              "-1.0"
            ]
          },
          "metadata": {},
          "execution_count": 75
        }
      ],
      "source": [
        "math.cos(math.pi) #cosinus of the constant pi"
      ]
    },
    {
      "cell_type": "markdown",
      "id": "8537c8fd",
      "metadata": {
        "id": "8537c8fd"
      },
      "source": [
        "If the name of the module is too long you could use an ```as```:"
      ]
    },
    {
      "cell_type": "code",
      "execution_count": 76,
      "id": "2cfdb0bf",
      "metadata": {
        "id": "2cfdb0bf",
        "outputId": "fa35b2bd-5204-49a2-eb07-668ff52c3eb5",
        "colab": {
          "base_uri": "https://localhost:8080/"
        }
      },
      "outputs": [
        {
          "output_type": "execute_result",
          "data": {
            "text/plain": [
              "28.25"
            ]
          },
          "metadata": {},
          "execution_count": 76
        }
      ],
      "source": [
        "import statistics as stat\n",
        "stat.mean([2,5,6,100])"
      ]
    },
    {
      "cell_type": "markdown",
      "id": "cda3d08e",
      "metadata": {
        "id": "cda3d08e"
      },
      "source": [
        "Some other examples:"
      ]
    },
    {
      "cell_type": "code",
      "execution_count": 77,
      "id": "581396b7",
      "metadata": {
        "id": "581396b7",
        "outputId": "b77ba564-6cb7-4715-e1fc-3dd6f31446b0",
        "colab": {
          "base_uri": "https://localhost:8080/"
        }
      },
      "outputs": [
        {
          "output_type": "execute_result",
          "data": {
            "text/plain": [
              "6"
            ]
          },
          "metadata": {},
          "execution_count": 77
        }
      ],
      "source": [
        "import random\n",
        "random.randint(1,10) #Return a random integer N such that a <= N <= b"
      ]
    },
    {
      "cell_type": "code",
      "execution_count": 80,
      "id": "4b048280",
      "metadata": {
        "id": "4b048280",
        "outputId": "7bc85fad-2d18-4dfd-a290-710de3717865",
        "colab": {
          "base_uri": "https://localhost:8080/"
        }
      },
      "outputs": [
        {
          "output_type": "stream",
          "name": "stdout",
          "text": [
            "3 1 6 1 2 3 5 2 4 6 4 6 5 1 6 2 1 6 2 3 2 6 6 4 6 3 1 2 3 5 2 1 4 2 4 5 1 2 3 5 "
          ]
        }
      ],
      "source": [
        "for i in range(40):\n",
        "    print(random.randint(1, 6), end = ' ')"
      ]
    },
    {
      "cell_type": "code",
      "execution_count": 85,
      "id": "248dc3bb",
      "metadata": {
        "id": "248dc3bb",
        "outputId": "36992954-c251-48ec-a0b0-bf28ca254607",
        "colab": {
          "base_uri": "https://localhost:8080/"
        }
      },
      "outputs": [
        {
          "output_type": "execute_result",
          "data": {
            "text/plain": [
              "6"
            ]
          },
          "metadata": {},
          "execution_count": 85
        }
      ],
      "source": [
        "import datetime as dt\n",
        "day = dt.datetime (2024, 9, 29)\n",
        "day.weekday()"
      ]
    },
    {
      "cell_type": "code",
      "execution_count": 86,
      "id": "56e175b6",
      "metadata": {
        "id": "56e175b6",
        "outputId": "f8370f37-175a-47eb-92e6-f4b2c05a8a41",
        "colab": {
          "base_uri": "https://localhost:8080/"
        }
      },
      "outputs": [
        {
          "output_type": "stream",
          "name": "stdout",
          "text": [
            "Help on method_descriptor:\n",
            "\n",
            "weekday(...)\n",
            "    Return the day of the week represented by the date.\n",
            "    Monday == 0 ... Sunday == 6\n",
            "\n"
          ]
        }
      ],
      "source": [
        "help(dt.datetime.weekday)"
      ]
    },
    {
      "cell_type": "code",
      "execution_count": 87,
      "id": "33d0df6f",
      "metadata": {
        "id": "33d0df6f"
      },
      "outputs": [],
      "source": [
        "import antigravity"
      ]
    },
    {
      "cell_type": "code",
      "execution_count": 88,
      "id": "bada0fdf",
      "metadata": {
        "id": "bada0fdf",
        "outputId": "1f88c995-9361-4230-d4bf-db1d145d2674",
        "colab": {
          "base_uri": "https://localhost:8080/"
        }
      },
      "outputs": [
        {
          "output_type": "stream",
          "name": "stdout",
          "text": [
            "The Zen of Python, by Tim Peters\n",
            "\n",
            "Beautiful is better than ugly.\n",
            "Explicit is better than implicit.\n",
            "Simple is better than complex.\n",
            "Complex is better than complicated.\n",
            "Flat is better than nested.\n",
            "Sparse is better than dense.\n",
            "Readability counts.\n",
            "Special cases aren't special enough to break the rules.\n",
            "Although practicality beats purity.\n",
            "Errors should never pass silently.\n",
            "Unless explicitly silenced.\n",
            "In the face of ambiguity, refuse the temptation to guess.\n",
            "There should be one-- and preferably only one --obvious way to do it.\n",
            "Although that way may not be obvious at first unless you're Dutch.\n",
            "Now is better than never.\n",
            "Although never is often better than *right* now.\n",
            "If the implementation is hard to explain, it's a bad idea.\n",
            "If the implementation is easy to explain, it may be a good idea.\n",
            "Namespaces are one honking great idea -- let's do more of those!\n"
          ]
        }
      ],
      "source": [
        "import this"
      ]
    },
    {
      "cell_type": "markdown",
      "id": "2c72cdbe",
      "metadata": {
        "id": "2c72cdbe"
      },
      "source": [
        "Some other examples of modules from the Python Standard Library are os, sys, datetime, and random. You can find the complete list and documentation of the modules included in the Python Standard Library at the [official documentation](https://docs.python.org/3/library/index.html).\n",
        "\n",
        "Apart from the standard library, there are numerous third-party modules available that can be installed and used in your Python programs. The Anaconda distribution, for example, comes with many popular third-party modules pre-installed.\n",
        "\n",
        "You can also create your own modules by writing Python code in a file and then importing that file in other Python programs."
      ]
    },
    {
      "cell_type": "markdown",
      "id": "cc750294",
      "metadata": {
        "id": "cc750294"
      },
      "source": [
        "### PIP (Package Installer for Python)\n",
        "PIP (Package Installer for Python) is the de facto and recommended package-management system written in Python and is used to install and manage software packages. It connects to an online repository of public packages, called the Python Package Index *//Wikipedia*"
      ]
    },
    {
      "cell_type": "markdown",
      "id": "3206716a",
      "metadata": {
        "id": "3206716a"
      },
      "source": [
        "[Package vs Module](https://stackoverflow.com/questions/7948494/whats-the-difference-between-a-python-module-and-a-python-package)"
      ]
    },
    {
      "cell_type": "markdown",
      "id": "912e8740",
      "metadata": {
        "id": "912e8740"
      },
      "source": [
        "[Beautiful Soup](https://www.crummy.com/software/BeautifulSoup/bs4/doc/)"
      ]
    },
    {
      "cell_type": "code",
      "execution_count": 89,
      "id": "e62d712b",
      "metadata": {
        "id": "e62d712b",
        "outputId": "777be1c6-d599-4ab6-a73e-ff4dcdf04811",
        "colab": {
          "base_uri": "https://localhost:8080/"
        }
      },
      "outputs": [
        {
          "output_type": "stream",
          "name": "stdout",
          "text": [
            "Requirement already satisfied: beautifulsoup4 in /usr/local/lib/python3.10/dist-packages (4.12.3)\n",
            "Requirement already satisfied: soupsieve>1.2 in /usr/local/lib/python3.10/dist-packages (from beautifulsoup4) (2.6)\n"
          ]
        }
      ],
      "source": [
        "!pip install beautifulsoup4"
      ]
    },
    {
      "cell_type": "markdown",
      "id": "eedc9e1b",
      "metadata": {
        "id": "eedc9e1b"
      },
      "source": [
        "### Installing with Conda\n",
        "\n",
        "Many packages can alternatively be install with `conda install`. This will work better in combination with (Ana)conda and virtual environments."
      ]
    },
    {
      "cell_type": "code",
      "execution_count": 90,
      "id": "3527c8ad",
      "metadata": {
        "id": "3527c8ad",
        "outputId": "d2e3b22f-b8de-4e51-a746-d8bde29c6172",
        "colab": {
          "base_uri": "https://localhost:8080/"
        }
      },
      "outputs": [
        {
          "output_type": "stream",
          "name": "stdout",
          "text": [
            "/bin/bash: line 1: conda: command not found\n"
          ]
        }
      ],
      "source": [
        "!conda install beautifulsoup4"
      ]
    },
    {
      "cell_type": "code",
      "execution_count": null,
      "id": "76a548dc",
      "metadata": {
        "id": "76a548dc"
      },
      "outputs": [],
      "source": []
    }
  ],
  "metadata": {
    "kernelspec": {
      "display_name": "Python 3 (ipykernel)",
      "language": "python",
      "name": "python3"
    },
    "language_info": {
      "codemirror_mode": {
        "name": "ipython",
        "version": 3
      },
      "file_extension": ".py",
      "mimetype": "text/x-python",
      "name": "python",
      "nbconvert_exporter": "python",
      "pygments_lexer": "ipython3",
      "version": "3.1.0"
    },
    "colab": {
      "provenance": []
    }
  },
  "nbformat": 4,
  "nbformat_minor": 5
}