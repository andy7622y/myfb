{
  "cells": [
    {
      "cell_type": "markdown",
      "id": "2b74bc93",
      "metadata": {
        "id": "2b74bc93"
      },
      "source": [
        "# What could you expect from the exam?"
      ]
    },
    {
      "cell_type": "markdown",
      "id": "d18d969b",
      "metadata": {
        "id": "d18d969b"
      },
      "source": [
        "**General rule: you should be familiar with everything that we have discussed during lectures and exercises**\n",
        "    \n",
        "What is written below cannot be used as an excuse for not knowing something.\n",
        "Please, also note that expectations for the highest possible grade might be different,\n",
        "e.g. while in general it is enough to know one way to solve the problem for the highest possible grade you\n",
        "might be expected to know more optimal way"
      ]
    },
    {
      "cell_type": "markdown",
      "id": "b79b4132",
      "metadata": {
        "id": "b79b4132"
      },
      "source": [
        "**What would <u>unlikely</u> to be asked during the exam:**\n",
        "\n",
        "Write a function to convert a time to a different time zone\n",
        "\n",
        "*Why? Because this requires remembering by heart class name, function name, parameter name*"
      ]
    },
    {
      "cell_type": "markdown",
      "id": "aca1daa6",
      "metadata": {
        "id": "aca1daa6"
      },
      "source": [
        "**What you should <u>probably</u> know during the exam:**\n",
        "\n",
        "    What is timestamp? (time in seconds from a certain timepoint in the past – but it is not neccessary to know the exact date)\n",
        "\n",
        "*Why? Because this concept was discussed during lectures, we use it in example to measure the running time of a cell,\n",
        "it was mentioned that it might be convinient to convert data into timestamps when you're working with time data*.\n",
        "\n",
        "    Given the snippet of code you should be able to detect a problem within in it if it doesn't account for timezones\n",
        "\n",
        "*Why? Because this doesn't require remembering particular function names but checks the understanding of important concept that was discussed both at our lectures and exercises*\n",
        "\n",
        "You should also be able to write some small code snippets using fundamental parts of Python langauage. In particular: ```if``` statements, ```for``` loops, defining a function, assinging a value to a variable."
      ]
    },
    {
      "cell_type": "markdown",
      "id": "5c51a0bb",
      "metadata": {
        "id": "5c51a0bb"
      },
      "source": [
        "For instance you should be able to `write a function that return only even numbers from the list`. All of the options below would be fine\n",
        "\n",
        "```\n",
        "def getEven(l):\n",
        "    result = []\n",
        "    for num in l:\n",
        "        if num % 2 == 0:\n",
        "            result.append(num)\n",
        "    return result\n",
        "    \n",
        "def getEven(l):\n",
        "    result = []\n",
        "    for num in l:\n",
        "        if num / 2 == num // 2:\n",
        "            result += [num]\n",
        "    return result  \n",
        "    \n",
        "def getEven(l):\n",
        "    return [num for num in l if num % 2 == 0]\n",
        "        \n",
        "```\n",
        "\n",
        "If you forget something you could try to find a way around. If you forget ```num % 2 == 0``` you might use ```num / 2 == num // 2``` if you forget ```num / 2 == num // 2``` you might use ```str(num * 5)[-1] == '0'```"
      ]
    },
    {
      "cell_type": "markdown",
      "id": "5a192029",
      "metadata": {
        "id": "5a192029"
      },
      "source": [
        "# Additional resources\n",
        "https://www.w3schools.com/python/default.asp"
      ]
    },
    {
      "cell_type": "markdown",
      "id": "8e68f394",
      "metadata": {
        "id": "8e68f394"
      },
      "source": [
        "# NumPy"
      ]
    },
    {
      "cell_type": "markdown",
      "id": "0e09b5dc",
      "metadata": {
        "id": "0e09b5dc"
      },
      "source": [
        "NumPy provides the fundamental data structure for Scipy, Matplotlib, Pandas, scikit-learn, etc. the numpy array. Numpy uses C pre-compiled C implementations for fast computation. Operations are specifically fast if they are performed on an array (vector) level."
      ]
    },
    {
      "cell_type": "markdown",
      "id": "9cc061e6",
      "metadata": {
        "id": "9cc061e6"
      },
      "source": [
        "The core data structure of Numpy is the numpy array. Numpy arrays are similar to lists but have\n",
        "* a fixed size\n",
        "* a specific datatype contained\n",
        "\n",
        "They are, however, more efficient to use (faster)."
      ]
    },
    {
      "cell_type": "markdown",
      "id": "0ad653d9",
      "metadata": {
        "id": "0ad653d9"
      },
      "source": [
        "[Array programming with NumPy](https://www.nature.com/articles/s41586-020-2649-2) Nature, 2020"
      ]
    },
    {
      "cell_type": "markdown",
      "id": "4e221081",
      "metadata": {
        "id": "4e221081"
      },
      "source": [
        "<img src=\"https://github.com/andy7622y/myfb/blob/main/IS557/figure2.png?raw=1\" style=\"width: 500px;\"/>"
      ]
    },
    {
      "cell_type": "code",
      "execution_count": 1,
      "id": "2f7ec44d",
      "metadata": {
        "id": "2f7ec44d"
      },
      "outputs": [],
      "source": [
        "import numpy as np  # naming convention: 'np'"
      ]
    },
    {
      "cell_type": "markdown",
      "id": "206442bd",
      "metadata": {
        "id": "206442bd"
      },
      "source": [
        "## Creating NumPy arrays"
      ]
    },
    {
      "cell_type": "markdown",
      "id": "81763373",
      "metadata": {
        "id": "81763373"
      },
      "source": [
        "Numpy arrays can be created from a list of numbers"
      ]
    },
    {
      "cell_type": "code",
      "execution_count": null,
      "id": "34081021",
      "metadata": {
        "scrolled": false,
        "id": "34081021",
        "outputId": "51046f4b-c02d-4dbf-e5b8-0e1d28fe9e94",
        "colab": {
          "base_uri": "https://localhost:8080/"
        }
      },
      "outputs": [
        {
          "output_type": "execute_result",
          "data": {
            "text/plain": [
              "array([11, 12, 13, 14, 15, 16, 17, 18, 19])"
            ]
          },
          "metadata": {},
          "execution_count": 2
        }
      ],
      "source": [
        "x = np.array([11,12,13,14,15,16,17,18,19])\n",
        "x"
      ]
    },
    {
      "cell_type": "code",
      "execution_count": null,
      "id": "749e7b3e",
      "metadata": {
        "id": "749e7b3e",
        "outputId": "57e702fd-bbd7-4917-9d5e-8c077e664c13"
      },
      "outputs": [
        {
          "data": {
            "text/plain": [
              "numpy.ndarray"
            ]
          },
          "execution_count": 4,
          "metadata": {},
          "output_type": "execute_result"
        }
      ],
      "source": [
        "type(x)"
      ]
    },
    {
      "cell_type": "code",
      "execution_count": null,
      "id": "6e0fe556",
      "metadata": {
        "id": "6e0fe556",
        "outputId": "dec7e1e1-1410-4937-daf8-4519e5a58c46",
        "colab": {
          "base_uri": "https://localhost:8080/"
        }
      },
      "outputs": [
        {
          "output_type": "execute_result",
          "data": {
            "text/plain": [
              "1"
            ]
          },
          "metadata": {},
          "execution_count": 6
        }
      ],
      "source": [
        "x.ndim"
      ]
    },
    {
      "cell_type": "markdown",
      "id": "32ca9500",
      "metadata": {
        "id": "32ca9500"
      },
      "source": [
        "Numpy arrays can be dimensional, e.g. 2-dimensional matrices"
      ]
    },
    {
      "cell_type": "code",
      "execution_count": null,
      "id": "fc29a795",
      "metadata": {
        "id": "fc29a795",
        "outputId": "f5443ffa-7d71-4ce9-8538-b348aa4fc7f7",
        "colab": {
          "base_uri": "https://localhost:8080/"
        }
      },
      "outputs": [
        {
          "output_type": "stream",
          "name": "stdout",
          "text": [
            "[[111 112 113]\n",
            " [121 122 123]\n",
            " [131 132 133]]\n"
          ]
        }
      ],
      "source": [
        "x = np.array([\n",
        "             [111,112,113],\n",
        "             [121,122,123],\n",
        "             [131,132,133]\n",
        "            ])\n",
        "print(x)"
      ]
    },
    {
      "cell_type": "code",
      "execution_count": null,
      "id": "af3e6641",
      "metadata": {
        "id": "af3e6641",
        "outputId": "034797f4-040e-4842-d8f6-06f14bdfe14f",
        "colab": {
          "base_uri": "https://localhost:8080/"
        }
      },
      "outputs": [
        {
          "output_type": "stream",
          "name": "stdout",
          "text": [
            "2\n"
          ]
        }
      ],
      "source": [
        "print(x.ndim)"
      ]
    },
    {
      "cell_type": "code",
      "execution_count": null,
      "id": "98287e7b",
      "metadata": {
        "id": "98287e7b",
        "outputId": "1fbbdcb8-74f7-469d-ac58-4d9fa12c020b"
      },
      "outputs": [
        {
          "name": "stdout",
          "output_type": "stream",
          "text": [
            "[[[111 112 113 114]\n",
            "  [121 122 123 124]\n",
            "  [131 132 133 134]]\n",
            "\n",
            " [[211 212 213 214]\n",
            "  [221 222 223 224]\n",
            "  [231 232 233 234]]]\n"
          ]
        }
      ],
      "source": [
        "x = np.array([\n",
        "                [[111,112,113,114],\n",
        "                 [121,122,123,124],\n",
        "                 [131,132,133,134]],\n",
        "\n",
        "                [[211,212,213,214],\n",
        "                 [221,222,223,224],\n",
        "                 [231,232,233,234]]])\n",
        "print(x)"
      ]
    },
    {
      "cell_type": "code",
      "execution_count": null,
      "id": "f73d2ebc",
      "metadata": {
        "id": "f73d2ebc"
      },
      "outputs": [],
      "source": [
        "x.ndim?"
      ]
    },
    {
      "cell_type": "code",
      "execution_count": null,
      "id": "fc997e53",
      "metadata": {
        "id": "fc997e53",
        "outputId": "22009f01-1c45-46bc-d24f-c3174c1dbcd6"
      },
      "outputs": [
        {
          "data": {
            "text/plain": [
              "(2, 3, 4)"
            ]
          },
          "execution_count": 10,
          "metadata": {},
          "output_type": "execute_result"
        }
      ],
      "source": [
        "x.shape  # reports shape outer -> inner"
      ]
    },
    {
      "cell_type": "code",
      "execution_count": null,
      "id": "3a8c4dee",
      "metadata": {
        "id": "3a8c4dee",
        "outputId": "62fc47a0-9a6b-4be8-f5a6-451cfc4a2ddd"
      },
      "outputs": [
        {
          "ename": "ValueError",
          "evalue": "setting an array element with a sequence. The requested array has an inhomogeneous shape after 1 dimensions. The detected shape was (2,) + inhomogeneous part.",
          "output_type": "error",
          "traceback": [
            "\u001b[0;31m---------------------------------------------------------------------------\u001b[0m",
            "\u001b[0;31mValueError\u001b[0m                                Traceback (most recent call last)",
            "\u001b[1;32m/Users/georg/Documents/Promotion/Teaching/Intro to Scientific Programming/My notebooks/Lecture 07. Numpy Array Calculations. Structured.ipynb Zelle 24\u001b[0m line \u001b[0;36m1\n\u001b[0;32m----> <a href='vscode-notebook-cell:/Users/georg/Documents/Promotion/Teaching/Intro%20to%20Scientific%20Programming/My%20notebooks/Lecture%2007.%20Numpy%20Array%20Calculations.%20Structured.ipynb#X32sZmlsZQ%3D%3D?line=0'>1</a>\u001b[0m x \u001b[39m=\u001b[39m np\u001b[39m.\u001b[39;49marray([[\u001b[39m1\u001b[39;49m], [\u001b[39m1\u001b[39;49m,\u001b[39m2\u001b[39;49m]])  \u001b[39m# fails, because it has inhomogeneous shape\u001b[39;00m\n",
            "\u001b[0;31mValueError\u001b[0m: setting an array element with a sequence. The requested array has an inhomogeneous shape after 1 dimensions. The detected shape was (2,) + inhomogeneous part."
          ]
        }
      ],
      "source": [
        "x = np.array([[1], [1,2]])  # fails, because it has inhomogeneous shape"
      ]
    },
    {
      "cell_type": "markdown",
      "id": "c6d99a12",
      "metadata": {
        "id": "c6d99a12"
      },
      "source": [
        "One can also create an empty numpy array or prefill it with zeros or ones"
      ]
    },
    {
      "cell_type": "code",
      "execution_count": null,
      "id": "e20464ec",
      "metadata": {
        "id": "e20464ec",
        "outputId": "867e3f96-c008-4a07-b87b-0acdaefcb2c8"
      },
      "outputs": [
        {
          "data": {
            "text/plain": [
              "array([[0., 0., 0.],\n",
              "       [0., 0., 0.]])"
            ]
          },
          "execution_count": 14,
          "metadata": {},
          "output_type": "execute_result"
        }
      ],
      "source": [
        "a = np.empty((2,3))  # creates an array of given shape WITHOUT initializing values, no guarantee what numbers are\n",
        "a"
      ]
    },
    {
      "cell_type": "code",
      "execution_count": null,
      "id": "54eef197",
      "metadata": {
        "scrolled": false,
        "id": "54eef197",
        "outputId": "df5f58f3-2932-4908-dfe6-74f3e5c8407a"
      },
      "outputs": [
        {
          "data": {
            "text/plain": [
              "array([[[0., 0., 0., 0., 0.],\n",
              "        [0., 0., 0., 0., 0.],\n",
              "        [0., 0., 0., 0., 0.]],\n",
              "\n",
              "       [[0., 0., 0., 0., 0.],\n",
              "        [0., 0., 0., 0., 0.],\n",
              "        [0., 0., 0., 0., 0.]]])"
            ]
          },
          "execution_count": 13,
          "metadata": {},
          "output_type": "execute_result"
        }
      ],
      "source": [
        "a = np.zeros((2,3,5))  # initializes with zeros\n",
        "a"
      ]
    },
    {
      "cell_type": "code",
      "source": [
        "b = np.zeros((2,4))\n",
        "b"
      ],
      "metadata": {
        "id": "pZ6VDvQdYY9z",
        "outputId": "90b0904e-d4c1-47d4-d92c-12f5a77ad204",
        "colab": {
          "base_uri": "https://localhost:8080/"
        }
      },
      "id": "pZ6VDvQdYY9z",
      "execution_count": null,
      "outputs": [
        {
          "output_type": "execute_result",
          "data": {
            "text/plain": [
              "array([[0., 0., 0., 0.],\n",
              "       [0., 0., 0., 0.]])"
            ]
          },
          "metadata": {},
          "execution_count": 11
        }
      ]
    },
    {
      "cell_type": "code",
      "execution_count": null,
      "id": "a4315c6d",
      "metadata": {
        "id": "a4315c6d",
        "outputId": "3f204a9f-1d3d-4f84-cc91-346dfa70f153"
      },
      "outputs": [
        {
          "data": {
            "text/plain": [
              "array([[1., 1., 1.],\n",
              "       [1., 1., 1.]])"
            ]
          },
          "execution_count": 15,
          "metadata": {},
          "output_type": "execute_result"
        }
      ],
      "source": [
        "a = np.ones((2,3))  # initializes with ones\n",
        "a"
      ]
    },
    {
      "cell_type": "markdown",
      "id": "88406fb6",
      "metadata": {
        "id": "88406fb6"
      },
      "source": [
        "## Array data types\n",
        "Elements of numpy array should belong to one type"
      ]
    },
    {
      "cell_type": "code",
      "execution_count": null,
      "id": "0a039a0b",
      "metadata": {
        "id": "0a039a0b",
        "outputId": "da1bd970-6655-4890-af97-1ddb6b6de56e",
        "colab": {
          "base_uri": "https://localhost:8080/"
        }
      },
      "outputs": [
        {
          "output_type": "execute_result",
          "data": {
            "text/plain": [
              "dtype('float64')"
            ]
          },
          "metadata": {},
          "execution_count": 12
        }
      ],
      "source": [
        "a = np.ones((2,3))\n",
        "a.dtype"
      ]
    },
    {
      "cell_type": "code",
      "execution_count": null,
      "id": "6f6221cc",
      "metadata": {
        "id": "6f6221cc",
        "outputId": "74ffb342-d6ef-4691-9094-96c6453a8fea",
        "colab": {
          "base_uri": "https://localhost:8080/"
        }
      },
      "outputs": [
        {
          "output_type": "execute_result",
          "data": {
            "text/plain": [
              "dtype('int64')"
            ]
          },
          "metadata": {},
          "execution_count": 13
        }
      ],
      "source": [
        "x = np.array([1, 2, 3])\n",
        "x.dtype"
      ]
    },
    {
      "cell_type": "code",
      "execution_count": null,
      "id": "6d8df803",
      "metadata": {
        "id": "6d8df803",
        "outputId": "0b816260-6250-49a4-df03-504b691a87fb",
        "colab": {
          "base_uri": "https://localhost:8080/"
        }
      },
      "outputs": [
        {
          "output_type": "execute_result",
          "data": {
            "text/plain": [
              "dtype('bool')"
            ]
          },
          "metadata": {},
          "execution_count": 14
        }
      ],
      "source": [
        "x = np.array([True, False])\n",
        "x.dtype"
      ]
    },
    {
      "cell_type": "code",
      "execution_count": null,
      "id": "1c3fc9fc",
      "metadata": {
        "id": "1c3fc9fc",
        "outputId": "91fa9169-bc2d-431d-bbdf-fef90502173b",
        "colab": {
          "base_uri": "https://localhost:8080/"
        }
      },
      "outputs": [
        {
          "output_type": "execute_result",
          "data": {
            "text/plain": [
              "(dtype('int64'), array([ 1,  3, -4]))"
            ]
          },
          "metadata": {},
          "execution_count": 15
        }
      ],
      "source": [
        "x = np.array([1.2, 3.0, -4.0], dtype = np.int64)  # force a specific data type\n",
        "x.dtype, x"
      ]
    },
    {
      "cell_type": "code",
      "execution_count": null,
      "id": "1e82d40f",
      "metadata": {
        "id": "1e82d40f",
        "outputId": "66a2c624-f83f-43c2-aa63-628aeaec0e2a"
      },
      "outputs": [
        {
          "data": {
            "text/plain": [
              "array(['True', 'hello world', '42'], dtype='<U21')"
            ]
          },
          "execution_count": 23,
          "metadata": {},
          "output_type": "execute_result"
        }
      ],
      "source": [
        "x = np.array([True, 'hello world', 42])  # casts to the most general data type possible, typically a Unicode string\n",
        "x"
      ]
    },
    {
      "cell_type": "code",
      "execution_count": null,
      "id": "3a0efee8",
      "metadata": {
        "id": "3a0efee8",
        "outputId": "dd86f782-683c-468f-cdf1-f13d1a0e4e38",
        "colab": {
          "base_uri": "https://localhost:8080/"
        }
      },
      "outputs": [
        {
          "output_type": "execute_result",
          "data": {
            "text/plain": [
              "array([ 0., 42.])"
            ]
          },
          "metadata": {},
          "execution_count": 19
        }
      ],
      "source": [
        "x = np.array([True, 42], dtype = np.float64)  # fails because 'hello world' cannot be converted to np.float64\n",
        "y = np.array([False, 42], dtype = np.float64)\n",
        "y"
      ]
    },
    {
      "cell_type": "markdown",
      "id": "72f209d5",
      "metadata": {
        "id": "72f209d5"
      },
      "source": [
        "## Shapes"
      ]
    },
    {
      "cell_type": "code",
      "execution_count": 2,
      "id": "3a7c81e4",
      "metadata": {
        "id": "3a7c81e4",
        "outputId": "27e57271-7366-484a-f965-db1ba622b8a2",
        "colab": {
          "base_uri": "https://localhost:8080/"
        }
      },
      "outputs": [
        {
          "output_type": "execute_result",
          "data": {
            "text/plain": [
              "(array([[11, 12],\n",
              "        [21, 22],\n",
              "        [31, 32],\n",
              "        [41, 42]]),\n",
              " (4, 2))"
            ]
          },
          "metadata": {},
          "execution_count": 2
        }
      ],
      "source": [
        "x = np.array ([[11,12],\n",
        "               [21,22],\n",
        "               [31,32],\n",
        "               [41,42]])\n",
        "x, x.shape"
      ]
    },
    {
      "cell_type": "code",
      "execution_count": 3,
      "id": "4d876dfa",
      "metadata": {
        "id": "4d876dfa",
        "outputId": "f745791a-f170-435a-bc7b-4680ea00ca98",
        "colab": {
          "base_uri": "https://localhost:8080/"
        }
      },
      "outputs": [
        {
          "output_type": "execute_result",
          "data": {
            "text/plain": [
              "2"
            ]
          },
          "metadata": {},
          "execution_count": 3
        }
      ],
      "source": [
        "x.shape[1]  # accessing the size of a dimension directly can sometimes be helpful"
      ]
    },
    {
      "cell_type": "code",
      "source": [
        "x.reshape((2,4))"
      ],
      "metadata": {
        "id": "SRYn08zqcD_V",
        "outputId": "5540d07f-fc6f-4374-d8e9-0b1a631113c3",
        "colab": {
          "base_uri": "https://localhost:8080/"
        }
      },
      "id": "SRYn08zqcD_V",
      "execution_count": 6,
      "outputs": [
        {
          "output_type": "execute_result",
          "data": {
            "text/plain": [
              "array([[11, 12, 21, 22],\n",
              "       [31, 32, 41, 42]])"
            ]
          },
          "metadata": {},
          "execution_count": 6
        }
      ]
    },
    {
      "cell_type": "code",
      "execution_count": null,
      "id": "cea7bcf0",
      "metadata": {
        "id": "cea7bcf0",
        "outputId": "2e6c1f36-7e59-4e8a-e5e9-f908de7dca6e"
      },
      "outputs": [
        {
          "data": {
            "text/plain": [
              "(array([[11, 12, 21, 22],\n",
              "        [31, 32, 41, 42]]),\n",
              " (2, 4))"
            ]
          },
          "execution_count": 27,
          "metadata": {},
          "output_type": "execute_result"
        }
      ],
      "source": [
        "x = x.reshape((2,4))\n",
        "x, x.shape"
      ]
    },
    {
      "cell_type": "code",
      "execution_count": null,
      "id": "7075d467",
      "metadata": {
        "id": "7075d467",
        "outputId": "a694242d-18c9-447c-8e9b-b001f3c33149"
      },
      "outputs": [
        {
          "data": {
            "text/plain": [
              "array([11, 12, 21, 22, 31, 32, 41, 42])"
            ]
          },
          "execution_count": 28,
          "metadata": {},
          "output_type": "execute_result"
        }
      ],
      "source": [
        "x.flatten()"
      ]
    },
    {
      "cell_type": "markdown",
      "id": "ad7906d2",
      "metadata": {
        "collapsed": true,
        "id": "ad7906d2"
      },
      "source": [
        "## Array indexing"
      ]
    },
    {
      "cell_type": "code",
      "execution_count": null,
      "id": "466cee1d",
      "metadata": {
        "id": "466cee1d",
        "outputId": "e27d96af-1d01-4b34-97ed-a2107b65ab45"
      },
      "outputs": [
        {
          "data": {
            "text/plain": [
              "array([[ 1,  2,  3,  4],\n",
              "       [ 5,  6,  7,  8],\n",
              "       [ 9, 10, 11, 12],\n",
              "       [13, 14, 15, 16]])"
            ]
          },
          "execution_count": 29,
          "metadata": {},
          "output_type": "execute_result"
        }
      ],
      "source": [
        "x = np.array([[1,2,3,4], [5,6,7,8], [9,10,11,12], [13,14,15,16]])\n",
        "x"
      ]
    },
    {
      "cell_type": "code",
      "execution_count": null,
      "id": "30941ddd",
      "metadata": {
        "id": "30941ddd",
        "outputId": "10ce2c7b-0062-4736-ee13-65c76672f6a9"
      },
      "outputs": [
        {
          "data": {
            "text/plain": [
              "14"
            ]
          },
          "execution_count": 30,
          "metadata": {},
          "output_type": "execute_result"
        }
      ],
      "source": [
        "x[3, 1]  # 4th row, 2nd column – indices start at 0"
      ]
    },
    {
      "cell_type": "code",
      "execution_count": null,
      "id": "b3e05672",
      "metadata": {
        "id": "b3e05672",
        "outputId": "d4f46c51-73a2-4bf5-c29f-03bea34e326a"
      },
      "outputs": [
        {
          "ename": "IndexError",
          "evalue": "index 100 is out of bounds for axis 0 with size 4",
          "output_type": "error",
          "traceback": [
            "\u001b[0;31m---------------------------------------------------------------------------\u001b[0m",
            "\u001b[0;31mIndexError\u001b[0m                                Traceback (most recent call last)",
            "\u001b[1;32m/Users/georg/Documents/Promotion/Teaching/Intro to Scientific Programming/My notebooks/Lecture 07. Numpy Array Calculations. Structured.ipynb Zelle 44\u001b[0m line \u001b[0;36m1\n\u001b[0;32m----> <a href='vscode-notebook-cell:/Users/georg/Documents/Promotion/Teaching/Intro%20to%20Scientific%20Programming/My%20notebooks/Lecture%2007.%20Numpy%20Array%20Calculations.%20Structured.ipynb#X61sZmlsZQ%3D%3D?line=0'>1</a>\u001b[0m x[\u001b[39m100\u001b[39;49m, \u001b[39m100\u001b[39;49m]  \u001b[39m# fails, because out of range\u001b[39;00m\n",
            "\u001b[0;31mIndexError\u001b[0m: index 100 is out of bounds for axis 0 with size 4"
          ]
        }
      ],
      "source": [
        "x[100, 100]  # fails, because out of range"
      ]
    },
    {
      "cell_type": "markdown",
      "id": "507aba3d",
      "metadata": {
        "id": "507aba3d"
      },
      "source": [
        "## Negative indexing\n",
        "\n",
        "Instead of counting indices from the beginning of each dimension, we can also start at the end. This is particularly helpful for handling arrays of unknown or changing lengths. Beware that *negative indices start at -1!*"
      ]
    },
    {
      "cell_type": "code",
      "execution_count": null,
      "id": "9f9c9da6",
      "metadata": {
        "id": "9f9c9da6",
        "outputId": "2c5a69fb-f5bd-4dcc-e4b9-2a09b8592797"
      },
      "outputs": [
        {
          "data": {
            "text/plain": [
              "array([[ 1,  2,  3,  4],\n",
              "       [ 5,  6,  7,  8],\n",
              "       [ 9, 10, 11, 12],\n",
              "       [13, 14, 15, 16]])"
            ]
          },
          "execution_count": 32,
          "metadata": {},
          "output_type": "execute_result"
        }
      ],
      "source": [
        "x = np.array([[1,2,3,4], [5,6,7,8], [9,10,11,12], [13,14,15,16]])\n",
        "x"
      ]
    },
    {
      "cell_type": "code",
      "execution_count": null,
      "id": "c6192fb1",
      "metadata": {
        "id": "c6192fb1",
        "outputId": "b9404a8a-2d87-4cbe-abd5-da73e957e97f"
      },
      "outputs": [
        {
          "data": {
            "text/plain": [
              "14"
            ]
          },
          "execution_count": 33,
          "metadata": {},
          "output_type": "execute_result"
        }
      ],
      "source": [
        "x[-1,1]  # last row, 2nd column"
      ]
    },
    {
      "cell_type": "code",
      "execution_count": null,
      "id": "bb7a6043",
      "metadata": {
        "id": "bb7a6043",
        "outputId": "dd9602e1-61fd-4255-b129-f92f3f47858c"
      },
      "outputs": [
        {
          "data": {
            "text/plain": [
              "12"
            ]
          },
          "execution_count": 34,
          "metadata": {},
          "output_type": "execute_result"
        }
      ],
      "source": [
        "x[-2,-1]  # second-to-last row, last column"
      ]
    },
    {
      "cell_type": "markdown",
      "id": "526ea069",
      "metadata": {
        "id": "526ea069"
      },
      "source": [
        "## Array Slicing\n",
        "\n",
        "We can select parts of an array using the following form:\n",
        "\n",
        "    array[start:stop:step]"
      ]
    },
    {
      "cell_type": "code",
      "execution_count": null,
      "id": "4caf2958",
      "metadata": {
        "id": "4caf2958",
        "outputId": "34fb01d3-d8f1-48d1-affc-0989461680aa",
        "colab": {
          "base_uri": "https://localhost:8080/"
        }
      },
      "outputs": [
        {
          "output_type": "execute_result",
          "data": {
            "text/plain": [
              "array([[ 1,  2,  3,  4],\n",
              "       [ 5,  6,  7,  8],\n",
              "       [ 9, 10, 11, 12],\n",
              "       [13, 14, 15, 16]])"
            ]
          },
          "metadata": {},
          "execution_count": 20
        }
      ],
      "source": [
        "x = np.array([[1,2,3,4], [5,6,7,8], [9,10,11,12], [13,14,15,16]])\n",
        "x"
      ]
    },
    {
      "cell_type": "code",
      "execution_count": null,
      "id": "a406857c",
      "metadata": {
        "id": "a406857c",
        "outputId": "e0872d5e-d83c-4459-c3c0-3c1eca899ad8",
        "colab": {
          "base_uri": "https://localhost:8080/"
        }
      },
      "outputs": [
        {
          "output_type": "execute_result",
          "data": {
            "text/plain": [
              "array([6, 7])"
            ]
          },
          "metadata": {},
          "execution_count": 21
        }
      ],
      "source": [
        "x[1, 1:3]  # 2nd row, 2nd-3rd column – use ':' for slicing"
      ]
    },
    {
      "cell_type": "code",
      "source": [
        "c = [1,2,3,4,5,6]\n",
        "c[1:3]"
      ],
      "metadata": {
        "id": "iRhBv__dceUN",
        "outputId": "9a798983-0940-4cc3-8810-8216a8c27f58",
        "colab": {
          "base_uri": "https://localhost:8080/"
        }
      },
      "id": "iRhBv__dceUN",
      "execution_count": null,
      "outputs": [
        {
          "output_type": "execute_result",
          "data": {
            "text/plain": [
              "[2, 3]"
            ]
          },
          "metadata": {},
          "execution_count": 22
        }
      ]
    },
    {
      "cell_type": "code",
      "execution_count": null,
      "id": "5a7410a3",
      "metadata": {
        "id": "5a7410a3",
        "outputId": "d9c9ee86-45f6-4a1e-e98e-4caf3a5a47b3"
      },
      "outputs": [
        {
          "data": {
            "text/plain": [
              "array([5, 6, 7, 8])"
            ]
          },
          "execution_count": 37,
          "metadata": {},
          "output_type": "execute_result"
        }
      ],
      "source": [
        "x[1, :100]  # slicing out of range is fine"
      ]
    },
    {
      "cell_type": "code",
      "execution_count": null,
      "id": "8591bd44",
      "metadata": {
        "id": "8591bd44",
        "outputId": "01654c9b-c7ea-4fdb-854f-ae578b4d73a2"
      },
      "outputs": [
        {
          "data": {
            "text/plain": [
              "array([[ 3,  4],\n",
              "       [ 7,  8],\n",
              "       [11, 12]])"
            ]
          },
          "execution_count": 38,
          "metadata": {},
          "output_type": "execute_result"
        }
      ],
      "source": [
        "x[:3, 2:]  # 1st-3rd row, 3rd-4th column – you can leave out the start/end of a slice"
      ]
    },
    {
      "cell_type": "code",
      "execution_count": null,
      "id": "202dbd7d",
      "metadata": {
        "id": "202dbd7d",
        "outputId": "db013422-0b71-42ce-a3ad-57b026d481d8"
      },
      "outputs": [
        {
          "data": {
            "text/plain": [
              "array([5, 6, 7, 8])"
            ]
          },
          "execution_count": 39,
          "metadata": {},
          "output_type": "execute_result"
        }
      ],
      "source": [
        "x[1, :]  # 2nd row, all columns"
      ]
    },
    {
      "cell_type": "code",
      "execution_count": null,
      "id": "cd3a74a1",
      "metadata": {
        "id": "cd3a74a1",
        "outputId": "fffddb0c-daaa-4603-8bb9-2869e5756ed4"
      },
      "outputs": [
        {
          "data": {
            "text/plain": [
              "array([5, 6, 7, 8])"
            ]
          },
          "execution_count": 40,
          "metadata": {},
          "output_type": "execute_result"
        }
      ],
      "source": [
        "x[1]  # also does the trick if you only want to select a specific row"
      ]
    },
    {
      "cell_type": "code",
      "execution_count": null,
      "id": "e91309ba",
      "metadata": {
        "id": "e91309ba",
        "outputId": "0a461e05-d89f-4d36-cd33-58dd40b31dba"
      },
      "outputs": [
        {
          "data": {
            "text/plain": [
              "array([ 2,  6, 10, 14])"
            ]
          },
          "execution_count": 41,
          "metadata": {},
          "output_type": "execute_result"
        }
      ],
      "source": [
        "x[:, 1]  # all rows, 2nd column"
      ]
    },
    {
      "cell_type": "code",
      "execution_count": null,
      "id": "178a2e9f",
      "metadata": {
        "scrolled": true,
        "id": "178a2e9f",
        "outputId": "0f5aafd8-3a8c-428b-c3b6-98b63dbd6a1e"
      },
      "outputs": [
        {
          "data": {
            "text/plain": [
              "array([[ 1,  3],\n",
              "       [ 9, 11]])"
            ]
          },
          "execution_count": 42,
          "metadata": {},
          "output_type": "execute_result"
        }
      ],
      "source": [
        "x[0:4:2, 0:4:2]  # add another ':' to define a step – for even/odd entries or every 3rd entry,…"
      ]
    },
    {
      "cell_type": "code",
      "execution_count": null,
      "id": "2435bcea",
      "metadata": {
        "id": "2435bcea",
        "outputId": "0fabed75-af76-4cf2-c1d6-32040e242003"
      },
      "outputs": [
        {
          "data": {
            "text/plain": [
              "array([[ 6,  8],\n",
              "       [14, 16]])"
            ]
          },
          "execution_count": 43,
          "metadata": {},
          "output_type": "execute_result"
        }
      ],
      "source": [
        "x[1::2,1::2]  # get all odd indices"
      ]
    },
    {
      "cell_type": "markdown",
      "id": "1fd17b6c",
      "metadata": {
        "id": "1fd17b6c"
      },
      "source": [
        "## Boolean indexing"
      ]
    },
    {
      "cell_type": "code",
      "execution_count": 7,
      "id": "fba464e4",
      "metadata": {
        "id": "fba464e4",
        "outputId": "9f973514-ad1f-41b0-cea5-03e01710b496",
        "colab": {
          "base_uri": "https://localhost:8080/"
        }
      },
      "outputs": [
        {
          "output_type": "execute_result",
          "data": {
            "text/plain": [
              "array([False, False, False,  True,  True,  True,  True,  True,  True])"
            ]
          },
          "metadata": {},
          "execution_count": 7
        }
      ],
      "source": [
        "x = np.array([1, 2, 3, 4, 5, 6, 7, 8, 9])\n",
        "b = x > 3  # returns a boolean array after evaluating each element\n",
        "b"
      ]
    },
    {
      "cell_type": "code",
      "source": [
        "x[b]"
      ],
      "metadata": {
        "id": "bi-w74l2dUPR",
        "outputId": "2f82b0f2-22a4-4fe0-cbd9-7fce47a32364",
        "colab": {
          "base_uri": "https://localhost:8080/"
        }
      },
      "id": "bi-w74l2dUPR",
      "execution_count": 8,
      "outputs": [
        {
          "output_type": "execute_result",
          "data": {
            "text/plain": [
              "array([4, 5, 6, 7, 8, 9])"
            ]
          },
          "metadata": {},
          "execution_count": 8
        }
      ]
    },
    {
      "cell_type": "code",
      "execution_count": null,
      "id": "803f6851",
      "metadata": {
        "id": "803f6851",
        "outputId": "27bb83e1-e0f4-49b2-a629-685454900ca1"
      },
      "outputs": [
        {
          "data": {
            "text/plain": [
              "array([4, 5, 6, 7, 8, 9])"
            ]
          },
          "execution_count": 45,
          "metadata": {},
          "output_type": "execute_result"
        }
      ],
      "source": [
        "x[x > 3]  # we can select from the original array using the boolean array we just created"
      ]
    },
    {
      "cell_type": "code",
      "execution_count": null,
      "id": "d549c58e",
      "metadata": {
        "id": "d549c58e",
        "outputId": "47562024-c020-4f9f-8167-fc941dc029ad"
      },
      "outputs": [
        {
          "data": {
            "text/plain": [
              "array([3, 6, 9])"
            ]
          },
          "execution_count": 46,
          "metadata": {},
          "output_type": "execute_result"
        }
      ],
      "source": [
        "x[x % 3 == 0]  # all multiples of 3"
      ]
    },
    {
      "cell_type": "code",
      "execution_count": null,
      "id": "bf0300b1",
      "metadata": {
        "id": "bf0300b1",
        "outputId": "d92e4c59-1dd7-4b88-c6b4-2cc00835b612"
      },
      "outputs": [
        {
          "data": {
            "text/plain": [
              "array([1, 4, 5, 8, 9])"
            ]
          },
          "execution_count": 47,
          "metadata": {},
          "output_type": "execute_result"
        }
      ],
      "source": [
        "x = np.array([1, 2, 3, 4, 5, 6, 7, 8, 9])\n",
        "y = np.array([True, False, False, True, True, False, False, True, True])  # a custom boolean array\n",
        "x[y]"
      ]
    },
    {
      "cell_type": "markdown",
      "id": "76f83a83",
      "metadata": {
        "id": "76f83a83"
      },
      "source": [
        "## Array editing\n",
        "\n",
        "Using indexing and slicing, we can also assign new values to designated entries of an array."
      ]
    },
    {
      "cell_type": "code",
      "execution_count": 12,
      "id": "b8585af3",
      "metadata": {
        "id": "b8585af3",
        "outputId": "a1c2641c-ee34-4bd4-ea76-6285b4c3276c",
        "colab": {
          "base_uri": "https://localhost:8080/"
        }
      },
      "outputs": [
        {
          "output_type": "execute_result",
          "data": {
            "text/plain": [
              "array([[ 1,  2,  3,  4],\n",
              "       [ 5,  6,  7,  8],\n",
              "       [ 9, 10, 11, 12],\n",
              "       [13, 14, 15, 16]])"
            ]
          },
          "metadata": {},
          "execution_count": 12
        }
      ],
      "source": [
        "x = np.array([[1,2,3,4], [5,6,7,8], [9,10,11,12], [13,14,15,16]])\n",
        "x"
      ]
    },
    {
      "cell_type": "code",
      "source": [
        "y = x\n",
        "y[1][1] = 888 # if just use '=' then the original array will change as well\n",
        "x"
      ],
      "metadata": {
        "id": "7aF-4NEQetQ6",
        "outputId": "c9488280-48fc-44db-e5ae-ac3de00891ef",
        "colab": {
          "base_uri": "https://localhost:8080/"
        }
      },
      "id": "7aF-4NEQetQ6",
      "execution_count": 10,
      "outputs": [
        {
          "output_type": "execute_result",
          "data": {
            "text/plain": [
              "array([[  1,   2,   3,   4],\n",
              "       [  5, 888,   7,   8],\n",
              "       [  9,  10,  11,  12],\n",
              "       [ 13,  14,  15,  16]])"
            ]
          },
          "metadata": {},
          "execution_count": 10
        }
      ]
    },
    {
      "cell_type": "code",
      "source": [
        "z = x.copy()\n",
        "z[1][3] = 999\n",
        "x"
      ],
      "metadata": {
        "id": "96oA2Ixie1Sv",
        "outputId": "53ee705c-3d00-46ca-d64e-d5a16abd5384",
        "colab": {
          "base_uri": "https://localhost:8080/"
        }
      },
      "id": "96oA2Ixie1Sv",
      "execution_count": 13,
      "outputs": [
        {
          "output_type": "execute_result",
          "data": {
            "text/plain": [
              "array([[ 1,  2,  3,  4],\n",
              "       [ 5,  6,  7,  8],\n",
              "       [ 9, 10, 11, 12],\n",
              "       [13, 14, 15, 16]])"
            ]
          },
          "metadata": {},
          "execution_count": 13
        }
      ]
    },
    {
      "cell_type": "code",
      "execution_count": null,
      "id": "ab523aa9",
      "metadata": {
        "id": "ab523aa9",
        "outputId": "cc6ca52f-bcbd-4b83-a691-2b50ae2c767c"
      },
      "outputs": [
        {
          "data": {
            "text/plain": [
              "array([[ 1,  2,  3,  4],\n",
              "       [ 5, 99,  7,  8],\n",
              "       [ 9, 10, 11, 12],\n",
              "       [13, 14, 15, 16]])"
            ]
          },
          "execution_count": 49,
          "metadata": {},
          "output_type": "execute_result"
        }
      ],
      "source": [
        "x[1, 1] = 99  # replace a specific entry\n",
        "x"
      ]
    },
    {
      "cell_type": "code",
      "execution_count": null,
      "id": "3cf71651",
      "metadata": {
        "scrolled": true,
        "id": "3cf71651",
        "outputId": "e4278e22-18ac-414a-bc83-3d4bbc2323c1"
      },
      "outputs": [
        {
          "data": {
            "text/plain": [
              "array([[  1,   2,   3,   4],\n",
              "       [100, 200, 300, 400],\n",
              "       [  9,  10,  11,  12],\n",
              "       [ 13,  14,  15,  16]])"
            ]
          },
          "execution_count": 50,
          "metadata": {},
          "output_type": "execute_result"
        }
      ],
      "source": [
        "x[1] = [100, 200, 300, 400]  # replace a row\n",
        "x"
      ]
    },
    {
      "cell_type": "code",
      "execution_count": null,
      "id": "64ae80a3",
      "metadata": {
        "scrolled": true,
        "id": "64ae80a3",
        "outputId": "09575a73-026c-4e28-aa3a-625ea8d96415"
      },
      "outputs": [
        {
          "data": {
            "text/plain": [
              "array([[  1,   2,  42,   4],\n",
              "       [100, 200,  42, 400],\n",
              "       [ 42,  10,  11,  42],\n",
              "       [ 13,  14,  42,  16]])"
            ]
          },
          "execution_count": 51,
          "metadata": {},
          "output_type": "execute_result"
        }
      ],
      "source": [
        "x[x % 3 == 0] = 42  # replace all multiples of 3\n",
        "x"
      ]
    },
    {
      "cell_type": "markdown",
      "id": "9d3afc53",
      "metadata": {
        "id": "9d3afc53"
      },
      "source": [
        "## Array computations"
      ]
    },
    {
      "cell_type": "code",
      "execution_count": 15,
      "id": "2f086b29",
      "metadata": {
        "id": "2f086b29",
        "outputId": "e172b570-5b69-4ae2-ec2d-3c8fea9dd49f",
        "colab": {
          "base_uri": "https://localhost:8080/"
        }
      },
      "outputs": [
        {
          "output_type": "execute_result",
          "data": {
            "text/plain": [
              "(array([[1, 2],\n",
              "        [3, 4]]),\n",
              " array([[5, 6],\n",
              "        [7, 8]]))"
            ]
          },
          "metadata": {},
          "execution_count": 15
        }
      ],
      "source": [
        "x = np.array([[1,2],[3,4]])\n",
        "y = np.array([[5,6],[7,8]])\n",
        "x,y"
      ]
    },
    {
      "cell_type": "code",
      "execution_count": null,
      "id": "ec46d554",
      "metadata": {
        "id": "ec46d554",
        "outputId": "0a8b75c5-da1b-446b-c0d5-ba77350ff315"
      },
      "outputs": [
        {
          "data": {
            "text/plain": [
              "array([[ 6,  8],\n",
              "       [10, 12]])"
            ]
          },
          "execution_count": 53,
          "metadata": {},
          "output_type": "execute_result"
        }
      ],
      "source": [
        "x + y  # element-wise addition"
      ]
    },
    {
      "cell_type": "code",
      "execution_count": null,
      "id": "51a80d03",
      "metadata": {
        "id": "51a80d03",
        "outputId": "3a3cf6ab-b77b-4c1c-9ecf-6a44b4051e99"
      },
      "outputs": [
        {
          "data": {
            "text/plain": [
              "array([[-4, -4],\n",
              "       [-4, -4]])"
            ]
          },
          "execution_count": 54,
          "metadata": {},
          "output_type": "execute_result"
        }
      ],
      "source": [
        "x - y  # element-wise substraction"
      ]
    },
    {
      "cell_type": "code",
      "execution_count": null,
      "id": "988f8d24",
      "metadata": {
        "id": "988f8d24",
        "outputId": "ddc5c47b-870b-4f1e-dd35-d7a8e928e209"
      },
      "outputs": [
        {
          "data": {
            "text/plain": [
              "array([[ 5, 12],\n",
              "       [21, 32]])"
            ]
          },
          "execution_count": 55,
          "metadata": {},
          "output_type": "execute_result"
        }
      ],
      "source": [
        "x * y  # element-wise product"
      ]
    },
    {
      "cell_type": "code",
      "execution_count": null,
      "id": "c97ab30b",
      "metadata": {
        "id": "c97ab30b",
        "outputId": "7a0c962a-13bd-4fc5-d8e0-aa7d43fa368c"
      },
      "outputs": [
        {
          "data": {
            "text/plain": [
              "array([[19, 22],\n",
              "       [43, 50]])"
            ]
          },
          "execution_count": 56,
          "metadata": {},
          "output_type": "execute_result"
        }
      ],
      "source": [
        "x.dot(y)  # dot/scalar product"
      ]
    },
    {
      "cell_type": "code",
      "execution_count": null,
      "id": "2a9a17b2",
      "metadata": {
        "scrolled": true,
        "id": "2a9a17b2",
        "outputId": "e42d4131-7890-4d7c-8ff0-558334aae15f"
      },
      "outputs": [
        {
          "data": {
            "text/plain": [
              "array([[19, 22],\n",
              "       [43, 50]])"
            ]
          },
          "execution_count": 57,
          "metadata": {},
          "output_type": "execute_result"
        }
      ],
      "source": [
        "x @ y  # infix for matrix multiplication"
      ]
    },
    {
      "cell_type": "markdown",
      "id": "be12789d",
      "metadata": {
        "id": "be12789d"
      },
      "source": [
        "`np.dot` and `np.matmul` (or `@`) behave slightly differently. For more details, see [the numpy documentation](https://numpy.org/doc/stable/reference/generated/numpy.matmul.html)."
      ]
    },
    {
      "cell_type": "code",
      "execution_count": null,
      "id": "085a582a",
      "metadata": {
        "id": "085a582a",
        "outputId": "6199ff53-973c-4287-8834-a6170109c2e7"
      },
      "outputs": [
        {
          "data": {
            "text/plain": [
              "array([[1, 3],\n",
              "       [2, 4]])"
            ]
          },
          "execution_count": 58,
          "metadata": {},
          "output_type": "execute_result"
        }
      ],
      "source": [
        "x.T  # transpose"
      ]
    },
    {
      "cell_type": "markdown",
      "id": "a1b7691e",
      "metadata": {
        "id": "a1b7691e"
      },
      "source": [
        "## Broadcasting\n",
        "\n",
        "_Subject to certain constraints, the smaller array is “broadcast” across the larger array so that they have compatible shapes._\n",
        "\n",
        "More info: https://numpy.org/doc/1.20/user/theory.broadcasting.html"
      ]
    },
    {
      "cell_type": "code",
      "execution_count": null,
      "id": "0172b250",
      "metadata": {
        "id": "0172b250",
        "outputId": "404399fd-a6cc-409a-d555-3d9e0ef187e7"
      },
      "outputs": [
        {
          "data": {
            "text/plain": [
              "array([[0],\n",
              "       [3],\n",
              "       [6],\n",
              "       [9]])"
            ]
          },
          "execution_count": 9,
          "metadata": {},
          "output_type": "execute_result"
        }
      ],
      "source": [
        "x = np.array([[0,3,6,9]]).T  # create a 2D array and transpose it\n",
        "x"
      ]
    },
    {
      "cell_type": "code",
      "execution_count": null,
      "id": "9b66cc58",
      "metadata": {
        "id": "9b66cc58",
        "outputId": "ee9a7919-4c05-4cc7-80a5-61eab4307d64"
      },
      "outputs": [
        {
          "data": {
            "text/plain": [
              "array([[ 0,  0],\n",
              "       [ 3,  6],\n",
              "       [ 6, 12],\n",
              "       [ 9, 18]])"
            ]
          },
          "execution_count": 10,
          "metadata": {},
          "output_type": "execute_result"
        }
      ],
      "source": [
        "y = np.array([1,2])  # create a (smaller) 1D array\n",
        "x*y  # this uses broadcasting"
      ]
    },
    {
      "cell_type": "markdown",
      "id": "5d112313",
      "metadata": {
        "id": "5d112313"
      },
      "source": [
        "<img src=\"https://github.com/andy7622y/myfb/blob/main/IS557/figure1b.png?raw=1\" style=\"width: 300px;\"/>"
      ]
    },
    {
      "cell_type": "markdown",
      "id": "2d748ce0",
      "metadata": {
        "id": "2d748ce0"
      },
      "source": [
        "## NumPy functions"
      ]
    },
    {
      "cell_type": "code",
      "execution_count": 16,
      "id": "bf1566a2",
      "metadata": {
        "id": "bf1566a2",
        "outputId": "8186e57d-bcc7-40a0-a6bd-b2f2e378a554",
        "colab": {
          "base_uri": "https://localhost:8080/"
        }
      },
      "outputs": [
        {
          "output_type": "execute_result",
          "data": {
            "text/plain": [
              "array([0, 1, 2, 3, 4, 5, 6, 7, 8, 9])"
            ]
          },
          "metadata": {},
          "execution_count": 16
        }
      ],
      "source": [
        "x = np.arange(10)  # works like Python's own range() – see lecture 2\n",
        "x"
      ]
    },
    {
      "cell_type": "code",
      "source": [
        "aa = np.arange(10,19).reshape(3,3)\n",
        "aa"
      ],
      "metadata": {
        "id": "luKHWeb0jtHO",
        "outputId": "c950d7af-7845-4fcd-bf04-ddc4f0924400",
        "colab": {
          "base_uri": "https://localhost:8080/"
        }
      },
      "id": "luKHWeb0jtHO",
      "execution_count": 22,
      "outputs": [
        {
          "output_type": "execute_result",
          "data": {
            "text/plain": [
              "array([[10, 11, 12],\n",
              "       [13, 14, 15],\n",
              "       [16, 17, 18]])"
            ]
          },
          "metadata": {},
          "execution_count": 22
        }
      ]
    },
    {
      "cell_type": "code",
      "execution_count": 18,
      "id": "fe7f7c6f",
      "metadata": {
        "id": "fe7f7c6f",
        "outputId": "8de73ec8-40c9-4391-ac23-d88dd30122e1",
        "colab": {
          "base_uri": "https://localhost:8080/"
        }
      },
      "outputs": [
        {
          "output_type": "execute_result",
          "data": {
            "text/plain": [
              "array([0. , 0.1, 0.2, 0.3, 0.4, 0.5, 0.6, 0.7, 0.8, 0.9, 1. ])"
            ]
          },
          "metadata": {},
          "execution_count": 18
        }
      ],
      "source": [
        "x = np.linspace(0, 1, num = 11)  # creates evenly spaced numbers over a specified interval [start, stop]\n",
        "x"
      ]
    },
    {
      "cell_type": "code",
      "execution_count": 19,
      "id": "47a6c67d",
      "metadata": {
        "id": "47a6c67d",
        "outputId": "421a2015-003a-4e13-c32a-33182e783bb7",
        "colab": {
          "base_uri": "https://localhost:8080/"
        }
      },
      "outputs": [
        {
          "output_type": "execute_result",
          "data": {
            "text/plain": [
              "array([ 1. ,  5.1,  9.2, 13.3, 17.4, 21.5, 25.6, 29.7, 33.8, 37.9, 42. ])"
            ]
          },
          "metadata": {},
          "execution_count": 19
        }
      ],
      "source": [
        "x = np.linspace(1, 42, num = 11)\n",
        "x"
      ]
    },
    {
      "cell_type": "code",
      "execution_count": null,
      "id": "19a733b6",
      "metadata": {
        "id": "19a733b6",
        "outputId": "76437592-b9da-474e-8952-a6a1108aaa81"
      },
      "outputs": [
        {
          "data": {
            "text/plain": [
              "array([1.        , 2.25831796, 3.03315018, 3.64691651, 4.17133072,\n",
              "       4.63680925, 5.05964426, 5.44977064, 5.81377674, 6.15629759,\n",
              "       6.4807407 ])"
            ]
          },
          "execution_count": 61,
          "metadata": {},
          "output_type": "execute_result"
        }
      ],
      "source": [
        "np.sqrt(x)"
      ]
    },
    {
      "cell_type": "code",
      "execution_count": null,
      "id": "ae99ad18",
      "metadata": {
        "id": "ae99ad18",
        "outputId": "8f51cdd9-0c43-4df0-b0fb-4ad2ef16c1dd"
      },
      "outputs": [
        {
          "data": {
            "text/plain": [
              "array([ 0.84147098, -0.92581468,  0.22288991,  0.66956976, -0.99265938,\n",
              "        0.471639  ,  0.45044059, -0.98948708,  0.68712115,  0.19953971,\n",
              "       -0.91652155])"
            ]
          },
          "execution_count": 62,
          "metadata": {},
          "output_type": "execute_result"
        }
      ],
      "source": [
        "np.sin(x)"
      ]
    },
    {
      "cell_type": "markdown",
      "id": "cc7f79e8",
      "metadata": {
        "id": "cc7f79e8"
      },
      "source": [
        "### Sums"
      ]
    },
    {
      "cell_type": "code",
      "execution_count": null,
      "id": "bfb6bd55",
      "metadata": {
        "scrolled": false,
        "id": "bfb6bd55",
        "outputId": "0e43d844-f750-4945-f641-b2ec17c33dcf"
      },
      "outputs": [
        {
          "data": {
            "text/plain": [
              "5050"
            ]
          },
          "execution_count": 11,
          "metadata": {},
          "output_type": "execute_result"
        }
      ],
      "source": [
        "x = np.arange(101)\n",
        "np.sum(x)  # Gauss would be proud."
      ]
    },
    {
      "cell_type": "code",
      "execution_count": null,
      "id": "d6d89b84",
      "metadata": {
        "id": "d6d89b84",
        "outputId": "13a79548-5005-4b59-f158-102bc5d728e8"
      },
      "outputs": [
        {
          "data": {
            "text/plain": [
              "array([[ 0,  1,  2],\n",
              "       [ 3,  4,  5],\n",
              "       [ 6,  7,  8],\n",
              "       [ 9, 10, 11]])"
            ]
          },
          "execution_count": 12,
          "metadata": {},
          "output_type": "execute_result"
        }
      ],
      "source": [
        "x = np.arange(12).reshape((4,3))  # create numbers 0…11 and get the array into the desired shape\n",
        "x"
      ]
    },
    {
      "cell_type": "code",
      "execution_count": null,
      "id": "2686fb69",
      "metadata": {
        "id": "2686fb69",
        "outputId": "306ab39d-e0d6-4976-a5ff-96fd1b1b4f00"
      },
      "outputs": [
        {
          "data": {
            "text/plain": [
              "array([18., 22., 26.])"
            ]
          },
          "execution_count": 65,
          "metadata": {},
          "output_type": "execute_result"
        }
      ],
      "source": [
        "np.sum(x, axis = 0)  # sum up the columns"
      ]
    },
    {
      "cell_type": "markdown",
      "id": "8cd110e1",
      "metadata": {
        "id": "8cd110e1"
      },
      "source": [
        "<img src=\"https://github.com/andy7622y/myfb/blob/main/IS557/figure1.png?raw=1\" style=\"width: 300px;\"/>"
      ]
    },
    {
      "cell_type": "markdown",
      "id": "da23e110",
      "metadata": {
        "id": "da23e110"
      },
      "source": [
        "### Some statistics"
      ]
    },
    {
      "cell_type": "code",
      "execution_count": 23,
      "id": "8e0d43ea",
      "metadata": {
        "id": "8e0d43ea",
        "outputId": "5d859cd0-e73e-460c-965a-8b3aa7aa4a86",
        "colab": {
          "base_uri": "https://localhost:8080/"
        }
      },
      "outputs": [
        {
          "output_type": "execute_result",
          "data": {
            "text/plain": [
              "array([0.15307712, 0.0621704 , 0.64936787, 0.74266619, 0.24873755,\n",
              "       0.89053703, 0.87334176, 0.28773562, 0.1927537 , 0.58791984])"
            ]
          },
          "metadata": {},
          "execution_count": 23
        }
      ],
      "source": [
        "x = np.random.random(10)  # create 10 random floats in [0,1)\n",
        "x"
      ]
    },
    {
      "cell_type": "code",
      "execution_count": 24,
      "id": "f2aa2d81",
      "metadata": {
        "id": "f2aa2d81",
        "outputId": "18601f70-74f5-4ab0-a894-29d76ce30d21",
        "colab": {
          "base_uri": "https://localhost:8080/"
        }
      },
      "outputs": [
        {
          "output_type": "execute_result",
          "data": {
            "text/plain": [
              "0.06217039957694459"
            ]
          },
          "metadata": {},
          "execution_count": 24
        }
      ],
      "source": [
        "np.min(x)"
      ]
    },
    {
      "cell_type": "code",
      "execution_count": 25,
      "id": "c27a2242",
      "metadata": {
        "id": "c27a2242",
        "outputId": "a96ef74c-e7a7-40c8-91b5-da95dc9fc9e3",
        "colab": {
          "base_uri": "https://localhost:8080/"
        }
      },
      "outputs": [
        {
          "output_type": "execute_result",
          "data": {
            "text/plain": [
              "0.8905370285650608"
            ]
          },
          "metadata": {},
          "execution_count": 25
        }
      ],
      "source": [
        "np.max(x)"
      ]
    },
    {
      "cell_type": "code",
      "execution_count": 26,
      "id": "fb9c2aca",
      "metadata": {
        "id": "fb9c2aca",
        "outputId": "1282c346-6a31-4739-e3a1-ee73e1232753",
        "colab": {
          "base_uri": "https://localhost:8080/"
        }
      },
      "outputs": [
        {
          "output_type": "execute_result",
          "data": {
            "text/plain": [
              "(0.4688307084553073, 0.29761637198473584, 0.08857550487335665)"
            ]
          },
          "metadata": {},
          "execution_count": 26
        }
      ],
      "source": [
        "np.mean(x), np.std(x), np.var(x)  # mean, std. deviation, variance"
      ]
    },
    {
      "cell_type": "code",
      "execution_count": 27,
      "id": "03d4e129",
      "metadata": {
        "id": "03d4e129",
        "outputId": "3ed91cda-d599-4b29-eb9c-85b7b501bf3c",
        "colab": {
          "base_uri": "https://localhost:8080/"
        }
      },
      "outputs": [
        {
          "output_type": "stream",
          "name": "stdout",
          "text": [
            "mean: 3.3306690738754695e-17\n",
            "[-0.31575359 -0.40666031  0.18053716  0.27383548 -0.22009316  0.42170632\n",
            "  0.40451105 -0.18109509 -0.276077    0.11908913]\n"
          ]
        }
      ],
      "source": [
        "norm = x - np.mean(x)  # normalize to zero mean (almost)\n",
        "\n",
        "print('mean:', np.mean(norm))\n",
        "print(norm)"
      ]
    },
    {
      "cell_type": "code",
      "execution_count": 28,
      "id": "95996167",
      "metadata": {
        "id": "95996167",
        "outputId": "0e177145-6082-4d27-f697-bd7b62a41e6c",
        "colab": {
          "base_uri": "https://localhost:8080/"
        }
      },
      "outputs": [
        {
          "output_type": "stream",
          "name": "stdout",
          "text": [
            "mean: 1.7763568394002506e-16\n",
            "variance: 0.9999999999999998\n",
            "[-1.0609416  -1.36639092  0.60661031  0.92009549 -0.73951965  1.41694597\n",
            "  1.35916936 -0.60848497 -0.92762708  0.40014307]\n"
          ]
        }
      ],
      "source": [
        "norm = (x - np.mean(x)) / np.std(x)  # normalize to zero mean, unit variance\n",
        "\n",
        "print('mean:', np.mean(norm))\n",
        "print('variance:', np.var(norm))\n",
        "print(norm)"
      ]
    },
    {
      "cell_type": "markdown",
      "id": "8669a77a",
      "metadata": {
        "id": "8669a77a"
      },
      "source": [
        "## Speed-Test"
      ]
    },
    {
      "cell_type": "code",
      "execution_count": 32,
      "id": "d046a972",
      "metadata": {
        "id": "d046a972",
        "outputId": "26925c9e-fdc3-4d25-a492-2ed8d3de448c",
        "colab": {
          "base_uri": "https://localhost:8080/",
          "height": 430
        }
      },
      "outputs": [
        {
          "output_type": "display_data",
          "data": {
            "text/plain": [
              "<Figure size 640x480 with 1 Axes>"
            ],
            "image/png": "[encoded data removed]"
          },
          "metadata": {}
        }
      ],
      "source": [
        "from matplotlib import pyplot as plt\n",
        "\n",
        "x = np.linspace(0, 20, num = 300)  # create 200 numbers in [0,20]\n",
        "plt.plot(x, np.sin(x))  # plot the numbers and their sine values\n",
        "plt.show()"
      ]
    },
    {
      "cell_type": "markdown",
      "id": "73fbf802",
      "metadata": {
        "id": "73fbf802"
      },
      "source": [
        "Let's do a quick speed test between applying `sin()` to a Python list vs. `np.sin()` to a NumPy array."
      ]
    },
    {
      "cell_type": "code",
      "execution_count": 49,
      "id": "606e272c",
      "metadata": {
        "id": "606e272c"
      },
      "outputs": [],
      "source": [
        "import time\n",
        "from math import sin\n",
        "\n",
        "x = list(range(0, 1000000))  # prepare a large Python list\n",
        "npx = np.array(x)  # create a copy of it in the form of a NumPy array"
      ]
    },
    {
      "cell_type": "code",
      "execution_count": 50,
      "id": "c3138f2a",
      "metadata": {
        "id": "c3138f2a",
        "outputId": "39b43d00-814c-4d44-c2b3-c286807b1f91",
        "colab": {
          "base_uri": "https://localhost:8080/"
        }
      },
      "outputs": [
        {
          "output_type": "stream",
          "name": "stdout",
          "text": [
            "Python list: 0.24557s\n"
          ]
        }
      ],
      "source": [
        "start = time.time()\n",
        "result1 = [sin(n) for n in x]  # the Pythonic way\n",
        "time1 = time.time() - start\n",
        "print('Python list: ' + str(round(time1, 5)) + 's')"
      ]
    },
    {
      "cell_type": "code",
      "execution_count": 51,
      "id": "624dc829",
      "metadata": {
        "id": "624dc829",
        "outputId": "15feffc5-e857-4110-e10d-cee7ea4b16e0",
        "colab": {
          "base_uri": "https://localhost:8080/"
        }
      },
      "outputs": [
        {
          "output_type": "stream",
          "name": "stdout",
          "text": [
            "NumPy array: 0.02488s\n",
            "speedup: 9.87x\n"
          ]
        }
      ],
      "source": [
        "start = time.time()\n",
        "result2 = np.sin(npx)  # the NumPy way\n",
        "time2 = time.time() - start\n",
        "\n",
        "print('NumPy array: ' + str(round(time2, 5)) + 's')\n",
        "print('speedup: ' + str(round(time1/time2, 2)) + 'x')"
      ]
    }
  ],
  "metadata": {
    "kernelspec": {
      "display_name": "Python 3 (ipykernel)",
      "language": "python",
      "name": "python3"
    },
    "language_info": {
      "codemirror_mode": {
        "name": "ipython",
        "version": 3
      },
      "file_extension": ".py",
      "mimetype": "text/x-python",
      "name": "python",
      "nbconvert_exporter": "python",
      "pygments_lexer": "ipython3",
      "version": "3.11.5"
    },
    "colab": {
      "provenance": []
    }
  },
  "nbformat": 4,
  "nbformat_minor": 5
}