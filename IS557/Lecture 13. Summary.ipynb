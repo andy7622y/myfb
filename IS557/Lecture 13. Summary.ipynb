{
  "cells": [
    {
      "cell_type": "markdown",
      "metadata": {
        "id": "E9idArbprwQ9"
      },
      "source": [
        "# Summary\n",
        "\n",
        "This lecture is meant to showcase fundamental behavior of Python and the data handeling packages we discussed in this course. While it does not include a recap on file handeling, visualization, or machine learning, those lectures are still also relevant for the exam."
      ]
    },
    {
      "cell_type": "markdown",
      "metadata": {
        "id": "7svTQ3MbrwQ_"
      },
      "source": [
        "## Operators & Data Types"
      ]
    },
    {
      "cell_type": "code",
      "execution_count": 5,
      "metadata": {
        "id": "BPOL_ikvrwQ_",
        "outputId": "766c0358-e4aa-449a-eb9d-7b655ed1501f",
        "colab": {
          "base_uri": "https://localhost:8080/"
        }
      },
      "outputs": [
        {
          "output_type": "execute_result",
          "data": {
            "text/plain": [
              "(5, 1, 6, 9, 1.5, 2, 5)"
            ]
          },
          "metadata": {},
          "execution_count": 5
        }
      ],
      "source": [
        "# Basic Numerical Operators\n",
        "3 + 2, 3 - 2, 3 * 2, 3**2, 3/2, 7//3, 23 % 9"
      ]
    },
    {
      "cell_type": "code",
      "source": [
        "for i in range(0,15,3):\n",
        "  print(i)"
      ],
      "metadata": {
        "id": "WzrmrlHUsyrJ",
        "outputId": "45ee4eb4-6ffd-435a-c532-578dc8d36e99",
        "colab": {
          "base_uri": "https://localhost:8080/"
        }
      },
      "execution_count": 7,
      "outputs": [
        {
          "output_type": "stream",
          "name": "stdout",
          "text": [
            "0\n",
            "3\n",
            "6\n",
            "9\n",
            "12\n"
          ]
        }
      ]
    },
    {
      "cell_type": "code",
      "execution_count": 8,
      "metadata": {
        "id": "qCnQzllfrwRA",
        "outputId": "302e0c34-6ebd-4205-ea47-bdfc02416aca",
        "colab": {
          "base_uri": "https://localhost:8080/"
        }
      },
      "outputs": [
        {
          "output_type": "execute_result",
          "data": {
            "text/plain": [
              "(8, 2, 6)"
            ]
          },
          "metadata": {},
          "execution_count": 8
        }
      ],
      "source": [
        "# Variables\n",
        "x = 5\n",
        "a = b = 2\n",
        "a = a ** 3\n",
        "x += 1\n",
        "a, b, x"
      ]
    },
    {
      "cell_type": "code",
      "source": [
        "a = 2\n",
        "b = a\n",
        "b + 6\n",
        "a"
      ],
      "metadata": {
        "id": "r9O9HKQZ2Iev",
        "outputId": "b562ae89-16f5-4d22-fdc5-cc8bf9b8ff80",
        "colab": {
          "base_uri": "https://localhost:8080/"
        }
      },
      "execution_count": 34,
      "outputs": [
        {
          "output_type": "execute_result",
          "data": {
            "text/plain": [
              "2"
            ]
          },
          "metadata": {},
          "execution_count": 34
        }
      ]
    },
    {
      "cell_type": "code",
      "execution_count": null,
      "metadata": {
        "id": "eksokadtrwRA",
        "outputId": "8a3d7915-e667-48ee-cdfa-f388f7f3debd"
      },
      "outputs": [
        {
          "data": {
            "text/plain": [
              "(True, False, True, True, False, True)"
            ]
          },
          "execution_count": 33,
          "metadata": {},
          "output_type": "execute_result"
        }
      ],
      "source": [
        "# Relational Operators\n",
        "a = 3\n",
        "a < 4, a > 3, a <= 4, a >= 3, a != 3.0, a == 3.0\n",
        "# True, False, True, True, False, True"
      ]
    },
    {
      "cell_type": "code",
      "source": [
        "b = 3.0\n",
        "bb = 3\n",
        "print(b//2)\n",
        "print(type(b//2))\n",
        "print(bb//2)\n",
        "print(type(bb//2))"
      ],
      "metadata": {
        "id": "asREsIYBuM2h",
        "outputId": "03f06f22-f187-4660-fc59-a5c065c04582",
        "colab": {
          "base_uri": "https://localhost:8080/"
        }
      },
      "execution_count": 13,
      "outputs": [
        {
          "output_type": "stream",
          "name": "stdout",
          "text": [
            "1.0\n",
            "<class 'float'>\n",
            "1\n",
            "<class 'int'>\n"
          ]
        }
      ]
    },
    {
      "cell_type": "code",
      "source": [
        "3 + False, 4 + True"
      ],
      "metadata": {
        "id": "LcdnV4fxurvj",
        "outputId": "95082208-1304-4142-ff93-22dd7def630a",
        "colab": {
          "base_uri": "https://localhost:8080/"
        }
      },
      "execution_count": 16,
      "outputs": [
        {
          "output_type": "execute_result",
          "data": {
            "text/plain": [
              "(3, 5)"
            ]
          },
          "metadata": {},
          "execution_count": 16
        }
      ]
    },
    {
      "cell_type": "code",
      "execution_count": null,
      "metadata": {
        "id": "B9Ec0-6FrwRA",
        "outputId": "55c3ede5-0ac5-4fec-8c08-ce2e326df1de"
      },
      "outputs": [
        {
          "data": {
            "text/plain": [
              "(int, float, float, str, bool, int, float, float, str, int, bool)"
            ]
          },
          "execution_count": 34,
          "metadata": {},
          "output_type": "execute_result"
        }
      ],
      "source": [
        "# Data Types\n",
        "a = 3\n",
        "b = 3.0\n",
        "c = 3e4\n",
        "d = '3'\n",
        "e = True\n",
        "type(a), type(b), type(c), type(d), type(e), type(int(d)), type(b//2), type(a + b), type(str(a) + d), type(a + e), type(a > c)\n",
        "# type(a + d) would fail, a needs to be explicitely cast to type str first\n",
        "# integer, float, 'float', string, bool, int, 'float', float, str, 'int', bool"
      ]
    },
    {
      "cell_type": "code",
      "execution_count": 17,
      "metadata": {
        "id": "tvYqKXe1rwRB",
        "outputId": "aed76341-d9fa-43e8-8f30-368db180bba0",
        "colab": {
          "base_uri": "https://localhost:8080/"
        }
      },
      "outputs": [
        {
          "output_type": "execute_result",
          "data": {
            "text/plain": [
              "(5,\n",
              " 'hello',\n",
              " 'HELLO',\n",
              " 'Hallo',\n",
              " False,\n",
              " ['He', '', 'o'],\n",
              " 'HelloHello',\n",
              " False,\n",
              " ['HH', 'ee', 'll', 'll', 'oo'])"
            ]
          },
          "metadata": {},
          "execution_count": 17
        }
      ],
      "source": [
        "# Strings\n",
        "a = \"Hello\"\n",
        "len(a), a.lower(), a.upper(), a.replace('e', 'a'), a.startswith('e'), a.split('l'), a * 2, a > 'World', [c*2 for c in a]\n",
        "# 5, 'hello', 'HELLO', 'Hallo', 'ello', 'He', '', 'o', 'HelloHello', False, 'HHeelllloo'"
      ]
    },
    {
      "cell_type": "code",
      "source": [
        "a='A'\n",
        "b = 'z'\n",
        "a<b"
      ],
      "metadata": {
        "id": "ffA0cD5JymNM",
        "outputId": "de54e62f-6651-469f-e0ee-47a8547c3935",
        "colab": {
          "base_uri": "https://localhost:8080/"
        }
      },
      "execution_count": 23,
      "outputs": [
        {
          "output_type": "execute_result",
          "data": {
            "text/plain": [
              "True"
            ]
          },
          "metadata": {},
          "execution_count": 23
        }
      ]
    },
    {
      "cell_type": "code",
      "source": [
        "numbers = [1, 2, 3, 4, 5, 6, 7, 8, 9, 10]\n",
        "print(numbers[::2])"
      ],
      "metadata": {
        "id": "b3qViqYlzr7L",
        "outputId": "0c5030ec-d924-4f8a-d373-d05fb8766895",
        "colab": {
          "base_uri": "https://localhost:8080/"
        }
      },
      "execution_count": 24,
      "outputs": [
        {
          "output_type": "stream",
          "name": "stdout",
          "text": [
            "[1, 3, 5, 7, 9]\n"
          ]
        }
      ]
    },
    {
      "cell_type": "code",
      "source": [
        "a = [1, 2, 3, 4, 5]\n",
        "b = a\n",
        "c = a\n",
        "b.append(6)\n",
        "\n",
        "c.reverse()\n",
        "print(a)\n",
        "print(b)\n",
        "c"
      ],
      "metadata": {
        "id": "1cGd_1em0hbn",
        "outputId": "97206cc4-aff8-44a2-d1ed-6b1a2d822669",
        "colab": {
          "base_uri": "https://localhost:8080/"
        }
      },
      "execution_count": 38,
      "outputs": [
        {
          "output_type": "stream",
          "name": "stdout",
          "text": [
            "[6, 5, 4, 3, 2, 1]\n",
            "[6, 5, 4, 3, 2, 1]\n"
          ]
        },
        {
          "output_type": "execute_result",
          "data": {
            "text/plain": [
              "[6, 5, 4, 3, 2, 1]"
            ]
          },
          "metadata": {},
          "execution_count": 38
        }
      ]
    },
    {
      "cell_type": "code",
      "source": [
        "t = (1, 2, 3, 4, 5)\n",
        "t[2] = t[2] - sum(t)\n",
        "print(t)"
      ],
      "metadata": {
        "id": "RUHkV_v20qLL",
        "outputId": "8de56c86-4661-4b8f-f337-be3493e737f1",
        "colab": {
          "base_uri": "https://localhost:8080/",
          "height": 176
        }
      },
      "execution_count": 27,
      "outputs": [
        {
          "output_type": "error",
          "ename": "TypeError",
          "evalue": "'tuple' object does not support item assignment",
          "traceback": [
            "\u001b[0;31m---------------------------------------------------------------------------\u001b[0m",
            "\u001b[0;31mTypeError\u001b[0m                                 Traceback (most recent call last)",
            "\u001b[0;32m<ipython-input-27-1f8b06c5ebe2>\u001b[0m in \u001b[0;36m<cell line: 2>\u001b[0;34m()\u001b[0m\n\u001b[1;32m      1\u001b[0m \u001b[0mt\u001b[0m \u001b[0;34m=\u001b[0m \u001b[0;34m(\u001b[0m\u001b[0;36m1\u001b[0m\u001b[0;34m,\u001b[0m \u001b[0;36m2\u001b[0m\u001b[0;34m,\u001b[0m \u001b[0;36m3\u001b[0m\u001b[0;34m,\u001b[0m \u001b[0;36m4\u001b[0m\u001b[0;34m,\u001b[0m \u001b[0;36m5\u001b[0m\u001b[0;34m)\u001b[0m\u001b[0;34m\u001b[0m\u001b[0;34m\u001b[0m\u001b[0m\n\u001b[0;32m----> 2\u001b[0;31m \u001b[0mt\u001b[0m\u001b[0;34m[\u001b[0m\u001b[0;36m2\u001b[0m\u001b[0;34m]\u001b[0m \u001b[0;34m=\u001b[0m \u001b[0mt\u001b[0m\u001b[0;34m[\u001b[0m\u001b[0;36m2\u001b[0m\u001b[0;34m]\u001b[0m \u001b[0;34m-\u001b[0m \u001b[0msum\u001b[0m\u001b[0;34m(\u001b[0m\u001b[0mt\u001b[0m\u001b[0;34m)\u001b[0m\u001b[0;34m\u001b[0m\u001b[0;34m\u001b[0m\u001b[0m\n\u001b[0m\u001b[1;32m      3\u001b[0m \u001b[0mprint\u001b[0m\u001b[0;34m(\u001b[0m\u001b[0mt\u001b[0m\u001b[0;34m)\u001b[0m\u001b[0;34m\u001b[0m\u001b[0;34m\u001b[0m\u001b[0m\n",
            "\u001b[0;31mTypeError\u001b[0m: 'tuple' object does not support item assignment"
          ]
        }
      ]
    },
    {
      "cell_type": "code",
      "source": [
        "lst = [1, 3, 2, 4, 5, 3, 6, 1]\n",
        "set(lst)\n",
        "# also rank"
      ],
      "metadata": {
        "id": "Kx4ifscG1kbB",
        "outputId": "11e83c12-df77-4b70-a8eb-cd91e9d87d35",
        "colab": {
          "base_uri": "https://localhost:8080/"
        }
      },
      "execution_count": 30,
      "outputs": [
        {
          "output_type": "execute_result",
          "data": {
            "text/plain": [
              "{1, 2, 3, 4, 5, 6}"
            ]
          },
          "metadata": {},
          "execution_count": 30
        }
      ]
    },
    {
      "cell_type": "markdown",
      "metadata": {
        "id": "Cll3Z_xMrwRB"
      },
      "source": [
        "## Data Structures"
      ]
    },
    {
      "cell_type": "code",
      "execution_count": null,
      "metadata": {
        "id": "B7fjV7KQrwRB",
        "outputId": "55d735a7-883e-455e-986f-c604be7221b8"
      },
      "outputs": [
        {
          "data": {
            "text/plain": [
              "(['t', 2, 0],\n",
              " 3,\n",
              " 5,\n",
              " [2, 5, 2, 5],\n",
              " [2, 5, 't', 2, 0],\n",
              " range,\n",
              " list,\n",
              " [0, 1, 2, 3],\n",
              " 5,\n",
              " [2],\n",
              " 5)"
            ]
          },
          "execution_count": 36,
          "metadata": {},
          "output_type": "execute_result"
        }
      ],
      "source": [
        "# Lists\n",
        "l = [5,2]\n",
        "m = l.copy()\n",
        "m.append('t')\n",
        "m[0] = 0\n",
        "m.reverse() # save in m\n",
        "l.sort()\n",
        "r = range(4)\n",
        "m, len(m), max(l), l*2, l+m, type(r), type(list(r)), list(r), l[1], l[:2:2], l[-1]\n",
        "# m = ['t', 2, 0],\n",
        "# l = [2,5]\n",
        "# 3, 5, [2,5,2,5], [2, 5,'t', 2, 0],\n",
        "# range, list, 5, [2], 5"
      ]
    },
    {
      "cell_type": "code",
      "execution_count": null,
      "metadata": {
        "id": "_ARQRdQ6rwRB",
        "outputId": "560ed2a9-ca1f-4d4a-a67d-4aceabf1917e"
      },
      "outputs": [
        {
          "data": {
            "text/plain": [
              "([0, 1, 4, 9], [3], ['<', '<', '<', '>='])"
            ]
          },
          "execution_count": 37,
          "metadata": {},
          "output_type": "execute_result"
        }
      ],
      "source": [
        "# List Comprehensions\n",
        "r = range(4) # (0,1,2,3)\n",
        "[x**2 for x in r], [x for x in r if x>2], ['<' if x<3 else '>=' for x in r]\n",
        "# [0, 1, 4, 9], [3], ['<','<','<','>=']"
      ]
    },
    {
      "cell_type": "code",
      "source": [
        "alist = [1,2,3,4]\n",
        "alist[:2]"
      ],
      "metadata": {
        "id": "BBYMBMyc3uGU",
        "outputId": "fc6407da-d904-43f9-f4ad-68d9f42d12ce",
        "colab": {
          "base_uri": "https://localhost:8080/"
        }
      },
      "execution_count": 40,
      "outputs": [
        {
          "output_type": "execute_result",
          "data": {
            "text/plain": [
              "[1, 2]"
            ]
          },
          "metadata": {},
          "execution_count": 40
        }
      ]
    },
    {
      "cell_type": "code",
      "execution_count": null,
      "metadata": {
        "id": "iG5sxys-rwRB",
        "outputId": "31ef0166-9b02-4672-8df8-a60461f9c16f"
      },
      "outputs": [
        {
          "data": {
            "text/plain": [
              "(2, [1, 2], 4, [[1, 2]])"
            ]
          },
          "execution_count": 38,
          "metadata": {},
          "output_type": "execute_result"
        }
      ],
      "source": [
        "# Lists of Lists\n",
        "l = [[1,2],[3,4]]\n",
        "len(l), l[0], l[1][1], l[:][:-1]\n",
        "# 2, [1,2], 4,"
      ]
    },
    {
      "cell_type": "code",
      "execution_count": 48,
      "metadata": {
        "id": "KqaUwwIVrwRC",
        "outputId": "94c9dea6-01ed-49d8-9f98-54411adc90ec",
        "colab": {
          "base_uri": "https://localhost:8080/"
        }
      },
      "outputs": [
        {
          "output_type": "execute_result",
          "data": {
            "text/plain": [
              "(2, 5, 2, tuple, (5, 2, 5, 2))"
            ]
          },
          "metadata": {},
          "execution_count": 48
        }
      ],
      "source": [
        "# Tuples\n",
        "t = (5, 2)\n",
        "t1 = (1,) # a tuple with only one element\n",
        "x, y = t\n",
        "#t[0] = 1 would fail because tuples do not support item assignment\n",
        "len(t), x, y, type(t1), t*2\n"
      ]
    },
    {
      "cell_type": "code",
      "execution_count": 49,
      "metadata": {
        "id": "VnsQjeW8rwRC",
        "outputId": "61946c16-ee13-45f7-ecd9-ddb5a89a912d",
        "colab": {
          "base_uri": "https://localhost:8080/"
        }
      },
      "outputs": [
        {
          "output_type": "execute_result",
          "data": {
            "text/plain": [
              "(4, {2, 3, 5, 7}, {4, 6, 10, 14})"
            ]
          },
          "metadata": {},
          "execution_count": 49
        }
      ],
      "source": [
        "# Sets\n",
        "s = {5, 2, 2}\n",
        "# s[0] = 1 would fail because tuples do not support item assignment\n",
        "s.add(3)\n",
        "z = s\n",
        "z.add(7)\n",
        "\n",
        "len(s), s, {i*2 for i in s}\n"
      ]
    },
    {
      "cell_type": "code",
      "execution_count": 51,
      "metadata": {
        "id": "CT8UVrYQrwRC",
        "outputId": "7202c009-2efe-4039-f9f1-0118075dd1e8",
        "colab": {
          "base_uri": "https://localhost:8080/"
        }
      },
      "outputs": [
        {
          "output_type": "execute_result",
          "data": {
            "text/plain": [
              "(2,\n",
              " 'Hello',\n",
              " [('a', 'Hello'), ('b', {'b1': 2, 'b2': 3})],\n",
              " ['a', 'b'],\n",
              " ['Hello', {'b1': 2, 'b2': 3}],\n",
              " {0: 0, 1: 2})"
            ]
          },
          "metadata": {},
          "execution_count": 51
        }
      ],
      "source": [
        "# Dictionaries\n",
        "a = 'Hello'\n",
        "d = {'a': 1, 'b': 2}\n",
        "d['a'] = a\n",
        "d['b'] = {'b1': 2, 'b2': 3}\n",
        "len(d), d['a'], list(d.items()), list(d.keys()), list(d.values()), {k: k*2 for k in range(2)}\n",
        "# d = {'a': 'a', 'b': {'b1': 2, 'b2': 3}}\n",
        "# 2, 'a', [['a', 'a'], ['b', [['b1', 2], ['b2', 3]]]],\n",
        "# ['a', 'b']\n",
        "# ['a',[2,3]]\n",
        "# {0: 0, 1: 2}"
      ]
    },
    {
      "cell_type": "code",
      "source": [
        "import numpy as np\n",
        "print(np.array([2, -1]) * 2 + 1)\n",
        "print(np.array([2, -1]) * 2)\n",
        "print(np.array([2, -1]))\n",
        "\n",
        "\n",
        "print([2, -1] * 2 + [1])"
      ],
      "metadata": {
        "id": "uR4J5Vuq5-D9",
        "outputId": "08c3cf2b-8411-42ce-ea06-8e36e6903abe",
        "colab": {
          "base_uri": "https://localhost:8080/"
        }
      },
      "execution_count": 43,
      "outputs": [
        {
          "output_type": "stream",
          "name": "stdout",
          "text": [
            "[ 5 -1]\n",
            "[ 4 -2]\n",
            "[ 2 -1]\n",
            "[2, -1, 2, -1, 1]\n"
          ]
        }
      ]
    },
    {
      "cell_type": "code",
      "source": [
        "from matplotlib import pyplot as plt\n",
        "x = [1, 4, 0, 5]\n",
        "y = [2, 3, 4, 5]\n",
        "z = [5, 4, 1, 1]\n",
        "plt.plot(x, 'x')\n",
        "plt.plot(y, z)"
      ],
      "metadata": {
        "id": "6zL1idPl7j7L",
        "outputId": "a90607e3-bcbc-4515-fd69-8e300fd8a14e",
        "colab": {
          "base_uri": "https://localhost:8080/",
          "height": 447
        }
      },
      "execution_count": 50,
      "outputs": [
        {
          "output_type": "execute_result",
          "data": {
            "text/plain": [
              "[<matplotlib.lines.Line2D at 0x7f6c84b1e6e0>]"
            ]
          },
          "metadata": {},
          "execution_count": 50
        },
        {
          "output_type": "display_data",
          "data": {
            "text/plain": [
              "<Figure size 640x480 with 1 Axes>"
            ],
            "image/png": "[encoded data removed]"
          },
          "metadata": {}
        }
      ]
    },
    {
      "cell_type": "markdown",
      "source": [
        "Programming\n",
        "Write a function that takes a string and returns the longest word in the string. You\n",
        "can assume that the string contains only English words that are separated by space.\n",
        "You can also assume that there is single longest word in the string."
      ],
      "metadata": {
        "id": "Husp8-FI8ULh"
      }
    },
    {
      "cell_type": "code",
      "source": [
        "def get_longestword(input:str):\n",
        "  word_list = input.split(' ')\n",
        "  longest_len = 0\n",
        "\n",
        "  for word in word_list:\n",
        "    word_len = len(word)\n",
        "    if word_len > longest_len:\n",
        "      longest_len = word_len\n",
        "      longest_word = word\n",
        "  return longest_word\n",
        ""
      ],
      "metadata": {
        "id": "0IFr1bXs8S6w"
      },
      "execution_count": 53,
      "outputs": []
    },
    {
      "cell_type": "code",
      "source": [
        "input = 'Write a function that takes a string and returns the longest word in the string'\n",
        "word_list = input.split(' ')\n",
        "get_longestword(input)"
      ],
      "metadata": {
        "id": "hxd4OW4O9twF",
        "outputId": "6e6cdd28-75a7-4fd0-f736-c40f2ddc3bd6",
        "colab": {
          "base_uri": "https://localhost:8080/",
          "height": 35
        }
      },
      "execution_count": 54,
      "outputs": [
        {
          "output_type": "execute_result",
          "data": {
            "text/plain": [
              "'function'"
            ],
            "application/vnd.google.colaboratory.intrinsic+json": {
              "type": "string"
            }
          },
          "metadata": {},
          "execution_count": 54
        }
      ]
    },
    {
      "cell_type": "markdown",
      "metadata": {
        "id": "fi1NeeQKrwRC"
      },
      "source": [
        "## Flow Control"
      ]
    },
    {
      "cell_type": "code",
      "execution_count": null,
      "metadata": {
        "id": "NP2a-PdlrwRD",
        "outputId": "7275b484-0272-4dc4-e993-c9a0095bd397"
      },
      "outputs": [
        {
          "name": "stdout",
          "output_type": "stream",
          "text": [
            "yes\n"
          ]
        }
      ],
      "source": [
        "# Conditions\n",
        "x = y = 2\n",
        "if x>0 and x < 3:\n",
        "    print('yes')\n",
        "elif not y>0: print('also yes')\n",
        "else: print('no')\n",
        "#    print('not at all') would fail because one can only either use the same line or an indented block"
      ]
    },
    {
      "cell_type": "code",
      "execution_count": null,
      "metadata": {
        "id": "2F8bkUjKrwRD",
        "outputId": "961806a2-245b-48ce-e8f2-ef33811ffa21"
      },
      "outputs": [
        {
          "name": "stdout",
          "output_type": "stream",
          "text": [
            "a\n",
            "b\n",
            "c\n",
            "0 - 1\n",
            "1 - 2\n",
            "2 - 3\n",
            "0\n",
            "1\n",
            "2\n"
          ]
        }
      ],
      "source": [
        "# For-Loops\n",
        "for a in ['a', 'b', 'c']:\n",
        "    print(a)\n",
        "for i, a in enumerate([1,2,3]):\n",
        "    print(i, '-', a)\n",
        "for i in range(3):\n",
        "    print(i)"
      ]
    },
    {
      "cell_type": "code",
      "execution_count": null,
      "metadata": {
        "id": "FhMY-77NrwRD",
        "outputId": "d0596a07-5822-4e3d-87b2-27f15f4d5379"
      },
      "outputs": [
        {
          "name": "stdout",
          "output_type": "stream",
          "text": [
            "0\n",
            "1\n",
            "2\n",
            "3\n",
            "4\n",
            "5\n"
          ]
        }
      ],
      "source": [
        "# While-Loops\n",
        "i = 0\n",
        "while i<10:\n",
        "    if i>5: break\n",
        "    print(i)\n",
        "    i += 1"
      ]
    },
    {
      "cell_type": "markdown",
      "metadata": {
        "id": "UahYjoKdrwRD"
      },
      "source": [
        "## Functions"
      ]
    },
    {
      "cell_type": "code",
      "execution_count": null,
      "metadata": {
        "id": "UnDmQxO0rwRD",
        "outputId": "e57c2ba8-422e-48a9-e926-d967d550cee9"
      },
      "outputs": [
        {
          "name": "stdout",
          "output_type": "stream",
          "text": [
            "() {}\n",
            "() {}\n",
            "(4,) {}\n",
            "() {}\n",
            "(4,) {}\n",
            "() {'x': 2}\n"
          ]
        },
        {
          "data": {
            "text/plain": [
              "(12, function, 40, 2, 6, 6, 6)"
            ]
          },
          "execution_count": 45,
          "metadata": {},
          "output_type": "execute_result"
        }
      ],
      "source": [
        "# Definition and Arguments\n",
        "def func(a, b, *args, param=2, **kwargs):\n",
        "    print(args, kwargs) # optional arguments & more keyword arguments\n",
        "    return a*b*param\n",
        "t = (4, 5)\n",
        "func(2, 3), type(func), func(*t), func(1,1,4), func(1,3,param=2), func(1,3,4,param=2), func(1,3,x=2)\n",
        "# func(1,param=2,1) wouldn't work because positional arguments must come first\n",
        "# func(1) wouldn't work because positional arguments are required"
      ]
    },
    {
      "cell_type": "code",
      "execution_count": null,
      "metadata": {
        "id": "hN4viuc3rwRD",
        "outputId": "291d34f1-b24e-4bbd-f28c-9bdac6099ab3"
      },
      "outputs": [
        {
          "name": "stdout",
          "output_type": "stream",
          "text": [
            "2 3\n"
          ]
        },
        {
          "data": {
            "text/plain": [
              "5"
            ]
          },
          "execution_count": 46,
          "metadata": {},
          "output_type": "execute_result"
        }
      ],
      "source": [
        "# Variable Scope\n",
        "x = 2\n",
        "y = 5\n",
        "def func():\n",
        "    y = 3\n",
        "    print(x, y) # global variables are available within functions and can be overwritten\n",
        "func()\n",
        "y # local variables (overwrites) don't change the global variable"
      ]
    },
    {
      "cell_type": "code",
      "execution_count": null,
      "metadata": {
        "id": "oH29-d4krwRD",
        "outputId": "944e403a-064e-4d23-e9a6-7ce83aa61449"
      },
      "outputs": [
        {
          "data": {
            "text/plain": [
              "(4, function, [(4, 6), (5, 4), (6, 2)])"
            ]
          },
          "execution_count": 47,
          "metadata": {},
          "output_type": "execute_result"
        }
      ],
      "source": [
        "# Lambda Functions\n",
        "f = lambda x:x*2\n",
        "f(2), type(f), sorted([(6,2),(5,4),(4,6)], key=lambda x:x[1], reverse=True)"
      ]
    },
    {
      "cell_type": "code",
      "execution_count": null,
      "metadata": {
        "id": "0IFsh2D9rwRE",
        "outputId": "e7f1efa8-1f39-45de-a66a-52da3a9e7ad7"
      },
      "outputs": [
        {
          "data": {
            "text/plain": [
              "True"
            ]
          },
          "execution_count": 48,
          "metadata": {},
          "output_type": "execute_result"
        }
      ],
      "source": [
        "# Recursive Functions\n",
        "def func(s):\n",
        "    if len(s) == 1 or (len(s) == 2 and s[0]==s[1]):\n",
        "        return True\n",
        "    if s[0] != s[-1]:\n",
        "        return False\n",
        "    return func(s[1:-1])\n",
        "func('reliefpfeiler')"
      ]
    },
    {
      "cell_type": "markdown",
      "metadata": {
        "id": "wDy3qhn8rwRE"
      },
      "source": [
        "## Objects and Classes"
      ]
    },
    {
      "cell_type": "code",
      "execution_count": null,
      "metadata": {
        "id": "-J4wEOgvrwRE",
        "outputId": "49862b48-607f-4187-f49e-d1efb63c3905"
      },
      "outputs": [
        {
          "data": {
            "text/plain": [
              "(The value is: 5, 4, False)"
            ]
          },
          "execution_count": 49,
          "metadata": {},
          "output_type": "execute_result"
        }
      ],
      "source": [
        "# Defining a Class\n",
        "class A:\n",
        "    def __init__(self):  # gets called when a new instance is created\n",
        "        self.a = 3\n",
        "        self.b = 4\n",
        "    def __str__(x): # the 'self' variable can have a different name, but this should be avoided\n",
        "        return 'The value is: ' + str(x.a)\n",
        "    def __repr__(self):\n",
        "        return self.__str__()\n",
        "    def __eq__(self, other):\n",
        "        if not isinstance(other, A): return False  # ensure that the other is an object of the same class\n",
        "        return self.a == other.a\n",
        "    def func(self, x, y):  # a custom function inside the class\n",
        "        return self.b * y + x\n",
        "\n",
        "my_a = A()\n",
        "my_a.a = 5\n",
        "my_a2 = A()\n",
        "my_a, my_a.b, my_a == my_a2"
      ]
    },
    {
      "cell_type": "code",
      "execution_count": null,
      "metadata": {
        "id": "8_IesGP2rwRE",
        "outputId": "18d8de89-a0ce-4faf-98a2-873cd6b164de"
      },
      "outputs": [
        {
          "data": {
            "text/plain": [
              "(3.0, 0.5225584854162375, 2, [2, 4, 3], 1, 2)"
            ]
          },
          "execution_count": 50,
          "metadata": {},
          "output_type": "execute_result"
        }
      ],
      "source": [
        "# Modules inside the Python Standard Library\n",
        "import math\n",
        "import random\n",
        "import datetime\n",
        "\n",
        "l = [2,3,4]\n",
        "random.shuffle(l)\n",
        "math.log(math.e**3), random.random(), random.randint(0,9), l, datetime.datetime.today().weekday(), datetime.datetime.now().minute"
      ]
    },
    {
      "cell_type": "markdown",
      "metadata": {
        "id": "CD8E8ldqrwRE"
      },
      "source": [
        "## Numpy"
      ]
    },
    {
      "cell_type": "code",
      "execution_count": null,
      "metadata": {
        "id": "1F2cexmFrwRE"
      },
      "outputs": [],
      "source": [
        "import numpy as np"
      ]
    },
    {
      "cell_type": "code",
      "execution_count": null,
      "metadata": {
        "id": "5tGqnMdGrwRE",
        "outputId": "59b16055-ef68-409b-f169-25baf05ddc76"
      },
      "outputs": [
        {
          "data": {
            "text/plain": [
              "(array([2, 3, 2, 3]), array([4, 6]))"
            ]
          },
          "execution_count": 52,
          "metadata": {},
          "output_type": "execute_result"
        }
      ],
      "source": [
        "# Element-Wise Operations\n",
        "np.array([2,3]*2), np.array([2,3])*2"
      ]
    },
    {
      "cell_type": "code",
      "execution_count": null,
      "metadata": {
        "id": "GSUrqvgTrwRF",
        "outputId": "d4309f3a-6992-4386-da44-2aa2d11b1fb5"
      },
      "outputs": [
        {
          "data": {
            "text/plain": [
              "(array([[0., 0., 0.],\n",
              "        [0., 0., 0.]]),\n",
              " array([0., 0.]),\n",
              " array([1., 1., 1.]),\n",
              " array([1, 3, 5, 7]))"
            ]
          },
          "execution_count": 53,
          "metadata": {},
          "output_type": "execute_result"
        }
      ],
      "source": [
        "# Initializing Arrays\n",
        "np.empty((2, 3)), np.zeros(2), np.ones(3), np.arange(1,8,2)"
      ]
    },
    {
      "cell_type": "code",
      "execution_count": null,
      "metadata": {
        "id": "WUnAy3uUrwRF",
        "outputId": "649094dc-df71-4e49-8bee-c25a106ecc32"
      },
      "outputs": [
        {
          "data": {
            "text/plain": [
              "(2,\n",
              " (3, 2),\n",
              " (2, 3),\n",
              " array([[1, 3, 5],\n",
              "        [2, 4, 6]]),\n",
              " array([[1],\n",
              "        [2],\n",
              "        [3],\n",
              "        [4],\n",
              "        [5],\n",
              "        [6]]),\n",
              " array([1, 2, 3, 4, 5, 6]),\n",
              " array([[ 2,  4],\n",
              "        [ 6,  8],\n",
              "        [10, 12]]),\n",
              " array([[ 1,  4],\n",
              "        [ 3,  8],\n",
              "        [ 5, 12]]),\n",
              " array([[ 1,  6, 15],\n",
              "        [ 2,  8, 18]]))"
            ]
          },
          "execution_count": 54,
          "metadata": {},
          "output_type": "execute_result"
        }
      ],
      "source": [
        "# Shapes and Broadcasting\n",
        "x = np.array([[1,2], [3,4], [5,6]])\n",
        "x.ndim, x.shape, x.T.shape, x.T, x.reshape(6,1), x.flatten(), x*2, x*[1,2], x.T*[1,2,3]"
      ]
    },
    {
      "cell_type": "code",
      "execution_count": null,
      "metadata": {
        "id": "_m8yNyNjrwRF",
        "outputId": "082c4af9-f6d2-456b-8bab-e8f95157dbd3"
      },
      "outputs": [
        {
          "data": {
            "text/plain": [
              "(array([[False,  True],\n",
              "        [False,  True],\n",
              "        [False,  True]]),\n",
              " array([2, 4, 6]),\n",
              " array([[1, 2],\n",
              "        [3, 4]]),\n",
              " array([[1],\n",
              "        [3],\n",
              "        [5]]))"
            ]
          },
          "execution_count": 55,
          "metadata": {},
          "output_type": "execute_result"
        }
      ],
      "source": [
        "# Selectings from Arrays\n",
        "x = np.array([[1,2], [3,4], [5,6]])\n",
        "x % 2 == 0, x[x % 2 == 0], x[:2], x[:,::2]"
      ]
    },
    {
      "cell_type": "markdown",
      "metadata": {
        "id": "28woRZ0mrwRG"
      },
      "source": [
        "## Pandas"
      ]
    },
    {
      "cell_type": "code",
      "execution_count": null,
      "metadata": {
        "id": "5cZOdaturwRG"
      },
      "outputs": [],
      "source": [
        "import pandas as pd"
      ]
    },
    {
      "cell_type": "code",
      "execution_count": null,
      "metadata": {
        "id": "QFJ_9mmvrwRG",
        "outputId": "392b2d13-c6b2-480b-f48b-1f28789fd6e2"
      },
      "outputs": [
        {
          "data": {
            "text/plain": [
              "(   0  1  2\n",
              " 0  4  7  3\n",
              " 1  5  6  2,\n",
              "    A  B  C\n",
              " 0  4  7  3\n",
              " 1  5  6  2,\n",
              "    A  B  C\n",
              " 0  4  7  3\n",
              " 1  5  6  2)"
            ]
          },
          "execution_count": 84,
          "metadata": {},
          "output_type": "execute_result"
        }
      ],
      "source": [
        "# Initializing DataFrames\n",
        "pd.DataFrame([[4,7,3], [5,6,2]]), pd.DataFrame([(4,7,3), (5,6,2)], columns=['A', 'B', 'C']), \\\n",
        "    pd.DataFrame([{'A': 4, 'B': 7, 'C': 3}, {'A': 5, 'B': 6, 'C': 2}])"
      ]
    },
    {
      "cell_type": "code",
      "execution_count": null,
      "metadata": {
        "id": "xnQ_jA4PrwRG",
        "outputId": "3b45ca07-f2ad-46db-a096-a6f0da72c53a"
      },
      "outputs": [
        {
          "data": {
            "text/html": [
              "<div>\n",
              "<style scoped>\n",
              "    .dataframe tbody tr th:only-of-type {\n",
              "        vertical-align: middle;\n",
              "    }\n",
              "\n",
              "    .dataframe tbody tr th {\n",
              "        vertical-align: top;\n",
              "    }\n",
              "\n",
              "    .dataframe thead th {\n",
              "        text-align: right;\n",
              "    }\n",
              "</style>\n",
              "<table border=\"1\" class=\"dataframe\">\n",
              "  <thead>\n",
              "    <tr style=\"text-align: right;\">\n",
              "      <th></th>\n",
              "      <th>A</th>\n",
              "      <th>B</th>\n",
              "      <th>C</th>\n",
              "    </tr>\n",
              "  </thead>\n",
              "  <tbody>\n",
              "    <tr>\n",
              "      <th>0</th>\n",
              "      <td>4</td>\n",
              "      <td>7</td>\n",
              "      <td>3.0</td>\n",
              "    </tr>\n",
              "    <tr>\n",
              "      <th>1</th>\n",
              "      <td>5</td>\n",
              "      <td>6</td>\n",
              "      <td>NaN</td>\n",
              "    </tr>\n",
              "  </tbody>\n",
              "</table>\n",
              "</div>"
            ],
            "text/plain": [
              "   A  B    C\n",
              "0  4  7  3.0\n",
              "1  5  6  NaN"
            ]
          },
          "execution_count": 79,
          "metadata": {},
          "output_type": "execute_result"
        }
      ],
      "source": [
        "# Storing and Loading Data\n",
        "df = pd.DataFrame([(4,7,3), (5,6,np.NaN)], columns=['A', 'B', 'C'])\n",
        "df.to_csv('example.csv', index=False)\n",
        "df2 = pd.read_csv('example.csv', index_col=None)\n",
        "df2"
      ]
    },
    {
      "cell_type": "code",
      "execution_count": null,
      "metadata": {
        "id": "1jT1k6c-rwRG",
        "outputId": "0d8736be-22df-43ff-bd58-d3716ef131fb"
      },
      "outputs": [
        {
          "data": {
            "text/plain": [
              "([4, 5], pandas.core.series.Series, [4.0, 3.0], 1, [6])"
            ]
          },
          "execution_count": 106,
          "metadata": {},
          "output_type": "execute_result"
        }
      ],
      "source": [
        "# Filters\n",
        "df_sorted = df.sort_values('B')\n",
        "df_cleaned = df.dropna()\n",
        "df_tail = df.tail(1)\n",
        "list(df['A']), type(df.A), list(df[['A', 'C']].loc[0]), len(df_cleaned.A), list(df_tail.B)"
      ]
    },
    {
      "cell_type": "code",
      "execution_count": null,
      "metadata": {
        "id": "Su427uWPrwRG",
        "outputId": "b47a3b9e-99a3-4516-dcbc-b79e45119f64"
      },
      "outputs": [
        {
          "data": {
            "text/plain": [
              "([False, True], [4], [3.0])"
            ]
          },
          "execution_count": 110,
          "metadata": {},
          "output_type": "execute_result"
        }
      ],
      "source": [
        "# Boolean Filters\n",
        "list((df.A > 3) & (df.B < 7)), list(df[(df.B > 6) | (df.C.notna())].A), list(df[df.A % 2 == 0].C)"
      ]
    },
    {
      "cell_type": "code",
      "execution_count": null,
      "metadata": {
        "id": "W9lEJfS2rwRH",
        "outputId": "cf47f900-2a8b-4a15-9c99-9dea08c475ab"
      },
      "outputs": [
        {
          "data": {
            "text/plain": [
              "([4.0, 7.0, 3.0], [5.0, 6.0, nan], [1.0, 5.0, 6.0, nan], [4.0, 7.0, 3.0])"
            ]
          },
          "execution_count": 93,
          "metadata": {},
          "output_type": "execute_result"
        }
      ],
      "source": [
        "# (Row) Indices\n",
        "list(df_sorted.loc[0]), list(df_sorted.iloc[0]), list(df_sorted.reset_index(drop=False).loc[0])"
      ]
    },
    {
      "cell_type": "code",
      "execution_count": null,
      "metadata": {
        "id": "-zMPwi7brwRH",
        "outputId": "6a2f37ef-1d7d-48a0-c31f-30ea916674be"
      },
      "outputs": [
        {
          "data": {
            "text/plain": [
              "(9, 2, 6.5, nan)"
            ]
          },
          "execution_count": 100,
          "metadata": {},
          "output_type": "execute_result"
        }
      ],
      "source": [
        "# Statistics\n",
        "df.A.sum(), df.B.count(), df.B.mean(), df.C.std()"
      ]
    },
    {
      "cell_type": "markdown",
      "metadata": {
        "id": "eDTHFaIOrwRH"
      },
      "source": [
        "## Web Scraping"
      ]
    },
    {
      "cell_type": "code",
      "execution_count": null,
      "metadata": {
        "id": "DBArrwkVrwRI"
      },
      "outputs": [],
      "source": [
        "from bs4 import BeautifulSoup\n",
        "\n",
        "webpage = '''\n",
        "<html>\n",
        "    <head>\n",
        "        <title>Hello World</title>\n",
        "    </head>\n",
        "    <body>\n",
        "        <header>\n",
        "            <ul id='nav'>\n",
        "                <li class='nav_main'>Home</li>\n",
        "                <li class='nav_other'>About</li>\n",
        "            </ul>\n",
        "        </header>\n",
        "        <article class='report'>\n",
        "            <h1 class='much_bold'>Important Headline</h1>\n",
        "            <section>\n",
        "                <h2 id='heading2'>Less important headline</h2>\n",
        "                <p>paragraph</p>\n",
        "                <p>another paragraph</p>\n",
        "            </section>\n",
        "        </article>\n",
        "    </body>\n",
        "</html>\n",
        "'''\n",
        "soup = BeautifulSoup(webpage, 'html.parser')"
      ]
    },
    {
      "cell_type": "code",
      "execution_count": null,
      "metadata": {
        "id": "C9xKNT2arwRI",
        "outputId": "f3b6eee8-2004-4149-b66a-ed39ce492fd0"
      },
      "outputs": [
        {
          "data": {
            "text/plain": [
              "('<p>paragraph</p>', 'Home', 'heading2', ['Home', 'About'])"
            ]
          },
          "execution_count": 125,
          "metadata": {},
          "output_type": "execute_result"
        }
      ],
      "source": [
        "# selecting elements\n",
        "str(soup.p), soup.li.text, soup.find(name='h2')['id'], [el.text for el in soup.find_all('li')]"
      ]
    },
    {
      "cell_type": "code",
      "execution_count": null,
      "metadata": {
        "id": "HOv-LSoRrwRI",
        "outputId": "175406ce-590a-45e1-cbad-3244211e43c9"
      },
      "outputs": [
        {
          "data": {
            "text/plain": [
              "('Hello World', 1, 0, 'HomeAbout')"
            ]
          },
          "execution_count": 135,
          "metadata": {},
          "output_type": "execute_result"
        }
      ],
      "source": [
        "# CSS selectors\n",
        "soup.select('title')[0].text, len(soup.select('li.nav_main')), len(soup.select('li .nav_main')), soup.select('#nav')[0].text.replace('\\n', '')"
      ]
    },
    {
      "cell_type": "code",
      "execution_count": null,
      "metadata": {
        "id": "WesQJy-ZrwRI",
        "outputId": "8d876b8b-1ca5-403d-b1fe-50147f60761b"
      },
      "outputs": [
        {
          "data": {
            "text/plain": [
              "('header', 'Home', 'another paragraph')"
            ]
          },
          "execution_count": 150,
          "metadata": {},
          "output_type": "execute_result"
        }
      ],
      "source": [
        "# navigation\n",
        "soup.select('ul')[0].parent.name, list(soup.ul.children)[1].text, list(soup.p.next_siblings)[1].text"
      ]
    }
  ],
  "metadata": {
    "kernelspec": {
      "display_name": "Python 3 (ipykernel)",
      "language": "python",
      "name": "python3"
    },
    "language_info": {
      "codemirror_mode": {
        "name": "ipython",
        "version": 3
      },
      "file_extension": ".py",
      "mimetype": "text/x-python",
      "name": "python",
      "nbconvert_exporter": "python",
      "pygments_lexer": "ipython3",
      "version": "3.11.3"
    },
    "colab": {
      "provenance": []
    }
  },
  "nbformat": 4,
  "nbformat_minor": 0
}