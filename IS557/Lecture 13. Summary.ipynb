{
 "cells": [
  {
   "cell_type": "markdown",
   "metadata": {},
   "source": [
    "# Summary\n",
    "\n",
    "This lecture is meant to showcase fundamental behavior of Python and the data handeling packages we discussed in this course. While it does not include a recap on file handeling, visualization, or machine learning, those lectures are still also relevant for the exam."
   ]
  },
  {
   "cell_type": "markdown",
   "metadata": {},
   "source": [
    "## Operators & Data Types"
   ]
  },
  {
   "cell_type": "code",
   "execution_count": 31,
   "metadata": {},
   "outputs": [
    {
     "data": {
      "text/plain": [
       "(5, 1, 6, 9, 1.5, 1, 1)"
      ]
     },
     "execution_count": 31,
     "metadata": {},
     "output_type": "execute_result"
    }
   ],
   "source": [
    "# Basic Numerical Operators\n",
    "3 + 2, 3 - 2, 3 * 2, 3**2, 3/2, 3//2, 3 % 2"
   ]
  },
  {
   "cell_type": "code",
   "execution_count": 32,
   "metadata": {},
   "outputs": [
    {
     "data": {
      "text/plain": [
       "(8, 2, 6)"
      ]
     },
     "execution_count": 32,
     "metadata": {},
     "output_type": "execute_result"
    }
   ],
   "source": [
    "# Variables\n",
    "x = 5\n",
    "a = b = 2\n",
    "a = a ** 3\n",
    "x += 1\n",
    "a, b, x"
   ]
  },
  {
   "cell_type": "code",
   "execution_count": 33,
   "metadata": {},
   "outputs": [
    {
     "data": {
      "text/plain": [
       "(True, False, True, True, False, True)"
      ]
     },
     "execution_count": 33,
     "metadata": {},
     "output_type": "execute_result"
    }
   ],
   "source": [
    "# Relational Operators\n",
    "a = 3\n",
    "a < 4, a > 3, a <= 4, a >= 3, a != 3.0, a == 3.0"
   ]
  },
  {
   "cell_type": "code",
   "execution_count": 34,
   "metadata": {},
   "outputs": [
    {
     "data": {
      "text/plain": [
       "(int, float, float, str, bool, int, float, float, str, int, bool)"
      ]
     },
     "execution_count": 34,
     "metadata": {},
     "output_type": "execute_result"
    }
   ],
   "source": [
    "# Data Types\n",
    "a = 3\n",
    "b = 3.0\n",
    "c = 3e4\n",
    "d = '3'\n",
    "e = True\n",
    "type(a), type(b), type(c), type(d), type(e), type(int(d)), type(b//2), type(a + b), type(str(a) + d), type(a + e), type(a > c)\n",
    "# type(a + d) would fail, a needs to be explicitely cast to type str first"
   ]
  },
  {
   "cell_type": "code",
   "execution_count": 35,
   "metadata": {},
   "outputs": [
    {
     "data": {
      "text/plain": [
       "(5,\n",
       " 'hello',\n",
       " 'HELLO',\n",
       " 'Hallo',\n",
       " False,\n",
       " ['He', '', 'o'],\n",
       " 'HelloHello',\n",
       " False,\n",
       " ['HH', 'ee', 'll', 'll', 'oo'])"
      ]
     },
     "execution_count": 35,
     "metadata": {},
     "output_type": "execute_result"
    }
   ],
   "source": [
    "# Strings\n",
    "a = \"Hello\"\n",
    "len(a), a.lower(), a.upper(), a.replace('e', 'a'), a.startswith('e'), a.split('l'), a * 2, a > 'World', [c*2 for c in a]"
   ]
  },
  {
   "cell_type": "markdown",
   "metadata": {},
   "source": [
    "## Data Structures"
   ]
  },
  {
   "cell_type": "code",
   "execution_count": 36,
   "metadata": {},
   "outputs": [
    {
     "data": {
      "text/plain": [
       "(['t', 2, 0],\n",
       " 3,\n",
       " 5,\n",
       " [2, 5, 2, 5],\n",
       " [2, 5, 't', 2, 0],\n",
       " range,\n",
       " list,\n",
       " [0, 1, 2, 3],\n",
       " 5,\n",
       " [2],\n",
       " 5)"
      ]
     },
     "execution_count": 36,
     "metadata": {},
     "output_type": "execute_result"
    }
   ],
   "source": [
    "# Lists\n",
    "l = [5,2]\n",
    "m = l.copy()\n",
    "m.append('t')\n",
    "m[0] = 0\n",
    "m.reverse()\n",
    "l.sort()\n",
    "r = range(4)\n",
    "m, len(m), max(l), l*2, l+m, type(r), type(list(r)), list(r), l[1], l[:2:2], l[-1]"
   ]
  },
  {
   "cell_type": "code",
   "execution_count": 37,
   "metadata": {},
   "outputs": [
    {
     "data": {
      "text/plain": [
       "([0, 1, 4, 9], [3], ['<', '<', '<', '>='])"
      ]
     },
     "execution_count": 37,
     "metadata": {},
     "output_type": "execute_result"
    }
   ],
   "source": [
    "# List Comprehensions\n",
    "r = range(4)\n",
    "[x**2 for x in r], [x for x in r if x>2], ['<' if x<3 else '>=' for x in r]"
   ]
  },
  {
   "cell_type": "code",
   "execution_count": 38,
   "metadata": {},
   "outputs": [
    {
     "data": {
      "text/plain": [
       "(2, [1, 2], 4, [[1, 2]])"
      ]
     },
     "execution_count": 38,
     "metadata": {},
     "output_type": "execute_result"
    }
   ],
   "source": [
    "# Lists of Lists\n",
    "l = [[1,2],[3,4]]\n",
    "len(l), l[0], l[1][1], l[:][:-1]"
   ]
  },
  {
   "cell_type": "code",
   "execution_count": 39,
   "metadata": {},
   "outputs": [
    {
     "data": {
      "text/plain": [
       "(2, 5, 2, tuple, (5, 2, 5, 2))"
      ]
     },
     "execution_count": 39,
     "metadata": {},
     "output_type": "execute_result"
    }
   ],
   "source": [
    "# Tuples\n",
    "t = (5, 2)\n",
    "t1 = (1,) # a tuple with only one element\n",
    "x, y = t\n",
    "#t[0] = 1 would fail because tuples do not support item assignment\n",
    "len(t), x, y, type(t1), t*2"
   ]
  },
  {
   "cell_type": "code",
   "execution_count": 40,
   "metadata": {},
   "outputs": [
    {
     "data": {
      "text/plain": [
       "(3, {2, 3, 5}, {4, 6, 10})"
      ]
     },
     "execution_count": 40,
     "metadata": {},
     "output_type": "execute_result"
    }
   ],
   "source": [
    "# Sets\n",
    "s = {5, 2, 2}\n",
    "# s[0] = 1 would fail because tuples do not support item assignment\n",
    "s.add(3)\n",
    "len(s), s, {i*2 for i in s}"
   ]
  },
  {
   "cell_type": "code",
   "execution_count": 41,
   "metadata": {},
   "outputs": [
    {
     "data": {
      "text/plain": [
       "(2,\n",
       " 'Hello',\n",
       " [('a', 'Hello'), ('b', {'b1': 2, 'b2': 3})],\n",
       " ['a', 'b'],\n",
       " ['Hello', {'b1': 2, 'b2': 3}],\n",
       " {0: 0, 1: 2})"
      ]
     },
     "execution_count": 41,
     "metadata": {},
     "output_type": "execute_result"
    }
   ],
   "source": [
    "# Dictionaries\n",
    "d = {'a': 1, 'b': 2}\n",
    "d['a'] = a\n",
    "d['b'] = {'b1': 2, 'b2': 3}\n",
    "len(d), d['a'], list(d.items()), list(d.keys()), list(d.values()), {k: k*2 for k in range(2)}"
   ]
  },
  {
   "cell_type": "markdown",
   "metadata": {},
   "source": [
    "## Flow Control"
   ]
  },
  {
   "cell_type": "code",
   "execution_count": 42,
   "metadata": {},
   "outputs": [
    {
     "name": "stdout",
     "output_type": "stream",
     "text": [
      "yes\n"
     ]
    }
   ],
   "source": [
    "# Conditions\n",
    "x = y = 2\n",
    "if x>0 and x < 3:\n",
    "    print('yes')\n",
    "elif not y>0: print('also yes')\n",
    "else: print('no')\n",
    "#    print('not at all') would fail because one can only either use the same line or an indented block"
   ]
  },
  {
   "cell_type": "code",
   "execution_count": 43,
   "metadata": {},
   "outputs": [
    {
     "name": "stdout",
     "output_type": "stream",
     "text": [
      "a\n",
      "b\n",
      "c\n",
      "0 - 1\n",
      "1 - 2\n",
      "2 - 3\n",
      "0\n",
      "1\n",
      "2\n"
     ]
    }
   ],
   "source": [
    "# For-Loops\n",
    "for a in ['a', 'b', 'c']:\n",
    "    print(a)\n",
    "for i, a in enumerate([1,2,3]):\n",
    "    print(i, '-', a)\n",
    "for i in range(3):\n",
    "    print(i)"
   ]
  },
  {
   "cell_type": "code",
   "execution_count": 44,
   "metadata": {},
   "outputs": [
    {
     "name": "stdout",
     "output_type": "stream",
     "text": [
      "0\n",
      "1\n",
      "2\n",
      "3\n",
      "4\n",
      "5\n"
     ]
    }
   ],
   "source": [
    "# While-Loops\n",
    "i = 0\n",
    "while i<10:\n",
    "    if i>5: break\n",
    "    print(i)\n",
    "    i += 1"
   ]
  },
  {
   "cell_type": "markdown",
   "metadata": {},
   "source": [
    "## Functions"
   ]
  },
  {
   "cell_type": "code",
   "execution_count": 45,
   "metadata": {},
   "outputs": [
    {
     "name": "stdout",
     "output_type": "stream",
     "text": [
      "() {}\n",
      "() {}\n",
      "(4,) {}\n",
      "() {}\n",
      "(4,) {}\n",
      "() {'x': 2}\n"
     ]
    },
    {
     "data": {
      "text/plain": [
       "(12, function, 40, 2, 6, 6, 6)"
      ]
     },
     "execution_count": 45,
     "metadata": {},
     "output_type": "execute_result"
    }
   ],
   "source": [
    "# Definition and Arguments\n",
    "def func(a, b, *args, param=2, **kwargs):\n",
    "    print(args, kwargs) # optional arguments & more keyword arguments\n",
    "    return a*b*param\n",
    "t = (4, 5)\n",
    "func(2, 3), type(func), func(*t), func(1,1,4), func(1,3,param=2), func(1,3,4,param=2), func(1,3,x=2)\n",
    "# func(1,param=2,1) wouldn't work because positional arguments must come first\n",
    "# func(1) wouldn't work because positional arguments are required"
   ]
  },
  {
   "cell_type": "code",
   "execution_count": 46,
   "metadata": {},
   "outputs": [
    {
     "name": "stdout",
     "output_type": "stream",
     "text": [
      "2 3\n"
     ]
    },
    {
     "data": {
      "text/plain": [
       "5"
      ]
     },
     "execution_count": 46,
     "metadata": {},
     "output_type": "execute_result"
    }
   ],
   "source": [
    "# Variable Scope\n",
    "x = 2\n",
    "y = 5\n",
    "def func():\n",
    "    y = 3\n",
    "    print(x, y) # global variables are available within functions and can be overwritten\n",
    "func()\n",
    "y # local variables (overwrites) don't change the global variable"
   ]
  },
  {
   "cell_type": "code",
   "execution_count": 47,
   "metadata": {},
   "outputs": [
    {
     "data": {
      "text/plain": [
       "(4, function, [(4, 6), (5, 4), (6, 2)])"
      ]
     },
     "execution_count": 47,
     "metadata": {},
     "output_type": "execute_result"
    }
   ],
   "source": [
    "# Lambda Functions\n",
    "f = lambda x:x*2\n",
    "f(2), type(f), sorted([(6,2),(5,4),(4,6)], key=lambda x:x[1], reverse=True)"
   ]
  },
  {
   "cell_type": "code",
   "execution_count": 48,
   "metadata": {},
   "outputs": [
    {
     "data": {
      "text/plain": [
       "True"
      ]
     },
     "execution_count": 48,
     "metadata": {},
     "output_type": "execute_result"
    }
   ],
   "source": [
    "# Recursive Functions\n",
    "def func(s):\n",
    "    if len(s) == 1 or (len(s) == 2 and s[0]==s[1]):\n",
    "        return True\n",
    "    if s[0] != s[-1]:\n",
    "        return False\n",
    "    return func(s[1:-1])\n",
    "func('reliefpfeiler')"
   ]
  },
  {
   "cell_type": "markdown",
   "metadata": {},
   "source": [
    "## Objects and Classes"
   ]
  },
  {
   "cell_type": "code",
   "execution_count": 49,
   "metadata": {},
   "outputs": [
    {
     "data": {
      "text/plain": [
       "(The value is: 5, 4, False)"
      ]
     },
     "execution_count": 49,
     "metadata": {},
     "output_type": "execute_result"
    }
   ],
   "source": [
    "# Defining a Class\n",
    "class A:\n",
    "    def __init__(self):  # gets called when a new instance is created\n",
    "        self.a = 3\n",
    "        self.b = 4\n",
    "    def __str__(x): # the 'self' variable can have a different name, but this should be avoided\n",
    "        return 'The value is: ' + str(x.a)\n",
    "    def __repr__(self):\n",
    "        return self.__str__()\n",
    "    def __eq__(self, other):\n",
    "        if not isinstance(other, A): return False  # ensure that the other is an object of the same class\n",
    "        return self.a == other.a\n",
    "    def func(self, x, y):  # a custom function inside the class\n",
    "        return self.b * y + x\n",
    "\n",
    "my_a = A()\n",
    "my_a.a = 5\n",
    "my_a2 = A()\n",
    "my_a, my_a.b, my_a == my_a2"
   ]
  },
  {
   "cell_type": "code",
   "execution_count": 50,
   "metadata": {},
   "outputs": [
    {
     "data": {
      "text/plain": [
       "(3.0, 0.5225584854162375, 2, [2, 4, 3], 1, 2)"
      ]
     },
     "execution_count": 50,
     "metadata": {},
     "output_type": "execute_result"
    }
   ],
   "source": [
    "# Modules inside the Python Standard Library\n",
    "import math\n",
    "import random\n",
    "import datetime\n",
    "\n",
    "l = [2,3,4]\n",
    "random.shuffle(l)\n",
    "math.log(math.e**3), random.random(), random.randint(0,9), l, datetime.datetime.today().weekday(), datetime.datetime.now().minute"
   ]
  },
  {
   "cell_type": "markdown",
   "metadata": {},
   "source": [
    "## Numpy"
   ]
  },
  {
   "cell_type": "code",
   "execution_count": 51,
   "metadata": {},
   "outputs": [],
   "source": [
    "import numpy as np"
   ]
  },
  {
   "cell_type": "code",
   "execution_count": 52,
   "metadata": {},
   "outputs": [
    {
     "data": {
      "text/plain": [
       "(array([2, 3, 2, 3]), array([4, 6]))"
      ]
     },
     "execution_count": 52,
     "metadata": {},
     "output_type": "execute_result"
    }
   ],
   "source": [
    "# Element-Wise Operations\n",
    "np.array([2,3]*2), np.array([2,3])*2"
   ]
  },
  {
   "cell_type": "code",
   "execution_count": 53,
   "metadata": {},
   "outputs": [
    {
     "data": {
      "text/plain": [
       "(array([[0., 0., 0.],\n",
       "        [0., 0., 0.]]),\n",
       " array([0., 0.]),\n",
       " array([1., 1., 1.]),\n",
       " array([1, 3, 5, 7]))"
      ]
     },
     "execution_count": 53,
     "metadata": {},
     "output_type": "execute_result"
    }
   ],
   "source": [
    "# Initializing Arrays\n",
    "np.empty((2, 3)), np.zeros(2), np.ones(3), np.arange(1,8,2)"
   ]
  },
  {
   "cell_type": "code",
   "execution_count": 54,
   "metadata": {},
   "outputs": [
    {
     "data": {
      "text/plain": [
       "(2,\n",
       " (3, 2),\n",
       " (2, 3),\n",
       " array([[1, 3, 5],\n",
       "        [2, 4, 6]]),\n",
       " array([[1],\n",
       "        [2],\n",
       "        [3],\n",
       "        [4],\n",
       "        [5],\n",
       "        [6]]),\n",
       " array([1, 2, 3, 4, 5, 6]),\n",
       " array([[ 2,  4],\n",
       "        [ 6,  8],\n",
       "        [10, 12]]),\n",
       " array([[ 1,  4],\n",
       "        [ 3,  8],\n",
       "        [ 5, 12]]),\n",
       " array([[ 1,  6, 15],\n",
       "        [ 2,  8, 18]]))"
      ]
     },
     "execution_count": 54,
     "metadata": {},
     "output_type": "execute_result"
    }
   ],
   "source": [
    "# Shapes and Broadcasting\n",
    "x = np.array([[1,2], [3,4], [5,6]])\n",
    "x.ndim, x.shape, x.T.shape, x.T, x.reshape(6,1), x.flatten(), x*2, x*[1,2], x.T*[1,2,3]"
   ]
  },
  {
   "cell_type": "code",
   "execution_count": 55,
   "metadata": {},
   "outputs": [
    {
     "data": {
      "text/plain": [
       "(array([[False,  True],\n",
       "        [False,  True],\n",
       "        [False,  True]]),\n",
       " array([2, 4, 6]),\n",
       " array([[1, 2],\n",
       "        [3, 4]]),\n",
       " array([[1],\n",
       "        [3],\n",
       "        [5]]))"
      ]
     },
     "execution_count": 55,
     "metadata": {},
     "output_type": "execute_result"
    }
   ],
   "source": [
    "# Selectings from Arrays\n",
    "x = np.array([[1,2], [3,4], [5,6]])\n",
    "x % 2 == 0, x[x % 2 == 0], x[:2], x[:,::2]"
   ]
  },
  {
   "cell_type": "markdown",
   "metadata": {},
   "source": [
    "## Pandas"
   ]
  },
  {
   "cell_type": "code",
   "execution_count": 56,
   "metadata": {},
   "outputs": [],
   "source": [
    "import pandas as pd"
   ]
  },
  {
   "cell_type": "code",
   "execution_count": 84,
   "metadata": {},
   "outputs": [
    {
     "data": {
      "text/plain": [
       "(   0  1  2\n",
       " 0  4  7  3\n",
       " 1  5  6  2,\n",
       "    A  B  C\n",
       " 0  4  7  3\n",
       " 1  5  6  2,\n",
       "    A  B  C\n",
       " 0  4  7  3\n",
       " 1  5  6  2)"
      ]
     },
     "execution_count": 84,
     "metadata": {},
     "output_type": "execute_result"
    }
   ],
   "source": [
    "# Initializing DataFrames\n",
    "pd.DataFrame([[4,7,3], [5,6,2]]), pd.DataFrame([(4,7,3), (5,6,2)], columns=['A', 'B', 'C']), \\\n",
    "    pd.DataFrame([{'A': 4, 'B': 7, 'C': 3}, {'A': 5, 'B': 6, 'C': 2}])"
   ]
  },
  {
   "cell_type": "code",
   "execution_count": 79,
   "metadata": {},
   "outputs": [
    {
     "data": {
      "text/html": [
       "<div>\n",
       "<style scoped>\n",
       "    .dataframe tbody tr th:only-of-type {\n",
       "        vertical-align: middle;\n",
       "    }\n",
       "\n",
       "    .dataframe tbody tr th {\n",
       "        vertical-align: top;\n",
       "    }\n",
       "\n",
       "    .dataframe thead th {\n",
       "        text-align: right;\n",
       "    }\n",
       "</style>\n",
       "<table border=\"1\" class=\"dataframe\">\n",
       "  <thead>\n",
       "    <tr style=\"text-align: right;\">\n",
       "      <th></th>\n",
       "      <th>A</th>\n",
       "      <th>B</th>\n",
       "      <th>C</th>\n",
       "    </tr>\n",
       "  </thead>\n",
       "  <tbody>\n",
       "    <tr>\n",
       "      <th>0</th>\n",
       "      <td>4</td>\n",
       "      <td>7</td>\n",
       "      <td>3.0</td>\n",
       "    </tr>\n",
       "    <tr>\n",
       "      <th>1</th>\n",
       "      <td>5</td>\n",
       "      <td>6</td>\n",
       "      <td>NaN</td>\n",
       "    </tr>\n",
       "  </tbody>\n",
       "</table>\n",
       "</div>"
      ],
      "text/plain": [
       "   A  B    C\n",
       "0  4  7  3.0\n",
       "1  5  6  NaN"
      ]
     },
     "execution_count": 79,
     "metadata": {},
     "output_type": "execute_result"
    }
   ],
   "source": [
    "# Storing and Loading Data\n",
    "df = pd.DataFrame([(4,7,3), (5,6,np.NaN)], columns=['A', 'B', 'C'])\n",
    "df.to_csv('example.csv', index=False)\n",
    "df2 = pd.read_csv('example.csv', index_col=None)\n",
    "df2"
   ]
  },
  {
   "cell_type": "code",
   "execution_count": 106,
   "metadata": {},
   "outputs": [
    {
     "data": {
      "text/plain": [
       "([4, 5], pandas.core.series.Series, [4.0, 3.0], 1, [6])"
      ]
     },
     "execution_count": 106,
     "metadata": {},
     "output_type": "execute_result"
    }
   ],
   "source": [
    "# Filters\n",
    "df_sorted = df.sort_values('B')\n",
    "df_cleaned = df.dropna()\n",
    "df_tail = df.tail(1)\n",
    "list(df['A']), type(df.A), list(df[['A', 'C']].loc[0]), len(df_cleaned.A), list(df_tail.B)"
   ]
  },
  {
   "cell_type": "code",
   "execution_count": 110,
   "metadata": {},
   "outputs": [
    {
     "data": {
      "text/plain": [
       "([False, True], [4], [3.0])"
      ]
     },
     "execution_count": 110,
     "metadata": {},
     "output_type": "execute_result"
    }
   ],
   "source": [
    "# Boolean Filters\n",
    "list((df.A > 3) & (df.B < 7)), list(df[(df.B > 6) | (df.C.notna())].A), list(df[df.A % 2 == 0].C)"
   ]
  },
  {
   "cell_type": "code",
   "execution_count": 93,
   "metadata": {},
   "outputs": [
    {
     "data": {
      "text/plain": [
       "([4.0, 7.0, 3.0], [5.0, 6.0, nan], [1.0, 5.0, 6.0, nan], [4.0, 7.0, 3.0])"
      ]
     },
     "execution_count": 93,
     "metadata": {},
     "output_type": "execute_result"
    }
   ],
   "source": [
    "# (Row) Indices\n",
    "list(df_sorted.loc[0]), list(df_sorted.iloc[0]), list(df_sorted.reset_index(drop=False).loc[0])"
   ]
  },
  {
   "cell_type": "code",
   "execution_count": 100,
   "metadata": {},
   "outputs": [
    {
     "data": {
      "text/plain": [
       "(9, 2, 6.5, nan)"
      ]
     },
     "execution_count": 100,
     "metadata": {},
     "output_type": "execute_result"
    }
   ],
   "source": [
    "# Statistics\n",
    "df.A.sum(), df.B.count(), df.B.mean(), df.C.std()"
   ]
  },
  {
   "cell_type": "markdown",
   "metadata": {},
   "source": [
    "## Web Scraping"
   ]
  },
  {
   "cell_type": "code",
   "execution_count": 111,
   "metadata": {},
   "outputs": [],
   "source": [
    "from bs4 import BeautifulSoup\n",
    "\n",
    "webpage = '''\n",
    "<html>\n",
    "    <head>\n",
    "        <title>Hello World</title>\n",
    "    </head>\n",
    "    <body>\n",
    "        <header>\n",
    "            <ul id='nav'>\n",
    "                <li class='nav_main'>Home</li>\n",
    "                <li class='nav_other'>About</li>\n",
    "            </ul>\n",
    "        </header>\n",
    "        <article class='report'>\n",
    "            <h1 class='much_bold'>Important Headline</h1>\n",
    "            <section>\n",
    "                <h2 id='heading2'>Less important headline</h2>\n",
    "                <p>paragraph</p>\n",
    "                <p>another paragraph</p>\n",
    "            </section>\n",
    "        </article>\n",
    "    </body>\n",
    "</html>\n",
    "'''\n",
    "soup = BeautifulSoup(webpage, 'html.parser')"
   ]
  },
  {
   "cell_type": "code",
   "execution_count": 125,
   "metadata": {},
   "outputs": [
    {
     "data": {
      "text/plain": [
       "('<p>paragraph</p>', 'Home', 'heading2', ['Home', 'About'])"
      ]
     },
     "execution_count": 125,
     "metadata": {},
     "output_type": "execute_result"
    }
   ],
   "source": [
    "# selecting elements\n",
    "str(soup.p), soup.li.text, soup.find(name='h2')['id'], [el.text for el in soup.find_all('li')]"
   ]
  },
  {
   "cell_type": "code",
   "execution_count": 135,
   "metadata": {},
   "outputs": [
    {
     "data": {
      "text/plain": [
       "('Hello World', 1, 0, 'HomeAbout')"
      ]
     },
     "execution_count": 135,
     "metadata": {},
     "output_type": "execute_result"
    }
   ],
   "source": [
    "# CSS selectors\n",
    "soup.select('title')[0].text, len(soup.select('li.nav_main')), len(soup.select('li .nav_main')), soup.select('#nav')[0].text.replace('\\n', '')"
   ]
  },
  {
   "cell_type": "code",
   "execution_count": 150,
   "metadata": {},
   "outputs": [
    {
     "data": {
      "text/plain": [
       "('header', 'Home', 'another paragraph')"
      ]
     },
     "execution_count": 150,
     "metadata": {},
     "output_type": "execute_result"
    }
   ],
   "source": [
    "# navigation\n",
    "soup.select('ul')[0].parent.name, list(soup.ul.children)[1].text, list(soup.p.next_siblings)[1].text"
   ]
  }
 ],
 "metadata": {
  "kernelspec": {
   "display_name": "Python 3 (ipykernel)",
   "language": "python",
   "name": "python3"
  },
  "language_info": {
   "codemirror_mode": {
    "name": "ipython",
    "version": 3
   },
   "file_extension": ".py",
   "mimetype": "text/x-python",
   "name": "python",
   "nbconvert_exporter": "python",
   "pygments_lexer": "ipython3",
   "version": "3.11.3"
  }
 },
 "nbformat": 4,
 "nbformat_minor": 2
}
