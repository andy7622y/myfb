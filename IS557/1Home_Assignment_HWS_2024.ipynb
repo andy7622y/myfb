{
  "cells": [
    {
      "cell_type": "markdown",
      "metadata": {
        "id": "view-in-github",
        "colab_type": "text"
      },
      "source": [
        "<a href=\"https://colab.research.google.com/github/andy7622y/myfb/blob/main/1Home_Assignment_HWS_2024.ipynb\" target=\"_parent\"><img src=\"https://colab.research.google.com/assets/colab-badge.svg\" alt=\"Open In Colab\"/></a>"
      ]
    },
    {
      "cell_type": "markdown",
      "id": "b5eae6ed",
      "metadata": {
        "id": "b5eae6ed"
      },
      "source": [
        "# Formalities\n",
        "\n",
        "You can submit in a group of up to 3 people until <span style=\"color: red\">October 31st, 2024 23.59 CET</span>. The deadline is strict!\n",
        "\n",
        "Don't forget to cite **all** your sources. Using code produced by generative models without proper attribution is  plagiarism.\n",
        "\n",
        "# Evaluation and Grading\n",
        "\n",
        "Please note that the evaluation of your submission is done automatically. Think of it as this notebook being executed once. Afterwards, some test functions are appended to this file and executed respectively.\n",
        "\n",
        "Therefore:\n",
        "\n",
        "* Submit valid *Python3* code only!\n",
        "* Use **external** libraries if and only if specified by task. Using the standard library is fine unless you are told otherwise.\n",
        "* Ensure your definitions (functions, classes, methods, variables) follow the specification. The signature of a function/method/class usually can be inferred from task description, code skeletons and test cases.\n",
        "* Ensure your code does not rely on the current notebook or system state!\n",
        "    * Use ```Kernel > Restart & Run All``` to see if you are using any definitions, variables etc. that are not in scope anymore.\n",
        "    * Double check if your code relies on presence of files or directories other than those mentioned in given tasks.\n",
        "    * When working with files, assume that they are located in your woking directory and don't use paths (```/home/alice/python```, ```../../python```, ```C:\\another\\path```).\n",
        "* Keep your code [idempotent](https://en.wikipedia.org/wiki/Idempotence)! Running your code or parts of it multiple times must not yield different results. Minimize usage of global variables.\n",
        "* Ensure your code/notebook terminates in reasonable time.\n",
        "* Do not use IPython special commands (lines starting with ```%``` or ```!```).\n",
        "\n",
        "**Please, note that there is a story behind each of these points. You should not expect that your code will be fixed. If automatic evaluation fails because you have ignored these warnings then you might get no points for the sub-task.**\n",
        "\n"
      ]
    },
    {
      "cell_type": "markdown",
      "id": "5e129428",
      "metadata": {
        "id": "5e129428"
      },
      "source": [
        "# Credentials of all team members\n",
        "Don't forget to change this. You may add or remove items from the list"
      ]
    },
    {
      "cell_type": "code",
      "execution_count": null,
      "id": "860bc834",
      "metadata": {
        "id": "860bc834"
      },
      "outputs": [],
      "source": [
        "team_members = [\n",
        "    {\n",
        "        'first_name': 'Alice',\n",
        "        'last_name': 'Foo',\n",
        "        'student_id': 12345\n",
        "    },\n",
        "    {\n",
        "        'first_name': 'Bob',\n",
        "        'last_name': 'Bar',\n",
        "        'student_id': 54321\n",
        "    }\n",
        "]"
      ]
    },
    {
      "cell_type": "markdown",
      "id": "5c38b8b1",
      "metadata": {
        "id": "5c38b8b1"
      },
      "source": [
        "# Task 1: Elevator Evaluation. 20 points\n",
        "\n",
        "Uni Mannheim wants to track the usage of a specific elevator to promote saving energy. The building has lots of floors, starting at `0` (zero, ground floor) up until `100` (top floor) as well as a basement from `A` (highest floor in the basement) to `G` (lowest floor in the basement). Moving downwards is free because of gravity, moving upwards costs `1` energy unit per floor. Assume that an idle elevator does not require any energy and that only moving between floors is relevant – starting/stopping does not consume more/less energy and elevator load is irrelevant as well.\n",
        "\n",
        "The elevator tracks each floor it stops at and stores the floors into one continuous list. Write a function that takes a list produced by an elevator and returns the number of energy units this elevator used up. You do not need to consider incorrect logs (floors that do not exist)."
      ]
    },
    {
      "cell_type": "code",
      "execution_count": 13,
      "id": "acba0ea2",
      "metadata": {
        "id": "acba0ea2"
      },
      "outputs": [],
      "source": [
        "def energy_usage(floor_list):\n",
        "    sum_energy = 0\n",
        "    for i in range(len(floor_list)+1):\n",
        "      each_energy = floor_list[i+1] - floor_list[i]\n",
        "      sum_energy = sum_energy + each_energy\n",
        "\n",
        "\n",
        "\n",
        "    return sum_energy"
      ]
    },
    {
      "cell_type": "code",
      "source": [
        "energy_usage([1,5,2])"
      ],
      "metadata": {
        "colab": {
          "base_uri": "https://localhost:8080/",
          "height": 263
        },
        "id": "-5kfRlL2PUNf",
        "outputId": "c9f1a1f1-87a9-4643-a952-32966965367f"
      },
      "id": "-5kfRlL2PUNf",
      "execution_count": 14,
      "outputs": [
        {
          "output_type": "error",
          "ename": "IndexError",
          "evalue": "list index out of range",
          "traceback": [
            "\u001b[0;31m---------------------------------------------------------------------------\u001b[0m",
            "\u001b[0;31mIndexError\u001b[0m                                Traceback (most recent call last)",
            "\u001b[0;32m<ipython-input-14-8e5e693ae937>\u001b[0m in \u001b[0;36m<cell line: 1>\u001b[0;34m()\u001b[0m\n\u001b[0;32m----> 1\u001b[0;31m \u001b[0menergy_usage\u001b[0m\u001b[0;34m(\u001b[0m\u001b[0;34m[\u001b[0m\u001b[0;36m1\u001b[0m\u001b[0;34m,\u001b[0m\u001b[0;36m5\u001b[0m\u001b[0;34m,\u001b[0m\u001b[0;36m2\u001b[0m\u001b[0;34m]\u001b[0m\u001b[0;34m)\u001b[0m\u001b[0;34m\u001b[0m\u001b[0;34m\u001b[0m\u001b[0m\n\u001b[0m",
            "\u001b[0;32m<ipython-input-13-7a9b1c4d79a6>\u001b[0m in \u001b[0;36menergy_usage\u001b[0;34m(floor_list)\u001b[0m\n\u001b[1;32m      2\u001b[0m     \u001b[0msum_energy\u001b[0m \u001b[0;34m=\u001b[0m \u001b[0;36m0\u001b[0m\u001b[0;34m\u001b[0m\u001b[0;34m\u001b[0m\u001b[0m\n\u001b[1;32m      3\u001b[0m     \u001b[0;32mfor\u001b[0m \u001b[0mi\u001b[0m \u001b[0;32min\u001b[0m \u001b[0mrange\u001b[0m\u001b[0;34m(\u001b[0m\u001b[0mlen\u001b[0m\u001b[0;34m(\u001b[0m\u001b[0mfloor_list\u001b[0m\u001b[0;34m)\u001b[0m\u001b[0;34m)\u001b[0m\u001b[0;34m:\u001b[0m\u001b[0;34m\u001b[0m\u001b[0;34m\u001b[0m\u001b[0m\n\u001b[0;32m----> 4\u001b[0;31m       \u001b[0meach_energy\u001b[0m \u001b[0;34m=\u001b[0m \u001b[0mfloor_list\u001b[0m\u001b[0;34m[\u001b[0m\u001b[0mi\u001b[0m\u001b[0;34m+\u001b[0m\u001b[0;36m1\u001b[0m\u001b[0;34m]\u001b[0m \u001b[0;34m-\u001b[0m \u001b[0mfloor_list\u001b[0m\u001b[0;34m[\u001b[0m\u001b[0mi\u001b[0m\u001b[0;34m]\u001b[0m\u001b[0;34m\u001b[0m\u001b[0;34m\u001b[0m\u001b[0m\n\u001b[0m\u001b[1;32m      5\u001b[0m       \u001b[0msum_energy\u001b[0m \u001b[0;34m=\u001b[0m \u001b[0msum_energy\u001b[0m \u001b[0;34m+\u001b[0m \u001b[0meach_energy\u001b[0m\u001b[0;34m\u001b[0m\u001b[0;34m\u001b[0m\u001b[0m\n\u001b[1;32m      6\u001b[0m \u001b[0;34m\u001b[0m\u001b[0m\n",
            "\u001b[0;31mIndexError\u001b[0m: list index out of range"
          ]
        }
      ]
    },
    {
      "cell_type": "code",
      "source": [
        "floor_list = [1,5,2]\n",
        "for i in range(len(floor_list)):\n",
        "  print(i)"
      ],
      "metadata": {
        "colab": {
          "base_uri": "https://localhost:8080/"
        },
        "id": "mKqWdo3kO-vx",
        "outputId": "f4993707-66ec-40d0-ce89-7f75fc571ef6"
      },
      "id": "mKqWdo3kO-vx",
      "execution_count": 16,
      "outputs": [
        {
          "output_type": "stream",
          "name": "stdout",
          "text": [
            "0\n",
            "1\n",
            "2\n"
          ]
        }
      ]
    },
    {
      "cell_type": "markdown",
      "id": "8cf47b9b",
      "metadata": {
        "id": "8cf47b9b"
      },
      "source": [
        "The following code could help you to test if your function works correctly. Make sure that no errors are raised when you run this cell! You don't need to change anything in the cell. In case you are wondering about `assert`: this is a way to check whether a statement is True. In other words, an error is raised if the statement is not True."
      ]
    },
    {
      "cell_type": "code",
      "execution_count": null,
      "id": "27a5a526",
      "metadata": {
        "id": "27a5a526"
      },
      "outputs": [],
      "source": [
        "assert energy_usage([1,5,2]) == 4\n",
        "assert energy_usage(['D','3']) == 7\n",
        "assert energy_usage([78,'5','A','100','G']) == 101"
      ]
    },
    {
      "cell_type": "markdown",
      "id": "97ba2b85",
      "metadata": {
        "id": "97ba2b85"
      },
      "source": [
        "# Task 2: Social Networks. 30 + 20 points\n",
        "\n",
        "Many social or business processes can be better understood through the use of networks/graphs. With directed graphs (see also [Wikipedia](https://en.wikipedia.org/wiki/Directed_graph)), we can model for instance social media followers or supplier relationships.\n",
        "\n",
        "Keep in mind that **only the Python standard library is allowed** to be used in this task!"
      ]
    },
    {
      "cell_type": "markdown",
      "id": "59c503a6",
      "metadata": {
        "id": "59c503a6"
      },
      "source": [
        "## Task 2a. The DirGraph Class. 30 points\n",
        "\n",
        "Create a Python class called `DirGraph` to store a directed graph. The class should contain data structure(s) to store nodes and edges of the graph as well as the following methods:\n",
        "\n",
        "1) `__init__`: creates a graph with `n` nodes (required argument) and no edges. The nodes are identified by integer numbers from `0` to `n-1`.\n",
        "\n",
        "2) `add_edges_from_list`: adds edges that are given as a list of tuples where `(1,2)` is an edge from node `1` to node `2`. Ignore edges that already exist in the graph (this is not a multi-graph). If an edge references a previously unseen node, add that node to your list of nodes. Add the edges directly to the graph, do not return a new graph.\n",
        "\n",
        "3) The methods `num_nodes` and `num_edges` that return how many nodes and edges the graph has. As well as a method that provides a summary of a DirGraph `G` if `print(G)` is executed – output that this is a directed graph as well as its number of nodes, and number of edges.\n",
        "\n",
        "5) A method that allows to check if two DirGraphs are equal. They are equal if they have exactly the same nodes and edges. In other words, the nodes must have the same names and edges the same directions. Beware that it does not matter in which order the nodes/edges are stored in your internal data structure(s). Also, a DirGraph can only be equal to another DirGraph."
      ]
    },
    {
      "cell_type": "code",
      "execution_count": null,
      "id": "e460b19d",
      "metadata": {
        "id": "e460b19d"
      },
      "outputs": [],
      "source": [
        "class DirGraph:\n",
        "    # your code goes here\n",
        "\n",
        "    pass"
      ]
    },
    {
      "cell_type": "markdown",
      "id": "2366ba4a",
      "metadata": {
        "id": "2366ba4a"
      },
      "source": [
        "The following code could help you to test if your class works correctly. Make sure that no errors are raised when you run this cell! You don't need to change anything in the cell."
      ]
    },
    {
      "cell_type": "code",
      "execution_count": null,
      "id": "483a5aaa",
      "metadata": {
        "id": "483a5aaa"
      },
      "outputs": [],
      "source": [
        "G = DirGraph(n=5)\n",
        "assert G.num_nodes() == 5  # nodes should have been added\n",
        "assert G.num_edges() == 0  # edges should be empty\n",
        "G.add_edges_from_list([(0,1),(1,2),(2,3)])\n",
        "assert G.num_edges() == 3  # edges should have been added\n",
        "G.add_edges_from_list([(0,1),(8,9)])\n",
        "assert G.num_nodes() == 7  # two addtional nodes should have been added\n",
        "assert G.num_edges() == 4  # one additional edge should have been added – the other one is a duplicate\n",
        "assert str(G)[:25] != '<__main__.DirGraph object'  # this should be a better description\n",
        "G2 = DirGraph(n=7)\n",
        "G3 = DirGraph(n=7)\n",
        "assert G2 == G3  # they should both have nodes 0…6 and no edges\n",
        "G2.add_edges_from_list([(0,1),(1,2)])\n",
        "G3.add_edges_from_list([(0,1),(1,2)])\n",
        "assert G2 == G3  # they should still have the same edges\n",
        "G2.add_edges_from_list([(3,4)])\n",
        "assert G2 != G3  # G2 should have an additional edge\n",
        "G3.add_edges_from_list([(4,3)])\n",
        "assert G2 != G3  # the edges between 3 and 4 should have different directions\n",
        "G3.add_edges_from_list([(3,4)])\n",
        "G2.add_edges_from_list([(4,3)])\n",
        "assert G2 == G3  # both graphs should have edges both ways between 3 and 4"
      ]
    },
    {
      "cell_type": "markdown",
      "id": "b8183f5e",
      "metadata": {
        "id": "b8183f5e"
      },
      "source": [
        "## Task 2b. Network Statistics. 20 points\n",
        "\n",
        "Implement the following statistics for a node `i` in a DirGraph `G`:\n",
        "\n",
        "1) `successors(G, i)`: returns a list of nodes `j` such that there exists an edge from `i` to `j`.\n",
        "\n",
        "2) `predecessors(G, i)`: returns a list of nodes `h` such that there exists an edge from `h` to `i`.\n",
        "\n",
        "3) `out_degree(G, i)`: returns the number of successors that node `i` has in `G`.\n",
        "\n",
        "4) `most_central_node(G)`: returns the name of the node with highest out-degree (degree centrality).\n",
        "\n",
        "Note that you are supposed to implement these statistics as separate functions that take a DirGraph as an argument - do not add them as methods to the `DirGraph` class. If there is multiple nodes with highest out-degree, you can return an arbitrary one of them in subtask `4`."
      ]
    },
    {
      "cell_type": "code",
      "execution_count": null,
      "id": "40fd3a6d",
      "metadata": {
        "id": "40fd3a6d"
      },
      "outputs": [],
      "source": [
        "def successors(G, i):\n",
        "    # your code goes here\n",
        "\n",
        "    return None\n",
        "\n",
        "def predecessors(G, i):\n",
        "    # your code goes here\n",
        "\n",
        "    return None\n",
        "\n",
        "def out_degree(G, i):\n",
        "    # your code goes here\n",
        "\n",
        "    return None\n",
        "\n",
        "def most_central_node(G):\n",
        "    # your code goes here\n",
        "\n",
        "    return None"
      ]
    },
    {
      "cell_type": "markdown",
      "id": "bc02ef39",
      "metadata": {
        "id": "bc02ef39"
      },
      "source": [
        "The following code could help you to test if your functions work correctly. Make sure that no errors are raised when you run this cell! You don't need to change anything in the cell."
      ]
    },
    {
      "cell_type": "code",
      "execution_count": null,
      "id": "c296f8fc",
      "metadata": {
        "id": "c296f8fc"
      },
      "outputs": [],
      "source": [
        "G = DirGraph(5)\n",
        "G.add_edges_from_list([(0,1),(1,2),(2,3),(2,0)])\n",
        "assert successors(G, 0) == [1]\n",
        "assert set(successors(G, 2)) == set([0, 3])\n",
        "assert predecessors(G, 3) == [2]\n",
        "assert out_degree(G, 2) == 2\n",
        "assert most_central_node(G) == 2"
      ]
    },
    {
      "cell_type": "markdown",
      "id": "b30959ad",
      "metadata": {
        "id": "b30959ad"
      },
      "source": [
        "# Task 3: Word Counts. 30 points\n",
        "\n",
        "Write a function that counts the occurences of words in a given text file. Provided the filename (required argument), the function should:\n",
        "- open the file\n",
        "- split the text into words\n",
        "- return a list of (word, count) tuples, sorted from most frequent to least frequent word\n",
        "\n",
        "We define words as sequences of characters and ignore capitalization. Words are delimited by whitespace characters (space, tab, or return). Also `Python` and `python` are the same word and should appear in lower case in the word frequency list. You can assume that the text file does not contain any punctuation or special characters such as `.`, `+`, `7`, `ä`, `ß`, or `ø`.\n",
        "\n",
        "Hint: To sort the words, use `sorted(…, key=…)` and specify an appropriate function as a key."
      ]
    },
    {
      "cell_type": "code",
      "execution_count": null,
      "id": "5edd4408",
      "metadata": {
        "id": "5edd4408"
      },
      "outputs": [],
      "source": [
        "def count_words(filename):\n",
        "    # your code goes here\n",
        "\n",
        "    return None"
      ]
    },
    {
      "cell_type": "markdown",
      "id": "23f87fb9",
      "metadata": {
        "id": "23f87fb9"
      },
      "source": [
        "The following code could help you to test if your function works correctly. Make sure that no errors are raised when you run this cell! You don't need to change anything in the cell."
      ]
    },
    {
      "cell_type": "code",
      "execution_count": null,
      "id": "e8961cfe",
      "metadata": {
        "id": "e8961cfe"
      },
      "outputs": [],
      "source": [
        "from tempfile import NamedTemporaryFile\n",
        "with NamedTemporaryFile(mode='r+t', delete = False) as tempfile:\n",
        "    # populate temporary test file with data\n",
        "    tempfile.write('foo bar Mannheim\\nfoo\\tbar\\nbar\\n')\n",
        "\n",
        "    # count words in file for testing\n",
        "    tempfile.seek(0)\n",
        "    assert count_words(tempfile.name) == [('bar', 3), ('foo', 2), ('mannheim', 1)]"
      ]
    }
  ],
  "metadata": {
    "kernelspec": {
      "display_name": "Python 3 (ipykernel)",
      "language": "python",
      "name": "python3"
    },
    "language_info": {
      "codemirror_mode": {
        "name": "ipython",
        "version": 3
      },
      "file_extension": ".py",
      "mimetype": "text/x-python",
      "name": "python",
      "nbconvert_exporter": "python",
      "pygments_lexer": "ipython3",
      "version": "3.11.3"
    },
    "colab": {
      "provenance": [],
      "include_colab_link": true
    }
  },
  "nbformat": 4,
  "nbformat_minor": 5
}
