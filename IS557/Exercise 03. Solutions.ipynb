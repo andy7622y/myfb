{
 "cells": [
  {
   "cell_type": "markdown",
   "id": "65932f35",
   "metadata": {},
   "source": [
    "### Write a function that takes 3 input parameters and returns product of these values\n",
    "Example:\n",
    "    \n",
    "Input: 2,3,5\n",
    "\n",
    "Return: 30"
   ]
  },
  {
   "cell_type": "code",
   "execution_count": 1,
   "id": "7069c313",
   "metadata": {},
   "outputs": [],
   "source": [
    "def product(x, y, z):\n",
    "    result = x * y * z\n",
    "    return result"
   ]
  },
  {
   "cell_type": "code",
   "execution_count": 2,
   "id": "c23eeea5",
   "metadata": {},
   "outputs": [
    {
     "data": {
      "text/plain": [
       "24"
      ]
     },
     "execution_count": 2,
     "metadata": {},
     "output_type": "execute_result"
    }
   ],
   "source": [
    "product(2, 3, 4)"
   ]
  },
  {
   "cell_type": "markdown",
   "id": "ab8f8eee",
   "metadata": {},
   "source": [
    "### Modify your function such that it can take an arbitrary number of input parameters, which all get multiplied with each other"
   ]
  },
  {
   "cell_type": "code",
   "execution_count": 4,
   "id": "83d25692",
   "metadata": {},
   "outputs": [],
   "source": [
    "def product(*parameters):\n",
    "    result = 1\n",
    "    \n",
    "    for parameter in parameters:\n",
    "        result *= parameter\n",
    "        \n",
    "    return result"
   ]
  },
  {
   "cell_type": "code",
   "execution_count": 5,
   "id": "c43e49b7",
   "metadata": {},
   "outputs": [
    {
     "data": {
      "text/plain": [
       "-120"
      ]
     },
     "execution_count": 5,
     "metadata": {},
     "output_type": "execute_result"
    }
   ],
   "source": [
    "product(2, 3, 4, 5, -1)"
   ]
  },
  {
   "cell_type": "code",
   "execution_count": 8,
   "id": "15429378",
   "metadata": {},
   "outputs": [],
   "source": [
    "def product(**parameters):\n",
    "    result = 1\n",
    "    for p in parameters:\n",
    "        result *= parameters[p]\n",
    "    return result"
   ]
  },
  {
   "cell_type": "code",
   "execution_count": 9,
   "id": "2522f2ad",
   "metadata": {},
   "outputs": [
    {
     "data": {
      "text/plain": [
       "6"
      ]
     },
     "execution_count": 9,
     "metadata": {},
     "output_type": "execute_result"
    }
   ],
   "source": [
    "product(first_number = 1, second_number = 2, third_number = 3)"
   ]
  },
  {
   "cell_type": "markdown",
   "id": "13b341ea",
   "metadata": {},
   "source": [
    "### Write a Python function to check if the input variable is an integer.\n",
    "should return True, if the input x is an integer, False otherwise"
   ]
  },
  {
   "cell_type": "code",
   "execution_count": 10,
   "id": "35c305c5",
   "metadata": {},
   "outputs": [],
   "source": [
    "def is_int(x):\n",
    "    return type(x) == int"
   ]
  },
  {
   "cell_type": "code",
   "execution_count": 11,
   "id": "fa1298c8",
   "metadata": {},
   "outputs": [
    {
     "name": "stdout",
     "output_type": "stream",
     "text": [
      "False\n",
      "False\n",
      "True\n"
     ]
    }
   ],
   "source": [
    "print (is_int('4'))\n",
    "print (is_int(4.4))\n",
    "print (is_int(4))"
   ]
  },
  {
   "cell_type": "code",
   "execution_count": 12,
   "id": "f1ebef12",
   "metadata": {},
   "outputs": [],
   "source": [
    "def is_list(x):\n",
    "    return type(x) == list"
   ]
  },
  {
   "cell_type": "code",
   "execution_count": 13,
   "id": "b9c710d0",
   "metadata": {},
   "outputs": [
    {
     "data": {
      "text/plain": [
       "False"
      ]
     },
     "execution_count": 13,
     "metadata": {},
     "output_type": "execute_result"
    }
   ],
   "source": [
    "is_list(4)"
   ]
  },
  {
   "cell_type": "code",
   "execution_count": 14,
   "id": "ad5bda51",
   "metadata": {},
   "outputs": [
    {
     "data": {
      "text/plain": [
       "True"
      ]
     },
     "execution_count": 14,
     "metadata": {},
     "output_type": "execute_result"
    }
   ],
   "source": [
    "is_list([4])"
   ]
  },
  {
   "cell_type": "markdown",
   "id": "7119adab",
   "metadata": {},
   "source": [
    "### Write a Python function that takes an int as a parameter and checks if the number is prime or not.\n"
   ]
  },
  {
   "cell_type": "code",
   "execution_count": 23,
   "id": "9feaea1c",
   "metadata": {},
   "outputs": [
    {
     "name": "stdout",
     "output_type": "stream",
     "text": [
      "False\n",
      "True\n",
      "True\n"
     ]
    },
    {
     "name": "stderr",
     "output_type": "stream",
     "text": [
      "\n",
      "KeyboardInterrupt\n",
      "\n"
     ]
    }
   ],
   "source": [
    "def is_prime(x):\n",
    "    possible_to_divide = False\n",
    "    \n",
    "    for n in range(2, x):\n",
    "        if x % n == 0:\n",
    "            possible_to_divide = True\n",
    "            \n",
    "    if possible_to_divide:\n",
    "        return False\n",
    "    \n",
    "    return True\n",
    "    \n",
    "\n",
    "print (is_prime(12))\n",
    "print (is_prime(13))\n",
    "print (is_prime(23))\n",
    "print (is_prime(87178291199))"
   ]
  },
  {
   "cell_type": "code",
   "execution_count": 29,
   "id": "6e397c73",
   "metadata": {},
   "outputs": [
    {
     "name": "stdout",
     "output_type": "stream",
     "text": [
      "False\n",
      "True\n",
      "True\n",
      "True\n"
     ]
    }
   ],
   "source": [
    "def is_prime(x):\n",
    "    flag = False\n",
    "        \n",
    "    for n in range(2, int(x ** 0.5) + 1):\n",
    "        \n",
    "        if x % n == 0:\n",
    "            flag = True\n",
    "    return not flag\n",
    "\n",
    "print (is_prime(12))\n",
    "print (is_prime(13))\n",
    "print (is_prime(23))\n",
    "print (is_prime(87178291199))"
   ]
  },
  {
   "cell_type": "markdown",
   "id": "fe071088",
   "metadata": {},
   "source": [
    "### Use your function to create a list that contains all primes up to a given integer\n"
   ]
  },
  {
   "cell_type": "code",
   "execution_count": 30,
   "id": "423986ea",
   "metadata": {},
   "outputs": [],
   "source": [
    "def primes_up_to(N):\n",
    "    result = []\n",
    "    \n",
    "    for x in range(2, N + 1):\n",
    "        \n",
    "        if is_prime(x):\n",
    "            result.append(x)\n",
    "            \n",
    "    return result"
   ]
  },
  {
   "cell_type": "code",
   "execution_count": 31,
   "id": "30e4b934",
   "metadata": {},
   "outputs": [
    {
     "name": "stdout",
     "output_type": "stream",
     "text": [
      "[2, 3, 5, 7, 11, 13, 17, 19, 23, 29, 31, 37, 41, 43, 47, 53, 59, 61, 67, 71, 73, 79, 83, 89, 97]\n"
     ]
    }
   ],
   "source": [
    "print(primes_up_to(100))"
   ]
  },
  {
   "cell_type": "markdown",
   "id": "0a044f29",
   "metadata": {},
   "source": [
    "### Write a function that gets an integer as input and returns its cross sum\n",
    "\n",
    "cross sum of 1864 = 1+8+6+4 = 19"
   ]
  },
  {
   "cell_type": "code",
   "execution_count": 37,
   "id": "4043d8bd",
   "metadata": {},
   "outputs": [
    {
     "data": {
      "text/plain": [
       "28"
      ]
     },
     "execution_count": 37,
     "metadata": {},
     "output_type": "execute_result"
    }
   ],
   "source": [
    "def cross_sum(x):\n",
    "    string = str(x)\n",
    "    \n",
    "    result = 0\n",
    "    \n",
    "    for i in range(len(string)):\n",
    "        number = string[i]\n",
    "        result += int(number)\n",
    "        \n",
    "    return result\n",
    "\n",
    "cross_sum(18649)"
   ]
  },
  {
   "cell_type": "code",
   "execution_count": 42,
   "id": "35686d52",
   "metadata": {},
   "outputs": [
    {
     "data": {
      "text/plain": [
       "28"
      ]
     },
     "execution_count": 42,
     "metadata": {},
     "output_type": "execute_result"
    }
   ],
   "source": [
    "def cross_sum(x):\n",
    "    result = 0\n",
    "    \n",
    "    while x > 0:\n",
    "        \n",
    "        result += x % 10\n",
    "        \n",
    "        x = x // 10\n",
    "        \n",
    "    return result\n",
    "\n",
    "cross_sum(18649)"
   ]
  },
  {
   "cell_type": "markdown",
   "id": "5cebfcf8",
   "metadata": {},
   "source": [
    "### Write a function that simulates dice rolls (6-sided dices)\n",
    "- Write a function that has the number of dice rolls as the input parameter\n",
    "- The output is a map (dictionary) with the counts how often each result of a roll (1-6) occurred\n",
    "- You will need the randint() function from the random package for that task, see example usage below\n"
   ]
  },
  {
   "cell_type": "code",
   "execution_count": 43,
   "id": "42bb670d",
   "metadata": {},
   "outputs": [
    {
     "name": "stdout",
     "output_type": "stream",
     "text": [
      "1\n"
     ]
    }
   ],
   "source": [
    "# Try to run this code multiple times\n",
    "import random\n",
    "print(random.randint(1, 6))"
   ]
  },
  {
   "cell_type": "code",
   "execution_count": 52,
   "id": "b7ccf35d",
   "metadata": {},
   "outputs": [
    {
     "data": {
      "text/plain": [
       "{1: 0.1729, 2: 0.167, 3: 0.1716, 4: 0.16, 5: 0.1599, 6: 0.1686}"
      ]
     },
     "execution_count": 52,
     "metadata": {},
     "output_type": "execute_result"
    }
   ],
   "source": [
    "import random\n",
    "\n",
    "def roll(n):\n",
    "    result = {1: 0, 2: 0, 3: 0, 4: 0, 5: 0, 6: 0}\n",
    "    \n",
    "    for i in range(n):\n",
    "        r = random.randint(1, 6)\n",
    "        result[r] = result[r] + 1\n",
    "\n",
    "    for k in result:\n",
    "        result[k] = result[k] / n\n",
    "        \n",
    "    return result\n",
    "\n",
    "roll(10000)"
   ]
  }
 ],
 "metadata": {
  "kernelspec": {
   "display_name": "Python 3 (ipykernel)",
   "language": "python",
   "name": "python3"
  },
  "language_info": {
   "codemirror_mode": {
    "name": "ipython",
    "version": 3
   },
   "file_extension": ".py",
   "mimetype": "text/x-python",
   "name": "python",
   "nbconvert_exporter": "python",
   "pygments_lexer": "ipython3",
   "version": "3.11.5"
  }
 },
 "nbformat": 4,
 "nbformat_minor": 5
}
