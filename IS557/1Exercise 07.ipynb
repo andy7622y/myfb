{
  "cells": [
    {
      "cell_type": "markdown",
      "metadata": {
        "id": "view-in-github",
        "colab_type": "text"
      },
      "source": [
        "<a href=\"https://colab.research.google.com/github/andy7622y/myfb/blob/main/IS557/1Exercise%2007.ipynb\" target=\"_parent\"><img src=\"https://colab.research.google.com/assets/colab-badge.svg\" alt=\"Open In Colab\"/></a>"
      ]
    },
    {
      "cell_type": "markdown",
      "id": "bbe2ee56",
      "metadata": {
        "id": "bbe2ee56"
      },
      "source": [
        "# For these tasks try to make your code as concise as possible. Try to avoid using for loops"
      ]
    },
    {
      "cell_type": "markdown",
      "id": "2b0bfd45",
      "metadata": {
        "id": "2b0bfd45"
      },
      "source": [
        "## Create an numpy array of length 100 with 0s on all even position and 3s on all odd positions"
      ]
    },
    {
      "cell_type": "code",
      "execution_count": 2,
      "id": "fe30382a",
      "metadata": {
        "id": "fe30382a"
      },
      "outputs": [],
      "source": [
        "import numpy as np"
      ]
    },
    {
      "cell_type": "code",
      "source": [
        "a = np.zeros(100,dtype = int)\n",
        "a[::2] = 3\n",
        "a"
      ],
      "metadata": {
        "colab": {
          "base_uri": "https://localhost:8080/"
        },
        "id": "-nFMaB_VuFV3",
        "outputId": "2e742101-c92b-43d7-bc04-1f3c92bd7580"
      },
      "id": "-nFMaB_VuFV3",
      "execution_count": 2,
      "outputs": [
        {
          "output_type": "execute_result",
          "data": {
            "text/plain": [
              "array([3, 0, 3, 0, 3, 0, 3, 0, 3, 0, 3, 0, 3, 0, 3, 0, 3, 0, 3, 0, 3, 0,\n",
              "       3, 0, 3, 0, 3, 0, 3, 0, 3, 0, 3, 0, 3, 0, 3, 0, 3, 0, 3, 0, 3, 0,\n",
              "       3, 0, 3, 0, 3, 0, 3, 0, 3, 0, 3, 0, 3, 0, 3, 0, 3, 0, 3, 0, 3, 0,\n",
              "       3, 0, 3, 0, 3, 0, 3, 0, 3, 0, 3, 0, 3, 0, 3, 0, 3, 0, 3, 0, 3, 0,\n",
              "       3, 0, 3, 0, 3, 0, 3, 0, 3, 0, 3, 0])"
            ]
          },
          "metadata": {},
          "execution_count": 2
        }
      ]
    },
    {
      "cell_type": "markdown",
      "id": "0a870d1c",
      "metadata": {
        "id": "0a870d1c"
      },
      "source": [
        "## Create a numpy array containing number from 100 to 200\n",
        "Hint: there is a special function for that similar to range for lists"
      ]
    },
    {
      "cell_type": "code",
      "execution_count": 3,
      "id": "934be0f0",
      "metadata": {
        "colab": {
          "base_uri": "https://localhost:8080/"
        },
        "id": "934be0f0",
        "outputId": "18bba1f8-dca6-42ef-8324-0959837f7abd"
      },
      "outputs": [
        {
          "output_type": "execute_result",
          "data": {
            "text/plain": [
              "array([100, 101, 102, 103, 104, 105, 106, 107, 108, 109, 110, 111, 112,\n",
              "       113, 114, 115, 116, 117, 118, 119, 120, 121, 122, 123, 124, 125,\n",
              "       126, 127, 128, 129, 130, 131, 132, 133, 134, 135, 136, 137, 138,\n",
              "       139, 140, 141, 142, 143, 144, 145, 146, 147, 148, 149, 150, 151,\n",
              "       152, 153, 154, 155, 156, 157, 158, 159, 160, 161, 162, 163, 164,\n",
              "       165, 166, 167, 168, 169, 170, 171, 172, 173, 174, 175, 176, 177,\n",
              "       178, 179, 180, 181, 182, 183, 184, 185, 186, 187, 188, 189, 190,\n",
              "       191, 192, 193, 194, 195, 196, 197, 198, 199, 200])"
            ]
          },
          "metadata": {},
          "execution_count": 3
        }
      ],
      "source": [
        "np.arange(100,201)"
      ]
    },
    {
      "cell_type": "code",
      "execution_count": null,
      "id": "d56d33ea",
      "metadata": {
        "id": "d56d33ea"
      },
      "outputs": [],
      "source": []
    },
    {
      "cell_type": "markdown",
      "id": "8a299314",
      "metadata": {
        "id": "8a299314"
      },
      "source": [
        "## Compute a Euclidean distance between two points represented by numpy arrays"
      ]
    },
    {
      "cell_type": "code",
      "execution_count": null,
      "id": "7891c703",
      "metadata": {
        "colab": {
          "base_uri": "https://localhost:8080/"
        },
        "id": "7891c703",
        "outputId": "b130573d-e57b-4fb9-b16f-800eae306db1"
      },
      "outputs": [
        {
          "output_type": "execute_result",
          "data": {
            "text/plain": [
              "2.23606797749979"
            ]
          },
          "metadata": {},
          "execution_count": 20
        }
      ],
      "source": [
        "a = np.array((3,4))\n",
        "b = np.array((2,2))\n",
        "dist = np.linalg.norm(a-b)\n",
        "dist"
      ]
    },
    {
      "cell_type": "markdown",
      "id": "412b77f6",
      "metadata": {
        "id": "412b77f6"
      },
      "source": [
        "## Create a 4x6 array containing 1s on the borders and 0s inside"
      ]
    },
    {
      "cell_type": "code",
      "execution_count": 18,
      "id": "7f04c387",
      "metadata": {
        "colab": {
          "base_uri": "https://localhost:8080/"
        },
        "id": "7f04c387",
        "outputId": "f59eb18f-803d-4589-c255-f9533cf0b209"
      },
      "outputs": [
        {
          "output_type": "execute_result",
          "data": {
            "text/plain": [
              "array([[1, 1, 1, 1, 1, 1],\n",
              "       [1, 0, 0, 0, 0, 1],\n",
              "       [1, 0, 0, 0, 0, 1],\n",
              "       [1, 0, 0, 0, 0, 1],\n",
              "       [1, 0, 0, 0, 0, 1],\n",
              "       [1, 0, 0, 0, 0, 1],\n",
              "       [1, 1, 1, 1, 1, 1]])"
            ]
          },
          "metadata": {},
          "execution_count": 18
        }
      ],
      "source": [
        "I = 7\n",
        "J = 6\n",
        "b = np.zeros((I,J),dtype = int)\n",
        "for i in range(I):\n",
        "  if i == 0 or i == I-1:\n",
        "    for j in range(J):\n",
        "      b[i][j] = 1\n",
        "  else:\n",
        "      b[i][0] = 1\n",
        "      b[i][-1] = 1\n",
        "\n",
        "b"
      ]
    },
    {
      "cell_type": "markdown",
      "id": "2e29914a",
      "metadata": {
        "id": "2e29914a"
      },
      "source": [
        "## Swap the first and the third rows of this array"
      ]
    },
    {
      "cell_type": "code",
      "execution_count": 19,
      "id": "8815415d",
      "metadata": {
        "id": "8815415d",
        "colab": {
          "base_uri": "https://localhost:8080/"
        },
        "outputId": "f4a53ae6-d26c-4d43-bbb3-60c3d2f988b8"
      },
      "outputs": [
        {
          "output_type": "execute_result",
          "data": {
            "text/plain": [
              "array([[1, 0, 0, 0, 0, 1],\n",
              "       [1, 0, 0, 0, 0, 1],\n",
              "       [1, 0, 0, 0, 0, 1],\n",
              "       [1, 0, 0, 0, 0, 1],\n",
              "       [1, 0, 0, 0, 0, 1],\n",
              "       [1, 0, 0, 0, 0, 1],\n",
              "       [1, 1, 1, 1, 1, 1]])"
            ]
          },
          "metadata": {},
          "execution_count": 19
        }
      ],
      "source": [
        "b[[0,2]] = b[[1,3]] # subsitute\n",
        "b"
      ]
    },
    {
      "cell_type": "markdown",
      "id": "f2c67328",
      "metadata": {
        "id": "f2c67328"
      },
      "source": [
        "## Create a 8x8 array to represent a chess board, such as that 0s correspond to white squares and 1s to black squares"
      ]
    },
    {
      "cell_type": "code",
      "execution_count": 22,
      "id": "7da3014c",
      "metadata": {
        "id": "7da3014c",
        "colab": {
          "base_uri": "https://localhost:8080/"
        },
        "outputId": "f87cec7d-7024-4501-d63a-2264050dc53a"
      },
      "outputs": [
        {
          "output_type": "execute_result",
          "data": {
            "text/plain": [
              "array([[0, 0, 0, 0, 0, 0, 0, 0],\n",
              "       [0, 0, 0, 0, 0, 0, 0, 0],\n",
              "       [0, 0, 0, 0, 0, 0, 0, 0],\n",
              "       [0, 0, 0, 0, 0, 0, 0, 0],\n",
              "       [0, 0, 0, 0, 0, 0, 0, 0],\n",
              "       [0, 0, 0, 0, 0, 0, 0, 0],\n",
              "       [0, 0, 0, 0, 0, 0, 0, 0],\n",
              "       [0, 0, 0, 0, 0, 0, 0, 0]])"
            ]
          },
          "metadata": {},
          "execution_count": 22
        }
      ],
      "source": [
        "c = np.zeros((8,8), dtype = int)\n",
        "c"
      ]
    },
    {
      "cell_type": "code",
      "source": [
        "c[]"
      ],
      "metadata": {
        "id": "uSt0DvaYrfmL"
      },
      "id": "uSt0DvaYrfmL",
      "execution_count": null,
      "outputs": []
    },
    {
      "cell_type": "code",
      "execution_count": 24,
      "id": "e310c1cf",
      "metadata": {
        "id": "e310c1cf",
        "colab": {
          "base_uri": "https://localhost:8080/"
        },
        "outputId": "a8ec6dbf-1b33-4b0a-9866-29c9b4cfcb8f"
      },
      "outputs": [
        {
          "output_type": "execute_result",
          "data": {
            "text/plain": [
              "array([[3, 3, 3, 3, 3, 3, 3, 3],\n",
              "       [3, 3, 3, 3, 3, 3, 3, 3],\n",
              "       [3, 3, 3, 3, 3, 3, 3, 3],\n",
              "       [3, 3, 3, 3, 3, 3, 3, 3],\n",
              "       [3, 3, 3, 3, 3, 3, 3, 3],\n",
              "       [3, 3, 3, 3, 3, 3, 3, 3],\n",
              "       [3, 3, 3, 3, 3, 3, 3, 3],\n",
              "       [3, 3, 3, 3, 3, 3, 3, 3]])"
            ]
          },
          "metadata": {},
          "execution_count": 24
        }
      ],
      "source": [
        "d = np.ones((8,8), dtype = int)*3\n",
        "d"
      ]
    },
    {
      "cell_type": "markdown",
      "id": "2cae4daa",
      "metadata": {
        "id": "2cae4daa"
      },
      "source": [
        "## Ploting trajectory\n",
        "If an object is thrown into the air with a velocity $v$ and angle $\\alpha$ from horizontal then its trajectory can be computed using the following formula:\n",
        "\n",
        "$y = x\\tan\\alpha - \\frac{gx^2}{2v^2\\cos^2\\alpha}$.\n",
        "\n",
        "Plot the trajectory of an object for a specified $v$ and $\\alpha$, experiment with different values of $\\alpha$ by ploting multiple trajectories on the same plot.\n",
        "\n",
        "Hint: np.linspace(start, end, N) function creates a numpy array with N numbers equally spaced between start and end"
      ]
    },
    {
      "cell_type": "code",
      "source": [
        "import math"
      ],
      "metadata": {
        "id": "RSr1H_lNs9us"
      },
      "id": "RSr1H_lNs9us",
      "execution_count": 1,
      "outputs": []
    },
    {
      "cell_type": "code",
      "execution_count": 16,
      "id": "ca216505",
      "metadata": {
        "id": "ca216505",
        "colab": {
          "base_uri": "https://localhost:8080/"
        },
        "outputId": "c93c0628-df45-4868-840c-0a8344a953dd"
      },
      "outputs": [
        {
          "output_type": "execute_result",
          "data": {
            "text/plain": [
              "array([0., 1., 2., 3., 4., 5., 6., 7., 8., 9.])"
            ]
          },
          "metadata": {},
          "execution_count": 16
        }
      ],
      "source": [
        "x = np.linspace(0,9,10, dtype = float)\n",
        "x"
      ]
    },
    {
      "cell_type": "code",
      "execution_count": 23,
      "id": "25299d9e",
      "metadata": {
        "id": "25299d9e",
        "colab": {
          "base_uri": "https://localhost:8080/"
        },
        "outputId": "6b804381-0327-4ae9-efc3-20d7b2fa4315"
      },
      "outputs": [
        {
          "output_type": "execute_result",
          "data": {
            "text/plain": [
              "array([ 0.        ,  0.5106836 ,  0.88803387,  1.13205081,  1.24273441,\n",
              "        1.22008468,  1.06410162,  0.77478522,  0.35213549, -0.20384758])"
            ]
          },
          "metadata": {},
          "execution_count": 23
        }
      ],
      "source": [
        "v = 10\n",
        "angle = math.radians(30)\n",
        "\n",
        "g = 10\n",
        "tan = math.tan(angle)\n",
        "cos = math.cos(angle)\n",
        "y = x*tan - g*(x**2)/(2*(v**2)*(cos**2))\n",
        "y"
      ]
    },
    {
      "cell_type": "code",
      "source": [
        "angle = math.radians(60)\n",
        "\n",
        "g = 10\n",
        "tan = math.tan(angle)\n",
        "cos = math.cos(angle)\n",
        "y1 = x*tan - g*(x**2)/(2*(v**2)*(cos**2))\n",
        "y1"
      ],
      "metadata": {
        "id": "U6w3DN81iCRX",
        "outputId": "5ec12aac-d356-45a6-a7cf-80e54dc4d8ab",
        "colab": {
          "base_uri": "https://localhost:8080/"
        }
      },
      "id": "U6w3DN81iCRX",
      "execution_count": 25,
      "outputs": [
        {
          "output_type": "execute_result",
          "data": {
            "text/plain": [
              "array([ 0.        ,  1.53205081,  2.66410162,  3.39615242,  3.72820323,\n",
              "        3.66025404,  3.19230485,  2.32435565,  1.05640646, -0.61154273])"
            ]
          },
          "metadata": {},
          "execution_count": 25
        }
      ]
    },
    {
      "cell_type": "code",
      "source": [
        "import matplotlib.pyplot as plt"
      ],
      "metadata": {
        "id": "_jkThw2VhK5U"
      },
      "id": "_jkThw2VhK5U",
      "execution_count": 18,
      "outputs": []
    },
    {
      "cell_type": "code",
      "source": [
        "plt.plot(y)\n",
        "plt.plot(y1)"
      ],
      "metadata": {
        "id": "TajBZpeOg88l",
        "outputId": "92777f0d-9579-4e71-dcc8-eec755cd5196",
        "colab": {
          "base_uri": "https://localhost:8080/",
          "height": 447
        }
      },
      "id": "TajBZpeOg88l",
      "execution_count": 26,
      "outputs": [
        {
          "output_type": "execute_result",
          "data": {
            "text/plain": [
              "[<matplotlib.lines.Line2D at 0x7bb90b1a6fb0>]"
            ]
          },
          "metadata": {},
          "execution_count": 26
        },
        {
          "output_type": "display_data",
          "data": {
            "text/plain": [
              "<Figure size 640x480 with 1 Axes>"
            ],
            "image/png": "[encoded data removed]"
          },
          "metadata": {}
        }
      ]
    },
    {
      "cell_type": "code",
      "source": [
        "tan = math.tan(angle)\n",
        "cos = math.cos(angle)\n",
        "print(cos)\n",
        "print(tan)"
      ],
      "metadata": {
        "id": "d-3ccyJNtHIT",
        "outputId": "0c26513e-0921-4066-bfb6-47238ef5a071",
        "colab": {
          "base_uri": "https://localhost:8080/"
        }
      },
      "id": "d-3ccyJNtHIT",
      "execution_count": 39,
      "outputs": [
        {
          "output_type": "stream",
          "name": "stdout",
          "text": [
            "0.5000000000000001\n",
            "1.7320508075688767\n"
          ]
        }
      ]
    }
  ],
  "metadata": {
    "kernelspec": {
      "display_name": "Python 3 (ipykernel)",
      "language": "python",
      "name": "python3"
    },
    "language_info": {
      "codemirror_mode": {
        "name": "ipython",
        "version": 3
      },
      "file_extension": ".py",
      "mimetype": "text/x-python",
      "name": "python",
      "nbconvert_exporter": "python",
      "pygments_lexer": "ipython3",
      "version": "3.11.5"
    },
    "colab": {
      "provenance": [],
      "include_colab_link": true
    }
  },
  "nbformat": 4,
  "nbformat_minor": 5
}