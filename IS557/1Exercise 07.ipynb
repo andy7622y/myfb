{
  "cells": [
    {
      "cell_type": "markdown",
      "metadata": {
        "id": "view-in-github",
        "colab_type": "text"
      },
      "source": [
        "<a href=\"https://colab.research.google.com/github/andy7622y/myfb/blob/main/IS557/1Exercise%2007.ipynb\" target=\"_parent\"><img src=\"https://colab.research.google.com/assets/colab-badge.svg\" alt=\"Open In Colab\"/></a>"
      ]
    },
    {
      "cell_type": "markdown",
      "id": "bbe2ee56",
      "metadata": {
        "id": "bbe2ee56"
      },
      "source": [
        "# For these tasks try to make your code as concise as possible. Try to avoid using for loops"
      ]
    },
    {
      "cell_type": "markdown",
      "id": "2b0bfd45",
      "metadata": {
        "id": "2b0bfd45"
      },
      "source": [
        "## Create an numpy array of length 100 with 0s on all even position and 3s on all odd positions"
      ]
    },
    {
      "cell_type": "code",
      "execution_count": 1,
      "id": "fe30382a",
      "metadata": {
        "id": "fe30382a"
      },
      "outputs": [],
      "source": [
        "import numpy as np"
      ]
    },
    {
      "cell_type": "code",
      "source": [
        "a = np.zeros(100,dtype = int)\n",
        "a[::2] = 3\n",
        "a"
      ],
      "metadata": {
        "colab": {
          "base_uri": "https://localhost:8080/"
        },
        "id": "-nFMaB_VuFV3",
        "outputId": "2e742101-c92b-43d7-bc04-1f3c92bd7580"
      },
      "id": "-nFMaB_VuFV3",
      "execution_count": null,
      "outputs": [
        {
          "output_type": "execute_result",
          "data": {
            "text/plain": [
              "array([3, 0, 3, 0, 3, 0, 3, 0, 3, 0, 3, 0, 3, 0, 3, 0, 3, 0, 3, 0, 3, 0,\n",
              "       3, 0, 3, 0, 3, 0, 3, 0, 3, 0, 3, 0, 3, 0, 3, 0, 3, 0, 3, 0, 3, 0,\n",
              "       3, 0, 3, 0, 3, 0, 3, 0, 3, 0, 3, 0, 3, 0, 3, 0, 3, 0, 3, 0, 3, 0,\n",
              "       3, 0, 3, 0, 3, 0, 3, 0, 3, 0, 3, 0, 3, 0, 3, 0, 3, 0, 3, 0, 3, 0,\n",
              "       3, 0, 3, 0, 3, 0, 3, 0, 3, 0, 3, 0])"
            ]
          },
          "metadata": {},
          "execution_count": 2
        }
      ]
    },
    {
      "cell_type": "markdown",
      "id": "0a870d1c",
      "metadata": {
        "id": "0a870d1c"
      },
      "source": [
        "## Create a numpy array containing number from 100 to 200\n",
        "Hint: there is a special function for that similar to range for lists"
      ]
    },
    {
      "cell_type": "code",
      "execution_count": null,
      "id": "934be0f0",
      "metadata": {
        "colab": {
          "base_uri": "https://localhost:8080/"
        },
        "id": "934be0f0",
        "outputId": "18bba1f8-dca6-42ef-8324-0959837f7abd"
      },
      "outputs": [
        {
          "output_type": "execute_result",
          "data": {
            "text/plain": [
              "array([100, 101, 102, 103, 104, 105, 106, 107, 108, 109, 110, 111, 112,\n",
              "       113, 114, 115, 116, 117, 118, 119, 120, 121, 122, 123, 124, 125,\n",
              "       126, 127, 128, 129, 130, 131, 132, 133, 134, 135, 136, 137, 138,\n",
              "       139, 140, 141, 142, 143, 144, 145, 146, 147, 148, 149, 150, 151,\n",
              "       152, 153, 154, 155, 156, 157, 158, 159, 160, 161, 162, 163, 164,\n",
              "       165, 166, 167, 168, 169, 170, 171, 172, 173, 174, 175, 176, 177,\n",
              "       178, 179, 180, 181, 182, 183, 184, 185, 186, 187, 188, 189, 190,\n",
              "       191, 192, 193, 194, 195, 196, 197, 198, 199, 200])"
            ]
          },
          "metadata": {},
          "execution_count": 3
        }
      ],
      "source": [
        "np.arange(100,201)"
      ]
    },
    {
      "cell_type": "code",
      "execution_count": null,
      "id": "d56d33ea",
      "metadata": {
        "id": "d56d33ea"
      },
      "outputs": [],
      "source": []
    },
    {
      "cell_type": "markdown",
      "id": "8a299314",
      "metadata": {
        "id": "8a299314"
      },
      "source": [
        "## Compute a Euclidean distance between two points represented by numpy arrays"
      ]
    },
    {
      "cell_type": "code",
      "execution_count": null,
      "id": "7891c703",
      "metadata": {
        "colab": {
          "base_uri": "https://localhost:8080/"
        },
        "id": "7891c703",
        "outputId": "b130573d-e57b-4fb9-b16f-800eae306db1"
      },
      "outputs": [
        {
          "output_type": "execute_result",
          "data": {
            "text/plain": [
              "2.23606797749979"
            ]
          },
          "metadata": {},
          "execution_count": 20
        }
      ],
      "source": [
        "a = np.array((3,4))\n",
        "b = np.array((2,2))\n",
        "dist = np.linalg.norm(a-b)\n",
        "dist"
      ]
    },
    {
      "cell_type": "markdown",
      "id": "412b77f6",
      "metadata": {
        "id": "412b77f6"
      },
      "source": [
        "## Create a 4x6 array containing 1s on the borders and 0s inside"
      ]
    },
    {
      "cell_type": "code",
      "execution_count": 2,
      "id": "7f04c387",
      "metadata": {
        "colab": {
          "base_uri": "https://localhost:8080/"
        },
        "id": "7f04c387",
        "outputId": "9984f907-9d1a-4e74-f053-d1e50fe16473"
      },
      "outputs": [
        {
          "output_type": "execute_result",
          "data": {
            "text/plain": [
              "array([[1, 1, 1, 1, 1, 1],\n",
              "       [1, 0, 0, 0, 0, 1],\n",
              "       [1, 0, 0, 0, 0, 1],\n",
              "       [1, 0, 0, 0, 0, 1],\n",
              "       [1, 0, 0, 0, 0, 1],\n",
              "       [1, 0, 0, 0, 0, 1],\n",
              "       [1, 1, 1, 1, 1, 1]])"
            ]
          },
          "metadata": {},
          "execution_count": 2
        }
      ],
      "source": [
        "I = 7\n",
        "J = 6\n",
        "b = np.zeros((I,J),dtype = int)\n",
        "for i in range(I):\n",
        "  if i == 0 or i == I-1:\n",
        "    for j in range(J):\n",
        "      b[i][j] = 1\n",
        "  else:\n",
        "      b[i][0] = 1\n",
        "      b[i][-1] = 1\n",
        "\n",
        "b"
      ]
    },
    {
      "cell_type": "markdown",
      "id": "2e29914a",
      "metadata": {
        "id": "2e29914a"
      },
      "source": [
        "## Swap the first and the third rows of this array"
      ]
    },
    {
      "cell_type": "code",
      "execution_count": 3,
      "id": "8815415d",
      "metadata": {
        "id": "8815415d",
        "colab": {
          "base_uri": "https://localhost:8080/"
        },
        "outputId": "65ead10d-62de-4e69-a4fb-726297085c0d"
      },
      "outputs": [
        {
          "output_type": "execute_result",
          "data": {
            "text/plain": [
              "array([[1, 0, 0, 0, 0, 1],\n",
              "       [1, 0, 0, 0, 0, 1],\n",
              "       [1, 1, 1, 1, 1, 1],\n",
              "       [1, 0, 0, 0, 0, 1],\n",
              "       [1, 0, 0, 0, 0, 1],\n",
              "       [1, 0, 0, 0, 0, 1],\n",
              "       [1, 1, 1, 1, 1, 1]])"
            ]
          },
          "metadata": {},
          "execution_count": 3
        }
      ],
      "source": [
        "b[[0,2]] = b[[2,0]] # subsitute\n",
        "b"
      ]
    },
    {
      "cell_type": "markdown",
      "id": "f2c67328",
      "metadata": {
        "id": "f2c67328"
      },
      "source": [
        "## Create a 8x8 array to represent a chess board, such as that 0s correspond to white squares and 1s to black squares"
      ]
    },
    {
      "cell_type": "code",
      "execution_count": 11,
      "id": "7da3014c",
      "metadata": {
        "id": "7da3014c",
        "colab": {
          "base_uri": "https://localhost:8080/"
        },
        "outputId": "b2d06e4e-a9ec-45b6-f9fb-2c7e2c87e726"
      },
      "outputs": [
        {
          "output_type": "execute_result",
          "data": {
            "text/plain": [
              "array([[1, 0, 1, 0, 1, 0, 1, 0],\n",
              "       [0, 1, 0, 1, 0, 1, 0, 1],\n",
              "       [1, 0, 1, 0, 1, 0, 1, 0],\n",
              "       [0, 1, 0, 1, 0, 1, 0, 1],\n",
              "       [1, 0, 1, 0, 1, 0, 1, 0],\n",
              "       [0, 1, 0, 1, 0, 1, 0, 1],\n",
              "       [1, 0, 1, 0, 1, 0, 1, 0],\n",
              "       [0, 1, 0, 1, 0, 1, 0, 1]])"
            ]
          },
          "metadata": {},
          "execution_count": 11
        }
      ],
      "source": [
        "c = np.zeros((8,8), dtype = int)\n",
        "c[::2,::2]=1\n",
        "c[1::2,1::2]=1\n",
        "c"
      ]
    },
    {
      "cell_type": "code",
      "source": [
        "c[]"
      ],
      "metadata": {
        "id": "uSt0DvaYrfmL"
      },
      "id": "uSt0DvaYrfmL",
      "execution_count": null,
      "outputs": []
    },
    {
      "cell_type": "code",
      "execution_count": null,
      "id": "e310c1cf",
      "metadata": {
        "id": "e310c1cf",
        "colab": {
          "base_uri": "https://localhost:8080/"
        },
        "outputId": "a8ec6dbf-1b33-4b0a-9866-29c9b4cfcb8f"
      },
      "outputs": [
        {
          "output_type": "execute_result",
          "data": {
            "text/plain": [
              "array([[3, 3, 3, 3, 3, 3, 3, 3],\n",
              "       [3, 3, 3, 3, 3, 3, 3, 3],\n",
              "       [3, 3, 3, 3, 3, 3, 3, 3],\n",
              "       [3, 3, 3, 3, 3, 3, 3, 3],\n",
              "       [3, 3, 3, 3, 3, 3, 3, 3],\n",
              "       [3, 3, 3, 3, 3, 3, 3, 3],\n",
              "       [3, 3, 3, 3, 3, 3, 3, 3],\n",
              "       [3, 3, 3, 3, 3, 3, 3, 3]])"
            ]
          },
          "metadata": {},
          "execution_count": 24
        }
      ],
      "source": [
        "d = np.ones((8,8), dtype = int)*3\n",
        "d"
      ]
    },
    {
      "cell_type": "markdown",
      "id": "2cae4daa",
      "metadata": {
        "id": "2cae4daa"
      },
      "source": [
        "## Ploting trajectory\n",
        "If an object is thrown into the air with a velocity $v$ and angle $\\alpha$ from horizontal then its trajectory can be computed using the following formula:\n",
        "\n",
        "$y = x\\tan\\alpha - \\frac{gx^2}{2v^2\\cos^2\\alpha}$.\n",
        "\n",
        "Plot the trajectory of an object for a specified $v$ and $\\alpha$, experiment with different values of $\\alpha$ by ploting multiple trajectories on the same plot.\n",
        "\n",
        "Hint: np.linspace(start, end, N) function creates a numpy array with N numbers equally spaced between start and end"
      ]
    },
    {
      "cell_type": "code",
      "source": [
        "import math"
      ],
      "metadata": {
        "id": "RSr1H_lNs9us"
      },
      "id": "RSr1H_lNs9us",
      "execution_count": 17,
      "outputs": []
    },
    {
      "cell_type": "code",
      "execution_count": 18,
      "id": "ca216505",
      "metadata": {
        "id": "ca216505",
        "colab": {
          "base_uri": "https://localhost:8080/"
        },
        "outputId": "f29d489f-578f-4e28-f50f-43bfe36425d1"
      },
      "outputs": [
        {
          "output_type": "execute_result",
          "data": {
            "text/plain": [
              "array([0.        , 0.09090909, 0.18181818, 0.27272727, 0.36363636,\n",
              "       0.45454545, 0.54545455, 0.63636364, 0.72727273, 0.81818182,\n",
              "       0.90909091, 1.        , 1.09090909, 1.18181818, 1.27272727,\n",
              "       1.36363636, 1.45454545, 1.54545455, 1.63636364, 1.72727273,\n",
              "       1.81818182, 1.90909091, 2.        , 2.09090909, 2.18181818,\n",
              "       2.27272727, 2.36363636, 2.45454545, 2.54545455, 2.63636364,\n",
              "       2.72727273, 2.81818182, 2.90909091, 3.        , 3.09090909,\n",
              "       3.18181818, 3.27272727, 3.36363636, 3.45454545, 3.54545455,\n",
              "       3.63636364, 3.72727273, 3.81818182, 3.90909091, 4.        ,\n",
              "       4.09090909, 4.18181818, 4.27272727, 4.36363636, 4.45454545,\n",
              "       4.54545455, 4.63636364, 4.72727273, 4.81818182, 4.90909091,\n",
              "       5.        , 5.09090909, 5.18181818, 5.27272727, 5.36363636,\n",
              "       5.45454545, 5.54545455, 5.63636364, 5.72727273, 5.81818182,\n",
              "       5.90909091, 6.        , 6.09090909, 6.18181818, 6.27272727,\n",
              "       6.36363636, 6.45454545, 6.54545455, 6.63636364, 6.72727273,\n",
              "       6.81818182, 6.90909091, 7.        , 7.09090909, 7.18181818,\n",
              "       7.27272727, 7.36363636, 7.45454545, 7.54545455, 7.63636364,\n",
              "       7.72727273, 7.81818182, 7.90909091, 8.        , 8.09090909,\n",
              "       8.18181818, 8.27272727, 8.36363636, 8.45454545, 8.54545455,\n",
              "       8.63636364, 8.72727273, 8.81818182, 8.90909091, 9.        ])"
            ]
          },
          "metadata": {},
          "execution_count": 18
        }
      ],
      "source": [
        "x = np.linspace(0,9,100)\n",
        "x"
      ]
    },
    {
      "cell_type": "code",
      "execution_count": 19,
      "id": "25299d9e",
      "metadata": {
        "id": "25299d9e",
        "colab": {
          "base_uri": "https://localhost:8080/"
        },
        "outputId": "36346a15-abec-4adc-d331-202754cda6f3"
      },
      "outputs": [
        {
          "output_type": "execute_result",
          "data": {
            "text/plain": [
              "array([ 0.        ,  0.05193542,  0.10276892,  0.15250049,  0.20113013,\n",
              "        0.24865784,  0.29508362,  0.34040747,  0.3846294 ,  0.42774939,\n",
              "        0.46976746,  0.5106836 ,  0.55049781,  0.5892101 ,  0.62682045,\n",
              "        0.66332888,  0.69873538,  0.73303995,  0.76624259,  0.7983433 ,\n",
              "        0.82934209,  0.85923894,  0.88803387,  0.91572687,  0.94231794,\n",
              "        0.96780709,  0.9921943 ,  1.01547959,  1.03766294,  1.05874437,\n",
              "        1.07872387,  1.09760145,  1.11537709,  1.13205081,  1.1476226 ,\n",
              "        1.16209245,  1.17546039,  1.18772639,  1.19889046,  1.20895261,\n",
              "        1.21791282,  1.22577111,  1.23252747,  1.23818191,  1.24273441,\n",
              "        1.24618499,  1.24853363,  1.24978035,  1.24992514,  1.248968  ,\n",
              "        1.24690894,  1.24374794,  1.23948502,  1.23412017,  1.22765339,\n",
              "        1.22008468,  1.21141404,  1.20164148,  1.19076698,  1.17879056,\n",
              "        1.16571221,  1.15153193,  1.13624973,  1.11986559,  1.10237953,\n",
              "        1.08379154,  1.06410162,  1.04330977,  1.02141599,  0.99842028,\n",
              "        0.97432265,  0.94912309,  0.9228216 ,  0.89541818,  0.86691283,\n",
              "        0.83730555,  0.80659635,  0.77478522,  0.74187216,  0.70785717,\n",
              "        0.67274025,  0.6365214 ,  0.59920063,  0.56077793,  0.5212533 ,\n",
              "        0.48062674,  0.43889825,  0.39606783,  0.35213549,  0.30710121,\n",
              "        0.26096501,  0.21372688,  0.16538682,  0.11594484,  0.06540092,\n",
              "        0.01375508, -0.03899269, -0.09284239, -0.14779402, -0.20384758])"
            ]
          },
          "metadata": {},
          "execution_count": 19
        }
      ],
      "source": [
        "v = 10\n",
        "angle = math.radians(30)\n",
        "\n",
        "g = 10\n",
        "tan = math.tan(angle)\n",
        "cos = math.cos(angle)\n",
        "y = x*tan - g*(x**2)/(2*(v**2)*(cos**2))\n",
        "y"
      ]
    },
    {
      "cell_type": "code",
      "source": [
        "angle = math.radians(60)\n",
        "\n",
        "g = 10\n",
        "tan = math.tan(angle)\n",
        "cos = math.cos(angle)\n",
        "y1 = x*tan - g*(x**2)/(2*(v**2)*(cos**2))\n",
        "y1"
      ],
      "metadata": {
        "id": "U6w3DN81iCRX",
        "outputId": "9b6bb508-b90e-4ccc-8541-074bee5056bb",
        "colab": {
          "base_uri": "https://localhost:8080/"
        }
      },
      "id": "U6w3DN81iCRX",
      "execution_count": 20,
      "outputs": [
        {
          "output_type": "execute_result",
          "data": {
            "text/plain": [
              "array([ 0.        ,  0.15580627,  0.30830676,  0.45750146,  0.60339038,\n",
              "        0.74597351,  0.88525085,  1.02122241,  1.15388819,  1.28324818,\n",
              "        1.40930239,  1.53205081,  1.65149344,  1.76763029,  1.88046136,\n",
              "        1.98998664,  2.09620613,  2.19911984,  2.29872777,  2.39502991,\n",
              "        2.48802626,  2.57771683,  2.66410162,  2.74718061,  2.82695383,\n",
              "        2.90342126,  2.9765829 ,  3.04643876,  3.11298883,  3.17623312,\n",
              "        3.23617162,  3.29280434,  3.34613127,  3.39615242,  3.44286779,\n",
              "        3.48627736,  3.52638116,  3.56317916,  3.59667138,  3.62685782,\n",
              "        3.65373847,  3.67731334,  3.69758242,  3.71454572,  3.72820323,\n",
              "        3.73855496,  3.7456009 ,  3.74934105,  3.74977542,  3.74690401,\n",
              "        3.74072681,  3.73124383,  3.71845506,  3.7023605 ,  3.68296016,\n",
              "        3.66025404,  3.63424213,  3.60492443,  3.57230095,  3.53637169,\n",
              "        3.49713664,  3.4545958 ,  3.40874918,  3.35959677,  3.30713858,\n",
              "        3.25137461,  3.19230485,  3.1299293 ,  3.06424797,  2.99526085,\n",
              "        2.92296795,  2.84736926,  2.76846479,  2.68625453,  2.60073849,\n",
              "        2.51191666,  2.41978905,  2.32435565,  2.22561647,  2.1235715 ,\n",
              "        2.01822075,  1.90956421,  1.79760189,  1.68233378,  1.56375989,\n",
              "        1.44188021,  1.31669474,  1.18820349,  1.05640646,  0.92130364,\n",
              "        0.78289504,  0.64118065,  0.49616047,  0.34783451,  0.19620277,\n",
              "        0.04126524, -0.11697808, -0.27852718, -0.44338206, -0.61154273])"
            ]
          },
          "metadata": {},
          "execution_count": 20
        }
      ]
    },
    {
      "cell_type": "code",
      "source": [
        "import matplotlib.pyplot as plt"
      ],
      "metadata": {
        "id": "_jkThw2VhK5U"
      },
      "id": "_jkThw2VhK5U",
      "execution_count": 21,
      "outputs": []
    },
    {
      "cell_type": "code",
      "source": [
        "plt.plot(y)\n",
        "plt.plot(y1)"
      ],
      "metadata": {
        "id": "TajBZpeOg88l",
        "outputId": "87d2e428-65ac-4e11-f09c-dea5f1f78226",
        "colab": {
          "base_uri": "https://localhost:8080/",
          "height": 447
        }
      },
      "id": "TajBZpeOg88l",
      "execution_count": 22,
      "outputs": [
        {
          "output_type": "execute_result",
          "data": {
            "text/plain": [
              "[<matplotlib.lines.Line2D at 0x7dd4bdd5c040>]"
            ]
          },
          "metadata": {},
          "execution_count": 22
        },
        {
          "output_type": "display_data",
          "data": {
            "text/plain": [
              "<Figure size 640x480 with 1 Axes>"
            ],
            "image/png": "[encoded data removed]"
          },
          "metadata": {}
        }
      ]
    },
    {
      "cell_type": "code",
      "source": [
        "tan = math.tan(angle)\n",
        "cos = math.cos(angle)\n",
        "print(cos)\n",
        "print(tan)"
      ],
      "metadata": {
        "id": "d-3ccyJNtHIT",
        "outputId": "0c26513e-0921-4066-bfb6-47238ef5a071",
        "colab": {
          "base_uri": "https://localhost:8080/"
        }
      },
      "id": "d-3ccyJNtHIT",
      "execution_count": null,
      "outputs": [
        {
          "output_type": "stream",
          "name": "stdout",
          "text": [
            "0.5000000000000001\n",
            "1.7320508075688767\n"
          ]
        }
      ]
    }
  ],
  "metadata": {
    "kernelspec": {
      "display_name": "Python 3 (ipykernel)",
      "language": "python",
      "name": "python3"
    },
    "language_info": {
      "codemirror_mode": {
        "name": "ipython",
        "version": 3
      },
      "file_extension": ".py",
      "mimetype": "text/x-python",
      "name": "python",
      "nbconvert_exporter": "python",
      "pygments_lexer": "ipython3",
      "version": "3.11.5"
    },
    "colab": {
      "provenance": [],
      "include_colab_link": true
    }
  },
  "nbformat": 4,
  "nbformat_minor": 5
}