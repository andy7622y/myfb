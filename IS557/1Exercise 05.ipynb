{
  "cells": [
    {
      "cell_type": "markdown",
      "id": "f6cccd81",
      "metadata": {
        "id": "f6cccd81"
      },
      "source": [
        "## Working with files"
      ]
    },
    {
      "cell_type": "markdown",
      "id": "4410af2b",
      "metadata": {
        "id": "4410af2b"
      },
      "source": [
        "Create a function called copy_file that takes two arguments: the source file path and the destination file path. The function should read the content of the source file line by line and write it to the destination file."
      ]
    },
    {
      "cell_type": "code",
      "execution_count": 2,
      "id": "50ab4d99",
      "metadata": {
        "id": "50ab4d99"
      },
      "outputs": [],
      "source": [
        "def copy_file(source_path, destination_path):\n",
        "  with open(source_path, 'r') as fs:\n",
        "    with open(destination_path, 'w') as f:\n",
        "      for line in fs:\n",
        "        f.write(line)\n"
      ]
    },
    {
      "cell_type": "code",
      "source": [],
      "metadata": {
        "id": "4eJCV4pnuCly"
      },
      "id": "4eJCV4pnuCly",
      "execution_count": null,
      "outputs": []
    },
    {
      "cell_type": "markdown",
      "id": "669dcb7d",
      "metadata": {
        "id": "669dcb7d"
      },
      "source": [
        "Read the contents of a text file into a string and store the string with pickle. Compare the file sizes of the pickle file with the original text."
      ]
    },
    {
      "cell_type": "code",
      "execution_count": 1,
      "id": "60f927c6",
      "metadata": {
        "id": "60f927c6"
      },
      "outputs": [],
      "source": [
        "import pickle"
      ]
    },
    {
      "cell_type": "code",
      "execution_count": 7,
      "id": "d74ab864",
      "metadata": {
        "colab": {
          "base_uri": "https://localhost:8080/"
        },
        "id": "d74ab864",
        "outputId": "7f0221cd-6b67-4a6b-ed8e-a9eb9f7faef0"
      },
      "outputs": [
        {
          "output_type": "execute_result",
          "data": {
            "text/plain": [
              "<function TextIOWrapper.close()>"
            ]
          },
          "metadata": {},
          "execution_count": 7
        }
      ],
      "source": [
        "f = open('new_text', 'w')\n",
        "f.write('Read the contents of a text file into a string and store the string with pickle.')\n",
        "f.close"
      ]
    },
    {
      "cell_type": "code",
      "source": [
        "with open('new_text', 'r') as fs:\n",
        "  a = fs.read()\n",
        "  print(a)\n",
        "print(len(a))"
      ],
      "metadata": {
        "colab": {
          "base_uri": "https://localhost:8080/"
        },
        "id": "AclF_qODvE5g",
        "outputId": "d8cc3fd2-2c00-4001-a15c-7bd94926ea4b"
      },
      "id": "AclF_qODvE5g",
      "execution_count": 10,
      "outputs": [
        {
          "output_type": "stream",
          "name": "stdout",
          "text": [
            "Read the contents of a text file into a string and store the string with pickle.\n",
            "80\n"
          ]
        }
      ]
    },
    {
      "cell_type": "code",
      "source": [
        "with open('new_pickle', 'wb') as pi:\n",
        "  pickle.dump(a, pi)\n",
        "\n",
        "with open('new_pickle', 'rb') as pi:\n",
        "  b = pi.read()\n",
        "print(len(b))"
      ],
      "metadata": {
        "colab": {
          "base_uri": "https://localhost:8080/"
        },
        "id": "C1fkrsJlvdRJ",
        "outputId": "91467d1c-7481-467e-e8cb-315562d7da8f"
      },
      "id": "C1fkrsJlvdRJ",
      "execution_count": 11,
      "outputs": [
        {
          "output_type": "stream",
          "name": "stdout",
          "text": [
            "95\n"
          ]
        }
      ]
    },
    {
      "cell_type": "markdown",
      "id": "927a66ec",
      "metadata": {
        "id": "927a66ec"
      },
      "source": [
        "Write a function that reads the content of a text file, encrypts it using a simple Caesar cipher with a user-specified shift value, and saves the encrypted content to a new file. Write another function that reads the encrypted file, decrypts the content using the shift value, and prints the decrypted content.\n",
        "\n",
        "*Caesar cipher — is a type of substitution cipher in which each letter in the plaintext is replaced by a letter some fixed number of positions down the alphabet. For example, with a shift value of 3, A would be replaced by D, B would become E, and so on.*"
      ]
    },
    {
      "cell_type": "code",
      "execution_count": null,
      "id": "ec28575d",
      "metadata": {
        "id": "ec28575d"
      },
      "outputs": [],
      "source": []
    },
    {
      "cell_type": "code",
      "execution_count": null,
      "id": "90aa6ae2",
      "metadata": {
        "id": "90aa6ae2"
      },
      "outputs": [],
      "source": []
    },
    {
      "cell_type": "markdown",
      "id": "dae0bbbc",
      "metadata": {
        "id": "dae0bbbc"
      },
      "source": [
        "# Datetime\n",
        "Write a function to determine the time difference between two timezones."
      ]
    },
    {
      "cell_type": "code",
      "execution_count": 12,
      "id": "002bbf98",
      "metadata": {
        "id": "002bbf98"
      },
      "outputs": [],
      "source": [
        "import datetime"
      ]
    },
    {
      "cell_type": "code",
      "source": [
        "now = datetime.datetime.now()"
      ],
      "metadata": {
        "id": "bN7nN8cJHkM0"
      },
      "id": "bN7nN8cJHkM0",
      "execution_count": 5,
      "outputs": []
    },
    {
      "cell_type": "code",
      "execution_count": 19,
      "id": "872186b7",
      "metadata": {
        "colab": {
          "base_uri": "https://localhost:8080/"
        },
        "id": "872186b7",
        "outputId": "301b2bea-482a-4f75-ddf1-2659c408939f"
      },
      "outputs": [
        {
          "output_type": "stream",
          "name": "stdout",
          "text": [
            "beijing_time: 2024-10-09 19:51:13.770149+08:00\n",
            "berlin_time: 2024-10-09 13:51:13.770149+02:00\n",
            "0:00:00\n"
          ]
        }
      ],
      "source": [
        "beijing_time = datetime.timezone(datetime.timedelta(hours = 8))\n",
        "berlin_time = datetime.timezone(datetime.timedelta(hours = 2))\n",
        "beijing_now = now.astimezone(beijing_time)\n",
        "berlin_now = now.astimezone(berlin_time)\n",
        "print(f'beijing_time: {beijing_now}')\n",
        "print(f'berlin_time: {berlin_now}')\n",
        "print(beijing_now - berlin_now)"
      ]
    },
    {
      "cell_type": "markdown",
      "id": "9b17b34c",
      "metadata": {
        "id": "9b17b34c"
      },
      "source": [
        "Write a function to determine the number of days between today and your next birthday"
      ]
    },
    {
      "cell_type": "code",
      "execution_count": 15,
      "id": "a8fbb228",
      "metadata": {
        "id": "a8fbb228"
      },
      "outputs": [],
      "source": [
        "today = datetime.date.today()"
      ]
    },
    {
      "cell_type": "code",
      "execution_count": 14,
      "id": "51df206d",
      "metadata": {
        "id": "51df206d"
      },
      "outputs": [],
      "source": [
        "birthday = datetime.date(2025,5,10)"
      ]
    },
    {
      "cell_type": "markdown",
      "id": "d45dd7f4",
      "metadata": {
        "id": "d45dd7f4"
      },
      "source": [
        "Write a function that lists the dates of all Sundays of a given year"
      ]
    },
    {
      "cell_type": "code",
      "execution_count": 16,
      "id": "34a7691a",
      "metadata": {
        "colab": {
          "base_uri": "https://localhost:8080/"
        },
        "id": "34a7691a",
        "outputId": "e1712d94-7acf-4c1f-d64e-3b1638bd3233"
      },
      "outputs": [
        {
          "output_type": "stream",
          "name": "stdout",
          "text": [
            "213 days, 0:00:00\n"
          ]
        }
      ],
      "source": [
        "print(birthday - today)"
      ]
    },
    {
      "cell_type": "code",
      "execution_count": null,
      "id": "78b5e70f",
      "metadata": {
        "id": "78b5e70f"
      },
      "outputs": [],
      "source": []
    },
    {
      "cell_type": "markdown",
      "id": "08af2ced",
      "metadata": {
        "id": "08af2ced"
      },
      "source": [
        "Write a Python function to count the number of times Friday was the 13st day of the month in a given year\n",
        "\n",
        "\n",
        "\n",
        "\n"
      ]
    },
    {
      "cell_type": "code",
      "execution_count": 13,
      "id": "fe60ca1d",
      "metadata": {
        "id": "fe60ca1d"
      },
      "outputs": [],
      "source": [
        "def check_Friday(year: int):\n",
        "  # check every 13th in a month\n",
        "  res = 0\n",
        "  for month in range(1,13):\n",
        "    the_date = datetime.date(year, month, 13)\n",
        "    if the_date.weekday() == 4:\n",
        "      res += 1\n",
        "  return res"
      ]
    },
    {
      "cell_type": "code",
      "execution_count": 15,
      "id": "d6601997",
      "metadata": {
        "colab": {
          "base_uri": "https://localhost:8080/"
        },
        "id": "d6601997",
        "outputId": "581d72a8-b8fd-4df9-f254-6391b78c1377"
      },
      "outputs": [
        {
          "output_type": "execute_result",
          "data": {
            "text/plain": [
              "1"
            ]
          },
          "metadata": {},
          "execution_count": 15
        }
      ],
      "source": [
        "check_Friday(1994)"
      ]
    },
    {
      "cell_type": "markdown",
      "id": "06e7e292",
      "metadata": {
        "id": "06e7e292"
      },
      "source": [
        "## Random numbers"
      ]
    },
    {
      "cell_type": "markdown",
      "id": "b4894df6",
      "metadata": {
        "id": "b4894df6"
      },
      "source": [
        "Write a function that generates a random password with a user-specified length. The password should contain a mix of uppercase letters, lowercase letters, digits, and special characters. Ensure that the generated password contains at least one character from each category.\n",
        "\n",
        "*Hint: you might want to use [string](https://docs.python.org/3/library/string.html) module*"
      ]
    },
    {
      "cell_type": "code",
      "execution_count": 10,
      "id": "f2ca0361",
      "metadata": {
        "id": "f2ca0361"
      },
      "outputs": [],
      "source": [
        "import string\n",
        "import random\n",
        "\n",
        "def get_password(length: int):\n",
        "  # prepare all kinds of password\n",
        "  special = string.punctuation\n",
        "  lower = string.ascii_lowercase\n",
        "  upper = string.ascii_uppercase\n",
        "  digits = string.digits\n",
        "\n",
        "  # prepare 4 kinds\n",
        "  password = [random.choice(special), random.choice(lower), random.choice(upper), random.choice(digits)]\n",
        "\n",
        "  # prepare others\n",
        "  all = special + lower + upper + digits\n",
        "  password.extend(random.choices(all, k= length - 4))\n",
        "\n",
        "  #output\n",
        "  random.shuffle(password)\n",
        "  print(''.join(password))"
      ]
    },
    {
      "cell_type": "code",
      "source": [
        "get_password(8)"
      ],
      "metadata": {
        "id": "DG4GfPdiA0lg",
        "outputId": "251eb77e-64dc-4d73-cdd6-cf1de920f939",
        "colab": {
          "base_uri": "https://localhost:8080/"
        }
      },
      "id": "DG4GfPdiA0lg",
      "execution_count": 11,
      "outputs": [
        {
          "output_type": "stream",
          "name": "stdout",
          "text": [
            "zn|L`4*M\n"
          ]
        }
      ]
    },
    {
      "cell_type": "code",
      "execution_count": 3,
      "id": "d12739e9",
      "metadata": {
        "colab": {
          "base_uri": "https://localhost:8080/"
        },
        "collapsed": true,
        "id": "d12739e9",
        "outputId": "89542a97-3d3b-4424-a7ff-6d0af28e8f81"
      },
      "outputs": [
        {
          "output_type": "stream",
          "name": "stdout",
          "text": [
            "Help on module random:\n",
            "\n",
            "NAME\n",
            "    random - Random variable generators.\n",
            "\n",
            "MODULE REFERENCE\n",
            "    https://docs.python.org/3.10/library/random.html\n",
            "    \n",
            "    The following documentation is automatically generated from the Python\n",
            "    source files.  It may be incomplete, incorrect or include features that\n",
            "    are considered implementation detail and may vary between Python\n",
            "    implementations.  When in doubt, consult the module reference at the\n",
            "    location listed above.\n",
            "\n",
            "DESCRIPTION\n",
            "        bytes\n",
            "        -----\n",
            "               uniform bytes (values between 0 and 255)\n",
            "    \n",
            "        integers\n",
            "        --------\n",
            "               uniform within range\n",
            "    \n",
            "        sequences\n",
            "        ---------\n",
            "               pick random element\n",
            "               pick random sample\n",
            "               pick weighted random sample\n",
            "               generate random permutation\n",
            "    \n",
            "        distributions on the real line:\n",
            "        ------------------------------\n",
            "               uniform\n",
            "               triangular\n",
            "               normal (Gaussian)\n",
            "               lognormal\n",
            "               negative exponential\n",
            "               gamma\n",
            "               beta\n",
            "               pareto\n",
            "               Weibull\n",
            "    \n",
            "        distributions on the circle (angles 0 to 2pi)\n",
            "        ---------------------------------------------\n",
            "               circular uniform\n",
            "               von Mises\n",
            "    \n",
            "    General notes on the underlying Mersenne Twister core generator:\n",
            "    \n",
            "    * The period is 2**19937-1.\n",
            "    * It is one of the most extensively tested generators in existence.\n",
            "    * The random() method is implemented in C, executes in a single Python step,\n",
            "      and is, therefore, threadsafe.\n",
            "\n",
            "CLASSES\n",
            "    _random.Random(builtins.object)\n",
            "        Random\n",
            "            SystemRandom\n",
            "    \n",
            "    class Random(_random.Random)\n",
            "     |  Random(x=None)\n",
            "     |  \n",
            "     |  Random number generator base class used by bound module functions.\n",
            "     |  \n",
            "     |  Used to instantiate instances of Random to get generators that don't\n",
            "     |  share state.\n",
            "     |  \n",
            "     |  Class Random can also be subclassed if you want to use a different basic\n",
            "     |  generator of your own devising: in that case, override the following\n",
            "     |  methods:  random(), seed(), getstate(), and setstate().\n",
            "     |  Optionally, implement a getrandbits() method so that randrange()\n",
            "     |  can cover arbitrarily large ranges.\n",
            "     |  \n",
            "     |  Method resolution order:\n",
            "     |      Random\n",
            "     |      _random.Random\n",
            "     |      builtins.object\n",
            "     |  \n",
            "     |  Methods defined here:\n",
            "     |  \n",
            "     |  __getstate__(self)\n",
            "     |      # Issue 17489: Since __reduce__ was defined to fix #759889 this is no\n",
            "     |      # longer called; we leave it here because it has been here since random was\n",
            "     |      # rewritten back in 2001 and why risk breaking something.\n",
            "     |  \n",
            "     |  __init__(self, x=None)\n",
            "     |      Initialize an instance.\n",
            "     |      \n",
            "     |      Optional argument x controls seeding, as for Random.seed().\n",
            "     |  \n",
            "     |  __reduce__(self)\n",
            "     |      Helper for pickle.\n",
            "     |  \n",
            "     |  __setstate__(self, state)\n",
            "     |  \n",
            "     |  betavariate(self, alpha, beta)\n",
            "     |      Beta distribution.\n",
            "     |      \n",
            "     |      Conditions on the parameters are alpha > 0 and beta > 0.\n",
            "     |      Returned values range between 0 and 1.\n",
            "     |  \n",
            "     |  choice(self, seq)\n",
            "     |      Choose a random element from a non-empty sequence.\n",
            "     |  \n",
            "     |  choices(self, population, weights=None, *, cum_weights=None, k=1)\n",
            "     |      Return a k sized list of population elements chosen with replacement.\n",
            "     |      \n",
            "     |      If the relative weights or cumulative weights are not specified,\n",
            "     |      the selections are made with equal probability.\n",
            "     |  \n",
            "     |  expovariate(self, lambd)\n",
            "     |      Exponential distribution.\n",
            "     |      \n",
            "     |      lambd is 1.0 divided by the desired mean.  It should be\n",
            "     |      nonzero.  (The parameter would be called \"lambda\", but that is\n",
            "     |      a reserved word in Python.)  Returned values range from 0 to\n",
            "     |      positive infinity if lambd is positive, and from negative\n",
            "     |      infinity to 0 if lambd is negative.\n",
            "     |  \n",
            "     |  gammavariate(self, alpha, beta)\n",
            "     |      Gamma distribution.  Not the gamma function!\n",
            "     |      \n",
            "     |      Conditions on the parameters are alpha > 0 and beta > 0.\n",
            "     |      \n",
            "     |      The probability distribution function is:\n",
            "     |      \n",
            "     |                  x ** (alpha - 1) * math.exp(-x / beta)\n",
            "     |        pdf(x) =  --------------------------------------\n",
            "     |                    math.gamma(alpha) * beta ** alpha\n",
            "     |  \n",
            "     |  gauss(self, mu, sigma)\n",
            "     |      Gaussian distribution.\n",
            "     |      \n",
            "     |      mu is the mean, and sigma is the standard deviation.  This is\n",
            "     |      slightly faster than the normalvariate() function.\n",
            "     |      \n",
            "     |      Not thread-safe without a lock around calls.\n",
            "     |  \n",
            "     |  getstate(self)\n",
            "     |      Return internal state; can be passed to setstate() later.\n",
            "     |  \n",
            "     |  lognormvariate(self, mu, sigma)\n",
            "     |      Log normal distribution.\n",
            "     |      \n",
            "     |      If you take the natural logarithm of this distribution, you'll get a\n",
            "     |      normal distribution with mean mu and standard deviation sigma.\n",
            "     |      mu can have any value, and sigma must be greater than zero.\n",
            "     |  \n",
            "     |  normalvariate(self, mu, sigma)\n",
            "     |      Normal distribution.\n",
            "     |      \n",
            "     |      mu is the mean, and sigma is the standard deviation.\n",
            "     |  \n",
            "     |  paretovariate(self, alpha)\n",
            "     |      Pareto distribution.  alpha is the shape parameter.\n",
            "     |  \n",
            "     |  randbytes(self, n)\n",
            "     |      Generate n random bytes.\n",
            "     |  \n",
            "     |  randint(self, a, b)\n",
            "     |      Return random integer in range [a, b], including both end points.\n",
            "     |  \n",
            "     |  randrange(self, start, stop=None, step=1)\n",
            "     |      Choose a random item from range(start, stop[, step]).\n",
            "     |      \n",
            "     |      This fixes the problem with randint() which includes the\n",
            "     |      endpoint; in Python this is usually not what you want.\n",
            "     |  \n",
            "     |  sample(self, population, k, *, counts=None)\n",
            "     |      Chooses k unique random elements from a population sequence or set.\n",
            "     |      \n",
            "     |      Returns a new list containing elements from the population while\n",
            "     |      leaving the original population unchanged.  The resulting list is\n",
            "     |      in selection order so that all sub-slices will also be valid random\n",
            "     |      samples.  This allows raffle winners (the sample) to be partitioned\n",
            "     |      into grand prize and second place winners (the subslices).\n",
            "     |      \n",
            "     |      Members of the population need not be hashable or unique.  If the\n",
            "     |      population contains repeats, then each occurrence is a possible\n",
            "     |      selection in the sample.\n",
            "     |      \n",
            "     |      Repeated elements can be specified one at a time or with the optional\n",
            "     |      counts parameter.  For example:\n",
            "     |      \n",
            "     |          sample(['red', 'blue'], counts=[4, 2], k=5)\n",
            "     |      \n",
            "     |      is equivalent to:\n",
            "     |      \n",
            "     |          sample(['red', 'red', 'red', 'red', 'blue', 'blue'], k=5)\n",
            "     |      \n",
            "     |      To choose a sample from a range of integers, use range() for the\n",
            "     |      population argument.  This is especially fast and space efficient\n",
            "     |      for sampling from a large population:\n",
            "     |      \n",
            "     |          sample(range(10000000), 60)\n",
            "     |  \n",
            "     |  seed(self, a=None, version=2)\n",
            "     |      Initialize internal state from a seed.\n",
            "     |      \n",
            "     |      The only supported seed types are None, int, float,\n",
            "     |      str, bytes, and bytearray.\n",
            "     |      \n",
            "     |      None or no argument seeds from current time or from an operating\n",
            "     |      system specific randomness source if available.\n",
            "     |      \n",
            "     |      If *a* is an int, all bits are used.\n",
            "     |      \n",
            "     |      For version 2 (the default), all of the bits are used if *a* is a str,\n",
            "     |      bytes, or bytearray.  For version 1 (provided for reproducing random\n",
            "     |      sequences from older versions of Python), the algorithm for str and\n",
            "     |      bytes generates a narrower range of seeds.\n",
            "     |  \n",
            "     |  setstate(self, state)\n",
            "     |      Restore internal state from object returned by getstate().\n",
            "     |  \n",
            "     |  shuffle(self, x, random=None)\n",
            "     |      Shuffle list x in place, and return None.\n",
            "     |      \n",
            "     |      Optional argument random is a 0-argument function returning a\n",
            "     |      random float in [0.0, 1.0); if it is the default None, the\n",
            "     |      standard random.random will be used.\n",
            "     |  \n",
            "     |  triangular(self, low=0.0, high=1.0, mode=None)\n",
            "     |      Triangular distribution.\n",
            "     |      \n",
            "     |      Continuous distribution bounded by given lower and upper limits,\n",
            "     |      and having a given mode value in-between.\n",
            "     |      \n",
            "     |      http://en.wikipedia.org/wiki/Triangular_distribution\n",
            "     |  \n",
            "     |  uniform(self, a, b)\n",
            "     |      Get a random number in the range [a, b) or [a, b] depending on rounding.\n",
            "     |  \n",
            "     |  vonmisesvariate(self, mu, kappa)\n",
            "     |      Circular data distribution.\n",
            "     |      \n",
            "     |      mu is the mean angle, expressed in radians between 0 and 2*pi, and\n",
            "     |      kappa is the concentration parameter, which must be greater than or\n",
            "     |      equal to zero.  If kappa is equal to zero, this distribution reduces\n",
            "     |      to a uniform random angle over the range 0 to 2*pi.\n",
            "     |  \n",
            "     |  weibullvariate(self, alpha, beta)\n",
            "     |      Weibull distribution.\n",
            "     |      \n",
            "     |      alpha is the scale parameter and beta is the shape parameter.\n",
            "     |  \n",
            "     |  ----------------------------------------------------------------------\n",
            "     |  Class methods defined here:\n",
            "     |  \n",
            "     |  __init_subclass__(**kwargs) from builtins.type\n",
            "     |      Control how subclasses generate random integers.\n",
            "     |      \n",
            "     |      The algorithm a subclass can use depends on the random() and/or\n",
            "     |      getrandbits() implementation available to it and determines\n",
            "     |      whether it can generate random integers from arbitrarily large\n",
            "     |      ranges.\n",
            "     |  \n",
            "     |  ----------------------------------------------------------------------\n",
            "     |  Data descriptors defined here:\n",
            "     |  \n",
            "     |  __dict__\n",
            "     |      dictionary for instance variables (if defined)\n",
            "     |  \n",
            "     |  __weakref__\n",
            "     |      list of weak references to the object (if defined)\n",
            "     |  \n",
            "     |  ----------------------------------------------------------------------\n",
            "     |  Data and other attributes defined here:\n",
            "     |  \n",
            "     |  VERSION = 3\n",
            "     |  \n",
            "     |  ----------------------------------------------------------------------\n",
            "     |  Methods inherited from _random.Random:\n",
            "     |  \n",
            "     |  getrandbits(self, k, /)\n",
            "     |      getrandbits(k) -> x.  Generates an int with k random bits.\n",
            "     |  \n",
            "     |  random(self, /)\n",
            "     |      random() -> x in the interval [0, 1).\n",
            "     |  \n",
            "     |  ----------------------------------------------------------------------\n",
            "     |  Static methods inherited from _random.Random:\n",
            "     |  \n",
            "     |  __new__(*args, **kwargs) from builtins.type\n",
            "     |      Create and return a new object.  See help(type) for accurate signature.\n",
            "    \n",
            "    class SystemRandom(Random)\n",
            "     |  SystemRandom(x=None)\n",
            "     |  \n",
            "     |  Alternate random number generator using sources provided\n",
            "     |  by the operating system (such as /dev/urandom on Unix or\n",
            "     |  CryptGenRandom on Windows).\n",
            "     |  \n",
            "     |   Not available on all systems (see os.urandom() for details).\n",
            "     |  \n",
            "     |  Method resolution order:\n",
            "     |      SystemRandom\n",
            "     |      Random\n",
            "     |      _random.Random\n",
            "     |      builtins.object\n",
            "     |  \n",
            "     |  Methods defined here:\n",
            "     |  \n",
            "     |  getrandbits(self, k)\n",
            "     |      getrandbits(k) -> x.  Generates an int with k random bits.\n",
            "     |  \n",
            "     |  getstate = _notimplemented(self, *args, **kwds)\n",
            "     |  \n",
            "     |  randbytes(self, n)\n",
            "     |      Generate n random bytes.\n",
            "     |  \n",
            "     |  random(self)\n",
            "     |      Get the next random number in the range [0.0, 1.0).\n",
            "     |  \n",
            "     |  seed(self, *args, **kwds)\n",
            "     |      Stub method.  Not used for a system random number generator.\n",
            "     |  \n",
            "     |  setstate = _notimplemented(self, *args, **kwds)\n",
            "     |  \n",
            "     |  ----------------------------------------------------------------------\n",
            "     |  Methods inherited from Random:\n",
            "     |  \n",
            "     |  __getstate__(self)\n",
            "     |      # Issue 17489: Since __reduce__ was defined to fix #759889 this is no\n",
            "     |      # longer called; we leave it here because it has been here since random was\n",
            "     |      # rewritten back in 2001 and why risk breaking something.\n",
            "     |  \n",
            "     |  __init__(self, x=None)\n",
            "     |      Initialize an instance.\n",
            "     |      \n",
            "     |      Optional argument x controls seeding, as for Random.seed().\n",
            "     |  \n",
            "     |  __reduce__(self)\n",
            "     |      Helper for pickle.\n",
            "     |  \n",
            "     |  __setstate__(self, state)\n",
            "     |  \n",
            "     |  betavariate(self, alpha, beta)\n",
            "     |      Beta distribution.\n",
            "     |      \n",
            "     |      Conditions on the parameters are alpha > 0 and beta > 0.\n",
            "     |      Returned values range between 0 and 1.\n",
            "     |  \n",
            "     |  choice(self, seq)\n",
            "     |      Choose a random element from a non-empty sequence.\n",
            "     |  \n",
            "     |  choices(self, population, weights=None, *, cum_weights=None, k=1)\n",
            "     |      Return a k sized list of population elements chosen with replacement.\n",
            "     |      \n",
            "     |      If the relative weights or cumulative weights are not specified,\n",
            "     |      the selections are made with equal probability.\n",
            "     |  \n",
            "     |  expovariate(self, lambd)\n",
            "     |      Exponential distribution.\n",
            "     |      \n",
            "     |      lambd is 1.0 divided by the desired mean.  It should be\n",
            "     |      nonzero.  (The parameter would be called \"lambda\", but that is\n",
            "     |      a reserved word in Python.)  Returned values range from 0 to\n",
            "     |      positive infinity if lambd is positive, and from negative\n",
            "     |      infinity to 0 if lambd is negative.\n",
            "     |  \n",
            "     |  gammavariate(self, alpha, beta)\n",
            "     |      Gamma distribution.  Not the gamma function!\n",
            "     |      \n",
            "     |      Conditions on the parameters are alpha > 0 and beta > 0.\n",
            "     |      \n",
            "     |      The probability distribution function is:\n",
            "     |      \n",
            "     |                  x ** (alpha - 1) * math.exp(-x / beta)\n",
            "     |        pdf(x) =  --------------------------------------\n",
            "     |                    math.gamma(alpha) * beta ** alpha\n",
            "     |  \n",
            "     |  gauss(self, mu, sigma)\n",
            "     |      Gaussian distribution.\n",
            "     |      \n",
            "     |      mu is the mean, and sigma is the standard deviation.  This is\n",
            "     |      slightly faster than the normalvariate() function.\n",
            "     |      \n",
            "     |      Not thread-safe without a lock around calls.\n",
            "     |  \n",
            "     |  lognormvariate(self, mu, sigma)\n",
            "     |      Log normal distribution.\n",
            "     |      \n",
            "     |      If you take the natural logarithm of this distribution, you'll get a\n",
            "     |      normal distribution with mean mu and standard deviation sigma.\n",
            "     |      mu can have any value, and sigma must be greater than zero.\n",
            "     |  \n",
            "     |  normalvariate(self, mu, sigma)\n",
            "     |      Normal distribution.\n",
            "     |      \n",
            "     |      mu is the mean, and sigma is the standard deviation.\n",
            "     |  \n",
            "     |  paretovariate(self, alpha)\n",
            "     |      Pareto distribution.  alpha is the shape parameter.\n",
            "     |  \n",
            "     |  randint(self, a, b)\n",
            "     |      Return random integer in range [a, b], including both end points.\n",
            "     |  \n",
            "     |  randrange(self, start, stop=None, step=1)\n",
            "     |      Choose a random item from range(start, stop[, step]).\n",
            "     |      \n",
            "     |      This fixes the problem with randint() which includes the\n",
            "     |      endpoint; in Python this is usually not what you want.\n",
            "     |  \n",
            "     |  sample(self, population, k, *, counts=None)\n",
            "     |      Chooses k unique random elements from a population sequence or set.\n",
            "     |      \n",
            "     |      Returns a new list containing elements from the population while\n",
            "     |      leaving the original population unchanged.  The resulting list is\n",
            "     |      in selection order so that all sub-slices will also be valid random\n",
            "     |      samples.  This allows raffle winners (the sample) to be partitioned\n",
            "     |      into grand prize and second place winners (the subslices).\n",
            "     |      \n",
            "     |      Members of the population need not be hashable or unique.  If the\n",
            "     |      population contains repeats, then each occurrence is a possible\n",
            "     |      selection in the sample.\n",
            "     |      \n",
            "     |      Repeated elements can be specified one at a time or with the optional\n",
            "     |      counts parameter.  For example:\n",
            "     |      \n",
            "     |          sample(['red', 'blue'], counts=[4, 2], k=5)\n",
            "     |      \n",
            "     |      is equivalent to:\n",
            "     |      \n",
            "     |          sample(['red', 'red', 'red', 'red', 'blue', 'blue'], k=5)\n",
            "     |      \n",
            "     |      To choose a sample from a range of integers, use range() for the\n",
            "     |      population argument.  This is especially fast and space efficient\n",
            "     |      for sampling from a large population:\n",
            "     |      \n",
            "     |          sample(range(10000000), 60)\n",
            "     |  \n",
            "     |  shuffle(self, x, random=None)\n",
            "     |      Shuffle list x in place, and return None.\n",
            "     |      \n",
            "     |      Optional argument random is a 0-argument function returning a\n",
            "     |      random float in [0.0, 1.0); if it is the default None, the\n",
            "     |      standard random.random will be used.\n",
            "     |  \n",
            "     |  triangular(self, low=0.0, high=1.0, mode=None)\n",
            "     |      Triangular distribution.\n",
            "     |      \n",
            "     |      Continuous distribution bounded by given lower and upper limits,\n",
            "     |      and having a given mode value in-between.\n",
            "     |      \n",
            "     |      http://en.wikipedia.org/wiki/Triangular_distribution\n",
            "     |  \n",
            "     |  uniform(self, a, b)\n",
            "     |      Get a random number in the range [a, b) or [a, b] depending on rounding.\n",
            "     |  \n",
            "     |  vonmisesvariate(self, mu, kappa)\n",
            "     |      Circular data distribution.\n",
            "     |      \n",
            "     |      mu is the mean angle, expressed in radians between 0 and 2*pi, and\n",
            "     |      kappa is the concentration parameter, which must be greater than or\n",
            "     |      equal to zero.  If kappa is equal to zero, this distribution reduces\n",
            "     |      to a uniform random angle over the range 0 to 2*pi.\n",
            "     |  \n",
            "     |  weibullvariate(self, alpha, beta)\n",
            "     |      Weibull distribution.\n",
            "     |      \n",
            "     |      alpha is the scale parameter and beta is the shape parameter.\n",
            "     |  \n",
            "     |  ----------------------------------------------------------------------\n",
            "     |  Class methods inherited from Random:\n",
            "     |  \n",
            "     |  __init_subclass__(**kwargs) from builtins.type\n",
            "     |      Control how subclasses generate random integers.\n",
            "     |      \n",
            "     |      The algorithm a subclass can use depends on the random() and/or\n",
            "     |      getrandbits() implementation available to it and determines\n",
            "     |      whether it can generate random integers from arbitrarily large\n",
            "     |      ranges.\n",
            "     |  \n",
            "     |  ----------------------------------------------------------------------\n",
            "     |  Data descriptors inherited from Random:\n",
            "     |  \n",
            "     |  __dict__\n",
            "     |      dictionary for instance variables (if defined)\n",
            "     |  \n",
            "     |  __weakref__\n",
            "     |      list of weak references to the object (if defined)\n",
            "     |  \n",
            "     |  ----------------------------------------------------------------------\n",
            "     |  Data and other attributes inherited from Random:\n",
            "     |  \n",
            "     |  VERSION = 3\n",
            "     |  \n",
            "     |  ----------------------------------------------------------------------\n",
            "     |  Static methods inherited from _random.Random:\n",
            "     |  \n",
            "     |  __new__(*args, **kwargs) from builtins.type\n",
            "     |      Create and return a new object.  See help(type) for accurate signature.\n",
            "\n",
            "FUNCTIONS\n",
            "    betavariate(alpha, beta) method of Random instance\n",
            "        Beta distribution.\n",
            "        \n",
            "        Conditions on the parameters are alpha > 0 and beta > 0.\n",
            "        Returned values range between 0 and 1.\n",
            "    \n",
            "    choice(seq) method of Random instance\n",
            "        Choose a random element from a non-empty sequence.\n",
            "    \n",
            "    choices(population, weights=None, *, cum_weights=None, k=1) method of Random instance\n",
            "        Return a k sized list of population elements chosen with replacement.\n",
            "        \n",
            "        If the relative weights or cumulative weights are not specified,\n",
            "        the selections are made with equal probability.\n",
            "    \n",
            "    expovariate(lambd) method of Random instance\n",
            "        Exponential distribution.\n",
            "        \n",
            "        lambd is 1.0 divided by the desired mean.  It should be\n",
            "        nonzero.  (The parameter would be called \"lambda\", but that is\n",
            "        a reserved word in Python.)  Returned values range from 0 to\n",
            "        positive infinity if lambd is positive, and from negative\n",
            "        infinity to 0 if lambd is negative.\n",
            "    \n",
            "    gammavariate(alpha, beta) method of Random instance\n",
            "        Gamma distribution.  Not the gamma function!\n",
            "        \n",
            "        Conditions on the parameters are alpha > 0 and beta > 0.\n",
            "        \n",
            "        The probability distribution function is:\n",
            "        \n",
            "                    x ** (alpha - 1) * math.exp(-x / beta)\n",
            "          pdf(x) =  --------------------------------------\n",
            "                      math.gamma(alpha) * beta ** alpha\n",
            "    \n",
            "    gauss(mu, sigma) method of Random instance\n",
            "        Gaussian distribution.\n",
            "        \n",
            "        mu is the mean, and sigma is the standard deviation.  This is\n",
            "        slightly faster than the normalvariate() function.\n",
            "        \n",
            "        Not thread-safe without a lock around calls.\n",
            "    \n",
            "    getrandbits(k, /) method of Random instance\n",
            "        getrandbits(k) -> x.  Generates an int with k random bits.\n",
            "    \n",
            "    getstate() method of Random instance\n",
            "        Return internal state; can be passed to setstate() later.\n",
            "    \n",
            "    lognormvariate(mu, sigma) method of Random instance\n",
            "        Log normal distribution.\n",
            "        \n",
            "        If you take the natural logarithm of this distribution, you'll get a\n",
            "        normal distribution with mean mu and standard deviation sigma.\n",
            "        mu can have any value, and sigma must be greater than zero.\n",
            "    \n",
            "    normalvariate(mu, sigma) method of Random instance\n",
            "        Normal distribution.\n",
            "        \n",
            "        mu is the mean, and sigma is the standard deviation.\n",
            "    \n",
            "    paretovariate(alpha) method of Random instance\n",
            "        Pareto distribution.  alpha is the shape parameter.\n",
            "    \n",
            "    randbytes(n) method of Random instance\n",
            "        Generate n random bytes.\n",
            "    \n",
            "    randint(a, b) method of Random instance\n",
            "        Return random integer in range [a, b], including both end points.\n",
            "    \n",
            "    random() method of Random instance\n",
            "        random() -> x in the interval [0, 1).\n",
            "    \n",
            "    randrange(start, stop=None, step=1) method of Random instance\n",
            "        Choose a random item from range(start, stop[, step]).\n",
            "        \n",
            "        This fixes the problem with randint() which includes the\n",
            "        endpoint; in Python this is usually not what you want.\n",
            "    \n",
            "    sample(population, k, *, counts=None) method of Random instance\n",
            "        Chooses k unique random elements from a population sequence or set.\n",
            "        \n",
            "        Returns a new list containing elements from the population while\n",
            "        leaving the original population unchanged.  The resulting list is\n",
            "        in selection order so that all sub-slices will also be valid random\n",
            "        samples.  This allows raffle winners (the sample) to be partitioned\n",
            "        into grand prize and second place winners (the subslices).\n",
            "        \n",
            "        Members of the population need not be hashable or unique.  If the\n",
            "        population contains repeats, then each occurrence is a possible\n",
            "        selection in the sample.\n",
            "        \n",
            "        Repeated elements can be specified one at a time or with the optional\n",
            "        counts parameter.  For example:\n",
            "        \n",
            "            sample(['red', 'blue'], counts=[4, 2], k=5)\n",
            "        \n",
            "        is equivalent to:\n",
            "        \n",
            "            sample(['red', 'red', 'red', 'red', 'blue', 'blue'], k=5)\n",
            "        \n",
            "        To choose a sample from a range of integers, use range() for the\n",
            "        population argument.  This is especially fast and space efficient\n",
            "        for sampling from a large population:\n",
            "        \n",
            "            sample(range(10000000), 60)\n",
            "    \n",
            "    seed(a=None, version=2) method of Random instance\n",
            "        Initialize internal state from a seed.\n",
            "        \n",
            "        The only supported seed types are None, int, float,\n",
            "        str, bytes, and bytearray.\n",
            "        \n",
            "        None or no argument seeds from current time or from an operating\n",
            "        system specific randomness source if available.\n",
            "        \n",
            "        If *a* is an int, all bits are used.\n",
            "        \n",
            "        For version 2 (the default), all of the bits are used if *a* is a str,\n",
            "        bytes, or bytearray.  For version 1 (provided for reproducing random\n",
            "        sequences from older versions of Python), the algorithm for str and\n",
            "        bytes generates a narrower range of seeds.\n",
            "    \n",
            "    setstate(state) method of Random instance\n",
            "        Restore internal state from object returned by getstate().\n",
            "    \n",
            "    shuffle(x, random=None) method of Random instance\n",
            "        Shuffle list x in place, and return None.\n",
            "        \n",
            "        Optional argument random is a 0-argument function returning a\n",
            "        random float in [0.0, 1.0); if it is the default None, the\n",
            "        standard random.random will be used.\n",
            "    \n",
            "    triangular(low=0.0, high=1.0, mode=None) method of Random instance\n",
            "        Triangular distribution.\n",
            "        \n",
            "        Continuous distribution bounded by given lower and upper limits,\n",
            "        and having a given mode value in-between.\n",
            "        \n",
            "        http://en.wikipedia.org/wiki/Triangular_distribution\n",
            "    \n",
            "    uniform(a, b) method of Random instance\n",
            "        Get a random number in the range [a, b) or [a, b] depending on rounding.\n",
            "    \n",
            "    vonmisesvariate(mu, kappa) method of Random instance\n",
            "        Circular data distribution.\n",
            "        \n",
            "        mu is the mean angle, expressed in radians between 0 and 2*pi, and\n",
            "        kappa is the concentration parameter, which must be greater than or\n",
            "        equal to zero.  If kappa is equal to zero, this distribution reduces\n",
            "        to a uniform random angle over the range 0 to 2*pi.\n",
            "    \n",
            "    weibullvariate(alpha, beta) method of Random instance\n",
            "        Weibull distribution.\n",
            "        \n",
            "        alpha is the scale parameter and beta is the shape parameter.\n",
            "\n",
            "DATA\n",
            "    __all__ = ['Random', 'SystemRandom', 'betavariate', 'choice', 'choices...\n",
            "\n",
            "FILE\n",
            "    /usr/lib/python3.10/random.py\n",
            "\n",
            "\n"
          ]
        }
      ],
      "source": [
        "import random\n",
        "help(random)"
      ]
    }
  ],
  "metadata": {
    "kernelspec": {
      "display_name": "Python 3 (ipykernel)",
      "language": "python",
      "name": "python3"
    },
    "language_info": {
      "codemirror_mode": {
        "name": "ipython",
        "version": 3
      },
      "file_extension": ".py",
      "mimetype": "text/x-python",
      "name": "python",
      "nbconvert_exporter": "python",
      "pygments_lexer": "ipython3",
      "version": "3.11.5"
    },
    "colab": {
      "provenance": []
    }
  },
  "nbformat": 4,
  "nbformat_minor": 5
}