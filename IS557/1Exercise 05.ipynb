{
  "cells": [
    {
      "cell_type": "markdown",
      "id": "f6cccd81",
      "metadata": {
        "id": "f6cccd81"
      },
      "source": [
        "## Working with files"
      ]
    },
    {
      "cell_type": "markdown",
      "id": "4410af2b",
      "metadata": {
        "id": "4410af2b"
      },
      "source": [
        "Create a function called copy_file that takes two arguments: the source file path and the destination file path. The function should read the content of the source file line by line and write it to the destination file."
      ]
    },
    {
      "cell_type": "code",
      "execution_count": 2,
      "id": "50ab4d99",
      "metadata": {
        "id": "50ab4d99"
      },
      "outputs": [],
      "source": [
        "def copy_file(source_path, destination_path):\n",
        "  with open(source_path, 'r') as fs:\n",
        "    with open(destination_path, 'w') as f:\n",
        "      for line in fs:\n",
        "        f.write(line)\n"
      ]
    },
    {
      "cell_type": "code",
      "source": [],
      "metadata": {
        "id": "4eJCV4pnuCly"
      },
      "id": "4eJCV4pnuCly",
      "execution_count": null,
      "outputs": []
    },
    {
      "cell_type": "markdown",
      "id": "669dcb7d",
      "metadata": {
        "id": "669dcb7d"
      },
      "source": [
        "Read the contents of a text file into a string and store the string with pickle. Compare the file sizes of the pickle file with the original text."
      ]
    },
    {
      "cell_type": "code",
      "execution_count": 1,
      "id": "60f927c6",
      "metadata": {
        "id": "60f927c6"
      },
      "outputs": [],
      "source": [
        "import pickle"
      ]
    },
    {
      "cell_type": "code",
      "execution_count": 7,
      "id": "d74ab864",
      "metadata": {
        "id": "d74ab864",
        "outputId": "7f0221cd-6b67-4a6b-ed8e-a9eb9f7faef0",
        "colab": {
          "base_uri": "https://localhost:8080/"
        }
      },
      "outputs": [
        {
          "output_type": "execute_result",
          "data": {
            "text/plain": [
              "<function TextIOWrapper.close()>"
            ]
          },
          "metadata": {},
          "execution_count": 7
        }
      ],
      "source": [
        "f = open('new_text', 'w')\n",
        "f.write('Read the contents of a text file into a string and store the string with pickle.')\n",
        "f.close"
      ]
    },
    {
      "cell_type": "code",
      "source": [
        "with open('new_text', 'r') as fs:\n",
        "  a = fs.read()\n",
        "  print(a)\n",
        "print(len(a))"
      ],
      "metadata": {
        "id": "AclF_qODvE5g",
        "outputId": "d8cc3fd2-2c00-4001-a15c-7bd94926ea4b",
        "colab": {
          "base_uri": "https://localhost:8080/"
        }
      },
      "id": "AclF_qODvE5g",
      "execution_count": 10,
      "outputs": [
        {
          "output_type": "stream",
          "name": "stdout",
          "text": [
            "Read the contents of a text file into a string and store the string with pickle.\n",
            "80\n"
          ]
        }
      ]
    },
    {
      "cell_type": "code",
      "source": [
        "with open('new_pickle', 'wb') as pi:\n",
        "  pickle.dump(a, pi)\n",
        "\n",
        "with open('new_pickle', 'rb') as pi:\n",
        "  b = pi.read()\n",
        "print(len(b))"
      ],
      "metadata": {
        "id": "C1fkrsJlvdRJ",
        "outputId": "91467d1c-7481-467e-e8cb-315562d7da8f",
        "colab": {
          "base_uri": "https://localhost:8080/"
        }
      },
      "id": "C1fkrsJlvdRJ",
      "execution_count": 11,
      "outputs": [
        {
          "output_type": "stream",
          "name": "stdout",
          "text": [
            "95\n"
          ]
        }
      ]
    },
    {
      "cell_type": "markdown",
      "id": "927a66ec",
      "metadata": {
        "id": "927a66ec"
      },
      "source": [
        "Write a function that reads the content of a text file, encrypts it using a simple Caesar cipher with a user-specified shift value, and saves the encrypted content to a new file. Write another function that reads the encrypted file, decrypts the content using the shift value, and prints the decrypted content.\n",
        "\n",
        "*Caesar cipher — is a type of substitution cipher in which each letter in the plaintext is replaced by a letter some fixed number of positions down the alphabet. For example, with a shift value of 3, A would be replaced by D, B would become E, and so on.*"
      ]
    },
    {
      "cell_type": "code",
      "execution_count": null,
      "id": "ec28575d",
      "metadata": {
        "id": "ec28575d"
      },
      "outputs": [],
      "source": []
    },
    {
      "cell_type": "code",
      "execution_count": null,
      "id": "90aa6ae2",
      "metadata": {
        "id": "90aa6ae2"
      },
      "outputs": [],
      "source": []
    },
    {
      "cell_type": "markdown",
      "id": "dae0bbbc",
      "metadata": {
        "id": "dae0bbbc"
      },
      "source": [
        "# Datetime\n",
        "Write a function to determine the time difference between two timezones."
      ]
    },
    {
      "cell_type": "code",
      "execution_count": null,
      "id": "002bbf98",
      "metadata": {
        "id": "002bbf98"
      },
      "outputs": [],
      "source": []
    },
    {
      "cell_type": "code",
      "execution_count": null,
      "id": "872186b7",
      "metadata": {
        "id": "872186b7"
      },
      "outputs": [],
      "source": []
    },
    {
      "cell_type": "markdown",
      "id": "9b17b34c",
      "metadata": {
        "id": "9b17b34c"
      },
      "source": [
        "Write a function to determine the number of days between today and your next birthday"
      ]
    },
    {
      "cell_type": "code",
      "execution_count": null,
      "id": "a8fbb228",
      "metadata": {
        "id": "a8fbb228"
      },
      "outputs": [],
      "source": []
    },
    {
      "cell_type": "code",
      "execution_count": null,
      "id": "51df206d",
      "metadata": {
        "id": "51df206d"
      },
      "outputs": [],
      "source": []
    },
    {
      "cell_type": "markdown",
      "id": "d45dd7f4",
      "metadata": {
        "id": "d45dd7f4"
      },
      "source": [
        "Write a function that lists the dates of all Sundays of a given year"
      ]
    },
    {
      "cell_type": "code",
      "execution_count": null,
      "id": "34a7691a",
      "metadata": {
        "id": "34a7691a"
      },
      "outputs": [],
      "source": []
    },
    {
      "cell_type": "code",
      "execution_count": null,
      "id": "78b5e70f",
      "metadata": {
        "id": "78b5e70f"
      },
      "outputs": [],
      "source": []
    },
    {
      "cell_type": "markdown",
      "id": "08af2ced",
      "metadata": {
        "id": "08af2ced"
      },
      "source": [
        "Write a Python function to count the number of times Friday was the 13st day of the month in a given year"
      ]
    },
    {
      "cell_type": "code",
      "execution_count": null,
      "id": "fe60ca1d",
      "metadata": {
        "id": "fe60ca1d"
      },
      "outputs": [],
      "source": []
    },
    {
      "cell_type": "code",
      "execution_count": null,
      "id": "d6601997",
      "metadata": {
        "id": "d6601997"
      },
      "outputs": [],
      "source": []
    },
    {
      "cell_type": "markdown",
      "id": "06e7e292",
      "metadata": {
        "id": "06e7e292"
      },
      "source": [
        "## Random numbers"
      ]
    },
    {
      "cell_type": "markdown",
      "id": "b4894df6",
      "metadata": {
        "id": "b4894df6"
      },
      "source": [
        "Write a function that generates a random password with a user-specified length. The password should contain a mix of uppercase letters, lowercase letters, digits, and special characters. Ensure that the generated password contains at least one character from each category.\n",
        "\n",
        "*Hint: you might want to use [string](https://docs.python.org/3/library/string.html) module*"
      ]
    },
    {
      "cell_type": "code",
      "execution_count": null,
      "id": "f2ca0361",
      "metadata": {
        "id": "f2ca0361"
      },
      "outputs": [],
      "source": []
    },
    {
      "cell_type": "code",
      "execution_count": null,
      "id": "d12739e9",
      "metadata": {
        "id": "d12739e9"
      },
      "outputs": [],
      "source": []
    }
  ],
  "metadata": {
    "kernelspec": {
      "display_name": "Python 3 (ipykernel)",
      "language": "python",
      "name": "python3"
    },
    "language_info": {
      "codemirror_mode": {
        "name": "ipython",
        "version": 3
      },
      "file_extension": ".py",
      "mimetype": "text/x-python",
      "name": "python",
      "nbconvert_exporter": "python",
      "pygments_lexer": "ipython3",
      "version": "3.11.5"
    },
    "colab": {
      "provenance": []
    }
  },
  "nbformat": 4,
  "nbformat_minor": 5
}