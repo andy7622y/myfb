{
  "nbformat": 4,
  "nbformat_minor": 0,
  "metadata": {
    "colab": {
      "provenance": [],
      "authorship_tag": "ABX9TyMjKmDNlZxSEjOlTla+8ZkV",
      "include_colab_link": true
    },
    "kernelspec": {
      "name": "python3",
      "display_name": "Python 3"
    },
    "language_info": {
      "name": "python"
    }
  },
  "cells": [
    {
      "cell_type": "markdown",
      "metadata": {
        "id": "view-in-github",
        "colab_type": "text"
      },
      "source": [
        "<a href=\"https://colab.research.google.com/github/andy7622y/myfb/blob/main/test.ipynb\" target=\"_parent\"><img src=\"https://colab.research.google.com/assets/colab-badge.svg\" alt=\"Open In Colab\"/></a>"
      ]
    },
    {
      "cell_type": "code",
      "execution_count": null,
      "metadata": {
        "id": "QeKqSzHS6Nbq"
      },
      "outputs": [],
      "source": []
    },
    {
      "cell_type": "markdown",
      "source": [
        "练习题 1：基础输入输出与文件读写\n",
        "题目描述：\n",
        "\n",
        "编写一个Python程序，要求用户输入他们的名字，并将输入保存到一个名为name.txt的文件中。\n",
        "从文件name.txt中读取内容并打印。"
      ],
      "metadata": {
        "id": "ytCt58mw6TQH"
      }
    },
    {
      "cell_type": "code",
      "source": [
        "def get_name(name:str):\n",
        "    with open('name.txt','w') as fs:\n",
        "      fs.write(name)\n",
        "    with open('name.txt','r') as fs:\n",
        "      print(fs.read())\n"
      ],
      "metadata": {
        "id": "671QmOyT6Xg6"
      },
      "execution_count": null,
      "outputs": []
    },
    {
      "cell_type": "code",
      "source": [
        "get_name('Alice')"
      ],
      "metadata": {
        "colab": {
          "base_uri": "https://localhost:8080/"
        },
        "id": "7HyttLQO7Rvc",
        "outputId": "8d06e910-9543-4b82-c4e9-e5efc17f58ef"
      },
      "execution_count": null,
      "outputs": [
        {
          "output_type": "stream",
          "name": "stdout",
          "text": [
            "Alice\n"
          ]
        }
      ]
    },
    {
      "cell_type": "code",
      "source": [
        "# solution\n",
        "# 写入用户输入\n",
        "name = input(\"请输入你的名字：\")\n",
        "with open('name.txt','w') as fs:\n",
        "  fs.write(name)\n",
        "with open('name.txt','r') as fs:\n",
        "  print(fs.read())\n"
      ],
      "metadata": {
        "colab": {
          "base_uri": "https://localhost:8080/"
        },
        "id": "A8q79vUF7cNI",
        "outputId": "2869431d-0e1b-425d-f672-ad5bb25a11fe"
      },
      "execution_count": null,
      "outputs": [
        {
          "name": "stdout",
          "output_type": "stream",
          "text": [
            "请输入你的名字：Belly\n"
          ]
        }
      ]
    },
    {
      "cell_type": "markdown",
      "source": [
        "练习题 2：凯撒加密\n",
        "题目描述：\n",
        "\n",
        "编写一个凯撒加密的Python程序，要求用户输入一段字符串和一个加密偏移量。程序需要将输入字符串加密并输出结果。\n",
        "将加密结果保存到一个文件encrypted.txt中。\n",
        "从文件中读取加密后的内容并解密回原始字符串。"
      ],
      "metadata": {
        "id": "6yKi7Sbg7mYx"
      }
    },
    {
      "cell_type": "code",
      "source": [],
      "metadata": {
        "id": "Uuj-EyoM70nY"
      },
      "execution_count": null,
      "outputs": []
    },
    {
      "cell_type": "markdown",
      "source": [
        "练习题 3：统计文件中的字符频率\n",
        "题目描述：\n",
        "编写一个程序，从文件中读取一段文本，统计每个字母出现的频率，并输出频率最高的字母及其出现次数。"
      ],
      "metadata": {
        "id": "uHK0AE5r_Cv-"
      }
    },
    {
      "cell_type": "code",
      "source": [
        "def frequen(text: str):\n",
        "  res = {}\n",
        "  for i in str1:\n",
        "    if i in res:\n",
        "      res[i] += 1\n",
        "    else:\n",
        "      res[i] = 1\n",
        "  res = sorted(res.items(), key = lambda x:(-x[1], x[0])\n",
        "  word = res[0]\n",
        "  count = res[0]"
      ],
      "metadata": {
        "id": "PigaXW56_DUs"
      },
      "execution_count": null,
      "outputs": []
    },
    {
      "cell_type": "code",
      "source": [
        "str1 = 'abdocdeoh soehf ihsue'\n",
        "for i in str1:\n",
        "  if i in res:\n",
        "      res[i] += 1\n",
        "    else:\n",
        "      res[i] = 1\n",
        "  res = sorted(res.items(), key = lambda x:(-x[1], x[0])"
      ],
      "metadata": {
        "colab": {
          "base_uri": "https://localhost:8080/",
          "height": 106
        },
        "id": "kVJzG1R6_SQI",
        "outputId": "a4477a3f-de2c-459f-9cab-6784d0a850f5"
      },
      "execution_count": null,
      "outputs": [
        {
          "output_type": "error",
          "ename": "IndentationError",
          "evalue": "unindent does not match any outer indentation level (<tokenize>, line 5)",
          "traceback": [
            "\u001b[0;36m  File \u001b[0;32m\"<tokenize>\"\u001b[0;36m, line \u001b[0;32m5\u001b[0m\n\u001b[0;31m    else:\u001b[0m\n\u001b[0m    ^\u001b[0m\n\u001b[0;31mIndentationError\u001b[0m\u001b[0;31m:\u001b[0m unindent does not match any outer indentation level\n"
          ]
        }
      ]
    },
    {
      "cell_type": "markdown",
      "source": [
        "练习题 4：处理数字列表\n",
        "题目描述：\n",
        "编写一个程序，要求用户输入一组数字，用列表存储，计算这些数字的平均值、最大值和最小值。"
      ],
      "metadata": {
        "id": "xoyYF1KoBOyD"
      }
    },
    {
      "cell_type": "code",
      "source": [
        "def calculate(input: list):\n",
        "    ave = sum(input)\n",
        "    minvalue = min(input)\n",
        "    maxvalue = max(input)\n",
        "    return ave, min, max\n"
      ],
      "metadata": {
        "id": "uBHp6zmVBPL2"
      },
      "execution_count": null,
      "outputs": []
    },
    {
      "cell_type": "code",
      "source": [
        "list1 = [1,2,3,5,6]\n",
        "calculate(list1)"
      ],
      "metadata": {
        "colab": {
          "base_uri": "https://localhost:8080/"
        },
        "id": "Hb_1SE_zBukD",
        "outputId": "e9d5274e-0171-43fc-b886-17cad14b7735"
      },
      "execution_count": null,
      "outputs": [
        {
          "output_type": "execute_result",
          "data": {
            "text/plain": [
              "(17, <function min>, <function max>)"
            ]
          },
          "metadata": {},
          "execution_count": 17
        }
      ]
    },
    {
      "cell_type": "code",
      "source": [
        "max(list1)"
      ],
      "metadata": {
        "id": "fd7DobepFc-9",
        "outputId": "9a398958-f839-404f-bab0-dd239e163af7",
        "colab": {
          "base_uri": "https://localhost:8080/"
        }
      },
      "execution_count": null,
      "outputs": [
        {
          "output_type": "execute_result",
          "data": {
            "text/plain": [
              "6"
            ]
          },
          "metadata": {},
          "execution_count": 18
        }
      ]
    }
  ]
}