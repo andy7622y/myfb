{
  "cells": [
    {
      "cell_type": "markdown",
      "metadata": {
        "id": "BWIiK-NqyihO"
      },
      "source": [
        "# Exercise 1: Introduction to Python\n",
        "Comment your code properly - code is read more often than written!"
      ]
    },
    {
      "cell_type": "markdown",
      "metadata": {
        "id": "wEWDHApeyihP"
      },
      "source": [
        "### Use Python as a calculator to compute 256²"
      ]
    },
    {
      "cell_type": "code",
      "execution_count": null,
      "metadata": {
        "id": "0aW13Oe4yihP"
      },
      "outputs": [],
      "source": []
    },
    {
      "cell_type": "markdown",
      "metadata": {
        "id": "GV2hY5rqyihP"
      },
      "source": [
        "### Put the strings \"Hello\" and \"World!\" in two variables. Concatenate both strings and print them"
      ]
    },
    {
      "cell_type": "code",
      "execution_count": null,
      "metadata": {
        "id": "BxZE3oyYyihQ"
      },
      "outputs": [],
      "source": []
    },
    {
      "cell_type": "markdown",
      "metadata": {
        "id": "e8m-tj4QyihQ"
      },
      "source": [
        "### Create a list that contains the 4 strings \"alpha\", \"beta\", \"gamma\", and \"delta\". Add \"epsilon\" to the end of this list"
      ]
    },
    {
      "cell_type": "code",
      "execution_count": null,
      "metadata": {
        "id": "v-i4R1-wyihQ"
      },
      "outputs": [],
      "source": []
    },
    {
      "cell_type": "markdown",
      "metadata": {
        "id": "Mg_FcNVuyihQ"
      },
      "source": [
        "### Create a sublist with the first three elements of this list\n"
      ]
    },
    {
      "cell_type": "code",
      "execution_count": null,
      "metadata": {
        "id": "IQuQicTDyihQ"
      },
      "outputs": [],
      "source": []
    },
    {
      "cell_type": "markdown",
      "metadata": {
        "id": "yZ4_0tRqyihQ"
      },
      "source": [
        "### Write a Python program to construct the following pattern using for loops"
      ]
    },
    {
      "cell_type": "code",
      "execution_count": null,
      "metadata": {
        "id": "eFxWEKMByihQ"
      },
      "outputs": [],
      "source": [
        "*\n",
        "* *\n",
        "* * *\n",
        "* * * *\n",
        "* * * * *\n",
        "* * * *\n",
        "* * *\n",
        "* *\n",
        "*"
      ]
    },
    {
      "cell_type": "code",
      "execution_count": null,
      "metadata": {
        "id": "uunCTlKAyihQ"
      },
      "outputs": [],
      "source": []
    },
    {
      "cell_type": "code",
      "execution_count": null,
      "metadata": {
        "id": "ENBmDwr_yihQ"
      },
      "outputs": [],
      "source": []
    },
    {
      "cell_type": "markdown",
      "metadata": {
        "id": "qNjzjCkJyihQ"
      },
      "source": [
        "### Write a function that takes 3 input parameters and returns the product of these values"
      ]
    },
    {
      "cell_type": "code",
      "execution_count": null,
      "metadata": {
        "id": "x4QBeNsJyihQ"
      },
      "outputs": [],
      "source": []
    },
    {
      "cell_type": "code",
      "execution_count": null,
      "metadata": {
        "id": "ouhdqndYyihQ"
      },
      "outputs": [],
      "source": []
    },
    {
      "cell_type": "markdown",
      "metadata": {
        "id": "AXGD8fmlyihQ"
      },
      "source": [
        "### Write a Python function that takes an int as a parameter and checks if the number is prime or not."
      ]
    },
    {
      "cell_type": "code",
      "execution_count": null,
      "metadata": {
        "id": "zI08l2xKyihQ"
      },
      "outputs": [],
      "source": []
    },
    {
      "cell_type": "code",
      "execution_count": null,
      "metadata": {
        "id": "8dk75C4cyihR"
      },
      "outputs": [],
      "source": []
    },
    {
      "cell_type": "markdown",
      "metadata": {
        "id": "r6K_qzOHyihR"
      },
      "source": [
        "### Use your function to create a list that contains all primes from 2 to 100"
      ]
    },
    {
      "cell_type": "code",
      "execution_count": null,
      "metadata": {
        "id": "PmngwLssyihR"
      },
      "outputs": [],
      "source": []
    },
    {
      "cell_type": "markdown",
      "metadata": {
        "id": "dqLYH4t8yihR"
      },
      "source": [
        "### Write a function that simulates dice rolls (6-sided dices)\n",
        "- Write a function that has the number of dice rolls as the input parameter\n",
        "- The output should be a dictionary that stores how often each result of a roll (1-6) occurred (keys: numbers from 1 to 6, values: how often the number was rolled)\n",
        "- You can use the randint() function from the random package"
      ]
    },
    {
      "cell_type": "code",
      "execution_count": 1,
      "metadata": {
        "id": "3tGjf0CcyihR"
      },
      "outputs": [],
      "source": [
        "# load the random package\n",
        "import random"
      ]
    },
    {
      "cell_type": "markdown",
      "metadata": {
        "id": "xyLWG90-yihR"
      },
      "source": [
        "### Combine two dictionaries by adding values for common keys.\n",
        "d1 = {'a': 100, 'b': 200, 'c':300}\n",
        "\n",
        "d2 = {'a': 300, 'b': 200, 'd':400}\n",
        "\n",
        "Sample output: {'a': 400, 'b': 400, 'd': 400, 'c': 300}"
      ]
    },
    {
      "cell_type": "code",
      "execution_count": 4,
      "metadata": {
        "id": "aQYA3AIkyihR",
        "outputId": "88f01918-691c-4751-9298-3159fb05faf9",
        "colab": {
          "base_uri": "https://localhost:8080/"
        }
      },
      "outputs": [
        {
          "output_type": "execute_result",
          "data": {
            "text/plain": [
              "{'a': 400, 'b': 400, 'd': 400, 'c': 300}"
            ]
          },
          "metadata": {},
          "execution_count": 4
        }
      ],
      "source": [
        "d1 = {'a': 100, 'b': 200, 'c':300}\n",
        "\n",
        "d2 = {'a': 300, 'b': 200, 'd':400}\n",
        "\n",
        "d3 = d2.copy()\n",
        "for k1, v1 in d1.items():\n",
        "  for k2, v2 in d2.items():\n",
        "    if k1 == k2:\n",
        "      d3[k2] = v1 + v2\n",
        "    if k1 not in d3.keys():\n",
        "      d3[k1] = v1\n",
        "d3\n"
      ]
    },
    {
      "cell_type": "markdown",
      "metadata": {
        "id": "Qtt1a3zNyihR"
      },
      "source": [
        "### Create a list of lists. Then, write a list comprehension that creates a list with the lengths of each (sub)list in the primary list"
      ]
    },
    {
      "cell_type": "code",
      "execution_count": null,
      "metadata": {
        "id": "DiXVfGouyihR"
      },
      "outputs": [],
      "source": []
    },
    {
      "cell_type": "markdown",
      "metadata": {
        "id": "knupa9quyihR"
      },
      "source": [
        "### Exceptions\n",
        "\n",
        "Write your own function *my_division* that gets two variables a and b and returns a divided by b. Catch the ZeroDivisionError that occurs if b equals 0 and return 1 in this case.\n",
        "\n",
        "How could the same behavior be achieved without catching an exception?"
      ]
    },
    {
      "cell_type": "code",
      "execution_count": null,
      "metadata": {
        "id": "U95mAIXWyihR"
      },
      "outputs": [],
      "source": []
    },
    {
      "cell_type": "code",
      "execution_count": null,
      "metadata": {
        "id": "2kumG3d9yihR"
      },
      "outputs": [],
      "source": []
    },
    {
      "cell_type": "markdown",
      "metadata": {
        "id": "edF1vb_4yihR"
      },
      "source": [
        "### File handling\n",
        "\n",
        "Write a function that gets a letter and the path to a (text-)file on your harddrive as input parameters and computes a list as its output. The list should contain one number for each line. The i-th line shows, how often the given letter occurs in line number i in the text file. Test your function on \"ftest.txt\", which was provided in this exercise!"
      ]
    },
    {
      "cell_type": "code",
      "execution_count": null,
      "metadata": {
        "id": "ifoRrgNxyihR"
      },
      "outputs": [],
      "source": []
    },
    {
      "cell_type": "markdown",
      "metadata": {
        "id": "5olU_n8TyihS"
      },
      "source": [
        "## Numpy\n",
        "\n",
        "In this last set of tasks, you will have to work with numpy, the fundamental package for scientific computing with Python.\n",
        "Make sure to execute the cell below to import the package, we will usually use the abbreviation np for numpy to obtain shorter code."
      ]
    },
    {
      "cell_type": "code",
      "execution_count": null,
      "metadata": {
        "id": "ezYjyo4GyihS"
      },
      "outputs": [],
      "source": [
        "# load the numpy package\n",
        "import numpy as np"
      ]
    },
    {
      "cell_type": "markdown",
      "metadata": {
        "id": "x2RiT181yihS"
      },
      "source": [
        "### Create a numpy array with 20 rows and 10 columns, where all values are set to zero"
      ]
    },
    {
      "cell_type": "code",
      "execution_count": null,
      "metadata": {
        "id": "pMGqx0ceyihS"
      },
      "outputs": [],
      "source": []
    },
    {
      "cell_type": "markdown",
      "metadata": {
        "id": "yzUQhR7FyihS"
      },
      "source": [
        "### Create an array with the same shape containing all natural numbers 0-199"
      ]
    },
    {
      "cell_type": "code",
      "execution_count": null,
      "metadata": {
        "id": "or985NOByihS"
      },
      "outputs": [],
      "source": []
    },
    {
      "cell_type": "markdown",
      "metadata": {
        "id": "66JfDtJXyihS"
      },
      "source": [
        "### Create a 4-dimensional array with exactly 16 elements and set all values to a random integer smaller than 5\n",
        "You can use the Random Generator from numpy (documentation: https://numpy.org/doc/stable/reference/random/generator.html)"
      ]
    },
    {
      "cell_type": "code",
      "execution_count": null,
      "metadata": {
        "id": "6FkJ_SzKyihS"
      },
      "outputs": [],
      "source": []
    },
    {
      "cell_type": "markdown",
      "metadata": {
        "id": "LfIWsee4yihS"
      },
      "source": [
        "### What is the mean of all values contained in this array?"
      ]
    },
    {
      "cell_type": "code",
      "execution_count": null,
      "metadata": {
        "id": "w7b-9afyyihS"
      },
      "outputs": [],
      "source": []
    },
    {
      "cell_type": "markdown",
      "metadata": {
        "id": "ZOyI37U0yihS"
      },
      "source": [
        "### Select a sub-array containing exactly two elements of that array!"
      ]
    },
    {
      "cell_type": "code",
      "execution_count": null,
      "metadata": {
        "id": "6BR5lNT1yihS"
      },
      "outputs": [],
      "source": []
    },
    {
      "cell_type": "markdown",
      "metadata": {
        "id": "9PyR3liCyihS"
      },
      "source": [
        "### Given a numpy array, return a new numpy array that contains only the elements that are greater than 100"
      ]
    },
    {
      "cell_type": "code",
      "execution_count": null,
      "metadata": {
        "id": "NMoJBaEwyihS"
      },
      "outputs": [],
      "source": []
    }
  ],
  "metadata": {
    "kernelspec": {
      "display_name": "Python 3 (ipykernel)",
      "language": "python",
      "name": "python3"
    },
    "language_info": {
      "codemirror_mode": {
        "name": "ipython",
        "version": 3
      },
      "file_extension": ".py",
      "mimetype": "text/x-python",
      "name": "python",
      "nbconvert_exporter": "python",
      "pygments_lexer": "ipython3",
      "version": "3.12.8"
    },
    "colab": {
      "provenance": []
    }
  },
  "nbformat": 4,
  "nbformat_minor": 0
}