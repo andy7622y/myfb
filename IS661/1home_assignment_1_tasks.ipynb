{
  "cells": [
    {
      "cell_type": "markdown",
      "id": "c295abce",
      "metadata": {
        "id": "c295abce"
      },
      "source": [
        "# Home Assignment 1 (35 pts)"
      ]
    },
    {
      "cell_type": "markdown",
      "id": "f6c27e5d",
      "metadata": {
        "id": "f6c27e5d"
      },
      "source": [
        "Submit your solution via Ilias until 23.59h on Sunday, October 6th. Any later submission is not possible.\n",
        "\n",
        "> Add blockquote\n",
        "\n",
        "\n",
        "\n",
        "Submit your solutions in teams of 4 students. Unless explicitly agreed otherwise in advance, submissions from teams with more or less members will NOT be graded (i.e., count as failed).\n",
        "\n",
        "**Make sure that all team members are part of the submitting group on Ilias.**\n",
        "\n",
        "Only submit a notebook, do not submit the dataset(s) you used. Also, do NOT compress/zip your submission!\n",
        "\n",
        "You may use the code from the exercises and basic functionalities that are explained in the official documentation of Python packages without citing, __all other sources must be cited__. In case of plagiarism (copying solutions from other teams or from the internet) ALL team members may be expelled from the course without warning.\n",
        "\n",
        "#### General guidelines:\n",
        "* Make sure that your code is executable, any task for which the code does not directly run on our machine will be graded with 0 points.\n",
        "* If you use packages that are not available on the default or conda-forge channel, list them below. Also add a link to installation instructions.\n",
        "* Ensure that the notebook does not rely on the current notebook or system state!\n",
        "  * Use `Kernel --> Restart & Run All` to see if you are using any definitions, variables etc. that\n",
        "    are not in scope anymore.\n",
        "  * Do not rename any of the datasets you use, and load it from the same directory that your ipynb-notebook is located in, i.e., your working directory.\n",
        "* Make sure you clean up your code before submission, e.g., properly align your code, and delete every line of code that you do not need anymore, even if you may have experimented with it. Minimize usage of global variables. Avoid reusing variable names multiple times!\n",
        "* Ensure your code/notebook terminates in reasonable time.\n",
        "* Feel free to use comments in the code. While we do not require them to get full marks, they may help us in case your code has minor errors.\n",
        "* For questions that require a textual answer, please do not write the answer as a comment in a code cell, but in a Markdown cell below the code. Always remember to provide sufficient justification for all answers.\n",
        "* You may create as many additional cells as you want, just make sure that the solutions to the individual tasks can be found near the corresponding assignment.\n",
        "* If you have any general question regarding the understanding of some task, do not hesitate to post in the forum in Ilias, so we can clear up such questions for all students in the course."
      ]
    },
    {
      "cell_type": "markdown",
      "id": "45fedefd",
      "metadata": {
        "id": "45fedefd"
      },
      "source": [
        "Additional packages (if any):\n",
        " - Example: `powerlaw`, https://github.com/jeffalstott/powerlaw"
      ]
    },
    {
      "cell_type": "code",
      "execution_count": 2,
      "id": "1c2c397d",
      "metadata": {
        "id": "1c2c397d"
      },
      "outputs": [],
      "source": [
        "from typing import List, Union, Dict, Set, Tuple\n",
        "import numpy as np\n",
        "from numpy.typing import NDArray"
      ]
    },
    {
      "cell_type": "markdown",
      "id": "07b9f30f",
      "metadata": {
        "id": "07b9f30f"
      },
      "source": [
        "### Task 1: Regular expressions (9 pts)\n",
        "In this task you are asked to create regular expressions that meet the specified conditions. Please use the ``re`` package for the following subtasks."
      ]
    },
    {
      "cell_type": "code",
      "execution_count": 3,
      "id": "20076392",
      "metadata": {
        "id": "20076392"
      },
      "outputs": [],
      "source": [
        "# import the re package\n",
        "import re"
      ]
    },
    {
      "cell_type": "markdown",
      "id": "c83245d4",
      "metadata": {
        "id": "c83245d4"
      },
      "source": [
        "__a)__ Write a regular expression that returns all integer numbers from a text that are surrounded by whitespaces. __(1 pt)__"
      ]
    },
    {
      "cell_type": "code",
      "execution_count": 4,
      "id": "1623b9a9",
      "metadata": {
        "colab": {
          "base_uri": "https://localhost:8080/"
        },
        "id": "1623b9a9",
        "outputId": "dcb796d9-1c15-4002-a377-040b21c641f6"
      },
      "outputs": [
        {
          "output_type": "execute_result",
          "data": {
            "text/plain": [
              "['100', '234', '495']"
            ]
          },
          "metadata": {},
          "execution_count": 4
        }
      ],
      "source": [
        "text1a = 'there are 100 234 495people here.'\n",
        "re.findall(r'\\d+', text1a)  # your code here"
      ]
    },
    {
      "cell_type": "markdown",
      "id": "268f05db",
      "metadata": {
        "id": "268f05db"
      },
      "source": [
        "__b)__ Write a regular expression that returns all valid years that are surrounded by whitespaces in a text. A valid year is a 4 digit number in the range from 0000 to 2024. __(2 pts)__  \n",
        "You do not need to account for overlaps, e.g., `' 2023 2024 ' => [2023]` is ok. Bonus points if you do so (`' 2023 2024 ' => [2023,2024]`). __(+2 pts)__"
      ]
    },
    {
      "cell_type": "code",
      "execution_count": 21,
      "id": "d97f7592",
      "metadata": {
        "colab": {
          "base_uri": "https://localhost:8080/"
        },
        "id": "d97f7592",
        "outputId": "13f18b22-bfbb-4fc0-f905-7ac857d0bc62"
      },
      "outputs": [
        {
          "output_type": "execute_result",
          "data": {
            "text/plain": [
              "['1993', '2023', '2024']"
            ]
          },
          "metadata": {},
          "execution_count": 21
        }
      ],
      "source": [
        "text1b = 'before 1993, he was born. But till 2023, he has not been discorved. In 2024, things changed.'\n",
        "re.findall(r'[01][0-9]{3}|20[0-2][0-4]',text1b) # [01][0-9]{3}: from 0000-1999 20[0-2][0-4]:from 2000-2024 |:choose from either"
      ]
    },
    {
      "cell_type": "markdown",
      "id": "1ea7b9ad",
      "metadata": {
        "id": "1ea7b9ad"
      },
      "source": [
        "__c)__ Write a regular expression that returns all dates in the format YYYY-MM-DD or YYYY/MM/DD from a given text. Make sure that YYYY is a valid year (see task __b)__), MM is a valid month (01 to 12) and DD is a valid day (01 to 31).\n",
        "There is no need to make sure that e.g. XXXX-02-31 does not exist.  __(2 pts)__"
      ]
    },
    {
      "cell_type": "code",
      "execution_count": 34,
      "id": "fecd3a05",
      "metadata": {
        "colab": {
          "base_uri": "https://localhost:8080/"
        },
        "id": "fecd3a05",
        "outputId": "c8de6f2f-0870-44e1-a2b4-b9316c03b2c9"
      },
      "outputs": [
        {
          "output_type": "stream",
          "name": "stdout",
          "text": [
            "2024-05-27\n",
            "2024/12/25\n"
          ]
        }
      ],
      "source": [
        "text1c = '2024-05-27 is her birthday. The appointment she made is 2024/12/25.'\n",
        "date1c = re.finditer(r'(([01][0-9]{3}|20[0-2][0-4])[/-](0[0-9]|1[0-2])[/-]([0-2][0-9]|3[01]))',text1c)\n",
        "# (0[1-9]|1[0-2]): split the month of two parts, start with 0 or 1. for month starts with 0, it's possible from 01-09, for month starts with 1, it's possible from 10-12\n",
        "# ([0-2][0-9]|3[01]): for days in months, there can be 31 days. Split to two parts, start with 0-2 or 3. the form is the same as the month\n",
        "# [/-]: match both / or -\n",
        "# (): to split the different part(the code for year, month and days)\n",
        "for i in date1c:\n",
        "  print(i.group())"
      ]
    },
    {
      "cell_type": "code",
      "source": [
        "abc = ['2024-05-27', '2024/12/25']\n",
        "abc[1][1]"
      ],
      "metadata": {
        "colab": {
          "base_uri": "https://localhost:8080/",
          "height": 35
        },
        "id": "kr3quefJdLg2",
        "outputId": "13a19343-cc0c-49ef-cea9-302aebad007f"
      },
      "id": "kr3quefJdLg2",
      "execution_count": 25,
      "outputs": [
        {
          "output_type": "execute_result",
          "data": {
            "text/plain": [
              "'0'"
            ],
            "application/vnd.google.colaboratory.intrinsic+json": {
              "type": "string"
            }
          },
          "metadata": {},
          "execution_count": 25
        }
      ]
    },
    {
      "cell_type": "code",
      "source": [
        "text1c = '2024-05-27 is her birthday. The date she made the appointment is 2024/04/25. Of course not 2024/04/31.'\n",
        "date1c = re.finditer(r'(([01][0-9]{3}|20[0-2][0-4])[/-](((0[13578]|1[02])[/-]([0-2][0-9]|3[01]))|((0[469]|11)[/-]([0-2][0-9]|30))|(02[/-]([0-1][0-9]|2[0-8]))))',text1c)\n",
        "# ([01][0-9]{3}|20[0-2][0-4])[/-]: YYYY/ or YYYY-, where YYYY < 2025\n",
        "# (((0[13578]|1[02])[/-]([0-2][0-9]|3[01]))|: for month 1/3/5/7/8/10/12, there are 31 days\n",
        "#   (0[13578]|1[02]): split the month of two parts, start with 0 or 1\n",
        "#   ([0-2][0-9]|3[01]): split the days of two parts, start with 0-2 or 3\n",
        "# ((0[469]|11)[/-]([0-2][0-9]|30))|: for month 4/6/9/11, there are 30 days, and form is same as before\n",
        "# (02[/-]([0-1][0-9]|2[0-8]): for month 2, there are 28 days\n",
        "for i in date1c:\n",
        "  print(i.group())\n"
      ],
      "metadata": {
        "colab": {
          "base_uri": "https://localhost:8080/"
        },
        "id": "WlDvPp2odVzn",
        "outputId": "2c8e76fe-1b85-4f21-cb22-f860954de909"
      },
      "id": "WlDvPp2odVzn",
      "execution_count": 35,
      "outputs": [
        {
          "output_type": "stream",
          "name": "stdout",
          "text": [
            "2024-05-27\n",
            "2024/04/25\n"
          ]
        }
      ]
    },
    {
      "cell_type": "markdown",
      "id": "a035a263",
      "metadata": {
        "id": "a035a263"
      },
      "source": [
        "__d)__ Assume you are given a list ``l`` of strings like the one below. Using regular expressions, return a list that contains all elements from ``l`` that don't contain both, the letter ``a`` and ``e`` and store the result in a variable ``l_filtered``.  __(2 pts)__\n",
        "\n",
        "__Example:__ _given the list_  \n",
        "\n",
        "``l = [\"apple\", \"cucumber\", \"tomato\", \"zucchini\", \"pumpkin\", \"pear\", \"raspberry\", \"blueberry\"]``  \n",
        "\n",
        "_you should return_  \n",
        "\n",
        "``l_filtered = ['cucumber', 'tomato', 'zucchini', 'pumpkin', 'blueberry']``."
      ]
    },
    {
      "cell_type": "code",
      "execution_count": 38,
      "id": "47106934",
      "metadata": {
        "id": "47106934"
      },
      "outputs": [],
      "source": [
        "# example list\n",
        "l = [\"apple\", \"cucumber\", \"tomato\", \"zucchini\", \"pumpkin\", \"pear\", \"raspberry\", \"blueberry\"]"
      ]
    },
    {
      "cell_type": "code",
      "source": [
        "l_filtered = re.finditer(r'\\b(?!((\\w*[a]\\w*[e]\\w*)|(\\w*[e]\\w*[a]\\w*)))\\w+\\b', str(l))\n",
        "for i in l_filtered:\n",
        "  print(i.group())\n"
      ],
      "metadata": {
        "collapsed": true,
        "colab": {
          "base_uri": "https://localhost:8080/"
        },
        "id": "Iu9SuZZQkc_P",
        "outputId": "81763bd6-77d8-494e-be78-c16d629beb68"
      },
      "id": "Iu9SuZZQkc_P",
      "execution_count": 89,
      "outputs": [
        {
          "output_type": "stream",
          "name": "stdout",
          "text": [
            "cucumber\n",
            "tomato\n",
            "zucchini\n",
            "pumpkin\n",
            "blueberry\n"
          ]
        }
      ]
    },
    {
      "cell_type": "code",
      "source": [
        "l_filtered = re.finditer(r'\\b(?!((\\w*[a]\\w*[e]\\w*)|(\\w*[e]\\w*[a]\\w*)))\\w+\\b', str(l))\n",
        "for i in l_filtered:\n",
        "  print(i.group())\n"
      ],
      "metadata": {
        "colab": {
          "base_uri": "https://localhost:8080/"
        },
        "id": "zEHu4flTspA3",
        "outputId": "7fae80f5-1b23-4d0c-cc17-d43fee219962"
      },
      "id": "zEHu4flTspA3",
      "execution_count": 77,
      "outputs": [
        {
          "output_type": "stream",
          "name": "stdout",
          "text": [
            "cucumber\n",
            "tomato\n",
            "zucchini\n",
            "pumpkin\n",
            "blueberry\n"
          ]
        }
      ]
    },
    {
      "cell_type": "code",
      "source": [
        "print(str(l))"
      ],
      "metadata": {
        "colab": {
          "base_uri": "https://localhost:8080/"
        },
        "id": "Ms-duiTnmPBL",
        "outputId": "02a577d9-5af2-4cd8-f24a-071cb60bb77e"
      },
      "id": "Ms-duiTnmPBL",
      "execution_count": 55,
      "outputs": [
        {
          "output_type": "stream",
          "name": "stdout",
          "text": [
            "['apple', 'cucumber', 'tomato', 'zucchini', 'pumpkin', 'pear', 'raspberry', 'blueberry']\n"
          ]
        }
      ]
    },
    {
      "cell_type": "markdown",
      "id": "b905ecc7",
      "metadata": {
        "id": "b905ecc7"
      },
      "source": [
        "__e)__ For the given string ``s`` with 4 lines, change the _whole_ word ``pot`` (i.e. ``pottery`` should not be changed) to ``1234`` only if it is at the start of a line.  __(2 pts)__"
      ]
    },
    {
      "cell_type": "code",
      "execution_count": 4,
      "id": "966e2b00",
      "metadata": {
        "id": "966e2b00"
      },
      "outputs": [],
      "source": [
        "s = '''\\\n",
        "pottery clot pot\n",
        "pot dot plot hot\n",
        "spot rot pot got\n",
        "not shot forgot'''"
      ]
    },
    {
      "cell_type": "code",
      "execution_count": 11,
      "id": "50f05f6e",
      "metadata": {
        "colab": {
          "base_uri": "https://localhost:8080/",
          "height": 35
        },
        "id": "50f05f6e",
        "outputId": "dd8f94be-302b-45e9-b953-332c147f22b7"
      },
      "outputs": [
        {
          "output_type": "execute_result",
          "data": {
            "text/plain": [
              "'pottery clot pot 1234 dot plot hot\\nspot rot pot got\\nnot shot forgot'"
            ],
            "application/vnd.google.colaboratory.intrinsic+json": {
              "type": "string"
            }
          },
          "metadata": {},
          "execution_count": 11
        }
      ],
      "source": [
        "re.sub(r'(^[pot]\\b)|\\n(pot)\\b', '1234',s)"
      ]
    },
    {
      "cell_type": "markdown",
      "id": "be8e4d62",
      "metadata": {
        "id": "be8e4d62"
      },
      "source": [
        "### Task 2: Finding the most similar word (18 pts)\n",
        "The goal of this task is, given a corpus, to find the most similar word for a provided word. As an example we will consider the King James Bible that is is included in the ``gutenberg`` corpus and we are looking to find the word that is most similar to ``god``. We consider two words similar if they appear in the same word context."
      ]
    },
    {
      "cell_type": "markdown",
      "id": "4036fc75",
      "metadata": {
        "id": "4036fc75"
      },
      "source": [
        "__a) Cleaning the input (3 pts)__\n",
        "\n",
        "Write a function that, given a list of tokens, returns a list of tokens that we consider valid for our task. Moreover, all input tokens should be converted to lower case.\n",
        "\n",
        "An *invalid* token is a token that\n",
        "- is a punctuation mark (consider `string.punctuation`).\n",
        "- is entirely numeric digits (e.g. `\"123\"`)\n",
        "- optionally, if `remove_stopwords=True` then stopwords in the English language are also not considered valid tokens (use nltk's stopwords).\n",
        "\n",
        "Use the function signature specified in the cell below."
      ]
    },
    {
      "cell_type": "code",
      "execution_count": null,
      "id": "975b8007",
      "metadata": {
        "id": "975b8007"
      },
      "outputs": [],
      "source": [
        "import nltk\n",
        "from nltk.corpus.reader.util import StreamBackedCorpusView\n",
        "\n",
        "def get_valid_tokens(tokens: Union[List[str], StreamBackedCorpusView], remove_stopwords: bool=False) -> List[str]:\n",
        "    \"\"\"\n",
        "    :param tokens: list of tokens that should be cleaned\n",
        "    :param remove_stopwords: bool indicating if stopwords should be removed\n",
        "                             False by default\n",
        "    :return: list of valid tokens\n",
        "    \"\"\"\n",
        "    # your code here\n",
        "    return"
      ]
    },
    {
      "cell_type": "markdown",
      "id": "81184587",
      "metadata": {
        "id": "81184587"
      },
      "source": [
        "__b) Counting the surroundings (6 pts)__\n",
        "\n",
        "In our simple model of word similarity we consider words as similar if they are being used in the same context (i.e. they have similar words surrounding them).\n",
        "\n",
        "Implement a function that, given a list of words, returns the count of all words in a designated word's surrounding. The context size indicates how many words to the left and right we consider, i.e. a context size of 1 indicates that we only consider the words immediately before and after a central word to be in its context.\n",
        "\n",
        "Your function should return a dictionary which maps each word $w$ from the input list to a dictionary. The inner dictionary should map each word that appears in the context of the central word $w$ to a number that indicates how often it appears in the context of $w$.\n",
        "\n",
        "Make sure your implementation has linear complexity in the vocabulary / corpus length. Use the function signature specified in the cell below.\n",
        "\n",
        "__Hint:__ Instead of the inner dictionary you can alternatively use `Counter` or `defaultdict` which can be found in the Python module `collections`. Moreover, consider the function ``ngrams`` from ``nltk``.\n",
        "\n",
        "__Example:__ _For the input_\n",
        "`['hi', 'james', 'how', 'are', 'you', 'hello', 'catherine', 'how', 'are', 'you']` _and_ `context_size=1`\n",
        "_we wish to obtain:_\n",
        "```\n",
        "{'hi': {'james': 1},\n",
        " 'james': {'hi': 1, 'how': 1},\n",
        " 'how': {'james': 1, 'are': 2, 'catherine': 1},\n",
        " 'are': {'how': 2, 'you': 2},\n",
        " 'you': {'are': 2, 'hello': 1},\n",
        " 'hello': {'you': 1, 'catherine': 1},\n",
        " 'catherine': {'hello': 1, 'how': 1}}\n",
        "```\n",
        "__Explanation:__ _The word_ `hi` _is only surrounded by_ `james`_. The word_ `james` _is surrounded by_ `hi` _and_ `how` _. The word_ `how` _is surrounded by_ `james`_, by_ `catherine` _and by_ `are` _twice, ..._\n",
        "\n",
        "_For_ `contextsize=2` _we obtain:_\n",
        "```\n",
        "{'hi': {'james': 1, 'how': 1},\n",
        "'james': {'hi': 1, 'how': 1, 'are': 1},\n",
        "'how': {'are': 2, 'you': 2, 'hi': 1, 'james': 1, 'hello': 1, 'catherine': 1},\n",
        "'are': {'how': 2, 'you': 2, 'james': 1, 'hello': 1, 'catherine': 1},\n",
        "'you': {'how': 2, 'are': 2, 'hello': 1, 'catherine': 1},\n",
        "'hello': {'are': 1, 'you': 1, 'catherine': 1, 'how': 1},\n",
        "'catherine': {'you': 1, 'hello': 1, 'how': 1, 'are': 1}}\n",
        "```"
      ]
    },
    {
      "cell_type": "code",
      "execution_count": null,
      "id": "6a911633",
      "metadata": {
        "id": "6a911633"
      },
      "outputs": [],
      "source": [
        "def get_surrounding_counts(tokens: Union[List[str], StreamBackedCorpusView], context_size: int) -> Dict[str, Dict[str, int]]:\n",
        "    \"\"\"\n",
        "    :param tokens: list of tokens\n",
        "    :param context_size: integer that indicates the number of context words that are considered on both sides of the central word\n",
        "    :return: dict of dicts that holds the count of context words for each input token\n",
        "    \"\"\"\n",
        "    # your code here\n",
        "    return"
      ]
    },
    {
      "cell_type": "markdown",
      "id": "841e226d",
      "metadata": {
        "id": "841e226d"
      },
      "source": [
        "__c) Keeping the top $k$ words in context (2 pts)__\n",
        "\n",
        "To reduce the size of our result from task __b)__, we will only consider the most frequent context words for each token. Therefore, write a function that keeps only the $k$ most frequent words in the context of a designated word. Ties are resolved in lexicographic order (e.g. _**A**braham_ would be preferred to _**B**ethlehem_). The function should return a dictionary that maps each word in the outer dictionary to a __set__ of their top $k$ most frequent context words."
      ]
    },
    {
      "cell_type": "code",
      "execution_count": null,
      "id": "106f0d69",
      "metadata": {
        "id": "106f0d69"
      },
      "outputs": [],
      "source": [
        "def to_sets(context_dict: Dict[str, Dict[str, int]], k: int) -> Dict[str, Set[str]]:\n",
        "    \"\"\"\n",
        "    :param context_dict: dict of dicts that holds the count of context words for each word\n",
        "    :param k: integer that specifies how many context words should be kept\n",
        "    :return: dict that maps each word to a set of its k most frequent context words\n",
        "    \"\"\"\n",
        "    # your code here\n",
        "    return"
      ]
    },
    {
      "cell_type": "markdown",
      "id": "fc84aa14",
      "metadata": {
        "id": "fc84aa14"
      },
      "source": [
        "__d) Finding the most similar words (4 pts)__\n",
        "\n",
        "Given a dictionary as obtained in task __c)__ and a word $w$, we want to find the words that have the highest similarity to $w$ in terms of their context. We operationalize context similarity with the Jaccard index (https://en.wikipedia.org/wiki/Jaccard_index).\n",
        "The Jaccard index of two sets $A$ and $B$ (in our case the sets of context words) is defined as:\n",
        "\n",
        "$J(A, B) = \\frac{|A \\cap B|}{|A \\cup B|}$\n",
        "\n",
        "Write a function that returns the words that have the highest similarity to an input word $w$ (ignoring the input word itself). Since several words may have the same Jaccard similarity to the input word, your function should return the set of words that are most similar to $w$ and the respective value of the Jaccard similarity. Use the function signature specified in the cell below."
      ]
    },
    {
      "cell_type": "code",
      "execution_count": null,
      "id": "860e680a",
      "metadata": {
        "id": "860e680a"
      },
      "outputs": [],
      "source": [
        "def find_most_similar_words(input_word: str, contexts: Dict[str, Set[str]]) -> (Set[str], float):\n",
        "    \"\"\"\n",
        "    :param input_word: string that represents the word we are interested in\n",
        "    :param contexts: dict that maps each word to a set of its most frequent context words\n",
        "    :returns:\n",
        "        - set of the most similar words to the input word\n",
        "        - float that indicates the highest Jaccard similarity to the input word\n",
        "    \"\"\"\n",
        "    # your code here\n",
        "    return"
      ]
    },
    {
      "cell_type": "markdown",
      "id": "eca0214f",
      "metadata": {
        "id": "eca0214f"
      },
      "source": [
        "__e) Bringing it all together (3 pts)__\n",
        "\n",
        "Finally, we want to apply our functions to the King James Bible (`'bible-kjv.txt'`) that is part of the ``gutenberg`` corpus. We intend to find the word(s) that is (are) most similar to ``god``. Follow the steps below:\n",
        "\n",
        "i) Obtain a list of all tokens from the King James Bible and store it in a variable ``tokens``.  \n",
        "\n",
        "ii) Clean the list of tokens with your function from __a)__ to get the list of valid tokens (without removing stopwords) and store it in a variable ``valid_tokens``.  \n",
        "\n",
        "iii) Apply your function from __b)__ to count the context words for all valid tokens with a ``context_size`` of 2 and store the result in a variable ``context_counts``.  \n",
        "\n",
        "iv) Using your function from __c)__, keep only the 20 most frequent words in a valid tokens context and store the result in a variable ``context_words``.  \n",
        "\n",
        "v) Finally, find the most similar words to the word _god_ with your function from __d)__ and store the set of most similar words in the variable ``set_god`` and the highest Jaccard similarity in the variable ``sim_god``.  "
      ]
    },
    {
      "cell_type": "code",
      "execution_count": null,
      "id": "8cfb84ee",
      "metadata": {
        "id": "8cfb84ee"
      },
      "outputs": [],
      "source": [
        "# your code here"
      ]
    },
    {
      "cell_type": "markdown",
      "id": "c303e077",
      "metadata": {
        "id": "c303e077"
      },
      "source": [
        "### Task 3: Minimum cost string alignment (8 pts)\n",
        "\n",
        "In this tak we want to compute an alignment between two strings, that has minimum edit distance.\n",
        "\n",
        "Implement a function that takes two strings and their edit distance matrix and returns a minimum cost alignment. You can assume that the edit distance matrix is provided by the function that you implemented in exercise 3, task 2, with a substitution cost of 2.\n",
        "\n",
        "A minimum cost alignment consists of two strings that, printed below each other comprise the alignment, where insertions and deletions are represented by a ``*``. Use the function signature in the cell below.\n",
        "\n",
        "__Example:__ _Given the input strings_ ``\"INTENTION\"`` _and_ ``\"EXECUTION\"`` _and the corresponding edit distance matrix:_\n",
        "\n",
        "```\n",
        "[[ 0  1  2  3  4  5  6  7  8  9]\n",
        " [ 1  2  3  4  5  6  7  6  7  8]\n",
        " [ 2  3  4  5  6  7  8  7  8  7]\n",
        " [ 3  4  5  6  7  8  7  8  9  8]\n",
        " [ 4  3  4  5  6  7  8  9 10  9]\n",
        " [ 5  4  5  6  7  8  9 10 11 10]\n",
        " [ 6  5  6  7  8  9  8  9 10 11]\n",
        " [ 7  6  7  8  9 10  9  8  9 10]\n",
        " [ 8  7  8  9 10 11 10  9  8  9]\n",
        " [ 9  8  9 10 11 12 11 10  9  8]]\n",
        "```\n",
        "\n",
        "  \n",
        "_your function should return the two strings_ ``INTE***NTION`` _and_ ``***EXECUTION`` _that represent the alignment, when printed below each other:_\n",
        "\n",
        "```\n",
        " INTE***NTION\n",
        " ***EXECUTION\n",
        "```\n",
        "\n",
        " __Remark:__ _The alignment in the example above is not the only solution. In this task all alignments with minimum edit distance are accepted._\n"
      ]
    },
    {
      "cell_type": "code",
      "execution_count": null,
      "id": "9e079add",
      "metadata": {
        "id": "9e079add"
      },
      "outputs": [],
      "source": []
    }
  ],
  "metadata": {
    "kernelspec": {
      "display_name": "Python 3 (ipykernel)",
      "language": "python",
      "name": "python3"
    },
    "language_info": {
      "codemirror_mode": {
        "name": "ipython",
        "version": 3
      },
      "file_extension": ".py",
      "mimetype": "text/x-python",
      "name": "python",
      "nbconvert_exporter": "python",
      "pygments_lexer": "ipython3",
      "version": "3.12.4"
    },
    "colab": {
      "provenance": []
    }
  },
  "nbformat": 4,
  "nbformat_minor": 5
}