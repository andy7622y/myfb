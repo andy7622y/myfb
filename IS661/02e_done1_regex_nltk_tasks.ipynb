{
  "cells": [
    {
      "cell_type": "markdown",
      "id": "4aad2a78",
      "metadata": {
        "id": "4aad2a78"
      },
      "source": [
        "# Exercise 02: Regular Expressions and the Natural Language Toolkit"
      ]
    },
    {
      "cell_type": "markdown",
      "id": "c63068b6",
      "metadata": {
        "id": "c63068b6"
      },
      "source": [
        "### Task 1: Regular Expressions\n",
        "In this task we're working with the `re` package of Python. Take a look at the documentation to solve the following subtasks: https://docs.python.org/3/library/re.html"
      ]
    },
    {
      "cell_type": "code",
      "execution_count": 1,
      "id": "695a3878",
      "metadata": {
        "id": "695a3878"
      },
      "outputs": [],
      "source": [
        "# import the re package\n",
        "import re"
      ]
    },
    {
      "cell_type": "markdown",
      "id": "ce209f79",
      "metadata": {
        "id": "ce209f79"
      },
      "source": [
        "Make yourself familiar with the different kinds of regex commands `re.XXXX(pattern, string)` available in python. Describe the differences between them.\n",
        "\n",
        "* re.search()\n",
        "* re.match()\n",
        "* re.fullmatch()\n",
        "* re.split()\n",
        "* re.findall()\n",
        "* re.finditer()"
      ]
    },
    {
      "cell_type": "code",
      "execution_count": null,
      "id": "51abed78",
      "metadata": {
        "id": "51abed78"
      },
      "outputs": [],
      "source": []
    },
    {
      "cell_type": "markdown",
      "id": "3860f2dc",
      "metadata": {
        "id": "3860f2dc"
      },
      "source": [
        "__a)__ Write a regular expression that checks if \"Hello World\" is contained in a string."
      ]
    },
    {
      "cell_type": "code",
      "execution_count": 2,
      "id": "dbd13993",
      "metadata": {
        "id": "dbd13993"
      },
      "outputs": [],
      "source": [
        "positive = \"this is a Hello World test \"\n",
        "negative = \"this is a H3ll0 W0rld Test \""
      ]
    },
    {
      "cell_type": "code",
      "execution_count": 7,
      "id": "b19cd78a",
      "metadata": {
        "id": "b19cd78a",
        "outputId": "ff54d7b7-9306-4c38-b6d2-0a21ce5e6893",
        "colab": {
          "base_uri": "https://localhost:8080/",
          "height": 228
        }
      },
      "outputs": [
        {
          "output_type": "stream",
          "name": "stdout",
          "text": [
            "<re.Match object; span=(10, 21), match='Hello World'>\n",
            "Hello World\n",
            "None\n"
          ]
        },
        {
          "output_type": "error",
          "ename": "AttributeError",
          "evalue": "'NoneType' object has no attribute 'group'",
          "traceback": [
            "\u001b[0;31m---------------------------------------------------------------------------\u001b[0m",
            "\u001b[0;31mAttributeError\u001b[0m                            Traceback (most recent call last)",
            "\u001b[0;32m<ipython-input-7-853353412aea>\u001b[0m in \u001b[0;36m<cell line: 7>\u001b[0;34m()\u001b[0m\n\u001b[1;32m      5\u001b[0m \u001b[0;34m\u001b[0m\u001b[0m\n\u001b[1;32m      6\u001b[0m \u001b[0mprint\u001b[0m\u001b[0;34m(\u001b[0m\u001b[0mb\u001b[0m\u001b[0;34m)\u001b[0m\u001b[0;34m\u001b[0m\u001b[0;34m\u001b[0m\u001b[0m\n\u001b[0;32m----> 7\u001b[0;31m \u001b[0mprint\u001b[0m\u001b[0;34m(\u001b[0m\u001b[0mb\u001b[0m\u001b[0;34m.\u001b[0m\u001b[0mgroup\u001b[0m\u001b[0;34m(\u001b[0m\u001b[0;34m)\u001b[0m\u001b[0;34m)\u001b[0m\u001b[0;34m\u001b[0m\u001b[0;34m\u001b[0m\u001b[0m\n\u001b[0m",
            "\u001b[0;31mAttributeError\u001b[0m: 'NoneType' object has no attribute 'group'"
          ]
        }
      ],
      "source": [
        "a = re.search('Hello World', positive)\n",
        "b = re.search('Hello World', negative)\n",
        "print(a)\n",
        "print(a.group())\n",
        "\n",
        "print(b)\n",
        "print(b.group())\n"
      ]
    },
    {
      "cell_type": "code",
      "source": [
        "a = re.search(r'Hello World', positive)\n",
        "b = re.search(r'Hello World', negative)\n",
        "print(a)\n",
        "print(re.search('Hello World', negative).group())\n",
        "\n",
        "\n"
      ],
      "metadata": {
        "id": "ygVkSMffszdk",
        "outputId": "f2a78d77-ce3d-4722-dde6-d04bca50c7f7",
        "colab": {
          "base_uri": "https://localhost:8080/",
          "height": 228
        }
      },
      "id": "ygVkSMffszdk",
      "execution_count": 11,
      "outputs": [
        {
          "output_type": "stream",
          "name": "stdout",
          "text": [
            "<re.Match object; span=(10, 21), match='Hello World'>\n"
          ]
        },
        {
          "output_type": "error",
          "ename": "AttributeError",
          "evalue": "'NoneType' object has no attribute 'group'",
          "traceback": [
            "\u001b[0;31m---------------------------------------------------------------------------\u001b[0m",
            "\u001b[0;31mAttributeError\u001b[0m                            Traceback (most recent call last)",
            "\u001b[0;32m<ipython-input-11-42ccced7df68>\u001b[0m in \u001b[0;36m<cell line: 4>\u001b[0;34m()\u001b[0m\n\u001b[1;32m      2\u001b[0m \u001b[0mb\u001b[0m \u001b[0;34m=\u001b[0m \u001b[0mre\u001b[0m\u001b[0;34m.\u001b[0m\u001b[0msearch\u001b[0m\u001b[0;34m(\u001b[0m\u001b[0;34mr'Hello World'\u001b[0m\u001b[0;34m,\u001b[0m \u001b[0mnegative\u001b[0m\u001b[0;34m)\u001b[0m\u001b[0;34m\u001b[0m\u001b[0;34m\u001b[0m\u001b[0m\n\u001b[1;32m      3\u001b[0m \u001b[0mprint\u001b[0m\u001b[0;34m(\u001b[0m\u001b[0ma\u001b[0m\u001b[0;34m)\u001b[0m\u001b[0;34m\u001b[0m\u001b[0;34m\u001b[0m\u001b[0m\n\u001b[0;32m----> 4\u001b[0;31m \u001b[0mprint\u001b[0m\u001b[0;34m(\u001b[0m\u001b[0mre\u001b[0m\u001b[0;34m.\u001b[0m\u001b[0msearch\u001b[0m\u001b[0;34m(\u001b[0m\u001b[0;34m'Hello World'\u001b[0m\u001b[0;34m,\u001b[0m \u001b[0mnegative\u001b[0m\u001b[0;34m)\u001b[0m\u001b[0;34m.\u001b[0m\u001b[0mgroup\u001b[0m\u001b[0;34m(\u001b[0m\u001b[0;34m)\u001b[0m\u001b[0;34m)\u001b[0m\u001b[0;34m\u001b[0m\u001b[0;34m\u001b[0m\u001b[0m\n\u001b[0m\u001b[1;32m      5\u001b[0m \u001b[0;34m\u001b[0m\u001b[0m\n\u001b[1;32m      6\u001b[0m \u001b[0;34m\u001b[0m\u001b[0m\n",
            "\u001b[0;31mAttributeError\u001b[0m: 'NoneType' object has no attribute 'group'"
          ]
        }
      ]
    },
    {
      "cell_type": "markdown",
      "id": "d8fb00d7",
      "metadata": {
        "id": "d8fb00d7"
      },
      "source": [
        "__b)__ Write a regular expression that selects all integer numbers from a text."
      ]
    },
    {
      "cell_type": "code",
      "execution_count": 12,
      "id": "bbc73173",
      "metadata": {
        "id": "bbc73173"
      },
      "outputs": [],
      "source": [
        "s1 = \"This is a text written in 2022, and it contains numbers like one, 2, 3. Other numbers like 123 are also detected.\""
      ]
    },
    {
      "cell_type": "code",
      "execution_count": 13,
      "id": "b4386d29",
      "metadata": {
        "id": "b4386d29",
        "outputId": "f59e9d15-ce4a-4f63-88f1-2100f12ea371",
        "colab": {
          "base_uri": "https://localhost:8080/"
        }
      },
      "outputs": [
        {
          "output_type": "execute_result",
          "data": {
            "text/plain": [
              "['2022', '2', '3', '123']"
            ]
          },
          "metadata": {},
          "execution_count": 13
        }
      ],
      "source": [
        "re.findall(r'[\\d]+', s1)"
      ]
    },
    {
      "cell_type": "markdown",
      "id": "1876c6cf",
      "metadata": {
        "id": "1876c6cf"
      },
      "source": [
        "__c)__ Write a regular expression that finds two (lower-case) words connected by a \"-\" (e.g., ill-advised)."
      ]
    },
    {
      "cell_type": "code",
      "execution_count": 15,
      "id": "62eef05c",
      "metadata": {
        "id": "62eef05c"
      },
      "outputs": [],
      "source": [
        "s2 = \"This my so-so example text. try so-o0 and No-prob1em. It features well-received meaningless words. The string 1-2 should not be returned.\""
      ]
    },
    {
      "cell_type": "code",
      "execution_count": 18,
      "id": "4093655a",
      "metadata": {
        "id": "4093655a",
        "outputId": "f850196d-8c48-4220-c8ee-c9522da38360",
        "colab": {
          "base_uri": "https://localhost:8080/"
        }
      },
      "outputs": [
        {
          "output_type": "execute_result",
          "data": {
            "text/plain": [
              "['so-so', 'well-received']"
            ]
          },
          "metadata": {},
          "execution_count": 18
        }
      ],
      "source": [
        "re.findall(r'\\b[a-z]+-[a-z]+\\b', s2)"
      ]
    },
    {
      "cell_type": "markdown",
      "id": "7bdeeea1",
      "metadata": {
        "id": "7bdeeea1"
      },
      "source": [
        "__d)__ Write a regular expression that selects numbers with at least 4 digits from a text\n"
      ]
    },
    {
      "cell_type": "code",
      "execution_count": 19,
      "id": "cfcdb82b",
      "metadata": {
        "id": "cfcdb82b"
      },
      "outputs": [],
      "source": [
        "s3 = \"This is a 2022 text, the third useless text I'm writing after 2021 ended. Larger numbers like 63527 should be detected, but smaller numbers like 123 should not.\""
      ]
    },
    {
      "cell_type": "code",
      "execution_count": 22,
      "id": "eb6f5a2f",
      "metadata": {
        "id": "eb6f5a2f",
        "outputId": "6d8f1577-339f-443c-c4fc-6f9e13498db8",
        "colab": {
          "base_uri": "https://localhost:8080/"
        }
      },
      "outputs": [
        {
          "output_type": "execute_result",
          "data": {
            "text/plain": [
              "['2022', '2021', '63527']"
            ]
          },
          "metadata": {},
          "execution_count": 22
        }
      ],
      "source": [
        "re.findall(r'\\d{4,}', s3)   #no use [\\d{4,}]+ since it matches any single character inside the brackets \\d, {, 4, ,, and }"
      ]
    },
    {
      "cell_type": "markdown",
      "id": "bbf603d7",
      "metadata": {
        "id": "bbf603d7"
      },
      "source": [
        "__d)__ Write a regular expression that extract dates in the format YYYY-MM-DD:\n",
        "Assume that Y, M or D are valid when they are digits."
      ]
    },
    {
      "cell_type": "code",
      "execution_count": 25,
      "id": "4641c2b1",
      "metadata": {
        "id": "4641c2b1"
      },
      "outputs": [],
      "source": [
        "s4 = \"2017-05-12 and 2018-01-01 are correct formats,  2017-25-01 is also valid. Not valid is 03.05.22, neither is 12/12/2017. neither is 12540-85-58. neither is 3584-13-32\""
      ]
    },
    {
      "cell_type": "code",
      "execution_count": 24,
      "id": "d814c49b",
      "metadata": {
        "id": "d814c49b",
        "outputId": "73daec76-0ee9-4c10-c22a-9a9ff7868464",
        "colab": {
          "base_uri": "https://localhost:8080/"
        }
      },
      "outputs": [
        {
          "output_type": "execute_result",
          "data": {
            "text/plain": [
              "['2017-05-12', '2018-01-01', '2017-25-01']"
            ]
          },
          "metadata": {},
          "execution_count": 24
        }
      ],
      "source": [
        "re.findall(r'\\d{4}-\\d{2}-\\d{2}', s4)"
      ]
    },
    {
      "cell_type": "markdown",
      "id": "f8eded5f",
      "metadata": {
        "id": "f8eded5f"
      },
      "source": [
        "__e)__ Write a regular expression that finds all URLS in a string. For sake of simplicity, a url starts with \"http://\" or \"https://\" and contains at least one dot, which is not at the end."
      ]
    },
    {
      "cell_type": "code",
      "execution_count": 36,
      "id": "d61158c2",
      "metadata": {
        "id": "d61158c2"
      },
      "outputs": [],
      "source": [
        "s5 = \"The url http://example1.com/emajpf/ejisjl.cor should be returned, as well as https://www.example2.com#fef=di_eies123f. Let's try http://test.\""
      ]
    },
    {
      "cell_type": "code",
      "execution_count": 55,
      "id": "15e77fec",
      "metadata": {
        "id": "15e77fec",
        "outputId": "2a5b0584-65fb-4c80-dede-15d5f79c6c05",
        "colab": {
          "base_uri": "https://localhost:8080/"
        }
      },
      "outputs": [
        {
          "output_type": "stream",
          "name": "stdout",
          "text": [
            "http://example1.com/emajpf/ejisjl.cor\n",
            "https://www.example2.com#fef=di_eies123f\n"
          ]
        }
      ],
      "source": [
        "c = re.finditer(r'https?://([^\\s]+\\.[^\\s\\.]+)', s5)\n",
        "#[^\\s]+ is any character expect for the space but not ^[\\s]+\n",
        "#\\.[^\\s\\.]+ here + is important, otherwise it only focus the 1 letter\n",
        "\n",
        "for i in c:\n",
        "  print(i.group())"
      ]
    },
    {
      "cell_type": "code",
      "source": [
        "# negative lookbehind: (?<!pattern)\n",
        "d = re.finditer(r'https?://[^\\s]+(?<!\\.)', s5)\n",
        "# match the content begins with http(s):// and ends with '.' in the end of the sentence\n",
        "\n",
        "for i in d:\n",
        "  print(i.group())"
      ],
      "metadata": {
        "id": "ZPiQKaFp0Y2E",
        "outputId": "de92370f-0fda-473b-9755-9accd5c76e53",
        "colab": {
          "base_uri": "https://localhost:8080/"
        }
      },
      "id": "ZPiQKaFp0Y2E",
      "execution_count": 56,
      "outputs": [
        {
          "output_type": "stream",
          "name": "stdout",
          "text": [
            "http://example1.com/emajpf/ejisjl.cor\n",
            "https://www.example2.com#fef=di_eies123f\n",
            "http://test\n"
          ]
        }
      ]
    },
    {
      "cell_type": "code",
      "source": [
        "re.findall(r'http://[\\w\\./^*-_]+\\.[\\w/^*-_#]+', s5)"
      ],
      "metadata": {
        "id": "lh1iNAS6xGjC",
        "outputId": "4ec362b8-3cff-4655-be87-8dbfe8b7a11a",
        "colab": {
          "base_uri": "https://localhost:8080/"
        }
      },
      "id": "lh1iNAS6xGjC",
      "execution_count": 41,
      "outputs": [
        {
          "output_type": "execute_result",
          "data": {
            "text/plain": [
              "['http://example1.com/emajpf/ejisjl.cor']"
            ]
          },
          "metadata": {},
          "execution_count": 41
        }
      ]
    },
    {
      "cell_type": "markdown",
      "id": "13d35428",
      "metadata": {
        "id": "13d35428"
      },
      "source": [
        "__f)__ Replace all occurences of _two_ as whole word with _2_ in a string."
      ]
    },
    {
      "cell_type": "code",
      "execution_count": 63,
      "id": "7b27cc88",
      "metadata": {
        "id": "7b27cc88"
      },
      "outputs": [],
      "source": [
        "s6 = \"An easy math task is two + 3 = 5. The infix Two in the word twofold should remain unchanged, though.\""
      ]
    },
    {
      "cell_type": "code",
      "execution_count": 64,
      "id": "9850e5d4",
      "metadata": {
        "id": "9850e5d4",
        "outputId": "81fe469a-40f5-4d2e-e13c-abcb80911ab1",
        "colab": {
          "base_uri": "https://localhost:8080/",
          "height": 35
        }
      },
      "outputs": [
        {
          "output_type": "execute_result",
          "data": {
            "text/plain": [
              "'An easy math task is 2 + 3 = 5. The infix Two in the word 2fold should remain unchanged, though.'"
            ],
            "application/vnd.google.colaboratory.intrinsic+json": {
              "type": "string"
            }
          },
          "metadata": {},
          "execution_count": 64
        }
      ],
      "source": [
        "s6.replace('two', '2')\n",
        "# replace anything including 'two' so not suitable in this case"
      ]
    },
    {
      "cell_type": "code",
      "source": [
        "re.sub(r'\\btwo\\b', '2', s6, flags=re.I)\n",
        "# flags=re.I: ignore the differences of capitalization"
      ],
      "metadata": {
        "id": "0Ck5TCpD11u1",
        "outputId": "7695280f-0c40-4bb1-e935-f2027b193a8b",
        "colab": {
          "base_uri": "https://localhost:8080/",
          "height": 35
        }
      },
      "id": "0Ck5TCpD11u1",
      "execution_count": 65,
      "outputs": [
        {
          "output_type": "execute_result",
          "data": {
            "text/plain": [
              "'An easy math task is 2 + 3 = 5. The infix 2 in the word twofold should remain unchanged, though.'"
            ],
            "application/vnd.google.colaboratory.intrinsic+json": {
              "type": "string"
            }
          },
          "metadata": {},
          "execution_count": 65
        }
      ]
    },
    {
      "cell_type": "markdown",
      "id": "2bc7e0cc",
      "metadata": {
        "id": "2bc7e0cc"
      },
      "source": [
        "__g)__ Return a list with all elements from the given list that don't contain the letter 'a'."
      ]
    },
    {
      "cell_type": "code",
      "execution_count": 68,
      "id": "a6b4e7e6",
      "metadata": {
        "id": "a6b4e7e6"
      },
      "outputs": [],
      "source": [
        "l = [\"apple\", \"cucumber\", \"tomato\", \"zucchini\", \"pumpkin\", \"pear\"]"
      ]
    },
    {
      "cell_type": "code",
      "execution_count": 72,
      "id": "67223ef3",
      "metadata": {
        "id": "67223ef3",
        "outputId": "c900f2fe-ab39-458b-fc49-b6b7ad8ec120",
        "colab": {
          "base_uri": "https://localhost:8080/"
        }
      },
      "outputs": [
        {
          "output_type": "stream",
          "name": "stdout",
          "text": [
            "['cucumber', 'zucchini', 'pumpkin']\n"
          ]
        }
      ],
      "source": [
        "resl = []\n",
        "for i in l:\n",
        "  if not re.search(r'a', i):\n",
        "    resl.append(i)\n",
        "\n",
        "print(resl)"
      ]
    },
    {
      "cell_type": "markdown",
      "id": "da3f5895",
      "metadata": {
        "id": "da3f5895"
      },
      "source": [
        "### Task 2: Natural Language Toolkit\n",
        "In the next task we're working with the Natural Language Toolkit (NLTK) package of Python, which is a powerful open source library for Natural Language Processing. Make sure you have the package installed and the documentation ready: https://www.nltk.org/api/nltk.html.\n",
        "\n",
        "Then download the Gutenberg corpus and the Punkt sentence tokenization models. `nltk.download()` without parameters provides an interactive interface."
      ]
    },
    {
      "cell_type": "code",
      "execution_count": 89,
      "id": "3df2daf9",
      "metadata": {
        "id": "3df2daf9",
        "outputId": "897556ee-7583-4466-9da2-40281297b4ad",
        "colab": {
          "base_uri": "https://localhost:8080/"
        }
      },
      "outputs": [
        {
          "output_type": "stream",
          "name": "stderr",
          "text": [
            "[nltk_data] Downloading package gutenberg to /root/nltk_data...\n",
            "[nltk_data]   Package gutenberg is already up-to-date!\n",
            "[nltk_data] Downloading package punkt_tab to /root/nltk_data...\n",
            "[nltk_data]   Package punkt_tab is already up-to-date!\n",
            "[nltk_data] Downloading package punkt to /root/nltk_data...\n",
            "[nltk_data]   Unzipping tokenizers/punkt.zip.\n"
          ]
        },
        {
          "output_type": "execute_result",
          "data": {
            "text/plain": [
              "True"
            ]
          },
          "metadata": {},
          "execution_count": 89
        }
      ],
      "source": [
        "# import the NLTK package\n",
        "import nltk\n",
        "\n",
        "# download the Gutenberg corpus\n",
        "nltk.download(\"gutenberg\")\n",
        "# download tokenization models\n",
        "# nltk.download(\"punkt\")\n",
        "# current nltk version requires punkt_tab\n",
        "nltk.download(\"punkt_tab\")\n",
        "nltk.download(\"punkt\")"
      ]
    },
    {
      "cell_type": "markdown",
      "id": "ddc99eb1",
      "metadata": {
        "id": "ddc99eb1"
      },
      "source": [
        "__a)__ Import the ``gutenberg`` corpus reader from the ``corpus`` module of the ``nltk`` package. What does the Gutenberg corpus contain?"
      ]
    },
    {
      "cell_type": "code",
      "execution_count": 74,
      "id": "6768764d",
      "metadata": {
        "id": "6768764d",
        "outputId": "7ecd792f-9431-4d24-d199-3886ee2cd619",
        "colab": {
          "base_uri": "https://localhost:8080/",
          "height": 106
        }
      },
      "outputs": [
        {
          "output_type": "error",
          "ename": "SyntaxError",
          "evalue": "invalid syntax (<ipython-input-74-076b97c78c39>, line 1)",
          "traceback": [
            "\u001b[0;36m  File \u001b[0;32m\"<ipython-input-74-076b97c78c39>\"\u001b[0;36m, line \u001b[0;32m1\u001b[0m\n\u001b[0;31m    import gutenberg from nltk.corpus\u001b[0m\n\u001b[0m                     ^\u001b[0m\n\u001b[0;31mSyntaxError\u001b[0m\u001b[0;31m:\u001b[0m invalid syntax\n"
          ]
        }
      ],
      "source": [
        "import gutenberg from nltk.corpus"
      ]
    },
    {
      "cell_type": "code",
      "source": [
        "from nltk.corpus import gutenberg\n",
        "\n",
        "gutenberg.read()"
      ],
      "metadata": {
        "id": "VARwm37n33WP",
        "outputId": "f0d650e3-a71c-4c55-9a75-aba92e3cbdf8",
        "colab": {
          "base_uri": "https://localhost:8080/",
          "height": 176
        }
      },
      "id": "VARwm37n33WP",
      "execution_count": 76,
      "outputs": [
        {
          "output_type": "error",
          "ename": "AttributeError",
          "evalue": "'PlaintextCorpusReader' object has no attribute 'read'",
          "traceback": [
            "\u001b[0;31m---------------------------------------------------------------------------\u001b[0m",
            "\u001b[0;31mAttributeError\u001b[0m                            Traceback (most recent call last)",
            "\u001b[0;32m<ipython-input-76-a355e2e203b6>\u001b[0m in \u001b[0;36m<cell line: 3>\u001b[0;34m()\u001b[0m\n\u001b[1;32m      1\u001b[0m \u001b[0;32mfrom\u001b[0m \u001b[0mnltk\u001b[0m\u001b[0;34m.\u001b[0m\u001b[0mcorpus\u001b[0m \u001b[0;32mimport\u001b[0m \u001b[0mgutenberg\u001b[0m\u001b[0;34m\u001b[0m\u001b[0;34m\u001b[0m\u001b[0m\n\u001b[1;32m      2\u001b[0m \u001b[0;34m\u001b[0m\u001b[0m\n\u001b[0;32m----> 3\u001b[0;31m \u001b[0mgutenberg\u001b[0m\u001b[0;34m.\u001b[0m\u001b[0mread\u001b[0m\u001b[0;34m(\u001b[0m\u001b[0;34m)\u001b[0m\u001b[0;34m\u001b[0m\u001b[0;34m\u001b[0m\u001b[0m\n\u001b[0m",
            "\u001b[0;31mAttributeError\u001b[0m: 'PlaintextCorpusReader' object has no attribute 'read'"
          ]
        }
      ]
    },
    {
      "cell_type": "code",
      "source": [
        "print(gutenberg.readme())"
      ],
      "metadata": {
        "collapsed": true,
        "id": "RjCI1ROB4Be3",
        "outputId": "8c2a6c1a-cb7c-47d5-d6a9-cef0d2a14f64",
        "colab": {
          "base_uri": "https://localhost:8080/"
        }
      },
      "id": "RjCI1ROB4Be3",
      "execution_count": 78,
      "outputs": [
        {
          "output_type": "stream",
          "name": "stdout",
          "text": [
            "Project Gutenberg Selections\n",
            "http://gutenberg.net/\n",
            "\n",
            "This corpus contains etexts from from Project Gutenberg,\n",
            "by the following authors:\n",
            "\n",
            "* Jane Austen (3)\n",
            "* William Blake (2)\n",
            "* Thornton W. Burgess\n",
            "* Sarah Cone Bryant\n",
            "* Lewis Carroll\n",
            "* G. K. Chesterton (3)\n",
            "* Maria Edgeworth\n",
            "* King James Bible\n",
            "* Herman Melville\n",
            "* John Milton\n",
            "* William Shakespeare (3)\n",
            "* Walt Whitman\n",
            "\n",
            "The beginning of the body of each book could not be identified automatically,\n",
            "so the semi-generic header of each file has been removed, and included below.\n",
            "Some source files ended with a line \"End of The Project Gutenberg Etext...\",\n",
            "and this has been deleted.\n",
            "\n",
            "Information about Project Gutenberg (one page)\n",
            "\n",
            "We produce about two million dollars for each hour we work.  The\n",
            "fifty hours is one conservative estimate for how long it we take\n",
            "to get any etext selected, entered, proofread, edited, copyright\n",
            "searched and analyzed, the copyright letters written, etc.  This\n",
            "projected audience is one hundred million readers.  If our value\n",
            "per text is nominally estimated at one dollar, then we produce 2\n",
            "million dollars per hour this year we, will have to do four text\n",
            "files per month:  thus upping our productivity from one million.\n",
            "The Goal of Project Gutenberg is to Give Away One Trillion Etext\n",
            "Files by the December 31, 2001.  [10,000 x 100,000,000=Trillion]\n",
            "This is ten thousand titles each to one hundred million readers,\n",
            "which is 10% of the expected number of computer users by the end\n",
            "of the year 2001.\n",
            "\n",
            "We need your donations more than ever!\n",
            "\n",
            "All donations should be made to \"Project Gutenberg/IBC\", and are\n",
            "tax deductible to the extent allowable by law (\"IBC\" is Illinois\n",
            "Benedictine College).  (Subscriptions to our paper newsletter go\n",
            "to IBC, too)\n",
            "\n",
            "For these and other matters, please mail to:\n",
            "\n",
            "Project Gutenberg\n",
            "P. O. Box  2782\n",
            "Champaign, IL 61825\n",
            "\n",
            "When all other email fails try our Michael S. Hart, Executive\n",
            "Director:\n",
            "hart@vmd.cso.uiuc.edu (internet)   hart@uiucvmd   (bitnet)\n",
            "\n",
            "We would prefer to send you this information by email\n",
            "(Internet, Bitnet, Compuserve, ATTMAIL or MCImail).\n",
            "\n",
            "******\n",
            "If you have an FTP program (or emulator), please\n",
            "FTP directly to the Project Gutenberg archives:\n",
            "[Mac users, do NOT point and click. . .type]\n",
            "\n",
            "ftp mrcnext.cso.uiuc.edu\n",
            "login:  anonymous\n",
            "password:  your@login\n",
            "cd etext/etext91\n",
            "or cd etext92\n",
            "or cd etext93 [for new books]  [now also in cd etext/etext93]\n",
            "or cd etext/articles [get suggest gut for more information]\n",
            "dir [to see files]\n",
            "get or mget [to get files. . .set bin for zip files]\n",
            "get INDEX100.GUT\n",
            "get INDEX200.GUT\n",
            "for a list of books\n",
            "and\n",
            "get NEW.GUT for general information\n",
            "and\n",
            "mget GUT* for newsletters.\n",
            "\n",
            "**Information prepared by the Project Gutenberg legal advisor**\n",
            "(Three Pages)\n",
            "\n",
            "\n",
            "***START**THE SMALL PRINT!**FOR PUBLIC DOMAIN ETEXTS**START***\n",
            "Why is this \"Small Print!\" statement here?  You know: lawyers.\n",
            "They tell us you might sue us if there is something wrong with\n",
            "your copy of this etext, even if you got it for free from\n",
            "someone other than us, and even if what's wrong is not our\n",
            "fault.  So, among other things, this \"Small Print!\" statement\n",
            "disclaims most of our liability to you.  It also tells you how\n",
            "you can distribute copies of this etext if you want to.\n",
            "\n",
            "*BEFORE!* YOU USE OR READ THIS ETEXT\n",
            "By using or reading any part of this PROJECT GUTENBERG-tm\n",
            "etext, you indicate that you understand, agree to and accept\n",
            "this \"Small Print!\" statement.  If you do not, you can receive\n",
            "a refund of the money (if any) you paid for this etext by\n",
            "sending a request within 30 days of receiving it to the person\n",
            "you got it from.  If you received this etext on a physical\n",
            "medium (such as a disk), you must return it with your request.\n",
            "\n",
            "ABOUT PROJECT GUTENBERG-TM ETEXTS\n",
            "This PROJECT GUTENBERG-tm etext, like most PROJECT GUTENBERG-\n",
            "tm etexts, is a \"public domain\" work distributed by Professor\n",
            "Michael S. Hart through the Project Gutenberg Association at\n",
            "Illinois Benedictine College (the \"Project\").  Among other\n",
            "things, this means that no one owns a United States copyright\n",
            "on or for this work, so the Project (and you!) can copy and\n",
            "distribute it in the United States without permission and\n",
            "without paying copyright royalties.  Special rules, set forth\n",
            "below, apply if you wish to copy and distribute this etext\n",
            "under the Project's \"PROJECT GUTENBERG\" trademark.\n",
            "\n",
            "To create these etexts, the Project expends considerable\n",
            "efforts to identify, transcribe and proofread public domain\n",
            "works.  Despite these efforts, the Project's etexts and any\n",
            "medium they may be on may contain \"Defects\".  Among other\n",
            "things, Defects may take the form of incomplete, inaccurate or\n",
            "corrupt data, transcription errors, a copyright or other\n",
            "intellectual property infringement, a defective or damaged\n",
            "disk or other etext medium, a computer virus, or computer\n",
            "codes that damage or cannot be read by your equipment.\n",
            "\n",
            "LIMITED WARRANTY; DISCLAIMER OF DAMAGES\n",
            "But for the \"Right of Replacement or Refund\" described below,\n",
            "[1] the Project (and any other party you may receive this\n",
            "etext from as a PROJECT GUTENBERG-tm etext) disclaims all\n",
            "liability to you for damages, costs and expenses, including\n",
            "legal fees, and [2] YOU HAVE NO REMEDIES FOR NEGLIGENCE OR\n",
            "UNDER STRICT LIABILITY, OR FOR BREACH OF WARRANTY OR CONTRACT,\n",
            "INCLUDING BUT NOT LIMITED TO INDIRECT, CONSEQUENTIAL, PUNITIVE\n",
            "OR INCIDENTAL DAMAGES, EVEN IF YOU GIVE NOTICE OF THE\n",
            "POSSIBILITY OF SUCH DAMAGES.\n",
            "\n",
            "If you discover a Defect in this etext within 90 days of\n",
            "receiving it, you can receive a refund of the money (if any)\n",
            "you paid for it by sending an explanatory note within that\n",
            "time to the person you received it from.  If you received it\n",
            "on a physical medium, you must return it with your note, and\n",
            "such person may choose to alternatively give you a replacement\n",
            "copy.  If you received it electronically, such person may\n",
            "choose to alternatively give you a second opportunity to\n",
            "receive it electronically.\n",
            "\n",
            "THIS ETEXT IS OTHERWISE PROVIDED TO YOU \"AS-IS\".  NO OTHER\n",
            "WARRANTIES OF ANY KIND, EXPRESS OR IMPLIED, ARE MADE TO YOU AS\n",
            "TO THE ETEXT OR ANY MEDIUM IT MAY BE ON, INCLUDING BUT NOT\n",
            "LIMITED TO WARRANTIES OF MERCHANTABILITY OR FITNESS FOR A\n",
            "PARTICULAR PURPOSE.\n",
            "\n",
            "Some states do not allow disclaimers of implied warranties or\n",
            "the exclusion or limitation of consequential damages, so the\n",
            "above disclaimers and exclusions may not apply to you, and you\n",
            "may have other legal rights.\n",
            "\n",
            "INDEMNITY\n",
            "You will indemnify and hold the Project, its directors,\n",
            "officers, members and agents harmless from all liability, cost\n",
            "and expense, including legal fees, that arise directly or\n",
            "indirectly from any of the following that you do or cause:\n",
            "[1] distribution of this etext, [2] alteration, modification,\n",
            "or addition to the etext, or [3] any Defect.\n",
            "\n",
            "DISTRIBUTION UNDER \"PROJECT GUTENBERG-tm\"\n",
            "You may distribute copies of this etext electronically, or by\n",
            "disk, book or any other medium if you either delete this\n",
            "\"Small Print!\" and all other references to Project Gutenberg,\n",
            "or:\n",
            "\n",
            "[1]  Only give exact copies of it.  Among other things, this\n",
            "     requires that you do not remove, alter or modify the\n",
            "     etext or this \"small print!\" statement.  You may however,\n",
            "     if you wish, distribute this etext in machine readable\n",
            "     binary, compressed, mark-up, or proprietary form,\n",
            "     including any form resulting from conversion by word pro-\n",
            "     cessing or hypertext software, but only so long as\n",
            "     *EITHER*:\n",
            "\n",
            "     [*]  The etext, when displayed, is clearly readable, and\n",
            "          does *not* contain characters other than those\n",
            "          intended by the author of the work, although tilde\n",
            "          (~), asterisk (*) and underline (_) characters may\n",
            "          be used to convey punctuation intended by the\n",
            "          author, and additional characters may be used to\n",
            "          indicate hypertext links; OR\n",
            "\n",
            "     [*]  The etext may be readily converted by the reader at\n",
            "          no expense into plain ASCII, EBCDIC or equivalent\n",
            "          form by the program that displays the etext (as is\n",
            "          the case, for instance, with most word processors);\n",
            "          OR\n",
            "\n",
            "     [*]  You provide, or agree to also provide on request at\n",
            "          no additional cost, fee or expense, a copy of the\n",
            "          etext in its original plain ASCII form (or in EBCDIC\n",
            "          or other equivalent proprietary form).\n",
            "\n",
            "[2]  Honor the etext refund and replacement provisions of this\n",
            "     \"Small Print!\" statement.\n",
            "\n",
            "[3]  Pay a trademark license fee to the Project of 20% of the\n",
            "     net profits you derive calculated using the method you\n",
            "     already use to calculate your applicable taxes.  If you\n",
            "     don't derive profits, no royalty is due.  Royalties are\n",
            "     payable to \"Project Gutenberg Association / Illinois\n",
            "     Benedictine College\" within the 60 days following each\n",
            "     date you prepare (or were legally required to prepare)\n",
            "     your annual (or equivalent periodic) tax return.\n",
            "\n",
            "WHAT IF YOU *WANT* TO SEND MONEY EVEN IF YOU DON'T HAVE TO?\n",
            "The Project gratefully accepts contributions in money, time,\n",
            "scanning machines, OCR software, public domain etexts, royalty\n",
            "free copyright licenses, and every other sort of contribution\n",
            "you can think of.  Money should be paid to \"Project Gutenberg\n",
            "Association / Illinois Benedictine College\".\n",
            "\n",
            "This \"Small Print!\" by Charles B. Kramer, Attorney\n",
            "Internet (72600.2026@compuserve.com); TEL: (212-254-5093)\n",
            "*END*THE SMALL PRINT! FOR PUBLIC DOMAIN ETEXTS*Ver.04.29.93*END*\n",
            "\n"
          ]
        }
      ]
    },
    {
      "cell_type": "markdown",
      "id": "375e10ae",
      "metadata": {
        "id": "375e10ae"
      },
      "source": [
        "__b)__ Have a look at the book \"Persuasion\" by Jane Austen (``austen-persuasion.txt``). Print the number of words and the number of sentences that the book contains. How many unique words can you find? What fraction of sentences contain the word \"Anne\"?"
      ]
    },
    {
      "cell_type": "code",
      "execution_count": 87,
      "id": "c33d90b3",
      "metadata": {
        "id": "c33d90b3",
        "outputId": "c103cce9-1ac0-41fd-b0c7-1ff1502d97cf",
        "colab": {
          "base_uri": "https://localhost:8080/"
        }
      },
      "outputs": [
        {
          "output_type": "execute_result",
          "data": {
            "text/plain": [
              "466292"
            ]
          },
          "metadata": {},
          "execution_count": 87
        }
      ],
      "source": [
        "fulltext = gutenberg.raw('austen-persuasion.txt')\n",
        "len(fulltext)\n",
        "\n"
      ]
    },
    {
      "cell_type": "code",
      "source": [
        "fullwords = gutenberg.words('austen-persuasion.txt')\n",
        "fullsents = gutenberg.sents('austen-persuasion.txt')\n",
        "# .words()   .sents()\n",
        "\n",
        "\n",
        "print(len(fullwords))\n",
        "print(len(fullsents))\n"
      ],
      "metadata": {
        "id": "5mMaQ494HUhJ",
        "outputId": "144200b9-873d-4004-c984-88692df1d874",
        "colab": {
          "base_uri": "https://localhost:8080/"
        }
      },
      "id": "5mMaQ494HUhJ",
      "execution_count": 90,
      "outputs": [
        {
          "output_type": "stream",
          "name": "stdout",
          "text": [
            "98171\n",
            "3747\n"
          ]
        }
      ]
    },
    {
      "cell_type": "code",
      "source": [
        "string1 = 'a and b'\n",
        "len(string1)"
      ],
      "metadata": {
        "id": "S4KiCd9QGgGo",
        "outputId": "54067c8c-d358-4ef8-e29d-eb22e613e679",
        "colab": {
          "base_uri": "https://localhost:8080/"
        }
      },
      "id": "S4KiCd9QGgGo",
      "execution_count": 82,
      "outputs": [
        {
          "output_type": "execute_result",
          "data": {
            "text/plain": [
              "7"
            ]
          },
          "metadata": {},
          "execution_count": 82
        }
      ]
    },
    {
      "cell_type": "code",
      "execution_count": null,
      "id": "c21dae5d",
      "metadata": {
        "id": "c21dae5d"
      },
      "outputs": [],
      "source": []
    },
    {
      "cell_type": "markdown",
      "id": "7d5167f8",
      "metadata": {
        "id": "7d5167f8"
      },
      "source": [
        "__c)__ By using functions from ``nltk``, tokenize the given text into\n",
        "* words\n",
        "* sentences"
      ]
    },
    {
      "cell_type": "code",
      "execution_count": 104,
      "id": "d95f9d93",
      "metadata": {
        "id": "d95f9d93"
      },
      "outputs": [],
      "source": [
        "text1 = \"Tokenize this sentence into sentences and words. This is the task someone gave to you. Why, i.e., what the purpose of this, is remains unknown.\""
      ]
    },
    {
      "cell_type": "code",
      "execution_count": 105,
      "id": "b85e5b2a",
      "metadata": {
        "id": "b85e5b2a",
        "outputId": "ec78b0db-8d38-4842-f49b-3fc984159a90",
        "colab": {
          "base_uri": "https://localhost:8080/"
        }
      },
      "outputs": [
        {
          "output_type": "stream",
          "name": "stdout",
          "text": [
            "['Tokenize', 'this', 'sentence', 'into', 'sentences', 'and', 'words', '.', 'This', 'is', 'the', 'task', 'someone', 'gave', 'to', 'you', '.', 'Why', ',', 'i.e.', ',', 'what', 'the', 'purpose', 'of', 'this', ',', 'is', 'remains', 'unknown', '.']\n",
            "['Tokenize this sentence into sentences and words.', 'This is the task someone gave to you.', 'Why, i.e., what the purpose of this, is remains unknown.']\n"
          ]
        }
      ],
      "source": [
        "from nltk.tokenize import word_tokenize, sent_tokenize\n",
        "# '_' but not '.' (not word.tokenize)\n",
        "# 'word' but not 'words'\n",
        "\n",
        "print(word_tokenize(text1))\n",
        "print(sent_tokenize(text1))"
      ]
    },
    {
      "cell_type": "code",
      "execution_count": null,
      "id": "612236bd",
      "metadata": {
        "id": "612236bd"
      },
      "outputs": [],
      "source": []
    },
    {
      "cell_type": "markdown",
      "id": "8229243c",
      "metadata": {
        "id": "8229243c"
      },
      "source": [
        "__d)__ Use the Porter stemmer from ``nltk`` on the text from task __c)__"
      ]
    },
    {
      "cell_type": "code",
      "execution_count": 109,
      "id": "0982fcc6",
      "metadata": {
        "collapsed": true,
        "id": "0982fcc6",
        "outputId": "d0edec2b-0ee1-467a-a2ea-841bf99b0e8f",
        "colab": {
          "base_uri": "https://localhost:8080/"
        }
      },
      "outputs": [
        {
          "output_type": "stream",
          "name": "stdout",
          "text": [
            "token\n",
            "thi\n",
            "sentenc\n",
            "into\n",
            "sentenc\n",
            "and\n",
            "words.\n",
            "thi\n",
            "is\n",
            "the\n",
            "task\n",
            "someon\n",
            "gave\n",
            "to\n",
            "you.\n",
            "why,\n",
            "i.e.,\n",
            "what\n",
            "the\n",
            "purpos\n",
            "of\n",
            "this,\n",
            "is\n",
            "remain\n",
            "unknown.\n"
          ]
        }
      ],
      "source": [
        "from nltk.stem import PorterStemmer\n",
        "\n",
        "p = PorterStemmer()\n",
        "for i in text1.split():\n",
        "  stemwords = p.stem(i)\n",
        "  print(stemwords)"
      ]
    },
    {
      "cell_type": "code",
      "source": [
        "stemword1 = [p.stem(i) for i in text1.split()]\n",
        "print(stemword1)"
      ],
      "metadata": {
        "id": "w1P_AwDLLPxx",
        "outputId": "c56c8e0a-c849-4c2c-df1f-c07610b90d02",
        "colab": {
          "base_uri": "https://localhost:8080/"
        }
      },
      "id": "w1P_AwDLLPxx",
      "execution_count": 112,
      "outputs": [
        {
          "output_type": "stream",
          "name": "stdout",
          "text": [
            "['token', 'thi', 'sentenc', 'into', 'sentenc', 'and', 'words.', 'thi', 'is', 'the', 'task', 'someon', 'gave', 'to', 'you.', 'why,', 'i.e.,', 'what', 'the', 'purpos', 'of', 'this,', 'is', 'remain', 'unknown.']\n"
          ]
        }
      ]
    }
  ],
  "metadata": {
    "kernelspec": {
      "display_name": "Python 3 (ipykernel)",
      "language": "python",
      "name": "python3"
    },
    "language_info": {
      "codemirror_mode": {
        "name": "ipython",
        "version": 3
      },
      "file_extension": ".py",
      "mimetype": "text/x-python",
      "name": "python",
      "nbconvert_exporter": "python",
      "pygments_lexer": "ipython3",
      "version": "3.12.4"
    },
    "colab": {
      "provenance": []
    }
  },
  "nbformat": 4,
  "nbformat_minor": 5
}