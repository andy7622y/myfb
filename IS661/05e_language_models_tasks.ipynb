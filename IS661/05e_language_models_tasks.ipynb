{
 "cells": [
  {
   "cell_type": "markdown",
   "id": "d48ba78d",
   "metadata": {},
   "source": [
    "# Exercise 05: Language Models"
   ]
  },
  {
   "cell_type": "markdown",
   "id": "dd9f490f",
   "metadata": {},
   "source": [
    "### Task 1: Creating a Language Model\n",
    "\n",
    "Try and implement the Pen&Paper tasks 2a) - c) in Python."
   ]
  },
  {
   "cell_type": "code",
   "execution_count": 2,
   "id": "9ce94a13",
   "metadata": {},
   "outputs": [],
   "source": [
    "import nltk\n",
    "from nltk.util import ngrams\n",
    "from nltk.lm.preprocessing import pad_both_ends\n",
    "from collections import Counter\n",
    "\n",
    "text = [[\"ain't\", \"no\", \"sunshine\"], [\"when\", \"she's\", \"gone\"], [\"it's\", \"not\", \"warm\"], \n",
    "        [\"when\", \"she's\", \"away\"], [\"ain't\", \"no\", \"sunshine\"], [\"when\", \"she's\", \"gone\"]]\n",
    "\n",
    "# add start and end tokens to each sentence\n",
    "text_pad = [list(pad_both_ends(t, n=2)) for t in text]"
   ]
  },
  {
   "cell_type": "code",
   "execution_count": 2,
   "id": "9494b302",
   "metadata": {},
   "outputs": [],
   "source": [
    "# a)"
   ]
  },
  {
   "cell_type": "code",
   "execution_count": 3,
   "id": "4a35f7eb",
   "metadata": {},
   "outputs": [],
   "source": [
    "# b)"
   ]
  },
  {
   "cell_type": "code",
   "execution_count": 4,
   "id": "673d39eb",
   "metadata": {},
   "outputs": [],
   "source": [
    "# c)"
   ]
  }
 ],
 "metadata": {
  "kernelspec": {
   "display_name": "Python 3 (ipykernel)",
   "language": "python",
   "name": "python3"
  },
  "language_info": {
   "codemirror_mode": {
    "name": "ipython",
    "version": 3
   },
   "file_extension": ".py",
   "mimetype": "text/x-python",
   "name": "python",
   "nbconvert_exporter": "python",
   "pygments_lexer": "ipython3",
   "version": "3.12.4"
  }
 },
 "nbformat": 4,
 "nbformat_minor": 5
}
