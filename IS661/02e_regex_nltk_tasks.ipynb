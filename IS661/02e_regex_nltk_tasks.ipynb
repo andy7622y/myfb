{
 "cells": [
  {
   "cell_type": "markdown",
   "id": "4aad2a78",
   "metadata": {},
   "source": [
    "# Exercise 02: Regular Expressions and the Natural Language Toolkit"
   ]
  },
  {
   "cell_type": "markdown",
   "id": "c63068b6",
   "metadata": {},
   "source": [
    "### Task 1: Regular Expressions\n",
    "In this task we're working with the `re` package of Python. Take a look at the documentation to solve the following subtasks: https://docs.python.org/3/library/re.html"
   ]
  },
  {
   "cell_type": "code",
   "execution_count": 1,
   "id": "695a3878",
   "metadata": {},
   "outputs": [],
   "source": [
    "# import the re package \n",
    "import re"
   ]
  },
  {
   "cell_type": "markdown",
   "id": "ce209f79",
   "metadata": {},
   "source": [
    "Make yourself familiar with the different kinds of regex commands `re.XXXX(pattern, string)` available in python. Describe the differences between them.\n",
    "\n",
    "* re.search()\n",
    "* re.match() \n",
    "* re.fullmatch()\n",
    "* re.split()\n",
    "* re.findall() \n",
    "* re.finditer()"
   ]
  },
  {
   "cell_type": "code",
   "execution_count": null,
   "id": "51abed78",
   "metadata": {},
   "outputs": [],
   "source": []
  },
  {
   "cell_type": "markdown",
   "id": "3860f2dc",
   "metadata": {},
   "source": [
    "__a)__ Write a regular expression that checks if \"Hello World\" is contained in a string."
   ]
  },
  {
   "cell_type": "code",
   "execution_count": 2,
   "id": "dbd13993",
   "metadata": {},
   "outputs": [],
   "source": [
    "positive = \"this is a Hello World test \"\n",
    "negative = \"this is a H3ll0 W0rld Test \""
   ]
  },
  {
   "cell_type": "code",
   "execution_count": null,
   "id": "b19cd78a",
   "metadata": {},
   "outputs": [],
   "source": []
  },
  {
   "cell_type": "markdown",
   "id": "d8fb00d7",
   "metadata": {},
   "source": [
    "__b)__ Write a regular expression that selects all integer numbers from a text."
   ]
  },
  {
   "cell_type": "code",
   "execution_count": 4,
   "id": "bbc73173",
   "metadata": {},
   "outputs": [],
   "source": [
    "s1 = \"This is a text written in 2022, and it contains numbers like one, 2, 3. Other numbers like 123 are also detected.\""
   ]
  },
  {
   "cell_type": "code",
   "execution_count": null,
   "id": "b4386d29",
   "metadata": {},
   "outputs": [],
   "source": []
  },
  {
   "cell_type": "markdown",
   "id": "1876c6cf",
   "metadata": {},
   "source": [
    "__c)__ Write a regular expression that finds two (lower-case) words connected by a \"-\" (e.g., ill-advised)."
   ]
  },
  {
   "cell_type": "code",
   "execution_count": 10,
   "id": "62eef05c",
   "metadata": {},
   "outputs": [],
   "source": [
    "s2 = \"This my so-so example text. It features well-received meaningless words. The string 1-2 should not be returned.\""
   ]
  },
  {
   "cell_type": "code",
   "execution_count": null,
   "id": "4093655a",
   "metadata": {},
   "outputs": [],
   "source": []
  },
  {
   "cell_type": "markdown",
   "id": "7bdeeea1",
   "metadata": {},
   "source": [
    "__d)__ Write a regular expression that selects numbers with at least 4 digits from a text\n"
   ]
  },
  {
   "cell_type": "code",
   "execution_count": 12,
   "id": "cfcdb82b",
   "metadata": {},
   "outputs": [],
   "source": [
    "s3 = \"This is a 2022 text, the third useless text I'm writing after 2021 ended. Larger numbers like 63527 should be detected, but smaller numbers like 123 should not.\""
   ]
  },
  {
   "cell_type": "code",
   "execution_count": null,
   "id": "eb6f5a2f",
   "metadata": {},
   "outputs": [],
   "source": []
  },
  {
   "cell_type": "markdown",
   "id": "bbf603d7",
   "metadata": {},
   "source": [
    "__d)__ Write a regular expression that extract dates in the format YYYY-MM-DD:\n",
    "Assume that Y, M or D are valid when they are digits."
   ]
  },
  {
   "cell_type": "code",
   "execution_count": 14,
   "id": "4641c2b1",
   "metadata": {},
   "outputs": [],
   "source": [
    "s4 = \"2017-05-12 and 2018-01-01 are correct formats,  2017-25-01 is also valid. Not valid is 03.05.22, neither is 12/12/2017.\""
   ]
  },
  {
   "cell_type": "code",
   "execution_count": null,
   "id": "d814c49b",
   "metadata": {},
   "outputs": [],
   "source": []
  },
  {
   "cell_type": "markdown",
   "id": "f8eded5f",
   "metadata": {},
   "source": [
    "__e)__ Write a regular expression that finds all URLS in a string. For sake of simplicity, a url starts with \"http://\" or \"https://\" and contains at least one dot, which is not at the end."
   ]
  },
  {
   "cell_type": "code",
   "execution_count": 1,
   "id": "d61158c2",
   "metadata": {},
   "outputs": [],
   "source": [
    "s5 = \"The url http://example1.com should be returned, as well as http://www.example2.com. Let's try http://test.\""
   ]
  },
  {
   "cell_type": "code",
   "execution_count": null,
   "id": "15e77fec",
   "metadata": {},
   "outputs": [],
   "source": []
  },
  {
   "cell_type": "markdown",
   "id": "13d35428",
   "metadata": {},
   "source": [
    "__f)__ Replace all occurences of _two_ as whole word with _2_ in a string. "
   ]
  },
  {
   "cell_type": "code",
   "execution_count": 30,
   "id": "7b27cc88",
   "metadata": {},
   "outputs": [],
   "source": [
    "s6 = \"An easy math task is two + 3 = 5. The infix two in the word twofold should remain unchanged, though.\""
   ]
  },
  {
   "cell_type": "code",
   "execution_count": null,
   "id": "9850e5d4",
   "metadata": {},
   "outputs": [],
   "source": []
  },
  {
   "cell_type": "markdown",
   "id": "2bc7e0cc",
   "metadata": {},
   "source": [
    "__g)__ Return a list with all elements from the given list that don't contain the letter 'a'."
   ]
  },
  {
   "cell_type": "code",
   "execution_count": 34,
   "id": "a6b4e7e6",
   "metadata": {},
   "outputs": [],
   "source": [
    "l = [\"apple\", \"cucumber\", \"tomato\", \"zucchini\", \"pumpkin\", \"pear\"]"
   ]
  },
  {
   "cell_type": "code",
   "execution_count": null,
   "id": "67223ef3",
   "metadata": {},
   "outputs": [],
   "source": []
  },
  {
   "cell_type": "markdown",
   "id": "da3f5895",
   "metadata": {},
   "source": [
    "### Task 2: Natural Language Toolkit\n",
    "In the next task we're working with the Natural Language Toolkit (NLTK) package of Python, which is a powerful open source library for Natural Language Processing. Make sure you have the package installed and the documentation ready: https://www.nltk.org/api/nltk.html.\n",
    "\n",
    "Then download the Gutenberg corpus and the Punkt sentence tokenization models. `nltk.download()` without parameters provides an interactive interface."
   ]
  },
  {
   "cell_type": "code",
   "execution_count": 1,
   "id": "3df2daf9",
   "metadata": {},
   "outputs": [],
   "source": [
    "# import the NLTK package\n",
    "import nltk\n",
    "\n",
    "# download the Gutenberg corpus\n",
    "nltk.download(\"gutenberg\")\n",
    "# download tokenization models\n",
    "# nltk.download(\"punkt\")\n",
    "# current nltk version requires punkt_tab\n",
    "nltk.download(\"punkt_tab\")"
   ]
  },
  {
   "cell_type": "markdown",
   "id": "ddc99eb1",
   "metadata": {},
   "source": [
    "__a)__ Import the ``gutenberg`` corpus reader from the ``corpus`` module of the ``nltk`` package. What does the Gutenberg corpus contain?"
   ]
  },
  {
   "cell_type": "code",
   "execution_count": null,
   "id": "6768764d",
   "metadata": {},
   "outputs": [],
   "source": []
  },
  {
   "cell_type": "markdown",
   "id": "375e10ae",
   "metadata": {},
   "source": [
    "__b)__ Have a look at the book \"Persuasion\" by Jane Austen (``austen-persuasion.txt``). Print the number of words and the number of sentences that the book contains. How many unique words can you find? What fraction of sentences contain the word \"Anne\"?"
   ]
  },
  {
   "cell_type": "code",
   "execution_count": null,
   "id": "c33d90b3",
   "metadata": {},
   "outputs": [],
   "source": []
  },
  {
   "cell_type": "code",
   "execution_count": null,
   "id": "c21dae5d",
   "metadata": {},
   "outputs": [],
   "source": []
  },
  {
   "cell_type": "markdown",
   "id": "7d5167f8",
   "metadata": {},
   "source": [
    "__c)__ By using functions from ``nltk``, tokenize the given text into\n",
    "* words\n",
    "* sentences"
   ]
  },
  {
   "cell_type": "code",
   "execution_count": 40,
   "id": "d95f9d93",
   "metadata": {},
   "outputs": [],
   "source": [
    "text = \"Tokenize this sentence into sentences and words. This is the task someone gave to you. Why, i.e., what the purpose of this, is remains unknown.\""
   ]
  },
  {
   "cell_type": "code",
   "execution_count": null,
   "id": "b85e5b2a",
   "metadata": {},
   "outputs": [],
   "source": []
  },
  {
   "cell_type": "code",
   "execution_count": null,
   "id": "612236bd",
   "metadata": {},
   "outputs": [],
   "source": []
  },
  {
   "cell_type": "markdown",
   "id": "8229243c",
   "metadata": {},
   "source": [
    "__d)__ Use the Porter stemmer from ``nltk`` on the text from task __c)__"
   ]
  },
  {
   "cell_type": "code",
   "execution_count": null,
   "id": "0982fcc6",
   "metadata": {},
   "outputs": [],
   "source": []
  }
 ],
 "metadata": {
  "kernelspec": {
   "display_name": "Python 3 (ipykernel)",
   "language": "python",
   "name": "python3"
  },
  "language_info": {
   "codemirror_mode": {
    "name": "ipython",
    "version": 3
   },
   "file_extension": ".py",
   "mimetype": "text/x-python",
   "name": "python",
   "nbconvert_exporter": "python",
   "pygments_lexer": "ipython3",
   "version": "3.12.4"
  }
 },
 "nbformat": 4,
 "nbformat_minor": 5
}
