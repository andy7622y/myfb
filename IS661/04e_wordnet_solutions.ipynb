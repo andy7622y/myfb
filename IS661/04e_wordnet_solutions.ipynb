{
 "cells": [
  {
   "cell_type": "markdown",
   "id": "33deb63e",
   "metadata": {},
   "source": [
    "# Exercise 04: WordNet"
   ]
  },
  {
   "cell_type": "markdown",
   "id": "c0e02045",
   "metadata": {},
   "source": [
    "### Task 1: Word relations\n",
    "\n",
    "Find the relationship between the following words\n",
    "\n",
    "__a)__ ``dog`` is a/an ___ of ``animal``\n",
    "\n",
    "__b)__ ``good`` is a/an ___ of ``bad``\n",
    "\n",
    "__c)__ ``wheel`` is a/an ___ of ``car``\n",
    "\n",
    "__d)__ ``building`` is a/an ___ of ``skyscraper`` "
   ]
  },
  {
   "cell_type": "markdown",
   "id": "af4c8f7f",
   "metadata": {},
   "source": [
    "a) Hyponym (is-a relation, subordinate term)\n",
    "\n",
    "b) Antonym (opposite)\n",
    "\n",
    "c) Meronym (part-of relation) (opposite is holonym)\n",
    "\n",
    "d) Hypernym (superordinate term)"
   ]
  },
  {
   "cell_type": "markdown",
   "id": "7e8983d2",
   "metadata": {},
   "source": [
    "### Task 2: WordNet \n",
    "In this task we will work with the WordNet module of NLTK (https://www.nltk.org/api/nltk.corpus.reader.wordnet.html). WordNet is a large lexical database for English that groups words in so-called synsets, which are sets of cognitive synonyms that express distinct concepts (https://wordnet.princeton.edu/)."
   ]
  },
  {
   "cell_type": "code",
   "execution_count": 1,
   "id": "d9c94f2b",
   "metadata": {},
   "outputs": [
    {
     "name": "stderr",
     "output_type": "stream",
     "text": [
      "[nltk_data] Downloading package wordnet to\n",
      "[nltk_data]     /Users/schloett/nltk_data...\n",
      "[nltk_data]   Package wordnet is already up-to-date!\n",
      "[nltk_data] Downloading package omw-1.4 to\n",
      "[nltk_data]     /Users/schloett/nltk_data...\n",
      "[nltk_data]   Package omw-1.4 is already up-to-date!\n"
     ]
    },
    {
     "data": {
      "text/plain": [
       "True"
      ]
     },
     "execution_count": 1,
     "metadata": {},
     "output_type": "execute_result"
    }
   ],
   "source": [
    "import nltk\n",
    "\n",
    "nltk.download('wordnet')\n",
    "nltk.download('omw-1.4')"
   ]
  },
  {
   "cell_type": "code",
   "execution_count": 2,
   "id": "41d07128",
   "metadata": {},
   "outputs": [],
   "source": [
    "from nltk.corpus import wordnet as wn"
   ]
  },
  {
   "cell_type": "markdown",
   "id": "750dd2f3",
   "metadata": {},
   "source": [
    "__a)__ How many synsets do the words ``monitor`` and ``living`` have? For each synset, print the names of the lemmas associated with the synset, their definition and the assigned examples (if present). "
   ]
  },
  {
   "cell_type": "code",
   "execution_count": 3,
   "id": "79afc496",
   "metadata": {},
   "outputs": [
    {
     "name": "stdout",
     "output_type": "stream",
     "text": [
      "[Synset('proctor.n.01'), Synset('admonisher.n.01'), Synset('monitor.n.03'), Synset('monitor.n.04'), Synset('monitor.n.05'), Synset('monitor.n.06'), Synset('monitor.n.07'), Synset('monitor.v.01'), Synset('monitor.v.02')]\n"
     ]
    }
   ],
   "source": [
    "print(wn.synsets('monitor'))"
   ]
  },
  {
   "cell_type": "code",
   "execution_count": 9,
   "id": "13ed00fc",
   "metadata": {},
   "outputs": [
    {
     "name": "stdout",
     "output_type": "stream",
     "text": [
      "[Synset('proctor.n.01'), Synset('admonisher.n.01'), Synset('monitor.n.03'), Synset('monitor.n.04'), Synset('monitor.n.05'), Synset('monitor.n.06'), Synset('monitor.n.07'), Synset('monitor.v.01'), Synset('monitor.v.02')]\n",
      "9\n",
      "\n",
      "Synset('proctor.n.01')\n",
      "lemma names: ['proctor', 'monitor']\n",
      "definition: someone who supervises (an examination)\n",
      "\n",
      "Synset('admonisher.n.01')\n",
      "lemma names: ['admonisher', 'monitor', 'reminder']\n",
      "definition: someone who gives a warning so that a mistake can be avoided\n",
      "\n",
      "Synset('monitor.n.03')\n",
      "lemma names: ['Monitor']\n",
      "definition: an ironclad vessel built by Federal forces to do battle with the Merrimac\n",
      "\n",
      "Synset('monitor.n.04')\n",
      "lemma names: ['monitor', 'monitoring_device']\n",
      "definition: display produced by a device that takes signals and displays them on a television screen or a computer monitor\n",
      "\n",
      "Synset('monitor.n.05')\n",
      "lemma names: ['monitor']\n",
      "definition: electronic equipment that is used to check the quality or content of electronic transmissions\n",
      "\n",
      "Synset('monitor.n.06')\n",
      "lemma names: ['monitor']\n",
      "definition: a piece of electronic equipment that keeps track of the operation of a system continuously and warns of trouble\n",
      "\n",
      "Synset('monitor.n.07')\n",
      "lemma names: ['monitor', 'monitor_lizard', 'varan']\n",
      "definition: any of various large tropical carnivorous lizards of Africa and Asia and Australia; fabled to warn of crocodiles\n",
      "\n",
      "Synset('monitor.v.01')\n",
      "lemma names: ['monitor', 'supervise']\n",
      "definition: keep tabs on; keep an eye on; keep under surveillance\n",
      "examples: ['we are monitoring the air quality', \"the police monitor the suspect's moves\"]\n",
      "\n",
      "Synset('monitor.v.02')\n",
      "lemma names: ['monitor']\n",
      "definition: check, track, or observe by means of a receiver\n"
     ]
    }
   ],
   "source": [
    "print(wn.synsets('monitor')) # all synsets\n",
    "\n",
    "print(len(wn.synsets('monitor')))  # how many synsets\n",
    "\n",
    "def print_synset_info(synsets):\n",
    "    for synset in synsets:\n",
    "        print()\n",
    "        print(synset)\n",
    "        #print (synset.lemmas())\n",
    "        print ('lemma names:',synset.lemma_names())  # words with synonym senses\n",
    "        print ('definition:',synset.definition())  # definition\n",
    "        examples = synset.examples()\n",
    "        if len(examples) > 0:\n",
    "            print ('examples:',examples)  # example sentence(s)\n",
    "\n",
    "print_synset_info(wn.synsets('monitor'))"
   ]
  },
  {
   "cell_type": "code",
   "execution_count": 10,
   "id": "fb1868b8",
   "metadata": {},
   "outputs": [
    {
     "name": "stdout",
     "output_type": "stream",
     "text": [
      "[Synset('life.n.02'), Synset('living.n.02'), Synset('animation.n.01'), Synset('support.n.06'), Synset('populate.v.01'), Synset('live.v.02'), Synset('survive.v.01'), Synset('exist.v.02'), Synset('be.v.11'), Synset('know.v.05'), Synset('live.v.07'), Synset('living.a.01'), Synset('living.s.02'), Synset('living.s.03'), Synset('surviving.s.01'), Synset('living.s.05'), Synset('living.s.06')]\n",
      "17\n",
      "\n",
      "Synset('life.n.02')\n",
      "lemma names: ['life', 'living']\n",
      "definition: the experience of being alive; the course of human events and activities\n",
      "examples: ['he could no longer cope with the complexities of life']\n",
      "\n",
      "Synset('living.n.02')\n",
      "lemma names: ['living']\n",
      "definition: people who are still living\n",
      "examples: ['save your pity for the living']\n",
      "\n",
      "Synset('animation.n.01')\n",
      "lemma names: ['animation', 'life', 'living', 'aliveness']\n",
      "definition: the condition of living or the state of being alive\n",
      "examples: [\"while there's life there's hope\", 'life depends on many chemical and physical processes']\n",
      "\n",
      "Synset('support.n.06')\n",
      "lemma names: ['support', 'keep', 'livelihood', 'living', 'bread_and_butter', 'sustenance']\n",
      "definition: the financial means whereby one lives\n",
      "examples: ['each child was expected to pay for their keep', 'he applied to the state for support', 'he could no longer earn his own livelihood']\n",
      "\n",
      "Synset('populate.v.01')\n",
      "lemma names: ['populate', 'dwell', 'live', 'inhabit']\n",
      "definition: inhabit or live in; be an inhabitant of\n",
      "examples: ['People lived in Africa millions of years ago', 'The people inhabited the islands that are now deserted', 'this kind of fish dwells near the bottom of the ocean', 'deer are populating the woods']\n",
      "\n",
      "Synset('live.v.02')\n",
      "lemma names: ['live']\n",
      "definition: lead a certain kind of life; live in a certain style\n",
      "examples: ['we had to live frugally after the war']\n",
      "\n",
      "Synset('survive.v.01')\n",
      "lemma names: ['survive', 'last', 'live', 'live_on', 'go', 'endure', 'hold_up', 'hold_out']\n",
      "definition: continue to live through hardship or adversity\n",
      "examples: ['We went without water and food for 3 days', 'These superstitions survive in the backwaters of America', 'The race car driver lived through several very serious accidents', 'how long can a person last without food and water?']\n",
      "\n",
      "Synset('exist.v.02')\n",
      "lemma names: ['exist', 'survive', 'live', 'subsist']\n",
      "definition: support oneself\n",
      "examples: ['he could barely exist on such a low wage', 'Can you live on $2000 a month in New York City?', 'Many people in the world have to subsist on $1 a day']\n",
      "\n",
      "Synset('be.v.11')\n",
      "lemma names: ['be', 'live']\n",
      "definition: have life, be alive\n",
      "examples: ['Our great leader is no more', 'My grandfather lived until the end of war']\n",
      "\n",
      "Synset('know.v.05')\n",
      "lemma names: ['know', 'experience', 'live']\n",
      "definition: have firsthand knowledge of states, situations, emotions, or sensations\n",
      "examples: ['I know the feeling!', 'have you ever known hunger?', 'I have lived a kind of hell when I was a drug addict', 'The holocaust survivors have lived a nightmare', 'I lived through two divorces']\n",
      "\n",
      "Synset('live.v.07')\n",
      "lemma names: ['live']\n",
      "definition: pursue a positive and satisfying existence\n",
      "examples: ['You must accept yourself and others if you really want to live']\n",
      "\n",
      "Synset('living.a.01')\n",
      "lemma names: ['living']\n",
      "definition: pertaining to living persons\n",
      "examples: ['within living memory']\n",
      "\n",
      "Synset('living.s.02')\n",
      "lemma names: ['living']\n",
      "definition: true to life; lifelike\n",
      "examples: ['the living image of her mother']\n",
      "\n",
      "Synset('living.s.03')\n",
      "lemma names: ['living']\n",
      "definition: (informal) absolute\n",
      "examples: ['she is a living doll', 'scared the living daylights out of them', 'beat the living hell out of him']\n",
      "\n",
      "Synset('surviving.s.01')\n",
      "lemma names: ['surviving', 'living']\n",
      "definition: still in existence\n",
      "examples: ['the Wollemi pine found in Australia is a surviving specimen of a conifer thought to have been long extinct and therefore known as a living fossil', 'the only surviving frontier blockhouse in Pennsylvania']\n",
      "\n",
      "Synset('living.s.05')\n",
      "lemma names: ['living']\n",
      "definition: still in active use\n",
      "examples: ['a living language']\n",
      "\n",
      "Synset('living.s.06')\n",
      "lemma names: ['living']\n",
      "definition: (used of minerals or stone) in its natural state and place; not mined or quarried\n",
      "examples: ['carved into the living stone']\n"
     ]
    }
   ],
   "source": [
    "# solution\n",
    "print(wn.synsets('living'))\n",
    "print(len(wn.synsets('living')))  # how many synsets\n",
    "\n",
    "print_synset_info(wn.synsets('living'))"
   ]
  },
  {
   "cell_type": "markdown",
   "id": "293af6b3",
   "metadata": {},
   "source": [
    "__b)__ Take a look at the lemma `car` as in \"a motor vehicle with four wheels; usually propelled by an internal combustion engine\". What other lemmas have the same definition in WordNet?"
   ]
  },
  {
   "cell_type": "code",
   "execution_count": 11,
   "id": "1985618f",
   "metadata": {},
   "outputs": [
    {
     "name": "stdout",
     "output_type": "stream",
     "text": [
      "Synset('car.n.01')\n",
      "a motor vehicle with four wheels; usually propelled by an internal combustion engine\n",
      "\n",
      "Synset('car.n.02')\n",
      "a wheeled vehicle adapted to the rails of railroad\n",
      "\n",
      "Synset('car.n.03')\n",
      "the compartment that is suspended from an airship and that carries personnel and the cargo and the power plant\n",
      "\n",
      "Synset('car.n.04')\n",
      "where passengers ride up and down\n",
      "\n",
      "Synset('cable_car.n.01')\n",
      "a conveyance for passengers or freight on a cable railway\n",
      "\n"
     ]
    }
   ],
   "source": [
    "# solution\n",
    "for synset in wn.synsets(\"car\"):\n",
    "    print(synset)\n",
    "    print (synset.definition())  # find the right sense of car -> index 0\n",
    "    print()"
   ]
  },
  {
   "cell_type": "code",
   "execution_count": 12,
   "id": "b1cd2d60",
   "metadata": {},
   "outputs": [
    {
     "name": "stdout",
     "output_type": "stream",
     "text": [
      "Synset('car.n.01')\n",
      "a motor vehicle with four wheels; usually propelled by an internal combustion engine\n",
      "\n",
      "Lemma('car.n.01.car')\n",
      "Lemma('car.n.01.auto')\n",
      "Lemma('car.n.01.automobile')\n",
      "Lemma('car.n.01.machine')\n",
      "Lemma('car.n.01.motorcar')\n"
     ]
    }
   ],
   "source": [
    "# solution\n",
    "synset = wn.synsets(\"car\")[0]  # first synset of car has the right description\n",
    "print(synset)\n",
    "print (synset.definition())\n",
    "print()\n",
    "\n",
    "for lemma in synset.lemmas():  # all lemmas in synset have the same definition\n",
    "    print(lemma)"
   ]
  },
  {
   "cell_type": "markdown",
   "id": "ec5ec211",
   "metadata": {},
   "source": [
    "__c)__ Find the lowest common hypernym of ``tea`` and ``coffee``in the sense of tree/shrub. "
   ]
  },
  {
   "cell_type": "code",
   "execution_count": 13,
   "id": "2ca59d2a",
   "metadata": {},
   "outputs": [
    {
     "name": "stdout",
     "output_type": "stream",
     "text": [
      "tea.n.01\n",
      "a beverage made by steeping tea leaves in water\n",
      "tea.n.02\n",
      "a light midafternoon meal of tea and sandwiches or cakes\n",
      "tea.n.03\n",
      "a tropical evergreen shrub or small tree extensively cultivated in e.g. China and Japan and India; source of tea leaves\n",
      "tea.n.04\n",
      "a reception or party at which tea is served\n",
      "tea.n.05\n",
      "dried leaves of the tea shrub; used to make tea\n",
      "coffee.n.01\n",
      "a beverage consisting of an infusion of ground coffee beans\n",
      "coffee.n.02\n",
      "any of several small trees and shrubs native to the tropical Old World yielding coffee beans\n",
      "coffee_bean.n.01\n",
      "a seed of the coffee tree; ground to make coffee\n",
      "chocolate.n.03\n",
      "a medium brown to dark-brown color\n"
     ]
    }
   ],
   "source": [
    "# solution\n",
    "for synset in wn.synsets(\"tea\"):  # find the right sense of tea\n",
    "    print(synset.name())\n",
    "    print(synset.definition())\n",
    "\n",
    "tea_tree = wn.synsets(\"tea\")[2]  # tea in sense of tree\n",
    "\n",
    "for synset in wn.synsets(\"coffee\"):  # find the right sense of coffee\n",
    "    print(synset.name())\n",
    "    print(synset.definition())\n",
    "    \n",
    "coffee_tree = wn.synsets(\"coffee\")[1]  # coffee in sense of tree"
   ]
  },
  {
   "cell_type": "code",
   "execution_count": 14,
   "id": "1c3986d9",
   "metadata": {},
   "outputs": [
    {
     "name": "stdout",
     "output_type": "stream",
     "text": [
      "[Synset('woody_plant.n.01')]\n"
     ]
    }
   ],
   "source": [
    "print(tea_tree.lowest_common_hypernyms(coffee_tree))  # superordinate term"
   ]
  },
  {
   "cell_type": "code",
   "execution_count": 15,
   "id": "2ac0004f",
   "metadata": {},
   "outputs": [
    {
     "name": "stdout",
     "output_type": "stream",
     "text": [
      "Synset('tea.n.03')\n"
     ]
    }
   ],
   "source": [
    "# word sense disambiguation of 'tea' with Lesk algorithm\n",
    "\n",
    "from nltk.wsd import lesk\n",
    "context = [\"tea\", \"can\", \"be\", \"a\", \"tree\", \"with\", \"leaves\"]\n",
    "print(lesk(context, 'tea',))"
   ]
  },
  {
   "cell_type": "markdown",
   "id": "d21ea023",
   "metadata": {},
   "source": [
    "__d)__ Print the path(s) of ``coffee`` in the sense of beverage to the root of the hypernym/hyponym tree. Then compute the distance of the shortest path linking ``coffee`` and ``tea`` in the sense of beverages. Compare it to the shortest path connecting ``coffee`` and ``tea`` in the sense of trees/shrugs."
   ]
  },
  {
   "cell_type": "code",
   "execution_count": 16,
   "id": "d7b94af1",
   "metadata": {},
   "outputs": [
    {
     "name": "stdout",
     "output_type": "stream",
     "text": [
      "3\n"
     ]
    },
    {
     "data": {
      "text/plain": [
       "[[Synset('entity.n.01'),\n",
       "  Synset('abstraction.n.06'),\n",
       "  Synset('relation.n.01'),\n",
       "  Synset('part.n.01'),\n",
       "  Synset('substance.n.01'),\n",
       "  Synset('fluid.n.01'),\n",
       "  Synset('liquid.n.01'),\n",
       "  Synset('beverage.n.01'),\n",
       "  Synset('coffee.n.01')],\n",
       " [Synset('entity.n.01'),\n",
       "  Synset('physical_entity.n.01'),\n",
       "  Synset('matter.n.03'),\n",
       "  Synset('substance.n.01'),\n",
       "  Synset('fluid.n.01'),\n",
       "  Synset('liquid.n.01'),\n",
       "  Synset('beverage.n.01'),\n",
       "  Synset('coffee.n.01')],\n",
       " [Synset('entity.n.01'),\n",
       "  Synset('physical_entity.n.01'),\n",
       "  Synset('matter.n.03'),\n",
       "  Synset('substance.n.07'),\n",
       "  Synset('food.n.01'),\n",
       "  Synset('beverage.n.01'),\n",
       "  Synset('coffee.n.01')]]"
      ]
     },
     "execution_count": 16,
     "metadata": {},
     "output_type": "execute_result"
    }
   ],
   "source": [
    "# solution\n",
    "tea_bev = wn.synsets(\"tea\")[0]  # tea in sense of beverage\n",
    "coffee_bev = wn.synsets(\"coffee\")[0]  # coffee in sense of beverage\n",
    "\n",
    "coffee_paths = coffee_bev.hypernym_paths()\n",
    "print(len(coffee_paths))  # 3 different paths up to the root\n",
    "coffee_paths\n",
    "# coffee_tree.hypernym_paths()\n",
    "# coffee_tree.hypernym_paths()"
   ]
  },
  {
   "cell_type": "code",
   "execution_count": 17,
   "id": "6f5b7b3b",
   "metadata": {},
   "outputs": [
    {
     "name": "stdout",
     "output_type": "stream",
     "text": [
      "2\n",
      "4\n"
     ]
    }
   ],
   "source": [
    "# solution\n",
    "\n",
    "# distance of shortest path \n",
    "print(tea_bev.shortest_path_distance(coffee_bev))  # beverages\n",
    "print(tea_tree.shortest_path_distance(coffee_tree))  # trees"
   ]
  },
  {
   "cell_type": "markdown",
   "id": "2ec9195f",
   "metadata": {},
   "source": [
    "__e)__ Implement a function that finds __all__ hyponyms (on all deeper levels) for a given synset. With the parameter ``instance`` the user should control if instance hyponyms should also be included."
   ]
  },
  {
   "cell_type": "code",
   "execution_count": 18,
   "id": "8e1f50b5",
   "metadata": {},
   "outputs": [
    {
     "name": "stdout",
     "output_type": "stream",
     "text": [
      "[Synset('slave_state.n.01'), Synset('free_state.n.02')]\n",
      "[Synset('north_dakota.n.01'), Synset('new_york.n.02'), Synset('texas.n.01'), Synset('kansas.n.01'), Synset('rhode_island.n.01'), Synset('virginia.n.01'), Synset('ohio.n.01'), Synset('north_carolina.n.01'), Synset('colorado.n.01'), Synset('alabama.n.01'), Synset('nevada.n.01'), Synset('idaho.n.01'), Synset('new_mexico.n.01'), Synset('missouri.n.01'), Synset('illinois.n.01'), Synset('kentucky.n.01'), Synset('west_virginia.n.01'), Synset('montana.n.01'), Synset('south_dakota.n.01'), Synset('alaska.n.01'), Synset('arkansas.n.01'), Synset('pennsylvania.n.01'), Synset('oregon.n.01'), Synset('maryland.n.01'), Synset('iowa.n.02'), Synset('washington.n.02'), Synset('wyoming.n.01'), Synset('minnesota.n.01'), Synset('new_jersey.n.01'), Synset('maine.n.01'), Synset('connecticut.n.01'), Synset('massachusetts.n.01'), Synset('california.n.01'), Synset('wisconsin.n.02'), Synset('michigan.n.01'), Synset('louisiana.n.01'), Synset('hawaii.n.01'), Synset('florida.n.01'), Synset('tennessee.n.01'), Synset('utah.n.01'), Synset('south_carolina.n.02'), Synset('georgia.n.01'), Synset('new_hampshire.n.01'), Synset('arizona.n.01'), Synset('nebraska.n.01'), Synset('vermont.n.01'), Synset('delaware.n.04'), Synset('mississippi.n.02'), Synset('oklahoma.n.01'), Synset('indiana.n.01')]\n"
     ]
    }
   ],
   "source": [
    "# \"WordNet distinguishes among Types (common nouns/concepts) and Instances (specific persons, countries and geographic entities). \n",
    "# Thus, armchair is a type of chair, Joe Biden is an instance of a president. Instances are always leaf (terminal) nodes \n",
    "# in their hierarchies.\" (https://wordnet.princeton.edu/)\n",
    "\n",
    "s = wn.synset('american_state.n.01')\n",
    "print(s.hyponyms())\n",
    "print(s.instance_hyponyms())  # instances are always leaves"
   ]
  },
  {
   "cell_type": "code",
   "execution_count": 19,
   "id": "f2f1104d",
   "metadata": {},
   "outputs": [],
   "source": [
    "# solution\n",
    "def get_hyponyms(synset, instance=False):\n",
    "    '''\n",
    "    :param synset: synset for which we want to find all hyponyms\n",
    "    :param instance: indicates if instance hyponyms should be included, False by default\n",
    "    :return: a list of all hyponyms for the given synset\n",
    "    '''\n",
    "    queue = [synset]  # stores all synsets for which we need to find hyponyms\n",
    "    res = set() \n",
    "    \n",
    "    while len(queue) > 0:\n",
    "        syn = queue.pop()  # take out first element\n",
    "        if syn in res:  # ignore if we have found the synset already\n",
    "            continue\n",
    "        res.add(syn)  # add current synset to hyponyms\n",
    "        \n",
    "        queue.extend([hypo for hypo in syn.hyponyms()])  # find hyponyms and add them to list\n",
    "        if instance:\n",
    "            queue.extend([hypo for hypo in syn.instance_hyponyms()])  # include instance hyponyms\n",
    "    \n",
    "    res.remove(synset)  # remove original synset\n",
    "    return list(res)"
   ]
  },
  {
   "cell_type": "code",
   "execution_count": 20,
   "id": "ece4c1e3",
   "metadata": {},
   "outputs": [
    {
     "data": {
      "text/plain": [
       "[Synset('bank.n.01'),\n",
       " Synset('depository_financial_institution.n.01'),\n",
       " Synset('bank.n.03'),\n",
       " Synset('bank.n.04'),\n",
       " Synset('bank.n.05'),\n",
       " Synset('bank.n.06'),\n",
       " Synset('bank.n.07'),\n",
       " Synset('savings_bank.n.02'),\n",
       " Synset('bank.n.09'),\n",
       " Synset('bank.n.10'),\n",
       " Synset('bank.v.01'),\n",
       " Synset('bank.v.02'),\n",
       " Synset('bank.v.03'),\n",
       " Synset('bank.v.04'),\n",
       " Synset('bank.v.05'),\n",
       " Synset('deposit.v.02'),\n",
       " Synset('bank.v.07'),\n",
       " Synset('trust.v.01')]"
      ]
     },
     "execution_count": 20,
     "metadata": {},
     "output_type": "execute_result"
    }
   ],
   "source": [
    "wn.synsets(\"bank\")"
   ]
  },
  {
   "cell_type": "code",
   "execution_count": 21,
   "id": "38121e3d",
   "metadata": {},
   "outputs": [
    {
     "data": {
      "text/plain": [
       "[Synset('south_dakota.n.01'),\n",
       " Synset('free_state.n.02'),\n",
       " Synset('missouri.n.01'),\n",
       " Synset('new_hampshire.n.01'),\n",
       " Synset('maryland.n.01'),\n",
       " Synset('west_virginia.n.01'),\n",
       " Synset('arkansas.n.01'),\n",
       " Synset('massachusetts.n.01'),\n",
       " Synset('florida.n.01'),\n",
       " Synset('north_dakota.n.01'),\n",
       " Synset('new_york.n.02'),\n",
       " Synset('wyoming.n.01'),\n",
       " Synset('slave_state.n.01'),\n",
       " Synset('hawaii.n.01'),\n",
       " Synset('mississippi.n.02'),\n",
       " Synset('michigan.n.01'),\n",
       " Synset('nevada.n.01'),\n",
       " Synset('washington.n.02'),\n",
       " Synset('maine.n.01'),\n",
       " Synset('virginia.n.01'),\n",
       " Synset('georgia.n.01'),\n",
       " Synset('louisiana.n.01'),\n",
       " Synset('alabama.n.01'),\n",
       " Synset('pennsylvania.n.01'),\n",
       " Synset('colorado.n.01'),\n",
       " Synset('new_mexico.n.01'),\n",
       " Synset('nebraska.n.01'),\n",
       " Synset('ohio.n.01'),\n",
       " Synset('kentucky.n.01'),\n",
       " Synset('vermont.n.01'),\n",
       " Synset('texas.n.01'),\n",
       " Synset('kansas.n.01'),\n",
       " Synset('arizona.n.01'),\n",
       " Synset('montana.n.01'),\n",
       " Synset('alaska.n.01'),\n",
       " Synset('california.n.01'),\n",
       " Synset('indiana.n.01'),\n",
       " Synset('illinois.n.01'),\n",
       " Synset('connecticut.n.01'),\n",
       " Synset('south_carolina.n.02'),\n",
       " Synset('delaware.n.04'),\n",
       " Synset('idaho.n.01'),\n",
       " Synset('new_jersey.n.01'),\n",
       " Synset('iowa.n.02'),\n",
       " Synset('oklahoma.n.01'),\n",
       " Synset('minnesota.n.01'),\n",
       " Synset('wisconsin.n.02'),\n",
       " Synset('oregon.n.01'),\n",
       " Synset('rhode_island.n.01'),\n",
       " Synset('tennessee.n.01'),\n",
       " Synset('north_carolina.n.01'),\n",
       " Synset('utah.n.01')]"
      ]
     },
     "execution_count": 21,
     "metadata": {},
     "output_type": "execute_result"
    }
   ],
   "source": [
    "# test\n",
    "b = wn.synsets(\"bank\")[1]\n",
    "s = wn.synset('american_state.n.01')\n",
    "\n",
    "get_hyponyms(b)  \n",
    "get_hyponyms(s)\n",
    "get_hyponyms(s, instance=True)  "
   ]
  },
  {
   "cell_type": "markdown",
   "id": "2e658900",
   "metadata": {},
   "source": [
    "__*f)__ Implement a function that __recursively__ finds all hypernyms up to the root for a given synset. Keep in mind that the input synset might be an instance.\n",
    "\n",
    "_Note: A recursive function is a function that calls itself._\n",
    "\n",
    "_*this task is optional_"
   ]
  },
  {
   "cell_type": "code",
   "execution_count": 28,
   "id": "4a32c304",
   "metadata": {},
   "outputs": [],
   "source": [
    "# solution\n",
    "def get_hypernyms(synset, level=0):\n",
    "    '''\n",
    "    :param synset: synset for which we want to find all hypernyms\n",
    "    :param level: indicates the level of recursion, can be used for termination\n",
    "    :return: a list of all hypernyms for the given synset\n",
    "    '''\n",
    "    res = {} # result dictionary that keeps track of recursion level as well\n",
    "    res[synset] = level-1 # add initial synset\n",
    "    \n",
    "    for hyp in synset.hypernyms() + synset.instance_hypernyms():  # all direct hypernyms in list\n",
    "        res[hyp] = level+1  # store recursion level per hypernym\n",
    "        \n",
    "        tmp_res = get_hypernyms(hyp, level+1) # call function on hypernym -> this returns all hypernyms  \n",
    "        res.update(tmp_res)  # add all new found hypernyms to res\n",
    "        #print(level)\n",
    "        #print(res)\n",
    "        \n",
    "    if level == 0:  # final return\n",
    "        return res#list(res.keys())  # all hypernyms found\n",
    "    return res  # recursive return (tmp_res)     "
   ]
  },
  {
   "cell_type": "code",
   "execution_count": 30,
   "id": "04caca44-ea36-4e88-b8fd-b954b655bc0d",
   "metadata": {},
   "outputs": [],
   "source": [
    "# alternative solution\n",
    "def get_hypernyms(synset):\n",
    "    '''\n",
    "    :param synset: synset for which we want to find all hypernyms\n",
    "    :return: a list of all hypernyms for the given synset\n",
    "    '''\n",
    "    res = [] # result set\n",
    "    \n",
    "    for hyp in synset.hypernyms() + synset.instance_hypernyms():  # all direct hypernyms in list\n",
    "        tmp_res = [hyp] + get_hypernyms(hyp) # call function on hypernym -> this returns all hypernyms  \n",
    "        for hyp in tmp_res:\n",
    "            if hyp not in res:\n",
    "                res.append(hyp)\n",
    "    return res  # recursive return (tmp_res)     "
   ]
  },
  {
   "cell_type": "code",
   "execution_count": 31,
   "id": "4e68457d",
   "metadata": {},
   "outputs": [
    {
     "data": {
      "text/plain": [
       "[Synset('beverage.n.01'),\n",
       " Synset('liquid.n.01'),\n",
       " Synset('fluid.n.01'),\n",
       " Synset('substance.n.01'),\n",
       " Synset('part.n.01'),\n",
       " Synset('relation.n.01'),\n",
       " Synset('abstraction.n.06'),\n",
       " Synset('entity.n.01'),\n",
       " Synset('matter.n.03'),\n",
       " Synset('physical_entity.n.01'),\n",
       " Synset('food.n.01'),\n",
       " Synset('substance.n.07')]"
      ]
     },
     "execution_count": 31,
     "metadata": {},
     "output_type": "execute_result"
    }
   ],
   "source": [
    "# test\n",
    "b = wn.synsets(\"tea\")[0]\n",
    "get_hypernyms(b)\n",
    "\n",
    "#get_hypernyms(wn.synsets('jersey')[0])  # works for instances as well"
   ]
  },
  {
   "cell_type": "code",
   "execution_count": 32,
   "id": "2367a29a",
   "metadata": {},
   "outputs": [],
   "source": [
    "# additional iterative solution\n",
    "\n",
    "def get_hypernyms_it(synset):\n",
    "    queue = [synset]\n",
    "    res = set()\n",
    "    \n",
    "    while len(queue) > 0:\n",
    "        syn = queue.pop()\n",
    "        if syn in res:\n",
    "            continue\n",
    "        res.add(syn)\n",
    "        # find all hypernyms and add them to the list\n",
    "        queue.extend([hyp for hyp in syn.hypernyms()]) \n",
    "        queue.extend([hyp for hyp in syn.instance_hypernyms()])  # also include instance hypernyms\n",
    "    return list(res)"
   ]
  },
  {
   "cell_type": "code",
   "execution_count": 33,
   "id": "3b2b03a3",
   "metadata": {},
   "outputs": [
    {
     "data": {
      "text/plain": [
       "[Synset('abstraction.n.06'),\n",
       " Synset('liquid.n.01'),\n",
       " Synset('physical_entity.n.01'),\n",
       " Synset('tea.n.01'),\n",
       " Synset('part.n.01'),\n",
       " Synset('fluid.n.01'),\n",
       " Synset('substance.n.01'),\n",
       " Synset('food.n.01'),\n",
       " Synset('relation.n.01'),\n",
       " Synset('substance.n.07'),\n",
       " Synset('entity.n.01'),\n",
       " Synset('matter.n.03'),\n",
       " Synset('beverage.n.01')]"
      ]
     },
     "execution_count": 33,
     "metadata": {},
     "output_type": "execute_result"
    }
   ],
   "source": [
    "get_hypernyms_it(b)"
   ]
  },
  {
   "cell_type": "code",
   "execution_count": 65,
   "id": "ff570716",
   "metadata": {},
   "outputs": [
    {
     "data": {
      "text/plain": [
       "[[Synset('entity.n.01'),\n",
       "  Synset('abstraction.n.06'),\n",
       "  Synset('relation.n.01'),\n",
       "  Synset('part.n.01'),\n",
       "  Synset('substance.n.01'),\n",
       "  Synset('fluid.n.01'),\n",
       "  Synset('liquid.n.01'),\n",
       "  Synset('beverage.n.01'),\n",
       "  Synset('tea.n.01')],\n",
       " [Synset('entity.n.01'),\n",
       "  Synset('physical_entity.n.01'),\n",
       "  Synset('matter.n.03'),\n",
       "  Synset('substance.n.01'),\n",
       "  Synset('fluid.n.01'),\n",
       "  Synset('liquid.n.01'),\n",
       "  Synset('beverage.n.01'),\n",
       "  Synset('tea.n.01')],\n",
       " [Synset('entity.n.01'),\n",
       "  Synset('physical_entity.n.01'),\n",
       "  Synset('matter.n.03'),\n",
       "  Synset('substance.n.07'),\n",
       "  Synset('food.n.01'),\n",
       "  Synset('beverage.n.01'),\n",
       "  Synset('tea.n.01')]]"
      ]
     },
     "execution_count": 65,
     "metadata": {},
     "output_type": "execute_result"
    }
   ],
   "source": [
    "b.hypernym_paths()"
   ]
  }
 ],
 "metadata": {
  "kernelspec": {
   "display_name": "Python 3 (ipykernel)",
   "language": "python",
   "name": "python3"
  },
  "language_info": {
   "codemirror_mode": {
    "name": "ipython",
    "version": 3
   },
   "file_extension": ".py",
   "mimetype": "text/x-python",
   "name": "python",
   "nbconvert_exporter": "python",
   "pygments_lexer": "ipython3",
   "version": "3.12.4"
  }
 },
 "nbformat": 4,
 "nbformat_minor": 5
}
