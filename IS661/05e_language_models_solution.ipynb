{
 "cells": [
  {
   "cell_type": "markdown",
   "id": "d48ba78d",
   "metadata": {},
   "source": [
    "# Exercise 05: Language Models"
   ]
  },
  {
   "cell_type": "markdown",
   "id": "dd9f490f",
   "metadata": {},
   "source": [
    "### Task 1: Creating a Language Model\n",
    "\n",
    "Try and implement the Pen&Paper Task 2a) - c) in Python."
   ]
  },
  {
   "cell_type": "code",
   "execution_count": 1,
   "id": "9ce94a13",
   "metadata": {},
   "outputs": [
    {
     "name": "stdout",
     "output_type": "stream",
     "text": [
      "[['<s>', \"ain't\", 'no', 'sunshine', '</s>'], ['<s>', 'when', \"she's\", 'gone', '</s>'], ['<s>', \"it's\", 'not', 'warm', '</s>'], ['<s>', 'when', \"she's\", 'away', '</s>'], ['<s>', \"ain't\", 'no', 'sunshine', '</s>'], ['<s>', 'when', \"she's\", 'gone', '</s>']]\n",
      "\n",
      "Counter({('<s>',): 6,\n",
      "         ('</s>',): 6,\n",
      "         ('when',): 3,\n",
      "         (\"she's\",): 3,\n",
      "         (\"ain't\",): 2,\n",
      "         ('no',): 2,\n",
      "         ('sunshine',): 2,\n",
      "         ('gone',): 2,\n",
      "         (\"it's\",): 1,\n",
      "         ('not',): 1,\n",
      "         ('warm',): 1,\n",
      "         ('away',): 1})\n",
      "\n",
      "Counter({('<s>', 'when'): 3,\n",
      "         ('when', \"she's\"): 3,\n",
      "         ('<s>', \"ain't\"): 2,\n",
      "         (\"ain't\", 'no'): 2,\n",
      "         ('no', 'sunshine'): 2,\n",
      "         ('sunshine', '</s>'): 2,\n",
      "         (\"she's\", 'gone'): 2,\n",
      "         ('gone', '</s>'): 2,\n",
      "         ('<s>', \"it's\"): 1,\n",
      "         (\"it's\", 'not'): 1,\n",
      "         ('not', 'warm'): 1,\n",
      "         ('warm', '</s>'): 1,\n",
      "         (\"she's\", 'away'): 1,\n",
      "         ('away', '</s>'): 1})\n",
      "30\n"
     ]
    }
   ],
   "source": [
    "import nltk\n",
    "from nltk.util import ngrams\n",
    "from nltk.lm.preprocessing import pad_both_ends\n",
    "from collections import Counter\n",
    "from pprint import pprint\n",
    "\n",
    "text = [[\"ain't\", \"no\", \"sunshine\"], \n",
    "        [\"when\", \"she's\", \"gone\"], \n",
    "        [\"it's\", \"not\", \"warm\"], \n",
    "        [\"when\", \"she's\", \"away\"], \n",
    "        [\"ain't\", \"no\", \"sunshine\"], \n",
    "        [\"when\", \"she's\", \"gone\"]]\n",
    "\n",
    "text_pad = [list(pad_both_ends(t, n=2)) for t in text]\n",
    "print(text_pad)\n",
    "\n",
    "\n",
    "# a)\n",
    "unigram_counts = Counter()\n",
    "bigram_counts = Counter() \n",
    "for t in text_pad:\n",
    "    unigram_counts.update(ngrams(t, 1))\n",
    "    bigram_counts.update(ngrams(t, 2))\n",
    "\n",
    "print()\n",
    "pprint(unigram_counts)\n",
    "print()\n",
    "pprint(bigram_counts)\n",
    "\n",
    "# number of words\n",
    "N = sum(unigram_counts.values())\n",
    "print(N)"
   ]
  },
  {
   "cell_type": "code",
   "execution_count": 2,
   "id": "73bde422",
   "metadata": {},
   "outputs": [
    {
     "name": "stdout",
     "output_type": "stream",
     "text": [
      "{('</s>',): 0.2,\n",
      " ('<s>',): 0.2,\n",
      " (\"ain't\",): 0.06666666666666667,\n",
      " ('away',): 0.03333333333333333,\n",
      " ('gone',): 0.06666666666666667,\n",
      " (\"it's\",): 0.03333333333333333,\n",
      " ('no',): 0.06666666666666667,\n",
      " ('not',): 0.03333333333333333,\n",
      " (\"she's\",): 0.1,\n",
      " ('sunshine',): 0.06666666666666667,\n",
      " ('warm',): 0.03333333333333333,\n",
      " ('when',): 0.1}\n",
      "\n",
      "{('<s>', \"ain't\"): 0.3333333333333333,\n",
      " ('<s>', \"it's\"): 0.16666666666666666,\n",
      " ('<s>', 'when'): 0.5,\n",
      " (\"ain't\", 'no'): 1.0,\n",
      " ('away', '</s>'): 1.0,\n",
      " ('gone', '</s>'): 1.0,\n",
      " (\"it's\", 'not'): 1.0,\n",
      " ('no', 'sunshine'): 1.0,\n",
      " ('not', 'warm'): 1.0,\n",
      " (\"she's\", 'away'): 0.3333333333333333,\n",
      " (\"she's\", 'gone'): 0.6666666666666666,\n",
      " ('sunshine', '</s>'): 1.0,\n",
      " ('warm', '</s>'): 1.0,\n",
      " ('when', \"she's\"): 1.0}\n"
     ]
    }
   ],
   "source": [
    "# compute the probabilities\n",
    "\n",
    "unigram_probs = {w:cnt/N for w,cnt in unigram_counts.items()}\n",
    "pprint(unigram_probs)\n",
    "print()\n",
    "\n",
    "bigram_probs = {(w1,w2):cnt/unigram_counts[(w1,)] for (w1,w2),cnt in bigram_counts.items()}\n",
    "pprint(bigram_probs)"
   ]
  },
  {
   "cell_type": "code",
   "execution_count": 6,
   "id": "4a35f7eb",
   "metadata": {},
   "outputs": [
    {
     "name": "stdout",
     "output_type": "stream",
     "text": [
      "[(('<s>',), 6), (('</s>',), 6), (('when',), 3), ((\"she's\",), 3), ((\"ain't\",), 2), (('no',), 2), (('sunshine',), 2), (('gone',), 2), ((\"it's\",), 1), (('not',), 1), (('warm',), 1), (('away',), 1)]\n",
      "\n",
      "[(('<s>', 'when'), 3), (('when', \"she's\"), 3), (('<s>', \"ain't\"), 2), ((\"ain't\", 'no'), 2), (('no', 'sunshine'), 2), (('sunshine', '</s>'), 2), ((\"she's\", 'gone'), 2), (('gone', '</s>'), 2), (('<s>', \"it's\"), 1), ((\"it's\", 'not'), 1), (('not', 'warm'), 1), (('warm', '</s>'), 1), ((\"she's\", 'away'), 1), (('away', '</s>'), 1)]\n"
     ]
    }
   ],
   "source": [
    "# b) take a look first...\n",
    "print(unigram_counts.most_common())\n",
    "print()\n",
    "print(bigram_counts.most_common())"
   ]
  },
  {
   "cell_type": "code",
   "execution_count": 7,
   "id": "67b03907",
   "metadata": {},
   "outputs": [
    {
     "name": "stdout",
     "output_type": "stream",
     "text": [
      "{('when',): 3, (\"she's\",): 3}\n",
      "{('when', \"she's\"): 3}\n"
     ]
    }
   ],
   "source": [
    "# b) adhere to task instructions....\n",
    "max_uni = max([v for k,v in unigram_counts.items() if k[0] not in ['<s>','</s>']])\n",
    "print({k:v for k,v in unigram_counts.items() if k[0] not in ['<s>','</s>'] and v == max_uni})\n",
    "\n",
    "max_bi = max([v for k,v in bigram_counts.items() if k[0] != '<s>' and k[1] != '</s>'])\n",
    "\n",
    "print({k:v for k,v in bigram_counts.items() if k[0] != '<s>' and k[1] != '</s>' and v == max_bi})"
   ]
  },
  {
   "cell_type": "code",
   "execution_count": 8,
   "id": "673d39eb",
   "metadata": {},
   "outputs": [],
   "source": [
    "# c)\n",
    "def get_prob(ngrams, probs):\n",
    "    res = 1\n",
    "    for gram in ngrams:\n",
    "        #print(gram, probs.get(gram,0))\n",
    "        res *= probs.get(gram, 0)  # if ngram unknown return 0\n",
    "    return res"
   ]
  },
  {
   "cell_type": "code",
   "execution_count": 9,
   "id": "f89b2845",
   "metadata": {},
   "outputs": [
    {
     "name": "stdout",
     "output_type": "stream",
     "text": [
      "[('<s>',), (\"ain't\",), ('no',), ('warm',), ('</s>',)]\n",
      "[('<s>', \"ain't\"), (\"ain't\", 'no'), ('no', 'warm'), ('warm', '</s>')]\n",
      "5.925925925925927e-06\n",
      "0.0\n"
     ]
    }
   ],
   "source": [
    "s1 = [\"ain't\", \"no\", \"warm\"]\n",
    "s1_pad = list(pad_both_ends(s1, n=2)) # add start and end token\n",
    "s1_unigrams = list(ngrams(s1_pad, 1))\n",
    "s1_bigrams = list(ngrams(s1_pad, 2))\n",
    "print(s1_unigrams)\n",
    "print(s1_bigrams)\n",
    "\n",
    "\n",
    "print(get_prob(s1_unigrams, unigram_probs))\n",
    "print(get_prob(s1_bigrams, bigram_probs))"
   ]
  },
  {
   "cell_type": "code",
   "execution_count": 10,
   "id": "9064432c",
   "metadata": {},
   "outputs": [
    {
     "name": "stdout",
     "output_type": "stream",
     "text": [
      "[('<s>',), (\"she's\",), ('not',), ('gone',), ('</s>',)]\n",
      "[('<s>', \"she's\"), (\"she's\", 'not'), ('not', 'gone'), ('gone', '</s>')]\n",
      "8.88888888888889e-06\n",
      "0.0\n"
     ]
    }
   ],
   "source": [
    "s2 = [\"she's\", \"not\", \"gone\"]\n",
    "s2_pad = list(pad_both_ends(s2, n=2)) # add start and end token\n",
    "s2_unigrams = list(ngrams(s2_pad, 1))\n",
    "s2_bigrams = list(ngrams(s2_pad, 2))\n",
    "print(s2_unigrams)\n",
    "print(s2_bigrams)\n",
    "\n",
    "print(get_prob(s2_unigrams, unigram_probs))\n",
    "print(get_prob(s2_bigrams, bigram_probs))"
   ]
  },
  {
   "cell_type": "code",
   "execution_count": 11,
   "id": "c93520b8",
   "metadata": {},
   "outputs": [
    {
     "name": "stdout",
     "output_type": "stream",
     "text": [
      "[('<s>', \"ain't\"), (\"ain't\", 'no'), ('no', 'sunshine'), ('sunshine', '</s>')]\n",
      "0.3333333333333333\n"
     ]
    }
   ],
   "source": [
    "s3 = [\"ain't\", \"no\", \"sunshine\"]\n",
    "s3_pad = list(pad_both_ends(s3, n=2)) # add start and end token\n",
    "s3_bigrams = list(ngrams(s3_pad, 2))\n",
    "print(s3_bigrams)\n",
    "\n",
    "print(get_prob(s3_bigrams, bigram_probs))"
   ]
  }
 ],
 "metadata": {
  "kernelspec": {
   "display_name": "Python 3 (ipykernel)",
   "language": "python",
   "name": "python3"
  },
  "language_info": {
   "codemirror_mode": {
    "name": "ipython",
    "version": 3
   },
   "file_extension": ".py",
   "mimetype": "text/x-python",
   "name": "python",
   "nbconvert_exporter": "python",
   "pygments_lexer": "ipython3",
   "version": "3.12.4"
  }
 },
 "nbformat": 4,
 "nbformat_minor": 5
}
