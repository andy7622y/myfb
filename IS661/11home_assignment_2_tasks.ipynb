{
  "cells": [
    {
      "cell_type": "markdown",
      "id": "c295abce",
      "metadata": {
        "id": "c295abce"
      },
      "source": [
        "# Home Assignment 2 (26 pts)\n",
        "\n",
        "Submit your solution via Ilias until 23.59h on Friday, October 25th. Any later submission is not possible.\n",
        "\n",
        "Submit your solutions in teams of 4 students. Unless explicitly agreed otherwise in advance, submissions from teams with more or less members will NOT be graded (i.e., count as failed).\n",
        "\n",
        "**Make sure that all team members are part of the submitting group on Ilias.**\n",
        "\n",
        "You may use the code from the exercises and basic functionalities that are explained in the official documentation of Python packages without citing, __all other sources must be cited__. In case of plagiarism (copying solutions from other teams or from the internet) ALL team members may be expelled from the course without warning.\n",
        "\n",
        "#### General guidelines:\n",
        "* Make sure that your code is executable, any task for which the code does not directly run on our machine will be graded with 0 points.\n",
        "* If you use packages that are not available on the default or conda-forge channel, list them below. Also add a link to installation instructions.\n",
        "* Ensure that the notebook does not rely on the current notebook or system state!\n",
        "  * Use `Kernel --> Restart & Run All` to see if you are using any definitions, variables etc. that\n",
        "    are not in scope anymore.\n",
        "  * Do not rename any of the datasets you use, and load it from the same directory that your ipynb-notebook is located in, i.e., your working directory.\n",
        "* Make sure you clean up your code before submission, e.g., properly align your code, and delete every line of code that you do not need anymore, even if you may have experimented with it. Minimize usage of global variables. Avoid reusing variable names multiple times!\n",
        "* Ensure your code/notebook terminates in reasonable time.\n",
        "* Feel free to use comments in the code. While we do not require them to get full marks, they may help us in case your code has minor errors.\n",
        "* For questions that require a textual answer, please do not write the answer as a comment in a code cell, but in a Markdown cell below the code. Always remember to provide sufficient justification for all answers.\n",
        "* You may create as many additional cells as you want, just make sure that the solutions to the individual tasks can be found near the corresponding assignment.\n",
        "* If you have any general question regarding the understanding of some task, do not hesitate to post in the student forum in Ilias, so we can clear up such questions for all students in the course."
      ]
    },
    {
      "cell_type": "markdown",
      "id": "d7a19c09",
      "metadata": {
        "id": "d7a19c09"
      },
      "source": [
        "Additional packages (if any):\n",
        " - Example: `powerlaw`, https://github.com/jeffalstott/powerlaw"
      ]
    },
    {
      "cell_type": "code",
      "execution_count": 1,
      "id": "7c5e2d05",
      "metadata": {
        "id": "7c5e2d05"
      },
      "outputs": [],
      "source": [
        "from typing import List, Union, Dict, Set, Tuple, Sequence"
      ]
    },
    {
      "cell_type": "markdown",
      "id": "91edf14c",
      "metadata": {
        "id": "91edf14c"
      },
      "source": [
        "### Task 1: WordNet word similarity (9 points)\n",
        "\n",
        "In this task, we want to implement the path-based similarity between two words in WordNet (https://www.nltk.org/api/nltk.corpus.reader.wordnet.html) using the NLTK package. The path-based word similarity between two words is given by\n",
        "$$\n",
        "\\frac{1}{1+d}\n",
        "$$\n",
        "where $d$ is the distance of the shortest path in the hypernym/hyponym hierarchy tree in WordNet between any pair of synsets that are associated with the two input words.\n",
        "\n",
        "From NLTK you should __only__ use the `synsets`, `hypernyms` and `instance_hpyernyms` functions.\n",
        "\n",
        "The following subtasks build on each other, i.e. the functions of the preceding subtasks can be used for the current subtask.\n",
        "\n",
        "_Note: here we define the distance of a synset to itself as 0, the distance to a direct hypernym as 1, ..._"
      ]
    },
    {
      "cell_type": "code",
      "execution_count": 7,
      "id": "7f2b0d09",
      "metadata": {
        "id": "7f2b0d09",
        "outputId": "6cfedff4-a1ba-4b38-d8a7-911c2f3f63fa",
        "colab": {
          "base_uri": "https://localhost:8080/"
        }
      },
      "outputs": [
        {
          "output_type": "stream",
          "name": "stderr",
          "text": [
            "[nltk_data] Downloading package wordnet to /root/nltk_data...\n"
          ]
        },
        {
          "output_type": "execute_result",
          "data": {
            "text/plain": [
              "True"
            ]
          },
          "metadata": {},
          "execution_count": 7
        }
      ],
      "source": [
        "import nltk\n",
        "from nltk.corpus import wordnet as wn\n",
        "from nltk.corpus.reader.wordnet import Synset\n",
        "nltk.download('wordnet')\n"
      ]
    },
    {
      "cell_type": "markdown",
      "id": "f3a6c82f",
      "metadata": {
        "id": "f3a6c82f"
      },
      "source": [
        "__a)__ Write a function ``shortest_paths_to`` that takes a synset as input and computes the shortest paths to all nodes on the way to the root in the hypernym hierarchy tree of WordNet. The function should return a dictionary that matches all visited hypernyms on the way(s) to the root to the distance of the shortest path from the input synset. Consider that a synset might have multiple paths to the root and that some nodes might appear in multiple paths. However, we only want to store the shortest distances. Moreover, keep in mind that the input synset might be an instance. __(3 pts)__\n",
        "\n",
        "Use the signature in the cell below.\n",
        "\n",
        "__Example:__ _Calling_ ``shortest_paths_to(s)`` _on the synset_ ``s = wn.synset('calculator.n.01')`` _should yield the following result:_\n",
        "\n",
        "``\n",
        "{Synset('calculator.n.01'): 0,\n",
        " Synset('expert.n.01'): 1,\n",
        " Synset('person.n.01'): 2,\n",
        " Synset('causal_agent.n.01'): 3,\n",
        " Synset('organism.n.01'): 3,\n",
        " Synset('physical_entity.n.01'): 4,\n",
        " Synset('living_thing.n.01'): 4,\n",
        " Synset('entity.n.01'): 5,\n",
        " Synset('whole.n.02'): 5,\n",
        " Synset('object.n.01'): 6}\n",
        "``"
      ]
    },
    {
      "cell_type": "code",
      "execution_count": 68,
      "id": "c9d66e04",
      "metadata": {
        "id": "c9d66e04"
      },
      "outputs": [],
      "source": [
        "def shortest_paths_to(start_syn: Synset) -> Dict[Synset, int]:\n",
        "    \"\"\"Compute the shortest distance to all nodes on paths to the root.\n",
        "    :param start_syn: synset to which we want to compute the shortest distances\n",
        "    :return: dict that matches all visited hypernyms to their distance to the input synset\n",
        "    \"\"\"\n",
        "    synset_path = {}\n",
        "    min_path = min(len(i) for i in s.hypernym_paths())\n",
        "    synset_path = {}\n",
        "    for i in s.hypernym_paths():\n",
        "        for index, syn in enumerate(reversed(i)):\n",
        "          if syn not in synset_path or index < synset_path[syn]:\n",
        "            synset_path[syn] = index\n",
        "    res = sorted(synset_path.items(), key=lambda x:x[1])\n",
        "\n",
        "\n",
        "\n",
        "    return res"
      ]
    },
    {
      "cell_type": "code",
      "source": [
        "s = wn.synset('calculator.n.01')\n",
        "shortest_paths_to(s)"
      ],
      "metadata": {
        "id": "nQzLlD8DpALX",
        "outputId": "740b9838-5a24-420e-d375-7094cbd1ad72",
        "colab": {
          "base_uri": "https://localhost:8080/"
        }
      },
      "id": "nQzLlD8DpALX",
      "execution_count": 69,
      "outputs": [
        {
          "output_type": "execute_result",
          "data": {
            "text/plain": [
              "[(Synset('calculator.n.01'), 0),\n",
              " (Synset('expert.n.01'), 1),\n",
              " (Synset('person.n.01'), 2),\n",
              " (Synset('causal_agent.n.01'), 3),\n",
              " (Synset('organism.n.01'), 3),\n",
              " (Synset('physical_entity.n.01'), 4),\n",
              " (Synset('living_thing.n.01'), 4),\n",
              " (Synset('entity.n.01'), 5),\n",
              " (Synset('whole.n.02'), 5),\n",
              " (Synset('object.n.01'), 6)]"
            ]
          },
          "metadata": {},
          "execution_count": 69
        }
      ]
    },
    {
      "cell_type": "markdown",
      "id": "3fda6f14",
      "metadata": {
        "id": "3fda6f14"
      },
      "source": [
        "__b)__ Write a function ``merge_paths`` that gets two dictionaries that map synsets to shortest distances (you can assume they were created by the function from __a)__) and merges them. The function shold return a dictionary that includes all synsets and distances that appear in any of the input dictionaries. If a synset appears in both input dictionaries, we want to keep the shorter distance. Leave the input dictionaries unaltered. __(1.5 pts)__\n",
        "\n",
        "Use the signature in the cell below."
      ]
    },
    {
      "cell_type": "code",
      "execution_count": 72,
      "id": "41ffe524",
      "metadata": {
        "id": "41ffe524"
      },
      "outputs": [],
      "source": [
        "def merge_paths(p1: Dict[Synset, int], p2: Dict[Synset, int]) -> Dict[Synset, int]:\n",
        "    \"\"\"Merge two paths keeping the shorter distance for synsets that appear more than once.\n",
        "    :param p1: first dict that maps synsets to their shortest distances\n",
        "    :param p2: second dict that maps synsets to their shortest distances\n",
        "    :return: merged dict\n",
        "    \"\"\"\n",
        "    merge = {}\n",
        "    for syn, index in p1.items():\n",
        "      merge[syn] = index\n",
        "      for s, i in p2.items():\n",
        "        if s not in merge:\n",
        "          merge[s] = i\n",
        "        else:\n",
        "          if i < index:\n",
        "            merge[syn] = i\n",
        "\n",
        "\n",
        "    return merge"
      ]
    },
    {
      "cell_type": "code",
      "source": [
        "p1 = {\n",
        "    wn.synset('calculator.n.01'): 0,\n",
        "    wn.synset('expert.n.01'): 1,\n",
        "    wn.synset('person.n.01'): 2\n",
        "}\n",
        "\n",
        "p2 = {\n",
        "    wn.synset('expert.n.01'): 2,\n",
        "    wn.synset('person.n.01'): 1,\n",
        "    wn.synset('entity.n.01'): 3\n",
        "}\n",
        "\n",
        "\n",
        "merged_result = merge_paths(p1, p2)\n",
        "print(merged_result)"
      ],
      "metadata": {
        "id": "_AUYggkmtFOq",
        "outputId": "b1bbb3dc-0c74-4808-cf20-e7a91c94075a",
        "colab": {
          "base_uri": "https://localhost:8080/"
        }
      },
      "id": "_AUYggkmtFOq",
      "execution_count": 73,
      "outputs": [
        {
          "output_type": "stream",
          "name": "stdout",
          "text": [
            "{Synset('calculator.n.01'): 0, Synset('expert.n.01'): 1, Synset('person.n.01'): 1, Synset('entity.n.01'): 3}\n"
          ]
        }
      ]
    },
    {
      "cell_type": "markdown",
      "id": "ade7ce46",
      "metadata": {
        "id": "ade7ce46"
      },
      "source": [
        "__c)__ Write a function ``all_hypernym_paths`` that gets a word as input and returns a dictionary that maps all hypernyms that are reachable from the set of synsets associated with the word to the shortest distance leading there. __(1.5 pts)__\n",
        "\n",
        "Use the signature in the cell below."
      ]
    },
    {
      "cell_type": "code",
      "execution_count": 83,
      "id": "13112dc7",
      "metadata": {
        "id": "13112dc7"
      },
      "outputs": [],
      "source": [
        "def all_hypernym_paths(word: str) -> Dict[Synset, int]:\n",
        "    \"\"\"Get all hypernyms of all synsets associated with the input word and compute the shortest distance leading there.\n",
        "    :param word: input word\n",
        "    :return: dict that matches all reachable hypernyms to their shortest distance\n",
        "    \"\"\"\n",
        "    word_syn = wn.synsets(word)\n",
        "    paths = {}\n",
        "    for i in word_syn:\n",
        "      shortest_path = shortest_paths_to(i)\n",
        "      paths = merge_paths(paths, shortest_path)\n",
        "\n",
        "\n",
        "\n",
        "    return paths"
      ]
    },
    {
      "cell_type": "code",
      "source": [
        "    synsets = wn.synsets(word)  # 使用 synsets 而不是 synset\n",
        "\n",
        "    # 初始化一个空字典，用于存储所有路径的合并结果\n",
        "    all_paths = {}\n",
        "\n",
        "    # 对每个 synset 计算其最短路径并合并\n",
        "    for synset in synsets:\n",
        "        synset_paths = shortest_paths_to(synset)\n",
        "        all_paths = merge_paths(all_paths, synset_paths)\n",
        "\n",
        "    return all_paths\n"
      ],
      "metadata": {
        "id": "SendQaCbwqmt"
      },
      "id": "SendQaCbwqmt",
      "execution_count": null,
      "outputs": []
    },
    {
      "cell_type": "code",
      "source": [
        "word = 'tree'\n",
        "all_hypernym_paths(word)"
      ],
      "metadata": {
        "id": "kIKhApGKu1aZ",
        "outputId": "f57d1711-20be-4257-baf4-4a052dfb969b",
        "colab": {
          "base_uri": "https://localhost:8080/"
        }
      },
      "id": "kIKhApGKu1aZ",
      "execution_count": 85,
      "outputs": [
        {
          "output_type": "execute_result",
          "data": {
            "text/plain": [
              "{}"
            ]
          },
          "metadata": {},
          "execution_count": 85
        }
      ]
    },
    {
      "cell_type": "markdown",
      "id": "49270f8b",
      "metadata": {
        "id": "49270f8b"
      },
      "source": [
        "__d)__  Write a function ``get_dist`` that returns the word similarity between two input words, according to the formula given in the task description at the beginning.  __(3 pts)__\n",
        "\n",
        "Use the signature in the cell below."
      ]
    },
    {
      "cell_type": "code",
      "execution_count": null,
      "id": "b0a4e8dc",
      "metadata": {
        "id": "b0a4e8dc"
      },
      "outputs": [],
      "source": [
        "def get_dist(w1 : str, w2 : str) -> float:\n",
        "    \"\"\"Compute the similarity between two input words in the WordNet hierarchy tree.\n",
        "    :param w1: first input word\n",
        "    :param w2: second input word\n",
        "    :return: word similarity\n",
        "    \"\"\"\n",
        "    # your code here\n",
        "    return"
      ]
    },
    {
      "cell_type": "markdown",
      "id": "3426121d",
      "metadata": {
        "id": "3426121d"
      },
      "source": [
        "### Task 2: Lesk algorithm (4 points)\n",
        "\n",
        "In this task we want to implement a simple version of the Lesk algorithm, a thesaurus-based method for word sense disambiguation. Given a target word $w$ and a context, the algorithm finds the word sense that is most fitting in the context. To achieve this, the Lesk algorithm computes the number of overlapping words between the context sentence and the definitions of the WordNet synsets, associated with $w$.\n",
        "\n",
        "Write a function ``lesk`` that takes a word and a context string (e.g. a sentence) and returns the most fitting sense from the synsets associated with the word and the corresponding context overlap. The most fitting sense is the one whose definition shares the most words with the context string. Before matching tokens, make sure to\n",
        "\n",
        "* only include valid tokens (cf. HA 1, task 2a)\n",
        "* remove stopwords\n",
        "* only match stems of words (e.g. consider the ``PorterStemmer`` from ``nltk``)\n",
        "\n",
        "When computing the context overlap, count each stemmed word only once, even if they occur multiple times. If there is no fitting synset, i.e., the context overlap between the context and the synset definitions is 0, return None instead.\n",
        "\n",
        "Use the signature in the cell below."
      ]
    },
    {
      "cell_type": "code",
      "source": [
        "import nltk\n",
        "nltk.download('punkt')\n",
        "nltk.download('stopwords')"
      ],
      "metadata": {
        "id": "3QPxfIY8Xf9o",
        "outputId": "c31c7907-edc0-4d24-a506-3a6b992535b8",
        "colab": {
          "base_uri": "https://localhost:8080/"
        }
      },
      "id": "3QPxfIY8Xf9o",
      "execution_count": null,
      "outputs": [
        {
          "output_type": "stream",
          "name": "stderr",
          "text": [
            "[nltk_data] Downloading package punkt to /root/nltk_data...\n",
            "[nltk_data]   Unzipping tokenizers/punkt.zip.\n",
            "[nltk_data] Downloading package stopwords to /root/nltk_data...\n",
            "[nltk_data]   Unzipping corpora/stopwords.zip.\n"
          ]
        },
        {
          "output_type": "execute_result",
          "data": {
            "text/plain": [
              "True"
            ]
          },
          "metadata": {},
          "execution_count": 1
        }
      ]
    },
    {
      "cell_type": "code",
      "execution_count": null,
      "id": "055d9147",
      "metadata": {
        "id": "055d9147"
      },
      "outputs": [],
      "source": [
        "# HA 1, task 2a)\n",
        "from nltk.corpus.reader.util import StreamBackedCorpusView\n",
        "from nltk.corpus import stopwords\n",
        "import re\n",
        "import string\n",
        "\n",
        "def get_valid_tokens(tokens: Union[List[str], StreamBackedCorpusView], remove_stopwords: bool=False) -> List[str]:\n",
        "    \"\"\"\n",
        "    :param tokens: list of tokens that should be cleaned\n",
        "    :param remove_stopwords: bool indicating if stopwords should be removed\n",
        "                             False by default\n",
        "    :return: list of valid tokens\n",
        "    \"\"\"\n",
        "    valid = []\n",
        "    punct = string.punctuation\n",
        "    stop = stopwords.words('english')\n",
        "    digit = re.compile(r\"\\d+\")\n",
        "\n",
        "    for t in tokens:\n",
        "        if t in punct:\n",
        "            continue\n",
        "        if remove_stopwords and t.lower() in stop:\n",
        "            continue\n",
        "        if re.fullmatch(digit, t):\n",
        "            continue\n",
        "        valid.append(t.lower())\n",
        "    return valid"
      ]
    },
    {
      "cell_type": "code",
      "execution_count": null,
      "id": "054adffc",
      "metadata": {
        "id": "054adffc"
      },
      "outputs": [],
      "source": [
        "def lesk(word: str, context: str) -> (Synset, int):\n",
        "    '''\n",
        "    Compute the most probable sense of a word in the given context.\n",
        "    :param word: ambiguous word\n",
        "    :param context: context in which the word appears\n",
        "    :returns:\n",
        "        - synset with the most likely word sense\n",
        "        - context overlap of synset and context\n",
        "    '''\n",
        "    # get some basic tools\n",
        "    from nltk.stem import PorterStemmer\n",
        "    ps = PorterStemmer()\n",
        "    from nltk.tokenize import word_tokenize, sent_tokenize\n",
        "    from nltk.corpus import wordnet as wn\n",
        "    nltk.download('wordnet')\n",
        "\n",
        "\n",
        "    word_context = get_valid_tokens(word_tokenize(context)) # get the valid tokens\n",
        "    word_stem = set(ps.stem(t) for t in word_context) # get the stem part of the tokens\n",
        "\n",
        "    # set the initial value of the max overlap, best synset and context overlap\n",
        "    max_overlap = 0\n",
        "    best_synset = None\n",
        "    overlap_words = 'None'\n",
        "\n",
        "    # transform the synsets into stem words\n",
        "    for i in wn.synsets(word):\n",
        "      synset_token = get_valid_tokens(word_tokenize(i.definition()))\n",
        "      synset_stem = set(ps.stem(t) for t in synset_token)\n",
        "\n",
        "      overlap = len(word_stem & synset_stem) # get overlap\n",
        "\n",
        "      if max_overlap < overlap:\n",
        "        max_overlap = overlap # renew the max overlap\n",
        "        best_synset = i # renew the best synset\n",
        "        overlap_words = set(word_stem) & set(synset_stem) # get the overlap words\n",
        "\n",
        "    return best_synset, overlap_words"
      ]
    },
    {
      "cell_type": "code",
      "source": [
        "word1 = 'toys'\n",
        "context1 = 'none'\n",
        "lesk(word1, context1)"
      ],
      "metadata": {
        "id": "AFIV6engWz7U",
        "outputId": "fbbf303d-1399-4254-ee12-6d1a128b71e8",
        "colab": {
          "base_uri": "https://localhost:8080/"
        }
      },
      "id": "AFIV6engWz7U",
      "execution_count": null,
      "outputs": [
        {
          "output_type": "stream",
          "name": "stderr",
          "text": [
            "[nltk_data] Downloading package wordnet to /root/nltk_data...\n",
            "[nltk_data]   Package wordnet is already up-to-date!\n"
          ]
        },
        {
          "output_type": "execute_result",
          "data": {
            "text/plain": [
              "(None, 'None')"
            ]
          },
          "metadata": {},
          "execution_count": 29
        }
      ]
    },
    {
      "cell_type": "markdown",
      "id": "c3cd2570",
      "metadata": {
        "id": "c3cd2570"
      },
      "source": [
        "### Task 3: Markov chains (13 points)\n",
        "\n",
        "In this task we want to create a language model by using the independence assumption af Markov. We therefore assume that the probability of a word is only dependent on a fixed number of preceding words. E.g. by restricting the number of preceding words to $n$ we can approximate the probability of a word $w_{i}$ following a sequence of words $w_1, ..., w_{i-1}$ by:\n",
        "\n",
        "$P(w_{i}|w_1, ..., w_{i-1}) \\approx P(w_{i}|w_{i-n}, ..., w_{i-1})$\n",
        "\n",
        "We will first train our model on a given corpus and then use it to automatically generate text.\n",
        "\n",
        "Throughout this task we will define a single class with different functions. If you're unsure how to access class methods and attributes, take a look at the documentation (https://docs.python.org/3/tutorial/classes.html)."
      ]
    },
    {
      "cell_type": "markdown",
      "id": "f19633b2",
      "metadata": {
        "id": "f19633b2"
      },
      "source": [
        "__a) Collecting the counts (3 pts)__\n",
        "\n",
        "Write a function `process_corpus` that takes a corpus of text (as a sequence of tokens) as input and counts how often an n-gram of length $n$ (``context_len=n``) is followed by a certain word (the n-grams should __not__ be padded). The function should return a dictionary that maps every n-gram that is observed in the corpus to an inner dictionary. The inner dictionary maps each word to a number, that indicates how often the word succeeds the n-gram in the given corpus. We will need these counts to compute the conditional probabilities $P(w_{i}|w_{i-n}, ..., w_{i-1})$.\n",
        "Additionally, also return the entire vocabulary $V$ (i.e. the set of all unique tokens that appear in the corpus).\n",
        "\n",
        "Make sure your implementation is efficient by using e.g. ``Counter`` and ``defaultdict`` from the package ``collections``.   \n",
        "\n",
        "__b) Conditional probabilities (3 pts)__\n",
        "\n",
        "Write a function `transition_prob` that takes an n-gram $(w_{i-n}, ..., w_{i-1})$ and a word $w_{i}$ of the vocabulary $V$ as input and returns the conditional probability that the given n-gram is followed by the input word $w_{i}$. Recall that this conditional probability can be computed as follows:\n",
        "\n",
        "$P(w_{i}|w_{i-n}, ..., w_{i-1}) = \\frac{\\text{Count}(w_{i-n}, ..., w_{i-1}, w_{i})}{\\sum_{w \\in V}\\text{Count}(w_{i-n}, ..., w_{i-1}, w)}$\n",
        "\n",
        "If the n-gram has never been observed, return $\\frac{1}{|V|}$.\n",
        "\n",
        "__c) Most likely word (3 pts)__\n",
        "\n",
        "Write a function `most_likely_word` that gets an n-gram as input and returns the word that is most likely to succeed the given n-gram. In case there are multiple words that are equally likely to follow the given n-gram, return all of them.\n",
        "Note that you should **not** loop over the **entire** vocabulary to obtain the most likely word.\n",
        "In case the given n-gram has never been observed, return the entire vocabulary.\n",
        "\n",
        "__d) Generating text (2 pts)__\n",
        "\n",
        "Write a function `generate_text` that generates a text sequence of length `k`, given a starting sequence of words (`ngram`). The function should choose the most likely next word in every step; in case there are multiple equally likely words, randomly choose one. You should return a list of ``k`` words, that includes the starting sequence and is the most probable continuation.\n",
        "\n",
        "\n",
        "Please do not implement other functions for the MarkovModel class.\n",
        "\n",
        "Use the function signatures in the cell below."
      ]
    },
    {
      "cell_type": "code",
      "execution_count": null,
      "id": "304206ec",
      "metadata": {
        "id": "304206ec"
      },
      "outputs": [],
      "source": [
        "from collections import defaultdict, Counter\n",
        "from nltk.util import ngrams\n",
        "\n",
        "class MarkovModel():\n",
        "    '''Markov model for generating text.'''\n",
        "\n",
        "    def __init__(self, tokens: Sequence[str], context_len: int):\n",
        "        '''\n",
        "        :param tokens: text corpus on which the model is trained on as an iterator of tokens\n",
        "        :param context_len: length of the n-gram (number of preceding words)\n",
        "        '''\n",
        "        self.context_len = context_len\n",
        "        self.counts, self.v = self.process_corpus(tokens)\n",
        "\n",
        "    def process_corpus(self, tokens: Sequence[str]) -> (Dict[Tuple[str, ...], Dict[str, int]], Set):\n",
        "        '''Training method of the model, counts the occurences of each word after each observed n-gram.\n",
        "        :param tokens: text corpus on which the model is trained on as an iterator of tokens\n",
        "        :returns:\n",
        "            - nested dict that maps each n-gram to the counts of the words succeeding it\n",
        "            - the whole vocabulary as a set\n",
        "        '''\n",
        "        # your code here\n",
        "        return\n",
        "\n",
        "    def transition_prob(self, ngram: Tuple[str, ...], word: str) -> float:\n",
        "        '''Compute the conditional probability that the input word follows the given n-gram.\n",
        "        :param ngram: string tuple that represents an n-gram\n",
        "        :param word: input word\n",
        "        :return: probability that the n-gram is followed by the input word\n",
        "        '''\n",
        "        # your code here\n",
        "        return\n",
        "\n",
        "    def most_likely_word(self, ngram: Tuple[str, ...]) -> Set[str]:\n",
        "        '''Computes which word is most likely to follow a given n-gram.\n",
        "        :param ngram: n-gram we are interested in\n",
        "        return: set of words that are most likely to follow the n-gram\n",
        "        '''\n",
        "        # your code here\n",
        "        return\n",
        "\n",
        "    def generate_text(self, ngram: Tuple[str, ...], k: int) -> List[str]:\n",
        "        '''Generates a text sequence of length k, given a starting sequence.\n",
        "        :param ngram: starting sequence\n",
        "        :param k: total number of words in the generated sequence\n",
        "        :return: sequence of generated words, including the starting sequence\n",
        "        '''\n",
        "        # your code here\n",
        "        return"
      ]
    },
    {
      "cell_type": "code",
      "source": [
        "from collections import defaultdict, Counter\n",
        "from nltk.util import ngrams\n",
        "import collections\n",
        "from collections import defaultdict, Counter"
      ],
      "metadata": {
        "id": "S_uY5lp10QCz"
      },
      "id": "S_uY5lp10QCz",
      "execution_count": 92,
      "outputs": []
    },
    {
      "cell_type": "code",
      "source": [
        "tokens = [\n",
        "    \"I\", \"love\", \"to\", \"watch\", \"the\", \"tree\",\n",
        "    \"The\", \"tree\", \"is\", \"beautiful\", \"in\", \"spring\",\n",
        "    \"I\", \"also\", \"love\", \"the\", \"leaves\", \"of\", \"the\", \"tree\"\n",
        "]\n",
        "context_len = 2"
      ],
      "metadata": {
        "id": "O2d6c-7N0IPF"
      },
      "id": "O2d6c-7N0IPF",
      "execution_count": 93,
      "outputs": []
    },
    {
      "cell_type": "code",
      "source": [
        "text_bigrams = ngrams(tokens, 2)\n",
        "list(text_bigrams)"
      ],
      "metadata": {
        "id": "31Lkiss-1VH2",
        "outputId": "de5914b6-1ce1-4721-d4f3-8d202176b34c",
        "colab": {
          "base_uri": "https://localhost:8080/"
        }
      },
      "id": "31Lkiss-1VH2",
      "execution_count": 98,
      "outputs": [
        {
          "output_type": "execute_result",
          "data": {
            "text/plain": [
              "[('I', 'love'),\n",
              " ('love', 'to'),\n",
              " ('to', 'watch'),\n",
              " ('watch', 'the'),\n",
              " ('the', 'tree'),\n",
              " ('tree', 'The'),\n",
              " ('The', 'tree'),\n",
              " ('tree', 'is'),\n",
              " ('is', 'beautiful'),\n",
              " ('beautiful', 'in'),\n",
              " ('in', 'spring'),\n",
              " ('spring', 'I'),\n",
              " ('I', 'also'),\n",
              " ('also', 'love'),\n",
              " ('love', 'the'),\n",
              " ('the', 'leaves'),\n",
              " ('leaves', 'of'),\n",
              " ('of', 'the'),\n",
              " ('the', 'tree')]"
            ]
          },
          "metadata": {},
          "execution_count": 98
        }
      ]
    },
    {
      "cell_type": "code",
      "source": [
        "Counter(tokens)"
      ],
      "metadata": {
        "id": "pLBqdzdO0Ljj",
        "outputId": "27729ac2-b63a-4d72-f575-a0acf7941d4c",
        "colab": {
          "base_uri": "https://localhost:8080/"
        }
      },
      "id": "pLBqdzdO0Ljj",
      "execution_count": 96,
      "outputs": [
        {
          "output_type": "execute_result",
          "data": {
            "text/plain": [
              "Counter({'I': 2,\n",
              "         'love': 2,\n",
              "         'to': 1,\n",
              "         'watch': 1,\n",
              "         'the': 3,\n",
              "         'tree': 3,\n",
              "         'The': 1,\n",
              "         'is': 1,\n",
              "         'beautiful': 1,\n",
              "         'in': 1,\n",
              "         'spring': 1,\n",
              "         'also': 1,\n",
              "         'leaves': 1,\n",
              "         'of': 1})"
            ]
          },
          "metadata": {},
          "execution_count": 96
        }
      ]
    },
    {
      "cell_type": "code",
      "source": [
        "{\n",
        "    ('I', 'love'): {'to': 1},\n",
        "    ('love', 'to'): {'watch': 1},\n",
        "    ('to', 'watch'): {'the': 1},\n",
        "    ('watch', 'the'): {'tree': 1},\n",
        "    ('the', 'tree'): {'is': 1},\n",
        "    ('The', 'tree'): {'is': 1},\n",
        "    ('tree', 'is'): {'beautiful': 1},\n",
        "    ('is', 'beautiful'): {'in': 1},\n",
        "    ('beautiful', 'in'): {'spring': 1},\n",
        "    ('I', 'also'): {'love': 1},\n",
        "    ('also', 'love'): {'the': 1},\n",
        "    ('the', 'leaves'): {'of': 1},\n",
        "    ('leaves', 'of'): {'the': 1},\n",
        "    ('of', 'the'): {'tree': 1}\n",
        "},\n",
        "{'I', 'love', 'to', 'watch', 'the', 'tree', 'is', 'beautiful', 'in', 'spring', 'also', 'leaves', 'of', 'The'}"
      ],
      "metadata": {
        "id": "mF614vFS0Kpp"
      },
      "id": "mF614vFS0Kpp",
      "execution_count": null,
      "outputs": []
    },
    {
      "cell_type": "markdown",
      "id": "1f1f8ee0",
      "metadata": {
        "id": "1f1f8ee0"
      },
      "source": [
        "__e) Apply the model to a corpus (2 pts)__\n",
        "\n",
        "Finally, we want to apply our functions to the King James Bible (`'bible-kjv.txt'`) that is part of the ``gutenberg`` corpus. Use the function from HA 1, task 2a) to obtain a list of valid tokens (do not remove stopwords) from the King James Bible.\n",
        "\n",
        "Initialize the MarkovModel with the list of valid tokens and ``context_len=3`` and answer the following subtasks:\n",
        "\n",
        "i) What is the probability that the word ``babylon`` follows the sequence ``the king of``?\n",
        "\n",
        "ii) What are the most likely words to follow the sequence ``the world is``?\n",
        "\n",
        "iii) Generate a sequence of length 20 that starts with ``mother mary was``.\n"
      ]
    },
    {
      "cell_type": "code",
      "execution_count": null,
      "id": "199e8f0c",
      "metadata": {
        "id": "199e8f0c"
      },
      "outputs": [],
      "source": []
    }
  ],
  "metadata": {
    "kernelspec": {
      "display_name": "Python 3 (ipykernel)",
      "language": "python",
      "name": "python3"
    },
    "language_info": {
      "codemirror_mode": {
        "name": "ipython",
        "version": 3
      },
      "file_extension": ".py",
      "mimetype": "text/x-python",
      "name": "python",
      "nbconvert_exporter": "python",
      "pygments_lexer": "ipython3",
      "version": "3.12.4"
    },
    "colab": {
      "provenance": []
    }
  },
  "nbformat": 4,
  "nbformat_minor": 5
}