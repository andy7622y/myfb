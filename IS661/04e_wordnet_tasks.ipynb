{
 "cells": [
  {
   "cell_type": "markdown",
   "id": "33deb63e",
   "metadata": {},
   "source": [
    "# Exercise 04: WordNet"
   ]
  },
  {
   "cell_type": "markdown",
   "id": "c0e02045",
   "metadata": {},
   "source": [
    "### Task 1: Word relations\n",
    "\n",
    "Find the relationship between the following words\n",
    "\n",
    "__a)__ ``dog`` is a/an ___ of ``animal``\n",
    "\n",
    "__b)__ ``good`` is a/an ___ of ``bad``\n",
    "\n",
    "__c)__ ``wheel`` is a/an ___ of ``car``\n",
    "\n",
    "__d)__ ``building`` is a/an ___ of ``skyscraper`` "
   ]
  },
  {
   "cell_type": "code",
   "execution_count": null,
   "id": "c4917799",
   "metadata": {},
   "outputs": [],
   "source": []
  },
  {
   "cell_type": "markdown",
   "id": "7e8983d2",
   "metadata": {},
   "source": [
    "### Task 2: WordNet \n",
    "In this task we will work with the WordNet module of NLTK (https://www.nltk.org/api/nltk.corpus.reader.wordnet.html). WordNet is a large lexical database for English that groups words in so-called synsets, which are sets of cognitive synonyms that express distinct concepts (https://wordnet.princeton.edu/)."
   ]
  },
  {
   "cell_type": "code",
   "execution_count": null,
   "id": "d9c94f2b",
   "metadata": {},
   "outputs": [],
   "source": [
    "import nltk\n",
    "\n",
    "nltk.download('wordnet')\n",
    "nltk.download('omw-1.4')"
   ]
  },
  {
   "cell_type": "code",
   "execution_count": null,
   "id": "41d07128",
   "metadata": {},
   "outputs": [],
   "source": [
    "from nltk.corpus import wordnet as wn"
   ]
  },
  {
   "cell_type": "markdown",
   "id": "750dd2f3",
   "metadata": {},
   "source": [
    "__a)__ How many synsets do the words ``monitor`` and ``living`` have? For each synset, print the names of the lemmas associated with the synset, their definition and the assigned examples (if present). "
   ]
  },
  {
   "cell_type": "code",
   "execution_count": null,
   "id": "600d062a",
   "metadata": {},
   "outputs": [],
   "source": []
  },
  {
   "cell_type": "markdown",
   "id": "293af6b3",
   "metadata": {},
   "source": [
    "__b)__ Take a look at the lemma `car` as in \"a motor vehicle with four wheels; usually propelled by an internal combustion engine\". What other lemmas have the same definition in WordNet?"
   ]
  },
  {
   "cell_type": "code",
   "execution_count": null,
   "id": "69e83d67",
   "metadata": {},
   "outputs": [],
   "source": []
  },
  {
   "cell_type": "markdown",
   "id": "ec5ec211",
   "metadata": {},
   "source": [
    "__c)__ Find the lowest common hypernym of ``tea`` and ``coffee``in the sense of tree/shrub. "
   ]
  },
  {
   "cell_type": "markdown",
   "id": "d21ea023",
   "metadata": {},
   "source": [
    "__d)__ Print the path(s) of ``coffee`` in the sense of beverage to the root of the hypernym/hyponym tree. Then compute the distance of the shortest path linking ``coffee`` and ``tea`` in the sense of beverages. Compare it to the shortest path connecting ``coffee`` and ``tea`` in the sense of trees/shrugs."
   ]
  },
  {
   "cell_type": "code",
   "execution_count": null,
   "id": "6b6b198b",
   "metadata": {},
   "outputs": [],
   "source": []
  },
  {
   "cell_type": "markdown",
   "id": "2ec9195f",
   "metadata": {},
   "source": [
    "__e)__ Implement a function that finds __all__ hyponyms (on all deeper levels) for a given synset. With the parameter ``instance`` the user should control if instance hyponyms should also be included."
   ]
  },
  {
   "cell_type": "code",
   "execution_count": null,
   "id": "f2f1104d",
   "metadata": {},
   "outputs": [],
   "source": [
    "def get_hyponyms(synset, instance=False):\n",
    "    '''\n",
    "    :param synset: synset for which we want to find all hyponyms\n",
    "    :param instance: indicates if instance hyponyms should be included, False by default\n",
    "    :return: a list of all hyponyms for the given synset\n",
    "    '''\n",
    "    # your code here\n",
    "    return"
   ]
  },
  {
   "cell_type": "markdown",
   "id": "2e658900",
   "metadata": {},
   "source": [
    "__*f)__ Implement a function that __recursively__ finds all hypernyms up to the root for a given synset. Keep in mind that the input synset might be an instance.\n",
    "\n",
    "_Note: A recursive function is a function that calls itself._\n",
    "\n",
    "*this task is optional"
   ]
  },
  {
   "cell_type": "code",
   "execution_count": null,
   "id": "7630df42",
   "metadata": {},
   "outputs": [],
   "source": [
    "def get_hypernyms(synset, level=0):\n",
    "    '''\n",
    "    :param synset: synset for which we want to find all hypernyms\n",
    "    :param level: indicates the level of recursion, can be used for termination\n",
    "    :return: a list of all hypernyms for the given synset\n",
    "    '''\n",
    "    # your code here\n",
    "    return"
   ]
  }
 ],
 "metadata": {
  "kernelspec": {
   "display_name": "Python 3 (ipykernel)",
   "language": "python",
   "name": "python3"
  },
  "language_info": {
   "codemirror_mode": {
    "name": "ipython",
    "version": 3
   },
   "file_extension": ".py",
   "mimetype": "text/x-python",
   "name": "python",
   "nbconvert_exporter": "python",
   "pygments_lexer": "ipython3",
   "version": "3.12.4"
  }
 },
 "nbformat": 4,
 "nbformat_minor": 5
}
