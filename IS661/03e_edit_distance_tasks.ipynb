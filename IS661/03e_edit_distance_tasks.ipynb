{
 "cells": [
  {
   "cell_type": "markdown",
   "id": "72a69b52",
   "metadata": {},
   "source": [
    "# Exercise 03: Minimum Edit Distance"
   ]
  },
  {
   "cell_type": "code",
   "execution_count": null,
   "id": "6ffbf5d0",
   "metadata": {},
   "outputs": [],
   "source": [
    "from typing import List, Union, Dict, Set, Tuple\n",
    "import numpy as np\n",
    "from numpy.typing import NDArray"
   ]
  },
  {
   "cell_type": "markdown",
   "id": "06714771",
   "metadata": {},
   "source": [
    "### Task 1: Preprocessing\n",
    "In this task, use functions from ``nltk`` wherever possible."
   ]
  },
  {
   "cell_type": "code",
   "execution_count": null,
   "id": "76219894",
   "metadata": {},
   "outputs": [],
   "source": [
    "import nltk"
   ]
  },
  {
   "cell_type": "markdown",
   "id": "7a3d5b19",
   "metadata": {},
   "source": [
    "__a)__ Write a function that removes the punctuation (consider ``string.punctuation``) and all stopwords from a given text. "
   ]
  },
  {
   "cell_type": "code",
   "execution_count": null,
   "id": "6566c136",
   "metadata": {},
   "outputs": [],
   "source": [
    "nltk.download('stopwords')"
   ]
  },
  {
   "cell_type": "code",
   "execution_count": null,
   "id": "cb3a5cae",
   "metadata": {},
   "outputs": [],
   "source": [
    "from nltk.corpus.reader.util import StreamBackedCorpusView \n",
    "\n",
    "def clean(tokens: Union[List[str], StreamBackedCorpusView]) -> List[str]:\n",
    "    \"\"\"\n",
    "    :param tokens: list of tokens that should be cleaned\n",
    "    :return: list of cleaned tokens\n",
    "    \"\"\"\n",
    "    # your code here\n",
    "    return "
   ]
  },
  {
   "cell_type": "code",
   "execution_count": null,
   "id": "176ba8fb",
   "metadata": {},
   "outputs": [],
   "source": []
  },
  {
   "cell_type": "code",
   "execution_count": null,
   "id": "a263ee46",
   "metadata": {},
   "outputs": [],
   "source": [
    "# test\n",
    "t1 = \"I am happy to have you my dear friend!~\""
   ]
  },
  {
   "cell_type": "code",
   "execution_count": null,
   "id": "3f8ac9d6",
   "metadata": {},
   "outputs": [],
   "source": []
  },
  {
   "cell_type": "markdown",
   "id": "bf2a8270",
   "metadata": {},
   "source": [
    "__b)__ Get the list of tokens from the book Moby Dick (``melville-moby_dick.txt``) which you can find in the ``gutenberg`` corpus. Return the word counts sorted by frequency (most frequent word first) before and after cleaning the list of tokens with your function from __a)__.\n",
    "\n",
    "_Hint: Take a look at_ ``defaultdict`` _and_ ``Counter`` _from the Python module_ ``collections``."
   ]
  },
  {
   "cell_type": "code",
   "execution_count": null,
   "id": "de1bfe52",
   "metadata": {},
   "outputs": [],
   "source": []
  },
  {
   "cell_type": "code",
   "execution_count": null,
   "id": "77a1e0b1",
   "metadata": {},
   "outputs": [],
   "source": []
  },
  {
   "cell_type": "markdown",
   "id": "d3fdfcef",
   "metadata": {},
   "source": [
    "### Task 2: Minimum Edit Distance "
   ]
  },
  {
   "cell_type": "markdown",
   "id": "90d1f213",
   "metadata": {},
   "source": [
    "__a)__ In this task we want to calculate the minimum edit distance between two input strings. \n",
    "\n",
    "Write a function that implements the minimum edit distance algorithm (dynamic programming) from the lecture. Your function should get two strings as input and should return the minimum edit distance and a 2-dimensional numpy array that represents the corresponding edit distance table ``D``. Assume that insertion and deletion have a cost of 1. The cost of substitution should be specified by the user (default: 2, i.e., Levenshtein distance).\n",
    "\n",
    "Note, that the entry ``D[i][j]`` in the returned numpy array should correspond to the cell D(i,j) of the edit distance table from the lecture (i.e. the numpy array is a vertically flipped version of the table from the lecture). \n",
    "\n",
    "__Example:__ _The edit distance table_ ``D`` _for a source string of length 3 and a target string of length 5 should be initialized as follows:_\n",
    "\n",
    "```\n",
    "[[0  1  2  3  4  5]\n",
    " [1  0  0  0  0  0]\n",
    " [2  0  0  0  0  0]\n",
    " [3  0  0  0  0  0]]\n",
    "```"
   ]
  },
  {
   "cell_type": "code",
   "execution_count": 5,
   "id": "df3ce3bc",
   "metadata": {},
   "outputs": [],
   "source": [
    "def edit_distance(str1: str, str2: str, cost_of_substitute: int=2) -> (int, NDArray[NDArray[int]]):\n",
    "    '''\n",
    "    :param str1: source string \n",
    "    :param str2: target string\n",
    "    :cost_of_substitute: cost for substituting mismatching letters \n",
    "    :returns:\n",
    "        - minimum edit distance of str1 and str2\n",
    "        - minimum edit distance table\n",
    "    '''\n",
    "    # your code here\n",
    "    return "
   ]
  },
  {
   "cell_type": "code",
   "execution_count": null,
   "id": "668db831",
   "metadata": {},
   "outputs": [],
   "source": []
  },
  {
   "cell_type": "code",
   "execution_count": null,
   "id": "e6a57a8a",
   "metadata": {},
   "outputs": [],
   "source": []
  }
 ],
 "metadata": {
  "kernelspec": {
   "display_name": "Python 3 (ipykernel)",
   "language": "python",
   "name": "python3"
  },
  "language_info": {
   "codemirror_mode": {
    "name": "ipython",
    "version": 3
   },
   "file_extension": ".py",
   "mimetype": "text/x-python",
   "name": "python",
   "nbconvert_exporter": "python",
   "pygments_lexer": "ipython3",
   "version": "3.12.4"
  }
 },
 "nbformat": 4,
 "nbformat_minor": 5
}
