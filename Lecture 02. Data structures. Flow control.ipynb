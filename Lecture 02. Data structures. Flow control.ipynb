{
 "cells": [
  {
   "cell_type": "markdown",
   "id": "49e95655",
   "metadata": {},
   "source": [
    "# Data structures"
   ]
  },
  {
   "cell_type": "markdown",
   "id": "8d4b1b8f",
   "metadata": {},
   "source": [
    "We have already learned that data can be stored in variables, but this method only allows us to store a single value. If we wanted to store multiple values, we would have to create multiple variables, which is inconvenient:"
   ]
  },
  {
   "cell_type": "code",
   "execution_count": null,
   "id": "9125fce0",
   "metadata": {},
   "outputs": [],
   "source": [
    "x1 = 12\n",
    "x2 = -5\n",
    "x3 = 10"
   ]
  },
  {
   "cell_type": "markdown",
   "id": "0d3520fb",
   "metadata": {},
   "source": [
    "To address this limitation, Python provides several data structures that allow us to organize and store multiple values in a more efficient manner."
   ]
  },
  {
   "cell_type": "markdown",
   "id": "c5f10718",
   "metadata": {},
   "source": [
    "### Lists\n",
    "Lists is the most commonly used data structures in Python. A list represents an ordered collection of objects, which can be of any type, and allows us to modify, add, or remove objects after the list is defined.\n",
    "\n",
    "Lists are written as sequences of data, separated by commas and enclosed in square brackets.\n",
    "\n",
    "Lists can be created by simply assigning a variable to '[ ]' or a list:"
   ]
  },
  {
   "cell_type": "code",
   "execution_count": null,
   "id": "3484f111",
   "metadata": {},
   "outputs": [],
   "source": [
    "# An empty list\n",
    "list_1 = []\n",
    "\n",
    "# a list with integer objects\n",
    "list_2 = [3, 5, 7, 9]\n",
    "\n",
    "# a list of strings\n",
    "list_3 = ['Monday', 'Tuesday', 'Wednesday', 'Thursday', 'Friday', 'Saturday', 'Sunday']\n",
    "\n",
    "# a list of mixed types\n",
    "list_4 = [2, 5, \"Elephant\", 6, 8.2, True]"
   ]
  },
  {
   "cell_type": "markdown",
   "id": "2a0d652d",
   "metadata": {},
   "source": [
    "Each element in a list can be accessed by its index (position) in the list. It is important to note that in Python, indexing starts from 0."
   ]
  },
  {
   "cell_type": "code",
   "execution_count": null,
   "id": "a47ce432",
   "metadata": {},
   "outputs": [],
   "source": [
    "list_4[0]"
   ]
  },
  {
   "cell_type": "code",
   "execution_count": null,
   "id": "e554948a",
   "metadata": {},
   "outputs": [],
   "source": [
    "list_4[4]"
   ]
  },
  {
   "cell_type": "markdown",
   "id": "70c96d9b",
   "metadata": {},
   "source": [
    "Attempting to access an index that is beyond the range of the list will result in an IndexError."
   ]
  },
  {
   "cell_type": "code",
   "execution_count": null,
   "id": "e0e22e78",
   "metadata": {},
   "outputs": [],
   "source": [
    "list_4[10]"
   ]
  },
  {
   "cell_type": "markdown",
   "id": "10460e26",
   "metadata": {},
   "source": [
    "Indexing can also be done in reverse order, using negative numbers. '-1' is the index of the last element, '-2' is the index of the second to last element, and so on."
   ]
  },
  {
   "cell_type": "code",
   "execution_count": null,
   "id": "f7640ae0",
   "metadata": {},
   "outputs": [],
   "source": [
    "list_4[-1]"
   ]
  },
  {
   "cell_type": "code",
   "execution_count": null,
   "id": "3caefcc1",
   "metadata": {},
   "outputs": [],
   "source": [
    "list_4[-2]"
   ]
  },
  {
   "cell_type": "markdown",
   "id": "2cce60e7",
   "metadata": {},
   "source": [
    "### Built-in list functions and methods"
   ]
  },
  {
   "cell_type": "code",
   "execution_count": null,
   "id": "56a9ae09",
   "metadata": {},
   "outputs": [],
   "source": [
    "mylist = [1, 2, 3, 0, 1, 5, 4, 3, 5, 5, 2]\n",
    "\n",
    "print(len(mylist)) # Number of elements\n",
    "print(min(mylist)) # Minimum of all elements\n",
    "print(max(mylist)) # Maximum of all elements\n",
    "print(mylist.count(5)) # How often does the value 5 appear?\n",
    "print(mylist.index(0)) # At which position does the value 0 appear for the first time?"
   ]
  },
  {
   "cell_type": "code",
   "execution_count": null,
   "id": "1ca80269",
   "metadata": {},
   "outputs": [],
   "source": [
    "mylist = ['a','b','c','d']\n",
    "mylist.append('e') # Adds an element to the end of the list\n",
    "mylist.append('f')\n",
    "print(mylist)"
   ]
  },
  {
   "cell_type": "code",
   "execution_count": null,
   "id": "e4bfe33f",
   "metadata": {},
   "outputs": [],
   "source": [
    "mylist.insert (1, \"new_element\") # Inserts an element at a given position\n",
    "print (mylist)"
   ]
  },
  {
   "cell_type": "markdown",
   "id": "8c5b78d4",
   "metadata": {},
   "source": [
    "We can also just overwrite elements of a list:"
   ]
  },
  {
   "cell_type": "code",
   "execution_count": null,
   "id": "f760e725",
   "metadata": {},
   "outputs": [],
   "source": [
    "mylist[2] = 'replacement'\n",
    "mylist"
   ]
  },
  {
   "cell_type": "code",
   "execution_count": null,
   "id": "e5511005",
   "metadata": {},
   "outputs": [],
   "source": [
    "mylist[10] = 'too-late' # cannot set an element that does not exist yet"
   ]
  },
  {
   "cell_type": "code",
   "execution_count": null,
   "id": "07911124",
   "metadata": {},
   "outputs": [],
   "source": [
    "mylist = ['a','b','c','d','b']\n",
    "mylist.remove('b') # removes the first occurence of a value\n",
    "mylist"
   ]
  },
  {
   "cell_type": "code",
   "execution_count": null,
   "id": "25ff7f87",
   "metadata": {},
   "outputs": [],
   "source": [
    "mylist.remove('b') # removes the another b\n",
    "mylist"
   ]
  },
  {
   "cell_type": "code",
   "execution_count": null,
   "id": "722b439c",
   "metadata": {},
   "outputs": [],
   "source": [
    "mylist = ['a', 'b', 'c', 'd'] # returns the last value and removes it from the list\n",
    "x = mylist.pop()\n",
    "print(mylist)\n",
    "print(x)"
   ]
  },
  {
   "cell_type": "code",
   "execution_count": null,
   "id": "98b4dafb",
   "metadata": {},
   "outputs": [],
   "source": [
    "mylist = ['a','b','c','d']\n",
    "mylist.pop() # of course, you do not have to use the result value\n",
    "mylist"
   ]
  },
  {
   "cell_type": "code",
   "execution_count": null,
   "id": "33f35bc1",
   "metadata": {},
   "outputs": [],
   "source": [
    "mylist = [2, 1, 4, 3, 6, 5, 8, 7]\n",
    "mylist.reverse()\n",
    "mylist"
   ]
  },
  {
   "cell_type": "code",
   "execution_count": null,
   "id": "faaf4d0c",
   "metadata": {
    "scrolled": true
   },
   "outputs": [],
   "source": [
    "mylist = [2,1,4,3,6,5,8,7]\n",
    "mylist.sort()\n",
    "mylist"
   ]
  },
  {
   "cell_type": "markdown",
   "id": "2431a403",
   "metadata": {},
   "source": [
    "You can also place the contents of variables into a list. Note that you just assign the variable contents, not the variable itself, so the list is unaffected by later changes in the variable!"
   ]
  },
  {
   "cell_type": "code",
   "execution_count": null,
   "id": "d391e022",
   "metadata": {},
   "outputs": [],
   "source": [
    "x = 5\n",
    "y = 10\n",
    "mylist = [x, y]\n",
    "print(mylist)\n",
    "x = 10\n",
    "print(mylist)"
   ]
  },
  {
   "cell_type": "markdown",
   "id": "8c729def",
   "metadata": {},
   "source": [
    "### Lists of Lists"
   ]
  },
  {
   "cell_type": "markdown",
   "id": "6e2a3805",
   "metadata": {},
   "source": [
    "Merge two lists"
   ]
  },
  {
   "cell_type": "code",
   "execution_count": null,
   "id": "d634c1ee",
   "metadata": {},
   "outputs": [],
   "source": [
    "list_1 = [1,2,3]\n",
    "list_2 = [4,5,6]\n",
    "list_3 = [7,8,9]\n",
    "list_1 + list_2 + list_3"
   ]
  },
  {
   "cell_type": "markdown",
   "id": "12afc390",
   "metadata": {},
   "source": [
    "List can contain any object. That means it can also contain other lists!\n",
    "\n",
    "To access nested lists we can use indexing again."
   ]
  },
  {
   "cell_type": "code",
   "execution_count": null,
   "id": "4db9bef7",
   "metadata": {},
   "outputs": [],
   "source": [
    "list_of_lists = []\n",
    "list_of_lists.append(list_1)\n",
    "list_of_lists.append(list_2)\n",
    "list_of_lists.append(list_3)\n",
    "list_of_lists"
   ]
  },
  {
   "cell_type": "code",
   "execution_count": null,
   "id": "bd4bfb8e",
   "metadata": {},
   "outputs": [],
   "source": [
    "list_of_lists[0]"
   ]
  },
  {
   "cell_type": "code",
   "execution_count": null,
   "id": "69dc8f74",
   "metadata": {},
   "outputs": [],
   "source": [
    "type(list_of_lists)"
   ]
  },
  {
   "cell_type": "code",
   "execution_count": null,
   "id": "bb767420",
   "metadata": {},
   "outputs": [],
   "source": [
    "#We could have also created this directly:\n",
    "list_of_lists = [[1,2,3],\n",
    "                 [4,5,6],\n",
    "                 [7,8,9]]\n",
    "list_of_lists "
   ]
  },
  {
   "cell_type": "markdown",
   "id": "238af56f",
   "metadata": {},
   "source": [
    "Access works just in the same way as before:"
   ]
  },
  {
   "cell_type": "code",
   "execution_count": null,
   "id": "716452ad",
   "metadata": {},
   "outputs": [],
   "source": [
    "print(list_of_lists[1])\n",
    "print(type(list_of_lists))"
   ]
  },
  {
   "cell_type": "markdown",
   "id": "b349992d",
   "metadata": {},
   "source": [
    "We can \"chain\" the locators in square brackets:"
   ]
  },
  {
   "cell_type": "code",
   "execution_count": null,
   "id": "a5c7f2da",
   "metadata": {},
   "outputs": [],
   "source": [
    "list_of_lists[1][0]"
   ]
  },
  {
   "cell_type": "markdown",
   "id": "c030a06b",
   "metadata": {},
   "source": [
    "There is also an option to add all elements from a list to another list, called extend"
   ]
  },
  {
   "cell_type": "code",
   "execution_count": null,
   "id": "ae935b0d",
   "metadata": {},
   "outputs": [],
   "source": [
    "print(list_1)\n",
    "print(list_2)\n",
    "list_1.extend(list_2)\n",
    "print(list_1)"
   ]
  },
  {
   "cell_type": "code",
   "execution_count": null,
   "id": "99fd0bf7",
   "metadata": {},
   "outputs": [],
   "source": [
    "print(list_1)\n",
    "print(list_2)\n",
    "list_1.extend(list_2)\n",
    "print(list_1)"
   ]
  },
  {
   "cell_type": "markdown",
   "id": "908e5e31",
   "metadata": {},
   "source": [
    "Slicing is an operation to access specific parts of the list (several elements). It uses a colon (:) with the index of the first value (included) and the index of the last value (excluded). Thus, my_list[x:y] contains y-x elements. One (or both) values can also be left out, then it is assumed that it is the most extreme possible value."
   ]
  },
  {
   "cell_type": "code",
   "execution_count": null,
   "id": "c74ca40c",
   "metadata": {},
   "outputs": [],
   "source": [
    "full_list = ['a','b','c','d','e','f','g', 'h']"
   ]
  },
  {
   "cell_type": "code",
   "execution_count": null,
   "id": "542c1138",
   "metadata": {
    "scrolled": true
   },
   "outputs": [],
   "source": [
    "full_list[1:5]"
   ]
  },
  {
   "cell_type": "code",
   "execution_count": null,
   "id": "c0065ff5",
   "metadata": {},
   "outputs": [],
   "source": [
    "full_list[3:]"
   ]
  },
  {
   "cell_type": "code",
   "execution_count": null,
   "id": "a7226fc1",
   "metadata": {},
   "outputs": [],
   "source": [
    "full_list[:5] "
   ]
  },
  {
   "cell_type": "code",
   "execution_count": null,
   "id": "97537933",
   "metadata": {},
   "outputs": [],
   "source": [
    "full_list[:-1] #removes just the last element"
   ]
  },
  {
   "cell_type": "code",
   "execution_count": null,
   "id": "a499187a",
   "metadata": {},
   "outputs": [],
   "source": [
    "x = full_list[:] # just a copy!\n",
    "print(x)"
   ]
  },
  {
   "cell_type": "markdown",
   "id": "5bfdf4d1",
   "metadata": {},
   "source": [
    "### Copying lists"
   ]
  },
  {
   "cell_type": "markdown",
   "id": "c771537f",
   "metadata": {},
   "source": [
    "There is a difference between assigning a new variable to a list (\"just another name for the same list\") or creating a copy of a list!\n"
   ]
  },
  {
   "cell_type": "code",
   "execution_count": null,
   "id": "e9d6a3b2",
   "metadata": {},
   "outputs": [],
   "source": [
    "full_list = ['a', 'b', 'c', 'd', 'e', 'f', 'g', 'h']"
   ]
  },
  {
   "cell_type": "code",
   "execution_count": null,
   "id": "56be9106",
   "metadata": {},
   "outputs": [],
   "source": [
    "x = full_list[:]\n",
    "y = full_list\n",
    "full_list.append('X')\n",
    "print(x)\n",
    "print(y)"
   ]
  },
  {
   "cell_type": "markdown",
   "id": "9d0d2c52",
   "metadata": {},
   "source": [
    "### Strings as lists of characters\n",
    "Strings are essentially lists of characters which means that you could assess its elements in a similar way."
   ]
  },
  {
   "cell_type": "code",
   "execution_count": null,
   "id": "fc1050de",
   "metadata": {},
   "outputs": [],
   "source": [
    "s = 'Hello everyone!'\n",
    "print(s[0])\n",
    "print(s[-1])"
   ]
  },
  {
   "cell_type": "code",
   "execution_count": null,
   "id": "d5eb8854",
   "metadata": {},
   "outputs": [],
   "source": [
    "print(s[-3:])"
   ]
  },
  {
   "cell_type": "markdown",
   "id": "0f45514a",
   "metadata": {},
   "source": [
    "Note, however, that unlike lists strings are immutable, e.g. they cannot be changed after they are created:"
   ]
  },
  {
   "cell_type": "code",
   "execution_count": null,
   "id": "3be0f264",
   "metadata": {},
   "outputs": [],
   "source": [
    "s = 'Hello'\n",
    "s[0] = 'h'"
   ]
  },
  {
   "cell_type": "markdown",
   "id": "6ce732ee",
   "metadata": {},
   "source": [
    "That is why all string methods return a new string:"
   ]
  },
  {
   "cell_type": "code",
   "execution_count": null,
   "id": "4c5ccfd4",
   "metadata": {},
   "outputs": [],
   "source": [
    "s = 'Hello!'\n",
    "s.replace('!', '?')\n",
    "print(s)"
   ]
  },
  {
   "cell_type": "code",
   "execution_count": null,
   "id": "1b27db87",
   "metadata": {},
   "outputs": [],
   "source": [
    "s = 'Hello!'\n",
    "s = s.replace('!', '?')\n",
    "print(s)"
   ]
  },
  {
   "cell_type": "markdown",
   "id": "d04d35c4",
   "metadata": {},
   "source": [
    "### Tuples\n"
   ]
  },
  {
   "cell_type": "markdown",
   "id": "3252adc8",
   "metadata": {},
   "source": [
    "Tuples are very similar to lists. The difference is that lists are modifiable, but tuples cannot change once they are created."
   ]
  },
  {
   "cell_type": "code",
   "execution_count": null,
   "id": "3272c919",
   "metadata": {},
   "outputs": [],
   "source": [
    "t = ('a','b','c')\n",
    "type(t)"
   ]
  },
  {
   "cell_type": "code",
   "execution_count": null,
   "id": "4aedaa1d",
   "metadata": {},
   "outputs": [],
   "source": [
    "t[1]"
   ]
  },
  {
   "cell_type": "code",
   "execution_count": null,
   "id": "997fb739",
   "metadata": {},
   "outputs": [],
   "source": [
    "t[1] = 5"
   ]
  },
  {
   "cell_type": "markdown",
   "id": "6daef5f7",
   "metadata": {},
   "source": [
    "### Sets"
   ]
  },
  {
   "cell_type": "markdown",
   "id": "39bfc580",
   "metadata": {},
   "source": [
    "Sets are similar to lists, but are (i) not ordered and (ii) cannot contain the same element multiple times."
   ]
  },
  {
   "cell_type": "code",
   "execution_count": null,
   "id": "59309ef4",
   "metadata": {},
   "outputs": [],
   "source": [
    "st = set([5,4,3,1,5,2,3,4,5])\n",
    "st"
   ]
  },
  {
   "cell_type": "code",
   "execution_count": null,
   "id": "bdb8aa16",
   "metadata": {},
   "outputs": [],
   "source": [
    "st.add(100)\n",
    "st"
   ]
  },
  {
   "cell_type": "code",
   "execution_count": null,
   "id": "2027c35d",
   "metadata": {},
   "outputs": [],
   "source": [
    "st.add(1)\n",
    "st"
   ]
  },
  {
   "cell_type": "markdown",
   "id": "264a933b",
   "metadata": {},
   "source": [
    "### Dictionaries\n",
    "Python’s built-in mapping type. They map keys, which can be any immutable(unchangable) type, to values, which can be any type"
   ]
  },
  {
   "cell_type": "code",
   "execution_count": null,
   "id": "256679b8",
   "metadata": {},
   "outputs": [],
   "source": [
    "d = dict()\n",
    "d = {}\n",
    "type(d)"
   ]
  },
  {
   "cell_type": "code",
   "execution_count": null,
   "id": "bbaa8aa3",
   "metadata": {},
   "outputs": [],
   "source": [
    "fruit_colors = {}\n",
    "fruit_colors['Banana'] = 'Yellow'\n",
    "fruit_colors['Strawberry'] = 'Red'\n",
    "fruit_colors['Orange'] = 'Orange'\n",
    "fruit_colors['Apple'] = 'Green'\n",
    "fruit_colors['Blueberry'] = 'Blue'\n",
    "print(fruit_colors)"
   ]
  },
  {
   "cell_type": "code",
   "execution_count": null,
   "id": "d016b412",
   "metadata": {},
   "outputs": [],
   "source": [
    "fruit_colors = {\n",
    "    'Banana': 'Yellow',\n",
    "    'Strawberry': 'Red',\n",
    "    'Orange': 'Orange',\n",
    "    'Apple': 'Green',\n",
    "    'Blueberry': 'Blue',\n",
    "}"
   ]
  },
  {
   "cell_type": "code",
   "execution_count": null,
   "id": "49ddcfb0",
   "metadata": {},
   "outputs": [],
   "source": [
    "fruit_colors[\"Banana\"]"
   ]
  },
  {
   "cell_type": "code",
   "execution_count": null,
   "id": "2a4952ac",
   "metadata": {},
   "outputs": [],
   "source": [
    "print(\"The color of Apple is \" + fruit_colors[\"Apple\"])"
   ]
  },
  {
   "cell_type": "code",
   "execution_count": null,
   "id": "b7e55150",
   "metadata": {},
   "outputs": [],
   "source": [
    "fruit_colors.keys()"
   ]
  },
  {
   "cell_type": "code",
   "execution_count": null,
   "id": "b4234292",
   "metadata": {},
   "outputs": [],
   "source": [
    "fruit_colors.values()"
   ]
  },
  {
   "cell_type": "code",
   "execution_count": null,
   "id": "f67f44ba",
   "metadata": {},
   "outputs": [],
   "source": [
    "fruit_colors.items()"
   ]
  },
  {
   "cell_type": "code",
   "execution_count": null,
   "id": "88ab7549",
   "metadata": {},
   "outputs": [],
   "source": [
    "len(fruit_colors)"
   ]
  },
  {
   "cell_type": "code",
   "execution_count": null,
   "id": "15437acd",
   "metadata": {},
   "outputs": [],
   "source": [
    "cities = {\n",
    "    (49.4888, 8.4691): {'Name': 'Mannheim', 'Places to visit': ['University of Mannheim', 'Water Tower']},\n",
    "    (48.8566, 2.3522): {'Name': 'Paris', 'Places to visit': ['Eiffel Tower', 'Parc des Buttes-Chaumont']},\n",
    "    (-33.865143, 151.209900): {'Name': 'Syndey', 'Places to visit': ['Opera House', 'Harbour Bridge']}\n",
    "     }"
   ]
  },
  {
   "cell_type": "code",
   "execution_count": null,
   "id": "f8d3e844",
   "metadata": {},
   "outputs": [],
   "source": [
    "cities"
   ]
  },
  {
   "cell_type": "markdown",
   "id": "70629129",
   "metadata": {},
   "source": [
    "# Flow control"
   ]
  },
  {
   "cell_type": "markdown",
   "id": "1f90f096",
   "metadata": {},
   "source": [
    "In programming, flow control refers to the order in which the program’s code executes. By default, the commands in a program are executed sequentially, one after the other, from top to bottom. However, control statements allow us to modify this flow, enabling the conditional or iterative execution of certain blocks of code."
   ]
  },
  {
   "cell_type": "markdown",
   "id": "4f9af338",
   "metadata": {},
   "source": [
    "### If - Else\n",
    "The \"If\" construct is a control statement that allows us to execute a block of code only if a certain condition is true."
   ]
  },
  {
   "cell_type": "code",
   "execution_count": null,
   "id": "782c9d1f",
   "metadata": {},
   "outputs": [],
   "source": [
    "x = 10\n",
    "if x > 5:\n",
    "    print ('This is a big number!')"
   ]
  },
  {
   "cell_type": "code",
   "execution_count": null,
   "id": "8bb39b7f",
   "metadata": {},
   "outputs": [],
   "source": [
    "x = 1\n",
    "if x > 5:\n",
    "    print ('This is a big number!')"
   ]
  },
  {
   "cell_type": "markdown",
   "id": "2009c32f",
   "metadata": {},
   "source": [
    "The \"else\" block specifies the code that will be executed if the condition in the \"if\" block is not met."
   ]
  },
  {
   "cell_type": "code",
   "execution_count": null,
   "id": "30c30a99",
   "metadata": {},
   "outputs": [],
   "source": [
    "x = 4\n",
    "if x > 5:\n",
    "    print ('This is a big number!')\n",
    "else:\n",
    "    print ('this is a small number!')"
   ]
  },
  {
   "cell_type": "markdown",
   "id": "d7944c92",
   "metadata": {},
   "source": [
    "The \"elif\" block (which stands for \"else if\") specifies a new condition to be checked if the previous \"if\" condition is not met. The code in the \"elif\" block will only be executed if its condition is true."
   ]
  },
  {
   "cell_type": "code",
   "execution_count": null,
   "id": "4f2e590f",
   "metadata": {},
   "outputs": [],
   "source": [
    "x = 15\n",
    "if x > 20:\n",
    "    print ('This is a very big number!')\n",
    "elif x > 10:\n",
    "    print ('This is a big number!')\n",
    "else:\n",
    "    print ('this is a small number!')"
   ]
  },
  {
   "cell_type": "markdown",
   "id": "059c384a",
   "metadata": {},
   "source": [
    "We can also create an equivalent hierarchical if-else structure by nesting if-else statements inside each other."
   ]
  },
  {
   "cell_type": "code",
   "execution_count": null,
   "id": "08d516ca",
   "metadata": {},
   "outputs": [],
   "source": [
    "x = 15\n",
    "if x > 20:\n",
    "    print ('This is a very big number!')\n",
    "else:\n",
    "    if x > 10:\n",
    "        print ('This is a big number!')\n",
    "    else:\n",
    "        print ('this is a small number!')"
   ]
  },
  {
   "cell_type": "code",
   "execution_count": null,
   "id": "90da4bb4",
   "metadata": {},
   "outputs": [],
   "source": [
    "x = 10\n",
    "command = 'increment'\n",
    "if command =='increment':\n",
    "    x = x + 1\n",
    "print (x)"
   ]
  },
  {
   "cell_type": "markdown",
   "id": "a0d52533",
   "metadata": {},
   "source": [
    "It is important to note that indentation (tabs/whitespaces at the start of the line) is crucial in Python, as it defines the blocks of code. Compare the next two blocks to spot the difference!"
   ]
  },
  {
   "cell_type": "code",
   "execution_count": null,
   "id": "8683c956",
   "metadata": {},
   "outputs": [],
   "source": [
    "x = 10\n",
    "command = 'nothing'\n",
    "if command =='increment':\n",
    "    x = x + 1\n",
    "print(x)"
   ]
  },
  {
   "cell_type": "code",
   "execution_count": null,
   "id": "424e58da",
   "metadata": {},
   "outputs": [],
   "source": [
    "x = 10\n",
    "command = 'nothing'\n",
    "if command =='increment':\n",
    "    x = x + 1\n",
    "    print(x)"
   ]
  },
  {
   "cell_type": "markdown",
   "id": "fa9879fd",
   "metadata": {},
   "source": [
    "It is mandatory to have a block of code after an if, else, or elif statement. If you do not want to execute any code, you can use the \"pass\" statement. The \"pass\" statement does nothing but prevents a syntax error.\n"
   ]
  },
  {
   "cell_type": "code",
   "execution_count": null,
   "id": "9011cb4d",
   "metadata": {},
   "outputs": [],
   "source": [
    "x = 20\n",
    "if x > 10:\n",
    "    #We will implement this later\n",
    "    pass\n",
    "print (\"Here our code continues...\")"
   ]
  },
  {
   "cell_type": "markdown",
   "id": "44f42e05",
   "metadata": {},
   "source": [
    "### Loops\n",
    "Loops are control structures that allow you to repeat a block of code multiple times. The values of variables may change with each iteration, resulting in different outcomes in each pass through the loop."
   ]
  },
  {
   "cell_type": "code",
   "execution_count": null,
   "id": "f80ab67e",
   "metadata": {},
   "outputs": [],
   "source": [
    "names = [\"D'Artagnan\", 'Athos', 'Porthos', 'Aramis']\n",
    "for name in names:\n",
    "    print(\"Bonjour \" + name + \"!\")"
   ]
  },
  {
   "cell_type": "markdown",
   "id": "a59698f5",
   "metadata": {},
   "source": [
    "Unlike many other programming languages, Python does not have a built-in counting loop (e.g., \"for...next\" loop). However, you can achieve a similar effect using the \"range\" function."
   ]
  },
  {
   "cell_type": "code",
   "execution_count": null,
   "id": "5f14b1d9",
   "metadata": {},
   "outputs": [],
   "source": [
    "for i in range(5):\n",
    "    print(i)"
   ]
  },
  {
   "cell_type": "code",
   "execution_count": null,
   "id": "85ebf7b9",
   "metadata": {},
   "outputs": [],
   "source": [
    "for i in range(2, 5):\n",
    "    print (i)"
   ]
  },
  {
   "cell_type": "code",
   "execution_count": null,
   "id": "cc8e77aa",
   "metadata": {},
   "outputs": [],
   "source": [
    "#three arguments: start, stop, step-size\n",
    "for i in range (-10, 10, 2):\n",
    "    print(i)"
   ]
  },
  {
   "cell_type": "markdown",
   "id": "72b824e9",
   "metadata": {},
   "source": [
    "The \"enumerate\" function is useful for iterating over a list (or any iterable) with an index, as it returns both the index and the value of each item."
   ]
  },
  {
   "cell_type": "code",
   "execution_count": null,
   "id": "bd8a9649",
   "metadata": {},
   "outputs": [],
   "source": [
    "for index, name in enumerate(names):\n",
    "    print(\"Name \"+ str(index) + \": \" + name)"
   ]
  },
  {
   "cell_type": "markdown",
   "id": "17c01fbe",
   "metadata": {},
   "source": [
    "`break` allows you to exit a loop prematurely:"
   ]
  },
  {
   "cell_type": "code",
   "execution_count": null,
   "id": "071f0e22",
   "metadata": {},
   "outputs": [],
   "source": [
    "for index, name in enumerate (names):\n",
    "    print(\"Name \"+ str(index) + \": \" + name)\n",
    "    if name == \"Athos\":\n",
    "        break"
   ]
  },
  {
   "cell_type": "markdown",
   "id": "210f6cb3",
   "metadata": {},
   "source": [
    "Loops in Python are not limited to lists. You can iterate over any iterable object. For example, strings are iterable and can be looped over, where each iteration will return one character from the string."
   ]
  },
  {
   "cell_type": "code",
   "execution_count": null,
   "id": "df1cc2a2",
   "metadata": {},
   "outputs": [],
   "source": [
    "x = \"example\"\n",
    "for letter in x:\n",
    "    print(letter)"
   ]
  },
  {
   "cell_type": "markdown",
   "id": "d4af66e6",
   "metadata": {},
   "source": [
    "The `while` loop is another control structure that repeatedly executes a block of code as long as a specified condition is `True`. The condition is checked before each iteration, and if it evaluates to `False`, the loop is terminated."
   ]
  },
  {
   "cell_type": "code",
   "execution_count": null,
   "id": "e9a6fd4b",
   "metadata": {},
   "outputs": [],
   "source": [
    "x = 1\n",
    "while x < 100:\n",
    "    x = x * 2\n",
    "    print(x)"
   ]
  },
  {
   "cell_type": "markdown",
   "id": "cfeab869",
   "metadata": {},
   "source": [
    "Just like in for loops, you can use the `break` statement in while loops to exit the loop before the condition becomes `False`. You can even construct your while loop to run indefinitely and solely rely on the break statement to exit the loop when a specific condition is met. Be careful with this approach, as it can lead to infinite loops if not handled properly."
   ]
  },
  {
   "cell_type": "code",
   "execution_count": null,
   "id": "82aaec29",
   "metadata": {},
   "outputs": [],
   "source": [
    "x = 1\n",
    "while True:\n",
    "    if x > 100:\n",
    "        break\n",
    "    x = x * 2\n",
    "    print(x)"
   ]
  }
 ],
 "metadata": {
  "kernelspec": {
   "display_name": "Python 3 (ipykernel)",
   "language": "python",
   "name": "python3"
  },
  "language_info": {
   "codemirror_mode": {
    "name": "ipython",
    "version": 3
   },
   "file_extension": ".py",
   "mimetype": "text/x-python",
   "name": "python",
   "nbconvert_exporter": "python",
   "pygments_lexer": "ipython3",
   "version": "3.11.5"
  }
 },
 "nbformat": 4,
 "nbformat_minor": 5
}
